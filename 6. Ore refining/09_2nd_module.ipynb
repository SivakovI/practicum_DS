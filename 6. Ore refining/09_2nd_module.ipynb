{
  "cells": [
    {
      "cell_type": "markdown",
      "metadata": {
        "toc": true,
        "id": "qzIVUw6VX-FN"
      },
      "source": [
        "<h1>Содержание<span class=\"tocSkip\"></span></h1>\n",
        "<div class=\"toc\"><ul class=\"toc-item\"><li><span><a href=\"#Подготовка-данных\" data-toc-modified-id=\"Подготовка-данных-1\"><span class=\"toc-item-num\">1&nbsp;&nbsp;</span>Подготовка данных</a></span><ul class=\"toc-item\"><li><span><a href=\"#Загрузка-данных\" data-toc-modified-id=\"Загрузка-данных-1.1\"><span class=\"toc-item-num\">1.1&nbsp;&nbsp;</span>Загрузка данных</a></span></li><li><span><a href=\"#Эффективность-обогащения\" data-toc-modified-id=\"Эффективность-обогащения-1.2\"><span class=\"toc-item-num\">1.2&nbsp;&nbsp;</span>Эффективность обогащения</a></span></li><li><span><a href=\"#Сравнение-обучающей-и-тестовой-выборок\" data-toc-modified-id=\"Сравнение-обучающей-и-тестовой-выборок-1.3\"><span class=\"toc-item-num\">1.3&nbsp;&nbsp;</span>Сравнение обучающей и тестовой выборок</a></span></li><li><span><a href=\"#Изучение-пропусков\" data-toc-modified-id=\"Изучение-пропусков-1.4\"><span class=\"toc-item-num\">1.4&nbsp;&nbsp;</span>Изучение пропусков</a></span></li><li><span><a href=\"#Подготовка-данных-для-моделей\" data-toc-modified-id=\"Подготовка-данных-для-моделей-1.5\"><span class=\"toc-item-num\">1.5&nbsp;&nbsp;</span>Подготовка данных для моделей</a></span></li></ul></li><li><span><a href=\"#Анализ-данных\" data-toc-modified-id=\"Анализ-данных-2\"><span class=\"toc-item-num\">2&nbsp;&nbsp;</span>Анализ данных</a></span><ul class=\"toc-item\"><li><span><a href=\"#Изучение-концентраций-металлов\" data-toc-modified-id=\"Изучение-концентраций-металлов-2.1\"><span class=\"toc-item-num\">2.1&nbsp;&nbsp;</span>Изучение концентраций металлов</a></span></li><li><span><a href=\"#Изучение-распределения-размера-гранул\" data-toc-modified-id=\"Изучение-распределения-размера-гранул-2.2\"><span class=\"toc-item-num\">2.2&nbsp;&nbsp;</span>Изучение распределения размера гранул</a></span></li><li><span><a href=\"#Изучение-суммарной-концентрации-металлов\" data-toc-modified-id=\"Изучение-суммарной-концентрации-металлов-2.3\"><span class=\"toc-item-num\">2.3&nbsp;&nbsp;</span>Изучение суммарной концентрации металлов</a></span></li></ul></li><li><span><a href=\"#Модель\" data-toc-modified-id=\"Модель-3\"><span class=\"toc-item-num\">3&nbsp;&nbsp;</span>Модель</a></span><ul class=\"toc-item\"><li><span><a href=\"#sMAPE\" data-toc-modified-id=\"sMAPE-3.1\"><span class=\"toc-item-num\">3.1&nbsp;&nbsp;</span>sMAPE</a></span></li><li><span><a href=\"#Линейная-регрессия\" data-toc-modified-id=\"Линейная-регрессия-3.2\"><span class=\"toc-item-num\">3.2&nbsp;&nbsp;</span>Линейная регрессия</a></span></li><li><span><a href=\"#Random-Forest\" data-toc-modified-id=\"Random-Forest-3.3\"><span class=\"toc-item-num\">3.3&nbsp;&nbsp;</span>Random Forest</a></span></li><li><span><a href=\"#CatBoost\" data-toc-modified-id=\"CatBoost-3.4\"><span class=\"toc-item-num\">3.4&nbsp;&nbsp;</span>CatBoost</a></span></li><li><span><a href=\"#Итоговые-результаты\" data-toc-modified-id=\"Итоговые-результаты-3.5\"><span class=\"toc-item-num\">3.5&nbsp;&nbsp;</span>Итоговые результаты</a></span></li><li><span><a href=\"#Sanity-check\" data-toc-modified-id=\"Sanity-check-3.6\"><span class=\"toc-item-num\">3.6&nbsp;&nbsp;</span>Sanity check</a></span></li></ul></li><li><span><a href=\"#Вывод\" data-toc-modified-id=\"Вывод-4\"><span class=\"toc-item-num\">4&nbsp;&nbsp;</span>Вывод</a></span></li><li><span><a href=\"#Чек-лист-готовности-проекта\" data-toc-modified-id=\"Чек-лист-готовности-проекта-5\"><span class=\"toc-item-num\">5&nbsp;&nbsp;</span>Чек-лист готовности проекта</a></span></li></ul></div>"
      ]
    },
    {
      "cell_type": "markdown",
      "metadata": {
        "id": "EVylhpRqX-FO"
      },
      "source": [
        "# Восстановление золота из руды"
      ]
    },
    {
      "cell_type": "markdown",
      "metadata": {
        "id": "QqlileaUX-FP"
      },
      "source": [
        "Подготовьте прототип модели машинного обучения для «Цифры». Компания разрабатывает решения для эффективной работы промышленных предприятий.\n",
        "\n",
        "Модель должна предсказать коэффициент восстановления золота из золотосодержащей руды. Используйте данные с параметрами добычи и очистки.\n",
        "\n",
        "Модель поможет оптимизировать производство, чтобы не запускать предприятие с убыточными характеристиками.\n",
        "\n",
        "Вам нужно:\n",
        "\n",
        "1. Подготовить данные;\n",
        "2. Провести исследовательский анализ данных;\n",
        "3. Построить и обучить модель."
      ]
    },
    {
      "cell_type": "code",
      "execution_count": 1,
      "metadata": {
        "collapsed": true,
        "id": "RD3W0Oj_X-FP"
      },
      "outputs": [],
      "source": [
        "!pip install tune_sklearn -q"
      ]
    },
    {
      "cell_type": "code",
      "source": [
        "!pip install catboost -q"
      ],
      "metadata": {
        "colab": {
          "base_uri": "https://localhost:8080/"
        },
        "id": "o2O8p957Yfu8",
        "outputId": "a5498301-84b2-4d43-9550-93796538637d"
      },
      "execution_count": 2,
      "outputs": [
        {
          "output_type": "stream",
          "name": "stdout",
          "text": [
            "\u001b[2K     \u001b[90m━━━━━━━━━━━━━━━━━━━━━━━━━━━━━━━━━━━━━━━━\u001b[0m \u001b[32m98.7/98.7 MB\u001b[0m \u001b[31m8.7 MB/s\u001b[0m eta \u001b[36m0:00:00\u001b[0m\n",
            "\u001b[?25h"
          ]
        }
      ]
    },
    {
      "cell_type": "code",
      "execution_count": 3,
      "metadata": {
        "id": "jj1-J4HrX-FQ"
      },
      "outputs": [],
      "source": [
        "#miscellaneous\n",
        "import pandas as pd\n",
        "import matplotlib.pyplot as plt\n",
        "#preprocessing\n",
        "from sklearn.impute import SimpleImputer\n",
        "from sklearn.pipeline import Pipeline\n",
        "from sklearn.preprocessing import StandardScaler\n",
        "#training and evaluation\n",
        "from sklearn.model_selection import train_test_split, cross_val_score, GridSearchCV\n",
        "from sklearn.metrics import make_scorer, mean_absolute_error\n",
        "from catboost import cv, Pool\n",
        "from tune_sklearn import TuneSearchCV\n",
        "from ray import tune\n",
        "#models\n",
        "from sklearn.linear_model import LinearRegression\n",
        "from sklearn.svm import SVR\n",
        "from catboost import CatBoostRegressor\n",
        "from sklearn.ensemble import RandomForestRegressor, StackingRegressor\n",
        "from sklearn.dummy import DummyRegressor"
      ]
    },
    {
      "cell_type": "markdown",
      "metadata": {
        "id": "ocBe2mr0X-FR"
      },
      "source": [
        "## Подготовка данных"
      ]
    },
    {
      "cell_type": "markdown",
      "metadata": {
        "id": "jtn_idHnX-FR"
      },
      "source": [
        "### Загрузка данных"
      ]
    },
    {
      "cell_type": "code",
      "execution_count": 4,
      "metadata": {
        "id": "jlFnFzXFX-FS"
      },
      "outputs": [],
      "source": [
        "train_df = pd.read_csv('https://code.s3.yandex.net/datasets/gold_industry_train.csv')\n",
        "test_df = pd.read_csv('https://code.s3.yandex.net/datasets/gold_industry_test.csv')\n",
        "source_df = pd.read_csv('https://code.s3.yandex.net/datasets/gold_industry_full.csv')"
      ]
    },
    {
      "cell_type": "code",
      "execution_count": 5,
      "metadata": {
        "colab": {
          "base_uri": "https://localhost:8080/",
          "height": 429
        },
        "id": "82saSsqCX-FS",
        "outputId": "2dd47381-c254-4f6c-f177-a0325b66de42"
      },
      "outputs": [
        {
          "output_type": "execute_result",
          "data": {
            "text/plain": [
              "                  date  rougher.input.feed_au  rougher.input.feed_ag  \\\n",
              "0  2016-01-15 00:00:00               6.486150               6.100378   \n",
              "1  2016-01-15 01:00:00               6.478583               6.161113   \n",
              "2  2016-01-15 02:00:00               6.362222               6.116455   \n",
              "3  2016-01-15 03:00:00               6.118189               6.043309   \n",
              "4  2016-01-15 04:00:00               5.663707               6.060915   \n",
              "\n",
              "   rougher.input.feed_pb  rougher.input.feed_sol  rougher.input.feed_rate  \\\n",
              "0               2.284912               36.808594               523.546326   \n",
              "1               2.266033               35.753385               525.290581   \n",
              "2               2.159622               35.971630               530.026610   \n",
              "3               2.037807               36.862241               542.590390   \n",
              "4               1.786875               34.347666               540.531893   \n",
              "\n",
              "   rougher.input.feed_size  rougher.input.floatbank10_sulfate  \\\n",
              "0                55.486599                          11.986616   \n",
              "1                57.278666                          11.971193   \n",
              "2                57.510649                          11.920603   \n",
              "3                57.792734                          11.630094   \n",
              "4                56.047189                          10.957755   \n",
              "\n",
              "   rougher.input.floatbank10_xanthate  rougher.state.floatbank10_a_air  ...  \\\n",
              "0                            6.007990                       999.706909  ...   \n",
              "1                            6.005766                      1000.286398  ...   \n",
              "2                            6.197377                       999.719565  ...   \n",
              "3                            6.203177                       999.814770  ...   \n",
              "4                            6.198826                       999.678690  ...   \n",
              "\n",
              "   secondary_cleaner.output.tail_sol  final.output.concentrate_au  \\\n",
              "0                           8.764648                    42.192020   \n",
              "1                           9.001494                    42.701629   \n",
              "2                           8.842896                    42.657501   \n",
              "3                           9.122857                    42.689819   \n",
              "4                           8.871028                    42.774141   \n",
              "\n",
              "   final.output.concentrate_ag  final.output.concentrate_pb  \\\n",
              "0                     6.055403                     9.889648   \n",
              "1                     6.029369                     9.968944   \n",
              "2                     6.055926                    10.213995   \n",
              "3                     6.047977                     9.977019   \n",
              "4                     6.148599                    10.142511   \n",
              "\n",
              "   final.output.concentrate_sol  final.output.recovery  final.output.tail_au  \\\n",
              "0                      5.507324              70.541216              2.143149   \n",
              "1                      5.257781              69.266198              2.224930   \n",
              "2                      5.383759              68.116445              2.257889   \n",
              "3                      4.858634              68.347543              2.146849   \n",
              "4                      4.939416              66.927016              2.055292   \n",
              "\n",
              "   final.output.tail_ag  final.output.tail_pb  final.output.tail_sol  \n",
              "0             10.411962              0.895447              16.904297  \n",
              "1             10.462676              0.927452              16.634514  \n",
              "2             10.507046              0.953716              16.208849  \n",
              "3             10.422762              0.883763              16.532835  \n",
              "4             10.360302              0.792826              16.525686  \n",
              "\n",
              "[5 rows x 87 columns]"
            ],
            "text/html": [
              "\n",
              "  <div id=\"df-35dc5a9c-ca9b-49a1-8d4e-86e3c251f8b9\" class=\"colab-df-container\">\n",
              "    <div>\n",
              "<style scoped>\n",
              "    .dataframe tbody tr th:only-of-type {\n",
              "        vertical-align: middle;\n",
              "    }\n",
              "\n",
              "    .dataframe tbody tr th {\n",
              "        vertical-align: top;\n",
              "    }\n",
              "\n",
              "    .dataframe thead th {\n",
              "        text-align: right;\n",
              "    }\n",
              "</style>\n",
              "<table border=\"1\" class=\"dataframe\">\n",
              "  <thead>\n",
              "    <tr style=\"text-align: right;\">\n",
              "      <th></th>\n",
              "      <th>date</th>\n",
              "      <th>rougher.input.feed_au</th>\n",
              "      <th>rougher.input.feed_ag</th>\n",
              "      <th>rougher.input.feed_pb</th>\n",
              "      <th>rougher.input.feed_sol</th>\n",
              "      <th>rougher.input.feed_rate</th>\n",
              "      <th>rougher.input.feed_size</th>\n",
              "      <th>rougher.input.floatbank10_sulfate</th>\n",
              "      <th>rougher.input.floatbank10_xanthate</th>\n",
              "      <th>rougher.state.floatbank10_a_air</th>\n",
              "      <th>...</th>\n",
              "      <th>secondary_cleaner.output.tail_sol</th>\n",
              "      <th>final.output.concentrate_au</th>\n",
              "      <th>final.output.concentrate_ag</th>\n",
              "      <th>final.output.concentrate_pb</th>\n",
              "      <th>final.output.concentrate_sol</th>\n",
              "      <th>final.output.recovery</th>\n",
              "      <th>final.output.tail_au</th>\n",
              "      <th>final.output.tail_ag</th>\n",
              "      <th>final.output.tail_pb</th>\n",
              "      <th>final.output.tail_sol</th>\n",
              "    </tr>\n",
              "  </thead>\n",
              "  <tbody>\n",
              "    <tr>\n",
              "      <th>0</th>\n",
              "      <td>2016-01-15 00:00:00</td>\n",
              "      <td>6.486150</td>\n",
              "      <td>6.100378</td>\n",
              "      <td>2.284912</td>\n",
              "      <td>36.808594</td>\n",
              "      <td>523.546326</td>\n",
              "      <td>55.486599</td>\n",
              "      <td>11.986616</td>\n",
              "      <td>6.007990</td>\n",
              "      <td>999.706909</td>\n",
              "      <td>...</td>\n",
              "      <td>8.764648</td>\n",
              "      <td>42.192020</td>\n",
              "      <td>6.055403</td>\n",
              "      <td>9.889648</td>\n",
              "      <td>5.507324</td>\n",
              "      <td>70.541216</td>\n",
              "      <td>2.143149</td>\n",
              "      <td>10.411962</td>\n",
              "      <td>0.895447</td>\n",
              "      <td>16.904297</td>\n",
              "    </tr>\n",
              "    <tr>\n",
              "      <th>1</th>\n",
              "      <td>2016-01-15 01:00:00</td>\n",
              "      <td>6.478583</td>\n",
              "      <td>6.161113</td>\n",
              "      <td>2.266033</td>\n",
              "      <td>35.753385</td>\n",
              "      <td>525.290581</td>\n",
              "      <td>57.278666</td>\n",
              "      <td>11.971193</td>\n",
              "      <td>6.005766</td>\n",
              "      <td>1000.286398</td>\n",
              "      <td>...</td>\n",
              "      <td>9.001494</td>\n",
              "      <td>42.701629</td>\n",
              "      <td>6.029369</td>\n",
              "      <td>9.968944</td>\n",
              "      <td>5.257781</td>\n",
              "      <td>69.266198</td>\n",
              "      <td>2.224930</td>\n",
              "      <td>10.462676</td>\n",
              "      <td>0.927452</td>\n",
              "      <td>16.634514</td>\n",
              "    </tr>\n",
              "    <tr>\n",
              "      <th>2</th>\n",
              "      <td>2016-01-15 02:00:00</td>\n",
              "      <td>6.362222</td>\n",
              "      <td>6.116455</td>\n",
              "      <td>2.159622</td>\n",
              "      <td>35.971630</td>\n",
              "      <td>530.026610</td>\n",
              "      <td>57.510649</td>\n",
              "      <td>11.920603</td>\n",
              "      <td>6.197377</td>\n",
              "      <td>999.719565</td>\n",
              "      <td>...</td>\n",
              "      <td>8.842896</td>\n",
              "      <td>42.657501</td>\n",
              "      <td>6.055926</td>\n",
              "      <td>10.213995</td>\n",
              "      <td>5.383759</td>\n",
              "      <td>68.116445</td>\n",
              "      <td>2.257889</td>\n",
              "      <td>10.507046</td>\n",
              "      <td>0.953716</td>\n",
              "      <td>16.208849</td>\n",
              "    </tr>\n",
              "    <tr>\n",
              "      <th>3</th>\n",
              "      <td>2016-01-15 03:00:00</td>\n",
              "      <td>6.118189</td>\n",
              "      <td>6.043309</td>\n",
              "      <td>2.037807</td>\n",
              "      <td>36.862241</td>\n",
              "      <td>542.590390</td>\n",
              "      <td>57.792734</td>\n",
              "      <td>11.630094</td>\n",
              "      <td>6.203177</td>\n",
              "      <td>999.814770</td>\n",
              "      <td>...</td>\n",
              "      <td>9.122857</td>\n",
              "      <td>42.689819</td>\n",
              "      <td>6.047977</td>\n",
              "      <td>9.977019</td>\n",
              "      <td>4.858634</td>\n",
              "      <td>68.347543</td>\n",
              "      <td>2.146849</td>\n",
              "      <td>10.422762</td>\n",
              "      <td>0.883763</td>\n",
              "      <td>16.532835</td>\n",
              "    </tr>\n",
              "    <tr>\n",
              "      <th>4</th>\n",
              "      <td>2016-01-15 04:00:00</td>\n",
              "      <td>5.663707</td>\n",
              "      <td>6.060915</td>\n",
              "      <td>1.786875</td>\n",
              "      <td>34.347666</td>\n",
              "      <td>540.531893</td>\n",
              "      <td>56.047189</td>\n",
              "      <td>10.957755</td>\n",
              "      <td>6.198826</td>\n",
              "      <td>999.678690</td>\n",
              "      <td>...</td>\n",
              "      <td>8.871028</td>\n",
              "      <td>42.774141</td>\n",
              "      <td>6.148599</td>\n",
              "      <td>10.142511</td>\n",
              "      <td>4.939416</td>\n",
              "      <td>66.927016</td>\n",
              "      <td>2.055292</td>\n",
              "      <td>10.360302</td>\n",
              "      <td>0.792826</td>\n",
              "      <td>16.525686</td>\n",
              "    </tr>\n",
              "  </tbody>\n",
              "</table>\n",
              "<p>5 rows × 87 columns</p>\n",
              "</div>\n",
              "    <div class=\"colab-df-buttons\">\n",
              "\n",
              "  <div class=\"colab-df-container\">\n",
              "    <button class=\"colab-df-convert\" onclick=\"convertToInteractive('df-35dc5a9c-ca9b-49a1-8d4e-86e3c251f8b9')\"\n",
              "            title=\"Convert this dataframe to an interactive table.\"\n",
              "            style=\"display:none;\">\n",
              "\n",
              "  <svg xmlns=\"http://www.w3.org/2000/svg\" height=\"24px\" viewBox=\"0 -960 960 960\">\n",
              "    <path d=\"M120-120v-720h720v720H120Zm60-500h600v-160H180v160Zm220 220h160v-160H400v160Zm0 220h160v-160H400v160ZM180-400h160v-160H180v160Zm440 0h160v-160H620v160ZM180-180h160v-160H180v160Zm440 0h160v-160H620v160Z\"/>\n",
              "  </svg>\n",
              "    </button>\n",
              "\n",
              "  <style>\n",
              "    .colab-df-container {\n",
              "      display:flex;\n",
              "      gap: 12px;\n",
              "    }\n",
              "\n",
              "    .colab-df-convert {\n",
              "      background-color: #E8F0FE;\n",
              "      border: none;\n",
              "      border-radius: 50%;\n",
              "      cursor: pointer;\n",
              "      display: none;\n",
              "      fill: #1967D2;\n",
              "      height: 32px;\n",
              "      padding: 0 0 0 0;\n",
              "      width: 32px;\n",
              "    }\n",
              "\n",
              "    .colab-df-convert:hover {\n",
              "      background-color: #E2EBFA;\n",
              "      box-shadow: 0px 1px 2px rgba(60, 64, 67, 0.3), 0px 1px 3px 1px rgba(60, 64, 67, 0.15);\n",
              "      fill: #174EA6;\n",
              "    }\n",
              "\n",
              "    .colab-df-buttons div {\n",
              "      margin-bottom: 4px;\n",
              "    }\n",
              "\n",
              "    [theme=dark] .colab-df-convert {\n",
              "      background-color: #3B4455;\n",
              "      fill: #D2E3FC;\n",
              "    }\n",
              "\n",
              "    [theme=dark] .colab-df-convert:hover {\n",
              "      background-color: #434B5C;\n",
              "      box-shadow: 0px 1px 3px 1px rgba(0, 0, 0, 0.15);\n",
              "      filter: drop-shadow(0px 1px 2px rgba(0, 0, 0, 0.3));\n",
              "      fill: #FFFFFF;\n",
              "    }\n",
              "  </style>\n",
              "\n",
              "    <script>\n",
              "      const buttonEl =\n",
              "        document.querySelector('#df-35dc5a9c-ca9b-49a1-8d4e-86e3c251f8b9 button.colab-df-convert');\n",
              "      buttonEl.style.display =\n",
              "        google.colab.kernel.accessAllowed ? 'block' : 'none';\n",
              "\n",
              "      async function convertToInteractive(key) {\n",
              "        const element = document.querySelector('#df-35dc5a9c-ca9b-49a1-8d4e-86e3c251f8b9');\n",
              "        const dataTable =\n",
              "          await google.colab.kernel.invokeFunction('convertToInteractive',\n",
              "                                                    [key], {});\n",
              "        if (!dataTable) return;\n",
              "\n",
              "        const docLinkHtml = 'Like what you see? Visit the ' +\n",
              "          '<a target=\"_blank\" href=https://colab.research.google.com/notebooks/data_table.ipynb>data table notebook</a>'\n",
              "          + ' to learn more about interactive tables.';\n",
              "        element.innerHTML = '';\n",
              "        dataTable['output_type'] = 'display_data';\n",
              "        await google.colab.output.renderOutput(dataTable, element);\n",
              "        const docLink = document.createElement('div');\n",
              "        docLink.innerHTML = docLinkHtml;\n",
              "        element.appendChild(docLink);\n",
              "      }\n",
              "    </script>\n",
              "  </div>\n",
              "\n",
              "\n",
              "<div id=\"df-a6132462-b6f4-4c7a-8e0d-4d1520d00175\">\n",
              "  <button class=\"colab-df-quickchart\" onclick=\"quickchart('df-a6132462-b6f4-4c7a-8e0d-4d1520d00175')\"\n",
              "            title=\"Suggest charts\"\n",
              "            style=\"display:none;\">\n",
              "\n",
              "<svg xmlns=\"http://www.w3.org/2000/svg\" height=\"24px\"viewBox=\"0 0 24 24\"\n",
              "     width=\"24px\">\n",
              "    <g>\n",
              "        <path d=\"M19 3H5c-1.1 0-2 .9-2 2v14c0 1.1.9 2 2 2h14c1.1 0 2-.9 2-2V5c0-1.1-.9-2-2-2zM9 17H7v-7h2v7zm4 0h-2V7h2v10zm4 0h-2v-4h2v4z\"/>\n",
              "    </g>\n",
              "</svg>\n",
              "  </button>\n",
              "\n",
              "<style>\n",
              "  .colab-df-quickchart {\n",
              "      --bg-color: #E8F0FE;\n",
              "      --fill-color: #1967D2;\n",
              "      --hover-bg-color: #E2EBFA;\n",
              "      --hover-fill-color: #174EA6;\n",
              "      --disabled-fill-color: #AAA;\n",
              "      --disabled-bg-color: #DDD;\n",
              "  }\n",
              "\n",
              "  [theme=dark] .colab-df-quickchart {\n",
              "      --bg-color: #3B4455;\n",
              "      --fill-color: #D2E3FC;\n",
              "      --hover-bg-color: #434B5C;\n",
              "      --hover-fill-color: #FFFFFF;\n",
              "      --disabled-bg-color: #3B4455;\n",
              "      --disabled-fill-color: #666;\n",
              "  }\n",
              "\n",
              "  .colab-df-quickchart {\n",
              "    background-color: var(--bg-color);\n",
              "    border: none;\n",
              "    border-radius: 50%;\n",
              "    cursor: pointer;\n",
              "    display: none;\n",
              "    fill: var(--fill-color);\n",
              "    height: 32px;\n",
              "    padding: 0;\n",
              "    width: 32px;\n",
              "  }\n",
              "\n",
              "  .colab-df-quickchart:hover {\n",
              "    background-color: var(--hover-bg-color);\n",
              "    box-shadow: 0 1px 2px rgba(60, 64, 67, 0.3), 0 1px 3px 1px rgba(60, 64, 67, 0.15);\n",
              "    fill: var(--button-hover-fill-color);\n",
              "  }\n",
              "\n",
              "  .colab-df-quickchart-complete:disabled,\n",
              "  .colab-df-quickchart-complete:disabled:hover {\n",
              "    background-color: var(--disabled-bg-color);\n",
              "    fill: var(--disabled-fill-color);\n",
              "    box-shadow: none;\n",
              "  }\n",
              "\n",
              "  .colab-df-spinner {\n",
              "    border: 2px solid var(--fill-color);\n",
              "    border-color: transparent;\n",
              "    border-bottom-color: var(--fill-color);\n",
              "    animation:\n",
              "      spin 1s steps(1) infinite;\n",
              "  }\n",
              "\n",
              "  @keyframes spin {\n",
              "    0% {\n",
              "      border-color: transparent;\n",
              "      border-bottom-color: var(--fill-color);\n",
              "      border-left-color: var(--fill-color);\n",
              "    }\n",
              "    20% {\n",
              "      border-color: transparent;\n",
              "      border-left-color: var(--fill-color);\n",
              "      border-top-color: var(--fill-color);\n",
              "    }\n",
              "    30% {\n",
              "      border-color: transparent;\n",
              "      border-left-color: var(--fill-color);\n",
              "      border-top-color: var(--fill-color);\n",
              "      border-right-color: var(--fill-color);\n",
              "    }\n",
              "    40% {\n",
              "      border-color: transparent;\n",
              "      border-right-color: var(--fill-color);\n",
              "      border-top-color: var(--fill-color);\n",
              "    }\n",
              "    60% {\n",
              "      border-color: transparent;\n",
              "      border-right-color: var(--fill-color);\n",
              "    }\n",
              "    80% {\n",
              "      border-color: transparent;\n",
              "      border-right-color: var(--fill-color);\n",
              "      border-bottom-color: var(--fill-color);\n",
              "    }\n",
              "    90% {\n",
              "      border-color: transparent;\n",
              "      border-bottom-color: var(--fill-color);\n",
              "    }\n",
              "  }\n",
              "</style>\n",
              "\n",
              "  <script>\n",
              "    async function quickchart(key) {\n",
              "      const quickchartButtonEl =\n",
              "        document.querySelector('#' + key + ' button');\n",
              "      quickchartButtonEl.disabled = true;  // To prevent multiple clicks.\n",
              "      quickchartButtonEl.classList.add('colab-df-spinner');\n",
              "      try {\n",
              "        const charts = await google.colab.kernel.invokeFunction(\n",
              "            'suggestCharts', [key], {});\n",
              "      } catch (error) {\n",
              "        console.error('Error during call to suggestCharts:', error);\n",
              "      }\n",
              "      quickchartButtonEl.classList.remove('colab-df-spinner');\n",
              "      quickchartButtonEl.classList.add('colab-df-quickchart-complete');\n",
              "    }\n",
              "    (() => {\n",
              "      let quickchartButtonEl =\n",
              "        document.querySelector('#df-a6132462-b6f4-4c7a-8e0d-4d1520d00175 button');\n",
              "      quickchartButtonEl.style.display =\n",
              "        google.colab.kernel.accessAllowed ? 'block' : 'none';\n",
              "    })();\n",
              "  </script>\n",
              "</div>\n",
              "    </div>\n",
              "  </div>\n"
            ]
          },
          "metadata": {},
          "execution_count": 5
        }
      ],
      "source": [
        "train_df.head()"
      ]
    },
    {
      "cell_type": "code",
      "execution_count": 6,
      "metadata": {
        "collapsed": true,
        "colab": {
          "base_uri": "https://localhost:8080/"
        },
        "id": "U1OPsHxIX-FS",
        "outputId": "2baf63bc-af5a-4a7f-bd09-5741ae720312"
      },
      "outputs": [
        {
          "output_type": "stream",
          "name": "stdout",
          "text": [
            "<class 'pandas.core.frame.DataFrame'>\n",
            "RangeIndex: 14579 entries, 0 to 14578\n",
            "Data columns (total 87 columns):\n",
            " #   Column                                              Non-Null Count  Dtype  \n",
            "---  ------                                              --------------  -----  \n",
            " 0   date                                                14579 non-null  object \n",
            " 1   rougher.input.feed_au                               14579 non-null  float64\n",
            " 2   rougher.input.feed_ag                               14579 non-null  float64\n",
            " 3   rougher.input.feed_pb                               14507 non-null  float64\n",
            " 4   rougher.input.feed_sol                              14502 non-null  float64\n",
            " 5   rougher.input.feed_rate                             14572 non-null  float64\n",
            " 6   rougher.input.feed_size                             14478 non-null  float64\n",
            " 7   rougher.input.floatbank10_sulfate                   14548 non-null  float64\n",
            " 8   rougher.input.floatbank10_xanthate                  14572 non-null  float64\n",
            " 9   rougher.state.floatbank10_a_air                     14579 non-null  float64\n",
            " 10  rougher.state.floatbank10_a_level                   14579 non-null  float64\n",
            " 11  rougher.state.floatbank10_b_air                     14579 non-null  float64\n",
            " 12  rougher.state.floatbank10_b_level                   14579 non-null  float64\n",
            " 13  rougher.state.floatbank10_c_air                     14579 non-null  float64\n",
            " 14  rougher.state.floatbank10_c_level                   14579 non-null  float64\n",
            " 15  rougher.state.floatbank10_d_air                     14579 non-null  float64\n",
            " 16  rougher.state.floatbank10_d_level                   14579 non-null  float64\n",
            " 17  rougher.state.floatbank10_e_air                     14150 non-null  float64\n",
            " 18  rougher.state.floatbank10_e_level                   14579 non-null  float64\n",
            " 19  rougher.state.floatbank10_f_air                     14579 non-null  float64\n",
            " 20  rougher.state.floatbank10_f_level                   14579 non-null  float64\n",
            " 21  rougher.input.floatbank11_sulfate                   14543 non-null  float64\n",
            " 22  rougher.input.floatbank11_xanthate                  14172 non-null  float64\n",
            " 23  rougher.calculation.sulfate_to_au_concentrate       14578 non-null  float64\n",
            " 24  rougher.calculation.floatbank10_sulfate_to_au_feed  14578 non-null  float64\n",
            " 25  rougher.calculation.floatbank11_sulfate_to_au_feed  14578 non-null  float64\n",
            " 26  rougher.calculation.au_pb_ratio                     14579 non-null  float64\n",
            " 27  rougher.output.concentrate_au                       14579 non-null  float64\n",
            " 28  rougher.output.concentrate_ag                       14579 non-null  float64\n",
            " 29  rougher.output.concentrate_pb                       14579 non-null  float64\n",
            " 30  rougher.output.concentrate_sol                      14561 non-null  float64\n",
            " 31  rougher.output.recovery                             14579 non-null  float64\n",
            " 32  rougher.output.tail_au                              14579 non-null  float64\n",
            " 33  rougher.output.tail_ag                              14578 non-null  float64\n",
            " 34  rougher.output.tail_pb                              14579 non-null  float64\n",
            " 35  rougher.output.tail_sol                             14579 non-null  float64\n",
            " 36  primary_cleaner.input.sulfate                       14556 non-null  float64\n",
            " 37  primary_cleaner.input.depressant                    14551 non-null  float64\n",
            " 38  primary_cleaner.input.feed_size                     14579 non-null  float64\n",
            " 39  primary_cleaner.input.xanthate                      14518 non-null  float64\n",
            " 40  primary_cleaner.state.floatbank8_a_air              14576 non-null  float64\n",
            " 41  primary_cleaner.state.floatbank8_a_level            14579 non-null  float64\n",
            " 42  primary_cleaner.state.floatbank8_b_air              14576 non-null  float64\n",
            " 43  primary_cleaner.state.floatbank8_b_level            14579 non-null  float64\n",
            " 44  primary_cleaner.state.floatbank8_c_air              14579 non-null  float64\n",
            " 45  primary_cleaner.state.floatbank8_c_level            14579 non-null  float64\n",
            " 46  primary_cleaner.state.floatbank8_d_air              14578 non-null  float64\n",
            " 47  primary_cleaner.state.floatbank8_d_level            14579 non-null  float64\n",
            " 48  primary_cleaner.output.concentrate_au               14579 non-null  float64\n",
            " 49  primary_cleaner.output.concentrate_ag               14579 non-null  float64\n",
            " 50  primary_cleaner.output.concentrate_pb               14491 non-null  float64\n",
            " 51  primary_cleaner.output.concentrate_sol              14314 non-null  float64\n",
            " 52  primary_cleaner.output.tail_au                      14579 non-null  float64\n",
            " 53  primary_cleaner.output.tail_ag                      14575 non-null  float64\n",
            " 54  primary_cleaner.output.tail_pb                      14573 non-null  float64\n",
            " 55  primary_cleaner.output.tail_sol                     14534 non-null  float64\n",
            " 56  secondary_cleaner.state.floatbank2_a_air            14485 non-null  float64\n",
            " 57  secondary_cleaner.state.floatbank2_a_level          14579 non-null  float64\n",
            " 58  secondary_cleaner.state.floatbank2_b_air            14557 non-null  float64\n",
            " 59  secondary_cleaner.state.floatbank2_b_level          14579 non-null  float64\n",
            " 60  secondary_cleaner.state.floatbank3_a_air            14567 non-null  float64\n",
            " 61  secondary_cleaner.state.floatbank3_a_level          14579 non-null  float64\n",
            " 62  secondary_cleaner.state.floatbank3_b_air            14579 non-null  float64\n",
            " 63  secondary_cleaner.state.floatbank3_b_level          14579 non-null  float64\n",
            " 64  secondary_cleaner.state.floatbank4_a_air            14574 non-null  float64\n",
            " 65  secondary_cleaner.state.floatbank4_a_level          14579 non-null  float64\n",
            " 66  secondary_cleaner.state.floatbank4_b_air            14579 non-null  float64\n",
            " 67  secondary_cleaner.state.floatbank4_b_level          14579 non-null  float64\n",
            " 68  secondary_cleaner.state.floatbank5_a_air            14579 non-null  float64\n",
            " 69  secondary_cleaner.state.floatbank5_a_level          14579 non-null  float64\n",
            " 70  secondary_cleaner.state.floatbank5_b_air            14579 non-null  float64\n",
            " 71  secondary_cleaner.state.floatbank5_b_level          14579 non-null  float64\n",
            " 72  secondary_cleaner.state.floatbank6_a_air            14578 non-null  float64\n",
            " 73  secondary_cleaner.state.floatbank6_a_level          14579 non-null  float64\n",
            " 74  secondary_cleaner.output.tail_au                    14579 non-null  float64\n",
            " 75  secondary_cleaner.output.tail_ag                    14578 non-null  float64\n",
            " 76  secondary_cleaner.output.tail_pb                    14575 non-null  float64\n",
            " 77  secondary_cleaner.output.tail_sol                   13659 non-null  float64\n",
            " 78  final.output.concentrate_au                         14579 non-null  float64\n",
            " 79  final.output.concentrate_ag                         14578 non-null  float64\n",
            " 80  final.output.concentrate_pb                         14578 non-null  float64\n",
            " 81  final.output.concentrate_sol                        14387 non-null  float64\n",
            " 82  final.output.recovery                               14579 non-null  float64\n",
            " 83  final.output.tail_au                                14579 non-null  float64\n",
            " 84  final.output.tail_ag                                14578 non-null  float64\n",
            " 85  final.output.tail_pb                                14504 non-null  float64\n",
            " 86  final.output.tail_sol                               14574 non-null  float64\n",
            "dtypes: float64(86), object(1)\n",
            "memory usage: 9.7+ MB\n"
          ]
        }
      ],
      "source": [
        "train_df.info()"
      ]
    },
    {
      "cell_type": "code",
      "execution_count": 7,
      "metadata": {
        "colab": {
          "base_uri": "https://localhost:8080/",
          "height": 429
        },
        "id": "C-MJDI2TX-FT",
        "outputId": "cf6b2930-d375-4684-d836-333cdf8db568"
      },
      "outputs": [
        {
          "output_type": "execute_result",
          "data": {
            "text/plain": [
              "                  date  rougher.input.feed_au  rougher.input.feed_ag  \\\n",
              "0  2017-12-09 14:59:59               4.365491               6.158718   \n",
              "1  2017-12-09 15:59:59               4.362781               6.048130   \n",
              "2  2017-12-09 16:59:59               5.081681               6.082745   \n",
              "3  2017-12-09 17:59:59               5.145949               6.084374   \n",
              "4  2017-12-09 18:59:59               5.735249               6.165220   \n",
              "\n",
              "   rougher.input.feed_pb  rougher.input.feed_sol  rougher.input.feed_rate  \\\n",
              "0               3.875727               39.135119               555.820208   \n",
              "1               3.902537               39.713906               544.731687   \n",
              "2               4.564078               37.208683               558.155110   \n",
              "3               4.768124               36.808874               539.713765   \n",
              "4               4.512346               37.810642               558.713584   \n",
              "\n",
              "   rougher.input.feed_size  rougher.input.floatbank10_sulfate  \\\n",
              "0                94.544358                           6.146982   \n",
              "1               123.742430                           6.210119   \n",
              "2                82.610855                           7.363824   \n",
              "3                77.984784                           6.927072   \n",
              "4                86.434874                           7.823471   \n",
              "\n",
              "   rougher.input.floatbank10_xanthate  rougher.state.floatbank10_a_air  ...  \\\n",
              "0                            9.308612                      1196.238112  ...   \n",
              "1                            9.297709                      1201.904177  ...   \n",
              "2                            9.003562                      1200.826926  ...   \n",
              "3                            8.955597                      1199.292489  ...   \n",
              "4                            7.490356                      1198.005449  ...   \n",
              "\n",
              "   secondary_cleaner.state.floatbank4_a_air  \\\n",
              "0                                 23.018622   \n",
              "1                                 23.024963   \n",
              "2                                 22.993827   \n",
              "3                                 23.032807   \n",
              "4                                 23.001911   \n",
              "\n",
              "   secondary_cleaner.state.floatbank4_a_level  \\\n",
              "0                                 -500.492702   \n",
              "1                                 -501.153409   \n",
              "2                                 -501.559663   \n",
              "3                                 -501.287889   \n",
              "4                                 -499.947838   \n",
              "\n",
              "   secondary_cleaner.state.floatbank4_b_air  \\\n",
              "0                                 20.020205   \n",
              "1                                 20.054122   \n",
              "2                                 20.029144   \n",
              "3                                 19.977466   \n",
              "4                                 20.023735   \n",
              "\n",
              "   secondary_cleaner.state.floatbank4_b_level  \\\n",
              "0                                 -500.220296   \n",
              "1                                 -500.314711   \n",
              "2                                 -500.000662   \n",
              "3                                 -500.159903   \n",
              "4                                 -499.713680   \n",
              "\n",
              "   secondary_cleaner.state.floatbank5_a_air  \\\n",
              "0                                 17.963512   \n",
              "1                                 17.979515   \n",
              "2                                 18.012723   \n",
              "3                                 17.980463   \n",
              "4                                 17.990955   \n",
              "\n",
              "   secondary_cleaner.state.floatbank5_a_level  \\\n",
              "0                                 -499.939490   \n",
              "1                                 -499.272871   \n",
              "2                                 -500.024764   \n",
              "3                                 -500.504602   \n",
              "4                                 -500.334769   \n",
              "\n",
              "   secondary_cleaner.state.floatbank5_b_air  \\\n",
              "0                                 12.990306   \n",
              "1                                 12.992404   \n",
              "2                                 13.016445   \n",
              "3                                 12.949071   \n",
              "4                                 13.007523   \n",
              "\n",
              "   secondary_cleaner.state.floatbank5_b_level  \\\n",
              "0                                 -500.080993   \n",
              "1                                 -499.976268   \n",
              "2                                 -500.058432   \n",
              "3                                 -500.009937   \n",
              "4                                 -499.968459   \n",
              "\n",
              "   secondary_cleaner.state.floatbank6_a_air  \\\n",
              "0                                 19.990336   \n",
              "1                                 20.013986   \n",
              "2                                 19.973767   \n",
              "3                                 20.010332   \n",
              "4                                 19.995999   \n",
              "\n",
              "   secondary_cleaner.state.floatbank6_a_level  \n",
              "0                                 -499.191575  \n",
              "1                                 -500.625471  \n",
              "2                                 -501.394155  \n",
              "3                                 -508.337973  \n",
              "4                                 -499.788805  \n",
              "\n",
              "[5 rows x 53 columns]"
            ],
            "text/html": [
              "\n",
              "  <div id=\"df-173c7b64-0444-4ce5-855b-3e49f4a20dbd\" class=\"colab-df-container\">\n",
              "    <div>\n",
              "<style scoped>\n",
              "    .dataframe tbody tr th:only-of-type {\n",
              "        vertical-align: middle;\n",
              "    }\n",
              "\n",
              "    .dataframe tbody tr th {\n",
              "        vertical-align: top;\n",
              "    }\n",
              "\n",
              "    .dataframe thead th {\n",
              "        text-align: right;\n",
              "    }\n",
              "</style>\n",
              "<table border=\"1\" class=\"dataframe\">\n",
              "  <thead>\n",
              "    <tr style=\"text-align: right;\">\n",
              "      <th></th>\n",
              "      <th>date</th>\n",
              "      <th>rougher.input.feed_au</th>\n",
              "      <th>rougher.input.feed_ag</th>\n",
              "      <th>rougher.input.feed_pb</th>\n",
              "      <th>rougher.input.feed_sol</th>\n",
              "      <th>rougher.input.feed_rate</th>\n",
              "      <th>rougher.input.feed_size</th>\n",
              "      <th>rougher.input.floatbank10_sulfate</th>\n",
              "      <th>rougher.input.floatbank10_xanthate</th>\n",
              "      <th>rougher.state.floatbank10_a_air</th>\n",
              "      <th>...</th>\n",
              "      <th>secondary_cleaner.state.floatbank4_a_air</th>\n",
              "      <th>secondary_cleaner.state.floatbank4_a_level</th>\n",
              "      <th>secondary_cleaner.state.floatbank4_b_air</th>\n",
              "      <th>secondary_cleaner.state.floatbank4_b_level</th>\n",
              "      <th>secondary_cleaner.state.floatbank5_a_air</th>\n",
              "      <th>secondary_cleaner.state.floatbank5_a_level</th>\n",
              "      <th>secondary_cleaner.state.floatbank5_b_air</th>\n",
              "      <th>secondary_cleaner.state.floatbank5_b_level</th>\n",
              "      <th>secondary_cleaner.state.floatbank6_a_air</th>\n",
              "      <th>secondary_cleaner.state.floatbank6_a_level</th>\n",
              "    </tr>\n",
              "  </thead>\n",
              "  <tbody>\n",
              "    <tr>\n",
              "      <th>0</th>\n",
              "      <td>2017-12-09 14:59:59</td>\n",
              "      <td>4.365491</td>\n",
              "      <td>6.158718</td>\n",
              "      <td>3.875727</td>\n",
              "      <td>39.135119</td>\n",
              "      <td>555.820208</td>\n",
              "      <td>94.544358</td>\n",
              "      <td>6.146982</td>\n",
              "      <td>9.308612</td>\n",
              "      <td>1196.238112</td>\n",
              "      <td>...</td>\n",
              "      <td>23.018622</td>\n",
              "      <td>-500.492702</td>\n",
              "      <td>20.020205</td>\n",
              "      <td>-500.220296</td>\n",
              "      <td>17.963512</td>\n",
              "      <td>-499.939490</td>\n",
              "      <td>12.990306</td>\n",
              "      <td>-500.080993</td>\n",
              "      <td>19.990336</td>\n",
              "      <td>-499.191575</td>\n",
              "    </tr>\n",
              "    <tr>\n",
              "      <th>1</th>\n",
              "      <td>2017-12-09 15:59:59</td>\n",
              "      <td>4.362781</td>\n",
              "      <td>6.048130</td>\n",
              "      <td>3.902537</td>\n",
              "      <td>39.713906</td>\n",
              "      <td>544.731687</td>\n",
              "      <td>123.742430</td>\n",
              "      <td>6.210119</td>\n",
              "      <td>9.297709</td>\n",
              "      <td>1201.904177</td>\n",
              "      <td>...</td>\n",
              "      <td>23.024963</td>\n",
              "      <td>-501.153409</td>\n",
              "      <td>20.054122</td>\n",
              "      <td>-500.314711</td>\n",
              "      <td>17.979515</td>\n",
              "      <td>-499.272871</td>\n",
              "      <td>12.992404</td>\n",
              "      <td>-499.976268</td>\n",
              "      <td>20.013986</td>\n",
              "      <td>-500.625471</td>\n",
              "    </tr>\n",
              "    <tr>\n",
              "      <th>2</th>\n",
              "      <td>2017-12-09 16:59:59</td>\n",
              "      <td>5.081681</td>\n",
              "      <td>6.082745</td>\n",
              "      <td>4.564078</td>\n",
              "      <td>37.208683</td>\n",
              "      <td>558.155110</td>\n",
              "      <td>82.610855</td>\n",
              "      <td>7.363824</td>\n",
              "      <td>9.003562</td>\n",
              "      <td>1200.826926</td>\n",
              "      <td>...</td>\n",
              "      <td>22.993827</td>\n",
              "      <td>-501.559663</td>\n",
              "      <td>20.029144</td>\n",
              "      <td>-500.000662</td>\n",
              "      <td>18.012723</td>\n",
              "      <td>-500.024764</td>\n",
              "      <td>13.016445</td>\n",
              "      <td>-500.058432</td>\n",
              "      <td>19.973767</td>\n",
              "      <td>-501.394155</td>\n",
              "    </tr>\n",
              "    <tr>\n",
              "      <th>3</th>\n",
              "      <td>2017-12-09 17:59:59</td>\n",
              "      <td>5.145949</td>\n",
              "      <td>6.084374</td>\n",
              "      <td>4.768124</td>\n",
              "      <td>36.808874</td>\n",
              "      <td>539.713765</td>\n",
              "      <td>77.984784</td>\n",
              "      <td>6.927072</td>\n",
              "      <td>8.955597</td>\n",
              "      <td>1199.292489</td>\n",
              "      <td>...</td>\n",
              "      <td>23.032807</td>\n",
              "      <td>-501.287889</td>\n",
              "      <td>19.977466</td>\n",
              "      <td>-500.159903</td>\n",
              "      <td>17.980463</td>\n",
              "      <td>-500.504602</td>\n",
              "      <td>12.949071</td>\n",
              "      <td>-500.009937</td>\n",
              "      <td>20.010332</td>\n",
              "      <td>-508.337973</td>\n",
              "    </tr>\n",
              "    <tr>\n",
              "      <th>4</th>\n",
              "      <td>2017-12-09 18:59:59</td>\n",
              "      <td>5.735249</td>\n",
              "      <td>6.165220</td>\n",
              "      <td>4.512346</td>\n",
              "      <td>37.810642</td>\n",
              "      <td>558.713584</td>\n",
              "      <td>86.434874</td>\n",
              "      <td>7.823471</td>\n",
              "      <td>7.490356</td>\n",
              "      <td>1198.005449</td>\n",
              "      <td>...</td>\n",
              "      <td>23.001911</td>\n",
              "      <td>-499.947838</td>\n",
              "      <td>20.023735</td>\n",
              "      <td>-499.713680</td>\n",
              "      <td>17.990955</td>\n",
              "      <td>-500.334769</td>\n",
              "      <td>13.007523</td>\n",
              "      <td>-499.968459</td>\n",
              "      <td>19.995999</td>\n",
              "      <td>-499.788805</td>\n",
              "    </tr>\n",
              "  </tbody>\n",
              "</table>\n",
              "<p>5 rows × 53 columns</p>\n",
              "</div>\n",
              "    <div class=\"colab-df-buttons\">\n",
              "\n",
              "  <div class=\"colab-df-container\">\n",
              "    <button class=\"colab-df-convert\" onclick=\"convertToInteractive('df-173c7b64-0444-4ce5-855b-3e49f4a20dbd')\"\n",
              "            title=\"Convert this dataframe to an interactive table.\"\n",
              "            style=\"display:none;\">\n",
              "\n",
              "  <svg xmlns=\"http://www.w3.org/2000/svg\" height=\"24px\" viewBox=\"0 -960 960 960\">\n",
              "    <path d=\"M120-120v-720h720v720H120Zm60-500h600v-160H180v160Zm220 220h160v-160H400v160Zm0 220h160v-160H400v160ZM180-400h160v-160H180v160Zm440 0h160v-160H620v160ZM180-180h160v-160H180v160Zm440 0h160v-160H620v160Z\"/>\n",
              "  </svg>\n",
              "    </button>\n",
              "\n",
              "  <style>\n",
              "    .colab-df-container {\n",
              "      display:flex;\n",
              "      gap: 12px;\n",
              "    }\n",
              "\n",
              "    .colab-df-convert {\n",
              "      background-color: #E8F0FE;\n",
              "      border: none;\n",
              "      border-radius: 50%;\n",
              "      cursor: pointer;\n",
              "      display: none;\n",
              "      fill: #1967D2;\n",
              "      height: 32px;\n",
              "      padding: 0 0 0 0;\n",
              "      width: 32px;\n",
              "    }\n",
              "\n",
              "    .colab-df-convert:hover {\n",
              "      background-color: #E2EBFA;\n",
              "      box-shadow: 0px 1px 2px rgba(60, 64, 67, 0.3), 0px 1px 3px 1px rgba(60, 64, 67, 0.15);\n",
              "      fill: #174EA6;\n",
              "    }\n",
              "\n",
              "    .colab-df-buttons div {\n",
              "      margin-bottom: 4px;\n",
              "    }\n",
              "\n",
              "    [theme=dark] .colab-df-convert {\n",
              "      background-color: #3B4455;\n",
              "      fill: #D2E3FC;\n",
              "    }\n",
              "\n",
              "    [theme=dark] .colab-df-convert:hover {\n",
              "      background-color: #434B5C;\n",
              "      box-shadow: 0px 1px 3px 1px rgba(0, 0, 0, 0.15);\n",
              "      filter: drop-shadow(0px 1px 2px rgba(0, 0, 0, 0.3));\n",
              "      fill: #FFFFFF;\n",
              "    }\n",
              "  </style>\n",
              "\n",
              "    <script>\n",
              "      const buttonEl =\n",
              "        document.querySelector('#df-173c7b64-0444-4ce5-855b-3e49f4a20dbd button.colab-df-convert');\n",
              "      buttonEl.style.display =\n",
              "        google.colab.kernel.accessAllowed ? 'block' : 'none';\n",
              "\n",
              "      async function convertToInteractive(key) {\n",
              "        const element = document.querySelector('#df-173c7b64-0444-4ce5-855b-3e49f4a20dbd');\n",
              "        const dataTable =\n",
              "          await google.colab.kernel.invokeFunction('convertToInteractive',\n",
              "                                                    [key], {});\n",
              "        if (!dataTable) return;\n",
              "\n",
              "        const docLinkHtml = 'Like what you see? Visit the ' +\n",
              "          '<a target=\"_blank\" href=https://colab.research.google.com/notebooks/data_table.ipynb>data table notebook</a>'\n",
              "          + ' to learn more about interactive tables.';\n",
              "        element.innerHTML = '';\n",
              "        dataTable['output_type'] = 'display_data';\n",
              "        await google.colab.output.renderOutput(dataTable, element);\n",
              "        const docLink = document.createElement('div');\n",
              "        docLink.innerHTML = docLinkHtml;\n",
              "        element.appendChild(docLink);\n",
              "      }\n",
              "    </script>\n",
              "  </div>\n",
              "\n",
              "\n",
              "<div id=\"df-e8d18030-1c5a-4228-ae1d-283c96b6e75a\">\n",
              "  <button class=\"colab-df-quickchart\" onclick=\"quickchart('df-e8d18030-1c5a-4228-ae1d-283c96b6e75a')\"\n",
              "            title=\"Suggest charts\"\n",
              "            style=\"display:none;\">\n",
              "\n",
              "<svg xmlns=\"http://www.w3.org/2000/svg\" height=\"24px\"viewBox=\"0 0 24 24\"\n",
              "     width=\"24px\">\n",
              "    <g>\n",
              "        <path d=\"M19 3H5c-1.1 0-2 .9-2 2v14c0 1.1.9 2 2 2h14c1.1 0 2-.9 2-2V5c0-1.1-.9-2-2-2zM9 17H7v-7h2v7zm4 0h-2V7h2v10zm4 0h-2v-4h2v4z\"/>\n",
              "    </g>\n",
              "</svg>\n",
              "  </button>\n",
              "\n",
              "<style>\n",
              "  .colab-df-quickchart {\n",
              "      --bg-color: #E8F0FE;\n",
              "      --fill-color: #1967D2;\n",
              "      --hover-bg-color: #E2EBFA;\n",
              "      --hover-fill-color: #174EA6;\n",
              "      --disabled-fill-color: #AAA;\n",
              "      --disabled-bg-color: #DDD;\n",
              "  }\n",
              "\n",
              "  [theme=dark] .colab-df-quickchart {\n",
              "      --bg-color: #3B4455;\n",
              "      --fill-color: #D2E3FC;\n",
              "      --hover-bg-color: #434B5C;\n",
              "      --hover-fill-color: #FFFFFF;\n",
              "      --disabled-bg-color: #3B4455;\n",
              "      --disabled-fill-color: #666;\n",
              "  }\n",
              "\n",
              "  .colab-df-quickchart {\n",
              "    background-color: var(--bg-color);\n",
              "    border: none;\n",
              "    border-radius: 50%;\n",
              "    cursor: pointer;\n",
              "    display: none;\n",
              "    fill: var(--fill-color);\n",
              "    height: 32px;\n",
              "    padding: 0;\n",
              "    width: 32px;\n",
              "  }\n",
              "\n",
              "  .colab-df-quickchart:hover {\n",
              "    background-color: var(--hover-bg-color);\n",
              "    box-shadow: 0 1px 2px rgba(60, 64, 67, 0.3), 0 1px 3px 1px rgba(60, 64, 67, 0.15);\n",
              "    fill: var(--button-hover-fill-color);\n",
              "  }\n",
              "\n",
              "  .colab-df-quickchart-complete:disabled,\n",
              "  .colab-df-quickchart-complete:disabled:hover {\n",
              "    background-color: var(--disabled-bg-color);\n",
              "    fill: var(--disabled-fill-color);\n",
              "    box-shadow: none;\n",
              "  }\n",
              "\n",
              "  .colab-df-spinner {\n",
              "    border: 2px solid var(--fill-color);\n",
              "    border-color: transparent;\n",
              "    border-bottom-color: var(--fill-color);\n",
              "    animation:\n",
              "      spin 1s steps(1) infinite;\n",
              "  }\n",
              "\n",
              "  @keyframes spin {\n",
              "    0% {\n",
              "      border-color: transparent;\n",
              "      border-bottom-color: var(--fill-color);\n",
              "      border-left-color: var(--fill-color);\n",
              "    }\n",
              "    20% {\n",
              "      border-color: transparent;\n",
              "      border-left-color: var(--fill-color);\n",
              "      border-top-color: var(--fill-color);\n",
              "    }\n",
              "    30% {\n",
              "      border-color: transparent;\n",
              "      border-left-color: var(--fill-color);\n",
              "      border-top-color: var(--fill-color);\n",
              "      border-right-color: var(--fill-color);\n",
              "    }\n",
              "    40% {\n",
              "      border-color: transparent;\n",
              "      border-right-color: var(--fill-color);\n",
              "      border-top-color: var(--fill-color);\n",
              "    }\n",
              "    60% {\n",
              "      border-color: transparent;\n",
              "      border-right-color: var(--fill-color);\n",
              "    }\n",
              "    80% {\n",
              "      border-color: transparent;\n",
              "      border-right-color: var(--fill-color);\n",
              "      border-bottom-color: var(--fill-color);\n",
              "    }\n",
              "    90% {\n",
              "      border-color: transparent;\n",
              "      border-bottom-color: var(--fill-color);\n",
              "    }\n",
              "  }\n",
              "</style>\n",
              "\n",
              "  <script>\n",
              "    async function quickchart(key) {\n",
              "      const quickchartButtonEl =\n",
              "        document.querySelector('#' + key + ' button');\n",
              "      quickchartButtonEl.disabled = true;  // To prevent multiple clicks.\n",
              "      quickchartButtonEl.classList.add('colab-df-spinner');\n",
              "      try {\n",
              "        const charts = await google.colab.kernel.invokeFunction(\n",
              "            'suggestCharts', [key], {});\n",
              "      } catch (error) {\n",
              "        console.error('Error during call to suggestCharts:', error);\n",
              "      }\n",
              "      quickchartButtonEl.classList.remove('colab-df-spinner');\n",
              "      quickchartButtonEl.classList.add('colab-df-quickchart-complete');\n",
              "    }\n",
              "    (() => {\n",
              "      let quickchartButtonEl =\n",
              "        document.querySelector('#df-e8d18030-1c5a-4228-ae1d-283c96b6e75a button');\n",
              "      quickchartButtonEl.style.display =\n",
              "        google.colab.kernel.accessAllowed ? 'block' : 'none';\n",
              "    })();\n",
              "  </script>\n",
              "</div>\n",
              "    </div>\n",
              "  </div>\n"
            ]
          },
          "metadata": {},
          "execution_count": 7
        }
      ],
      "source": [
        "test_df.head()"
      ]
    },
    {
      "cell_type": "code",
      "execution_count": 8,
      "metadata": {
        "collapsed": true,
        "colab": {
          "base_uri": "https://localhost:8080/"
        },
        "id": "dEngHzh-X-FT",
        "outputId": "6a028eaf-4025-46b2-f672-6b1a88226bfd"
      },
      "outputs": [
        {
          "output_type": "stream",
          "name": "stdout",
          "text": [
            "<class 'pandas.core.frame.DataFrame'>\n",
            "RangeIndex: 4860 entries, 0 to 4859\n",
            "Data columns (total 53 columns):\n",
            " #   Column                                      Non-Null Count  Dtype  \n",
            "---  ------                                      --------------  -----  \n",
            " 0   date                                        4860 non-null   object \n",
            " 1   rougher.input.feed_au                       4860 non-null   float64\n",
            " 2   rougher.input.feed_ag                       4860 non-null   float64\n",
            " 3   rougher.input.feed_pb                       4832 non-null   float64\n",
            " 4   rougher.input.feed_sol                      4838 non-null   float64\n",
            " 5   rougher.input.feed_rate                     4856 non-null   float64\n",
            " 6   rougher.input.feed_size                     4816 non-null   float64\n",
            " 7   rougher.input.floatbank10_sulfate           4857 non-null   float64\n",
            " 8   rougher.input.floatbank10_xanthate          4859 non-null   float64\n",
            " 9   rougher.state.floatbank10_a_air             4859 non-null   float64\n",
            " 10  rougher.state.floatbank10_a_level           4859 non-null   float64\n",
            " 11  rougher.state.floatbank10_b_air             4859 non-null   float64\n",
            " 12  rougher.state.floatbank10_b_level           4859 non-null   float64\n",
            " 13  rougher.state.floatbank10_c_air             4859 non-null   float64\n",
            " 14  rougher.state.floatbank10_c_level           4859 non-null   float64\n",
            " 15  rougher.state.floatbank10_d_air             4860 non-null   float64\n",
            " 16  rougher.state.floatbank10_d_level           4860 non-null   float64\n",
            " 17  rougher.state.floatbank10_e_air             4853 non-null   float64\n",
            " 18  rougher.state.floatbank10_e_level           4860 non-null   float64\n",
            " 19  rougher.state.floatbank10_f_air             4860 non-null   float64\n",
            " 20  rougher.state.floatbank10_f_level           4860 non-null   float64\n",
            " 21  rougher.input.floatbank11_sulfate           4852 non-null   float64\n",
            " 22  rougher.input.floatbank11_xanthate          4814 non-null   float64\n",
            " 23  primary_cleaner.input.sulfate               4859 non-null   float64\n",
            " 24  primary_cleaner.input.depressant            4851 non-null   float64\n",
            " 25  primary_cleaner.input.feed_size             4860 non-null   float64\n",
            " 26  primary_cleaner.input.xanthate              4817 non-null   float64\n",
            " 27  primary_cleaner.state.floatbank8_a_air      4859 non-null   float64\n",
            " 28  primary_cleaner.state.floatbank8_a_level    4859 non-null   float64\n",
            " 29  primary_cleaner.state.floatbank8_b_air      4859 non-null   float64\n",
            " 30  primary_cleaner.state.floatbank8_b_level    4859 non-null   float64\n",
            " 31  primary_cleaner.state.floatbank8_c_air      4858 non-null   float64\n",
            " 32  primary_cleaner.state.floatbank8_c_level    4859 non-null   float64\n",
            " 33  primary_cleaner.state.floatbank8_d_air      4858 non-null   float64\n",
            " 34  primary_cleaner.state.floatbank8_d_level    4859 non-null   float64\n",
            " 35  secondary_cleaner.state.floatbank2_a_air    4734 non-null   float64\n",
            " 36  secondary_cleaner.state.floatbank2_a_level  4859 non-null   float64\n",
            " 37  secondary_cleaner.state.floatbank2_b_air    4859 non-null   float64\n",
            " 38  secondary_cleaner.state.floatbank2_b_level  4859 non-null   float64\n",
            " 39  secondary_cleaner.state.floatbank3_a_air    4859 non-null   float64\n",
            " 40  secondary_cleaner.state.floatbank3_a_level  4859 non-null   float64\n",
            " 41  secondary_cleaner.state.floatbank3_b_air    4859 non-null   float64\n",
            " 42  secondary_cleaner.state.floatbank3_b_level  4859 non-null   float64\n",
            " 43  secondary_cleaner.state.floatbank4_a_air    4859 non-null   float64\n",
            " 44  secondary_cleaner.state.floatbank4_a_level  4859 non-null   float64\n",
            " 45  secondary_cleaner.state.floatbank4_b_air    4859 non-null   float64\n",
            " 46  secondary_cleaner.state.floatbank4_b_level  4859 non-null   float64\n",
            " 47  secondary_cleaner.state.floatbank5_a_air    4859 non-null   float64\n",
            " 48  secondary_cleaner.state.floatbank5_a_level  4859 non-null   float64\n",
            " 49  secondary_cleaner.state.floatbank5_b_air    4859 non-null   float64\n",
            " 50  secondary_cleaner.state.floatbank5_b_level  4859 non-null   float64\n",
            " 51  secondary_cleaner.state.floatbank6_a_air    4859 non-null   float64\n",
            " 52  secondary_cleaner.state.floatbank6_a_level  4859 non-null   float64\n",
            "dtypes: float64(52), object(1)\n",
            "memory usage: 2.0+ MB\n"
          ]
        }
      ],
      "source": [
        "test_df.info()"
      ]
    },
    {
      "cell_type": "code",
      "execution_count": 9,
      "metadata": {
        "colab": {
          "base_uri": "https://localhost:8080/",
          "height": 429
        },
        "id": "UH2FCYr7X-FT",
        "outputId": "5c1c917b-6bac-4b8d-e489-d87212894736"
      },
      "outputs": [
        {
          "output_type": "execute_result",
          "data": {
            "text/plain": [
              "                  date  rougher.input.feed_au  rougher.input.feed_ag  \\\n",
              "0  2016-01-15 00:00:00               6.486150               6.100378   \n",
              "1  2016-01-15 01:00:00               6.478583               6.161113   \n",
              "2  2016-01-15 02:00:00               6.362222               6.116455   \n",
              "3  2016-01-15 03:00:00               6.118189               6.043309   \n",
              "4  2016-01-15 04:00:00               5.663707               6.060915   \n",
              "\n",
              "   rougher.input.feed_pb  rougher.input.feed_sol  rougher.input.feed_rate  \\\n",
              "0               2.284912               36.808594               523.546326   \n",
              "1               2.266033               35.753385               525.290581   \n",
              "2               2.159622               35.971630               530.026610   \n",
              "3               2.037807               36.862241               542.590390   \n",
              "4               1.786875               34.347666               540.531893   \n",
              "\n",
              "   rougher.input.feed_size  rougher.input.floatbank10_sulfate  \\\n",
              "0                55.486599                          11.986616   \n",
              "1                57.278666                          11.971193   \n",
              "2                57.510649                          11.920603   \n",
              "3                57.792734                          11.630094   \n",
              "4                56.047189                          10.957755   \n",
              "\n",
              "   rougher.input.floatbank10_xanthate  rougher.state.floatbank10_a_air  ...  \\\n",
              "0                            6.007990                       999.706909  ...   \n",
              "1                            6.005766                      1000.286398  ...   \n",
              "2                            6.197377                       999.719565  ...   \n",
              "3                            6.203177                       999.814770  ...   \n",
              "4                            6.198826                       999.678690  ...   \n",
              "\n",
              "   secondary_cleaner.output.tail_sol  final.output.concentrate_au  \\\n",
              "0                           8.764648                    42.192020   \n",
              "1                           9.001494                    42.701629   \n",
              "2                           8.842896                    42.657501   \n",
              "3                           9.122857                    42.689819   \n",
              "4                           8.871028                    42.774141   \n",
              "\n",
              "   final.output.concentrate_ag  final.output.concentrate_pb  \\\n",
              "0                     6.055403                     9.889648   \n",
              "1                     6.029369                     9.968944   \n",
              "2                     6.055926                    10.213995   \n",
              "3                     6.047977                     9.977019   \n",
              "4                     6.148599                    10.142511   \n",
              "\n",
              "   final.output.concentrate_sol  final.output.recovery  final.output.tail_au  \\\n",
              "0                      5.507324              70.541216              2.143149   \n",
              "1                      5.257781              69.266198              2.224930   \n",
              "2                      5.383759              68.116445              2.257889   \n",
              "3                      4.858634              68.347543              2.146849   \n",
              "4                      4.939416              66.927016              2.055292   \n",
              "\n",
              "   final.output.tail_ag  final.output.tail_pb  final.output.tail_sol  \n",
              "0             10.411962              0.895447              16.904297  \n",
              "1             10.462676              0.927452              16.634514  \n",
              "2             10.507046              0.953716              16.208849  \n",
              "3             10.422762              0.883763              16.532835  \n",
              "4             10.360302              0.792826              16.525686  \n",
              "\n",
              "[5 rows x 87 columns]"
            ],
            "text/html": [
              "\n",
              "  <div id=\"df-9af7e4a5-5c4c-4f48-8b60-5aba85325824\" class=\"colab-df-container\">\n",
              "    <div>\n",
              "<style scoped>\n",
              "    .dataframe tbody tr th:only-of-type {\n",
              "        vertical-align: middle;\n",
              "    }\n",
              "\n",
              "    .dataframe tbody tr th {\n",
              "        vertical-align: top;\n",
              "    }\n",
              "\n",
              "    .dataframe thead th {\n",
              "        text-align: right;\n",
              "    }\n",
              "</style>\n",
              "<table border=\"1\" class=\"dataframe\">\n",
              "  <thead>\n",
              "    <tr style=\"text-align: right;\">\n",
              "      <th></th>\n",
              "      <th>date</th>\n",
              "      <th>rougher.input.feed_au</th>\n",
              "      <th>rougher.input.feed_ag</th>\n",
              "      <th>rougher.input.feed_pb</th>\n",
              "      <th>rougher.input.feed_sol</th>\n",
              "      <th>rougher.input.feed_rate</th>\n",
              "      <th>rougher.input.feed_size</th>\n",
              "      <th>rougher.input.floatbank10_sulfate</th>\n",
              "      <th>rougher.input.floatbank10_xanthate</th>\n",
              "      <th>rougher.state.floatbank10_a_air</th>\n",
              "      <th>...</th>\n",
              "      <th>secondary_cleaner.output.tail_sol</th>\n",
              "      <th>final.output.concentrate_au</th>\n",
              "      <th>final.output.concentrate_ag</th>\n",
              "      <th>final.output.concentrate_pb</th>\n",
              "      <th>final.output.concentrate_sol</th>\n",
              "      <th>final.output.recovery</th>\n",
              "      <th>final.output.tail_au</th>\n",
              "      <th>final.output.tail_ag</th>\n",
              "      <th>final.output.tail_pb</th>\n",
              "      <th>final.output.tail_sol</th>\n",
              "    </tr>\n",
              "  </thead>\n",
              "  <tbody>\n",
              "    <tr>\n",
              "      <th>0</th>\n",
              "      <td>2016-01-15 00:00:00</td>\n",
              "      <td>6.486150</td>\n",
              "      <td>6.100378</td>\n",
              "      <td>2.284912</td>\n",
              "      <td>36.808594</td>\n",
              "      <td>523.546326</td>\n",
              "      <td>55.486599</td>\n",
              "      <td>11.986616</td>\n",
              "      <td>6.007990</td>\n",
              "      <td>999.706909</td>\n",
              "      <td>...</td>\n",
              "      <td>8.764648</td>\n",
              "      <td>42.192020</td>\n",
              "      <td>6.055403</td>\n",
              "      <td>9.889648</td>\n",
              "      <td>5.507324</td>\n",
              "      <td>70.541216</td>\n",
              "      <td>2.143149</td>\n",
              "      <td>10.411962</td>\n",
              "      <td>0.895447</td>\n",
              "      <td>16.904297</td>\n",
              "    </tr>\n",
              "    <tr>\n",
              "      <th>1</th>\n",
              "      <td>2016-01-15 01:00:00</td>\n",
              "      <td>6.478583</td>\n",
              "      <td>6.161113</td>\n",
              "      <td>2.266033</td>\n",
              "      <td>35.753385</td>\n",
              "      <td>525.290581</td>\n",
              "      <td>57.278666</td>\n",
              "      <td>11.971193</td>\n",
              "      <td>6.005766</td>\n",
              "      <td>1000.286398</td>\n",
              "      <td>...</td>\n",
              "      <td>9.001494</td>\n",
              "      <td>42.701629</td>\n",
              "      <td>6.029369</td>\n",
              "      <td>9.968944</td>\n",
              "      <td>5.257781</td>\n",
              "      <td>69.266198</td>\n",
              "      <td>2.224930</td>\n",
              "      <td>10.462676</td>\n",
              "      <td>0.927452</td>\n",
              "      <td>16.634514</td>\n",
              "    </tr>\n",
              "    <tr>\n",
              "      <th>2</th>\n",
              "      <td>2016-01-15 02:00:00</td>\n",
              "      <td>6.362222</td>\n",
              "      <td>6.116455</td>\n",
              "      <td>2.159622</td>\n",
              "      <td>35.971630</td>\n",
              "      <td>530.026610</td>\n",
              "      <td>57.510649</td>\n",
              "      <td>11.920603</td>\n",
              "      <td>6.197377</td>\n",
              "      <td>999.719565</td>\n",
              "      <td>...</td>\n",
              "      <td>8.842896</td>\n",
              "      <td>42.657501</td>\n",
              "      <td>6.055926</td>\n",
              "      <td>10.213995</td>\n",
              "      <td>5.383759</td>\n",
              "      <td>68.116445</td>\n",
              "      <td>2.257889</td>\n",
              "      <td>10.507046</td>\n",
              "      <td>0.953716</td>\n",
              "      <td>16.208849</td>\n",
              "    </tr>\n",
              "    <tr>\n",
              "      <th>3</th>\n",
              "      <td>2016-01-15 03:00:00</td>\n",
              "      <td>6.118189</td>\n",
              "      <td>6.043309</td>\n",
              "      <td>2.037807</td>\n",
              "      <td>36.862241</td>\n",
              "      <td>542.590390</td>\n",
              "      <td>57.792734</td>\n",
              "      <td>11.630094</td>\n",
              "      <td>6.203177</td>\n",
              "      <td>999.814770</td>\n",
              "      <td>...</td>\n",
              "      <td>9.122857</td>\n",
              "      <td>42.689819</td>\n",
              "      <td>6.047977</td>\n",
              "      <td>9.977019</td>\n",
              "      <td>4.858634</td>\n",
              "      <td>68.347543</td>\n",
              "      <td>2.146849</td>\n",
              "      <td>10.422762</td>\n",
              "      <td>0.883763</td>\n",
              "      <td>16.532835</td>\n",
              "    </tr>\n",
              "    <tr>\n",
              "      <th>4</th>\n",
              "      <td>2016-01-15 04:00:00</td>\n",
              "      <td>5.663707</td>\n",
              "      <td>6.060915</td>\n",
              "      <td>1.786875</td>\n",
              "      <td>34.347666</td>\n",
              "      <td>540.531893</td>\n",
              "      <td>56.047189</td>\n",
              "      <td>10.957755</td>\n",
              "      <td>6.198826</td>\n",
              "      <td>999.678690</td>\n",
              "      <td>...</td>\n",
              "      <td>8.871028</td>\n",
              "      <td>42.774141</td>\n",
              "      <td>6.148599</td>\n",
              "      <td>10.142511</td>\n",
              "      <td>4.939416</td>\n",
              "      <td>66.927016</td>\n",
              "      <td>2.055292</td>\n",
              "      <td>10.360302</td>\n",
              "      <td>0.792826</td>\n",
              "      <td>16.525686</td>\n",
              "    </tr>\n",
              "  </tbody>\n",
              "</table>\n",
              "<p>5 rows × 87 columns</p>\n",
              "</div>\n",
              "    <div class=\"colab-df-buttons\">\n",
              "\n",
              "  <div class=\"colab-df-container\">\n",
              "    <button class=\"colab-df-convert\" onclick=\"convertToInteractive('df-9af7e4a5-5c4c-4f48-8b60-5aba85325824')\"\n",
              "            title=\"Convert this dataframe to an interactive table.\"\n",
              "            style=\"display:none;\">\n",
              "\n",
              "  <svg xmlns=\"http://www.w3.org/2000/svg\" height=\"24px\" viewBox=\"0 -960 960 960\">\n",
              "    <path d=\"M120-120v-720h720v720H120Zm60-500h600v-160H180v160Zm220 220h160v-160H400v160Zm0 220h160v-160H400v160ZM180-400h160v-160H180v160Zm440 0h160v-160H620v160ZM180-180h160v-160H180v160Zm440 0h160v-160H620v160Z\"/>\n",
              "  </svg>\n",
              "    </button>\n",
              "\n",
              "  <style>\n",
              "    .colab-df-container {\n",
              "      display:flex;\n",
              "      gap: 12px;\n",
              "    }\n",
              "\n",
              "    .colab-df-convert {\n",
              "      background-color: #E8F0FE;\n",
              "      border: none;\n",
              "      border-radius: 50%;\n",
              "      cursor: pointer;\n",
              "      display: none;\n",
              "      fill: #1967D2;\n",
              "      height: 32px;\n",
              "      padding: 0 0 0 0;\n",
              "      width: 32px;\n",
              "    }\n",
              "\n",
              "    .colab-df-convert:hover {\n",
              "      background-color: #E2EBFA;\n",
              "      box-shadow: 0px 1px 2px rgba(60, 64, 67, 0.3), 0px 1px 3px 1px rgba(60, 64, 67, 0.15);\n",
              "      fill: #174EA6;\n",
              "    }\n",
              "\n",
              "    .colab-df-buttons div {\n",
              "      margin-bottom: 4px;\n",
              "    }\n",
              "\n",
              "    [theme=dark] .colab-df-convert {\n",
              "      background-color: #3B4455;\n",
              "      fill: #D2E3FC;\n",
              "    }\n",
              "\n",
              "    [theme=dark] .colab-df-convert:hover {\n",
              "      background-color: #434B5C;\n",
              "      box-shadow: 0px 1px 3px 1px rgba(0, 0, 0, 0.15);\n",
              "      filter: drop-shadow(0px 1px 2px rgba(0, 0, 0, 0.3));\n",
              "      fill: #FFFFFF;\n",
              "    }\n",
              "  </style>\n",
              "\n",
              "    <script>\n",
              "      const buttonEl =\n",
              "        document.querySelector('#df-9af7e4a5-5c4c-4f48-8b60-5aba85325824 button.colab-df-convert');\n",
              "      buttonEl.style.display =\n",
              "        google.colab.kernel.accessAllowed ? 'block' : 'none';\n",
              "\n",
              "      async function convertToInteractive(key) {\n",
              "        const element = document.querySelector('#df-9af7e4a5-5c4c-4f48-8b60-5aba85325824');\n",
              "        const dataTable =\n",
              "          await google.colab.kernel.invokeFunction('convertToInteractive',\n",
              "                                                    [key], {});\n",
              "        if (!dataTable) return;\n",
              "\n",
              "        const docLinkHtml = 'Like what you see? Visit the ' +\n",
              "          '<a target=\"_blank\" href=https://colab.research.google.com/notebooks/data_table.ipynb>data table notebook</a>'\n",
              "          + ' to learn more about interactive tables.';\n",
              "        element.innerHTML = '';\n",
              "        dataTable['output_type'] = 'display_data';\n",
              "        await google.colab.output.renderOutput(dataTable, element);\n",
              "        const docLink = document.createElement('div');\n",
              "        docLink.innerHTML = docLinkHtml;\n",
              "        element.appendChild(docLink);\n",
              "      }\n",
              "    </script>\n",
              "  </div>\n",
              "\n",
              "\n",
              "<div id=\"df-52c2fc1b-e518-4ca1-b86d-213d947d8c89\">\n",
              "  <button class=\"colab-df-quickchart\" onclick=\"quickchart('df-52c2fc1b-e518-4ca1-b86d-213d947d8c89')\"\n",
              "            title=\"Suggest charts\"\n",
              "            style=\"display:none;\">\n",
              "\n",
              "<svg xmlns=\"http://www.w3.org/2000/svg\" height=\"24px\"viewBox=\"0 0 24 24\"\n",
              "     width=\"24px\">\n",
              "    <g>\n",
              "        <path d=\"M19 3H5c-1.1 0-2 .9-2 2v14c0 1.1.9 2 2 2h14c1.1 0 2-.9 2-2V5c0-1.1-.9-2-2-2zM9 17H7v-7h2v7zm4 0h-2V7h2v10zm4 0h-2v-4h2v4z\"/>\n",
              "    </g>\n",
              "</svg>\n",
              "  </button>\n",
              "\n",
              "<style>\n",
              "  .colab-df-quickchart {\n",
              "      --bg-color: #E8F0FE;\n",
              "      --fill-color: #1967D2;\n",
              "      --hover-bg-color: #E2EBFA;\n",
              "      --hover-fill-color: #174EA6;\n",
              "      --disabled-fill-color: #AAA;\n",
              "      --disabled-bg-color: #DDD;\n",
              "  }\n",
              "\n",
              "  [theme=dark] .colab-df-quickchart {\n",
              "      --bg-color: #3B4455;\n",
              "      --fill-color: #D2E3FC;\n",
              "      --hover-bg-color: #434B5C;\n",
              "      --hover-fill-color: #FFFFFF;\n",
              "      --disabled-bg-color: #3B4455;\n",
              "      --disabled-fill-color: #666;\n",
              "  }\n",
              "\n",
              "  .colab-df-quickchart {\n",
              "    background-color: var(--bg-color);\n",
              "    border: none;\n",
              "    border-radius: 50%;\n",
              "    cursor: pointer;\n",
              "    display: none;\n",
              "    fill: var(--fill-color);\n",
              "    height: 32px;\n",
              "    padding: 0;\n",
              "    width: 32px;\n",
              "  }\n",
              "\n",
              "  .colab-df-quickchart:hover {\n",
              "    background-color: var(--hover-bg-color);\n",
              "    box-shadow: 0 1px 2px rgba(60, 64, 67, 0.3), 0 1px 3px 1px rgba(60, 64, 67, 0.15);\n",
              "    fill: var(--button-hover-fill-color);\n",
              "  }\n",
              "\n",
              "  .colab-df-quickchart-complete:disabled,\n",
              "  .colab-df-quickchart-complete:disabled:hover {\n",
              "    background-color: var(--disabled-bg-color);\n",
              "    fill: var(--disabled-fill-color);\n",
              "    box-shadow: none;\n",
              "  }\n",
              "\n",
              "  .colab-df-spinner {\n",
              "    border: 2px solid var(--fill-color);\n",
              "    border-color: transparent;\n",
              "    border-bottom-color: var(--fill-color);\n",
              "    animation:\n",
              "      spin 1s steps(1) infinite;\n",
              "  }\n",
              "\n",
              "  @keyframes spin {\n",
              "    0% {\n",
              "      border-color: transparent;\n",
              "      border-bottom-color: var(--fill-color);\n",
              "      border-left-color: var(--fill-color);\n",
              "    }\n",
              "    20% {\n",
              "      border-color: transparent;\n",
              "      border-left-color: var(--fill-color);\n",
              "      border-top-color: var(--fill-color);\n",
              "    }\n",
              "    30% {\n",
              "      border-color: transparent;\n",
              "      border-left-color: var(--fill-color);\n",
              "      border-top-color: var(--fill-color);\n",
              "      border-right-color: var(--fill-color);\n",
              "    }\n",
              "    40% {\n",
              "      border-color: transparent;\n",
              "      border-right-color: var(--fill-color);\n",
              "      border-top-color: var(--fill-color);\n",
              "    }\n",
              "    60% {\n",
              "      border-color: transparent;\n",
              "      border-right-color: var(--fill-color);\n",
              "    }\n",
              "    80% {\n",
              "      border-color: transparent;\n",
              "      border-right-color: var(--fill-color);\n",
              "      border-bottom-color: var(--fill-color);\n",
              "    }\n",
              "    90% {\n",
              "      border-color: transparent;\n",
              "      border-bottom-color: var(--fill-color);\n",
              "    }\n",
              "  }\n",
              "</style>\n",
              "\n",
              "  <script>\n",
              "    async function quickchart(key) {\n",
              "      const quickchartButtonEl =\n",
              "        document.querySelector('#' + key + ' button');\n",
              "      quickchartButtonEl.disabled = true;  // To prevent multiple clicks.\n",
              "      quickchartButtonEl.classList.add('colab-df-spinner');\n",
              "      try {\n",
              "        const charts = await google.colab.kernel.invokeFunction(\n",
              "            'suggestCharts', [key], {});\n",
              "      } catch (error) {\n",
              "        console.error('Error during call to suggestCharts:', error);\n",
              "      }\n",
              "      quickchartButtonEl.classList.remove('colab-df-spinner');\n",
              "      quickchartButtonEl.classList.add('colab-df-quickchart-complete');\n",
              "    }\n",
              "    (() => {\n",
              "      let quickchartButtonEl =\n",
              "        document.querySelector('#df-52c2fc1b-e518-4ca1-b86d-213d947d8c89 button');\n",
              "      quickchartButtonEl.style.display =\n",
              "        google.colab.kernel.accessAllowed ? 'block' : 'none';\n",
              "    })();\n",
              "  </script>\n",
              "</div>\n",
              "    </div>\n",
              "  </div>\n"
            ]
          },
          "metadata": {},
          "execution_count": 9
        }
      ],
      "source": [
        "source_df.head()"
      ]
    },
    {
      "cell_type": "code",
      "execution_count": 10,
      "metadata": {
        "collapsed": true,
        "colab": {
          "base_uri": "https://localhost:8080/"
        },
        "id": "2SOm_E-7X-FU",
        "outputId": "8bf927e0-ef70-4320-86a0-46876ec5c5cb"
      },
      "outputs": [
        {
          "output_type": "stream",
          "name": "stdout",
          "text": [
            "<class 'pandas.core.frame.DataFrame'>\n",
            "RangeIndex: 19439 entries, 0 to 19438\n",
            "Data columns (total 87 columns):\n",
            " #   Column                                              Non-Null Count  Dtype  \n",
            "---  ------                                              --------------  -----  \n",
            " 0   date                                                19439 non-null  object \n",
            " 1   rougher.input.feed_au                               19439 non-null  float64\n",
            " 2   rougher.input.feed_ag                               19439 non-null  float64\n",
            " 3   rougher.input.feed_pb                               19339 non-null  float64\n",
            " 4   rougher.input.feed_sol                              19340 non-null  float64\n",
            " 5   rougher.input.feed_rate                             19428 non-null  float64\n",
            " 6   rougher.input.feed_size                             19294 non-null  float64\n",
            " 7   rougher.input.floatbank10_sulfate                   19405 non-null  float64\n",
            " 8   rougher.input.floatbank10_xanthate                  19431 non-null  float64\n",
            " 9   rougher.state.floatbank10_a_air                     19438 non-null  float64\n",
            " 10  rougher.state.floatbank10_a_level                   19438 non-null  float64\n",
            " 11  rougher.state.floatbank10_b_air                     19438 non-null  float64\n",
            " 12  rougher.state.floatbank10_b_level                   19438 non-null  float64\n",
            " 13  rougher.state.floatbank10_c_air                     19438 non-null  float64\n",
            " 14  rougher.state.floatbank10_c_level                   19438 non-null  float64\n",
            " 15  rougher.state.floatbank10_d_air                     19439 non-null  float64\n",
            " 16  rougher.state.floatbank10_d_level                   19439 non-null  float64\n",
            " 17  rougher.state.floatbank10_e_air                     19003 non-null  float64\n",
            " 18  rougher.state.floatbank10_e_level                   19439 non-null  float64\n",
            " 19  rougher.state.floatbank10_f_air                     19439 non-null  float64\n",
            " 20  rougher.state.floatbank10_f_level                   19439 non-null  float64\n",
            " 21  rougher.input.floatbank11_sulfate                   19395 non-null  float64\n",
            " 22  rougher.input.floatbank11_xanthate                  18986 non-null  float64\n",
            " 23  rougher.calculation.sulfate_to_au_concentrate       19437 non-null  float64\n",
            " 24  rougher.calculation.floatbank10_sulfate_to_au_feed  19437 non-null  float64\n",
            " 25  rougher.calculation.floatbank11_sulfate_to_au_feed  19437 non-null  float64\n",
            " 26  rougher.calculation.au_pb_ratio                     19439 non-null  float64\n",
            " 27  rougher.output.concentrate_au                       19439 non-null  float64\n",
            " 28  rougher.output.concentrate_ag                       19439 non-null  float64\n",
            " 29  rougher.output.concentrate_pb                       19439 non-null  float64\n",
            " 30  rougher.output.concentrate_sol                      19416 non-null  float64\n",
            " 31  rougher.output.recovery                             19439 non-null  float64\n",
            " 32  rougher.output.tail_au                              19439 non-null  float64\n",
            " 33  rougher.output.tail_ag                              19438 non-null  float64\n",
            " 34  rougher.output.tail_pb                              19439 non-null  float64\n",
            " 35  rougher.output.tail_sol                             19439 non-null  float64\n",
            " 36  primary_cleaner.input.sulfate                       19415 non-null  float64\n",
            " 37  primary_cleaner.input.depressant                    19402 non-null  float64\n",
            " 38  primary_cleaner.input.feed_size                     19439 non-null  float64\n",
            " 39  primary_cleaner.input.xanthate                      19335 non-null  float64\n",
            " 40  primary_cleaner.state.floatbank8_a_air              19435 non-null  float64\n",
            " 41  primary_cleaner.state.floatbank8_a_level            19438 non-null  float64\n",
            " 42  primary_cleaner.state.floatbank8_b_air              19435 non-null  float64\n",
            " 43  primary_cleaner.state.floatbank8_b_level            19438 non-null  float64\n",
            " 44  primary_cleaner.state.floatbank8_c_air              19437 non-null  float64\n",
            " 45  primary_cleaner.state.floatbank8_c_level            19438 non-null  float64\n",
            " 46  primary_cleaner.state.floatbank8_d_air              19436 non-null  float64\n",
            " 47  primary_cleaner.state.floatbank8_d_level            19438 non-null  float64\n",
            " 48  primary_cleaner.output.concentrate_au               19439 non-null  float64\n",
            " 49  primary_cleaner.output.concentrate_ag               19439 non-null  float64\n",
            " 50  primary_cleaner.output.concentrate_pb               19323 non-null  float64\n",
            " 51  primary_cleaner.output.concentrate_sol              19069 non-null  float64\n",
            " 52  primary_cleaner.output.tail_au                      19439 non-null  float64\n",
            " 53  primary_cleaner.output.tail_ag                      19435 non-null  float64\n",
            " 54  primary_cleaner.output.tail_pb                      19418 non-null  float64\n",
            " 55  primary_cleaner.output.tail_sol                     19377 non-null  float64\n",
            " 56  secondary_cleaner.state.floatbank2_a_air            19219 non-null  float64\n",
            " 57  secondary_cleaner.state.floatbank2_a_level          19438 non-null  float64\n",
            " 58  secondary_cleaner.state.floatbank2_b_air            19416 non-null  float64\n",
            " 59  secondary_cleaner.state.floatbank2_b_level          19438 non-null  float64\n",
            " 60  secondary_cleaner.state.floatbank3_a_air            19426 non-null  float64\n",
            " 61  secondary_cleaner.state.floatbank3_a_level          19438 non-null  float64\n",
            " 62  secondary_cleaner.state.floatbank3_b_air            19438 non-null  float64\n",
            " 63  secondary_cleaner.state.floatbank3_b_level          19438 non-null  float64\n",
            " 64  secondary_cleaner.state.floatbank4_a_air            19433 non-null  float64\n",
            " 65  secondary_cleaner.state.floatbank4_a_level          19438 non-null  float64\n",
            " 66  secondary_cleaner.state.floatbank4_b_air            19438 non-null  float64\n",
            " 67  secondary_cleaner.state.floatbank4_b_level          19438 non-null  float64\n",
            " 68  secondary_cleaner.state.floatbank5_a_air            19438 non-null  float64\n",
            " 69  secondary_cleaner.state.floatbank5_a_level          19438 non-null  float64\n",
            " 70  secondary_cleaner.state.floatbank5_b_air            19438 non-null  float64\n",
            " 71  secondary_cleaner.state.floatbank5_b_level          19438 non-null  float64\n",
            " 72  secondary_cleaner.state.floatbank6_a_air            19437 non-null  float64\n",
            " 73  secondary_cleaner.state.floatbank6_a_level          19438 non-null  float64\n",
            " 74  secondary_cleaner.output.tail_au                    19439 non-null  float64\n",
            " 75  secondary_cleaner.output.tail_ag                    19437 non-null  float64\n",
            " 76  secondary_cleaner.output.tail_pb                    19427 non-null  float64\n",
            " 77  secondary_cleaner.output.tail_sol                   17691 non-null  float64\n",
            " 78  final.output.concentrate_au                         19439 non-null  float64\n",
            " 79  final.output.concentrate_ag                         19438 non-null  float64\n",
            " 80  final.output.concentrate_pb                         19438 non-null  float64\n",
            " 81  final.output.concentrate_sol                        19228 non-null  float64\n",
            " 82  final.output.recovery                               19439 non-null  float64\n",
            " 83  final.output.tail_au                                19439 non-null  float64\n",
            " 84  final.output.tail_ag                                19438 non-null  float64\n",
            " 85  final.output.tail_pb                                19338 non-null  float64\n",
            " 86  final.output.tail_sol                               19433 non-null  float64\n",
            "dtypes: float64(86), object(1)\n",
            "memory usage: 12.9+ MB\n"
          ]
        }
      ],
      "source": [
        "source_df.info()"
      ]
    },
    {
      "cell_type": "markdown",
      "metadata": {
        "id": "73lRvCPPX-FU"
      },
      "source": [
        "Данные прочитаны без ошибок. Дата указана в строковом формате. Конвертируем её"
      ]
    },
    {
      "cell_type": "code",
      "execution_count": 11,
      "metadata": {
        "id": "hXJ-9VYSX-FU"
      },
      "outputs": [],
      "source": [
        "test_df['date'] = pd.to_datetime(test_df['date'])\n",
        "train_df['date'] = pd.to_datetime(train_df['date'])\n",
        "source_df['date'] = pd.to_datetime(source_df['date'])"
      ]
    },
    {
      "cell_type": "markdown",
      "metadata": {
        "id": "ND6twFbEX-FU"
      },
      "source": [
        "### Эффективность обогащения\n",
        "\n",
        "Подготовим функию расчёта эффективности обогащения"
      ]
    },
    {
      "cell_type": "code",
      "execution_count": 12,
      "metadata": {
        "id": "TOanKYwDX-FV"
      },
      "outputs": [],
      "source": [
        "def recovery(final, rough, tail):\n",
        "    return (final * (rough - tail)) / (rough * (final - tail)) * 100"
      ]
    },
    {
      "cell_type": "markdown",
      "metadata": {
        "id": "ThXaut3pX-FV"
      },
      "source": [
        "Расчитаем итоговую эффективность и MAE"
      ]
    },
    {
      "cell_type": "code",
      "execution_count": 13,
      "metadata": {
        "scrolled": true,
        "colab": {
          "base_uri": "https://localhost:8080/"
        },
        "id": "pgfGNK4sX-FV",
        "outputId": "1dd29880-a7aa-4c3c-8a31-35f45c328409"
      },
      "outputs": [
        {
          "output_type": "execute_result",
          "data": {
            "text/plain": [
              "8.569602032360358e-15"
            ]
          },
          "metadata": {},
          "execution_count": 13
        }
      ],
      "source": [
        "final = train_df['final.output.concentrate_au']\n",
        "tail = train_df['final.output.tail_au']\n",
        "rough = train_df['rougher.input.feed_au']\n",
        "mean_absolute_error(train_df['final.output.recovery'], recovery(final, rough, tail))"
      ]
    },
    {
      "cell_type": "markdown",
      "metadata": {
        "id": "77Crot2pX-FV"
      },
      "source": [
        "MAE имеет порядок e-15, формула верна."
      ]
    },
    {
      "cell_type": "markdown",
      "metadata": {
        "id": "wbPrpfPBX-FW"
      },
      "source": [
        "### Сравнение обучающей и тестовой выборок\n",
        "\n",
        "Рассмотрим признаки, присутствующие в обучающей выборке и отсутствующие в тестовой"
      ]
    },
    {
      "cell_type": "code",
      "execution_count": 14,
      "metadata": {
        "colab": {
          "base_uri": "https://localhost:8080/"
        },
        "id": "ONCO_uJ_X-FW",
        "outputId": "009acea2-60d6-4d72-d1e7-ffa8e64d16e1"
      },
      "outputs": [
        {
          "output_type": "execute_result",
          "data": {
            "text/plain": [
              "Index(['rougher.calculation.sulfate_to_au_concentrate',\n",
              "       'rougher.calculation.floatbank10_sulfate_to_au_feed',\n",
              "       'rougher.calculation.floatbank11_sulfate_to_au_feed',\n",
              "       'rougher.calculation.au_pb_ratio', 'rougher.output.concentrate_au',\n",
              "       'rougher.output.concentrate_ag', 'rougher.output.concentrate_pb',\n",
              "       'rougher.output.concentrate_sol', 'rougher.output.recovery',\n",
              "       'rougher.output.tail_au', 'rougher.output.tail_ag',\n",
              "       'rougher.output.tail_pb', 'rougher.output.tail_sol',\n",
              "       'primary_cleaner.output.concentrate_au',\n",
              "       'primary_cleaner.output.concentrate_ag',\n",
              "       'primary_cleaner.output.concentrate_pb',\n",
              "       'primary_cleaner.output.concentrate_sol',\n",
              "       'primary_cleaner.output.tail_au', 'primary_cleaner.output.tail_ag',\n",
              "       'primary_cleaner.output.tail_pb', 'primary_cleaner.output.tail_sol',\n",
              "       'secondary_cleaner.output.tail_au', 'secondary_cleaner.output.tail_ag',\n",
              "       'secondary_cleaner.output.tail_pb', 'secondary_cleaner.output.tail_sol',\n",
              "       'final.output.concentrate_au', 'final.output.concentrate_ag',\n",
              "       'final.output.concentrate_pb', 'final.output.concentrate_sol',\n",
              "       'final.output.recovery', 'final.output.tail_au', 'final.output.tail_ag',\n",
              "       'final.output.tail_pb', 'final.output.tail_sol'],\n",
              "      dtype='object')"
            ]
          },
          "metadata": {},
          "execution_count": 14
        }
      ],
      "source": [
        "train_df.columns[~train_df.columns.isin(test_df.columns)]"
      ]
    },
    {
      "cell_type": "markdown",
      "metadata": {
        "id": "LUHbGFQfX-FW"
      },
      "source": [
        "В тестовой выборке отсутствуют признаки, относящиеся к двум категориям:\n",
        "1. расчётные\n",
        "2. результаты промедуточных стадий процесса"
      ]
    },
    {
      "cell_type": "markdown",
      "metadata": {
        "id": "NWq-K2WIX-FW"
      },
      "source": [
        "### Изучение пропусков\n",
        "\n",
        "Рассмотрим пропуски в данных"
      ]
    },
    {
      "cell_type": "code",
      "execution_count": 15,
      "metadata": {
        "collapsed": true,
        "colab": {
          "base_uri": "https://localhost:8080/"
        },
        "id": "aF5P85ZYX-FW",
        "outputId": "6aedd649-de9e-470b-fddd-355d99f703c8"
      },
      "outputs": [
        {
          "output_type": "execute_result",
          "data": {
            "text/plain": [
              "rougher.input.feed_pb                                 0.493861\n",
              "rougher.input.feed_sol                                0.528157\n",
              "rougher.input.feed_rate                               0.048014\n",
              "rougher.input.feed_size                               0.692777\n",
              "rougher.input.floatbank10_sulfate                     0.212635\n",
              "rougher.input.floatbank10_xanthate                    0.048014\n",
              "rougher.state.floatbank10_e_air                       2.942589\n",
              "rougher.input.floatbank11_sulfate                     0.246931\n",
              "rougher.input.floatbank11_xanthate                    2.791687\n",
              "rougher.calculation.sulfate_to_au_concentrate         0.006859\n",
              "rougher.calculation.floatbank10_sulfate_to_au_feed    0.006859\n",
              "rougher.calculation.floatbank11_sulfate_to_au_feed    0.006859\n",
              "rougher.output.concentrate_sol                        0.123465\n",
              "rougher.output.tail_ag                                0.006859\n",
              "primary_cleaner.input.sulfate                         0.157761\n",
              "primary_cleaner.input.depressant                      0.192057\n",
              "primary_cleaner.input.xanthate                        0.418410\n",
              "primary_cleaner.state.floatbank8_a_air                0.020578\n",
              "primary_cleaner.state.floatbank8_b_air                0.020578\n",
              "primary_cleaner.state.floatbank8_d_air                0.006859\n",
              "primary_cleaner.output.concentrate_pb                 0.603608\n",
              "primary_cleaner.output.concentrate_sol                1.817683\n",
              "primary_cleaner.output.tail_ag                        0.027437\n",
              "primary_cleaner.output.tail_pb                        0.041155\n",
              "primary_cleaner.output.tail_sol                       0.308663\n",
              "secondary_cleaner.state.floatbank2_a_air              0.644763\n",
              "secondary_cleaner.state.floatbank2_b_air              0.150902\n",
              "secondary_cleaner.state.floatbank3_a_air              0.082310\n",
              "secondary_cleaner.state.floatbank4_a_air              0.034296\n",
              "secondary_cleaner.state.floatbank6_a_air              0.006859\n",
              "secondary_cleaner.output.tail_ag                      0.006859\n",
              "secondary_cleaner.output.tail_pb                      0.027437\n",
              "secondary_cleaner.output.tail_sol                     6.310447\n",
              "final.output.concentrate_ag                           0.006859\n",
              "final.output.concentrate_pb                           0.006859\n",
              "final.output.concentrate_sol                          1.316963\n",
              "final.output.tail_ag                                  0.006859\n",
              "final.output.tail_pb                                  0.514439\n",
              "final.output.tail_sol                                 0.034296\n",
              "dtype: float64"
            ]
          },
          "metadata": {},
          "execution_count": 15
        }
      ],
      "source": [
        "train_df.isna().mean()[train_df.isna().mean() > 0] * 100"
      ]
    },
    {
      "cell_type": "code",
      "execution_count": 16,
      "metadata": {
        "colab": {
          "base_uri": "https://localhost:8080/",
          "height": 349
        },
        "id": "7E9YArcfX-FX",
        "outputId": "9bd53441-639e-4da3-d844-365d3512e050"
      },
      "outputs": [
        {
          "output_type": "execute_result",
          "data": {
            "text/plain": [
              "       rougher.input.feed_pb  rougher.input.feed_sol  rougher.input.feed_rate  \\\n",
              "count           14507.000000            14502.000000             14572.000000   \n",
              "mean                3.604221               36.561420               474.332784   \n",
              "std                 1.056063                5.209823               108.503552   \n",
              "min                 0.010000                0.010000                 0.002986   \n",
              "25%                 2.880490               34.093951               411.048483   \n",
              "50%                 3.532399               37.097511               498.187968   \n",
              "75%                 4.257282               39.899799               549.586552   \n",
              "max                 7.052325               53.475325               717.508837   \n",
              "\n",
              "       rougher.input.feed_size  rougher.input.floatbank10_sulfate  \\\n",
              "count             14478.000000                       14548.000000   \n",
              "mean                 58.922712                          12.427399   \n",
              "std                  22.407410                           3.428939   \n",
              "min                   0.049194                           0.001083   \n",
              "25%                  47.278490                          10.002832   \n",
              "50%                  54.361187                          12.003320   \n",
              "75%                  64.464926                          14.929903   \n",
              "max                 484.967466                          36.118275   \n",
              "\n",
              "       rougher.input.floatbank10_xanthate  rougher.state.floatbank10_e_air  \\\n",
              "count                        14572.000000                     14150.000000   \n",
              "mean                             5.994854                      1082.778201   \n",
              "std                              1.152873                       176.092308   \n",
              "min                              0.000568                        -1.982295   \n",
              "25%                              5.304167                       998.562148   \n",
              "50%                              6.003053                      1050.081856   \n",
              "75%                              6.796632                      1199.518951   \n",
              "max                              9.703448                      1922.636637   \n",
              "\n",
              "       rougher.input.floatbank11_sulfate  rougher.input.floatbank11_xanthate  \\\n",
              "count                       14543.000000                        14172.000000   \n",
              "mean                           12.095857                            6.047261   \n",
              "std                             3.887128                            1.115055   \n",
              "min                             0.000077                            0.000290   \n",
              "25%                             9.999625                            5.399770   \n",
              "50%                            12.000777                            6.096038   \n",
              "75%                            14.821675                            6.800713   \n",
              "max                            37.980648                            9.698407   \n",
              "\n",
              "       rougher.calculation.sulfate_to_au_concentrate  ...  \\\n",
              "count                                   1.457800e+04  ...   \n",
              "mean                                    4.435219e+04  ...   \n",
              "std                                     1.325109e+05  ...   \n",
              "min                                    -1.548858e+07  ...   \n",
              "25%                                     4.077084e+04  ...   \n",
              "50%                                     4.487892e+04  ...   \n",
              "75%                                     4.838894e+04  ...   \n",
              "max                                     3.428099e+06  ...   \n",
              "\n",
              "       secondary_cleaner.state.floatbank6_a_air  \\\n",
              "count                              14578.000000   \n",
              "mean                                  18.927405   \n",
              "std                                    5.550829   \n",
              "min                                   -0.079426   \n",
              "25%                                   14.985721   \n",
              "50%                                   19.960798   \n",
              "75%                                   23.038231   \n",
              "max                                   32.188906   \n",
              "\n",
              "       secondary_cleaner.output.tail_ag  secondary_cleaner.output.tail_pb  \\\n",
              "count                      14578.000000                      14575.000000   \n",
              "mean                          14.441265                          5.617182   \n",
              "std                            4.416497                          2.704951   \n",
              "min                            0.000000                          0.000000   \n",
              "25%                           12.479139                          3.801206   \n",
              "50%                           15.448510                          5.227419   \n",
              "75%                           17.349683                          7.609340   \n",
              "max                           23.264738                         17.042505   \n",
              "\n",
              "       secondary_cleaner.output.tail_sol  final.output.concentrate_ag  \\\n",
              "count                       13659.000000                 14578.000000   \n",
              "mean                            7.111347                     5.192145   \n",
              "std                             3.909951                     1.388014   \n",
              "min                             0.000000                     0.000000   \n",
              "25%                             3.784897                     4.283347   \n",
              "50%                             7.629968                     5.118647   \n",
              "75%                            10.367050                     5.925380   \n",
              "max                            26.000772                    16.001945   \n",
              "\n",
              "       final.output.concentrate_pb  final.output.concentrate_sol  \\\n",
              "count                 14578.000000                  14387.000000   \n",
              "mean                      9.923809                      9.566676   \n",
              "std                       1.706976                      2.805654   \n",
              "min                       0.000000                      0.000000   \n",
              "25%                       9.103183                      7.860030   \n",
              "50%                      10.046455                      9.301970   \n",
              "75%                      10.981203                     11.001573   \n",
              "max                      16.705297                     19.423912   \n",
              "\n",
              "       final.output.tail_ag  final.output.tail_pb  final.output.tail_sol  \n",
              "count          14578.000000          14504.000000           14574.000000  \n",
              "mean               9.731972              2.719985              10.612745  \n",
              "std                2.358143              0.958929               2.871075  \n",
              "min                0.000000              0.000000               0.000000  \n",
              "25%                8.088928              2.036512               9.013412  \n",
              "50%                9.818512              2.774847              10.670515  \n",
              "75%               11.169187              3.353845              12.130827  \n",
              "max               19.552149              5.804178              22.317730  \n",
              "\n",
              "[8 rows x 39 columns]"
            ],
            "text/html": [
              "\n",
              "  <div id=\"df-be0de9e3-3155-41ce-97ff-7ed404020f0a\" class=\"colab-df-container\">\n",
              "    <div>\n",
              "<style scoped>\n",
              "    .dataframe tbody tr th:only-of-type {\n",
              "        vertical-align: middle;\n",
              "    }\n",
              "\n",
              "    .dataframe tbody tr th {\n",
              "        vertical-align: top;\n",
              "    }\n",
              "\n",
              "    .dataframe thead th {\n",
              "        text-align: right;\n",
              "    }\n",
              "</style>\n",
              "<table border=\"1\" class=\"dataframe\">\n",
              "  <thead>\n",
              "    <tr style=\"text-align: right;\">\n",
              "      <th></th>\n",
              "      <th>rougher.input.feed_pb</th>\n",
              "      <th>rougher.input.feed_sol</th>\n",
              "      <th>rougher.input.feed_rate</th>\n",
              "      <th>rougher.input.feed_size</th>\n",
              "      <th>rougher.input.floatbank10_sulfate</th>\n",
              "      <th>rougher.input.floatbank10_xanthate</th>\n",
              "      <th>rougher.state.floatbank10_e_air</th>\n",
              "      <th>rougher.input.floatbank11_sulfate</th>\n",
              "      <th>rougher.input.floatbank11_xanthate</th>\n",
              "      <th>rougher.calculation.sulfate_to_au_concentrate</th>\n",
              "      <th>...</th>\n",
              "      <th>secondary_cleaner.state.floatbank6_a_air</th>\n",
              "      <th>secondary_cleaner.output.tail_ag</th>\n",
              "      <th>secondary_cleaner.output.tail_pb</th>\n",
              "      <th>secondary_cleaner.output.tail_sol</th>\n",
              "      <th>final.output.concentrate_ag</th>\n",
              "      <th>final.output.concentrate_pb</th>\n",
              "      <th>final.output.concentrate_sol</th>\n",
              "      <th>final.output.tail_ag</th>\n",
              "      <th>final.output.tail_pb</th>\n",
              "      <th>final.output.tail_sol</th>\n",
              "    </tr>\n",
              "  </thead>\n",
              "  <tbody>\n",
              "    <tr>\n",
              "      <th>count</th>\n",
              "      <td>14507.000000</td>\n",
              "      <td>14502.000000</td>\n",
              "      <td>14572.000000</td>\n",
              "      <td>14478.000000</td>\n",
              "      <td>14548.000000</td>\n",
              "      <td>14572.000000</td>\n",
              "      <td>14150.000000</td>\n",
              "      <td>14543.000000</td>\n",
              "      <td>14172.000000</td>\n",
              "      <td>1.457800e+04</td>\n",
              "      <td>...</td>\n",
              "      <td>14578.000000</td>\n",
              "      <td>14578.000000</td>\n",
              "      <td>14575.000000</td>\n",
              "      <td>13659.000000</td>\n",
              "      <td>14578.000000</td>\n",
              "      <td>14578.000000</td>\n",
              "      <td>14387.000000</td>\n",
              "      <td>14578.000000</td>\n",
              "      <td>14504.000000</td>\n",
              "      <td>14574.000000</td>\n",
              "    </tr>\n",
              "    <tr>\n",
              "      <th>mean</th>\n",
              "      <td>3.604221</td>\n",
              "      <td>36.561420</td>\n",
              "      <td>474.332784</td>\n",
              "      <td>58.922712</td>\n",
              "      <td>12.427399</td>\n",
              "      <td>5.994854</td>\n",
              "      <td>1082.778201</td>\n",
              "      <td>12.095857</td>\n",
              "      <td>6.047261</td>\n",
              "      <td>4.435219e+04</td>\n",
              "      <td>...</td>\n",
              "      <td>18.927405</td>\n",
              "      <td>14.441265</td>\n",
              "      <td>5.617182</td>\n",
              "      <td>7.111347</td>\n",
              "      <td>5.192145</td>\n",
              "      <td>9.923809</td>\n",
              "      <td>9.566676</td>\n",
              "      <td>9.731972</td>\n",
              "      <td>2.719985</td>\n",
              "      <td>10.612745</td>\n",
              "    </tr>\n",
              "    <tr>\n",
              "      <th>std</th>\n",
              "      <td>1.056063</td>\n",
              "      <td>5.209823</td>\n",
              "      <td>108.503552</td>\n",
              "      <td>22.407410</td>\n",
              "      <td>3.428939</td>\n",
              "      <td>1.152873</td>\n",
              "      <td>176.092308</td>\n",
              "      <td>3.887128</td>\n",
              "      <td>1.115055</td>\n",
              "      <td>1.325109e+05</td>\n",
              "      <td>...</td>\n",
              "      <td>5.550829</td>\n",
              "      <td>4.416497</td>\n",
              "      <td>2.704951</td>\n",
              "      <td>3.909951</td>\n",
              "      <td>1.388014</td>\n",
              "      <td>1.706976</td>\n",
              "      <td>2.805654</td>\n",
              "      <td>2.358143</td>\n",
              "      <td>0.958929</td>\n",
              "      <td>2.871075</td>\n",
              "    </tr>\n",
              "    <tr>\n",
              "      <th>min</th>\n",
              "      <td>0.010000</td>\n",
              "      <td>0.010000</td>\n",
              "      <td>0.002986</td>\n",
              "      <td>0.049194</td>\n",
              "      <td>0.001083</td>\n",
              "      <td>0.000568</td>\n",
              "      <td>-1.982295</td>\n",
              "      <td>0.000077</td>\n",
              "      <td>0.000290</td>\n",
              "      <td>-1.548858e+07</td>\n",
              "      <td>...</td>\n",
              "      <td>-0.079426</td>\n",
              "      <td>0.000000</td>\n",
              "      <td>0.000000</td>\n",
              "      <td>0.000000</td>\n",
              "      <td>0.000000</td>\n",
              "      <td>0.000000</td>\n",
              "      <td>0.000000</td>\n",
              "      <td>0.000000</td>\n",
              "      <td>0.000000</td>\n",
              "      <td>0.000000</td>\n",
              "    </tr>\n",
              "    <tr>\n",
              "      <th>25%</th>\n",
              "      <td>2.880490</td>\n",
              "      <td>34.093951</td>\n",
              "      <td>411.048483</td>\n",
              "      <td>47.278490</td>\n",
              "      <td>10.002832</td>\n",
              "      <td>5.304167</td>\n",
              "      <td>998.562148</td>\n",
              "      <td>9.999625</td>\n",
              "      <td>5.399770</td>\n",
              "      <td>4.077084e+04</td>\n",
              "      <td>...</td>\n",
              "      <td>14.985721</td>\n",
              "      <td>12.479139</td>\n",
              "      <td>3.801206</td>\n",
              "      <td>3.784897</td>\n",
              "      <td>4.283347</td>\n",
              "      <td>9.103183</td>\n",
              "      <td>7.860030</td>\n",
              "      <td>8.088928</td>\n",
              "      <td>2.036512</td>\n",
              "      <td>9.013412</td>\n",
              "    </tr>\n",
              "    <tr>\n",
              "      <th>50%</th>\n",
              "      <td>3.532399</td>\n",
              "      <td>37.097511</td>\n",
              "      <td>498.187968</td>\n",
              "      <td>54.361187</td>\n",
              "      <td>12.003320</td>\n",
              "      <td>6.003053</td>\n",
              "      <td>1050.081856</td>\n",
              "      <td>12.000777</td>\n",
              "      <td>6.096038</td>\n",
              "      <td>4.487892e+04</td>\n",
              "      <td>...</td>\n",
              "      <td>19.960798</td>\n",
              "      <td>15.448510</td>\n",
              "      <td>5.227419</td>\n",
              "      <td>7.629968</td>\n",
              "      <td>5.118647</td>\n",
              "      <td>10.046455</td>\n",
              "      <td>9.301970</td>\n",
              "      <td>9.818512</td>\n",
              "      <td>2.774847</td>\n",
              "      <td>10.670515</td>\n",
              "    </tr>\n",
              "    <tr>\n",
              "      <th>75%</th>\n",
              "      <td>4.257282</td>\n",
              "      <td>39.899799</td>\n",
              "      <td>549.586552</td>\n",
              "      <td>64.464926</td>\n",
              "      <td>14.929903</td>\n",
              "      <td>6.796632</td>\n",
              "      <td>1199.518951</td>\n",
              "      <td>14.821675</td>\n",
              "      <td>6.800713</td>\n",
              "      <td>4.838894e+04</td>\n",
              "      <td>...</td>\n",
              "      <td>23.038231</td>\n",
              "      <td>17.349683</td>\n",
              "      <td>7.609340</td>\n",
              "      <td>10.367050</td>\n",
              "      <td>5.925380</td>\n",
              "      <td>10.981203</td>\n",
              "      <td>11.001573</td>\n",
              "      <td>11.169187</td>\n",
              "      <td>3.353845</td>\n",
              "      <td>12.130827</td>\n",
              "    </tr>\n",
              "    <tr>\n",
              "      <th>max</th>\n",
              "      <td>7.052325</td>\n",
              "      <td>53.475325</td>\n",
              "      <td>717.508837</td>\n",
              "      <td>484.967466</td>\n",
              "      <td>36.118275</td>\n",
              "      <td>9.703448</td>\n",
              "      <td>1922.636637</td>\n",
              "      <td>37.980648</td>\n",
              "      <td>9.698407</td>\n",
              "      <td>3.428099e+06</td>\n",
              "      <td>...</td>\n",
              "      <td>32.188906</td>\n",
              "      <td>23.264738</td>\n",
              "      <td>17.042505</td>\n",
              "      <td>26.000772</td>\n",
              "      <td>16.001945</td>\n",
              "      <td>16.705297</td>\n",
              "      <td>19.423912</td>\n",
              "      <td>19.552149</td>\n",
              "      <td>5.804178</td>\n",
              "      <td>22.317730</td>\n",
              "    </tr>\n",
              "  </tbody>\n",
              "</table>\n",
              "<p>8 rows × 39 columns</p>\n",
              "</div>\n",
              "    <div class=\"colab-df-buttons\">\n",
              "\n",
              "  <div class=\"colab-df-container\">\n",
              "    <button class=\"colab-df-convert\" onclick=\"convertToInteractive('df-be0de9e3-3155-41ce-97ff-7ed404020f0a')\"\n",
              "            title=\"Convert this dataframe to an interactive table.\"\n",
              "            style=\"display:none;\">\n",
              "\n",
              "  <svg xmlns=\"http://www.w3.org/2000/svg\" height=\"24px\" viewBox=\"0 -960 960 960\">\n",
              "    <path d=\"M120-120v-720h720v720H120Zm60-500h600v-160H180v160Zm220 220h160v-160H400v160Zm0 220h160v-160H400v160ZM180-400h160v-160H180v160Zm440 0h160v-160H620v160ZM180-180h160v-160H180v160Zm440 0h160v-160H620v160Z\"/>\n",
              "  </svg>\n",
              "    </button>\n",
              "\n",
              "  <style>\n",
              "    .colab-df-container {\n",
              "      display:flex;\n",
              "      gap: 12px;\n",
              "    }\n",
              "\n",
              "    .colab-df-convert {\n",
              "      background-color: #E8F0FE;\n",
              "      border: none;\n",
              "      border-radius: 50%;\n",
              "      cursor: pointer;\n",
              "      display: none;\n",
              "      fill: #1967D2;\n",
              "      height: 32px;\n",
              "      padding: 0 0 0 0;\n",
              "      width: 32px;\n",
              "    }\n",
              "\n",
              "    .colab-df-convert:hover {\n",
              "      background-color: #E2EBFA;\n",
              "      box-shadow: 0px 1px 2px rgba(60, 64, 67, 0.3), 0px 1px 3px 1px rgba(60, 64, 67, 0.15);\n",
              "      fill: #174EA6;\n",
              "    }\n",
              "\n",
              "    .colab-df-buttons div {\n",
              "      margin-bottom: 4px;\n",
              "    }\n",
              "\n",
              "    [theme=dark] .colab-df-convert {\n",
              "      background-color: #3B4455;\n",
              "      fill: #D2E3FC;\n",
              "    }\n",
              "\n",
              "    [theme=dark] .colab-df-convert:hover {\n",
              "      background-color: #434B5C;\n",
              "      box-shadow: 0px 1px 3px 1px rgba(0, 0, 0, 0.15);\n",
              "      filter: drop-shadow(0px 1px 2px rgba(0, 0, 0, 0.3));\n",
              "      fill: #FFFFFF;\n",
              "    }\n",
              "  </style>\n",
              "\n",
              "    <script>\n",
              "      const buttonEl =\n",
              "        document.querySelector('#df-be0de9e3-3155-41ce-97ff-7ed404020f0a button.colab-df-convert');\n",
              "      buttonEl.style.display =\n",
              "        google.colab.kernel.accessAllowed ? 'block' : 'none';\n",
              "\n",
              "      async function convertToInteractive(key) {\n",
              "        const element = document.querySelector('#df-be0de9e3-3155-41ce-97ff-7ed404020f0a');\n",
              "        const dataTable =\n",
              "          await google.colab.kernel.invokeFunction('convertToInteractive',\n",
              "                                                    [key], {});\n",
              "        if (!dataTable) return;\n",
              "\n",
              "        const docLinkHtml = 'Like what you see? Visit the ' +\n",
              "          '<a target=\"_blank\" href=https://colab.research.google.com/notebooks/data_table.ipynb>data table notebook</a>'\n",
              "          + ' to learn more about interactive tables.';\n",
              "        element.innerHTML = '';\n",
              "        dataTable['output_type'] = 'display_data';\n",
              "        await google.colab.output.renderOutput(dataTable, element);\n",
              "        const docLink = document.createElement('div');\n",
              "        docLink.innerHTML = docLinkHtml;\n",
              "        element.appendChild(docLink);\n",
              "      }\n",
              "    </script>\n",
              "  </div>\n",
              "\n",
              "\n",
              "<div id=\"df-9463e53a-ee85-4b8f-b4d8-7d1e0318eadd\">\n",
              "  <button class=\"colab-df-quickchart\" onclick=\"quickchart('df-9463e53a-ee85-4b8f-b4d8-7d1e0318eadd')\"\n",
              "            title=\"Suggest charts\"\n",
              "            style=\"display:none;\">\n",
              "\n",
              "<svg xmlns=\"http://www.w3.org/2000/svg\" height=\"24px\"viewBox=\"0 0 24 24\"\n",
              "     width=\"24px\">\n",
              "    <g>\n",
              "        <path d=\"M19 3H5c-1.1 0-2 .9-2 2v14c0 1.1.9 2 2 2h14c1.1 0 2-.9 2-2V5c0-1.1-.9-2-2-2zM9 17H7v-7h2v7zm4 0h-2V7h2v10zm4 0h-2v-4h2v4z\"/>\n",
              "    </g>\n",
              "</svg>\n",
              "  </button>\n",
              "\n",
              "<style>\n",
              "  .colab-df-quickchart {\n",
              "      --bg-color: #E8F0FE;\n",
              "      --fill-color: #1967D2;\n",
              "      --hover-bg-color: #E2EBFA;\n",
              "      --hover-fill-color: #174EA6;\n",
              "      --disabled-fill-color: #AAA;\n",
              "      --disabled-bg-color: #DDD;\n",
              "  }\n",
              "\n",
              "  [theme=dark] .colab-df-quickchart {\n",
              "      --bg-color: #3B4455;\n",
              "      --fill-color: #D2E3FC;\n",
              "      --hover-bg-color: #434B5C;\n",
              "      --hover-fill-color: #FFFFFF;\n",
              "      --disabled-bg-color: #3B4455;\n",
              "      --disabled-fill-color: #666;\n",
              "  }\n",
              "\n",
              "  .colab-df-quickchart {\n",
              "    background-color: var(--bg-color);\n",
              "    border: none;\n",
              "    border-radius: 50%;\n",
              "    cursor: pointer;\n",
              "    display: none;\n",
              "    fill: var(--fill-color);\n",
              "    height: 32px;\n",
              "    padding: 0;\n",
              "    width: 32px;\n",
              "  }\n",
              "\n",
              "  .colab-df-quickchart:hover {\n",
              "    background-color: var(--hover-bg-color);\n",
              "    box-shadow: 0 1px 2px rgba(60, 64, 67, 0.3), 0 1px 3px 1px rgba(60, 64, 67, 0.15);\n",
              "    fill: var(--button-hover-fill-color);\n",
              "  }\n",
              "\n",
              "  .colab-df-quickchart-complete:disabled,\n",
              "  .colab-df-quickchart-complete:disabled:hover {\n",
              "    background-color: var(--disabled-bg-color);\n",
              "    fill: var(--disabled-fill-color);\n",
              "    box-shadow: none;\n",
              "  }\n",
              "\n",
              "  .colab-df-spinner {\n",
              "    border: 2px solid var(--fill-color);\n",
              "    border-color: transparent;\n",
              "    border-bottom-color: var(--fill-color);\n",
              "    animation:\n",
              "      spin 1s steps(1) infinite;\n",
              "  }\n",
              "\n",
              "  @keyframes spin {\n",
              "    0% {\n",
              "      border-color: transparent;\n",
              "      border-bottom-color: var(--fill-color);\n",
              "      border-left-color: var(--fill-color);\n",
              "    }\n",
              "    20% {\n",
              "      border-color: transparent;\n",
              "      border-left-color: var(--fill-color);\n",
              "      border-top-color: var(--fill-color);\n",
              "    }\n",
              "    30% {\n",
              "      border-color: transparent;\n",
              "      border-left-color: var(--fill-color);\n",
              "      border-top-color: var(--fill-color);\n",
              "      border-right-color: var(--fill-color);\n",
              "    }\n",
              "    40% {\n",
              "      border-color: transparent;\n",
              "      border-right-color: var(--fill-color);\n",
              "      border-top-color: var(--fill-color);\n",
              "    }\n",
              "    60% {\n",
              "      border-color: transparent;\n",
              "      border-right-color: var(--fill-color);\n",
              "    }\n",
              "    80% {\n",
              "      border-color: transparent;\n",
              "      border-right-color: var(--fill-color);\n",
              "      border-bottom-color: var(--fill-color);\n",
              "    }\n",
              "    90% {\n",
              "      border-color: transparent;\n",
              "      border-bottom-color: var(--fill-color);\n",
              "    }\n",
              "  }\n",
              "</style>\n",
              "\n",
              "  <script>\n",
              "    async function quickchart(key) {\n",
              "      const quickchartButtonEl =\n",
              "        document.querySelector('#' + key + ' button');\n",
              "      quickchartButtonEl.disabled = true;  // To prevent multiple clicks.\n",
              "      quickchartButtonEl.classList.add('colab-df-spinner');\n",
              "      try {\n",
              "        const charts = await google.colab.kernel.invokeFunction(\n",
              "            'suggestCharts', [key], {});\n",
              "      } catch (error) {\n",
              "        console.error('Error during call to suggestCharts:', error);\n",
              "      }\n",
              "      quickchartButtonEl.classList.remove('colab-df-spinner');\n",
              "      quickchartButtonEl.classList.add('colab-df-quickchart-complete');\n",
              "    }\n",
              "    (() => {\n",
              "      let quickchartButtonEl =\n",
              "        document.querySelector('#df-9463e53a-ee85-4b8f-b4d8-7d1e0318eadd button');\n",
              "      quickchartButtonEl.style.display =\n",
              "        google.colab.kernel.accessAllowed ? 'block' : 'none';\n",
              "    })();\n",
              "  </script>\n",
              "</div>\n",
              "    </div>\n",
              "  </div>\n"
            ]
          },
          "metadata": {},
          "execution_count": 16
        }
      ],
      "source": [
        "have_missed = train_df.isna().mean()[train_df.isna().mean() > 0].index\n",
        "train_df[have_missed].describe()"
      ]
    },
    {
      "cell_type": "code",
      "execution_count": 17,
      "metadata": {
        "collapsed": true,
        "colab": {
          "base_uri": "https://localhost:8080/"
        },
        "id": "zZJVntHQX-FX",
        "outputId": "5d387249-d113-4889-c333-70e1d1c09a58"
      },
      "outputs": [
        {
          "output_type": "execute_result",
          "data": {
            "text/plain": [
              "rougher.input.feed_pb                         0.576132\n",
              "rougher.input.feed_sol                        0.452675\n",
              "rougher.input.feed_rate                       0.082305\n",
              "rougher.input.feed_size                       0.905350\n",
              "rougher.input.floatbank10_sulfate             0.061728\n",
              "rougher.input.floatbank10_xanthate            0.020576\n",
              "rougher.state.floatbank10_a_air               0.020576\n",
              "rougher.state.floatbank10_a_level             0.020576\n",
              "rougher.state.floatbank10_b_air               0.020576\n",
              "rougher.state.floatbank10_b_level             0.020576\n",
              "rougher.state.floatbank10_c_air               0.020576\n",
              "rougher.state.floatbank10_c_level             0.020576\n",
              "rougher.state.floatbank10_e_air               0.144033\n",
              "rougher.input.floatbank11_sulfate             0.164609\n",
              "rougher.input.floatbank11_xanthate            0.946502\n",
              "primary_cleaner.input.sulfate                 0.020576\n",
              "primary_cleaner.input.depressant              0.185185\n",
              "primary_cleaner.input.xanthate                0.884774\n",
              "primary_cleaner.state.floatbank8_a_air        0.020576\n",
              "primary_cleaner.state.floatbank8_a_level      0.020576\n",
              "primary_cleaner.state.floatbank8_b_air        0.020576\n",
              "primary_cleaner.state.floatbank8_b_level      0.020576\n",
              "primary_cleaner.state.floatbank8_c_air        0.041152\n",
              "primary_cleaner.state.floatbank8_c_level      0.020576\n",
              "primary_cleaner.state.floatbank8_d_air        0.041152\n",
              "primary_cleaner.state.floatbank8_d_level      0.020576\n",
              "secondary_cleaner.state.floatbank2_a_air      2.592593\n",
              "secondary_cleaner.state.floatbank2_a_level    0.020576\n",
              "secondary_cleaner.state.floatbank2_b_air      0.020576\n",
              "secondary_cleaner.state.floatbank2_b_level    0.020576\n",
              "secondary_cleaner.state.floatbank3_a_air      0.020576\n",
              "secondary_cleaner.state.floatbank3_a_level    0.020576\n",
              "secondary_cleaner.state.floatbank3_b_air      0.020576\n",
              "secondary_cleaner.state.floatbank3_b_level    0.020576\n",
              "secondary_cleaner.state.floatbank4_a_air      0.020576\n",
              "secondary_cleaner.state.floatbank4_a_level    0.020576\n",
              "secondary_cleaner.state.floatbank4_b_air      0.020576\n",
              "secondary_cleaner.state.floatbank4_b_level    0.020576\n",
              "secondary_cleaner.state.floatbank5_a_air      0.020576\n",
              "secondary_cleaner.state.floatbank5_a_level    0.020576\n",
              "secondary_cleaner.state.floatbank5_b_air      0.020576\n",
              "secondary_cleaner.state.floatbank5_b_level    0.020576\n",
              "secondary_cleaner.state.floatbank6_a_air      0.020576\n",
              "secondary_cleaner.state.floatbank6_a_level    0.020576\n",
              "dtype: float64"
            ]
          },
          "metadata": {},
          "execution_count": 17
        }
      ],
      "source": [
        "test_df.isna().mean()[test_df.isna().mean() > 0] * 100"
      ]
    },
    {
      "cell_type": "code",
      "execution_count": 18,
      "metadata": {
        "scrolled": true,
        "colab": {
          "base_uri": "https://localhost:8080/",
          "height": 349
        },
        "id": "6yRrTPPxX-FX",
        "outputId": "0294446e-1bfd-4080-80db-8661f07cf16b"
      },
      "outputs": [
        {
          "output_type": "execute_result",
          "data": {
            "text/plain": [
              "       rougher.input.feed_pb  rougher.input.feed_sol  rougher.input.feed_rate  \\\n",
              "count            4832.000000             4838.000000              4856.000000   \n",
              "mean                3.579662               37.095864               490.285103   \n",
              "std                 1.029377                4.926284                94.371623   \n",
              "min                 0.010000                0.010000                 0.012786   \n",
              "25%                 2.903612               34.510841               434.099695   \n",
              "50%                 3.540772               37.499761               502.118742   \n",
              "75%                 4.199847               40.461315               555.596563   \n",
              "max                 7.142594               53.477742               702.523396   \n",
              "\n",
              "       rougher.input.feed_size  rougher.input.floatbank10_sulfate  \\\n",
              "count              4816.000000                        4857.000000   \n",
              "mean                 59.113400                          12.055735   \n",
              "std                  19.125122                           3.407642   \n",
              "min                   0.046369                           0.018907   \n",
              "25%                  47.596984                           9.890429   \n",
              "50%                  55.509481                          11.997859   \n",
              "75%                  66.661547                          14.496072   \n",
              "max                 363.989699                          30.010759   \n",
              "\n",
              "       rougher.input.floatbank10_xanthate  rougher.state.floatbank10_a_air  \\\n",
              "count                         4859.000000                      4859.000000   \n",
              "mean                             6.101308                      1108.635895   \n",
              "std                              1.042754                       156.493143   \n",
              "min                              0.015783                       300.792494   \n",
              "25%                              5.499808                       999.715729   \n",
              "50%                              6.099805                      1001.414798   \n",
              "75%                              6.802101                      1202.837565   \n",
              "max                              9.396928                      1521.980372   \n",
              "\n",
              "       rougher.state.floatbank10_a_level  rougher.state.floatbank10_b_air  \\\n",
              "count                        4859.000000                      4859.000000   \n",
              "mean                         -368.340127                      1312.346061   \n",
              "std                            91.155929                       159.001709   \n",
              "min                          -600.568138                       767.656587   \n",
              "25%                          -499.731972                      1199.741605   \n",
              "50%                          -300.181367                      1300.278835   \n",
              "75%                          -299.961547                      1401.691789   \n",
              "max                          -281.039299                      1802.528564   \n",
              "\n",
              "       rougher.state.floatbank10_b_level  ...  \\\n",
              "count                        4859.000000  ...   \n",
              "mean                         -472.506533  ...   \n",
              "std                            49.376824  ...   \n",
              "min                          -649.997496  ...   \n",
              "25%                          -500.218827  ...   \n",
              "50%                          -499.827934  ...   \n",
              "75%                          -449.925513  ...   \n",
              "max                          -298.836629  ...   \n",
              "\n",
              "       secondary_cleaner.state.floatbank4_a_air  \\\n",
              "count                              4.859000e+03   \n",
              "mean                               1.985770e+01   \n",
              "std                                5.913105e+00   \n",
              "min                                1.079872e-16   \n",
              "25%                                1.501123e+01   \n",
              "50%                                1.996807e+01   \n",
              "75%                                2.498900e+01   \n",
              "max                                3.008450e+01   \n",
              "\n",
              "       secondary_cleaner.state.floatbank4_a_level  \\\n",
              "count                                 4859.000000   \n",
              "mean                                  -488.665140   \n",
              "std                                     44.392714   \n",
              "min                                   -799.704969   \n",
              "25%                                   -500.704004   \n",
              "50%                                   -499.892919   \n",
              "75%                                   -498.652030   \n",
              "max                                   -383.373053   \n",
              "\n",
              "       secondary_cleaner.state.floatbank4_b_air  \\\n",
              "count                              4.859000e+03   \n",
              "mean                               1.557025e+01   \n",
              "std                                4.927361e+00   \n",
              "min                                2.489718e-17   \n",
              "25%                                1.202172e+01   \n",
              "50%                                1.501240e+01   \n",
              "75%                                1.999949e+01   \n",
              "max                                2.398898e+01   \n",
              "\n",
              "       secondary_cleaner.state.floatbank4_b_level  \\\n",
              "count                                 4859.000000   \n",
              "mean                                  -464.176507   \n",
              "std                                     65.706994   \n",
              "min                                   -799.860767   \n",
              "25%                                   -500.196517   \n",
              "50%                                   -499.540776   \n",
              "75%                                   -400.302329   \n",
              "max                                   -114.250832   \n",
              "\n",
              "       secondary_cleaner.state.floatbank5_a_air  \\\n",
              "count                               4859.000000   \n",
              "mean                                  16.594103   \n",
              "std                                    5.724305   \n",
              "min                                   -0.371498   \n",
              "25%                                   11.073822   \n",
              "50%                                   16.631195   \n",
              "75%                                   19.983191   \n",
              "max                                   33.215996   \n",
              "\n",
              "       secondary_cleaner.state.floatbank5_a_level  \\\n",
              "count                                 4859.000000   \n",
              "mean                                  -490.815250   \n",
              "std                                     32.258443   \n",
              "min                                   -797.142475   \n",
              "25%                                   -500.483564   \n",
              "50%                                   -499.873136   \n",
              "75%                                   -498.852815   \n",
              "max                                   -288.963521   \n",
              "\n",
              "       secondary_cleaner.state.floatbank5_b_air  \\\n",
              "count                               4859.000000   \n",
              "mean                                  12.945971   \n",
              "std                                    5.533176   \n",
              "min                                    1.358469   \n",
              "25%                                    9.011890   \n",
              "50%                                   11.999417   \n",
              "75%                                   15.004198   \n",
              "max                                   24.177106   \n",
              "\n",
              "       secondary_cleaner.state.floatbank5_b_level  \\\n",
              "count                                 4859.000000   \n",
              "mean                                  -489.583564   \n",
              "std                                     37.084609   \n",
              "min                                   -800.006180   \n",
              "25%                                   -500.129913   \n",
              "50%                                   -499.955304   \n",
              "75%                                   -499.643776   \n",
              "max                                   -141.934397   \n",
              "\n",
              "       secondary_cleaner.state.floatbank6_a_air  \\\n",
              "count                               4859.000000   \n",
              "mean                                  19.053888   \n",
              "std                                    5.548996   \n",
              "min                                    0.160386   \n",
              "25%                                   14.963953   \n",
              "50%                                   19.960006   \n",
              "75%                                   24.974583   \n",
              "max                                   32.028529   \n",
              "\n",
              "       secondary_cleaner.state.floatbank6_a_level  \n",
              "count                                 4859.000000  \n",
              "mean                                  -504.678924  \n",
              "std                                     38.690186  \n",
              "min                                   -809.734800  \n",
              "25%                                   -500.668501  \n",
              "50%                                   -500.033769  \n",
              "75%                                   -499.460134  \n",
              "max                                   -104.427459  \n",
              "\n",
              "[8 rows x 44 columns]"
            ],
            "text/html": [
              "\n",
              "  <div id=\"df-a3390386-2b23-4dda-921a-88e70f514608\" class=\"colab-df-container\">\n",
              "    <div>\n",
              "<style scoped>\n",
              "    .dataframe tbody tr th:only-of-type {\n",
              "        vertical-align: middle;\n",
              "    }\n",
              "\n",
              "    .dataframe tbody tr th {\n",
              "        vertical-align: top;\n",
              "    }\n",
              "\n",
              "    .dataframe thead th {\n",
              "        text-align: right;\n",
              "    }\n",
              "</style>\n",
              "<table border=\"1\" class=\"dataframe\">\n",
              "  <thead>\n",
              "    <tr style=\"text-align: right;\">\n",
              "      <th></th>\n",
              "      <th>rougher.input.feed_pb</th>\n",
              "      <th>rougher.input.feed_sol</th>\n",
              "      <th>rougher.input.feed_rate</th>\n",
              "      <th>rougher.input.feed_size</th>\n",
              "      <th>rougher.input.floatbank10_sulfate</th>\n",
              "      <th>rougher.input.floatbank10_xanthate</th>\n",
              "      <th>rougher.state.floatbank10_a_air</th>\n",
              "      <th>rougher.state.floatbank10_a_level</th>\n",
              "      <th>rougher.state.floatbank10_b_air</th>\n",
              "      <th>rougher.state.floatbank10_b_level</th>\n",
              "      <th>...</th>\n",
              "      <th>secondary_cleaner.state.floatbank4_a_air</th>\n",
              "      <th>secondary_cleaner.state.floatbank4_a_level</th>\n",
              "      <th>secondary_cleaner.state.floatbank4_b_air</th>\n",
              "      <th>secondary_cleaner.state.floatbank4_b_level</th>\n",
              "      <th>secondary_cleaner.state.floatbank5_a_air</th>\n",
              "      <th>secondary_cleaner.state.floatbank5_a_level</th>\n",
              "      <th>secondary_cleaner.state.floatbank5_b_air</th>\n",
              "      <th>secondary_cleaner.state.floatbank5_b_level</th>\n",
              "      <th>secondary_cleaner.state.floatbank6_a_air</th>\n",
              "      <th>secondary_cleaner.state.floatbank6_a_level</th>\n",
              "    </tr>\n",
              "  </thead>\n",
              "  <tbody>\n",
              "    <tr>\n",
              "      <th>count</th>\n",
              "      <td>4832.000000</td>\n",
              "      <td>4838.000000</td>\n",
              "      <td>4856.000000</td>\n",
              "      <td>4816.000000</td>\n",
              "      <td>4857.000000</td>\n",
              "      <td>4859.000000</td>\n",
              "      <td>4859.000000</td>\n",
              "      <td>4859.000000</td>\n",
              "      <td>4859.000000</td>\n",
              "      <td>4859.000000</td>\n",
              "      <td>...</td>\n",
              "      <td>4.859000e+03</td>\n",
              "      <td>4859.000000</td>\n",
              "      <td>4.859000e+03</td>\n",
              "      <td>4859.000000</td>\n",
              "      <td>4859.000000</td>\n",
              "      <td>4859.000000</td>\n",
              "      <td>4859.000000</td>\n",
              "      <td>4859.000000</td>\n",
              "      <td>4859.000000</td>\n",
              "      <td>4859.000000</td>\n",
              "    </tr>\n",
              "    <tr>\n",
              "      <th>mean</th>\n",
              "      <td>3.579662</td>\n",
              "      <td>37.095864</td>\n",
              "      <td>490.285103</td>\n",
              "      <td>59.113400</td>\n",
              "      <td>12.055735</td>\n",
              "      <td>6.101308</td>\n",
              "      <td>1108.635895</td>\n",
              "      <td>-368.340127</td>\n",
              "      <td>1312.346061</td>\n",
              "      <td>-472.506533</td>\n",
              "      <td>...</td>\n",
              "      <td>1.985770e+01</td>\n",
              "      <td>-488.665140</td>\n",
              "      <td>1.557025e+01</td>\n",
              "      <td>-464.176507</td>\n",
              "      <td>16.594103</td>\n",
              "      <td>-490.815250</td>\n",
              "      <td>12.945971</td>\n",
              "      <td>-489.583564</td>\n",
              "      <td>19.053888</td>\n",
              "      <td>-504.678924</td>\n",
              "    </tr>\n",
              "    <tr>\n",
              "      <th>std</th>\n",
              "      <td>1.029377</td>\n",
              "      <td>4.926284</td>\n",
              "      <td>94.371623</td>\n",
              "      <td>19.125122</td>\n",
              "      <td>3.407642</td>\n",
              "      <td>1.042754</td>\n",
              "      <td>156.493143</td>\n",
              "      <td>91.155929</td>\n",
              "      <td>159.001709</td>\n",
              "      <td>49.376824</td>\n",
              "      <td>...</td>\n",
              "      <td>5.913105e+00</td>\n",
              "      <td>44.392714</td>\n",
              "      <td>4.927361e+00</td>\n",
              "      <td>65.706994</td>\n",
              "      <td>5.724305</td>\n",
              "      <td>32.258443</td>\n",
              "      <td>5.533176</td>\n",
              "      <td>37.084609</td>\n",
              "      <td>5.548996</td>\n",
              "      <td>38.690186</td>\n",
              "    </tr>\n",
              "    <tr>\n",
              "      <th>min</th>\n",
              "      <td>0.010000</td>\n",
              "      <td>0.010000</td>\n",
              "      <td>0.012786</td>\n",
              "      <td>0.046369</td>\n",
              "      <td>0.018907</td>\n",
              "      <td>0.015783</td>\n",
              "      <td>300.792494</td>\n",
              "      <td>-600.568138</td>\n",
              "      <td>767.656587</td>\n",
              "      <td>-649.997496</td>\n",
              "      <td>...</td>\n",
              "      <td>1.079872e-16</td>\n",
              "      <td>-799.704969</td>\n",
              "      <td>2.489718e-17</td>\n",
              "      <td>-799.860767</td>\n",
              "      <td>-0.371498</td>\n",
              "      <td>-797.142475</td>\n",
              "      <td>1.358469</td>\n",
              "      <td>-800.006180</td>\n",
              "      <td>0.160386</td>\n",
              "      <td>-809.734800</td>\n",
              "    </tr>\n",
              "    <tr>\n",
              "      <th>25%</th>\n",
              "      <td>2.903612</td>\n",
              "      <td>34.510841</td>\n",
              "      <td>434.099695</td>\n",
              "      <td>47.596984</td>\n",
              "      <td>9.890429</td>\n",
              "      <td>5.499808</td>\n",
              "      <td>999.715729</td>\n",
              "      <td>-499.731972</td>\n",
              "      <td>1199.741605</td>\n",
              "      <td>-500.218827</td>\n",
              "      <td>...</td>\n",
              "      <td>1.501123e+01</td>\n",
              "      <td>-500.704004</td>\n",
              "      <td>1.202172e+01</td>\n",
              "      <td>-500.196517</td>\n",
              "      <td>11.073822</td>\n",
              "      <td>-500.483564</td>\n",
              "      <td>9.011890</td>\n",
              "      <td>-500.129913</td>\n",
              "      <td>14.963953</td>\n",
              "      <td>-500.668501</td>\n",
              "    </tr>\n",
              "    <tr>\n",
              "      <th>50%</th>\n",
              "      <td>3.540772</td>\n",
              "      <td>37.499761</td>\n",
              "      <td>502.118742</td>\n",
              "      <td>55.509481</td>\n",
              "      <td>11.997859</td>\n",
              "      <td>6.099805</td>\n",
              "      <td>1001.414798</td>\n",
              "      <td>-300.181367</td>\n",
              "      <td>1300.278835</td>\n",
              "      <td>-499.827934</td>\n",
              "      <td>...</td>\n",
              "      <td>1.996807e+01</td>\n",
              "      <td>-499.892919</td>\n",
              "      <td>1.501240e+01</td>\n",
              "      <td>-499.540776</td>\n",
              "      <td>16.631195</td>\n",
              "      <td>-499.873136</td>\n",
              "      <td>11.999417</td>\n",
              "      <td>-499.955304</td>\n",
              "      <td>19.960006</td>\n",
              "      <td>-500.033769</td>\n",
              "    </tr>\n",
              "    <tr>\n",
              "      <th>75%</th>\n",
              "      <td>4.199847</td>\n",
              "      <td>40.461315</td>\n",
              "      <td>555.596563</td>\n",
              "      <td>66.661547</td>\n",
              "      <td>14.496072</td>\n",
              "      <td>6.802101</td>\n",
              "      <td>1202.837565</td>\n",
              "      <td>-299.961547</td>\n",
              "      <td>1401.691789</td>\n",
              "      <td>-449.925513</td>\n",
              "      <td>...</td>\n",
              "      <td>2.498900e+01</td>\n",
              "      <td>-498.652030</td>\n",
              "      <td>1.999949e+01</td>\n",
              "      <td>-400.302329</td>\n",
              "      <td>19.983191</td>\n",
              "      <td>-498.852815</td>\n",
              "      <td>15.004198</td>\n",
              "      <td>-499.643776</td>\n",
              "      <td>24.974583</td>\n",
              "      <td>-499.460134</td>\n",
              "    </tr>\n",
              "    <tr>\n",
              "      <th>max</th>\n",
              "      <td>7.142594</td>\n",
              "      <td>53.477742</td>\n",
              "      <td>702.523396</td>\n",
              "      <td>363.989699</td>\n",
              "      <td>30.010759</td>\n",
              "      <td>9.396928</td>\n",
              "      <td>1521.980372</td>\n",
              "      <td>-281.039299</td>\n",
              "      <td>1802.528564</td>\n",
              "      <td>-298.836629</td>\n",
              "      <td>...</td>\n",
              "      <td>3.008450e+01</td>\n",
              "      <td>-383.373053</td>\n",
              "      <td>2.398898e+01</td>\n",
              "      <td>-114.250832</td>\n",
              "      <td>33.215996</td>\n",
              "      <td>-288.963521</td>\n",
              "      <td>24.177106</td>\n",
              "      <td>-141.934397</td>\n",
              "      <td>32.028529</td>\n",
              "      <td>-104.427459</td>\n",
              "    </tr>\n",
              "  </tbody>\n",
              "</table>\n",
              "<p>8 rows × 44 columns</p>\n",
              "</div>\n",
              "    <div class=\"colab-df-buttons\">\n",
              "\n",
              "  <div class=\"colab-df-container\">\n",
              "    <button class=\"colab-df-convert\" onclick=\"convertToInteractive('df-a3390386-2b23-4dda-921a-88e70f514608')\"\n",
              "            title=\"Convert this dataframe to an interactive table.\"\n",
              "            style=\"display:none;\">\n",
              "\n",
              "  <svg xmlns=\"http://www.w3.org/2000/svg\" height=\"24px\" viewBox=\"0 -960 960 960\">\n",
              "    <path d=\"M120-120v-720h720v720H120Zm60-500h600v-160H180v160Zm220 220h160v-160H400v160Zm0 220h160v-160H400v160ZM180-400h160v-160H180v160Zm440 0h160v-160H620v160ZM180-180h160v-160H180v160Zm440 0h160v-160H620v160Z\"/>\n",
              "  </svg>\n",
              "    </button>\n",
              "\n",
              "  <style>\n",
              "    .colab-df-container {\n",
              "      display:flex;\n",
              "      gap: 12px;\n",
              "    }\n",
              "\n",
              "    .colab-df-convert {\n",
              "      background-color: #E8F0FE;\n",
              "      border: none;\n",
              "      border-radius: 50%;\n",
              "      cursor: pointer;\n",
              "      display: none;\n",
              "      fill: #1967D2;\n",
              "      height: 32px;\n",
              "      padding: 0 0 0 0;\n",
              "      width: 32px;\n",
              "    }\n",
              "\n",
              "    .colab-df-convert:hover {\n",
              "      background-color: #E2EBFA;\n",
              "      box-shadow: 0px 1px 2px rgba(60, 64, 67, 0.3), 0px 1px 3px 1px rgba(60, 64, 67, 0.15);\n",
              "      fill: #174EA6;\n",
              "    }\n",
              "\n",
              "    .colab-df-buttons div {\n",
              "      margin-bottom: 4px;\n",
              "    }\n",
              "\n",
              "    [theme=dark] .colab-df-convert {\n",
              "      background-color: #3B4455;\n",
              "      fill: #D2E3FC;\n",
              "    }\n",
              "\n",
              "    [theme=dark] .colab-df-convert:hover {\n",
              "      background-color: #434B5C;\n",
              "      box-shadow: 0px 1px 3px 1px rgba(0, 0, 0, 0.15);\n",
              "      filter: drop-shadow(0px 1px 2px rgba(0, 0, 0, 0.3));\n",
              "      fill: #FFFFFF;\n",
              "    }\n",
              "  </style>\n",
              "\n",
              "    <script>\n",
              "      const buttonEl =\n",
              "        document.querySelector('#df-a3390386-2b23-4dda-921a-88e70f514608 button.colab-df-convert');\n",
              "      buttonEl.style.display =\n",
              "        google.colab.kernel.accessAllowed ? 'block' : 'none';\n",
              "\n",
              "      async function convertToInteractive(key) {\n",
              "        const element = document.querySelector('#df-a3390386-2b23-4dda-921a-88e70f514608');\n",
              "        const dataTable =\n",
              "          await google.colab.kernel.invokeFunction('convertToInteractive',\n",
              "                                                    [key], {});\n",
              "        if (!dataTable) return;\n",
              "\n",
              "        const docLinkHtml = 'Like what you see? Visit the ' +\n",
              "          '<a target=\"_blank\" href=https://colab.research.google.com/notebooks/data_table.ipynb>data table notebook</a>'\n",
              "          + ' to learn more about interactive tables.';\n",
              "        element.innerHTML = '';\n",
              "        dataTable['output_type'] = 'display_data';\n",
              "        await google.colab.output.renderOutput(dataTable, element);\n",
              "        const docLink = document.createElement('div');\n",
              "        docLink.innerHTML = docLinkHtml;\n",
              "        element.appendChild(docLink);\n",
              "      }\n",
              "    </script>\n",
              "  </div>\n",
              "\n",
              "\n",
              "<div id=\"df-ee13665b-fea3-45a0-96ca-a8ee1f7105e4\">\n",
              "  <button class=\"colab-df-quickchart\" onclick=\"quickchart('df-ee13665b-fea3-45a0-96ca-a8ee1f7105e4')\"\n",
              "            title=\"Suggest charts\"\n",
              "            style=\"display:none;\">\n",
              "\n",
              "<svg xmlns=\"http://www.w3.org/2000/svg\" height=\"24px\"viewBox=\"0 0 24 24\"\n",
              "     width=\"24px\">\n",
              "    <g>\n",
              "        <path d=\"M19 3H5c-1.1 0-2 .9-2 2v14c0 1.1.9 2 2 2h14c1.1 0 2-.9 2-2V5c0-1.1-.9-2-2-2zM9 17H7v-7h2v7zm4 0h-2V7h2v10zm4 0h-2v-4h2v4z\"/>\n",
              "    </g>\n",
              "</svg>\n",
              "  </button>\n",
              "\n",
              "<style>\n",
              "  .colab-df-quickchart {\n",
              "      --bg-color: #E8F0FE;\n",
              "      --fill-color: #1967D2;\n",
              "      --hover-bg-color: #E2EBFA;\n",
              "      --hover-fill-color: #174EA6;\n",
              "      --disabled-fill-color: #AAA;\n",
              "      --disabled-bg-color: #DDD;\n",
              "  }\n",
              "\n",
              "  [theme=dark] .colab-df-quickchart {\n",
              "      --bg-color: #3B4455;\n",
              "      --fill-color: #D2E3FC;\n",
              "      --hover-bg-color: #434B5C;\n",
              "      --hover-fill-color: #FFFFFF;\n",
              "      --disabled-bg-color: #3B4455;\n",
              "      --disabled-fill-color: #666;\n",
              "  }\n",
              "\n",
              "  .colab-df-quickchart {\n",
              "    background-color: var(--bg-color);\n",
              "    border: none;\n",
              "    border-radius: 50%;\n",
              "    cursor: pointer;\n",
              "    display: none;\n",
              "    fill: var(--fill-color);\n",
              "    height: 32px;\n",
              "    padding: 0;\n",
              "    width: 32px;\n",
              "  }\n",
              "\n",
              "  .colab-df-quickchart:hover {\n",
              "    background-color: var(--hover-bg-color);\n",
              "    box-shadow: 0 1px 2px rgba(60, 64, 67, 0.3), 0 1px 3px 1px rgba(60, 64, 67, 0.15);\n",
              "    fill: var(--button-hover-fill-color);\n",
              "  }\n",
              "\n",
              "  .colab-df-quickchart-complete:disabled,\n",
              "  .colab-df-quickchart-complete:disabled:hover {\n",
              "    background-color: var(--disabled-bg-color);\n",
              "    fill: var(--disabled-fill-color);\n",
              "    box-shadow: none;\n",
              "  }\n",
              "\n",
              "  .colab-df-spinner {\n",
              "    border: 2px solid var(--fill-color);\n",
              "    border-color: transparent;\n",
              "    border-bottom-color: var(--fill-color);\n",
              "    animation:\n",
              "      spin 1s steps(1) infinite;\n",
              "  }\n",
              "\n",
              "  @keyframes spin {\n",
              "    0% {\n",
              "      border-color: transparent;\n",
              "      border-bottom-color: var(--fill-color);\n",
              "      border-left-color: var(--fill-color);\n",
              "    }\n",
              "    20% {\n",
              "      border-color: transparent;\n",
              "      border-left-color: var(--fill-color);\n",
              "      border-top-color: var(--fill-color);\n",
              "    }\n",
              "    30% {\n",
              "      border-color: transparent;\n",
              "      border-left-color: var(--fill-color);\n",
              "      border-top-color: var(--fill-color);\n",
              "      border-right-color: var(--fill-color);\n",
              "    }\n",
              "    40% {\n",
              "      border-color: transparent;\n",
              "      border-right-color: var(--fill-color);\n",
              "      border-top-color: var(--fill-color);\n",
              "    }\n",
              "    60% {\n",
              "      border-color: transparent;\n",
              "      border-right-color: var(--fill-color);\n",
              "    }\n",
              "    80% {\n",
              "      border-color: transparent;\n",
              "      border-right-color: var(--fill-color);\n",
              "      border-bottom-color: var(--fill-color);\n",
              "    }\n",
              "    90% {\n",
              "      border-color: transparent;\n",
              "      border-bottom-color: var(--fill-color);\n",
              "    }\n",
              "  }\n",
              "</style>\n",
              "\n",
              "  <script>\n",
              "    async function quickchart(key) {\n",
              "      const quickchartButtonEl =\n",
              "        document.querySelector('#' + key + ' button');\n",
              "      quickchartButtonEl.disabled = true;  // To prevent multiple clicks.\n",
              "      quickchartButtonEl.classList.add('colab-df-spinner');\n",
              "      try {\n",
              "        const charts = await google.colab.kernel.invokeFunction(\n",
              "            'suggestCharts', [key], {});\n",
              "      } catch (error) {\n",
              "        console.error('Error during call to suggestCharts:', error);\n",
              "      }\n",
              "      quickchartButtonEl.classList.remove('colab-df-spinner');\n",
              "      quickchartButtonEl.classList.add('colab-df-quickchart-complete');\n",
              "    }\n",
              "    (() => {\n",
              "      let quickchartButtonEl =\n",
              "        document.querySelector('#df-ee13665b-fea3-45a0-96ca-a8ee1f7105e4 button');\n",
              "      quickchartButtonEl.style.display =\n",
              "        google.colab.kernel.accessAllowed ? 'block' : 'none';\n",
              "    })();\n",
              "  </script>\n",
              "</div>\n",
              "    </div>\n",
              "  </div>\n"
            ]
          },
          "metadata": {},
          "execution_count": 18
        }
      ],
      "source": [
        "have_missed = test_df.isna().mean()[test_df.isna().mean() > 0].index\n",
        "test_df[have_missed].describe()"
      ]
    },
    {
      "cell_type": "markdown",
      "metadata": {
        "id": "1-tClQJ3X-FX"
      },
      "source": [
        "Процент пропусков невелик (максимум - 6.3% в обучающей выборке). Поскольку мы имеем дело с данными непрерывного техпроцесса, можно предположить, что соседние значения будут схожи, а значит можно будет заполнить пропуски, например, предыдущим значением. Проверим это предположение"
      ]
    },
    {
      "cell_type": "code",
      "execution_count": 68,
      "metadata": {
        "colab": {
          "base_uri": "https://localhost:8080/",
          "height": 704
        },
        "id": "nn5OhKkKX-FX",
        "outputId": "da8c4ea1-e746-4e84-c75c-712c693242d7"
      },
      "outputs": [
        {
          "output_type": "execute_result",
          "data": {
            "text/plain": [
              "<Axes: >"
            ]
          },
          "metadata": {},
          "execution_count": 68
        },
        {
          "output_type": "display_data",
          "data": {
            "text/plain": [
              "<Figure size 640x480 with 1 Axes>"
            ],
            "image/png": "[encoded data removed]"
          },
          "metadata": {}
        }
      ],
      "source": [
        "train_df.drop('date', axis = 1).diff().describe().loc['mean', :].plot(rot = 60)"
      ]
    },
    {
      "cell_type": "code",
      "execution_count": 69,
      "metadata": {
        "colab": {
          "base_uri": "https://localhost:8080/",
          "height": 691
        },
        "id": "20uySsTwX-FY",
        "outputId": "53ef794c-6cf6-4b69-f3f2-7f5492f7f1fd"
      },
      "outputs": [
        {
          "output_type": "execute_result",
          "data": {
            "text/plain": [
              "<Axes: >"
            ]
          },
          "metadata": {},
          "execution_count": 69
        },
        {
          "output_type": "display_data",
          "data": {
            "text/plain": [
              "<Figure size 640x480 with 1 Axes>"
            ],
            "image/png": "[encoded data removed]"
          },
          "metadata": {}
        }
      ],
      "source": [
        "test_df.drop('date', axis = 1).diff().describe().loc['mean', :].plot(rot = 60)"
      ]
    },
    {
      "cell_type": "markdown",
      "metadata": {
        "id": "voO-hAujX-FZ"
      },
      "source": [
        "Максимальная средняя разница - 3.5 для одного из признаков в тренировочном датасете."
      ]
    },
    {
      "cell_type": "code",
      "execution_count": 21,
      "metadata": {
        "colab": {
          "base_uri": "https://localhost:8080/"
        },
        "id": "a1NLuF3PX-FZ",
        "outputId": "60209424-4cb0-471a-c018-b33c8c4bd39d"
      },
      "outputs": [
        {
          "output_type": "execute_result",
          "data": {
            "text/plain": [
              "rougher.calculation.sulfate_to_au_concentrate    3.422883\n",
              "Name: mean, dtype: float64"
            ]
          },
          "metadata": {},
          "execution_count": 21
        }
      ],
      "source": [
        "train_df.drop('date', axis = 1).diff().describe().loc['mean', :].sort_values().tail(1)"
      ]
    },
    {
      "cell_type": "markdown",
      "metadata": {
        "id": "YD5i6ZEqX-FZ"
      },
      "source": [
        "Это расчётные признак, который не будет использован в обучении. Все остальные признаки имеют среднюю разницу между соседними записями, близкую к нулю, что позволяет нам заполнить пропуски предыдущими значениями"
      ]
    },
    {
      "cell_type": "code",
      "execution_count": 22,
      "metadata": {
        "id": "Zwho7yTpX-FZ"
      },
      "outputs": [],
      "source": [
        "train_df = train_df.fillna(method = 'ffill')\n",
        "test_df = test_df.fillna(method = 'ffill')"
      ]
    },
    {
      "cell_type": "markdown",
      "metadata": {
        "id": "mFKD948kX-FZ"
      },
      "source": [
        "### Подготовка данных для моделей"
      ]
    },
    {
      "cell_type": "markdown",
      "metadata": {
        "id": "5hJcsmhaX-Fa"
      },
      "source": [
        "Подготовим список признаков - это будут данные, которые присуствуют и в обучающем и тестовом наборе, за исключением даты. Целевые признаки - эффективность после флотации и итоговая"
      ]
    },
    {
      "cell_type": "code",
      "execution_count": 23,
      "metadata": {
        "id": "3bpzhJ7lX-Fa"
      },
      "outputs": [],
      "source": [
        "features = train_df.columns[train_df.columns.isin(test_df.columns)].drop('date')\n",
        "features_rougher = features[features.str.contains('rougher')]\n",
        "target = ['rougher.output.recovery', 'final.output.recovery']"
      ]
    },
    {
      "cell_type": "markdown",
      "metadata": {
        "id": "PK7WBpIGX-Fa"
      },
      "source": [
        "Данные имеют разный масштаб. Для некоторых моделей это может быть критично. Подготовим скейлер"
      ]
    },
    {
      "cell_type": "code",
      "execution_count": 24,
      "metadata": {
        "id": "cQBvFk5zX-Fa"
      },
      "outputs": [],
      "source": [
        "scaler = StandardScaler()"
      ]
    },
    {
      "cell_type": "markdown",
      "metadata": {
        "id": "54VJMWczX-Fb"
      },
      "source": [
        "Подготовим данные для обучения моделей"
      ]
    },
    {
      "cell_type": "code",
      "execution_count": 25,
      "metadata": {
        "id": "e4qduN5UX-Fb"
      },
      "outputs": [],
      "source": [
        "x_train = scaler.fit_transform(train_df[features])\n",
        "x_train = pd.DataFrame(x_train, columns = features)\n",
        "y_train = train_df[target]"
      ]
    },
    {
      "cell_type": "markdown",
      "metadata": {
        "id": "s2w0Jk_IX-Fb"
      },
      "source": [
        "В тестовом наборе отсутствуют целевые признаки. Восстановим их из исходных данных"
      ]
    },
    {
      "cell_type": "code",
      "execution_count": 26,
      "metadata": {
        "colab": {
          "base_uri": "https://localhost:8080/",
          "height": 206
        },
        "id": "bTs7hUAqX-Fb",
        "outputId": "a7d660be-52cb-47d8-97c7-e6c455587411"
      },
      "outputs": [
        {
          "output_type": "execute_result",
          "data": {
            "text/plain": [
              "   rougher.output.recovery  final.output.recovery\n",
              "0                89.514960              70.281454\n",
              "1                89.858126              65.523246\n",
              "2                91.816623              74.817644\n",
              "3                88.478959              63.082720\n",
              "4                89.230316              74.463380"
            ],
            "text/html": [
              "\n",
              "  <div id=\"df-98e2db57-02fe-4783-95df-fe99f4516712\" class=\"colab-df-container\">\n",
              "    <div>\n",
              "<style scoped>\n",
              "    .dataframe tbody tr th:only-of-type {\n",
              "        vertical-align: middle;\n",
              "    }\n",
              "\n",
              "    .dataframe tbody tr th {\n",
              "        vertical-align: top;\n",
              "    }\n",
              "\n",
              "    .dataframe thead th {\n",
              "        text-align: right;\n",
              "    }\n",
              "</style>\n",
              "<table border=\"1\" class=\"dataframe\">\n",
              "  <thead>\n",
              "    <tr style=\"text-align: right;\">\n",
              "      <th></th>\n",
              "      <th>rougher.output.recovery</th>\n",
              "      <th>final.output.recovery</th>\n",
              "    </tr>\n",
              "  </thead>\n",
              "  <tbody>\n",
              "    <tr>\n",
              "      <th>0</th>\n",
              "      <td>89.514960</td>\n",
              "      <td>70.281454</td>\n",
              "    </tr>\n",
              "    <tr>\n",
              "      <th>1</th>\n",
              "      <td>89.858126</td>\n",
              "      <td>65.523246</td>\n",
              "    </tr>\n",
              "    <tr>\n",
              "      <th>2</th>\n",
              "      <td>91.816623</td>\n",
              "      <td>74.817644</td>\n",
              "    </tr>\n",
              "    <tr>\n",
              "      <th>3</th>\n",
              "      <td>88.478959</td>\n",
              "      <td>63.082720</td>\n",
              "    </tr>\n",
              "    <tr>\n",
              "      <th>4</th>\n",
              "      <td>89.230316</td>\n",
              "      <td>74.463380</td>\n",
              "    </tr>\n",
              "  </tbody>\n",
              "</table>\n",
              "</div>\n",
              "    <div class=\"colab-df-buttons\">\n",
              "\n",
              "  <div class=\"colab-df-container\">\n",
              "    <button class=\"colab-df-convert\" onclick=\"convertToInteractive('df-98e2db57-02fe-4783-95df-fe99f4516712')\"\n",
              "            title=\"Convert this dataframe to an interactive table.\"\n",
              "            style=\"display:none;\">\n",
              "\n",
              "  <svg xmlns=\"http://www.w3.org/2000/svg\" height=\"24px\" viewBox=\"0 -960 960 960\">\n",
              "    <path d=\"M120-120v-720h720v720H120Zm60-500h600v-160H180v160Zm220 220h160v-160H400v160Zm0 220h160v-160H400v160ZM180-400h160v-160H180v160Zm440 0h160v-160H620v160ZM180-180h160v-160H180v160Zm440 0h160v-160H620v160Z\"/>\n",
              "  </svg>\n",
              "    </button>\n",
              "\n",
              "  <style>\n",
              "    .colab-df-container {\n",
              "      display:flex;\n",
              "      gap: 12px;\n",
              "    }\n",
              "\n",
              "    .colab-df-convert {\n",
              "      background-color: #E8F0FE;\n",
              "      border: none;\n",
              "      border-radius: 50%;\n",
              "      cursor: pointer;\n",
              "      display: none;\n",
              "      fill: #1967D2;\n",
              "      height: 32px;\n",
              "      padding: 0 0 0 0;\n",
              "      width: 32px;\n",
              "    }\n",
              "\n",
              "    .colab-df-convert:hover {\n",
              "      background-color: #E2EBFA;\n",
              "      box-shadow: 0px 1px 2px rgba(60, 64, 67, 0.3), 0px 1px 3px 1px rgba(60, 64, 67, 0.15);\n",
              "      fill: #174EA6;\n",
              "    }\n",
              "\n",
              "    .colab-df-buttons div {\n",
              "      margin-bottom: 4px;\n",
              "    }\n",
              "\n",
              "    [theme=dark] .colab-df-convert {\n",
              "      background-color: #3B4455;\n",
              "      fill: #D2E3FC;\n",
              "    }\n",
              "\n",
              "    [theme=dark] .colab-df-convert:hover {\n",
              "      background-color: #434B5C;\n",
              "      box-shadow: 0px 1px 3px 1px rgba(0, 0, 0, 0.15);\n",
              "      filter: drop-shadow(0px 1px 2px rgba(0, 0, 0, 0.3));\n",
              "      fill: #FFFFFF;\n",
              "    }\n",
              "  </style>\n",
              "\n",
              "    <script>\n",
              "      const buttonEl =\n",
              "        document.querySelector('#df-98e2db57-02fe-4783-95df-fe99f4516712 button.colab-df-convert');\n",
              "      buttonEl.style.display =\n",
              "        google.colab.kernel.accessAllowed ? 'block' : 'none';\n",
              "\n",
              "      async function convertToInteractive(key) {\n",
              "        const element = document.querySelector('#df-98e2db57-02fe-4783-95df-fe99f4516712');\n",
              "        const dataTable =\n",
              "          await google.colab.kernel.invokeFunction('convertToInteractive',\n",
              "                                                    [key], {});\n",
              "        if (!dataTable) return;\n",
              "\n",
              "        const docLinkHtml = 'Like what you see? Visit the ' +\n",
              "          '<a target=\"_blank\" href=https://colab.research.google.com/notebooks/data_table.ipynb>data table notebook</a>'\n",
              "          + ' to learn more about interactive tables.';\n",
              "        element.innerHTML = '';\n",
              "        dataTable['output_type'] = 'display_data';\n",
              "        await google.colab.output.renderOutput(dataTable, element);\n",
              "        const docLink = document.createElement('div');\n",
              "        docLink.innerHTML = docLinkHtml;\n",
              "        element.appendChild(docLink);\n",
              "      }\n",
              "    </script>\n",
              "  </div>\n",
              "\n",
              "\n",
              "<div id=\"df-d6876a42-d2d9-4060-90c9-488e18a1eca9\">\n",
              "  <button class=\"colab-df-quickchart\" onclick=\"quickchart('df-d6876a42-d2d9-4060-90c9-488e18a1eca9')\"\n",
              "            title=\"Suggest charts\"\n",
              "            style=\"display:none;\">\n",
              "\n",
              "<svg xmlns=\"http://www.w3.org/2000/svg\" height=\"24px\"viewBox=\"0 0 24 24\"\n",
              "     width=\"24px\">\n",
              "    <g>\n",
              "        <path d=\"M19 3H5c-1.1 0-2 .9-2 2v14c0 1.1.9 2 2 2h14c1.1 0 2-.9 2-2V5c0-1.1-.9-2-2-2zM9 17H7v-7h2v7zm4 0h-2V7h2v10zm4 0h-2v-4h2v4z\"/>\n",
              "    </g>\n",
              "</svg>\n",
              "  </button>\n",
              "\n",
              "<style>\n",
              "  .colab-df-quickchart {\n",
              "      --bg-color: #E8F0FE;\n",
              "      --fill-color: #1967D2;\n",
              "      --hover-bg-color: #E2EBFA;\n",
              "      --hover-fill-color: #174EA6;\n",
              "      --disabled-fill-color: #AAA;\n",
              "      --disabled-bg-color: #DDD;\n",
              "  }\n",
              "\n",
              "  [theme=dark] .colab-df-quickchart {\n",
              "      --bg-color: #3B4455;\n",
              "      --fill-color: #D2E3FC;\n",
              "      --hover-bg-color: #434B5C;\n",
              "      --hover-fill-color: #FFFFFF;\n",
              "      --disabled-bg-color: #3B4455;\n",
              "      --disabled-fill-color: #666;\n",
              "  }\n",
              "\n",
              "  .colab-df-quickchart {\n",
              "    background-color: var(--bg-color);\n",
              "    border: none;\n",
              "    border-radius: 50%;\n",
              "    cursor: pointer;\n",
              "    display: none;\n",
              "    fill: var(--fill-color);\n",
              "    height: 32px;\n",
              "    padding: 0;\n",
              "    width: 32px;\n",
              "  }\n",
              "\n",
              "  .colab-df-quickchart:hover {\n",
              "    background-color: var(--hover-bg-color);\n",
              "    box-shadow: 0 1px 2px rgba(60, 64, 67, 0.3), 0 1px 3px 1px rgba(60, 64, 67, 0.15);\n",
              "    fill: var(--button-hover-fill-color);\n",
              "  }\n",
              "\n",
              "  .colab-df-quickchart-complete:disabled,\n",
              "  .colab-df-quickchart-complete:disabled:hover {\n",
              "    background-color: var(--disabled-bg-color);\n",
              "    fill: var(--disabled-fill-color);\n",
              "    box-shadow: none;\n",
              "  }\n",
              "\n",
              "  .colab-df-spinner {\n",
              "    border: 2px solid var(--fill-color);\n",
              "    border-color: transparent;\n",
              "    border-bottom-color: var(--fill-color);\n",
              "    animation:\n",
              "      spin 1s steps(1) infinite;\n",
              "  }\n",
              "\n",
              "  @keyframes spin {\n",
              "    0% {\n",
              "      border-color: transparent;\n",
              "      border-bottom-color: var(--fill-color);\n",
              "      border-left-color: var(--fill-color);\n",
              "    }\n",
              "    20% {\n",
              "      border-color: transparent;\n",
              "      border-left-color: var(--fill-color);\n",
              "      border-top-color: var(--fill-color);\n",
              "    }\n",
              "    30% {\n",
              "      border-color: transparent;\n",
              "      border-left-color: var(--fill-color);\n",
              "      border-top-color: var(--fill-color);\n",
              "      border-right-color: var(--fill-color);\n",
              "    }\n",
              "    40% {\n",
              "      border-color: transparent;\n",
              "      border-right-color: var(--fill-color);\n",
              "      border-top-color: var(--fill-color);\n",
              "    }\n",
              "    60% {\n",
              "      border-color: transparent;\n",
              "      border-right-color: var(--fill-color);\n",
              "    }\n",
              "    80% {\n",
              "      border-color: transparent;\n",
              "      border-right-color: var(--fill-color);\n",
              "      border-bottom-color: var(--fill-color);\n",
              "    }\n",
              "    90% {\n",
              "      border-color: transparent;\n",
              "      border-bottom-color: var(--fill-color);\n",
              "    }\n",
              "  }\n",
              "</style>\n",
              "\n",
              "  <script>\n",
              "    async function quickchart(key) {\n",
              "      const quickchartButtonEl =\n",
              "        document.querySelector('#' + key + ' button');\n",
              "      quickchartButtonEl.disabled = true;  // To prevent multiple clicks.\n",
              "      quickchartButtonEl.classList.add('colab-df-spinner');\n",
              "      try {\n",
              "        const charts = await google.colab.kernel.invokeFunction(\n",
              "            'suggestCharts', [key], {});\n",
              "      } catch (error) {\n",
              "        console.error('Error during call to suggestCharts:', error);\n",
              "      }\n",
              "      quickchartButtonEl.classList.remove('colab-df-spinner');\n",
              "      quickchartButtonEl.classList.add('colab-df-quickchart-complete');\n",
              "    }\n",
              "    (() => {\n",
              "      let quickchartButtonEl =\n",
              "        document.querySelector('#df-d6876a42-d2d9-4060-90c9-488e18a1eca9 button');\n",
              "      quickchartButtonEl.style.display =\n",
              "        google.colab.kernel.accessAllowed ? 'block' : 'none';\n",
              "    })();\n",
              "  </script>\n",
              "</div>\n",
              "    </div>\n",
              "  </div>\n"
            ]
          },
          "metadata": {},
          "execution_count": 26
        }
      ],
      "source": [
        "test_df = test_df.merge(source_df[['date', 'rougher.output.recovery', 'final.output.recovery']], on = 'date')\n",
        "test_df[target].head()"
      ]
    },
    {
      "cell_type": "markdown",
      "metadata": {
        "id": "wAW85dzsX-Fc"
      },
      "source": [
        "Подготовим тестовые данные"
      ]
    },
    {
      "cell_type": "code",
      "execution_count": 27,
      "metadata": {
        "id": "VhxyX1zDX-Fc"
      },
      "outputs": [],
      "source": [
        "x_test = scaler.transform(test_df[features])\n",
        "x_test = pd.DataFrame(x_test, columns = features)\n",
        "y_test = test_df[target]"
      ]
    },
    {
      "cell_type": "markdown",
      "metadata": {
        "id": "ccaCPjlkX-Fc"
      },
      "source": [
        "## Анализ данных"
      ]
    },
    {
      "cell_type": "markdown",
      "metadata": {
        "id": "uABDXtTBX-Fc"
      },
      "source": [
        "### Изучение концентраций металлов"
      ]
    },
    {
      "cell_type": "markdown",
      "metadata": {
        "id": "m2YrWI2TX-Fc"
      },
      "source": [
        "Изучим изменение концентрации металлов по этапам"
      ]
    },
    {
      "cell_type": "code",
      "execution_count": 28,
      "metadata": {
        "id": "ebgunKRtX-Fd"
      },
      "outputs": [],
      "source": [
        "def get_data_for_metal(df, metal):\n",
        "    param = 'output.concentrate_'\n",
        "    stages = ['rougher.input.feed_', 'rougher.', 'primary_cleaner.', 'final.']\n",
        "    fig, axs = plt.subplots(1, 4, figsize=(15, 3))\n",
        "    fig.suptitle(metal)\n",
        "    for i in range(4):\n",
        "        if stages[i] != 'rougher.input.feed_':\n",
        "            name = (stages[i] + param + metal)\n",
        "        else:\n",
        "            name = (stages[i] + metal)\n",
        "        axs[i].hist(train_df[name], density = True)\n",
        "        axs[i].set_title(stages[i])\n"
      ]
    },
    {
      "cell_type": "code",
      "execution_count": 29,
      "metadata": {
        "colab": {
          "base_uri": "https://localhost:8080/",
          "height": 929
        },
        "id": "zNdlgKJJX-Fd",
        "outputId": "e49b54ee-576f-4b3a-eed0-2280170e1de6"
      },
      "outputs": [
        {
          "output_type": "display_data",
          "data": {
            "text/plain": [
              "<Figure size 1500x300 with 4 Axes>"
            ],
            "image/png": "[encoded data removed]"
          },
          "metadata": {}
        },
        {
          "output_type": "display_data",
          "data": {
            "text/plain": [
              "<Figure size 1500x300 with 4 Axes>"
            ],
            "image/png": "[encoded data removed]"
          },
          "metadata": {}
        },
        {
          "output_type": "display_data",
          "data": {
            "text/plain": [
              "<Figure size 1500x300 with 4 Axes>"
            ],
            "image/png": "[encoded data removed]"
          },
          "metadata": {}
        }
      ],
      "source": [
        "metals = ['au', 'ag', 'pb']\n",
        "for metal in metals:\n",
        "    get_data_for_metal(train_df, metal)"
      ]
    },
    {
      "cell_type": "markdown",
      "metadata": {
        "id": "y4wjHdsyX-Fd"
      },
      "source": [
        "В целом, для всех металлов характерно сползание пика частоты на гистограмме \"вправо\" и/или повышение значения пиковой частоты (см. например свинец при переходе от вторичной очистки к готовому продукту). Также наблюдаются пики частот около нуля."
      ]
    },
    {
      "cell_type": "markdown",
      "metadata": {
        "id": "WghBm2GFX-Fe"
      },
      "source": [
        "### Изучение распределения размера гранул\n",
        "\n",
        "Сравним распределения размеров гранул сырья в обучающей с тестовой выборках"
      ]
    },
    {
      "cell_type": "code",
      "execution_count": 30,
      "metadata": {
        "colab": {
          "base_uri": "https://localhost:8080/",
          "height": 540
        },
        "id": "HBjBiYjrX-Fe",
        "outputId": "3af2639c-c723-470f-8703-c0f6091b08f3"
      },
      "outputs": [
        {
          "output_type": "execute_result",
          "data": {
            "text/plain": [
              "<Axes: >"
            ]
          },
          "metadata": {},
          "execution_count": 30
        },
        {
          "output_type": "display_data",
          "data": {
            "text/plain": [
              "<Figure size 800x600 with 1 Axes>"
            ],
            "image/png": "[encoded data removed]"
          },
          "metadata": {}
        }
      ],
      "source": [
        "x_range = [0, 200]\n",
        "train_df['rougher.input.feed_size'].hist(density=True, range = x_range, figsize = (8, 6))"
      ]
    },
    {
      "cell_type": "code",
      "execution_count": 31,
      "metadata": {
        "colab": {
          "base_uri": "https://localhost:8080/"
        },
        "id": "TAGchsV8X-Fe",
        "outputId": "ca71447d-00a5-48e2-ba0c-1aa10959b9ff"
      },
      "outputs": [
        {
          "output_type": "execute_result",
          "data": {
            "text/plain": [
              "count    14579.000000\n",
              "mean        59.070865\n",
              "std         22.903811\n",
              "min          0.049194\n",
              "25%         47.322462\n",
              "50%         54.464259\n",
              "75%         64.469177\n",
              "max        484.967466\n",
              "Name: rougher.input.feed_size, dtype: float64"
            ]
          },
          "metadata": {},
          "execution_count": 31
        }
      ],
      "source": [
        "train_df['rougher.input.feed_size'].describe()"
      ]
    },
    {
      "cell_type": "code",
      "execution_count": 32,
      "metadata": {
        "scrolled": false,
        "colab": {
          "base_uri": "https://localhost:8080/",
          "height": 540
        },
        "id": "Vqwv7hZPX-Fe",
        "outputId": "a29eabb8-b123-4765-beb1-bbc980595298"
      },
      "outputs": [
        {
          "output_type": "execute_result",
          "data": {
            "text/plain": [
              "<Axes: >"
            ]
          },
          "metadata": {},
          "execution_count": 32
        },
        {
          "output_type": "display_data",
          "data": {
            "text/plain": [
              "<Figure size 800x600 with 1 Axes>"
            ],
            "image/png": "[encoded data removed]"
          },
          "metadata": {}
        }
      ],
      "source": [
        "test_df['rougher.input.feed_size'].hist(density=True, range = x_range, figsize = (8, 6))"
      ]
    },
    {
      "cell_type": "code",
      "execution_count": 33,
      "metadata": {
        "colab": {
          "base_uri": "https://localhost:8080/"
        },
        "id": "XM1UN_8rX-Ff",
        "outputId": "98feaa33-8994-4b34-f9bf-60e69a46bc37"
      },
      "outputs": [
        {
          "output_type": "execute_result",
          "data": {
            "text/plain": [
              "count    4860.000000\n",
              "mean       59.136150\n",
              "std        19.512497\n",
              "min         0.046369\n",
              "25%        47.610795\n",
              "50%        55.461058\n",
              "75%        66.538910\n",
              "max       363.989699\n",
              "Name: rougher.input.feed_size, dtype: float64"
            ]
          },
          "metadata": {},
          "execution_count": 33
        }
      ],
      "source": [
        "test_df['rougher.input.feed_size'].describe()"
      ]
    },
    {
      "cell_type": "markdown",
      "metadata": {
        "id": "PNAZd6UOX-Ff"
      },
      "source": [
        "Гистограммы имеют сходную форму, квартили лежат близко друг к другу. Делаем вывод, что распределения сходны."
      ]
    },
    {
      "cell_type": "markdown",
      "metadata": {
        "id": "lMFpPUeIX-Fg"
      },
      "source": [
        "### Изучение суммарной концентрации металлов\n",
        "\n",
        "Изучим суммарную концентрацию металлов по этапам очистки"
      ]
    },
    {
      "cell_type": "code",
      "execution_count": 34,
      "metadata": {
        "colab": {
          "base_uri": "https://localhost:8080/",
          "height": 391
        },
        "id": "9ORk1D_rX-Fh",
        "outputId": "f4cf5f4c-43a8-4319-f5a8-cfd5307e1871"
      },
      "outputs": [
        {
          "output_type": "display_data",
          "data": {
            "text/plain": [
              "<Figure size 1600x400 with 4 Axes>"
            ],
            "image/png": "[encoded data removed]"
          },
          "metadata": {}
        }
      ],
      "source": [
        "stages = ['rougher.input.feed_', 'rougher.', 'primary_cleaner.', 'final.']\n",
        "param = 'output.concentrate_'\n",
        "metals = ['au', 'ag', 'pb']\n",
        "columns = []\n",
        "\n",
        "fig, axs = plt.subplots(1, 4, figsize=(16, 4))\n",
        "\n",
        "for i in range(4):\n",
        "    if stages[i] != 'rougher.input.feed_':\n",
        "        name = (stages[i] + param)\n",
        "    else:\n",
        "        name = (stages[i])\n",
        "    data = 0\n",
        "    for metal in metals:\n",
        "        data += train_df[name + metal]\n",
        "        columns.append(name + metal)\n",
        "    axs[i].hist(data , density = True)\n",
        "    axs[i].set_title(stages[i])"
      ]
    },
    {
      "cell_type": "markdown",
      "metadata": {
        "id": "TQDh8XRqX-Fh"
      },
      "source": [
        "От стадии к стадии пик распределения смещается вправо, то есть растёт как само максимальное значение, так и частота его появления (так, например, на гистограмме для финального продукта, максимум концентрации и является самым частым значением)"
      ]
    },
    {
      "cell_type": "markdown",
      "metadata": {
        "id": "zzh0yxMfX-Fi"
      },
      "source": [
        "Удалим данные с нулевыми значениями концентраций из обучающих данных"
      ]
    },
    {
      "cell_type": "code",
      "execution_count": 35,
      "metadata": {
        "colab": {
          "base_uri": "https://localhost:8080/"
        },
        "id": "JGF6QodPX-Fi",
        "outputId": "66d72bf5-cd30-4645-8e85-d2369b8ab819"
      },
      "outputs": [
        {
          "output_type": "execute_result",
          "data": {
            "text/plain": [
              "['rougher.input.feed_au',\n",
              " 'rougher.input.feed_ag',\n",
              " 'rougher.input.feed_pb',\n",
              " 'rougher.output.concentrate_au',\n",
              " 'rougher.output.concentrate_ag',\n",
              " 'rougher.output.concentrate_pb',\n",
              " 'primary_cleaner.output.concentrate_au',\n",
              " 'primary_cleaner.output.concentrate_ag',\n",
              " 'primary_cleaner.output.concentrate_pb',\n",
              " 'final.output.concentrate_au',\n",
              " 'final.output.concentrate_ag',\n",
              " 'final.output.concentrate_pb']"
            ]
          },
          "metadata": {},
          "execution_count": 35
        }
      ],
      "source": [
        "columns"
      ]
    },
    {
      "cell_type": "code",
      "execution_count": 36,
      "metadata": {
        "id": "IzcyMq6DX-Fj"
      },
      "outputs": [],
      "source": [
        "for column in columns:\n",
        "    train_df = train_df[train_df[column] != 0]"
      ]
    },
    {
      "cell_type": "code",
      "execution_count": 37,
      "metadata": {
        "scrolled": true,
        "colab": {
          "base_uri": "https://localhost:8080/",
          "height": 929
        },
        "id": "7JGBkKn6X-Fj",
        "outputId": "dff6add6-da04-4565-baab-8173c132f4ed"
      },
      "outputs": [
        {
          "output_type": "display_data",
          "data": {
            "text/plain": [
              "<Figure size 1500x300 with 4 Axes>"
            ],
            "image/png": "[encoded data removed]"
          },
          "metadata": {}
        },
        {
          "output_type": "display_data",
          "data": {
            "text/plain": [
              "<Figure size 1500x300 with 4 Axes>"
            ],
            "image/png": "[encoded data removed]"
          },
          "metadata": {}
        },
        {
          "output_type": "display_data",
          "data": {
            "text/plain": [
              "<Figure size 1500x300 with 4 Axes>"
            ],
            "image/png": "[encoded data removed]"
          },
          "metadata": {}
        }
      ],
      "source": [
        "for metal in metals:\n",
        "    get_data_for_metal(x_train, metal)"
      ]
    },
    {
      "cell_type": "markdown",
      "metadata": {
        "id": "DkS3m1fIX-Fj"
      },
      "source": [
        "## Модель"
      ]
    },
    {
      "cell_type": "code",
      "execution_count": 38,
      "metadata": {
        "id": "gXoHRp7jX-Fj"
      },
      "outputs": [],
      "source": [
        "x_train = scaler.fit_transform(train_df[features])\n",
        "x_train = pd.DataFrame(x_train, columns = features)\n",
        "y_train = train_df[target]\n",
        "\n",
        "x_test = scaler.transform(test_df[features])\n",
        "x_test = pd.DataFrame(x_test, columns = features)\n",
        "y_test = test_df[target]"
      ]
    },
    {
      "cell_type": "markdown",
      "metadata": {
        "id": "9era3WTuX-Fk"
      },
      "source": [
        "### sMAPE\n",
        "\n",
        "Подготовим функцию вычисления sMAPE и создатим из неё scorer для использования в кросс-валидации\n",
        "\n",
        "*Примечание: кросс-валидация sklearn работает по принципу максимизации метрики, а значит что результаты нашего scorer'а будут с отрицательным знаком*"
      ]
    },
    {
      "cell_type": "code",
      "execution_count": 39,
      "metadata": {
        "id": "xX_9-xNsX-Fk"
      },
      "outputs": [],
      "source": [
        "def smape(y, y_pred):\n",
        "    return (abs(y - y_pred) / ((abs(y) + abs(y_pred)) / 2)).mean() * 100\n",
        "\n",
        "smape_scorer = make_scorer(smape, greater_is_better = False)\n",
        "\n",
        "def final_score(rough, final):\n",
        "    return 0.25 * rough + 0.75 * final\n",
        "\n",
        "cv_parameters = {\n",
        "    'scoring' : smape_scorer,\n",
        "    'cv' : 3\n",
        "    }"
      ]
    },
    {
      "cell_type": "markdown",
      "metadata": {
        "id": "zMvGUQmXX-Fk"
      },
      "source": [
        "### Линейная регрессия"
      ]
    },
    {
      "cell_type": "code",
      "execution_count": 40,
      "metadata": {
        "id": "tGSbgoWtX-Fk"
      },
      "outputs": [],
      "source": [
        "lin_regressor_rougher = LinearRegression()\n",
        "lin_regressor_final = LinearRegression()\n",
        "linear_scores = []"
      ]
    },
    {
      "cell_type": "code",
      "execution_count": 41,
      "metadata": {
        "colab": {
          "base_uri": "https://localhost:8080/"
        },
        "id": "uMADfrRYX-Fl",
        "outputId": "38f0a79a-2524-4199-efcd-b2c5ba439341"
      },
      "outputs": [
        {
          "output_type": "execute_result",
          "data": {
            "text/plain": [
              "-7.586053784559596"
            ]
          },
          "metadata": {},
          "execution_count": 41
        }
      ],
      "source": [
        "linear_scores.append(\n",
        "    cross_val_score(lin_regressor_rougher, x_train[features_rougher], y_train.iloc[:,0], **cv_parameters).mean()\n",
        "    )\n",
        "linear_scores[0]"
      ]
    },
    {
      "cell_type": "code",
      "execution_count": 42,
      "metadata": {
        "colab": {
          "base_uri": "https://localhost:8080/"
        },
        "id": "PdeWRlsIX-Fl",
        "outputId": "35e9ba70-016f-4c4f-d8e2-5dd4ddb8a0fd"
      },
      "outputs": [
        {
          "output_type": "execute_result",
          "data": {
            "text/plain": [
              "-10.913458780813073"
            ]
          },
          "metadata": {},
          "execution_count": 42
        }
      ],
      "source": [
        "linear_scores.append(\n",
        "    cross_val_score(lin_regressor_final, x_train, y_train.iloc[:,1], **cv_parameters).mean()\n",
        "    )\n",
        "linear_scores[1]"
      ]
    },
    {
      "cell_type": "code",
      "execution_count": 43,
      "metadata": {
        "id": "qiSGhFhzX-Fl"
      },
      "outputs": [],
      "source": [
        "linear_scores.append(final_score(linear_scores[0], linear_scores[1]))"
      ]
    },
    {
      "cell_type": "code",
      "execution_count": 44,
      "metadata": {
        "colab": {
          "base_uri": "https://localhost:8080/"
        },
        "id": "u1TzB5hYX-Fl",
        "outputId": "2c57900e-36cf-412e-c542-fdcc0699eecb"
      },
      "outputs": [
        {
          "output_type": "execute_result",
          "data": {
            "text/plain": [
              "[-7.586053784559596, -10.913458780813073, -10.081607531749704]"
            ]
          },
          "metadata": {},
          "execution_count": 44
        }
      ],
      "source": [
        "linear_scores"
      ]
    },
    {
      "cell_type": "code",
      "execution_count": 45,
      "metadata": {
        "colab": {
          "base_uri": "https://localhost:8080/",
          "height": 75
        },
        "id": "Q0yfUnjRX-Fm",
        "outputId": "ffeda165-e782-4181-ba7d-8cc337f2e545"
      },
      "outputs": [
        {
          "output_type": "execute_result",
          "data": {
            "text/plain": [
              "LinearRegression()"
            ],
            "text/html": [
              "<style>#sk-container-id-1 {color: black;background-color: white;}#sk-container-id-1 pre{padding: 0;}#sk-container-id-1 div.sk-toggleable {background-color: white;}#sk-container-id-1 label.sk-toggleable__label {cursor: pointer;display: block;width: 100%;margin-bottom: 0;padding: 0.3em;box-sizing: border-box;text-align: center;}#sk-container-id-1 label.sk-toggleable__label-arrow:before {content: \"▸\";float: left;margin-right: 0.25em;color: #696969;}#sk-container-id-1 label.sk-toggleable__label-arrow:hover:before {color: black;}#sk-container-id-1 div.sk-estimator:hover label.sk-toggleable__label-arrow:before {color: black;}#sk-container-id-1 div.sk-toggleable__content {max-height: 0;max-width: 0;overflow: hidden;text-align: left;background-color: #f0f8ff;}#sk-container-id-1 div.sk-toggleable__content pre {margin: 0.2em;color: black;border-radius: 0.25em;background-color: #f0f8ff;}#sk-container-id-1 input.sk-toggleable__control:checked~div.sk-toggleable__content {max-height: 200px;max-width: 100%;overflow: auto;}#sk-container-id-1 input.sk-toggleable__control:checked~label.sk-toggleable__label-arrow:before {content: \"▾\";}#sk-container-id-1 div.sk-estimator input.sk-toggleable__control:checked~label.sk-toggleable__label {background-color: #d4ebff;}#sk-container-id-1 div.sk-label input.sk-toggleable__control:checked~label.sk-toggleable__label {background-color: #d4ebff;}#sk-container-id-1 input.sk-hidden--visually {border: 0;clip: rect(1px 1px 1px 1px);clip: rect(1px, 1px, 1px, 1px);height: 1px;margin: -1px;overflow: hidden;padding: 0;position: absolute;width: 1px;}#sk-container-id-1 div.sk-estimator {font-family: monospace;background-color: #f0f8ff;border: 1px dotted black;border-radius: 0.25em;box-sizing: border-box;margin-bottom: 0.5em;}#sk-container-id-1 div.sk-estimator:hover {background-color: #d4ebff;}#sk-container-id-1 div.sk-parallel-item::after {content: \"\";width: 100%;border-bottom: 1px solid gray;flex-grow: 1;}#sk-container-id-1 div.sk-label:hover label.sk-toggleable__label {background-color: #d4ebff;}#sk-container-id-1 div.sk-serial::before {content: \"\";position: absolute;border-left: 1px solid gray;box-sizing: border-box;top: 0;bottom: 0;left: 50%;z-index: 0;}#sk-container-id-1 div.sk-serial {display: flex;flex-direction: column;align-items: center;background-color: white;padding-right: 0.2em;padding-left: 0.2em;position: relative;}#sk-container-id-1 div.sk-item {position: relative;z-index: 1;}#sk-container-id-1 div.sk-parallel {display: flex;align-items: stretch;justify-content: center;background-color: white;position: relative;}#sk-container-id-1 div.sk-item::before, #sk-container-id-1 div.sk-parallel-item::before {content: \"\";position: absolute;border-left: 1px solid gray;box-sizing: border-box;top: 0;bottom: 0;left: 50%;z-index: -1;}#sk-container-id-1 div.sk-parallel-item {display: flex;flex-direction: column;z-index: 1;position: relative;background-color: white;}#sk-container-id-1 div.sk-parallel-item:first-child::after {align-self: flex-end;width: 50%;}#sk-container-id-1 div.sk-parallel-item:last-child::after {align-self: flex-start;width: 50%;}#sk-container-id-1 div.sk-parallel-item:only-child::after {width: 0;}#sk-container-id-1 div.sk-dashed-wrapped {border: 1px dashed gray;margin: 0 0.4em 0.5em 0.4em;box-sizing: border-box;padding-bottom: 0.4em;background-color: white;}#sk-container-id-1 div.sk-label label {font-family: monospace;font-weight: bold;display: inline-block;line-height: 1.2em;}#sk-container-id-1 div.sk-label-container {text-align: center;}#sk-container-id-1 div.sk-container {/* jupyter's `normalize.less` sets `[hidden] { display: none; }` but bootstrap.min.css set `[hidden] { display: none !important; }` so we also need the `!important` here to be able to override the default hidden behavior on the sphinx rendered scikit-learn.org. See: https://github.com/scikit-learn/scikit-learn/issues/21755 */display: inline-block !important;position: relative;}#sk-container-id-1 div.sk-text-repr-fallback {display: none;}</style><div id=\"sk-container-id-1\" class=\"sk-top-container\"><div class=\"sk-text-repr-fallback\"><pre>LinearRegression()</pre><b>In a Jupyter environment, please rerun this cell to show the HTML representation or trust the notebook. <br />On GitHub, the HTML representation is unable to render, please try loading this page with nbviewer.org.</b></div><div class=\"sk-container\" hidden><div class=\"sk-item\"><div class=\"sk-estimator sk-toggleable\"><input class=\"sk-toggleable__control sk-hidden--visually\" id=\"sk-estimator-id-1\" type=\"checkbox\" checked><label for=\"sk-estimator-id-1\" class=\"sk-toggleable__label sk-toggleable__label-arrow\">LinearRegression</label><div class=\"sk-toggleable__content\"><pre>LinearRegression()</pre></div></div></div></div></div>"
            ]
          },
          "metadata": {},
          "execution_count": 45
        }
      ],
      "source": [
        "lin_regressor_rougher.fit(x_train[features_rougher], y_train.iloc[:,0])\n",
        "lin_regressor_final.fit(x_train, y_train.iloc[:,1])"
      ]
    },
    {
      "cell_type": "markdown",
      "metadata": {
        "id": "jH-HIHU6X-Fm"
      },
      "source": [
        "### Random Forest"
      ]
    },
    {
      "cell_type": "code",
      "execution_count": 46,
      "metadata": {
        "id": "W599jFOWX-Fm"
      },
      "outputs": [],
      "source": [
        "forest_params = {'n_estimators' : [i for i in range(50, 101, 10)], 'max_depth' : [i for i in range(1, 10)]}"
      ]
    },
    {
      "cell_type": "code",
      "execution_count": 47,
      "metadata": {
        "id": "N417r3n5X-Fn"
      },
      "outputs": [],
      "source": [
        "forest_rougher_search = TuneSearchCV(RandomForestRegressor(random_state = 42), forest_params, **cv_parameters)"
      ]
    },
    {
      "cell_type": "code",
      "execution_count": 48,
      "metadata": {
        "colab": {
          "base_uri": "https://localhost:8080/",
          "height": 433
        },
        "id": "dWMcTUp-X-Fn",
        "outputId": "c783a09b-657c-48c4-9869-2a86a056f5da"
      },
      "outputs": [
        {
          "output_type": "stream",
          "name": "stderr",
          "text": [
            "2023-11-19 11:41:47,506\tINFO worker.py:1673 -- Started a local Ray instance.\n",
            "2023-11-19 11:41:49,903\tINFO tune.py:220 -- Initializing Ray automatically. For cluster usage or custom Ray initialization, call `ray.init(...)` before `tune.run(...)`.\n",
            "2023-11-19 11:41:49,917\tINFO tune.py:595 -- [output] This will use the new output engine with verbosity 0. To disable the new output and use the legacy output engine, set the environment variable RAY_AIR_NEW_OUTPUT=0. For more information, please see https://github.com/ray-project/ray/issues/36949\n"
          ]
        },
        {
          "output_type": "stream",
          "name": "stdout",
          "text": [
            "+-------------------------------------------------------------------+\n",
            "| Configuration for experiment     _Trainable_2023-11-19_11-41-49   |\n",
            "+-------------------------------------------------------------------+\n",
            "| Search algorithm                 BasicVariantGenerator            |\n",
            "| Scheduler                        FIFOScheduler                    |\n",
            "| Number of trials                 10                               |\n",
            "+-------------------------------------------------------------------+\n",
            "\n",
            "View detailed results here: /root/ray_results/_Trainable_2023-11-19_11-41-49\n",
            "To visualize your results with TensorBoard, run: `tensorboard --logdir /root/ray_results/_Trainable_2023-11-19_11-41-49`\n",
            "\n",
            "CPU times: user 13.2 s, sys: 1.08 s, total: 14.3 s\n",
            "Wall time: 3min\n"
          ]
        },
        {
          "output_type": "execute_result",
          "data": {
            "text/plain": [
              "TuneSearchCV(cv=3, estimator=RandomForestRegressor(random_state=42), mode='max',\n",
              "             n_jobs=-1,\n",
              "             param_distributions={'max_depth': [1, 2, 3, 4, 5, 6, 7, 8, 9],\n",
              "                                  'n_estimators': [50, 60, 70, 80, 90, 100]},\n",
              "             scoring=make_scorer(smape, greater_is_better=False), sk_n_jobs=1)"
            ],
            "text/html": [
              "<style>#sk-container-id-2 {color: black;background-color: white;}#sk-container-id-2 pre{padding: 0;}#sk-container-id-2 div.sk-toggleable {background-color: white;}#sk-container-id-2 label.sk-toggleable__label {cursor: pointer;display: block;width: 100%;margin-bottom: 0;padding: 0.3em;box-sizing: border-box;text-align: center;}#sk-container-id-2 label.sk-toggleable__label-arrow:before {content: \"▸\";float: left;margin-right: 0.25em;color: #696969;}#sk-container-id-2 label.sk-toggleable__label-arrow:hover:before {color: black;}#sk-container-id-2 div.sk-estimator:hover label.sk-toggleable__label-arrow:before {color: black;}#sk-container-id-2 div.sk-toggleable__content {max-height: 0;max-width: 0;overflow: hidden;text-align: left;background-color: #f0f8ff;}#sk-container-id-2 div.sk-toggleable__content pre {margin: 0.2em;color: black;border-radius: 0.25em;background-color: #f0f8ff;}#sk-container-id-2 input.sk-toggleable__control:checked~div.sk-toggleable__content {max-height: 200px;max-width: 100%;overflow: auto;}#sk-container-id-2 input.sk-toggleable__control:checked~label.sk-toggleable__label-arrow:before {content: \"▾\";}#sk-container-id-2 div.sk-estimator input.sk-toggleable__control:checked~label.sk-toggleable__label {background-color: #d4ebff;}#sk-container-id-2 div.sk-label input.sk-toggleable__control:checked~label.sk-toggleable__label {background-color: #d4ebff;}#sk-container-id-2 input.sk-hidden--visually {border: 0;clip: rect(1px 1px 1px 1px);clip: rect(1px, 1px, 1px, 1px);height: 1px;margin: -1px;overflow: hidden;padding: 0;position: absolute;width: 1px;}#sk-container-id-2 div.sk-estimator {font-family: monospace;background-color: #f0f8ff;border: 1px dotted black;border-radius: 0.25em;box-sizing: border-box;margin-bottom: 0.5em;}#sk-container-id-2 div.sk-estimator:hover {background-color: #d4ebff;}#sk-container-id-2 div.sk-parallel-item::after {content: \"\";width: 100%;border-bottom: 1px solid gray;flex-grow: 1;}#sk-container-id-2 div.sk-label:hover label.sk-toggleable__label {background-color: #d4ebff;}#sk-container-id-2 div.sk-serial::before {content: \"\";position: absolute;border-left: 1px solid gray;box-sizing: border-box;top: 0;bottom: 0;left: 50%;z-index: 0;}#sk-container-id-2 div.sk-serial {display: flex;flex-direction: column;align-items: center;background-color: white;padding-right: 0.2em;padding-left: 0.2em;position: relative;}#sk-container-id-2 div.sk-item {position: relative;z-index: 1;}#sk-container-id-2 div.sk-parallel {display: flex;align-items: stretch;justify-content: center;background-color: white;position: relative;}#sk-container-id-2 div.sk-item::before, #sk-container-id-2 div.sk-parallel-item::before {content: \"\";position: absolute;border-left: 1px solid gray;box-sizing: border-box;top: 0;bottom: 0;left: 50%;z-index: -1;}#sk-container-id-2 div.sk-parallel-item {display: flex;flex-direction: column;z-index: 1;position: relative;background-color: white;}#sk-container-id-2 div.sk-parallel-item:first-child::after {align-self: flex-end;width: 50%;}#sk-container-id-2 div.sk-parallel-item:last-child::after {align-self: flex-start;width: 50%;}#sk-container-id-2 div.sk-parallel-item:only-child::after {width: 0;}#sk-container-id-2 div.sk-dashed-wrapped {border: 1px dashed gray;margin: 0 0.4em 0.5em 0.4em;box-sizing: border-box;padding-bottom: 0.4em;background-color: white;}#sk-container-id-2 div.sk-label label {font-family: monospace;font-weight: bold;display: inline-block;line-height: 1.2em;}#sk-container-id-2 div.sk-label-container {text-align: center;}#sk-container-id-2 div.sk-container {/* jupyter's `normalize.less` sets `[hidden] { display: none; }` but bootstrap.min.css set `[hidden] { display: none !important; }` so we also need the `!important` here to be able to override the default hidden behavior on the sphinx rendered scikit-learn.org. See: https://github.com/scikit-learn/scikit-learn/issues/21755 */display: inline-block !important;position: relative;}#sk-container-id-2 div.sk-text-repr-fallback {display: none;}</style><div id=\"sk-container-id-2\" class=\"sk-top-container\"><div class=\"sk-text-repr-fallback\"><pre>TuneSearchCV(cv=3, estimator=RandomForestRegressor(random_state=42), mode=&#x27;max&#x27;,\n",
              "             n_jobs=-1,\n",
              "             param_distributions={&#x27;max_depth&#x27;: [1, 2, 3, 4, 5, 6, 7, 8, 9],\n",
              "                                  &#x27;n_estimators&#x27;: [50, 60, 70, 80, 90, 100]},\n",
              "             scoring=make_scorer(smape, greater_is_better=False), sk_n_jobs=1)</pre><b>In a Jupyter environment, please rerun this cell to show the HTML representation or trust the notebook. <br />On GitHub, the HTML representation is unable to render, please try loading this page with nbviewer.org.</b></div><div class=\"sk-container\" hidden><div class=\"sk-item sk-dashed-wrapped\"><div class=\"sk-label-container\"><div class=\"sk-label sk-toggleable\"><input class=\"sk-toggleable__control sk-hidden--visually\" id=\"sk-estimator-id-2\" type=\"checkbox\" ><label for=\"sk-estimator-id-2\" class=\"sk-toggleable__label sk-toggleable__label-arrow\">TuneSearchCV</label><div class=\"sk-toggleable__content\"><pre>TuneSearchCV(cv=3, estimator=RandomForestRegressor(random_state=42), mode=&#x27;max&#x27;,\n",
              "             n_jobs=-1,\n",
              "             param_distributions={&#x27;max_depth&#x27;: [1, 2, 3, 4, 5, 6, 7, 8, 9],\n",
              "                                  &#x27;n_estimators&#x27;: [50, 60, 70, 80, 90, 100]},\n",
              "             scoring=make_scorer(smape, greater_is_better=False), sk_n_jobs=1)</pre></div></div></div><div class=\"sk-parallel\"><div class=\"sk-parallel-item\"><div class=\"sk-item\"><div class=\"sk-label-container\"><div class=\"sk-label sk-toggleable\"><input class=\"sk-toggleable__control sk-hidden--visually\" id=\"sk-estimator-id-3\" type=\"checkbox\" ><label for=\"sk-estimator-id-3\" class=\"sk-toggleable__label sk-toggleable__label-arrow\">estimator: RandomForestRegressor</label><div class=\"sk-toggleable__content\"><pre>RandomForestRegressor(random_state=42)</pre></div></div></div><div class=\"sk-serial\"><div class=\"sk-item\"><div class=\"sk-estimator sk-toggleable\"><input class=\"sk-toggleable__control sk-hidden--visually\" id=\"sk-estimator-id-4\" type=\"checkbox\" ><label for=\"sk-estimator-id-4\" class=\"sk-toggleable__label sk-toggleable__label-arrow\">RandomForestRegressor</label><div class=\"sk-toggleable__content\"><pre>RandomForestRegressor(random_state=42)</pre></div></div></div></div></div></div></div></div></div></div>"
            ]
          },
          "metadata": {},
          "execution_count": 48
        }
      ],
      "source": [
        "%%time\n",
        "\n",
        "forest_rougher_search.fit(x_train[features_rougher], y_train.iloc[:,0])"
      ]
    },
    {
      "cell_type": "code",
      "execution_count": 49,
      "metadata": {
        "scrolled": false,
        "colab": {
          "base_uri": "https://localhost:8080/"
        },
        "id": "5ESS9zfqX-Fn",
        "outputId": "dd49dbc4-8896-4ace-f715-9007cf4679f4"
      },
      "outputs": [
        {
          "output_type": "execute_result",
          "data": {
            "text/plain": [
              "(RandomForestRegressor(max_depth=4, n_estimators=60, random_state=42),\n",
              " -6.480809311188381)"
            ]
          },
          "metadata": {},
          "execution_count": 49
        }
      ],
      "source": [
        "forest_rougher_search.best_estimator_, forest_rougher_search.best_score_"
      ]
    },
    {
      "cell_type": "code",
      "execution_count": 50,
      "metadata": {
        "id": "JFUitBHhX-Fn"
      },
      "outputs": [],
      "source": [
        "forest_final_search = TuneSearchCV(RandomForestRegressor(random_state = 42), forest_params, **cv_parameters)"
      ]
    },
    {
      "cell_type": "code",
      "execution_count": 51,
      "metadata": {
        "colab": {
          "base_uri": "https://localhost:8080/",
          "height": 397
        },
        "id": "__vTvq5EX-Fo",
        "outputId": "b735a4f1-f8c1-47cb-eb0d-515ff07d8776"
      },
      "outputs": [
        {
          "output_type": "stream",
          "name": "stderr",
          "text": [
            "2023-11-19 11:44:43,463\tINFO tune.py:595 -- [output] This will use the new output engine with verbosity 0. To disable the new output and use the legacy output engine, set the environment variable RAY_AIR_NEW_OUTPUT=0. For more information, please see https://github.com/ray-project/ray/issues/36949\n"
          ]
        },
        {
          "output_type": "stream",
          "name": "stdout",
          "text": [
            "+-------------------------------------------------------------------+\n",
            "| Configuration for experiment     _Trainable_2023-11-19_11-44-43   |\n",
            "+-------------------------------------------------------------------+\n",
            "| Search algorithm                 BasicVariantGenerator            |\n",
            "| Scheduler                        FIFOScheduler                    |\n",
            "| Number of trials                 10                               |\n",
            "+-------------------------------------------------------------------+\n",
            "\n",
            "View detailed results here: /root/ray_results/_Trainable_2023-11-19_11-44-43\n",
            "To visualize your results with TensorBoard, run: `tensorboard --logdir /root/ray_results/_Trainable_2023-11-19_11-44-43`\n",
            "\n",
            "CPU times: user 13 s, sys: 793 ms, total: 13.8 s\n",
            "Wall time: 7min 37s\n"
          ]
        },
        {
          "output_type": "execute_result",
          "data": {
            "text/plain": [
              "TuneSearchCV(cv=3, estimator=RandomForestRegressor(random_state=42), mode='max',\n",
              "             n_jobs=-1,\n",
              "             param_distributions={'max_depth': [1, 2, 3, 4, 5, 6, 7, 8, 9],\n",
              "                                  'n_estimators': [50, 60, 70, 80, 90, 100]},\n",
              "             scoring=make_scorer(smape, greater_is_better=False), sk_n_jobs=1)"
            ],
            "text/html": [
              "<style>#sk-container-id-3 {color: black;background-color: white;}#sk-container-id-3 pre{padding: 0;}#sk-container-id-3 div.sk-toggleable {background-color: white;}#sk-container-id-3 label.sk-toggleable__label {cursor: pointer;display: block;width: 100%;margin-bottom: 0;padding: 0.3em;box-sizing: border-box;text-align: center;}#sk-container-id-3 label.sk-toggleable__label-arrow:before {content: \"▸\";float: left;margin-right: 0.25em;color: #696969;}#sk-container-id-3 label.sk-toggleable__label-arrow:hover:before {color: black;}#sk-container-id-3 div.sk-estimator:hover label.sk-toggleable__label-arrow:before {color: black;}#sk-container-id-3 div.sk-toggleable__content {max-height: 0;max-width: 0;overflow: hidden;text-align: left;background-color: #f0f8ff;}#sk-container-id-3 div.sk-toggleable__content pre {margin: 0.2em;color: black;border-radius: 0.25em;background-color: #f0f8ff;}#sk-container-id-3 input.sk-toggleable__control:checked~div.sk-toggleable__content {max-height: 200px;max-width: 100%;overflow: auto;}#sk-container-id-3 input.sk-toggleable__control:checked~label.sk-toggleable__label-arrow:before {content: \"▾\";}#sk-container-id-3 div.sk-estimator input.sk-toggleable__control:checked~label.sk-toggleable__label {background-color: #d4ebff;}#sk-container-id-3 div.sk-label input.sk-toggleable__control:checked~label.sk-toggleable__label {background-color: #d4ebff;}#sk-container-id-3 input.sk-hidden--visually {border: 0;clip: rect(1px 1px 1px 1px);clip: rect(1px, 1px, 1px, 1px);height: 1px;margin: -1px;overflow: hidden;padding: 0;position: absolute;width: 1px;}#sk-container-id-3 div.sk-estimator {font-family: monospace;background-color: #f0f8ff;border: 1px dotted black;border-radius: 0.25em;box-sizing: border-box;margin-bottom: 0.5em;}#sk-container-id-3 div.sk-estimator:hover {background-color: #d4ebff;}#sk-container-id-3 div.sk-parallel-item::after {content: \"\";width: 100%;border-bottom: 1px solid gray;flex-grow: 1;}#sk-container-id-3 div.sk-label:hover label.sk-toggleable__label {background-color: #d4ebff;}#sk-container-id-3 div.sk-serial::before {content: \"\";position: absolute;border-left: 1px solid gray;box-sizing: border-box;top: 0;bottom: 0;left: 50%;z-index: 0;}#sk-container-id-3 div.sk-serial {display: flex;flex-direction: column;align-items: center;background-color: white;padding-right: 0.2em;padding-left: 0.2em;position: relative;}#sk-container-id-3 div.sk-item {position: relative;z-index: 1;}#sk-container-id-3 div.sk-parallel {display: flex;align-items: stretch;justify-content: center;background-color: white;position: relative;}#sk-container-id-3 div.sk-item::before, #sk-container-id-3 div.sk-parallel-item::before {content: \"\";position: absolute;border-left: 1px solid gray;box-sizing: border-box;top: 0;bottom: 0;left: 50%;z-index: -1;}#sk-container-id-3 div.sk-parallel-item {display: flex;flex-direction: column;z-index: 1;position: relative;background-color: white;}#sk-container-id-3 div.sk-parallel-item:first-child::after {align-self: flex-end;width: 50%;}#sk-container-id-3 div.sk-parallel-item:last-child::after {align-self: flex-start;width: 50%;}#sk-container-id-3 div.sk-parallel-item:only-child::after {width: 0;}#sk-container-id-3 div.sk-dashed-wrapped {border: 1px dashed gray;margin: 0 0.4em 0.5em 0.4em;box-sizing: border-box;padding-bottom: 0.4em;background-color: white;}#sk-container-id-3 div.sk-label label {font-family: monospace;font-weight: bold;display: inline-block;line-height: 1.2em;}#sk-container-id-3 div.sk-label-container {text-align: center;}#sk-container-id-3 div.sk-container {/* jupyter's `normalize.less` sets `[hidden] { display: none; }` but bootstrap.min.css set `[hidden] { display: none !important; }` so we also need the `!important` here to be able to override the default hidden behavior on the sphinx rendered scikit-learn.org. See: https://github.com/scikit-learn/scikit-learn/issues/21755 */display: inline-block !important;position: relative;}#sk-container-id-3 div.sk-text-repr-fallback {display: none;}</style><div id=\"sk-container-id-3\" class=\"sk-top-container\"><div class=\"sk-text-repr-fallback\"><pre>TuneSearchCV(cv=3, estimator=RandomForestRegressor(random_state=42), mode=&#x27;max&#x27;,\n",
              "             n_jobs=-1,\n",
              "             param_distributions={&#x27;max_depth&#x27;: [1, 2, 3, 4, 5, 6, 7, 8, 9],\n",
              "                                  &#x27;n_estimators&#x27;: [50, 60, 70, 80, 90, 100]},\n",
              "             scoring=make_scorer(smape, greater_is_better=False), sk_n_jobs=1)</pre><b>In a Jupyter environment, please rerun this cell to show the HTML representation or trust the notebook. <br />On GitHub, the HTML representation is unable to render, please try loading this page with nbviewer.org.</b></div><div class=\"sk-container\" hidden><div class=\"sk-item sk-dashed-wrapped\"><div class=\"sk-label-container\"><div class=\"sk-label sk-toggleable\"><input class=\"sk-toggleable__control sk-hidden--visually\" id=\"sk-estimator-id-5\" type=\"checkbox\" ><label for=\"sk-estimator-id-5\" class=\"sk-toggleable__label sk-toggleable__label-arrow\">TuneSearchCV</label><div class=\"sk-toggleable__content\"><pre>TuneSearchCV(cv=3, estimator=RandomForestRegressor(random_state=42), mode=&#x27;max&#x27;,\n",
              "             n_jobs=-1,\n",
              "             param_distributions={&#x27;max_depth&#x27;: [1, 2, 3, 4, 5, 6, 7, 8, 9],\n",
              "                                  &#x27;n_estimators&#x27;: [50, 60, 70, 80, 90, 100]},\n",
              "             scoring=make_scorer(smape, greater_is_better=False), sk_n_jobs=1)</pre></div></div></div><div class=\"sk-parallel\"><div class=\"sk-parallel-item\"><div class=\"sk-item\"><div class=\"sk-label-container\"><div class=\"sk-label sk-toggleable\"><input class=\"sk-toggleable__control sk-hidden--visually\" id=\"sk-estimator-id-6\" type=\"checkbox\" ><label for=\"sk-estimator-id-6\" class=\"sk-toggleable__label sk-toggleable__label-arrow\">estimator: RandomForestRegressor</label><div class=\"sk-toggleable__content\"><pre>RandomForestRegressor(random_state=42)</pre></div></div></div><div class=\"sk-serial\"><div class=\"sk-item\"><div class=\"sk-estimator sk-toggleable\"><input class=\"sk-toggleable__control sk-hidden--visually\" id=\"sk-estimator-id-7\" type=\"checkbox\" ><label for=\"sk-estimator-id-7\" class=\"sk-toggleable__label sk-toggleable__label-arrow\">RandomForestRegressor</label><div class=\"sk-toggleable__content\"><pre>RandomForestRegressor(random_state=42)</pre></div></div></div></div></div></div></div></div></div></div>"
            ]
          },
          "metadata": {},
          "execution_count": 51
        }
      ],
      "source": [
        "%%time\n",
        "\n",
        "forest_final_search.fit(x_train, y_train.iloc[:,1])"
      ]
    },
    {
      "cell_type": "code",
      "execution_count": 52,
      "metadata": {
        "colab": {
          "base_uri": "https://localhost:8080/"
        },
        "id": "uj5KLxo8X-Fo",
        "outputId": "ec03f01a-6edc-421f-bf6f-478b92f6d252"
      },
      "outputs": [
        {
          "output_type": "execute_result",
          "data": {
            "text/plain": [
              "(RandomForestRegressor(max_depth=1, n_estimators=50, random_state=42),\n",
              " -9.745307292425592)"
            ]
          },
          "metadata": {},
          "execution_count": 52
        }
      ],
      "source": [
        "forest_final_search.best_estimator_, forest_final_search.best_score_"
      ]
    },
    {
      "cell_type": "code",
      "execution_count": 53,
      "metadata": {
        "colab": {
          "base_uri": "https://localhost:8080/"
        },
        "id": "YZoirQvtX-Fo",
        "outputId": "de5ee6a4-6f73-464c-8e78-5842438b7f99"
      },
      "outputs": [
        {
          "output_type": "execute_result",
          "data": {
            "text/plain": [
              "[-6.480809311188381, -9.745307292425592, -8.929182797116288]"
            ]
          },
          "metadata": {},
          "execution_count": 53
        }
      ],
      "source": [
        "forest_scores = [forest_rougher_search.best_score_,\n",
        "                 forest_final_search.best_score_,\n",
        "                 final_score(forest_rougher_search.best_score_, forest_final_search.best_score_)]\n",
        "\n",
        "forest_scores"
      ]
    },
    {
      "cell_type": "markdown",
      "metadata": {
        "id": "HuSMhzttX-Fo"
      },
      "source": [
        "### CatBoost"
      ]
    },
    {
      "cell_type": "markdown",
      "metadata": {
        "id": "b19zcNpBX-Fp"
      },
      "source": [
        "Для оценки catboost регрессора воспольуемся кросс-валидацией из библиотеки catboost. В отличие от sklearn, она имеет встроенную метрику sMAPE."
      ]
    },
    {
      "cell_type": "code",
      "execution_count": 54,
      "metadata": {
        "id": "wOtl45ybX-Fp"
      },
      "outputs": [],
      "source": [
        "cb_params = {'eval_metric': 'SMAPE',\n",
        "             'loss_function': 'RMSE',\n",
        "             'learning_rate': 0.2,\n",
        "             'iterations' : 1000,\n",
        "             'random_seed': 42,\n",
        "             'verbose':100}\n",
        "\n",
        "train_data_rougher = Pool(data=x_train[features_rougher],\n",
        "                  label=y_train.iloc[:,0]\n",
        "                 )\n",
        "\n",
        "cb_scores = []"
      ]
    },
    {
      "cell_type": "code",
      "execution_count": 55,
      "metadata": {
        "colab": {
          "base_uri": "https://localhost:8080/"
        },
        "id": "-0rD5jhAX-Fp",
        "outputId": "f6880721-2d36-4f83-c762-dd8ff8cb4afc"
      },
      "outputs": [
        {
          "output_type": "stream",
          "name": "stdout",
          "text": [
            "Training on fold [0/3]\n",
            "\n",
            "bestTest = 2.988982179\n",
            "bestIteration = 986\n",
            "\n",
            "Training on fold [1/3]\n",
            "\n",
            "bestTest = 3.039278805\n",
            "bestIteration = 998\n",
            "\n",
            "Training on fold [2/3]\n",
            "\n",
            "bestTest = 2.987298317\n",
            "bestIteration = 999\n",
            "\n"
          ]
        }
      ],
      "source": [
        "cv_data_rougher = cv(\n",
        "    params = cb_params,\n",
        "    pool = train_data_rougher,\n",
        "    fold_count=3,\n",
        "    shuffle=True,\n",
        "    partition_random_seed=0,\n",
        "    stratified=False,\n",
        "    verbose=False,\n",
        "    early_stopping_rounds=200\n",
        ")"
      ]
    },
    {
      "cell_type": "code",
      "execution_count": 56,
      "metadata": {
        "id": "XQ7ud366X-Fp"
      },
      "outputs": [],
      "source": [
        "train_data_final = Pool(data=x_train,\n",
        "                  label=y_train.iloc[:,1]\n",
        "                 )"
      ]
    },
    {
      "cell_type": "code",
      "execution_count": 57,
      "metadata": {
        "colab": {
          "base_uri": "https://localhost:8080/"
        },
        "id": "h5patdwIX-Fp",
        "outputId": "026e3c44-be26-45f5-c4b2-c94a0e4b290d"
      },
      "outputs": [
        {
          "output_type": "stream",
          "name": "stdout",
          "text": [
            "Training on fold [0/3]\n",
            "\n",
            "bestTest = 6.078447923\n",
            "bestIteration = 780\n",
            "\n",
            "Training on fold [1/3]\n",
            "\n",
            "bestTest = 5.998949465\n",
            "bestIteration = 988\n",
            "\n",
            "Training on fold [2/3]\n",
            "\n",
            "bestTest = 5.961738618\n",
            "bestIteration = 994\n",
            "\n"
          ]
        }
      ],
      "source": [
        "cv_data_final = cv(\n",
        "    params = cb_params,\n",
        "    pool = train_data_final,\n",
        "    fold_count=3,\n",
        "    shuffle=True,\n",
        "    partition_random_seed=0,\n",
        "    stratified=False,\n",
        "    verbose=False,\n",
        "    early_stopping_rounds=200\n",
        ")"
      ]
    },
    {
      "cell_type": "code",
      "execution_count": 58,
      "metadata": {
        "colab": {
          "base_uri": "https://localhost:8080/"
        },
        "id": "7pMbxOaYX-Fq",
        "outputId": "fe987c93-591d-488c-f092-5dbcae0fa6e6"
      },
      "outputs": [
        {
          "output_type": "execute_result",
          "data": {
            "text/plain": [
              "[3.005379323115722, 6.01576289921267, 5.263167005188433]"
            ]
          },
          "metadata": {},
          "execution_count": 58
        }
      ],
      "source": [
        "cb_scores = [cv_data_rougher['test-SMAPE-mean'].min(),\n",
        "                 cv_data_final['test-SMAPE-mean'].min(),\n",
        "                 final_score(cv_data_rougher['test-SMAPE-mean'].min(), cv_data_final['test-SMAPE-mean'].min())]\n",
        "\n",
        "cb_scores"
      ]
    },
    {
      "cell_type": "code",
      "execution_count": 59,
      "metadata": {
        "scrolled": true,
        "colab": {
          "base_uri": "https://localhost:8080/"
        },
        "id": "5RDX7-coX-Fq",
        "outputId": "28fa2227-cd02-428d-b709-00a9971df607"
      },
      "outputs": [
        {
          "output_type": "stream",
          "name": "stdout",
          "text": [
            "0:\tlearn: 6.2575154\ttotal: 9.83ms\tremaining: 9.82s\n",
            "100:\tlearn: 3.0101902\ttotal: 888ms\tremaining: 7.91s\n",
            "200:\tlearn: 2.4882472\ttotal: 1.76s\tremaining: 6.98s\n",
            "300:\tlearn: 2.1773586\ttotal: 2.63s\tremaining: 6.1s\n",
            "400:\tlearn: 1.9560304\ttotal: 3.48s\tremaining: 5.2s\n",
            "500:\tlearn: 1.7801811\ttotal: 5.34s\tremaining: 5.32s\n",
            "600:\tlearn: 1.6360712\ttotal: 7.26s\tremaining: 4.82s\n",
            "700:\tlearn: 1.5144613\ttotal: 9.23s\tremaining: 3.94s\n",
            "800:\tlearn: 1.4149889\ttotal: 10.6s\tremaining: 2.64s\n",
            "900:\tlearn: 1.3184808\ttotal: 11.5s\tremaining: 1.26s\n",
            "999:\tlearn: 1.2264271\ttotal: 12.3s\tremaining: 0us\n"
          ]
        },
        {
          "output_type": "execute_result",
          "data": {
            "text/plain": [
              "<catboost.core.CatBoostRegressor at 0x7e309a9ca470>"
            ]
          },
          "metadata": {},
          "execution_count": 59
        }
      ],
      "source": [
        "cb_regressor_rougher = CatBoostRegressor(**cb_params)\n",
        "cb_regressor_rougher.fit(train_data_rougher)"
      ]
    },
    {
      "cell_type": "code",
      "execution_count": 60,
      "metadata": {
        "scrolled": false,
        "colab": {
          "base_uri": "https://localhost:8080/"
        },
        "id": "7prMrHLtX-Fq",
        "outputId": "3c3acb73-ad89-4dca-be12-7c0b24429331"
      },
      "outputs": [
        {
          "output_type": "stream",
          "name": "stdout",
          "text": [
            "0:\tlearn: 9.1291939\ttotal: 19.9ms\tremaining: 19.9s\n",
            "100:\tlearn: 5.5701149\ttotal: 1.79s\tremaining: 16s\n",
            "200:\tlearn: 4.7387338\ttotal: 3.56s\tremaining: 14.2s\n",
            "300:\tlearn: 4.1901942\ttotal: 5.33s\tremaining: 12.4s\n",
            "400:\tlearn: 3.7549178\ttotal: 7.08s\tremaining: 10.6s\n",
            "500:\tlearn: 3.4016339\ttotal: 9.98s\tremaining: 9.94s\n",
            "600:\tlearn: 3.0979600\ttotal: 13.8s\tremaining: 9.15s\n",
            "700:\tlearn: 2.8308626\ttotal: 15.8s\tremaining: 6.75s\n",
            "800:\tlearn: 2.5994410\ttotal: 17.6s\tremaining: 4.37s\n",
            "900:\tlearn: 2.3944310\ttotal: 19.3s\tremaining: 2.13s\n",
            "999:\tlearn: 2.2036143\ttotal: 21.1s\tremaining: 0us\n"
          ]
        },
        {
          "output_type": "execute_result",
          "data": {
            "text/plain": [
              "<catboost.core.CatBoostRegressor at 0x7e309a9cb6a0>"
            ]
          },
          "metadata": {},
          "execution_count": 60
        }
      ],
      "source": [
        "cb_regressor_final = CatBoostRegressor(**cb_params)\n",
        "cb_regressor_final.fit(train_data_final)"
      ]
    },
    {
      "cell_type": "markdown",
      "metadata": {
        "id": "ILG_HyrXX-Fq"
      },
      "source": [
        "### Итоговые результаты"
      ]
    },
    {
      "cell_type": "code",
      "execution_count": 61,
      "metadata": {
        "colab": {
          "base_uri": "https://localhost:8080/",
          "height": 143
        },
        "id": "G0xWfA45X-Fr",
        "outputId": "685378ec-f171-4a0c-f4fc-cc56cd23d595"
      },
      "outputs": [
        {
          "output_type": "execute_result",
          "data": {
            "text/plain": [
              "           rougher     output      final\n",
              "linear    7.586054  10.913459  10.081608\n",
              "forest    6.480809   9.745307   8.929183\n",
              "catboost  3.005379   6.015763   5.263167"
            ],
            "text/html": [
              "\n",
              "  <div id=\"df-fa9fe326-36fd-4e21-8580-2578d60d0710\" class=\"colab-df-container\">\n",
              "    <div>\n",
              "<style scoped>\n",
              "    .dataframe tbody tr th:only-of-type {\n",
              "        vertical-align: middle;\n",
              "    }\n",
              "\n",
              "    .dataframe tbody tr th {\n",
              "        vertical-align: top;\n",
              "    }\n",
              "\n",
              "    .dataframe thead th {\n",
              "        text-align: right;\n",
              "    }\n",
              "</style>\n",
              "<table border=\"1\" class=\"dataframe\">\n",
              "  <thead>\n",
              "    <tr style=\"text-align: right;\">\n",
              "      <th></th>\n",
              "      <th>rougher</th>\n",
              "      <th>output</th>\n",
              "      <th>final</th>\n",
              "    </tr>\n",
              "  </thead>\n",
              "  <tbody>\n",
              "    <tr>\n",
              "      <th>linear</th>\n",
              "      <td>7.586054</td>\n",
              "      <td>10.913459</td>\n",
              "      <td>10.081608</td>\n",
              "    </tr>\n",
              "    <tr>\n",
              "      <th>forest</th>\n",
              "      <td>6.480809</td>\n",
              "      <td>9.745307</td>\n",
              "      <td>8.929183</td>\n",
              "    </tr>\n",
              "    <tr>\n",
              "      <th>catboost</th>\n",
              "      <td>3.005379</td>\n",
              "      <td>6.015763</td>\n",
              "      <td>5.263167</td>\n",
              "    </tr>\n",
              "  </tbody>\n",
              "</table>\n",
              "</div>\n",
              "    <div class=\"colab-df-buttons\">\n",
              "\n",
              "  <div class=\"colab-df-container\">\n",
              "    <button class=\"colab-df-convert\" onclick=\"convertToInteractive('df-fa9fe326-36fd-4e21-8580-2578d60d0710')\"\n",
              "            title=\"Convert this dataframe to an interactive table.\"\n",
              "            style=\"display:none;\">\n",
              "\n",
              "  <svg xmlns=\"http://www.w3.org/2000/svg\" height=\"24px\" viewBox=\"0 -960 960 960\">\n",
              "    <path d=\"M120-120v-720h720v720H120Zm60-500h600v-160H180v160Zm220 220h160v-160H400v160Zm0 220h160v-160H400v160ZM180-400h160v-160H180v160Zm440 0h160v-160H620v160ZM180-180h160v-160H180v160Zm440 0h160v-160H620v160Z\"/>\n",
              "  </svg>\n",
              "    </button>\n",
              "\n",
              "  <style>\n",
              "    .colab-df-container {\n",
              "      display:flex;\n",
              "      gap: 12px;\n",
              "    }\n",
              "\n",
              "    .colab-df-convert {\n",
              "      background-color: #E8F0FE;\n",
              "      border: none;\n",
              "      border-radius: 50%;\n",
              "      cursor: pointer;\n",
              "      display: none;\n",
              "      fill: #1967D2;\n",
              "      height: 32px;\n",
              "      padding: 0 0 0 0;\n",
              "      width: 32px;\n",
              "    }\n",
              "\n",
              "    .colab-df-convert:hover {\n",
              "      background-color: #E2EBFA;\n",
              "      box-shadow: 0px 1px 2px rgba(60, 64, 67, 0.3), 0px 1px 3px 1px rgba(60, 64, 67, 0.15);\n",
              "      fill: #174EA6;\n",
              "    }\n",
              "\n",
              "    .colab-df-buttons div {\n",
              "      margin-bottom: 4px;\n",
              "    }\n",
              "\n",
              "    [theme=dark] .colab-df-convert {\n",
              "      background-color: #3B4455;\n",
              "      fill: #D2E3FC;\n",
              "    }\n",
              "\n",
              "    [theme=dark] .colab-df-convert:hover {\n",
              "      background-color: #434B5C;\n",
              "      box-shadow: 0px 1px 3px 1px rgba(0, 0, 0, 0.15);\n",
              "      filter: drop-shadow(0px 1px 2px rgba(0, 0, 0, 0.3));\n",
              "      fill: #FFFFFF;\n",
              "    }\n",
              "  </style>\n",
              "\n",
              "    <script>\n",
              "      const buttonEl =\n",
              "        document.querySelector('#df-fa9fe326-36fd-4e21-8580-2578d60d0710 button.colab-df-convert');\n",
              "      buttonEl.style.display =\n",
              "        google.colab.kernel.accessAllowed ? 'block' : 'none';\n",
              "\n",
              "      async function convertToInteractive(key) {\n",
              "        const element = document.querySelector('#df-fa9fe326-36fd-4e21-8580-2578d60d0710');\n",
              "        const dataTable =\n",
              "          await google.colab.kernel.invokeFunction('convertToInteractive',\n",
              "                                                    [key], {});\n",
              "        if (!dataTable) return;\n",
              "\n",
              "        const docLinkHtml = 'Like what you see? Visit the ' +\n",
              "          '<a target=\"_blank\" href=https://colab.research.google.com/notebooks/data_table.ipynb>data table notebook</a>'\n",
              "          + ' to learn more about interactive tables.';\n",
              "        element.innerHTML = '';\n",
              "        dataTable['output_type'] = 'display_data';\n",
              "        await google.colab.output.renderOutput(dataTable, element);\n",
              "        const docLink = document.createElement('div');\n",
              "        docLink.innerHTML = docLinkHtml;\n",
              "        element.appendChild(docLink);\n",
              "      }\n",
              "    </script>\n",
              "  </div>\n",
              "\n",
              "\n",
              "<div id=\"df-521b047c-5b9b-430e-afda-b088b68b62eb\">\n",
              "  <button class=\"colab-df-quickchart\" onclick=\"quickchart('df-521b047c-5b9b-430e-afda-b088b68b62eb')\"\n",
              "            title=\"Suggest charts\"\n",
              "            style=\"display:none;\">\n",
              "\n",
              "<svg xmlns=\"http://www.w3.org/2000/svg\" height=\"24px\"viewBox=\"0 0 24 24\"\n",
              "     width=\"24px\">\n",
              "    <g>\n",
              "        <path d=\"M19 3H5c-1.1 0-2 .9-2 2v14c0 1.1.9 2 2 2h14c1.1 0 2-.9 2-2V5c0-1.1-.9-2-2-2zM9 17H7v-7h2v7zm4 0h-2V7h2v10zm4 0h-2v-4h2v4z\"/>\n",
              "    </g>\n",
              "</svg>\n",
              "  </button>\n",
              "\n",
              "<style>\n",
              "  .colab-df-quickchart {\n",
              "      --bg-color: #E8F0FE;\n",
              "      --fill-color: #1967D2;\n",
              "      --hover-bg-color: #E2EBFA;\n",
              "      --hover-fill-color: #174EA6;\n",
              "      --disabled-fill-color: #AAA;\n",
              "      --disabled-bg-color: #DDD;\n",
              "  }\n",
              "\n",
              "  [theme=dark] .colab-df-quickchart {\n",
              "      --bg-color: #3B4455;\n",
              "      --fill-color: #D2E3FC;\n",
              "      --hover-bg-color: #434B5C;\n",
              "      --hover-fill-color: #FFFFFF;\n",
              "      --disabled-bg-color: #3B4455;\n",
              "      --disabled-fill-color: #666;\n",
              "  }\n",
              "\n",
              "  .colab-df-quickchart {\n",
              "    background-color: var(--bg-color);\n",
              "    border: none;\n",
              "    border-radius: 50%;\n",
              "    cursor: pointer;\n",
              "    display: none;\n",
              "    fill: var(--fill-color);\n",
              "    height: 32px;\n",
              "    padding: 0;\n",
              "    width: 32px;\n",
              "  }\n",
              "\n",
              "  .colab-df-quickchart:hover {\n",
              "    background-color: var(--hover-bg-color);\n",
              "    box-shadow: 0 1px 2px rgba(60, 64, 67, 0.3), 0 1px 3px 1px rgba(60, 64, 67, 0.15);\n",
              "    fill: var(--button-hover-fill-color);\n",
              "  }\n",
              "\n",
              "  .colab-df-quickchart-complete:disabled,\n",
              "  .colab-df-quickchart-complete:disabled:hover {\n",
              "    background-color: var(--disabled-bg-color);\n",
              "    fill: var(--disabled-fill-color);\n",
              "    box-shadow: none;\n",
              "  }\n",
              "\n",
              "  .colab-df-spinner {\n",
              "    border: 2px solid var(--fill-color);\n",
              "    border-color: transparent;\n",
              "    border-bottom-color: var(--fill-color);\n",
              "    animation:\n",
              "      spin 1s steps(1) infinite;\n",
              "  }\n",
              "\n",
              "  @keyframes spin {\n",
              "    0% {\n",
              "      border-color: transparent;\n",
              "      border-bottom-color: var(--fill-color);\n",
              "      border-left-color: var(--fill-color);\n",
              "    }\n",
              "    20% {\n",
              "      border-color: transparent;\n",
              "      border-left-color: var(--fill-color);\n",
              "      border-top-color: var(--fill-color);\n",
              "    }\n",
              "    30% {\n",
              "      border-color: transparent;\n",
              "      border-left-color: var(--fill-color);\n",
              "      border-top-color: var(--fill-color);\n",
              "      border-right-color: var(--fill-color);\n",
              "    }\n",
              "    40% {\n",
              "      border-color: transparent;\n",
              "      border-right-color: var(--fill-color);\n",
              "      border-top-color: var(--fill-color);\n",
              "    }\n",
              "    60% {\n",
              "      border-color: transparent;\n",
              "      border-right-color: var(--fill-color);\n",
              "    }\n",
              "    80% {\n",
              "      border-color: transparent;\n",
              "      border-right-color: var(--fill-color);\n",
              "      border-bottom-color: var(--fill-color);\n",
              "    }\n",
              "    90% {\n",
              "      border-color: transparent;\n",
              "      border-bottom-color: var(--fill-color);\n",
              "    }\n",
              "  }\n",
              "</style>\n",
              "\n",
              "  <script>\n",
              "    async function quickchart(key) {\n",
              "      const quickchartButtonEl =\n",
              "        document.querySelector('#' + key + ' button');\n",
              "      quickchartButtonEl.disabled = true;  // To prevent multiple clicks.\n",
              "      quickchartButtonEl.classList.add('colab-df-spinner');\n",
              "      try {\n",
              "        const charts = await google.colab.kernel.invokeFunction(\n",
              "            'suggestCharts', [key], {});\n",
              "      } catch (error) {\n",
              "        console.error('Error during call to suggestCharts:', error);\n",
              "      }\n",
              "      quickchartButtonEl.classList.remove('colab-df-spinner');\n",
              "      quickchartButtonEl.classList.add('colab-df-quickchart-complete');\n",
              "    }\n",
              "    (() => {\n",
              "      let quickchartButtonEl =\n",
              "        document.querySelector('#df-521b047c-5b9b-430e-afda-b088b68b62eb button');\n",
              "      quickchartButtonEl.style.display =\n",
              "        google.colab.kernel.accessAllowed ? 'block' : 'none';\n",
              "    })();\n",
              "  </script>\n",
              "</div>\n",
              "    </div>\n",
              "  </div>\n"
            ]
          },
          "metadata": {},
          "execution_count": 61
        }
      ],
      "source": [
        "results = pd.DataFrame(\n",
        "    [linear_scores, forest_scores, cb_scores],\n",
        "    columns = ['rougher', 'output', 'final'],\n",
        "    index = ['linear', 'forest', 'catboost']).abs()\n",
        "results"
      ]
    },
    {
      "cell_type": "markdown",
      "metadata": {
        "id": "rcnX9ghgX-Ft"
      },
      "source": [
        "Наилучшие результаты показывает catboost. Проверим его на тестовой выборке"
      ]
    },
    {
      "cell_type": "code",
      "execution_count": 62,
      "metadata": {
        "id": "1br4nxBgX-Fu"
      },
      "outputs": [],
      "source": [
        "predict_rougher = cb_regressor_rougher.predict(x_test[features_rougher])\n",
        "predict_final = cb_regressor_final.predict(x_test)"
      ]
    },
    {
      "cell_type": "code",
      "execution_count": 63,
      "metadata": {
        "colab": {
          "base_uri": "https://localhost:8080/"
        },
        "id": "0aNjHGGtX-Fu",
        "outputId": "387df7ed-6644-4277-e301-ff8e2f827c9a"
      },
      "outputs": [
        {
          "output_type": "execute_result",
          "data": {
            "text/plain": [
              "2.8219493986500312"
            ]
          },
          "metadata": {},
          "execution_count": 63
        }
      ],
      "source": [
        "smape(predict_rougher, y_test.iloc[:,0])"
      ]
    },
    {
      "cell_type": "code",
      "execution_count": 64,
      "metadata": {
        "colab": {
          "base_uri": "https://localhost:8080/"
        },
        "id": "jrCP3V3kX-Fu",
        "outputId": "58990472-138a-4d87-e98f-cc49e5040c00"
      },
      "outputs": [
        {
          "output_type": "execute_result",
          "data": {
            "text/plain": [
              "6.1329304023366396"
            ]
          },
          "metadata": {},
          "execution_count": 64
        }
      ],
      "source": [
        "smape(predict_final, y_test.iloc[:,1])"
      ]
    },
    {
      "cell_type": "code",
      "execution_count": 65,
      "metadata": {
        "scrolled": false,
        "colab": {
          "base_uri": "https://localhost:8080/"
        },
        "id": "cpu-zf-jX-Fu",
        "outputId": "5c464a68-a070-4388-82f5-bf92e50fdf02"
      },
      "outputs": [
        {
          "output_type": "execute_result",
          "data": {
            "text/plain": [
              "5.305185151414987"
            ]
          },
          "metadata": {},
          "execution_count": 65
        }
      ],
      "source": [
        "final_score(smape(predict_rougher, y_test.iloc[:,0]), smape(predict_final, y_test.iloc[:,1]))"
      ]
    },
    {
      "cell_type": "markdown",
      "metadata": {
        "id": "24Nu4b7mX-Fv"
      },
      "source": [
        "### Sanity check"
      ]
    },
    {
      "cell_type": "markdown",
      "metadata": {
        "id": "DFuRxOhUX-Fv"
      },
      "source": [
        "Проверим модель на адекватность, сравнив с константной моделью \"предсказывающей\" среднее значение"
      ]
    },
    {
      "cell_type": "code",
      "execution_count": 66,
      "metadata": {
        "id": "ZJH1ZC7mX-Fv"
      },
      "outputs": [],
      "source": [
        "dummy_reg_rougher = DummyRegressor(strategy = 'mean')\n",
        "dummy_reg_final = DummyRegressor(strategy = 'mean')\n",
        "dummy_reg_rougher.fit(x_train[features_rougher], y_train.iloc[:,0])\n",
        "dummy_reg_final.fit(x_train, y_train.iloc[:,1])\n",
        "dummy_pred_rougher = dummy_reg_rougher.predict(x_test[features_rougher])\n",
        "dummy_pred_final = dummy_reg_rougher.predict(x_test)"
      ]
    },
    {
      "cell_type": "code",
      "execution_count": 67,
      "metadata": {
        "colab": {
          "base_uri": "https://localhost:8080/"
        },
        "id": "rx4rq15SX-Fw",
        "outputId": "07172428-572a-4ba5-9fd9-540df4b37b46"
      },
      "outputs": [
        {
          "output_type": "execute_result",
          "data": {
            "text/plain": [
              "[6.107461859252015, 23.151329842268233, 18.890362846514176]"
            ]
          },
          "metadata": {},
          "execution_count": 67
        }
      ],
      "source": [
        "[smape(dummy_pred_rougher, y_test.iloc[:,0]),\n",
        "smape(dummy_pred_final, y_test.iloc[:,1]),\n",
        "final_score(smape(dummy_pred_rougher, y_test.iloc[:,0]), smape(dummy_pred_final, y_test.iloc[:,1]), )]"
      ]
    },
    {
      "cell_type": "markdown",
      "metadata": {
        "id": "oq_pjczlX-Fw"
      },
      "source": [
        "Все значения sMAPE константной модели больше, чем у catboost. Модель прошла проверку на адекватность"
      ]
    },
    {
      "cell_type": "markdown",
      "metadata": {
        "id": "VwXeIe9hX-Fw"
      },
      "source": [
        "## Вывод"
      ]
    },
    {
      "cell_type": "markdown",
      "metadata": {
        "id": "euBFnpP_X-Fw"
      },
      "source": [
        "Изучены данные технологического процесса обогащения руды.\n",
        "\n",
        "1. Проверена формула расчёта эффективности обогащения. Результаты расчёта совпадают с данными в выборке с MAE порядка e-15\n",
        "2. Проведено сравнение обучающей и тестовой выборок. В тестововй выборке отсутствуют расчётные параметры и данные о результатах промежуточных ступеней процесса. Эти параметры исключены из обучения моделей.\n",
        "3. Проведена предобработка данных\n",
        "    - пропуски заполнены предыдущими значениями\n",
        "    - проведено масштабирование\n",
        "4. Проведён анализ изменения концентраций металлов на различных этапах техпроцесса. В целом, для всех металлов характерно сползание пика частоты на гистограмме \"вправо\" и/или повышение значения пиковой частоты (см. например свинец при переходе от вторичной очистки к готовому продукту).  Также наблюдаются пики частот около нуля.\n",
        "5. Проведён анализ распределений размеров гранул сырья в обучающей и тестовой выборках. Распределения сходны.\n",
        "6. Изучена суммарная концентрация металлов на различных этапах техпроцесса. От стадии к стадии пик распределения смещается вправо, то есть растёт как само максимальное значение, так и частота его появления (так, например, на гистограмме для финального продукта, максимум концентрации и является самым частым значением)\n",
        "7. Подготовлена функция для расчёта sMAPE\n",
        "8. Обучены модели линейной регрессии, ramdom forest, catboost regressor. На кросс-валидации лучше всего себя показал catboost regressor - итоговое sMAPE = 8.36%\n",
        "9. Произведена проверка модели на тестовой выборке - итоговое sMAPE = 5.3%\n",
        "10. Проведено сравнение с константной моделью. Итоговое sMAPE константной модели - 18.9%."
      ]
    }
  ],
  "metadata": {
    "ExecuteTimeLog": [
      {
        "duration": 1591,
        "start_time": "2023-06-13T05:04:21.477Z"
      },
      {
        "duration": 1988,
        "start_time": "2023-06-13T05:14:55.808Z"
      },
      {
        "duration": 27,
        "start_time": "2023-06-13T05:15:06.411Z"
      },
      {
        "duration": 19,
        "start_time": "2023-06-13T05:15:14.268Z"
      },
      {
        "duration": 21,
        "start_time": "2023-06-13T05:15:21.176Z"
      },
      {
        "duration": 3,
        "start_time": "2023-06-13T06:34:13.937Z"
      },
      {
        "duration": 8,
        "start_time": "2023-06-13T06:35:07.844Z"
      },
      {
        "duration": 4,
        "start_time": "2023-06-13T07:07:53.654Z"
      },
      {
        "duration": 13,
        "start_time": "2023-06-13T09:02:59.021Z"
      },
      {
        "duration": 28,
        "start_time": "2023-06-13T09:03:46.112Z"
      },
      {
        "duration": 12,
        "start_time": "2023-06-13T09:04:00.132Z"
      },
      {
        "duration": 30,
        "start_time": "2023-06-13T09:04:14.304Z"
      },
      {
        "duration": 13,
        "start_time": "2023-06-13T09:06:28.164Z"
      },
      {
        "duration": 22,
        "start_time": "2023-06-13T09:06:41.592Z"
      },
      {
        "duration": 13,
        "start_time": "2023-06-13T09:07:24.434Z"
      },
      {
        "duration": 129,
        "start_time": "2023-06-13T09:10:44.215Z"
      },
      {
        "duration": 9,
        "start_time": "2023-06-13T09:11:19.230Z"
      },
      {
        "duration": 159,
        "start_time": "2023-06-13T09:11:24.712Z"
      },
      {
        "duration": 3,
        "start_time": "2023-06-13T09:11:57.539Z"
      },
      {
        "duration": 3,
        "start_time": "2023-06-13T09:13:41.322Z"
      },
      {
        "duration": 3,
        "start_time": "2023-06-13T09:20:02.532Z"
      },
      {
        "duration": 3,
        "start_time": "2023-06-13T09:20:16.246Z"
      },
      {
        "duration": 103,
        "start_time": "2023-06-13T09:21:32.878Z"
      },
      {
        "duration": 220,
        "start_time": "2023-06-13T09:23:25.415Z"
      },
      {
        "duration": 118,
        "start_time": "2023-06-13T09:24:01.492Z"
      },
      {
        "duration": 25,
        "start_time": "2023-06-13T09:24:19.108Z"
      },
      {
        "duration": 126,
        "start_time": "2023-06-13T09:24:34.183Z"
      },
      {
        "duration": 1453,
        "start_time": "2023-06-13T09:25:10.693Z"
      },
      {
        "duration": 2019,
        "start_time": "2023-06-13T09:25:12.148Z"
      },
      {
        "duration": 33,
        "start_time": "2023-06-13T09:25:14.169Z"
      },
      {
        "duration": 19,
        "start_time": "2023-06-13T09:25:14.204Z"
      },
      {
        "duration": 19,
        "start_time": "2023-06-13T09:25:14.225Z"
      },
      {
        "duration": 33,
        "start_time": "2023-06-13T09:25:14.245Z"
      },
      {
        "duration": 44,
        "start_time": "2023-06-13T09:25:14.280Z"
      },
      {
        "duration": 29,
        "start_time": "2023-06-13T09:25:14.326Z"
      },
      {
        "duration": 7,
        "start_time": "2023-06-13T09:25:14.356Z"
      },
      {
        "duration": 45,
        "start_time": "2023-06-13T09:25:14.365Z"
      },
      {
        "duration": 22,
        "start_time": "2023-06-13T09:25:14.412Z"
      },
      {
        "duration": 42,
        "start_time": "2023-06-13T09:25:14.436Z"
      },
      {
        "duration": 144,
        "start_time": "2023-06-13T09:25:14.480Z"
      },
      {
        "duration": 11,
        "start_time": "2023-06-13T09:25:14.626Z"
      },
      {
        "duration": 145,
        "start_time": "2023-06-13T09:25:14.639Z"
      },
      {
        "duration": 13,
        "start_time": "2023-06-13T09:25:14.785Z"
      },
      {
        "duration": 13,
        "start_time": "2023-06-13T09:25:14.802Z"
      },
      {
        "duration": 10,
        "start_time": "2023-06-13T09:25:14.816Z"
      },
      {
        "duration": 36,
        "start_time": "2023-06-13T09:25:14.827Z"
      },
      {
        "duration": 225,
        "start_time": "2023-06-13T09:25:14.864Z"
      },
      {
        "duration": 6,
        "start_time": "2023-06-13T09:26:53.011Z"
      },
      {
        "duration": 6,
        "start_time": "2023-06-13T09:27:32.408Z"
      },
      {
        "duration": 11,
        "start_time": "2023-06-13T09:28:09.779Z"
      },
      {
        "duration": 132,
        "start_time": "2023-06-13T09:32:01.630Z"
      },
      {
        "duration": 45,
        "start_time": "2023-06-13T09:34:19.584Z"
      },
      {
        "duration": 32,
        "start_time": "2023-06-13T09:34:39.478Z"
      },
      {
        "duration": 4,
        "start_time": "2023-06-13T09:34:48.753Z"
      },
      {
        "duration": 2082,
        "start_time": "2023-06-13T09:34:48.759Z"
      },
      {
        "duration": 18,
        "start_time": "2023-06-13T09:34:50.843Z"
      },
      {
        "duration": 35,
        "start_time": "2023-06-13T09:34:50.863Z"
      },
      {
        "duration": 65,
        "start_time": "2023-06-13T09:34:50.906Z"
      },
      {
        "duration": 68,
        "start_time": "2023-06-13T09:34:50.973Z"
      },
      {
        "duration": 33,
        "start_time": "2023-06-13T09:34:51.043Z"
      },
      {
        "duration": 37,
        "start_time": "2023-06-13T09:34:51.078Z"
      },
      {
        "duration": 31,
        "start_time": "2023-06-13T09:34:51.116Z"
      },
      {
        "duration": 39,
        "start_time": "2023-06-13T09:34:51.149Z"
      },
      {
        "duration": 7,
        "start_time": "2023-06-13T09:34:51.190Z"
      },
      {
        "duration": 56,
        "start_time": "2023-06-13T09:34:51.199Z"
      },
      {
        "duration": 188,
        "start_time": "2023-06-13T09:34:51.257Z"
      },
      {
        "duration": 10,
        "start_time": "2023-06-13T09:34:51.449Z"
      },
      {
        "duration": 153,
        "start_time": "2023-06-13T09:34:51.460Z"
      },
      {
        "duration": 9,
        "start_time": "2023-06-13T09:34:51.617Z"
      },
      {
        "duration": 32,
        "start_time": "2023-06-13T09:34:51.635Z"
      },
      {
        "duration": 105,
        "start_time": "2023-06-13T09:34:51.669Z"
      },
      {
        "duration": 111,
        "start_time": "2023-06-13T09:34:51.775Z"
      },
      {
        "duration": 25,
        "start_time": "2023-06-13T09:34:51.888Z"
      },
      {
        "duration": 25,
        "start_time": "2023-06-13T09:35:21.399Z"
      },
      {
        "duration": 173,
        "start_time": "2023-06-13T09:37:55.227Z"
      },
      {
        "duration": 5,
        "start_time": "2023-06-13T09:38:06.701Z"
      },
      {
        "duration": 175,
        "start_time": "2023-06-13T09:38:12.915Z"
      },
      {
        "duration": 221,
        "start_time": "2023-06-13T09:38:38.432Z"
      },
      {
        "duration": 245,
        "start_time": "2023-06-13T09:38:42.878Z"
      },
      {
        "duration": 293,
        "start_time": "2023-06-13T09:38:47.220Z"
      },
      {
        "duration": 174,
        "start_time": "2023-06-13T09:38:53.343Z"
      },
      {
        "duration": 230,
        "start_time": "2023-06-13T09:38:58.258Z"
      },
      {
        "duration": 181,
        "start_time": "2023-06-13T09:39:11.187Z"
      },
      {
        "duration": 193,
        "start_time": "2023-06-13T09:43:51.983Z"
      },
      {
        "duration": 166,
        "start_time": "2023-06-13T09:44:02.223Z"
      },
      {
        "duration": 156,
        "start_time": "2023-06-13T09:44:18.395Z"
      },
      {
        "duration": 147,
        "start_time": "2023-06-13T09:44:19.136Z"
      },
      {
        "duration": 10,
        "start_time": "2023-06-13T09:44:41.859Z"
      },
      {
        "duration": 12,
        "start_time": "2023-06-13T09:44:49.296Z"
      },
      {
        "duration": 14,
        "start_time": "2023-06-13T09:44:53.993Z"
      },
      {
        "duration": 128,
        "start_time": "2023-06-13T09:47:01.045Z"
      },
      {
        "duration": 138,
        "start_time": "2023-06-13T09:47:07.155Z"
      },
      {
        "duration": 228,
        "start_time": "2023-06-13T09:48:05.435Z"
      },
      {
        "duration": 164,
        "start_time": "2023-06-13T09:48:10.895Z"
      },
      {
        "duration": 157,
        "start_time": "2023-06-13T09:48:14.346Z"
      },
      {
        "duration": 162,
        "start_time": "2023-06-13T09:48:18.958Z"
      },
      {
        "duration": 157,
        "start_time": "2023-06-13T09:49:09.592Z"
      },
      {
        "duration": 134,
        "start_time": "2023-06-13T09:49:18.050Z"
      },
      {
        "duration": 6,
        "start_time": "2023-06-13T09:50:34.820Z"
      },
      {
        "duration": 3,
        "start_time": "2023-06-13T10:00:03.128Z"
      },
      {
        "duration": 2,
        "start_time": "2023-06-13T10:01:11.180Z"
      },
      {
        "duration": 10,
        "start_time": "2023-06-13T10:04:12.730Z"
      },
      {
        "duration": 1679,
        "start_time": "2023-06-13T10:04:17.422Z"
      },
      {
        "duration": 4,
        "start_time": "2023-06-13T10:05:18.114Z"
      },
      {
        "duration": 5,
        "start_time": "2023-06-13T10:05:21.998Z"
      },
      {
        "duration": 877,
        "start_time": "2023-06-13T10:05:33.131Z"
      },
      {
        "duration": 500,
        "start_time": "2023-06-13T10:06:43.600Z"
      },
      {
        "duration": 471,
        "start_time": "2023-06-13T10:06:52.929Z"
      },
      {
        "duration": 541,
        "start_time": "2023-06-13T10:06:57.155Z"
      },
      {
        "duration": 829,
        "start_time": "2023-06-13T10:07:31.678Z"
      },
      {
        "duration": 569,
        "start_time": "2023-06-13T10:07:35.528Z"
      },
      {
        "duration": 356,
        "start_time": "2023-06-13T10:07:37.449Z"
      },
      {
        "duration": 424,
        "start_time": "2023-06-13T10:08:08.377Z"
      },
      {
        "duration": 967,
        "start_time": "2023-06-13T10:08:24.235Z"
      },
      {
        "duration": 4,
        "start_time": "2023-06-13T10:09:37.955Z"
      },
      {
        "duration": 4,
        "start_time": "2023-06-13T10:13:44.913Z"
      },
      {
        "duration": 611,
        "start_time": "2023-06-13T10:14:02.989Z"
      },
      {
        "duration": 9,
        "start_time": "2023-06-13T10:14:55.275Z"
      },
      {
        "duration": 13,
        "start_time": "2023-06-13T10:14:59.224Z"
      },
      {
        "duration": 4,
        "start_time": "2023-06-13T10:15:01.655Z"
      },
      {
        "duration": 392,
        "start_time": "2023-06-13T10:15:02.112Z"
      },
      {
        "duration": 555,
        "start_time": "2023-06-13T10:15:18.245Z"
      },
      {
        "duration": 3,
        "start_time": "2023-06-13T10:16:10.094Z"
      },
      {
        "duration": 7,
        "start_time": "2023-06-13T10:17:08.685Z"
      },
      {
        "duration": 12,
        "start_time": "2023-06-13T10:17:18.424Z"
      },
      {
        "duration": 3,
        "start_time": "2023-06-13T10:19:16.106Z"
      },
      {
        "duration": 346,
        "start_time": "2023-06-13T10:19:16.654Z"
      },
      {
        "duration": 663,
        "start_time": "2023-06-13T10:19:17.535Z"
      },
      {
        "duration": 12,
        "start_time": "2023-06-13T10:19:56.222Z"
      },
      {
        "duration": 4,
        "start_time": "2023-06-13T10:20:28.940Z"
      },
      {
        "duration": 2,
        "start_time": "2023-06-13T10:20:34.605Z"
      },
      {
        "duration": 4,
        "start_time": "2023-06-13T10:20:39.194Z"
      },
      {
        "duration": 12,
        "start_time": "2023-06-13T10:20:41.225Z"
      },
      {
        "duration": 2,
        "start_time": "2023-06-13T10:20:50.696Z"
      },
      {
        "duration": 4,
        "start_time": "2023-06-13T10:20:53.639Z"
      },
      {
        "duration": 13,
        "start_time": "2023-06-13T10:20:55.407Z"
      },
      {
        "duration": 5,
        "start_time": "2023-06-13T10:21:16.296Z"
      },
      {
        "duration": 7,
        "start_time": "2023-06-13T10:21:21.097Z"
      },
      {
        "duration": 3,
        "start_time": "2023-06-13T10:21:26.923Z"
      },
      {
        "duration": 242,
        "start_time": "2023-06-13T10:21:27.157Z"
      },
      {
        "duration": 1001,
        "start_time": "2023-06-13T10:21:27.496Z"
      },
      {
        "duration": 96,
        "start_time": "2023-06-13T10:21:28.500Z"
      },
      {
        "duration": 2,
        "start_time": "2023-06-13T10:21:29.459Z"
      },
      {
        "duration": 13,
        "start_time": "2023-06-13T10:21:29.991Z"
      },
      {
        "duration": 4,
        "start_time": "2023-06-13T10:32:38.845Z"
      },
      {
        "duration": 3,
        "start_time": "2023-06-13T10:35:00.672Z"
      },
      {
        "duration": 2,
        "start_time": "2023-06-13T10:35:37.191Z"
      },
      {
        "duration": 90,
        "start_time": "2023-06-13T10:35:44.492Z"
      },
      {
        "duration": 18265,
        "start_time": "2023-06-13T10:35:52.249Z"
      },
      {
        "duration": 13,
        "start_time": "2023-06-13T10:40:30.141Z"
      },
      {
        "duration": 11,
        "start_time": "2023-06-13T10:41:05.544Z"
      },
      {
        "duration": 8,
        "start_time": "2023-06-13T10:41:11.897Z"
      },
      {
        "duration": 8,
        "start_time": "2023-06-13T10:41:16.861Z"
      },
      {
        "duration": 4,
        "start_time": "2023-06-13T10:42:19.899Z"
      },
      {
        "duration": 3,
        "start_time": "2023-06-13T10:42:34.690Z"
      },
      {
        "duration": 15,
        "start_time": "2023-06-13T10:48:03.304Z"
      },
      {
        "duration": 5,
        "start_time": "2023-06-13T10:49:11.041Z"
      },
      {
        "duration": 3,
        "start_time": "2023-06-13T10:49:32.092Z"
      },
      {
        "duration": 8897,
        "start_time": "2023-06-13T10:49:44.330Z"
      },
      {
        "duration": 3,
        "start_time": "2023-06-13T10:49:57.502Z"
      },
      {
        "duration": 3,
        "start_time": "2023-06-13T10:49:58.434Z"
      },
      {
        "duration": 2,
        "start_time": "2023-06-13T10:49:58.930Z"
      },
      {
        "duration": 350419,
        "start_time": "2023-06-13T10:49:59.354Z"
      },
      {
        "duration": 4,
        "start_time": "2023-06-13T10:56:31.581Z"
      },
      {
        "duration": 11,
        "start_time": "2023-06-13T10:56:50.190Z"
      },
      {
        "duration": 5,
        "start_time": "2023-06-13T10:57:20.427Z"
      },
      {
        "duration": 3,
        "start_time": "2023-06-13T10:57:50.218Z"
      },
      {
        "duration": 4,
        "start_time": "2023-06-13T10:58:48.827Z"
      },
      {
        "duration": 10,
        "start_time": "2023-06-13T10:59:11.779Z"
      },
      {
        "duration": 3,
        "start_time": "2023-06-13T11:00:10.593Z"
      },
      {
        "duration": 3,
        "start_time": "2023-06-13T11:00:12.922Z"
      },
      {
        "duration": 11496,
        "start_time": "2023-06-13T11:00:15.209Z"
      },
      {
        "duration": 835574,
        "start_time": "2023-06-13T11:00:34.393Z"
      },
      {
        "duration": 3,
        "start_time": "2023-06-13T11:14:56.452Z"
      },
      {
        "duration": 2,
        "start_time": "2023-06-13T11:14:57.732Z"
      },
      {
        "duration": 99834,
        "start_time": "2023-06-13T11:14:58.457Z"
      },
      {
        "duration": 3,
        "start_time": "2023-06-13T11:19:41.422Z"
      },
      {
        "duration": 10,
        "start_time": "2023-06-13T11:20:15.622Z"
      },
      {
        "duration": 3,
        "start_time": "2023-06-13T11:20:22.334Z"
      },
      {
        "duration": 416637,
        "start_time": "2023-06-13T11:20:23.257Z"
      },
      {
        "duration": 4,
        "start_time": "2023-06-13T11:27:30.310Z"
      },
      {
        "duration": 4,
        "start_time": "2023-06-13T11:28:22.952Z"
      },
      {
        "duration": 2,
        "start_time": "2023-06-13T11:28:23.329Z"
      },
      {
        "duration": 893627,
        "start_time": "2023-06-13T11:28:23.780Z"
      },
      {
        "duration": 4,
        "start_time": "2023-06-13T11:43:26.811Z"
      },
      {
        "duration": 3,
        "start_time": "2023-06-13T11:48:20.778Z"
      },
      {
        "duration": 1583991,
        "start_time": "2023-06-13T11:48:36.987Z"
      },
      {
        "duration": 3,
        "start_time": "2023-06-13T12:15:20.050Z"
      },
      {
        "duration": 3,
        "start_time": "2023-06-13T12:15:22.925Z"
      },
      {
        "duration": 51237,
        "start_time": "2023-06-13T12:15:29.555Z"
      },
      {
        "duration": 10,
        "start_time": "2023-06-13T12:16:40.847Z"
      },
      {
        "duration": 37604,
        "start_time": "2023-06-13T12:17:04.083Z"
      },
      {
        "duration": 793,
        "start_time": "2023-06-13T12:18:02.304Z"
      },
      {
        "duration": 4,
        "start_time": "2023-06-13T12:19:30.713Z"
      },
      {
        "duration": 4,
        "start_time": "2023-06-13T12:19:31.219Z"
      },
      {
        "duration": 176542,
        "start_time": "2023-06-13T12:19:35.693Z"
      },
      {
        "duration": 6,
        "start_time": "2023-06-13T12:24:00.250Z"
      },
      {
        "duration": 4,
        "start_time": "2023-06-13T12:24:22.193Z"
      },
      {
        "duration": 430275,
        "start_time": "2023-06-13T12:24:23.020Z"
      },
      {
        "duration": 5,
        "start_time": "2023-06-13T12:31:51.299Z"
      },
      {
        "duration": 3,
        "start_time": "2023-06-13T12:33:16.534Z"
      },
      {
        "duration": 884,
        "start_time": "2023-06-13T12:33:17.091Z"
      },
      {
        "duration": 790,
        "start_time": "2023-06-13T12:33:18.615Z"
      },
      {
        "duration": 3,
        "start_time": "2023-06-13T12:33:31.907Z"
      },
      {
        "duration": 289,
        "start_time": "2023-06-13T12:33:32.413Z"
      },
      {
        "duration": 954,
        "start_time": "2023-06-13T12:33:33.046Z"
      },
      {
        "duration": 3,
        "start_time": "2023-06-13T12:33:34.180Z"
      },
      {
        "duration": 4,
        "start_time": "2023-06-13T12:33:35.883Z"
      },
      {
        "duration": 3,
        "start_time": "2023-06-13T12:36:56.294Z"
      },
      {
        "duration": 6,
        "start_time": "2023-06-13T13:01:24.892Z"
      },
      {
        "duration": 4406,
        "start_time": "2023-06-13T16:15:45.536Z"
      },
      {
        "duration": 1645,
        "start_time": "2023-06-13T16:15:49.944Z"
      },
      {
        "duration": 0,
        "start_time": "2023-06-13T16:15:51.592Z"
      },
      {
        "duration": 0,
        "start_time": "2023-06-13T16:15:51.593Z"
      },
      {
        "duration": 0,
        "start_time": "2023-06-13T16:15:51.594Z"
      },
      {
        "duration": 0,
        "start_time": "2023-06-13T16:15:51.594Z"
      },
      {
        "duration": 0,
        "start_time": "2023-06-13T16:15:51.595Z"
      },
      {
        "duration": 0,
        "start_time": "2023-06-13T16:15:51.596Z"
      },
      {
        "duration": 0,
        "start_time": "2023-06-13T16:15:51.596Z"
      },
      {
        "duration": 0,
        "start_time": "2023-06-13T16:15:51.597Z"
      },
      {
        "duration": 0,
        "start_time": "2023-06-13T16:15:51.598Z"
      },
      {
        "duration": 0,
        "start_time": "2023-06-13T16:15:51.598Z"
      },
      {
        "duration": 0,
        "start_time": "2023-06-13T16:15:51.599Z"
      },
      {
        "duration": 0,
        "start_time": "2023-06-13T16:15:51.600Z"
      },
      {
        "duration": 0,
        "start_time": "2023-06-13T16:15:51.600Z"
      },
      {
        "duration": 0,
        "start_time": "2023-06-13T16:15:51.601Z"
      },
      {
        "duration": 0,
        "start_time": "2023-06-13T16:15:51.601Z"
      },
      {
        "duration": 0,
        "start_time": "2023-06-13T16:15:51.602Z"
      },
      {
        "duration": 0,
        "start_time": "2023-06-13T16:15:51.603Z"
      },
      {
        "duration": 0,
        "start_time": "2023-06-13T16:15:51.603Z"
      },
      {
        "duration": 0,
        "start_time": "2023-06-13T16:15:51.604Z"
      },
      {
        "duration": 0,
        "start_time": "2023-06-13T16:15:51.605Z"
      },
      {
        "duration": 0,
        "start_time": "2023-06-13T16:15:51.605Z"
      },
      {
        "duration": 0,
        "start_time": "2023-06-13T16:15:51.606Z"
      },
      {
        "duration": 0,
        "start_time": "2023-06-13T16:15:51.607Z"
      },
      {
        "duration": 0,
        "start_time": "2023-06-13T16:15:51.607Z"
      },
      {
        "duration": 0,
        "start_time": "2023-06-13T16:15:51.608Z"
      },
      {
        "duration": 0,
        "start_time": "2023-06-13T16:15:51.609Z"
      },
      {
        "duration": 0,
        "start_time": "2023-06-13T16:15:51.609Z"
      },
      {
        "duration": 0,
        "start_time": "2023-06-13T16:15:51.610Z"
      },
      {
        "duration": 0,
        "start_time": "2023-06-13T16:15:51.611Z"
      },
      {
        "duration": 0,
        "start_time": "2023-06-13T16:15:51.611Z"
      },
      {
        "duration": 0,
        "start_time": "2023-06-13T16:15:51.612Z"
      },
      {
        "duration": 0,
        "start_time": "2023-06-13T16:15:51.616Z"
      },
      {
        "duration": 0,
        "start_time": "2023-06-13T16:15:51.617Z"
      },
      {
        "duration": 0,
        "start_time": "2023-06-13T16:15:51.617Z"
      },
      {
        "duration": 0,
        "start_time": "2023-06-13T16:15:51.618Z"
      },
      {
        "duration": 0,
        "start_time": "2023-06-13T16:15:51.619Z"
      },
      {
        "duration": 0,
        "start_time": "2023-06-13T16:15:51.619Z"
      },
      {
        "duration": 0,
        "start_time": "2023-06-13T16:15:51.620Z"
      },
      {
        "duration": 0,
        "start_time": "2023-06-13T16:15:51.620Z"
      },
      {
        "duration": 0,
        "start_time": "2023-06-13T16:15:51.621Z"
      },
      {
        "duration": 19326,
        "start_time": "2023-06-13T16:17:47.941Z"
      },
      {
        "duration": 775,
        "start_time": "2023-06-13T16:18:07.269Z"
      },
      {
        "duration": 2488,
        "start_time": "2023-06-13T16:18:08.046Z"
      },
      {
        "duration": 20,
        "start_time": "2023-06-13T16:18:10.536Z"
      },
      {
        "duration": 1225,
        "start_time": "2023-06-13T16:18:10.557Z"
      },
      {
        "duration": 352,
        "start_time": "2023-06-13T16:18:11.783Z"
      },
      {
        "duration": 1998,
        "start_time": "2023-06-13T16:18:12.137Z"
      },
      {
        "duration": 297,
        "start_time": "2023-06-13T16:18:14.137Z"
      },
      {
        "duration": 107,
        "start_time": "2023-06-13T16:18:14.436Z"
      },
      {
        "duration": 2,
        "start_time": "2023-06-13T16:18:14.545Z"
      },
      {
        "duration": 24,
        "start_time": "2023-06-13T16:18:14.549Z"
      },
      {
        "duration": 16,
        "start_time": "2023-06-13T16:18:14.575Z"
      },
      {
        "duration": 58,
        "start_time": "2023-06-13T16:18:14.596Z"
      },
      {
        "duration": 154,
        "start_time": "2023-06-13T16:18:14.656Z"
      },
      {
        "duration": 13,
        "start_time": "2023-06-13T16:18:14.811Z"
      },
      {
        "duration": 157,
        "start_time": "2023-06-13T16:18:14.825Z"
      },
      {
        "duration": 116,
        "start_time": "2023-06-13T16:21:30.628Z"
      },
      {
        "duration": 34,
        "start_time": "2023-06-13T16:22:11.674Z"
      },
      {
        "duration": 7,
        "start_time": "2023-06-13T16:23:43.730Z"
      },
      {
        "duration": 16,
        "start_time": "2023-06-13T16:24:07.780Z"
      },
      {
        "duration": 54,
        "start_time": "2023-06-13T16:24:24.476Z"
      },
      {
        "duration": 118,
        "start_time": "2023-06-13T16:24:32.646Z"
      },
      {
        "duration": 1962,
        "start_time": "2023-06-13T16:25:40.179Z"
      },
      {
        "duration": 131,
        "start_time": "2023-06-13T16:25:48.327Z"
      },
      {
        "duration": 2443,
        "start_time": "2023-06-13T16:26:14.017Z"
      },
      {
        "duration": 2233,
        "start_time": "2023-06-13T16:26:18.279Z"
      },
      {
        "duration": 148,
        "start_time": "2023-06-13T16:26:27.474Z"
      },
      {
        "duration": 2071,
        "start_time": "2023-06-13T16:26:50.280Z"
      },
      {
        "duration": 1172,
        "start_time": "2023-06-13T16:26:54.038Z"
      },
      {
        "duration": 108,
        "start_time": "2023-06-13T16:27:00.928Z"
      },
      {
        "duration": 118,
        "start_time": "2023-06-13T16:27:06.248Z"
      },
      {
        "duration": 120,
        "start_time": "2023-06-13T16:27:08.453Z"
      },
      {
        "duration": 120,
        "start_time": "2023-06-13T16:27:16.331Z"
      },
      {
        "duration": 121,
        "start_time": "2023-06-13T16:28:03.815Z"
      },
      {
        "duration": 208,
        "start_time": "2023-06-13T16:28:10.849Z"
      },
      {
        "duration": 208,
        "start_time": "2023-06-13T16:29:27.162Z"
      },
      {
        "duration": 320,
        "start_time": "2023-06-13T16:29:33.315Z"
      },
      {
        "duration": 214,
        "start_time": "2023-06-13T16:29:56.127Z"
      },
      {
        "duration": 197,
        "start_time": "2023-06-13T16:30:01.182Z"
      },
      {
        "duration": 234,
        "start_time": "2023-06-13T16:30:19.484Z"
      },
      {
        "duration": 202,
        "start_time": "2023-06-13T16:30:33.130Z"
      },
      {
        "duration": 199,
        "start_time": "2023-06-13T16:34:30.021Z"
      },
      {
        "duration": 199,
        "start_time": "2023-06-13T16:34:36.643Z"
      },
      {
        "duration": 247,
        "start_time": "2023-06-13T16:35:03.518Z"
      },
      {
        "duration": 2252,
        "start_time": "2023-06-13T16:38:11.457Z"
      },
      {
        "duration": 313,
        "start_time": "2023-06-13T16:38:21.315Z"
      },
      {
        "duration": 322,
        "start_time": "2023-06-13T16:38:30.511Z"
      },
      {
        "duration": 47,
        "start_time": "2023-06-13T16:40:43.984Z"
      },
      {
        "duration": 12,
        "start_time": "2023-06-13T16:40:55.215Z"
      },
      {
        "duration": 4,
        "start_time": "2023-06-13T16:43:06.440Z"
      },
      {
        "duration": 198,
        "start_time": "2023-06-13T16:44:25.616Z"
      },
      {
        "duration": 39,
        "start_time": "2023-06-13T16:45:31.716Z"
      },
      {
        "duration": 3090,
        "start_time": "2023-06-13T16:50:03.415Z"
      },
      {
        "duration": 10,
        "start_time": "2023-06-13T16:50:06.508Z"
      },
      {
        "duration": 3444,
        "start_time": "2023-06-13T16:50:06.520Z"
      },
      {
        "duration": 20,
        "start_time": "2023-06-13T16:50:09.965Z"
      },
      {
        "duration": 94,
        "start_time": "2023-06-13T16:50:09.987Z"
      },
      {
        "duration": 62,
        "start_time": "2023-06-13T16:50:10.083Z"
      },
      {
        "duration": 18,
        "start_time": "2023-06-13T16:50:10.147Z"
      },
      {
        "duration": 42,
        "start_time": "2023-06-13T16:50:10.166Z"
      },
      {
        "duration": 55,
        "start_time": "2023-06-13T16:50:10.209Z"
      },
      {
        "duration": 10,
        "start_time": "2023-06-13T16:50:10.266Z"
      },
      {
        "duration": 65,
        "start_time": "2023-06-13T16:50:10.277Z"
      },
      {
        "duration": 14,
        "start_time": "2023-06-13T16:50:10.343Z"
      },
      {
        "duration": 7,
        "start_time": "2023-06-13T16:50:10.358Z"
      },
      {
        "duration": 39,
        "start_time": "2023-06-13T16:50:10.367Z"
      },
      {
        "duration": 152,
        "start_time": "2023-06-13T16:50:10.407Z"
      },
      {
        "duration": 8,
        "start_time": "2023-06-13T16:50:10.561Z"
      },
      {
        "duration": 110,
        "start_time": "2023-06-13T16:50:10.570Z"
      },
      {
        "duration": 361,
        "start_time": "2023-06-13T16:50:10.683Z"
      },
      {
        "duration": 215,
        "start_time": "2023-06-13T16:50:11.045Z"
      },
      {
        "duration": 205,
        "start_time": "2023-06-13T16:50:11.261Z"
      },
      {
        "duration": 7,
        "start_time": "2023-06-13T16:50:11.467Z"
      },
      {
        "duration": 42,
        "start_time": "2023-06-13T16:50:11.475Z"
      },
      {
        "duration": 2,
        "start_time": "2023-06-13T16:51:58.338Z"
      },
      {
        "duration": 18,
        "start_time": "2023-06-13T16:52:16.131Z"
      },
      {
        "duration": 19,
        "start_time": "2023-06-13T16:52:27.724Z"
      },
      {
        "duration": 16,
        "start_time": "2023-06-13T16:52:39.519Z"
      },
      {
        "duration": 7,
        "start_time": "2023-06-13T16:52:51.026Z"
      },
      {
        "duration": 12,
        "start_time": "2023-06-13T16:52:54.519Z"
      },
      {
        "duration": 8,
        "start_time": "2023-06-13T16:53:02.527Z"
      },
      {
        "duration": 26,
        "start_time": "2023-06-13T16:53:06.353Z"
      },
      {
        "duration": 24,
        "start_time": "2023-06-13T16:53:17.415Z"
      },
      {
        "duration": 183,
        "start_time": "2023-06-13T16:53:30.047Z"
      },
      {
        "duration": 158,
        "start_time": "2023-06-13T16:53:36.960Z"
      },
      {
        "duration": 9,
        "start_time": "2023-06-13T16:53:39.422Z"
      },
      {
        "duration": 146,
        "start_time": "2023-06-13T16:53:40.827Z"
      },
      {
        "duration": 16,
        "start_time": "2023-06-13T16:53:41.512Z"
      },
      {
        "duration": 223,
        "start_time": "2023-06-13T16:54:07.215Z"
      },
      {
        "duration": 5,
        "start_time": "2023-06-13T16:54:16.365Z"
      },
      {
        "duration": 4,
        "start_time": "2023-06-13T16:54:18.528Z"
      },
      {
        "duration": 298,
        "start_time": "2023-06-13T16:54:19.336Z"
      },
      {
        "duration": 2480,
        "start_time": "2023-06-13T16:54:23.226Z"
      },
      {
        "duration": 13,
        "start_time": "2023-06-13T16:54:30.956Z"
      },
      {
        "duration": 3,
        "start_time": "2023-06-13T16:54:39.223Z"
      },
      {
        "duration": 11,
        "start_time": "2023-06-13T16:54:39.815Z"
      },
      {
        "duration": 5,
        "start_time": "2023-06-13T16:54:49.610Z"
      },
      {
        "duration": 3,
        "start_time": "2023-06-13T16:54:50.465Z"
      },
      {
        "duration": 180591,
        "start_time": "2023-06-13T16:54:51.513Z"
      },
      {
        "duration": 4,
        "start_time": "2023-06-13T16:58:15.731Z"
      },
      {
        "duration": 3,
        "start_time": "2023-06-13T16:58:16.754Z"
      },
      {
        "duration": 755694,
        "start_time": "2023-06-13T16:58:26.824Z"
      },
      {
        "duration": 29,
        "start_time": "2023-06-13T17:12:20.290Z"
      },
      {
        "duration": 6,
        "start_time": "2023-06-13T17:12:20.459Z"
      },
      {
        "duration": 18,
        "start_time": "2023-06-13T17:23:00.426Z"
      },
      {
        "duration": 81,
        "start_time": "2023-06-13T17:23:41.511Z"
      },
      {
        "duration": 8,
        "start_time": "2023-06-13T17:23:45.504Z"
      },
      {
        "duration": 13347,
        "start_time": "2023-06-13T17:23:45.933Z"
      },
      {
        "duration": 11,
        "start_time": "2023-06-13T17:25:24.335Z"
      },
      {
        "duration": 57050,
        "start_time": "2023-06-13T17:25:41.359Z"
      },
      {
        "duration": 6,
        "start_time": "2023-06-13T17:27:16.861Z"
      },
      {
        "duration": 13,
        "start_time": "2023-06-13T17:27:38.649Z"
      },
      {
        "duration": 16,
        "start_time": "2023-06-13T17:28:03.262Z"
      },
      {
        "duration": 15,
        "start_time": "2023-06-13T17:28:37.526Z"
      },
      {
        "duration": 48393,
        "start_time": "2023-06-13T17:28:39.902Z"
      },
      {
        "duration": 889,
        "start_time": "2023-06-13T17:29:48.983Z"
      },
      {
        "duration": 591,
        "start_time": "2023-06-13T17:29:49.939Z"
      },
      {
        "duration": 0,
        "start_time": "2023-06-13T17:29:50.533Z"
      },
      {
        "duration": 7,
        "start_time": "2023-06-13T17:30:19.950Z"
      },
      {
        "duration": 1966,
        "start_time": "2023-06-13T17:30:21.502Z"
      },
      {
        "duration": 12,
        "start_time": "2023-06-13T17:30:37.826Z"
      },
      {
        "duration": 100473,
        "start_time": "2023-06-13T17:30:38.004Z"
      },
      {
        "duration": 34,
        "start_time": "2023-06-13T17:37:34.343Z"
      },
      {
        "duration": 271320,
        "start_time": "2023-06-13T17:37:41.175Z"
      },
      {
        "duration": 6,
        "start_time": "2023-06-13T17:42:12.502Z"
      },
      {
        "duration": 19,
        "start_time": "2023-06-13T17:43:14.313Z"
      },
      {
        "duration": 16,
        "start_time": "2023-06-13T17:43:52.354Z"
      },
      {
        "duration": 78,
        "start_time": "2023-06-13T17:44:05.546Z"
      },
      {
        "duration": 12,
        "start_time": "2023-06-13T17:44:18.799Z"
      },
      {
        "duration": 11,
        "start_time": "2023-06-13T17:44:27.843Z"
      },
      {
        "duration": 6,
        "start_time": "2023-06-13T17:44:38.448Z"
      },
      {
        "duration": 8,
        "start_time": "2023-06-13T17:44:45.658Z"
      },
      {
        "duration": 22,
        "start_time": "2023-06-13T17:47:07.990Z"
      },
      {
        "duration": 38,
        "start_time": "2023-06-13T17:47:28.569Z"
      },
      {
        "duration": 25725,
        "start_time": "2023-06-13T17:47:35.631Z"
      },
      {
        "duration": 39331,
        "start_time": "2023-06-13T17:49:27.966Z"
      },
      {
        "duration": 0,
        "start_time": "2023-06-13T17:50:07.299Z"
      },
      {
        "duration": 0,
        "start_time": "2023-06-13T17:50:07.300Z"
      },
      {
        "duration": 20,
        "start_time": "2023-06-13T17:50:07.726Z"
      },
      {
        "duration": 65753,
        "start_time": "2023-06-13T17:50:12.424Z"
      },
      {
        "duration": 5,
        "start_time": "2023-06-13T17:51:20.904Z"
      },
      {
        "duration": 127499,
        "start_time": "2023-06-13T17:51:21.077Z"
      },
      {
        "duration": 17,
        "start_time": "2023-06-13T17:53:58.954Z"
      },
      {
        "duration": 243,
        "start_time": "2023-06-13T17:55:09.365Z"
      },
      {
        "duration": 164,
        "start_time": "2023-06-13T17:55:16.130Z"
      },
      {
        "duration": 14,
        "start_time": "2023-06-13T17:55:22.516Z"
      },
      {
        "duration": 15362,
        "start_time": "2023-06-13T17:57:07.444Z"
      },
      {
        "duration": 28511,
        "start_time": "2023-06-13T17:58:21.047Z"
      },
      {
        "duration": 685,
        "start_time": "2023-06-13T18:03:30.955Z"
      },
      {
        "duration": 15,
        "start_time": "2023-06-13T18:04:59.007Z"
      },
      {
        "duration": 6,
        "start_time": "2023-06-13T18:06:26.743Z"
      },
      {
        "duration": 6,
        "start_time": "2023-06-13T18:07:00.154Z"
      },
      {
        "duration": 100,
        "start_time": "2023-06-13T18:07:36.961Z"
      },
      {
        "duration": 20,
        "start_time": "2023-06-13T18:08:39.404Z"
      },
      {
        "duration": 34,
        "start_time": "2023-06-13T18:09:17.400Z"
      },
      {
        "duration": 6,
        "start_time": "2023-06-13T18:11:28.925Z"
      },
      {
        "duration": 28,
        "start_time": "2023-06-13T18:11:35.328Z"
      },
      {
        "duration": 3,
        "start_time": "2023-06-13T18:11:46.473Z"
      },
      {
        "duration": 19973,
        "start_time": "2023-06-13T18:11:47.234Z"
      },
      {
        "duration": 6,
        "start_time": "2023-06-13T18:12:40.349Z"
      },
      {
        "duration": 75978,
        "start_time": "2023-06-13T18:12:40.958Z"
      },
      {
        "duration": 20208,
        "start_time": "2023-06-14T15:48:17.219Z"
      },
      {
        "duration": 2271,
        "start_time": "2023-06-14T15:48:37.429Z"
      },
      {
        "duration": 2270,
        "start_time": "2023-06-14T15:48:39.702Z"
      },
      {
        "duration": 34,
        "start_time": "2023-06-14T15:48:41.974Z"
      },
      {
        "duration": 24,
        "start_time": "2023-06-14T15:48:42.010Z"
      },
      {
        "duration": 15,
        "start_time": "2023-06-14T15:48:42.035Z"
      },
      {
        "duration": 10,
        "start_time": "2023-06-14T15:48:42.052Z"
      },
      {
        "duration": 43,
        "start_time": "2023-06-14T15:48:42.063Z"
      },
      {
        "duration": 21,
        "start_time": "2023-06-14T15:48:42.109Z"
      },
      {
        "duration": 11,
        "start_time": "2023-06-14T15:48:42.132Z"
      },
      {
        "duration": 76,
        "start_time": "2023-06-14T15:48:42.144Z"
      },
      {
        "duration": 30,
        "start_time": "2023-06-14T15:48:42.221Z"
      },
      {
        "duration": 4,
        "start_time": "2023-06-14T15:48:42.252Z"
      },
      {
        "duration": 47,
        "start_time": "2023-06-14T15:48:42.257Z"
      },
      {
        "duration": 129,
        "start_time": "2023-06-14T15:48:42.305Z"
      },
      {
        "duration": 7,
        "start_time": "2023-06-14T15:48:42.436Z"
      },
      {
        "duration": 105,
        "start_time": "2023-06-14T15:48:42.444Z"
      },
      {
        "duration": 320,
        "start_time": "2023-06-14T15:48:42.550Z"
      },
      {
        "duration": 238,
        "start_time": "2023-06-14T15:48:42.871Z"
      },
      {
        "duration": 198,
        "start_time": "2023-06-14T15:48:43.111Z"
      },
      {
        "duration": 12,
        "start_time": "2023-06-14T15:48:43.310Z"
      },
      {
        "duration": 3,
        "start_time": "2023-06-14T15:48:43.323Z"
      },
      {
        "duration": 10,
        "start_time": "2023-06-14T15:48:43.327Z"
      },
      {
        "duration": 18,
        "start_time": "2023-06-14T15:48:43.338Z"
      },
      {
        "duration": 14,
        "start_time": "2023-06-14T15:48:43.357Z"
      },
      {
        "duration": 9,
        "start_time": "2023-06-14T15:48:43.372Z"
      },
      {
        "duration": 163,
        "start_time": "2023-06-14T15:48:43.382Z"
      },
      {
        "duration": 132,
        "start_time": "2023-06-14T15:48:43.548Z"
      },
      {
        "duration": 25,
        "start_time": "2023-06-14T15:48:43.681Z"
      },
      {
        "duration": 128,
        "start_time": "2023-06-14T15:48:43.707Z"
      },
      {
        "duration": 7,
        "start_time": "2023-06-14T15:48:43.837Z"
      },
      {
        "duration": 216,
        "start_time": "2023-06-14T15:48:43.845Z"
      },
      {
        "duration": 4,
        "start_time": "2023-06-14T15:48:44.062Z"
      },
      {
        "duration": 4,
        "start_time": "2023-06-14T15:48:44.068Z"
      },
      {
        "duration": 617,
        "start_time": "2023-06-14T15:48:44.073Z"
      },
      {
        "duration": 2408,
        "start_time": "2023-06-14T15:48:44.692Z"
      },
      {
        "duration": 9,
        "start_time": "2023-06-14T15:48:47.110Z"
      },
      {
        "duration": 113,
        "start_time": "2023-06-14T15:48:47.121Z"
      },
      {
        "duration": 1079,
        "start_time": "2023-06-14T15:48:47.235Z"
      },
      {
        "duration": 74,
        "start_time": "2023-06-14T15:48:48.316Z"
      },
      {
        "duration": 30,
        "start_time": "2023-06-14T15:48:48.393Z"
      },
      {
        "duration": 188424,
        "start_time": "2023-06-14T15:48:48.424Z"
      },
      {
        "duration": 5,
        "start_time": "2023-06-14T15:51:56.850Z"
      },
      {
        "duration": 68,
        "start_time": "2023-06-14T15:51:56.857Z"
      },
      {
        "duration": 317436,
        "start_time": "2023-06-14T15:51:56.927Z"
      },
      {
        "duration": 5,
        "start_time": "2023-06-14T15:57:14.365Z"
      },
      {
        "duration": 8,
        "start_time": "2023-06-14T15:57:14.398Z"
      },
      {
        "duration": 36,
        "start_time": "2023-06-14T15:57:14.411Z"
      },
      {
        "duration": 30133,
        "start_time": "2023-06-14T15:57:14.449Z"
      },
      {
        "duration": 28,
        "start_time": "2023-06-14T15:57:44.583Z"
      },
      {
        "duration": 61304,
        "start_time": "2023-06-14T15:57:44.613Z"
      },
      {
        "duration": 8,
        "start_time": "2023-06-14T15:58:45.921Z"
      },
      {
        "duration": 10310,
        "start_time": "2023-06-14T15:58:45.931Z"
      },
      {
        "duration": 20737,
        "start_time": "2023-06-14T15:58:56.242Z"
      },
      {
        "duration": 8,
        "start_time": "2023-06-14T16:01:55.833Z"
      },
      {
        "duration": 230,
        "start_time": "2023-06-14T16:02:03.575Z"
      },
      {
        "duration": 20,
        "start_time": "2023-06-14T16:02:06.880Z"
      },
      {
        "duration": 20,
        "start_time": "2023-06-14T16:03:08.341Z"
      },
      {
        "duration": 9,
        "start_time": "2023-06-14T16:03:19.339Z"
      },
      {
        "duration": 6,
        "start_time": "2023-06-14T16:04:06.800Z"
      },
      {
        "duration": 31,
        "start_time": "2023-06-14T16:06:11.678Z"
      },
      {
        "duration": 23,
        "start_time": "2023-06-14T16:06:41.071Z"
      },
      {
        "duration": 23,
        "start_time": "2023-06-14T16:06:56.327Z"
      },
      {
        "duration": 7,
        "start_time": "2023-06-14T16:07:10.304Z"
      },
      {
        "duration": 122,
        "start_time": "2023-06-14T16:07:21.382Z"
      },
      {
        "duration": 15,
        "start_time": "2023-06-14T16:07:32.201Z"
      },
      {
        "duration": 23,
        "start_time": "2023-06-14T16:08:06.254Z"
      },
      {
        "duration": 24,
        "start_time": "2023-06-14T16:08:19.681Z"
      },
      {
        "duration": 118,
        "start_time": "2023-06-14T16:18:24.115Z"
      },
      {
        "duration": 12,
        "start_time": "2023-06-14T16:18:29.147Z"
      },
      {
        "duration": 16,
        "start_time": "2023-06-14T16:18:45.452Z"
      },
      {
        "duration": 30,
        "start_time": "2023-06-14T16:19:13.172Z"
      },
      {
        "duration": 206,
        "start_time": "2023-06-14T16:19:26.876Z"
      },
      {
        "duration": 161,
        "start_time": "2023-06-14T16:19:39.714Z"
      },
      {
        "duration": 21,
        "start_time": "2023-06-14T16:26:43.617Z"
      },
      {
        "duration": 11,
        "start_time": "2023-06-14T16:26:44.220Z"
      },
      {
        "duration": 6,
        "start_time": "2023-06-14T16:26:44.617Z"
      },
      {
        "duration": 10,
        "start_time": "2023-06-14T16:26:45.038Z"
      },
      {
        "duration": 50791,
        "start_time": "2023-06-14T17:13:20.888Z"
      },
      {
        "duration": 6694,
        "start_time": "2023-06-14T17:14:11.681Z"
      },
      {
        "duration": 2668,
        "start_time": "2023-06-14T17:14:18.379Z"
      },
      {
        "duration": 33,
        "start_time": "2023-06-14T17:14:21.052Z"
      },
      {
        "duration": 68,
        "start_time": "2023-06-14T17:14:21.087Z"
      },
      {
        "duration": 90,
        "start_time": "2023-06-14T17:14:21.163Z"
      },
      {
        "duration": 24,
        "start_time": "2023-06-14T17:14:21.255Z"
      },
      {
        "duration": 79,
        "start_time": "2023-06-14T17:14:21.280Z"
      },
      {
        "duration": 23,
        "start_time": "2023-06-14T17:14:21.363Z"
      },
      {
        "duration": 37,
        "start_time": "2023-06-14T17:14:21.388Z"
      },
      {
        "duration": 45,
        "start_time": "2023-06-14T17:14:21.429Z"
      },
      {
        "duration": 88,
        "start_time": "2023-06-14T17:14:21.476Z"
      },
      {
        "duration": 15,
        "start_time": "2023-06-14T17:14:21.566Z"
      },
      {
        "duration": 23,
        "start_time": "2023-06-14T17:14:21.582Z"
      },
      {
        "duration": 206,
        "start_time": "2023-06-14T17:14:21.606Z"
      },
      {
        "duration": 35,
        "start_time": "2023-06-14T17:14:21.823Z"
      },
      {
        "duration": 178,
        "start_time": "2023-06-14T17:14:21.860Z"
      },
      {
        "duration": 428,
        "start_time": "2023-06-14T17:14:22.051Z"
      },
      {
        "duration": 280,
        "start_time": "2023-06-14T17:14:22.481Z"
      },
      {
        "duration": 279,
        "start_time": "2023-06-14T17:14:22.763Z"
      },
      {
        "duration": 58,
        "start_time": "2023-06-14T17:14:23.044Z"
      },
      {
        "duration": 118,
        "start_time": "2023-06-14T17:14:23.107Z"
      },
      {
        "duration": 112,
        "start_time": "2023-06-14T17:14:23.228Z"
      },
      {
        "duration": 56,
        "start_time": "2023-06-14T17:14:23.344Z"
      },
      {
        "duration": 34,
        "start_time": "2023-06-14T17:14:23.402Z"
      },
      {
        "duration": 121,
        "start_time": "2023-06-14T17:14:23.438Z"
      },
      {
        "duration": 211,
        "start_time": "2023-06-14T17:14:23.561Z"
      },
      {
        "duration": 168,
        "start_time": "2023-06-14T17:14:23.775Z"
      },
      {
        "duration": 14,
        "start_time": "2023-06-14T17:14:23.947Z"
      },
      {
        "duration": 184,
        "start_time": "2023-06-14T17:14:23.963Z"
      },
      {
        "duration": 10,
        "start_time": "2023-06-14T17:14:24.148Z"
      },
      {
        "duration": 301,
        "start_time": "2023-06-14T17:14:24.160Z"
      },
      {
        "duration": 4,
        "start_time": "2023-06-14T17:14:24.465Z"
      },
      {
        "duration": 89,
        "start_time": "2023-06-14T17:14:24.473Z"
      },
      {
        "duration": 22,
        "start_time": "2023-06-14T17:14:44.989Z"
      },
      {
        "duration": 6,
        "start_time": "2023-06-14T17:15:03.495Z"
      },
      {
        "duration": 553,
        "start_time": "2023-06-14T17:15:36.511Z"
      },
      {
        "duration": 1468,
        "start_time": "2023-06-14T17:15:45.741Z"
      },
      {
        "duration": 4,
        "start_time": "2023-06-14T17:15:51.046Z"
      },
      {
        "duration": 12,
        "start_time": "2023-06-14T17:15:51.915Z"
      },
      {
        "duration": 261,
        "start_time": "2023-06-14T17:15:57.290Z"
      },
      {
        "duration": 6,
        "start_time": "2023-06-14T17:16:02.561Z"
      },
      {
        "duration": 27404,
        "start_time": "2023-06-15T05:02:53.167Z"
      },
      {
        "duration": 2724,
        "start_time": "2023-06-15T05:03:20.574Z"
      },
      {
        "duration": 2142,
        "start_time": "2023-06-15T05:03:23.305Z"
      },
      {
        "duration": 35,
        "start_time": "2023-06-15T05:03:25.449Z"
      },
      {
        "duration": 32,
        "start_time": "2023-06-15T05:03:25.487Z"
      },
      {
        "duration": 58,
        "start_time": "2023-06-15T05:03:25.523Z"
      },
      {
        "duration": 34,
        "start_time": "2023-06-15T05:03:25.583Z"
      },
      {
        "duration": 33,
        "start_time": "2023-06-15T05:03:25.619Z"
      },
      {
        "duration": 29,
        "start_time": "2023-06-15T05:03:25.655Z"
      },
      {
        "duration": 42,
        "start_time": "2023-06-15T05:03:25.687Z"
      },
      {
        "duration": 14,
        "start_time": "2023-06-15T05:03:25.731Z"
      },
      {
        "duration": 17,
        "start_time": "2023-06-15T05:03:25.747Z"
      },
      {
        "duration": 12,
        "start_time": "2023-06-15T05:03:25.766Z"
      },
      {
        "duration": 14,
        "start_time": "2023-06-15T05:03:25.780Z"
      },
      {
        "duration": 182,
        "start_time": "2023-06-15T05:03:25.795Z"
      },
      {
        "duration": 13,
        "start_time": "2023-06-15T05:03:25.979Z"
      },
      {
        "duration": 156,
        "start_time": "2023-06-15T05:03:25.994Z"
      },
      {
        "duration": 415,
        "start_time": "2023-06-15T05:03:26.151Z"
      },
      {
        "duration": 256,
        "start_time": "2023-06-15T05:03:26.568Z"
      },
      {
        "duration": 280,
        "start_time": "2023-06-15T05:03:26.828Z"
      },
      {
        "duration": 11,
        "start_time": "2023-06-15T05:03:27.110Z"
      },
      {
        "duration": 35,
        "start_time": "2023-06-15T05:03:27.122Z"
      },
      {
        "duration": 16,
        "start_time": "2023-06-15T05:03:27.158Z"
      },
      {
        "duration": 32,
        "start_time": "2023-06-15T05:03:27.177Z"
      },
      {
        "duration": 48,
        "start_time": "2023-06-15T05:03:27.211Z"
      },
      {
        "duration": 7,
        "start_time": "2023-06-15T05:03:27.260Z"
      },
      {
        "duration": 5,
        "start_time": "2023-06-15T05:06:49.413Z"
      },
      {
        "duration": 4,
        "start_time": "2023-06-15T05:06:57.476Z"
      },
      {
        "duration": 5,
        "start_time": "2023-06-15T05:07:09.754Z"
      },
      {
        "duration": 634,
        "start_time": "2023-06-15T05:07:10.042Z"
      },
      {
        "duration": 5,
        "start_time": "2023-06-15T05:07:43.302Z"
      },
      {
        "duration": 484,
        "start_time": "2023-06-15T05:07:44.055Z"
      },
      {
        "duration": 16045,
        "start_time": "2023-06-15T16:28:48.805Z"
      },
      {
        "duration": 2383,
        "start_time": "2023-06-15T16:29:04.852Z"
      },
      {
        "duration": 2239,
        "start_time": "2023-06-15T16:29:07.238Z"
      },
      {
        "duration": 30,
        "start_time": "2023-06-15T16:29:09.479Z"
      },
      {
        "duration": 28,
        "start_time": "2023-06-15T16:29:09.512Z"
      },
      {
        "duration": 21,
        "start_time": "2023-06-15T16:29:09.542Z"
      },
      {
        "duration": 38,
        "start_time": "2023-06-15T16:29:09.565Z"
      },
      {
        "duration": 20,
        "start_time": "2023-06-15T16:29:09.605Z"
      },
      {
        "duration": 24,
        "start_time": "2023-06-15T16:29:09.626Z"
      },
      {
        "duration": 13,
        "start_time": "2023-06-15T16:29:09.651Z"
      },
      {
        "duration": 8,
        "start_time": "2023-06-15T16:29:09.666Z"
      },
      {
        "duration": 11,
        "start_time": "2023-06-15T16:29:09.676Z"
      },
      {
        "duration": 7,
        "start_time": "2023-06-15T16:29:09.707Z"
      },
      {
        "duration": 16,
        "start_time": "2023-06-15T16:29:09.718Z"
      },
      {
        "duration": 176,
        "start_time": "2023-06-15T16:29:09.736Z"
      },
      {
        "duration": 17,
        "start_time": "2023-06-15T16:29:09.913Z"
      },
      {
        "duration": 111,
        "start_time": "2023-06-15T16:29:09.936Z"
      },
      {
        "duration": 486,
        "start_time": "2023-06-15T16:29:10.049Z"
      },
      {
        "duration": 328,
        "start_time": "2023-06-15T16:29:10.537Z"
      },
      {
        "duration": 211,
        "start_time": "2023-06-15T16:29:10.870Z"
      },
      {
        "duration": 10,
        "start_time": "2023-06-15T16:29:11.083Z"
      },
      {
        "duration": 17,
        "start_time": "2023-06-15T16:29:11.095Z"
      },
      {
        "duration": 4,
        "start_time": "2023-06-15T16:29:11.114Z"
      },
      {
        "duration": 27,
        "start_time": "2023-06-15T16:29:11.120Z"
      },
      {
        "duration": 20,
        "start_time": "2023-06-15T16:29:11.149Z"
      },
      {
        "duration": 9,
        "start_time": "2023-06-15T16:29:11.171Z"
      },
      {
        "duration": 6,
        "start_time": "2023-06-15T16:33:22.208Z"
      },
      {
        "duration": 5,
        "start_time": "2023-06-15T16:33:23.009Z"
      },
      {
        "duration": 705,
        "start_time": "2023-06-15T16:33:23.510Z"
      },
      {
        "duration": 6,
        "start_time": "2023-06-15T16:34:38.889Z"
      },
      {
        "duration": 613,
        "start_time": "2023-06-15T16:34:39.413Z"
      },
      {
        "duration": 8,
        "start_time": "2023-06-15T16:35:02.789Z"
      },
      {
        "duration": 6,
        "start_time": "2023-06-15T16:35:04.023Z"
      },
      {
        "duration": 43010,
        "start_time": "2023-06-15T16:35:04.511Z"
      },
      {
        "duration": 0,
        "start_time": "2023-06-15T16:35:47.532Z"
      },
      {
        "duration": 8,
        "start_time": "2023-06-15T16:35:51.916Z"
      },
      {
        "duration": 0,
        "start_time": "2023-06-15T16:36:16.051Z"
      },
      {
        "duration": 0,
        "start_time": "2023-06-15T16:36:16.052Z"
      },
      {
        "duration": 4,
        "start_time": "2023-06-15T16:36:23.008Z"
      },
      {
        "duration": 371,
        "start_time": "2023-06-15T16:36:25.724Z"
      },
      {
        "duration": 5,
        "start_time": "2023-06-15T16:36:42.406Z"
      },
      {
        "duration": 349,
        "start_time": "2023-06-15T16:36:43.648Z"
      },
      {
        "duration": 4,
        "start_time": "2023-06-15T16:36:50.208Z"
      },
      {
        "duration": 5,
        "start_time": "2023-06-15T16:37:26.919Z"
      },
      {
        "duration": 534,
        "start_time": "2023-06-15T16:37:27.422Z"
      },
      {
        "duration": 127,
        "start_time": "2023-06-15T16:38:32.936Z"
      },
      {
        "duration": 1056,
        "start_time": "2023-06-15T16:38:36.750Z"
      },
      {
        "duration": 1142,
        "start_time": "2023-06-15T16:38:55.406Z"
      },
      {
        "duration": 5,
        "start_time": "2023-06-15T16:39:49.515Z"
      },
      {
        "duration": 5,
        "start_time": "2023-06-15T16:39:50.455Z"
      },
      {
        "duration": 1143,
        "start_time": "2023-06-15T16:39:50.973Z"
      },
      {
        "duration": 6,
        "start_time": "2023-06-15T16:40:06.320Z"
      },
      {
        "duration": 1052,
        "start_time": "2023-06-15T16:40:06.905Z"
      },
      {
        "duration": 11,
        "start_time": "2023-06-15T16:41:05.940Z"
      },
      {
        "duration": 157,
        "start_time": "2023-06-15T16:41:13.352Z"
      },
      {
        "duration": 189,
        "start_time": "2023-06-15T16:41:17.304Z"
      },
      {
        "duration": 127,
        "start_time": "2023-06-15T16:41:43.668Z"
      },
      {
        "duration": 1233,
        "start_time": "2023-06-15T16:41:44.113Z"
      },
      {
        "duration": 4,
        "start_time": "2023-06-15T16:41:56.033Z"
      },
      {
        "duration": 404,
        "start_time": "2023-06-15T16:41:56.543Z"
      },
      {
        "duration": 5,
        "start_time": "2023-06-15T16:42:04.438Z"
      },
      {
        "duration": 1204,
        "start_time": "2023-06-15T16:42:04.833Z"
      },
      {
        "duration": 342,
        "start_time": "2023-06-15T16:55:28.916Z"
      },
      {
        "duration": 1213,
        "start_time": "2023-06-15T16:55:49.402Z"
      },
      {
        "duration": 5,
        "start_time": "2023-06-15T16:56:22.344Z"
      },
      {
        "duration": 325,
        "start_time": "2023-06-15T16:56:31.470Z"
      },
      {
        "duration": 121,
        "start_time": "2023-06-15T16:57:05.636Z"
      },
      {
        "duration": 356,
        "start_time": "2023-06-15T16:57:28.821Z"
      },
      {
        "duration": 345,
        "start_time": "2023-06-15T16:57:34.419Z"
      },
      {
        "duration": 3,
        "start_time": "2023-06-15T17:02:59.704Z"
      },
      {
        "duration": 14,
        "start_time": "2023-06-15T17:03:04.148Z"
      },
      {
        "duration": 4,
        "start_time": "2023-06-15T17:03:17.704Z"
      },
      {
        "duration": 13,
        "start_time": "2023-06-15T17:03:21.153Z"
      },
      {
        "duration": 2488,
        "start_time": "2023-06-15T17:03:46.809Z"
      },
      {
        "duration": 4,
        "start_time": "2023-06-15T17:03:49.299Z"
      },
      {
        "duration": 2142,
        "start_time": "2023-06-15T17:03:49.305Z"
      },
      {
        "duration": 26,
        "start_time": "2023-06-15T17:03:51.449Z"
      },
      {
        "duration": 30,
        "start_time": "2023-06-15T17:03:51.477Z"
      },
      {
        "duration": 19,
        "start_time": "2023-06-15T17:03:51.509Z"
      },
      {
        "duration": 28,
        "start_time": "2023-06-15T17:03:51.529Z"
      },
      {
        "duration": 29,
        "start_time": "2023-06-15T17:03:51.558Z"
      },
      {
        "duration": 52,
        "start_time": "2023-06-15T17:03:51.589Z"
      },
      {
        "duration": 21,
        "start_time": "2023-06-15T17:03:51.643Z"
      },
      {
        "duration": 44,
        "start_time": "2023-06-15T17:03:51.666Z"
      },
      {
        "duration": 54,
        "start_time": "2023-06-15T17:03:51.712Z"
      },
      {
        "duration": 16,
        "start_time": "2023-06-15T17:03:51.767Z"
      },
      {
        "duration": 25,
        "start_time": "2023-06-15T17:03:51.786Z"
      },
      {
        "duration": 160,
        "start_time": "2023-06-15T17:03:51.813Z"
      },
      {
        "duration": 12,
        "start_time": "2023-06-15T17:03:51.975Z"
      },
      {
        "duration": 164,
        "start_time": "2023-06-15T17:03:51.989Z"
      },
      {
        "duration": 356,
        "start_time": "2023-06-15T17:03:52.155Z"
      },
      {
        "duration": 251,
        "start_time": "2023-06-15T17:03:52.513Z"
      },
      {
        "duration": 209,
        "start_time": "2023-06-15T17:03:52.766Z"
      },
      {
        "duration": 8,
        "start_time": "2023-06-15T17:03:52.977Z"
      },
      {
        "duration": 6,
        "start_time": "2023-06-15T17:03:52.987Z"
      },
      {
        "duration": 7,
        "start_time": "2023-06-15T17:03:53.005Z"
      },
      {
        "duration": 29,
        "start_time": "2023-06-15T17:03:53.013Z"
      },
      {
        "duration": 17,
        "start_time": "2023-06-15T17:03:53.044Z"
      },
      {
        "duration": 14,
        "start_time": "2023-06-15T17:03:53.063Z"
      },
      {
        "duration": 4,
        "start_time": "2023-06-15T17:03:53.079Z"
      },
      {
        "duration": 1150,
        "start_time": "2023-06-15T17:03:53.085Z"
      },
      {
        "duration": 194,
        "start_time": "2023-06-15T17:03:54.237Z"
      },
      {
        "duration": 9,
        "start_time": "2023-06-15T17:03:54.433Z"
      },
      {
        "duration": 192,
        "start_time": "2023-06-15T17:03:54.444Z"
      },
      {
        "duration": 11,
        "start_time": "2023-06-15T17:03:54.638Z"
      },
      {
        "duration": 441,
        "start_time": "2023-06-15T17:03:54.651Z"
      },
      {
        "duration": 3,
        "start_time": "2023-06-15T17:03:55.094Z"
      },
      {
        "duration": 10,
        "start_time": "2023-06-15T17:03:55.099Z"
      },
      {
        "duration": 402,
        "start_time": "2023-06-15T17:03:55.110Z"
      },
      {
        "duration": 994,
        "start_time": "2023-06-15T17:03:55.515Z"
      },
      {
        "duration": 4,
        "start_time": "2023-06-15T17:03:56.514Z"
      },
      {
        "duration": 87,
        "start_time": "2023-06-15T17:03:56.520Z"
      },
      {
        "duration": 301,
        "start_time": "2023-06-15T17:03:56.609Z"
      },
      {
        "duration": 88,
        "start_time": "2023-06-15T17:03:56.918Z"
      },
      {
        "duration": 23,
        "start_time": "2023-06-15T17:03:57.008Z"
      },
      {
        "duration": 0,
        "start_time": "2023-06-15T17:03:57.033Z"
      },
      {
        "duration": 0,
        "start_time": "2023-06-15T17:03:57.034Z"
      },
      {
        "duration": 0,
        "start_time": "2023-06-15T17:03:57.035Z"
      },
      {
        "duration": 0,
        "start_time": "2023-06-15T17:03:57.036Z"
      },
      {
        "duration": 0,
        "start_time": "2023-06-15T17:03:57.037Z"
      },
      {
        "duration": 0,
        "start_time": "2023-06-15T17:03:57.038Z"
      },
      {
        "duration": 0,
        "start_time": "2023-06-15T17:03:57.040Z"
      },
      {
        "duration": 0,
        "start_time": "2023-06-15T17:03:57.042Z"
      },
      {
        "duration": 0,
        "start_time": "2023-06-15T17:03:57.043Z"
      },
      {
        "duration": 0,
        "start_time": "2023-06-15T17:03:57.044Z"
      },
      {
        "duration": 0,
        "start_time": "2023-06-15T17:03:57.046Z"
      },
      {
        "duration": 0,
        "start_time": "2023-06-15T17:03:57.047Z"
      },
      {
        "duration": 0,
        "start_time": "2023-06-15T17:03:57.048Z"
      },
      {
        "duration": 0,
        "start_time": "2023-06-15T17:03:57.049Z"
      },
      {
        "duration": 0,
        "start_time": "2023-06-15T17:03:57.051Z"
      },
      {
        "duration": 0,
        "start_time": "2023-06-15T17:03:57.052Z"
      },
      {
        "duration": 0,
        "start_time": "2023-06-15T17:03:57.054Z"
      },
      {
        "duration": 0,
        "start_time": "2023-06-15T17:03:57.055Z"
      },
      {
        "duration": 2045,
        "start_time": "2023-06-15T17:04:42.811Z"
      },
      {
        "duration": 1772,
        "start_time": "2023-06-15T17:04:44.858Z"
      },
      {
        "duration": 2807,
        "start_time": "2023-06-15T17:04:46.633Z"
      },
      {
        "duration": 22,
        "start_time": "2023-06-15T17:04:49.442Z"
      },
      {
        "duration": 22,
        "start_time": "2023-06-15T17:04:49.467Z"
      },
      {
        "duration": 28,
        "start_time": "2023-06-15T17:04:49.506Z"
      },
      {
        "duration": 25,
        "start_time": "2023-06-15T17:04:49.536Z"
      },
      {
        "duration": 27,
        "start_time": "2023-06-15T17:04:49.563Z"
      },
      {
        "duration": 32,
        "start_time": "2023-06-15T17:04:49.592Z"
      },
      {
        "duration": 12,
        "start_time": "2023-06-15T17:04:49.626Z"
      },
      {
        "duration": 6,
        "start_time": "2023-06-15T17:04:49.639Z"
      },
      {
        "duration": 11,
        "start_time": "2023-06-15T17:04:49.647Z"
      },
      {
        "duration": 23,
        "start_time": "2023-06-15T17:04:49.660Z"
      },
      {
        "duration": 21,
        "start_time": "2023-06-15T17:04:49.686Z"
      },
      {
        "duration": 118,
        "start_time": "2023-06-15T17:04:49.708Z"
      },
      {
        "duration": 8,
        "start_time": "2023-06-15T17:04:49.827Z"
      },
      {
        "duration": 118,
        "start_time": "2023-06-15T17:04:49.836Z"
      },
      {
        "duration": 356,
        "start_time": "2023-06-15T17:04:49.956Z"
      },
      {
        "duration": 230,
        "start_time": "2023-06-15T17:04:50.314Z"
      },
      {
        "duration": 215,
        "start_time": "2023-06-15T17:04:50.545Z"
      },
      {
        "duration": 8,
        "start_time": "2023-06-15T17:04:50.762Z"
      },
      {
        "duration": 15,
        "start_time": "2023-06-15T17:04:50.771Z"
      },
      {
        "duration": 10,
        "start_time": "2023-06-15T17:04:50.788Z"
      },
      {
        "duration": 42,
        "start_time": "2023-06-15T17:04:50.800Z"
      },
      {
        "duration": 14,
        "start_time": "2023-06-15T17:04:50.844Z"
      },
      {
        "duration": 22,
        "start_time": "2023-06-15T17:04:50.860Z"
      },
      {
        "duration": 21,
        "start_time": "2023-06-15T17:04:50.884Z"
      },
      {
        "duration": 1163,
        "start_time": "2023-06-15T17:04:50.907Z"
      },
      {
        "duration": 142,
        "start_time": "2023-06-15T17:04:52.072Z"
      },
      {
        "duration": 7,
        "start_time": "2023-06-15T17:04:52.216Z"
      },
      {
        "duration": 147,
        "start_time": "2023-06-15T17:04:52.225Z"
      },
      {
        "duration": 8,
        "start_time": "2023-06-15T17:04:52.374Z"
      },
      {
        "duration": 438,
        "start_time": "2023-06-15T17:04:52.384Z"
      },
      {
        "duration": 4,
        "start_time": "2023-06-15T17:04:52.823Z"
      },
      {
        "duration": 40,
        "start_time": "2023-06-15T17:04:52.828Z"
      },
      {
        "duration": 738,
        "start_time": "2023-06-15T17:04:52.869Z"
      },
      {
        "duration": 1018,
        "start_time": "2023-06-15T17:04:53.609Z"
      },
      {
        "duration": 78,
        "start_time": "2023-06-15T17:04:54.630Z"
      },
      {
        "duration": 16,
        "start_time": "2023-06-15T17:04:54.711Z"
      },
      {
        "duration": 290,
        "start_time": "2023-06-15T17:04:54.729Z"
      },
      {
        "duration": 4,
        "start_time": "2023-06-15T17:04:55.110Z"
      },
      {
        "duration": 296,
        "start_time": "2023-06-15T17:04:55.116Z"
      },
      {
        "duration": 0,
        "start_time": "2023-06-15T17:04:55.414Z"
      },
      {
        "duration": 0,
        "start_time": "2023-06-15T17:04:55.416Z"
      },
      {
        "duration": 0,
        "start_time": "2023-06-15T17:04:55.418Z"
      },
      {
        "duration": 0,
        "start_time": "2023-06-15T17:04:55.420Z"
      },
      {
        "duration": 0,
        "start_time": "2023-06-15T17:04:55.421Z"
      },
      {
        "duration": 0,
        "start_time": "2023-06-15T17:04:55.422Z"
      },
      {
        "duration": 0,
        "start_time": "2023-06-15T17:04:55.423Z"
      },
      {
        "duration": 0,
        "start_time": "2023-06-15T17:04:55.424Z"
      },
      {
        "duration": 0,
        "start_time": "2023-06-15T17:04:55.425Z"
      },
      {
        "duration": 0,
        "start_time": "2023-06-15T17:04:55.426Z"
      },
      {
        "duration": 0,
        "start_time": "2023-06-15T17:04:55.427Z"
      },
      {
        "duration": 0,
        "start_time": "2023-06-15T17:04:55.430Z"
      },
      {
        "duration": 0,
        "start_time": "2023-06-15T17:04:55.433Z"
      },
      {
        "duration": 0,
        "start_time": "2023-06-15T17:04:55.434Z"
      },
      {
        "duration": 0,
        "start_time": "2023-06-15T17:04:55.436Z"
      },
      {
        "duration": 0,
        "start_time": "2023-06-15T17:04:55.438Z"
      },
      {
        "duration": 0,
        "start_time": "2023-06-15T17:04:55.439Z"
      },
      {
        "duration": 0,
        "start_time": "2023-06-15T17:04:55.441Z"
      },
      {
        "duration": 4,
        "start_time": "2023-06-15T17:05:48.811Z"
      },
      {
        "duration": 3,
        "start_time": "2023-06-15T17:05:52.870Z"
      },
      {
        "duration": 58,
        "start_time": "2023-06-15T17:05:52.875Z"
      },
      {
        "duration": 188038,
        "start_time": "2023-06-15T17:05:52.935Z"
      },
      {
        "duration": 5,
        "start_time": "2023-06-15T17:09:00.975Z"
      },
      {
        "duration": 26,
        "start_time": "2023-06-15T17:09:00.982Z"
      },
      {
        "duration": 393001,
        "start_time": "2023-06-15T17:09:01.010Z"
      },
      {
        "duration": 5,
        "start_time": "2023-06-15T17:15:34.013Z"
      },
      {
        "duration": 39,
        "start_time": "2023-06-15T17:15:34.020Z"
      },
      {
        "duration": 37,
        "start_time": "2023-06-15T17:15:34.062Z"
      },
      {
        "duration": 30520,
        "start_time": "2023-06-15T17:15:34.101Z"
      },
      {
        "duration": 8,
        "start_time": "2023-06-15T17:16:04.626Z"
      },
      {
        "duration": 58306,
        "start_time": "2023-06-15T17:16:04.636Z"
      },
      {
        "duration": 8,
        "start_time": "2023-06-15T17:17:02.945Z"
      },
      {
        "duration": 9954,
        "start_time": "2023-06-15T17:17:02.955Z"
      },
      {
        "duration": 18736,
        "start_time": "2023-06-15T17:17:12.910Z"
      },
      {
        "duration": 9,
        "start_time": "2023-06-15T17:17:31.648Z"
      },
      {
        "duration": 48,
        "start_time": "2023-06-15T17:17:31.659Z"
      },
      {
        "duration": 6,
        "start_time": "2023-06-15T17:17:31.709Z"
      },
      {
        "duration": 16,
        "start_time": "2023-06-15T17:17:31.716Z"
      },
      {
        "duration": 13,
        "start_time": "2023-06-15T17:17:31.733Z"
      },
      {
        "duration": 4,
        "start_time": "2023-06-15T17:19:13.030Z"
      },
      {
        "duration": 52,
        "start_time": "2023-06-15T17:22:39.923Z"
      },
      {
        "duration": 10,
        "start_time": "2023-06-15T17:23:01.443Z"
      },
      {
        "duration": 9,
        "start_time": "2023-06-15T17:24:05.726Z"
      },
      {
        "duration": 11,
        "start_time": "2023-06-15T17:25:27.046Z"
      },
      {
        "duration": 12,
        "start_time": "2023-06-15T17:25:34.175Z"
      },
      {
        "duration": 47286,
        "start_time": "2023-06-16T11:03:44.769Z"
      },
      {
        "duration": 3773,
        "start_time": "2023-06-16T11:04:32.057Z"
      },
      {
        "duration": 2196,
        "start_time": "2023-06-16T11:04:35.831Z"
      },
      {
        "duration": 20,
        "start_time": "2023-06-16T11:04:38.029Z"
      },
      {
        "duration": 41,
        "start_time": "2023-06-16T11:04:38.050Z"
      },
      {
        "duration": 49,
        "start_time": "2023-06-16T11:04:38.092Z"
      },
      {
        "duration": 66,
        "start_time": "2023-06-16T11:04:38.142Z"
      },
      {
        "duration": 65,
        "start_time": "2023-06-16T11:04:38.209Z"
      },
      {
        "duration": 32,
        "start_time": "2023-06-16T11:04:38.275Z"
      },
      {
        "duration": 33,
        "start_time": "2023-06-16T11:04:38.309Z"
      },
      {
        "duration": 35,
        "start_time": "2023-06-16T11:04:38.343Z"
      },
      {
        "duration": 24,
        "start_time": "2023-06-16T11:04:38.379Z"
      },
      {
        "duration": 21,
        "start_time": "2023-06-16T11:04:38.404Z"
      },
      {
        "duration": 50,
        "start_time": "2023-06-16T11:04:38.426Z"
      },
      {
        "duration": 106,
        "start_time": "2023-06-16T11:04:38.478Z"
      },
      {
        "duration": 17,
        "start_time": "2023-06-16T11:04:38.586Z"
      },
      {
        "duration": 106,
        "start_time": "2023-06-16T11:04:38.604Z"
      },
      {
        "duration": 297,
        "start_time": "2023-06-16T11:04:38.712Z"
      },
      {
        "duration": 197,
        "start_time": "2023-06-16T11:04:39.010Z"
      },
      {
        "duration": 191,
        "start_time": "2023-06-16T11:04:39.209Z"
      },
      {
        "duration": 7,
        "start_time": "2023-06-16T11:04:39.401Z"
      },
      {
        "duration": 40,
        "start_time": "2023-06-16T11:04:39.410Z"
      },
      {
        "duration": 43,
        "start_time": "2023-06-16T11:04:39.451Z"
      },
      {
        "duration": 47,
        "start_time": "2023-06-16T11:04:39.496Z"
      },
      {
        "duration": 14,
        "start_time": "2023-06-16T11:04:39.545Z"
      },
      {
        "duration": 12,
        "start_time": "2023-06-16T11:04:39.561Z"
      },
      {
        "duration": 7,
        "start_time": "2023-06-16T11:04:39.575Z"
      },
      {
        "duration": 1131,
        "start_time": "2023-06-16T11:04:39.585Z"
      },
      {
        "duration": 142,
        "start_time": "2023-06-16T11:04:40.718Z"
      },
      {
        "duration": 7,
        "start_time": "2023-06-16T11:04:40.861Z"
      },
      {
        "duration": 187,
        "start_time": "2023-06-16T11:04:40.869Z"
      },
      {
        "duration": 6,
        "start_time": "2023-06-16T11:04:41.058Z"
      },
      {
        "duration": 332,
        "start_time": "2023-06-16T11:04:41.065Z"
      },
      {
        "duration": 3,
        "start_time": "2023-06-16T11:04:41.399Z"
      },
      {
        "duration": 31,
        "start_time": "2023-06-16T11:04:41.403Z"
      },
      {
        "duration": 464,
        "start_time": "2023-06-16T11:04:41.435Z"
      },
      {
        "duration": 799,
        "start_time": "2023-06-16T11:04:41.901Z"
      },
      {
        "duration": 3,
        "start_time": "2023-06-16T11:04:42.702Z"
      },
      {
        "duration": 187,
        "start_time": "2023-06-16T11:04:42.706Z"
      },
      {
        "duration": 114,
        "start_time": "2023-06-16T11:04:42.894Z"
      },
      {
        "duration": 3,
        "start_time": "2023-06-16T11:04:43.100Z"
      },
      {
        "duration": 243,
        "start_time": "2023-06-16T11:04:43.105Z"
      },
      {
        "duration": 12,
        "start_time": "2023-06-16T11:13:36.118Z"
      },
      {
        "duration": 579446,
        "start_time": "2023-06-16T11:14:02.974Z"
      },
      {
        "duration": 45988,
        "start_time": "2023-06-16T16:43:59.829Z"
      },
      {
        "duration": 2287,
        "start_time": "2023-06-16T16:44:45.820Z"
      },
      {
        "duration": 2133,
        "start_time": "2023-06-16T16:44:48.109Z"
      },
      {
        "duration": 29,
        "start_time": "2023-06-16T16:44:50.243Z"
      },
      {
        "duration": 18,
        "start_time": "2023-06-16T16:44:50.275Z"
      },
      {
        "duration": 20,
        "start_time": "2023-06-16T16:44:50.295Z"
      },
      {
        "duration": 15,
        "start_time": "2023-06-16T16:44:50.316Z"
      },
      {
        "duration": 48,
        "start_time": "2023-06-16T16:44:50.332Z"
      },
      {
        "duration": 19,
        "start_time": "2023-06-16T16:44:50.382Z"
      },
      {
        "duration": 12,
        "start_time": "2023-06-16T16:44:50.403Z"
      },
      {
        "duration": 9,
        "start_time": "2023-06-16T16:44:50.417Z"
      },
      {
        "duration": 10,
        "start_time": "2023-06-16T16:44:50.428Z"
      },
      {
        "duration": 7,
        "start_time": "2023-06-16T16:44:50.468Z"
      },
      {
        "duration": 18,
        "start_time": "2023-06-16T16:44:50.479Z"
      },
      {
        "duration": 155,
        "start_time": "2023-06-16T16:44:50.499Z"
      },
      {
        "duration": 16,
        "start_time": "2023-06-16T16:44:50.655Z"
      },
      {
        "duration": 136,
        "start_time": "2023-06-16T16:44:50.675Z"
      },
      {
        "duration": 381,
        "start_time": "2023-06-16T16:44:50.813Z"
      },
      {
        "duration": 226,
        "start_time": "2023-06-16T16:44:51.196Z"
      },
      {
        "duration": 220,
        "start_time": "2023-06-16T16:44:51.424Z"
      },
      {
        "duration": 8,
        "start_time": "2023-06-16T16:44:51.645Z"
      },
      {
        "duration": 14,
        "start_time": "2023-06-16T16:44:51.654Z"
      },
      {
        "duration": 21,
        "start_time": "2023-06-16T16:44:51.670Z"
      },
      {
        "duration": 21,
        "start_time": "2023-06-16T16:44:51.693Z"
      },
      {
        "duration": 16,
        "start_time": "2023-06-16T16:44:51.716Z"
      },
      {
        "duration": 25,
        "start_time": "2023-06-16T16:44:51.733Z"
      },
      {
        "duration": 41,
        "start_time": "2023-06-16T16:44:51.760Z"
      },
      {
        "duration": 1208,
        "start_time": "2023-06-16T16:44:51.803Z"
      },
      {
        "duration": 158,
        "start_time": "2023-06-16T16:44:53.012Z"
      },
      {
        "duration": 17,
        "start_time": "2023-06-16T16:44:53.172Z"
      },
      {
        "duration": 162,
        "start_time": "2023-06-16T16:44:53.191Z"
      },
      {
        "duration": 14,
        "start_time": "2023-06-16T16:44:53.354Z"
      },
      {
        "duration": 390,
        "start_time": "2023-06-16T16:44:53.369Z"
      },
      {
        "duration": 378,
        "start_time": "2023-06-16T16:48:21.824Z"
      },
      {
        "duration": 4,
        "start_time": "2023-06-16T16:48:28.810Z"
      },
      {
        "duration": 4,
        "start_time": "2023-06-16T16:49:22.401Z"
      },
      {
        "duration": 5,
        "start_time": "2023-06-16T16:49:23.191Z"
      },
      {
        "duration": 1255,
        "start_time": "2023-06-16T16:49:23.665Z"
      },
      {
        "duration": 1158,
        "start_time": "2023-06-16T16:50:33.964Z"
      },
      {
        "duration": 2015,
        "start_time": "2023-06-16T16:50:52.294Z"
      },
      {
        "duration": 4,
        "start_time": "2023-06-16T16:51:28.295Z"
      },
      {
        "duration": 6,
        "start_time": "2023-06-16T16:52:10.207Z"
      },
      {
        "duration": 32,
        "start_time": "2023-06-16T16:54:00.115Z"
      },
      {
        "duration": 1288,
        "start_time": "2023-06-16T16:54:34.622Z"
      },
      {
        "duration": 23,
        "start_time": "2023-06-16T16:57:40.340Z"
      },
      {
        "duration": 4,
        "start_time": "2023-06-16T16:58:26.301Z"
      },
      {
        "duration": 5,
        "start_time": "2023-06-16T16:58:26.307Z"
      },
      {
        "duration": 556,
        "start_time": "2023-06-16T16:58:26.314Z"
      },
      {
        "duration": 913,
        "start_time": "2023-06-16T16:58:26.872Z"
      },
      {
        "duration": 4,
        "start_time": "2023-06-16T16:58:27.789Z"
      },
      {
        "duration": 75,
        "start_time": "2023-06-16T16:58:27.795Z"
      },
      {
        "duration": 296,
        "start_time": "2023-06-16T16:58:27.872Z"
      },
      {
        "duration": 10,
        "start_time": "2023-06-16T16:58:28.178Z"
      },
      {
        "duration": 74,
        "start_time": "2023-06-16T16:58:28.195Z"
      },
      {
        "duration": 165266,
        "start_time": "2023-06-16T16:58:28.270Z"
      },
      {
        "duration": 4,
        "start_time": "2023-06-16T17:01:13.540Z"
      },
      {
        "duration": 24,
        "start_time": "2023-06-16T17:01:13.546Z"
      },
      {
        "duration": 374825,
        "start_time": "2023-06-16T17:01:13.574Z"
      },
      {
        "duration": 5,
        "start_time": "2023-06-16T17:07:28.401Z"
      },
      {
        "duration": 5,
        "start_time": "2023-06-16T17:07:28.409Z"
      },
      {
        "duration": 10,
        "start_time": "2023-06-16T17:07:28.415Z"
      },
      {
        "duration": 34312,
        "start_time": "2023-06-16T17:07:28.427Z"
      },
      {
        "duration": 5,
        "start_time": "2023-06-16T17:08:02.741Z"
      },
      {
        "duration": 62193,
        "start_time": "2023-06-16T17:08:02.748Z"
      },
      {
        "duration": 7,
        "start_time": "2023-06-16T17:09:04.943Z"
      },
      {
        "duration": 11836,
        "start_time": "2023-06-16T17:09:04.952Z"
      },
      {
        "duration": 21049,
        "start_time": "2023-06-16T17:09:16.790Z"
      },
      {
        "duration": 12,
        "start_time": "2023-06-16T17:09:37.841Z"
      },
      {
        "duration": 33,
        "start_time": "2023-06-16T17:09:37.855Z"
      },
      {
        "duration": 8,
        "start_time": "2023-06-16T17:09:37.891Z"
      },
      {
        "duration": 6,
        "start_time": "2023-06-16T17:09:37.901Z"
      },
      {
        "duration": 14,
        "start_time": "2023-06-16T17:09:37.909Z"
      },
      {
        "duration": 8,
        "start_time": "2023-06-16T17:09:37.926Z"
      },
      {
        "duration": 15,
        "start_time": "2023-06-16T17:09:37.970Z"
      },
      {
        "duration": 120,
        "start_time": "2023-06-16T17:24:01.909Z"
      },
      {
        "duration": 6,
        "start_time": "2023-06-16T17:24:04.986Z"
      }
    ],
    "kernelspec": {
      "display_name": "Python 3 (ipykernel)",
      "language": "python",
      "name": "python3"
    },
    "language_info": {
      "codemirror_mode": {
        "name": "ipython",
        "version": 3
      },
      "file_extension": ".py",
      "mimetype": "text/x-python",
      "name": "python",
      "nbconvert_exporter": "python",
      "pygments_lexer": "ipython3",
      "version": "3.11.2"
    },
    "toc": {
      "base_numbering": 1,
      "nav_menu": {},
      "number_sections": true,
      "sideBar": true,
      "skip_h1_title": true,
      "title_cell": "Содержание",
      "title_sidebar": "Contents",
      "toc_cell": true,
      "toc_position": {
        "height": "calc(100% - 180px)",
        "left": "10px",
        "top": "150px",
        "width": "336.179px"
      },
      "toc_section_display": true,
      "toc_window_display": true
    },
    "colab": {
      "provenance": []
    }
  },
  "nbformat": 4,
  "nbformat_minor": 0
}