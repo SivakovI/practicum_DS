{
  "cells": [
    {
      "cell_type": "markdown",
      "metadata": {
        "id": "an-2shKaUr_r"
      },
      "source": [
        "# Рекомендация тарифов"
      ]
    },
    {
      "cell_type": "markdown",
      "metadata": {
        "id": "fr1XRmYSUr_r"
      },
      "source": [
        "В вашем распоряжении данные о поведении клиентов, которые уже перешли на эти тарифы (из проекта курса «Статистический анализ данных»). Нужно построить модель для задачи классификации, которая выберет подходящий тариф. Предобработка данных не понадобится — вы её уже сделали.\n",
        "\n",
        "Постройте модель с максимально большим значением *accuracy*. Чтобы сдать проект успешно, нужно довести долю правильных ответов по крайней мере до 0.75. Проверьте *accuracy* на тестовой выборке самостоятельно."
      ]
    },
    {
      "cell_type": "code",
      "execution_count": 1,
      "metadata": {
        "id": "_Xt3vuadUr_s"
      },
      "outputs": [],
      "source": [
        "import pandas as pd\n",
        "from sklearn.tree import DecisionTreeClassifier\n",
        "from sklearn.ensemble import RandomForestClassifier\n",
        "from sklearn.linear_model import LogisticRegression\n",
        "from sklearn.model_selection import train_test_split"
      ]
    },
    {
      "cell_type": "markdown",
      "metadata": {
        "id": "aXQnssn6Ur_t"
      },
      "source": [
        "## Откройте и изучите файл"
      ]
    },
    {
      "cell_type": "code",
      "execution_count": 2,
      "metadata": {
        "colab": {
          "base_uri": "https://localhost:8080/",
          "height": 206
        },
        "id": "DLFDMNjfUr_t",
        "outputId": "42fe9d0a-e473-42e3-aea8-cabcd9e1b88a"
      },
      "outputs": [
        {
          "output_type": "execute_result",
          "data": {
            "text/plain": [
              "   calls  minutes  messages   mb_used  is_ultra\n",
              "0   40.0   311.90      83.0  19915.42         0\n",
              "1   85.0   516.75      56.0  22696.96         0\n",
              "2   77.0   467.66      86.0  21060.45         0\n",
              "3  106.0   745.53      81.0   8437.39         1\n",
              "4   66.0   418.74       1.0  14502.75         0"
            ],
            "text/html": [
              "\n",
              "  <div id=\"df-ae734e37-d11e-4fa6-9b1f-624e79ab3f04\" class=\"colab-df-container\">\n",
              "    <div>\n",
              "<style scoped>\n",
              "    .dataframe tbody tr th:only-of-type {\n",
              "        vertical-align: middle;\n",
              "    }\n",
              "\n",
              "    .dataframe tbody tr th {\n",
              "        vertical-align: top;\n",
              "    }\n",
              "\n",
              "    .dataframe thead th {\n",
              "        text-align: right;\n",
              "    }\n",
              "</style>\n",
              "<table border=\"1\" class=\"dataframe\">\n",
              "  <thead>\n",
              "    <tr style=\"text-align: right;\">\n",
              "      <th></th>\n",
              "      <th>calls</th>\n",
              "      <th>minutes</th>\n",
              "      <th>messages</th>\n",
              "      <th>mb_used</th>\n",
              "      <th>is_ultra</th>\n",
              "    </tr>\n",
              "  </thead>\n",
              "  <tbody>\n",
              "    <tr>\n",
              "      <th>0</th>\n",
              "      <td>40.0</td>\n",
              "      <td>311.90</td>\n",
              "      <td>83.0</td>\n",
              "      <td>19915.42</td>\n",
              "      <td>0</td>\n",
              "    </tr>\n",
              "    <tr>\n",
              "      <th>1</th>\n",
              "      <td>85.0</td>\n",
              "      <td>516.75</td>\n",
              "      <td>56.0</td>\n",
              "      <td>22696.96</td>\n",
              "      <td>0</td>\n",
              "    </tr>\n",
              "    <tr>\n",
              "      <th>2</th>\n",
              "      <td>77.0</td>\n",
              "      <td>467.66</td>\n",
              "      <td>86.0</td>\n",
              "      <td>21060.45</td>\n",
              "      <td>0</td>\n",
              "    </tr>\n",
              "    <tr>\n",
              "      <th>3</th>\n",
              "      <td>106.0</td>\n",
              "      <td>745.53</td>\n",
              "      <td>81.0</td>\n",
              "      <td>8437.39</td>\n",
              "      <td>1</td>\n",
              "    </tr>\n",
              "    <tr>\n",
              "      <th>4</th>\n",
              "      <td>66.0</td>\n",
              "      <td>418.74</td>\n",
              "      <td>1.0</td>\n",
              "      <td>14502.75</td>\n",
              "      <td>0</td>\n",
              "    </tr>\n",
              "  </tbody>\n",
              "</table>\n",
              "</div>\n",
              "    <div class=\"colab-df-buttons\">\n",
              "\n",
              "  <div class=\"colab-df-container\">\n",
              "    <button class=\"colab-df-convert\" onclick=\"convertToInteractive('df-ae734e37-d11e-4fa6-9b1f-624e79ab3f04')\"\n",
              "            title=\"Convert this dataframe to an interactive table.\"\n",
              "            style=\"display:none;\">\n",
              "\n",
              "  <svg xmlns=\"http://www.w3.org/2000/svg\" height=\"24px\" viewBox=\"0 -960 960 960\">\n",
              "    <path d=\"M120-120v-720h720v720H120Zm60-500h600v-160H180v160Zm220 220h160v-160H400v160Zm0 220h160v-160H400v160ZM180-400h160v-160H180v160Zm440 0h160v-160H620v160ZM180-180h160v-160H180v160Zm440 0h160v-160H620v160Z\"/>\n",
              "  </svg>\n",
              "    </button>\n",
              "\n",
              "  <style>\n",
              "    .colab-df-container {\n",
              "      display:flex;\n",
              "      gap: 12px;\n",
              "    }\n",
              "\n",
              "    .colab-df-convert {\n",
              "      background-color: #E8F0FE;\n",
              "      border: none;\n",
              "      border-radius: 50%;\n",
              "      cursor: pointer;\n",
              "      display: none;\n",
              "      fill: #1967D2;\n",
              "      height: 32px;\n",
              "      padding: 0 0 0 0;\n",
              "      width: 32px;\n",
              "    }\n",
              "\n",
              "    .colab-df-convert:hover {\n",
              "      background-color: #E2EBFA;\n",
              "      box-shadow: 0px 1px 2px rgba(60, 64, 67, 0.3), 0px 1px 3px 1px rgba(60, 64, 67, 0.15);\n",
              "      fill: #174EA6;\n",
              "    }\n",
              "\n",
              "    .colab-df-buttons div {\n",
              "      margin-bottom: 4px;\n",
              "    }\n",
              "\n",
              "    [theme=dark] .colab-df-convert {\n",
              "      background-color: #3B4455;\n",
              "      fill: #D2E3FC;\n",
              "    }\n",
              "\n",
              "    [theme=dark] .colab-df-convert:hover {\n",
              "      background-color: #434B5C;\n",
              "      box-shadow: 0px 1px 3px 1px rgba(0, 0, 0, 0.15);\n",
              "      filter: drop-shadow(0px 1px 2px rgba(0, 0, 0, 0.3));\n",
              "      fill: #FFFFFF;\n",
              "    }\n",
              "  </style>\n",
              "\n",
              "    <script>\n",
              "      const buttonEl =\n",
              "        document.querySelector('#df-ae734e37-d11e-4fa6-9b1f-624e79ab3f04 button.colab-df-convert');\n",
              "      buttonEl.style.display =\n",
              "        google.colab.kernel.accessAllowed ? 'block' : 'none';\n",
              "\n",
              "      async function convertToInteractive(key) {\n",
              "        const element = document.querySelector('#df-ae734e37-d11e-4fa6-9b1f-624e79ab3f04');\n",
              "        const dataTable =\n",
              "          await google.colab.kernel.invokeFunction('convertToInteractive',\n",
              "                                                    [key], {});\n",
              "        if (!dataTable) return;\n",
              "\n",
              "        const docLinkHtml = 'Like what you see? Visit the ' +\n",
              "          '<a target=\"_blank\" href=https://colab.research.google.com/notebooks/data_table.ipynb>data table notebook</a>'\n",
              "          + ' to learn more about interactive tables.';\n",
              "        element.innerHTML = '';\n",
              "        dataTable['output_type'] = 'display_data';\n",
              "        await google.colab.output.renderOutput(dataTable, element);\n",
              "        const docLink = document.createElement('div');\n",
              "        docLink.innerHTML = docLinkHtml;\n",
              "        element.appendChild(docLink);\n",
              "      }\n",
              "    </script>\n",
              "  </div>\n",
              "\n",
              "\n",
              "<div id=\"df-0bb49b9c-2171-4cf2-becb-d0d51671a33a\">\n",
              "  <button class=\"colab-df-quickchart\" onclick=\"quickchart('df-0bb49b9c-2171-4cf2-becb-d0d51671a33a')\"\n",
              "            title=\"Suggest charts.\"\n",
              "            style=\"display:none;\">\n",
              "\n",
              "<svg xmlns=\"http://www.w3.org/2000/svg\" height=\"24px\"viewBox=\"0 0 24 24\"\n",
              "     width=\"24px\">\n",
              "    <g>\n",
              "        <path d=\"M19 3H5c-1.1 0-2 .9-2 2v14c0 1.1.9 2 2 2h14c1.1 0 2-.9 2-2V5c0-1.1-.9-2-2-2zM9 17H7v-7h2v7zm4 0h-2V7h2v10zm4 0h-2v-4h2v4z\"/>\n",
              "    </g>\n",
              "</svg>\n",
              "  </button>\n",
              "\n",
              "<style>\n",
              "  .colab-df-quickchart {\n",
              "      --bg-color: #E8F0FE;\n",
              "      --fill-color: #1967D2;\n",
              "      --hover-bg-color: #E2EBFA;\n",
              "      --hover-fill-color: #174EA6;\n",
              "      --disabled-fill-color: #AAA;\n",
              "      --disabled-bg-color: #DDD;\n",
              "  }\n",
              "\n",
              "  [theme=dark] .colab-df-quickchart {\n",
              "      --bg-color: #3B4455;\n",
              "      --fill-color: #D2E3FC;\n",
              "      --hover-bg-color: #434B5C;\n",
              "      --hover-fill-color: #FFFFFF;\n",
              "      --disabled-bg-color: #3B4455;\n",
              "      --disabled-fill-color: #666;\n",
              "  }\n",
              "\n",
              "  .colab-df-quickchart {\n",
              "    background-color: var(--bg-color);\n",
              "    border: none;\n",
              "    border-radius: 50%;\n",
              "    cursor: pointer;\n",
              "    display: none;\n",
              "    fill: var(--fill-color);\n",
              "    height: 32px;\n",
              "    padding: 0;\n",
              "    width: 32px;\n",
              "  }\n",
              "\n",
              "  .colab-df-quickchart:hover {\n",
              "    background-color: var(--hover-bg-color);\n",
              "    box-shadow: 0 1px 2px rgba(60, 64, 67, 0.3), 0 1px 3px 1px rgba(60, 64, 67, 0.15);\n",
              "    fill: var(--button-hover-fill-color);\n",
              "  }\n",
              "\n",
              "  .colab-df-quickchart-complete:disabled,\n",
              "  .colab-df-quickchart-complete:disabled:hover {\n",
              "    background-color: var(--disabled-bg-color);\n",
              "    fill: var(--disabled-fill-color);\n",
              "    box-shadow: none;\n",
              "  }\n",
              "\n",
              "  .colab-df-spinner {\n",
              "    border: 2px solid var(--fill-color);\n",
              "    border-color: transparent;\n",
              "    border-bottom-color: var(--fill-color);\n",
              "    animation:\n",
              "      spin 1s steps(1) infinite;\n",
              "  }\n",
              "\n",
              "  @keyframes spin {\n",
              "    0% {\n",
              "      border-color: transparent;\n",
              "      border-bottom-color: var(--fill-color);\n",
              "      border-left-color: var(--fill-color);\n",
              "    }\n",
              "    20% {\n",
              "      border-color: transparent;\n",
              "      border-left-color: var(--fill-color);\n",
              "      border-top-color: var(--fill-color);\n",
              "    }\n",
              "    30% {\n",
              "      border-color: transparent;\n",
              "      border-left-color: var(--fill-color);\n",
              "      border-top-color: var(--fill-color);\n",
              "      border-right-color: var(--fill-color);\n",
              "    }\n",
              "    40% {\n",
              "      border-color: transparent;\n",
              "      border-right-color: var(--fill-color);\n",
              "      border-top-color: var(--fill-color);\n",
              "    }\n",
              "    60% {\n",
              "      border-color: transparent;\n",
              "      border-right-color: var(--fill-color);\n",
              "    }\n",
              "    80% {\n",
              "      border-color: transparent;\n",
              "      border-right-color: var(--fill-color);\n",
              "      border-bottom-color: var(--fill-color);\n",
              "    }\n",
              "    90% {\n",
              "      border-color: transparent;\n",
              "      border-bottom-color: var(--fill-color);\n",
              "    }\n",
              "  }\n",
              "</style>\n",
              "\n",
              "  <script>\n",
              "    async function quickchart(key) {\n",
              "      const quickchartButtonEl =\n",
              "        document.querySelector('#' + key + ' button');\n",
              "      quickchartButtonEl.disabled = true;  // To prevent multiple clicks.\n",
              "      quickchartButtonEl.classList.add('colab-df-spinner');\n",
              "      try {\n",
              "        const charts = await google.colab.kernel.invokeFunction(\n",
              "            'suggestCharts', [key], {});\n",
              "      } catch (error) {\n",
              "        console.error('Error during call to suggestCharts:', error);\n",
              "      }\n",
              "      quickchartButtonEl.classList.remove('colab-df-spinner');\n",
              "      quickchartButtonEl.classList.add('colab-df-quickchart-complete');\n",
              "    }\n",
              "    (() => {\n",
              "      let quickchartButtonEl =\n",
              "        document.querySelector('#df-0bb49b9c-2171-4cf2-becb-d0d51671a33a button');\n",
              "      quickchartButtonEl.style.display =\n",
              "        google.colab.kernel.accessAllowed ? 'block' : 'none';\n",
              "    })();\n",
              "  </script>\n",
              "</div>\n",
              "    </div>\n",
              "  </div>\n"
            ]
          },
          "metadata": {},
          "execution_count": 2
        }
      ],
      "source": [
        "df = pd.read_csv('https://code.s3.yandex.net/datasets/users_behavior.csv')\n",
        "df.head()"
      ]
    },
    {
      "cell_type": "markdown",
      "metadata": {
        "id": "EGBtB4F3Ur_u"
      },
      "source": [
        "Файл прочитан корректно. Выведем общую информацию по датасету"
      ]
    },
    {
      "cell_type": "code",
      "execution_count": 3,
      "metadata": {
        "scrolled": false,
        "colab": {
          "base_uri": "https://localhost:8080/"
        },
        "id": "cJ33KvRRUr_u",
        "outputId": "5cc5f180-95a9-49e7-b777-c998f8043ea6"
      },
      "outputs": [
        {
          "output_type": "stream",
          "name": "stdout",
          "text": [
            "<class 'pandas.core.frame.DataFrame'>\n",
            "RangeIndex: 3214 entries, 0 to 3213\n",
            "Data columns (total 5 columns):\n",
            " #   Column    Non-Null Count  Dtype  \n",
            "---  ------    --------------  -----  \n",
            " 0   calls     3214 non-null   float64\n",
            " 1   minutes   3214 non-null   float64\n",
            " 2   messages  3214 non-null   float64\n",
            " 3   mb_used   3214 non-null   float64\n",
            " 4   is_ultra  3214 non-null   int64  \n",
            "dtypes: float64(4), int64(1)\n",
            "memory usage: 125.7 KB\n"
          ]
        }
      ],
      "source": [
        "df.info()"
      ]
    },
    {
      "cell_type": "code",
      "execution_count": 4,
      "metadata": {
        "scrolled": false,
        "colab": {
          "base_uri": "https://localhost:8080/",
          "height": 776
        },
        "id": "Llc9uIXKUr_u",
        "outputId": "5db43f39-5110-4111-a664-8b293bb0c2a1"
      },
      "outputs": [
        {
          "output_type": "display_data",
          "data": {
            "text/plain": [
              "<Figure size 1200x900 with 6 Axes>"
            ],
            "image/png": "[encoded data removed]"
          },
          "metadata": {}
        }
      ],
      "source": [
        "df.hist(figsize = (12, 9));"
      ]
    },
    {
      "cell_type": "code",
      "execution_count": 5,
      "metadata": {
        "colab": {
          "base_uri": "https://localhost:8080/",
          "height": 300
        },
        "id": "DOJcjK3AUr_v",
        "outputId": "50466b8c-3214-42e6-8a42-5641e78dd341"
      },
      "outputs": [
        {
          "output_type": "execute_result",
          "data": {
            "text/plain": [
              "             calls      minutes     messages       mb_used     is_ultra\n",
              "count  3214.000000  3214.000000  3214.000000   3214.000000  3214.000000\n",
              "mean     63.038892   438.208787    38.281269  17207.673836     0.306472\n",
              "std      33.236368   234.569872    36.148326   7570.968246     0.461100\n",
              "min       0.000000     0.000000     0.000000      0.000000     0.000000\n",
              "25%      40.000000   274.575000     9.000000  12491.902500     0.000000\n",
              "50%      62.000000   430.600000    30.000000  16943.235000     0.000000\n",
              "75%      82.000000   571.927500    57.000000  21424.700000     1.000000\n",
              "max     244.000000  1632.060000   224.000000  49745.730000     1.000000"
            ],
            "text/html": [
              "\n",
              "  <div id=\"df-9ef311e4-930d-4ccc-97d4-7962daa17b45\" class=\"colab-df-container\">\n",
              "    <div>\n",
              "<style scoped>\n",
              "    .dataframe tbody tr th:only-of-type {\n",
              "        vertical-align: middle;\n",
              "    }\n",
              "\n",
              "    .dataframe tbody tr th {\n",
              "        vertical-align: top;\n",
              "    }\n",
              "\n",
              "    .dataframe thead th {\n",
              "        text-align: right;\n",
              "    }\n",
              "</style>\n",
              "<table border=\"1\" class=\"dataframe\">\n",
              "  <thead>\n",
              "    <tr style=\"text-align: right;\">\n",
              "      <th></th>\n",
              "      <th>calls</th>\n",
              "      <th>minutes</th>\n",
              "      <th>messages</th>\n",
              "      <th>mb_used</th>\n",
              "      <th>is_ultra</th>\n",
              "    </tr>\n",
              "  </thead>\n",
              "  <tbody>\n",
              "    <tr>\n",
              "      <th>count</th>\n",
              "      <td>3214.000000</td>\n",
              "      <td>3214.000000</td>\n",
              "      <td>3214.000000</td>\n",
              "      <td>3214.000000</td>\n",
              "      <td>3214.000000</td>\n",
              "    </tr>\n",
              "    <tr>\n",
              "      <th>mean</th>\n",
              "      <td>63.038892</td>\n",
              "      <td>438.208787</td>\n",
              "      <td>38.281269</td>\n",
              "      <td>17207.673836</td>\n",
              "      <td>0.306472</td>\n",
              "    </tr>\n",
              "    <tr>\n",
              "      <th>std</th>\n",
              "      <td>33.236368</td>\n",
              "      <td>234.569872</td>\n",
              "      <td>36.148326</td>\n",
              "      <td>7570.968246</td>\n",
              "      <td>0.461100</td>\n",
              "    </tr>\n",
              "    <tr>\n",
              "      <th>min</th>\n",
              "      <td>0.000000</td>\n",
              "      <td>0.000000</td>\n",
              "      <td>0.000000</td>\n",
              "      <td>0.000000</td>\n",
              "      <td>0.000000</td>\n",
              "    </tr>\n",
              "    <tr>\n",
              "      <th>25%</th>\n",
              "      <td>40.000000</td>\n",
              "      <td>274.575000</td>\n",
              "      <td>9.000000</td>\n",
              "      <td>12491.902500</td>\n",
              "      <td>0.000000</td>\n",
              "    </tr>\n",
              "    <tr>\n",
              "      <th>50%</th>\n",
              "      <td>62.000000</td>\n",
              "      <td>430.600000</td>\n",
              "      <td>30.000000</td>\n",
              "      <td>16943.235000</td>\n",
              "      <td>0.000000</td>\n",
              "    </tr>\n",
              "    <tr>\n",
              "      <th>75%</th>\n",
              "      <td>82.000000</td>\n",
              "      <td>571.927500</td>\n",
              "      <td>57.000000</td>\n",
              "      <td>21424.700000</td>\n",
              "      <td>1.000000</td>\n",
              "    </tr>\n",
              "    <tr>\n",
              "      <th>max</th>\n",
              "      <td>244.000000</td>\n",
              "      <td>1632.060000</td>\n",
              "      <td>224.000000</td>\n",
              "      <td>49745.730000</td>\n",
              "      <td>1.000000</td>\n",
              "    </tr>\n",
              "  </tbody>\n",
              "</table>\n",
              "</div>\n",
              "    <div class=\"colab-df-buttons\">\n",
              "\n",
              "  <div class=\"colab-df-container\">\n",
              "    <button class=\"colab-df-convert\" onclick=\"convertToInteractive('df-9ef311e4-930d-4ccc-97d4-7962daa17b45')\"\n",
              "            title=\"Convert this dataframe to an interactive table.\"\n",
              "            style=\"display:none;\">\n",
              "\n",
              "  <svg xmlns=\"http://www.w3.org/2000/svg\" height=\"24px\" viewBox=\"0 -960 960 960\">\n",
              "    <path d=\"M120-120v-720h720v720H120Zm60-500h600v-160H180v160Zm220 220h160v-160H400v160Zm0 220h160v-160H400v160ZM180-400h160v-160H180v160Zm440 0h160v-160H620v160ZM180-180h160v-160H180v160Zm440 0h160v-160H620v160Z\"/>\n",
              "  </svg>\n",
              "    </button>\n",
              "\n",
              "  <style>\n",
              "    .colab-df-container {\n",
              "      display:flex;\n",
              "      gap: 12px;\n",
              "    }\n",
              "\n",
              "    .colab-df-convert {\n",
              "      background-color: #E8F0FE;\n",
              "      border: none;\n",
              "      border-radius: 50%;\n",
              "      cursor: pointer;\n",
              "      display: none;\n",
              "      fill: #1967D2;\n",
              "      height: 32px;\n",
              "      padding: 0 0 0 0;\n",
              "      width: 32px;\n",
              "    }\n",
              "\n",
              "    .colab-df-convert:hover {\n",
              "      background-color: #E2EBFA;\n",
              "      box-shadow: 0px 1px 2px rgba(60, 64, 67, 0.3), 0px 1px 3px 1px rgba(60, 64, 67, 0.15);\n",
              "      fill: #174EA6;\n",
              "    }\n",
              "\n",
              "    .colab-df-buttons div {\n",
              "      margin-bottom: 4px;\n",
              "    }\n",
              "\n",
              "    [theme=dark] .colab-df-convert {\n",
              "      background-color: #3B4455;\n",
              "      fill: #D2E3FC;\n",
              "    }\n",
              "\n",
              "    [theme=dark] .colab-df-convert:hover {\n",
              "      background-color: #434B5C;\n",
              "      box-shadow: 0px 1px 3px 1px rgba(0, 0, 0, 0.15);\n",
              "      filter: drop-shadow(0px 1px 2px rgba(0, 0, 0, 0.3));\n",
              "      fill: #FFFFFF;\n",
              "    }\n",
              "  </style>\n",
              "\n",
              "    <script>\n",
              "      const buttonEl =\n",
              "        document.querySelector('#df-9ef311e4-930d-4ccc-97d4-7962daa17b45 button.colab-df-convert');\n",
              "      buttonEl.style.display =\n",
              "        google.colab.kernel.accessAllowed ? 'block' : 'none';\n",
              "\n",
              "      async function convertToInteractive(key) {\n",
              "        const element = document.querySelector('#df-9ef311e4-930d-4ccc-97d4-7962daa17b45');\n",
              "        const dataTable =\n",
              "          await google.colab.kernel.invokeFunction('convertToInteractive',\n",
              "                                                    [key], {});\n",
              "        if (!dataTable) return;\n",
              "\n",
              "        const docLinkHtml = 'Like what you see? Visit the ' +\n",
              "          '<a target=\"_blank\" href=https://colab.research.google.com/notebooks/data_table.ipynb>data table notebook</a>'\n",
              "          + ' to learn more about interactive tables.';\n",
              "        element.innerHTML = '';\n",
              "        dataTable['output_type'] = 'display_data';\n",
              "        await google.colab.output.renderOutput(dataTable, element);\n",
              "        const docLink = document.createElement('div');\n",
              "        docLink.innerHTML = docLinkHtml;\n",
              "        element.appendChild(docLink);\n",
              "      }\n",
              "    </script>\n",
              "  </div>\n",
              "\n",
              "\n",
              "<div id=\"df-f651d4bf-8ff2-496f-adcc-1fd7e84c42bf\">\n",
              "  <button class=\"colab-df-quickchart\" onclick=\"quickchart('df-f651d4bf-8ff2-496f-adcc-1fd7e84c42bf')\"\n",
              "            title=\"Suggest charts.\"\n",
              "            style=\"display:none;\">\n",
              "\n",
              "<svg xmlns=\"http://www.w3.org/2000/svg\" height=\"24px\"viewBox=\"0 0 24 24\"\n",
              "     width=\"24px\">\n",
              "    <g>\n",
              "        <path d=\"M19 3H5c-1.1 0-2 .9-2 2v14c0 1.1.9 2 2 2h14c1.1 0 2-.9 2-2V5c0-1.1-.9-2-2-2zM9 17H7v-7h2v7zm4 0h-2V7h2v10zm4 0h-2v-4h2v4z\"/>\n",
              "    </g>\n",
              "</svg>\n",
              "  </button>\n",
              "\n",
              "<style>\n",
              "  .colab-df-quickchart {\n",
              "      --bg-color: #E8F0FE;\n",
              "      --fill-color: #1967D2;\n",
              "      --hover-bg-color: #E2EBFA;\n",
              "      --hover-fill-color: #174EA6;\n",
              "      --disabled-fill-color: #AAA;\n",
              "      --disabled-bg-color: #DDD;\n",
              "  }\n",
              "\n",
              "  [theme=dark] .colab-df-quickchart {\n",
              "      --bg-color: #3B4455;\n",
              "      --fill-color: #D2E3FC;\n",
              "      --hover-bg-color: #434B5C;\n",
              "      --hover-fill-color: #FFFFFF;\n",
              "      --disabled-bg-color: #3B4455;\n",
              "      --disabled-fill-color: #666;\n",
              "  }\n",
              "\n",
              "  .colab-df-quickchart {\n",
              "    background-color: var(--bg-color);\n",
              "    border: none;\n",
              "    border-radius: 50%;\n",
              "    cursor: pointer;\n",
              "    display: none;\n",
              "    fill: var(--fill-color);\n",
              "    height: 32px;\n",
              "    padding: 0;\n",
              "    width: 32px;\n",
              "  }\n",
              "\n",
              "  .colab-df-quickchart:hover {\n",
              "    background-color: var(--hover-bg-color);\n",
              "    box-shadow: 0 1px 2px rgba(60, 64, 67, 0.3), 0 1px 3px 1px rgba(60, 64, 67, 0.15);\n",
              "    fill: var(--button-hover-fill-color);\n",
              "  }\n",
              "\n",
              "  .colab-df-quickchart-complete:disabled,\n",
              "  .colab-df-quickchart-complete:disabled:hover {\n",
              "    background-color: var(--disabled-bg-color);\n",
              "    fill: var(--disabled-fill-color);\n",
              "    box-shadow: none;\n",
              "  }\n",
              "\n",
              "  .colab-df-spinner {\n",
              "    border: 2px solid var(--fill-color);\n",
              "    border-color: transparent;\n",
              "    border-bottom-color: var(--fill-color);\n",
              "    animation:\n",
              "      spin 1s steps(1) infinite;\n",
              "  }\n",
              "\n",
              "  @keyframes spin {\n",
              "    0% {\n",
              "      border-color: transparent;\n",
              "      border-bottom-color: var(--fill-color);\n",
              "      border-left-color: var(--fill-color);\n",
              "    }\n",
              "    20% {\n",
              "      border-color: transparent;\n",
              "      border-left-color: var(--fill-color);\n",
              "      border-top-color: var(--fill-color);\n",
              "    }\n",
              "    30% {\n",
              "      border-color: transparent;\n",
              "      border-left-color: var(--fill-color);\n",
              "      border-top-color: var(--fill-color);\n",
              "      border-right-color: var(--fill-color);\n",
              "    }\n",
              "    40% {\n",
              "      border-color: transparent;\n",
              "      border-right-color: var(--fill-color);\n",
              "      border-top-color: var(--fill-color);\n",
              "    }\n",
              "    60% {\n",
              "      border-color: transparent;\n",
              "      border-right-color: var(--fill-color);\n",
              "    }\n",
              "    80% {\n",
              "      border-color: transparent;\n",
              "      border-right-color: var(--fill-color);\n",
              "      border-bottom-color: var(--fill-color);\n",
              "    }\n",
              "    90% {\n",
              "      border-color: transparent;\n",
              "      border-bottom-color: var(--fill-color);\n",
              "    }\n",
              "  }\n",
              "</style>\n",
              "\n",
              "  <script>\n",
              "    async function quickchart(key) {\n",
              "      const quickchartButtonEl =\n",
              "        document.querySelector('#' + key + ' button');\n",
              "      quickchartButtonEl.disabled = true;  // To prevent multiple clicks.\n",
              "      quickchartButtonEl.classList.add('colab-df-spinner');\n",
              "      try {\n",
              "        const charts = await google.colab.kernel.invokeFunction(\n",
              "            'suggestCharts', [key], {});\n",
              "      } catch (error) {\n",
              "        console.error('Error during call to suggestCharts:', error);\n",
              "      }\n",
              "      quickchartButtonEl.classList.remove('colab-df-spinner');\n",
              "      quickchartButtonEl.classList.add('colab-df-quickchart-complete');\n",
              "    }\n",
              "    (() => {\n",
              "      let quickchartButtonEl =\n",
              "        document.querySelector('#df-f651d4bf-8ff2-496f-adcc-1fd7e84c42bf button');\n",
              "      quickchartButtonEl.style.display =\n",
              "        google.colab.kernel.accessAllowed ? 'block' : 'none';\n",
              "    })();\n",
              "  </script>\n",
              "</div>\n",
              "    </div>\n",
              "  </div>\n"
            ]
          },
          "metadata": {},
          "execution_count": 5
        }
      ],
      "source": [
        "df.describe()"
      ]
    },
    {
      "cell_type": "code",
      "execution_count": 6,
      "metadata": {
        "colab": {
          "base_uri": "https://localhost:8080/",
          "height": 206
        },
        "id": "AaP7mckyUr_v",
        "outputId": "464e90a9-5dca-482c-b551-aea3e87da5a4"
      },
      "outputs": [
        {
          "output_type": "execute_result",
          "data": {
            "text/plain": [
              "             calls   minutes  messages   mb_used  is_ultra\n",
              "calls     1.000000  0.982083  0.177385  0.286442  0.207122\n",
              "minutes   0.982083  1.000000  0.173110  0.280967  0.206955\n",
              "messages  0.177385  0.173110  1.000000  0.195721  0.203830\n",
              "mb_used   0.286442  0.280967  0.195721  1.000000  0.198568\n",
              "is_ultra  0.207122  0.206955  0.203830  0.198568  1.000000"
            ],
            "text/html": [
              "\n",
              "  <div id=\"df-3a0a7a91-d69a-4c3d-bc9c-252dd334c20f\" class=\"colab-df-container\">\n",
              "    <div>\n",
              "<style scoped>\n",
              "    .dataframe tbody tr th:only-of-type {\n",
              "        vertical-align: middle;\n",
              "    }\n",
              "\n",
              "    .dataframe tbody tr th {\n",
              "        vertical-align: top;\n",
              "    }\n",
              "\n",
              "    .dataframe thead th {\n",
              "        text-align: right;\n",
              "    }\n",
              "</style>\n",
              "<table border=\"1\" class=\"dataframe\">\n",
              "  <thead>\n",
              "    <tr style=\"text-align: right;\">\n",
              "      <th></th>\n",
              "      <th>calls</th>\n",
              "      <th>minutes</th>\n",
              "      <th>messages</th>\n",
              "      <th>mb_used</th>\n",
              "      <th>is_ultra</th>\n",
              "    </tr>\n",
              "  </thead>\n",
              "  <tbody>\n",
              "    <tr>\n",
              "      <th>calls</th>\n",
              "      <td>1.000000</td>\n",
              "      <td>0.982083</td>\n",
              "      <td>0.177385</td>\n",
              "      <td>0.286442</td>\n",
              "      <td>0.207122</td>\n",
              "    </tr>\n",
              "    <tr>\n",
              "      <th>minutes</th>\n",
              "      <td>0.982083</td>\n",
              "      <td>1.000000</td>\n",
              "      <td>0.173110</td>\n",
              "      <td>0.280967</td>\n",
              "      <td>0.206955</td>\n",
              "    </tr>\n",
              "    <tr>\n",
              "      <th>messages</th>\n",
              "      <td>0.177385</td>\n",
              "      <td>0.173110</td>\n",
              "      <td>1.000000</td>\n",
              "      <td>0.195721</td>\n",
              "      <td>0.203830</td>\n",
              "    </tr>\n",
              "    <tr>\n",
              "      <th>mb_used</th>\n",
              "      <td>0.286442</td>\n",
              "      <td>0.280967</td>\n",
              "      <td>0.195721</td>\n",
              "      <td>1.000000</td>\n",
              "      <td>0.198568</td>\n",
              "    </tr>\n",
              "    <tr>\n",
              "      <th>is_ultra</th>\n",
              "      <td>0.207122</td>\n",
              "      <td>0.206955</td>\n",
              "      <td>0.203830</td>\n",
              "      <td>0.198568</td>\n",
              "      <td>1.000000</td>\n",
              "    </tr>\n",
              "  </tbody>\n",
              "</table>\n",
              "</div>\n",
              "    <div class=\"colab-df-buttons\">\n",
              "\n",
              "  <div class=\"colab-df-container\">\n",
              "    <button class=\"colab-df-convert\" onclick=\"convertToInteractive('df-3a0a7a91-d69a-4c3d-bc9c-252dd334c20f')\"\n",
              "            title=\"Convert this dataframe to an interactive table.\"\n",
              "            style=\"display:none;\">\n",
              "\n",
              "  <svg xmlns=\"http://www.w3.org/2000/svg\" height=\"24px\" viewBox=\"0 -960 960 960\">\n",
              "    <path d=\"M120-120v-720h720v720H120Zm60-500h600v-160H180v160Zm220 220h160v-160H400v160Zm0 220h160v-160H400v160ZM180-400h160v-160H180v160Zm440 0h160v-160H620v160ZM180-180h160v-160H180v160Zm440 0h160v-160H620v160Z\"/>\n",
              "  </svg>\n",
              "    </button>\n",
              "\n",
              "  <style>\n",
              "    .colab-df-container {\n",
              "      display:flex;\n",
              "      gap: 12px;\n",
              "    }\n",
              "\n",
              "    .colab-df-convert {\n",
              "      background-color: #E8F0FE;\n",
              "      border: none;\n",
              "      border-radius: 50%;\n",
              "      cursor: pointer;\n",
              "      display: none;\n",
              "      fill: #1967D2;\n",
              "      height: 32px;\n",
              "      padding: 0 0 0 0;\n",
              "      width: 32px;\n",
              "    }\n",
              "\n",
              "    .colab-df-convert:hover {\n",
              "      background-color: #E2EBFA;\n",
              "      box-shadow: 0px 1px 2px rgba(60, 64, 67, 0.3), 0px 1px 3px 1px rgba(60, 64, 67, 0.15);\n",
              "      fill: #174EA6;\n",
              "    }\n",
              "\n",
              "    .colab-df-buttons div {\n",
              "      margin-bottom: 4px;\n",
              "    }\n",
              "\n",
              "    [theme=dark] .colab-df-convert {\n",
              "      background-color: #3B4455;\n",
              "      fill: #D2E3FC;\n",
              "    }\n",
              "\n",
              "    [theme=dark] .colab-df-convert:hover {\n",
              "      background-color: #434B5C;\n",
              "      box-shadow: 0px 1px 3px 1px rgba(0, 0, 0, 0.15);\n",
              "      filter: drop-shadow(0px 1px 2px rgba(0, 0, 0, 0.3));\n",
              "      fill: #FFFFFF;\n",
              "    }\n",
              "  </style>\n",
              "\n",
              "    <script>\n",
              "      const buttonEl =\n",
              "        document.querySelector('#df-3a0a7a91-d69a-4c3d-bc9c-252dd334c20f button.colab-df-convert');\n",
              "      buttonEl.style.display =\n",
              "        google.colab.kernel.accessAllowed ? 'block' : 'none';\n",
              "\n",
              "      async function convertToInteractive(key) {\n",
              "        const element = document.querySelector('#df-3a0a7a91-d69a-4c3d-bc9c-252dd334c20f');\n",
              "        const dataTable =\n",
              "          await google.colab.kernel.invokeFunction('convertToInteractive',\n",
              "                                                    [key], {});\n",
              "        if (!dataTable) return;\n",
              "\n",
              "        const docLinkHtml = 'Like what you see? Visit the ' +\n",
              "          '<a target=\"_blank\" href=https://colab.research.google.com/notebooks/data_table.ipynb>data table notebook</a>'\n",
              "          + ' to learn more about interactive tables.';\n",
              "        element.innerHTML = '';\n",
              "        dataTable['output_type'] = 'display_data';\n",
              "        await google.colab.output.renderOutput(dataTable, element);\n",
              "        const docLink = document.createElement('div');\n",
              "        docLink.innerHTML = docLinkHtml;\n",
              "        element.appendChild(docLink);\n",
              "      }\n",
              "    </script>\n",
              "  </div>\n",
              "\n",
              "\n",
              "<div id=\"df-b1f3fdfd-6711-48b6-9f84-f2aca61ff663\">\n",
              "  <button class=\"colab-df-quickchart\" onclick=\"quickchart('df-b1f3fdfd-6711-48b6-9f84-f2aca61ff663')\"\n",
              "            title=\"Suggest charts.\"\n",
              "            style=\"display:none;\">\n",
              "\n",
              "<svg xmlns=\"http://www.w3.org/2000/svg\" height=\"24px\"viewBox=\"0 0 24 24\"\n",
              "     width=\"24px\">\n",
              "    <g>\n",
              "        <path d=\"M19 3H5c-1.1 0-2 .9-2 2v14c0 1.1.9 2 2 2h14c1.1 0 2-.9 2-2V5c0-1.1-.9-2-2-2zM9 17H7v-7h2v7zm4 0h-2V7h2v10zm4 0h-2v-4h2v4z\"/>\n",
              "    </g>\n",
              "</svg>\n",
              "  </button>\n",
              "\n",
              "<style>\n",
              "  .colab-df-quickchart {\n",
              "      --bg-color: #E8F0FE;\n",
              "      --fill-color: #1967D2;\n",
              "      --hover-bg-color: #E2EBFA;\n",
              "      --hover-fill-color: #174EA6;\n",
              "      --disabled-fill-color: #AAA;\n",
              "      --disabled-bg-color: #DDD;\n",
              "  }\n",
              "\n",
              "  [theme=dark] .colab-df-quickchart {\n",
              "      --bg-color: #3B4455;\n",
              "      --fill-color: #D2E3FC;\n",
              "      --hover-bg-color: #434B5C;\n",
              "      --hover-fill-color: #FFFFFF;\n",
              "      --disabled-bg-color: #3B4455;\n",
              "      --disabled-fill-color: #666;\n",
              "  }\n",
              "\n",
              "  .colab-df-quickchart {\n",
              "    background-color: var(--bg-color);\n",
              "    border: none;\n",
              "    border-radius: 50%;\n",
              "    cursor: pointer;\n",
              "    display: none;\n",
              "    fill: var(--fill-color);\n",
              "    height: 32px;\n",
              "    padding: 0;\n",
              "    width: 32px;\n",
              "  }\n",
              "\n",
              "  .colab-df-quickchart:hover {\n",
              "    background-color: var(--hover-bg-color);\n",
              "    box-shadow: 0 1px 2px rgba(60, 64, 67, 0.3), 0 1px 3px 1px rgba(60, 64, 67, 0.15);\n",
              "    fill: var(--button-hover-fill-color);\n",
              "  }\n",
              "\n",
              "  .colab-df-quickchart-complete:disabled,\n",
              "  .colab-df-quickchart-complete:disabled:hover {\n",
              "    background-color: var(--disabled-bg-color);\n",
              "    fill: var(--disabled-fill-color);\n",
              "    box-shadow: none;\n",
              "  }\n",
              "\n",
              "  .colab-df-spinner {\n",
              "    border: 2px solid var(--fill-color);\n",
              "    border-color: transparent;\n",
              "    border-bottom-color: var(--fill-color);\n",
              "    animation:\n",
              "      spin 1s steps(1) infinite;\n",
              "  }\n",
              "\n",
              "  @keyframes spin {\n",
              "    0% {\n",
              "      border-color: transparent;\n",
              "      border-bottom-color: var(--fill-color);\n",
              "      border-left-color: var(--fill-color);\n",
              "    }\n",
              "    20% {\n",
              "      border-color: transparent;\n",
              "      border-left-color: var(--fill-color);\n",
              "      border-top-color: var(--fill-color);\n",
              "    }\n",
              "    30% {\n",
              "      border-color: transparent;\n",
              "      border-left-color: var(--fill-color);\n",
              "      border-top-color: var(--fill-color);\n",
              "      border-right-color: var(--fill-color);\n",
              "    }\n",
              "    40% {\n",
              "      border-color: transparent;\n",
              "      border-right-color: var(--fill-color);\n",
              "      border-top-color: var(--fill-color);\n",
              "    }\n",
              "    60% {\n",
              "      border-color: transparent;\n",
              "      border-right-color: var(--fill-color);\n",
              "    }\n",
              "    80% {\n",
              "      border-color: transparent;\n",
              "      border-right-color: var(--fill-color);\n",
              "      border-bottom-color: var(--fill-color);\n",
              "    }\n",
              "    90% {\n",
              "      border-color: transparent;\n",
              "      border-bottom-color: var(--fill-color);\n",
              "    }\n",
              "  }\n",
              "</style>\n",
              "\n",
              "  <script>\n",
              "    async function quickchart(key) {\n",
              "      const quickchartButtonEl =\n",
              "        document.querySelector('#' + key + ' button');\n",
              "      quickchartButtonEl.disabled = true;  // To prevent multiple clicks.\n",
              "      quickchartButtonEl.classList.add('colab-df-spinner');\n",
              "      try {\n",
              "        const charts = await google.colab.kernel.invokeFunction(\n",
              "            'suggestCharts', [key], {});\n",
              "      } catch (error) {\n",
              "        console.error('Error during call to suggestCharts:', error);\n",
              "      }\n",
              "      quickchartButtonEl.classList.remove('colab-df-spinner');\n",
              "      quickchartButtonEl.classList.add('colab-df-quickchart-complete');\n",
              "    }\n",
              "    (() => {\n",
              "      let quickchartButtonEl =\n",
              "        document.querySelector('#df-b1f3fdfd-6711-48b6-9f84-f2aca61ff663 button');\n",
              "      quickchartButtonEl.style.display =\n",
              "        google.colab.kernel.accessAllowed ? 'block' : 'none';\n",
              "    })();\n",
              "  </script>\n",
              "</div>\n",
              "    </div>\n",
              "  </div>\n"
            ]
          },
          "metadata": {},
          "execution_count": 6
        }
      ],
      "source": [
        "df.corr()"
      ]
    },
    {
      "cell_type": "markdown",
      "metadata": {
        "id": "sAkfcBPdUr_v"
      },
      "source": [
        "## Разбейте данные на выборки"
      ]
    },
    {
      "cell_type": "markdown",
      "metadata": {
        "id": "cfF9_hbSUr_w"
      },
      "source": [
        "Целевой признак в нашем исследовании - `is_ultra`. Выделим его и разобъём наши данные на обучающую, валидационную и тестовую выборки в соотношении 3:1:1"
      ]
    },
    {
      "cell_type": "code",
      "execution_count": 7,
      "metadata": {
        "colab": {
          "base_uri": "https://localhost:8080/"
        },
        "id": "tDC3u9rdUr_w",
        "outputId": "de8c6b5c-64f4-463f-9356-ced17ccbb4e2"
      },
      "outputs": [
        {
          "output_type": "execute_result",
          "data": {
            "text/plain": [
              "True"
            ]
          },
          "metadata": {},
          "execution_count": 7
        }
      ],
      "source": [
        "features = df.drop('is_ultra', axis = 1)\n",
        "target = df['is_ultra']\n",
        "initial_features, test_features, initial_target, test_target = \\\n",
        "train_test_split(features, target, test_size = 0.2, random_state = 42, stratify = target)\n",
        "\n",
        "train_features, valid_features, train_target, valid_target = \\\n",
        "train_test_split(initial_features, initial_target, test_size = 0.25, random_state = 42, stratify = initial_target)\n",
        "\n",
        "df.shape[0] == (test_features.shape[0] + train_features.shape[0] + valid_features.shape[0])"
      ]
    },
    {
      "cell_type": "markdown",
      "metadata": {
        "id": "rU409j4IUr_w"
      },
      "source": [
        "## Исследуйте модели"
      ]
    },
    {
      "cell_type": "markdown",
      "metadata": {
        "id": "LyzhipkTUr_x"
      },
      "source": [
        "Исследуем три модели - решаюшее дерево, случайный лес и логистическую регрессию."
      ]
    },
    {
      "cell_type": "code",
      "execution_count": 8,
      "metadata": {
        "id": "52E0zfe4Ur_x"
      },
      "outputs": [],
      "source": [
        "def get_best_score(model, best_model, best_score):\n",
        "    model.fit(train_features, train_target)\n",
        "    valid_score = model.score(valid_features, valid_target)\n",
        "    test_score = model.score(test_features, test_target)\n",
        "    if valid_score > best_score:\n",
        "        return(model, valid_score, test_score)\n",
        "    else:\n",
        "        return(best_model, valid_score, test_score)"
      ]
    },
    {
      "cell_type": "markdown",
      "metadata": {
        "id": "T_mNt9YJUr_x"
      },
      "source": [
        "### Решающее дерево"
      ]
    },
    {
      "cell_type": "code",
      "execution_count": 9,
      "metadata": {
        "colab": {
          "base_uri": "https://localhost:8080/"
        },
        "id": "qdE2fJ78Ur_x",
        "outputId": "6c25f3f7-6d9e-45db-b405-66584496a6ef"
      },
      "outputs": [
        {
          "output_type": "execute_result",
          "data": {
            "text/plain": [
              "(DecisionTreeClassifier(max_depth=5, random_state=42), 0.7900466562986003)"
            ]
          },
          "metadata": {},
          "execution_count": 9
        }
      ],
      "source": [
        "best_tree_model = None\n",
        "tree_train_scores = []\n",
        "tree_valid_scores = []\n",
        "for i in range(1, 100):\n",
        "    model = DecisionTreeClassifier(max_depth = i, random_state = 42)\n",
        "    if len(tree_valid_scores) > 0:\n",
        "        best_tree_model, valid_score, test_score = get_best_score(model, best_tree_model, max(tree_valid_scores))\n",
        "    else:\n",
        "        best_tree_model, valid_score, test_score = get_best_score(model, best_tree_model, 0)\n",
        "    tree_train_scores.append(test_score)\n",
        "    tree_valid_scores.append(valid_score)\n",
        "\n",
        "best_tree_score = max(tree_valid_scores)\n",
        "\n",
        "best_tree_model, best_tree_score"
      ]
    },
    {
      "cell_type": "markdown",
      "metadata": {
        "id": "da784PmLUr_x"
      },
      "source": [
        "**Наилучший результат при максимальной глубине, равной пяти.**"
      ]
    },
    {
      "cell_type": "code",
      "execution_count": 10,
      "metadata": {
        "colab": {
          "base_uri": "https://localhost:8080/",
          "height": 770
        },
        "id": "XoZrwnIMUr_x",
        "outputId": "4d25adba-9a55-4f9c-a30a-a71bd6873c0e"
      },
      "outputs": [
        {
          "output_type": "execute_result",
          "data": {
            "text/plain": [
              "<Axes: >"
            ]
          },
          "metadata": {},
          "execution_count": 10
        },
        {
          "output_type": "display_data",
          "data": {
            "text/plain": [
              "<Figure size 1600x900 with 1 Axes>"
            ],
            "image/png": "[encoded data removed]"
          },
          "metadata": {}
        }
      ],
      "source": [
        "pd.DataFrame(zip(tree_train_scores, tree_valid_scores), columns = ['train', 'valid']).plot(figsize = (16, 9))"
      ]
    },
    {
      "cell_type": "markdown",
      "metadata": {
        "id": "2honkQ7cUr_z"
      },
      "source": [
        "### Случайный лес"
      ]
    },
    {
      "cell_type": "code",
      "execution_count": 11,
      "metadata": {
        "scrolled": true,
        "colab": {
          "base_uri": "https://localhost:8080/"
        },
        "id": "vZ1e0UKJUr_z",
        "outputId": "c9c50bd8-ecee-447e-8249-d05344594716"
      },
      "outputs": [
        {
          "output_type": "stream",
          "name": "stderr",
          "text": [
            "100%|██████████| 4/4 [00:09<00:00,  2.26s/it]\n"
          ]
        },
        {
          "output_type": "execute_result",
          "data": {
            "text/plain": [
              "(RandomForestClassifier(max_depth=17, n_estimators=21, random_state=42),\n",
              " 0.7978227060653188)"
            ]
          },
          "metadata": {},
          "execution_count": 11
        }
      ],
      "source": [
        "from tqdm import tqdm\n",
        "best_forest_model = None\n",
        "forest_train_scores = []\n",
        "forest_valid_scores = []\n",
        "\n",
        "for i in tqdm(range(1, 32, 10)):\n",
        "    for j in range (1, 30):\n",
        "        model = RandomForestClassifier(n_estimators = i, max_depth = j, random_state = 42)\n",
        "        if len(forest_valid_scores) > 0:\n",
        "            best_forest_model, valid_score, test_score = get_best_score(model, best_forest_model, max(forest_valid_scores))\n",
        "        else:\n",
        "            best_forest_model, valid_score, test_score = get_best_score(model, best_forest_model, 0)\n",
        "        forest_train_scores.append(test_score)\n",
        "        forest_valid_scores.append(valid_score)\n",
        "\n",
        "best_forest_score = max(forest_valid_scores)\n",
        "best_forest_model, best_forest_score"
      ]
    },
    {
      "cell_type": "markdown",
      "metadata": {
        "id": "EMbv1AJPUr_z"
      },
      "source": [
        "Наилучший результат при максимальной глубине, равной 17 и числе деревьев = 21.\n",
        "\n",
        "*Примечание: диапазон поиска намеренно уменьшен постфактум. Первоначальный поиск проводился в диапазоне [1, 100] по обоим параметрам"
      ]
    },
    {
      "cell_type": "code",
      "execution_count": 12,
      "metadata": {
        "colab": {
          "base_uri": "https://localhost:8080/",
          "height": 770
        },
        "id": "aqrIrBWFUr_z",
        "outputId": "f5a335bf-3298-41be-ef55-ae19ea31ddbe"
      },
      "outputs": [
        {
          "output_type": "execute_result",
          "data": {
            "text/plain": [
              "<Axes: >"
            ]
          },
          "metadata": {},
          "execution_count": 12
        },
        {
          "output_type": "display_data",
          "data": {
            "text/plain": [
              "<Figure size 1600x900 with 1 Axes>"
            ],
            "image/png": "[encoded data removed]"
          },
          "metadata": {}
        }
      ],
      "source": [
        "pd.DataFrame(zip(forest_train_scores, forest_valid_scores), columns = ['test', 'valid']).plot(figsize = (16, 9))"
      ]
    },
    {
      "cell_type": "markdown",
      "metadata": {
        "id": "XqOwlW2uUr_0"
      },
      "source": [
        "### Логистическая регрессия"
      ]
    },
    {
      "cell_type": "code",
      "execution_count": 13,
      "metadata": {
        "colab": {
          "base_uri": "https://localhost:8080/"
        },
        "id": "3622nANZUr_0",
        "outputId": "6c123472-0922-4a25-ae8c-a0dc9687c072"
      },
      "outputs": [
        {
          "output_type": "execute_result",
          "data": {
            "text/plain": [
              "(LogisticRegression(max_iter=10000, random_state=42), 0.744945567651633)"
            ]
          },
          "metadata": {},
          "execution_count": 13
        }
      ],
      "source": [
        "best_logistic_model = None\n",
        "logistic_train_scores = []\n",
        "logistic_valid_scores = []\n",
        "solvers = ['lbfgs', 'sag', 'saga']\n",
        "\n",
        "for solver in solvers:\n",
        "    model = LogisticRegression(random_state=42, solver=solver, max_iter=10000)\n",
        "    if len(logistic_valid_scores) > 0:\n",
        "        best_logistic_model, valid_score, test_score = get_best_score(model, best_logistic_model, max(logistic_valid_scores))\n",
        "    else:\n",
        "        best_logistic_model, valid_score, test_score = get_best_score(model, best_logistic_model, 0)\n",
        "    logistic_train_scores.append(test_score)\n",
        "    logistic_valid_scores.append(valid_score)\n",
        "\n",
        "logistic_score = max(logistic_valid_scores)\n",
        "best_logistic_model, logistic_score"
      ]
    },
    {
      "cell_type": "markdown",
      "metadata": {
        "id": "5q3XwwSxUr_1"
      },
      "source": [
        "## Проверьте модель на тестовой выборке"
      ]
    },
    {
      "cell_type": "markdown",
      "metadata": {
        "id": "WvDCtqXDUr_1"
      },
      "source": [
        "Наилучшие результаты показывает модель случайного леса. Переобучим эту модель на выборке, состоящей из тренировочного и валидационного сетов"
      ]
    },
    {
      "cell_type": "code",
      "execution_count": 14,
      "metadata": {
        "colab": {
          "base_uri": "https://localhost:8080/"
        },
        "id": "EWMkC5-lUr_1",
        "outputId": "7e27e241-3b46-4a43-ddb6-1ac9e940482a"
      },
      "outputs": [
        {
          "output_type": "execute_result",
          "data": {
            "text/plain": [
              "(0.9576040451186308, 0.7993779160186625)"
            ]
          },
          "metadata": {},
          "execution_count": 14
        }
      ],
      "source": [
        "best_forest_model.fit(initial_features, initial_target)\n",
        "best_forest_model.score(initial_features, initial_target), best_forest_model.score(test_features, test_target)"
      ]
    },
    {
      "cell_type": "code",
      "execution_count": 15,
      "metadata": {
        "colab": {
          "base_uri": "https://localhost:8080/",
          "height": 75
        },
        "id": "WTR8noAbUr_1",
        "outputId": "5a959dc8-55f4-4285-e424-e45b51a51eb6"
      },
      "outputs": [
        {
          "output_type": "execute_result",
          "data": {
            "text/plain": [
              "RandomForestClassifier(max_depth=17, n_estimators=21, random_state=42)"
            ],
            "text/html": [
              "<style>#sk-container-id-1 {color: black;background-color: white;}#sk-container-id-1 pre{padding: 0;}#sk-container-id-1 div.sk-toggleable {background-color: white;}#sk-container-id-1 label.sk-toggleable__label {cursor: pointer;display: block;width: 100%;margin-bottom: 0;padding: 0.3em;box-sizing: border-box;text-align: center;}#sk-container-id-1 label.sk-toggleable__label-arrow:before {content: \"▸\";float: left;margin-right: 0.25em;color: #696969;}#sk-container-id-1 label.sk-toggleable__label-arrow:hover:before {color: black;}#sk-container-id-1 div.sk-estimator:hover label.sk-toggleable__label-arrow:before {color: black;}#sk-container-id-1 div.sk-toggleable__content {max-height: 0;max-width: 0;overflow: hidden;text-align: left;background-color: #f0f8ff;}#sk-container-id-1 div.sk-toggleable__content pre {margin: 0.2em;color: black;border-radius: 0.25em;background-color: #f0f8ff;}#sk-container-id-1 input.sk-toggleable__control:checked~div.sk-toggleable__content {max-height: 200px;max-width: 100%;overflow: auto;}#sk-container-id-1 input.sk-toggleable__control:checked~label.sk-toggleable__label-arrow:before {content: \"▾\";}#sk-container-id-1 div.sk-estimator input.sk-toggleable__control:checked~label.sk-toggleable__label {background-color: #d4ebff;}#sk-container-id-1 div.sk-label input.sk-toggleable__control:checked~label.sk-toggleable__label {background-color: #d4ebff;}#sk-container-id-1 input.sk-hidden--visually {border: 0;clip: rect(1px 1px 1px 1px);clip: rect(1px, 1px, 1px, 1px);height: 1px;margin: -1px;overflow: hidden;padding: 0;position: absolute;width: 1px;}#sk-container-id-1 div.sk-estimator {font-family: monospace;background-color: #f0f8ff;border: 1px dotted black;border-radius: 0.25em;box-sizing: border-box;margin-bottom: 0.5em;}#sk-container-id-1 div.sk-estimator:hover {background-color: #d4ebff;}#sk-container-id-1 div.sk-parallel-item::after {content: \"\";width: 100%;border-bottom: 1px solid gray;flex-grow: 1;}#sk-container-id-1 div.sk-label:hover label.sk-toggleable__label {background-color: #d4ebff;}#sk-container-id-1 div.sk-serial::before {content: \"\";position: absolute;border-left: 1px solid gray;box-sizing: border-box;top: 0;bottom: 0;left: 50%;z-index: 0;}#sk-container-id-1 div.sk-serial {display: flex;flex-direction: column;align-items: center;background-color: white;padding-right: 0.2em;padding-left: 0.2em;position: relative;}#sk-container-id-1 div.sk-item {position: relative;z-index: 1;}#sk-container-id-1 div.sk-parallel {display: flex;align-items: stretch;justify-content: center;background-color: white;position: relative;}#sk-container-id-1 div.sk-item::before, #sk-container-id-1 div.sk-parallel-item::before {content: \"\";position: absolute;border-left: 1px solid gray;box-sizing: border-box;top: 0;bottom: 0;left: 50%;z-index: -1;}#sk-container-id-1 div.sk-parallel-item {display: flex;flex-direction: column;z-index: 1;position: relative;background-color: white;}#sk-container-id-1 div.sk-parallel-item:first-child::after {align-self: flex-end;width: 50%;}#sk-container-id-1 div.sk-parallel-item:last-child::after {align-self: flex-start;width: 50%;}#sk-container-id-1 div.sk-parallel-item:only-child::after {width: 0;}#sk-container-id-1 div.sk-dashed-wrapped {border: 1px dashed gray;margin: 0 0.4em 0.5em 0.4em;box-sizing: border-box;padding-bottom: 0.4em;background-color: white;}#sk-container-id-1 div.sk-label label {font-family: monospace;font-weight: bold;display: inline-block;line-height: 1.2em;}#sk-container-id-1 div.sk-label-container {text-align: center;}#sk-container-id-1 div.sk-container {/* jupyter's `normalize.less` sets `[hidden] { display: none; }` but bootstrap.min.css set `[hidden] { display: none !important; }` so we also need the `!important` here to be able to override the default hidden behavior on the sphinx rendered scikit-learn.org. See: https://github.com/scikit-learn/scikit-learn/issues/21755 */display: inline-block !important;position: relative;}#sk-container-id-1 div.sk-text-repr-fallback {display: none;}</style><div id=\"sk-container-id-1\" class=\"sk-top-container\"><div class=\"sk-text-repr-fallback\"><pre>RandomForestClassifier(max_depth=17, n_estimators=21, random_state=42)</pre><b>In a Jupyter environment, please rerun this cell to show the HTML representation or trust the notebook. <br />On GitHub, the HTML representation is unable to render, please try loading this page with nbviewer.org.</b></div><div class=\"sk-container\" hidden><div class=\"sk-item\"><div class=\"sk-estimator sk-toggleable\"><input class=\"sk-toggleable__control sk-hidden--visually\" id=\"sk-estimator-id-1\" type=\"checkbox\" checked><label for=\"sk-estimator-id-1\" class=\"sk-toggleable__label sk-toggleable__label-arrow\">RandomForestClassifier</label><div class=\"sk-toggleable__content\"><pre>RandomForestClassifier(max_depth=17, n_estimators=21, random_state=42)</pre></div></div></div></div></div>"
            ]
          },
          "metadata": {},
          "execution_count": 15
        }
      ],
      "source": [
        "best_forest_model"
      ]
    },
    {
      "cell_type": "markdown",
      "metadata": {
        "id": "kv-pPxrpUr_2"
      },
      "source": [
        "Итоговый результат - 79.9%"
      ]
    },
    {
      "cell_type": "markdown",
      "metadata": {
        "id": "rkDEaAVxUr_2"
      },
      "source": [
        "\n",
        "\n",
        "<div class=\"alert alert-success\">\n",
        "<font size=\"5\"><b>Комментарий ревьюераV2</b></font>\n",
        "\n",
        "Успех:\n",
        "\n",
        "Если студент получил на тесте accuraсy  выше 0,78, это считается отличным результатом. Тобой подбиралась лучшая комбинация не по одному гиперпараметру + дообучил и вот он результат!\n",
        "\n",
        "\n",
        "\n",
        "\n",
        "\n",
        "\n",
        "</div>"
      ]
    },
    {
      "cell_type": "markdown",
      "metadata": {
        "id": "Jtb8jcdiUr_2"
      },
      "source": [
        "**Вывод:**\n",
        "\n",
        "Наилучшие показатели качества имеет модель случайного леса с гиреппараметрами `max_depth=17`, `n_estimators=42`. Данная модель показывает точнность 79.9% на тестовой выборке"
      ]
    },
    {
      "cell_type": "markdown",
      "metadata": {
        "id": "DAqz3dPTUr_2"
      },
      "source": [
        "## (бонус) Проверьте модели на адекватность"
      ]
    },
    {
      "cell_type": "markdown",
      "metadata": {
        "id": "1cG_rF6SUr_2"
      },
      "source": [
        "Проверим, как распределены значения в колонке `is_ultra`"
      ]
    },
    {
      "cell_type": "code",
      "execution_count": 16,
      "metadata": {
        "colab": {
          "base_uri": "https://localhost:8080/"
        },
        "id": "M3ndD6vHUr_3",
        "outputId": "b951d06f-d287-4c1f-ad13-198c0685d5df"
      },
      "outputs": [
        {
          "output_type": "execute_result",
          "data": {
            "text/plain": [
              "0.30647168637212197"
            ]
          },
          "metadata": {},
          "execution_count": 16
        }
      ],
      "source": [
        "df['is_ultra'].mean()"
      ]
    },
    {
      "cell_type": "markdown",
      "metadata": {
        "id": "N1s46IZCUr_3"
      },
      "source": [
        "В целевом признаке имеется перекос в сторону нулевого значения. Сравним нашу модель с моделью, всегда генерирующей 0"
      ]
    },
    {
      "cell_type": "code",
      "execution_count": 17,
      "metadata": {
        "id": "K5U4s-AXUr_3"
      },
      "outputs": [],
      "source": [
        "from sklearn.dummy import DummyClassifier"
      ]
    },
    {
      "cell_type": "code",
      "execution_count": 18,
      "metadata": {
        "colab": {
          "base_uri": "https://localhost:8080/"
        },
        "id": "t9o_Hk_BUr_3",
        "outputId": "6e369c20-e52f-487a-fb43-5d3734c0bd3b"
      },
      "outputs": [
        {
          "output_type": "execute_result",
          "data": {
            "text/plain": [
              "0.6936236391912908"
            ]
          },
          "metadata": {},
          "execution_count": 18
        }
      ],
      "source": [
        "sanity_check = DummyClassifier()\n",
        "sanity_check.fit(initial_features, initial_target)\n",
        "sanity_check.score(test_features, test_target)"
      ]
    },
    {
      "cell_type": "markdown",
      "metadata": {
        "id": "eSAHiBoaUr_3"
      },
      "source": [
        "Пороговое значение точности приблизительно равно 69%. Точность нашей итоговой модели - 79.9%. Проверка на адекватность пройдена."
      ]
    }
  ],
  "metadata": {
    "ExecuteTimeLog": [
      {
        "duration": 1376,
        "start_time": "2023-05-01T11:48:29.531Z"
      },
      {
        "duration": 247,
        "start_time": "2023-05-01T11:48:41.261Z"
      },
      {
        "duration": 12,
        "start_time": "2023-05-01T11:50:03.709Z"
      },
      {
        "duration": 104,
        "start_time": "2023-05-01T11:51:00.339Z"
      },
      {
        "duration": 8,
        "start_time": "2023-05-01T11:51:08.445Z"
      },
      {
        "duration": 9,
        "start_time": "2023-05-01T12:16:32.891Z"
      },
      {
        "duration": 1183,
        "start_time": "2023-05-01T12:16:45.346Z"
      },
      {
        "duration": 4,
        "start_time": "2023-05-01T12:18:27.459Z"
      },
      {
        "duration": 1159,
        "start_time": "2023-05-01T12:18:28.405Z"
      },
      {
        "duration": 15304,
        "start_time": "2023-05-01T12:21:00.514Z"
      },
      {
        "duration": 11108,
        "start_time": "2023-05-01T12:21:56.509Z"
      },
      {
        "duration": 87,
        "start_time": "2023-05-01T12:22:44.362Z"
      },
      {
        "duration": 25,
        "start_time": "2023-05-01T12:28:52.441Z"
      },
      {
        "duration": 71,
        "start_time": "2023-05-01T12:29:26.362Z"
      },
      {
        "duration": 71,
        "start_time": "2023-05-01T12:30:26.666Z"
      },
      {
        "duration": 18,
        "start_time": "2023-05-02T08:38:41.813Z"
      },
      {
        "duration": 4,
        "start_time": "2023-05-02T08:38:53.596Z"
      },
      {
        "duration": 4,
        "start_time": "2023-05-02T08:38:56.652Z"
      },
      {
        "duration": 1266,
        "start_time": "2023-05-02T08:54:43.047Z"
      },
      {
        "duration": 61,
        "start_time": "2023-05-02T08:54:44.315Z"
      },
      {
        "duration": 9,
        "start_time": "2023-05-02T08:54:44.378Z"
      },
      {
        "duration": 11,
        "start_time": "2023-05-02T08:54:44.389Z"
      },
      {
        "duration": 1128,
        "start_time": "2023-05-02T08:54:44.402Z"
      },
      {
        "duration": 9828,
        "start_time": "2023-05-02T08:54:45.532Z"
      },
      {
        "duration": 25,
        "start_time": "2023-05-02T08:54:55.362Z"
      },
      {
        "duration": 82,
        "start_time": "2023-05-02T08:54:55.388Z"
      },
      {
        "duration": 5,
        "start_time": "2023-05-02T08:54:55.471Z"
      },
      {
        "duration": 5,
        "start_time": "2023-05-02T08:55:39.216Z"
      },
      {
        "duration": 6,
        "start_time": "2023-05-02T08:59:44.714Z"
      },
      {
        "duration": 6,
        "start_time": "2023-05-02T09:01:05.251Z"
      },
      {
        "duration": 7,
        "start_time": "2023-05-02T09:02:06.467Z"
      },
      {
        "duration": 31,
        "start_time": "2023-05-02T09:04:31.779Z"
      },
      {
        "duration": 22,
        "start_time": "2023-05-02T09:04:35.212Z"
      },
      {
        "duration": 18,
        "start_time": "2023-05-02T09:04:38.012Z"
      },
      {
        "duration": 28,
        "start_time": "2023-05-02T09:04:44.950Z"
      },
      {
        "duration": 24,
        "start_time": "2023-05-02T09:04:47.583Z"
      },
      {
        "duration": 97,
        "start_time": "2023-05-02T09:07:14.917Z"
      },
      {
        "duration": 286,
        "start_time": "2023-05-02T09:07:20.141Z"
      },
      {
        "duration": 622,
        "start_time": "2023-05-02T09:07:53.385Z"
      },
      {
        "duration": 1537,
        "start_time": "2023-05-02T09:08:10.586Z"
      },
      {
        "duration": 1607,
        "start_time": "2023-05-02T09:08:14.620Z"
      },
      {
        "duration": 1549,
        "start_time": "2023-05-02T09:08:22.184Z"
      },
      {
        "duration": 610,
        "start_time": "2023-05-02T09:09:21.218Z"
      },
      {
        "duration": 414,
        "start_time": "2023-05-02T09:09:24.545Z"
      },
      {
        "duration": 1442,
        "start_time": "2023-05-02T09:09:27.236Z"
      },
      {
        "duration": 151,
        "start_time": "2023-05-02T09:10:31.823Z"
      },
      {
        "duration": 1381,
        "start_time": "2023-05-02T09:10:36.873Z"
      },
      {
        "duration": 1270,
        "start_time": "2023-05-02T09:10:43.051Z"
      },
      {
        "duration": 1386,
        "start_time": "2023-05-02T09:11:00.624Z"
      },
      {
        "duration": 403,
        "start_time": "2023-05-02T09:11:05.009Z"
      },
      {
        "duration": 1355,
        "start_time": "2023-05-02T09:11:08.729Z"
      },
      {
        "duration": 75,
        "start_time": "2023-05-02T09:11:55.054Z"
      },
      {
        "duration": 2125,
        "start_time": "2023-05-02T09:13:03.920Z"
      },
      {
        "duration": 1621,
        "start_time": "2023-05-02T09:13:09.043Z"
      },
      {
        "duration": 1600,
        "start_time": "2023-05-02T09:13:24.316Z"
      },
      {
        "duration": 33,
        "start_time": "2023-05-02T09:14:30.154Z"
      },
      {
        "duration": 10,
        "start_time": "2023-05-02T09:14:35.452Z"
      },
      {
        "duration": 13,
        "start_time": "2023-05-02T09:15:01.973Z"
      },
      {
        "duration": 8,
        "start_time": "2023-05-02T09:15:41.914Z"
      },
      {
        "duration": 13,
        "start_time": "2023-05-02T09:16:07.106Z"
      },
      {
        "duration": 641,
        "start_time": "2023-05-02T09:16:13.180Z"
      },
      {
        "duration": 591,
        "start_time": "2023-05-02T09:16:26.470Z"
      },
      {
        "duration": 3,
        "start_time": "2023-05-02T09:28:12.610Z"
      },
      {
        "duration": 71,
        "start_time": "2023-05-02T09:28:12.615Z"
      },
      {
        "duration": 10,
        "start_time": "2023-05-02T09:28:12.688Z"
      },
      {
        "duration": 601,
        "start_time": "2023-05-02T09:28:12.700Z"
      },
      {
        "duration": 9,
        "start_time": "2023-05-02T09:28:13.303Z"
      },
      {
        "duration": 5,
        "start_time": "2023-05-02T09:28:13.314Z"
      },
      {
        "duration": 1153,
        "start_time": "2023-05-02T09:28:13.321Z"
      },
      {
        "duration": 10348,
        "start_time": "2023-05-02T09:28:14.476Z"
      },
      {
        "duration": 1326,
        "start_time": "2023-05-02T09:28:24.825Z"
      },
      {
        "duration": 84,
        "start_time": "2023-05-02T09:28:26.153Z"
      },
      {
        "duration": 5,
        "start_time": "2023-05-02T09:28:26.238Z"
      },
      {
        "duration": 8,
        "start_time": "2023-05-02T09:28:26.245Z"
      },
      {
        "duration": 2700,
        "start_time": "2023-05-02T09:41:46.222Z"
      },
      {
        "duration": 209,
        "start_time": "2023-05-02T09:41:48.924Z"
      },
      {
        "duration": 9,
        "start_time": "2023-05-02T09:41:49.135Z"
      },
      {
        "duration": 963,
        "start_time": "2023-05-02T09:41:49.146Z"
      },
      {
        "duration": 9,
        "start_time": "2023-05-02T09:41:50.117Z"
      },
      {
        "duration": 15,
        "start_time": "2023-05-02T09:41:50.127Z"
      },
      {
        "duration": 1125,
        "start_time": "2023-05-02T09:41:50.143Z"
      },
      {
        "duration": 10220,
        "start_time": "2023-05-02T09:41:51.269Z"
      },
      {
        "duration": 1360,
        "start_time": "2023-05-02T09:42:01.490Z"
      },
      {
        "duration": 65,
        "start_time": "2023-05-02T09:42:02.852Z"
      },
      {
        "duration": 20,
        "start_time": "2023-05-02T09:42:02.918Z"
      },
      {
        "duration": 78,
        "start_time": "2023-05-02T09:42:02.940Z"
      },
      {
        "duration": 3,
        "start_time": "2023-05-02T10:06:21.143Z"
      },
      {
        "duration": 3,
        "start_time": "2023-05-02T10:06:32.800Z"
      },
      {
        "duration": 17,
        "start_time": "2023-05-02T10:09:12.849Z"
      },
      {
        "duration": 23,
        "start_time": "2023-05-02T10:11:27.720Z"
      },
      {
        "duration": 5,
        "start_time": "2023-05-02T10:22:35.230Z"
      },
      {
        "duration": 4,
        "start_time": "2023-05-02T10:22:42.045Z"
      },
      {
        "duration": 5,
        "start_time": "2023-05-02T10:22:58.139Z"
      },
      {
        "duration": 4,
        "start_time": "2023-05-02T10:23:16.509Z"
      },
      {
        "duration": 5,
        "start_time": "2023-05-02T10:23:36.377Z"
      },
      {
        "duration": 8,
        "start_time": "2023-05-02T10:24:13.609Z"
      },
      {
        "duration": 9,
        "start_time": "2023-05-02T10:24:24.855Z"
      },
      {
        "duration": 22,
        "start_time": "2023-05-02T10:24:46.767Z"
      },
      {
        "duration": 10,
        "start_time": "2023-05-02T10:24:51.795Z"
      },
      {
        "duration": 5,
        "start_time": "2023-05-02T10:24:53.007Z"
      },
      {
        "duration": 4,
        "start_time": "2023-05-02T10:24:53.574Z"
      },
      {
        "duration": 17,
        "start_time": "2023-05-02T10:24:54.075Z"
      },
      {
        "duration": 5,
        "start_time": "2023-05-02T10:24:54.842Z"
      },
      {
        "duration": 15,
        "start_time": "2023-05-02T10:25:31.506Z"
      },
      {
        "duration": 98,
        "start_time": "2023-05-02T10:26:15.111Z"
      },
      {
        "duration": 12,
        "start_time": "2023-05-02T10:26:17.433Z"
      },
      {
        "duration": 13,
        "start_time": "2023-05-02T10:26:23.822Z"
      },
      {
        "duration": 23,
        "start_time": "2023-05-02T10:43:43.090Z"
      },
      {
        "duration": 670,
        "start_time": "2023-05-02T10:43:56.830Z"
      },
      {
        "duration": 733,
        "start_time": "2023-05-02T10:44:09.805Z"
      },
      {
        "duration": 11781,
        "start_time": "2023-05-02T10:47:49.749Z"
      },
      {
        "duration": 1077,
        "start_time": "2023-05-02T10:48:14.170Z"
      },
      {
        "duration": 102,
        "start_time": "2023-05-02T11:00:51.419Z"
      },
      {
        "duration": 6,
        "start_time": "2023-05-02T11:00:55.389Z"
      },
      {
        "duration": 13,
        "start_time": "2023-05-02T11:01:27.488Z"
      },
      {
        "duration": 5,
        "start_time": "2023-05-02T11:01:56.586Z"
      },
      {
        "duration": 6,
        "start_time": "2023-05-02T11:01:58.989Z"
      },
      {
        "duration": 17,
        "start_time": "2023-05-02T11:02:41.812Z"
      },
      {
        "duration": 5,
        "start_time": "2023-05-02T11:03:26.610Z"
      },
      {
        "duration": 20,
        "start_time": "2023-05-02T11:03:28.387Z"
      },
      {
        "duration": 3,
        "start_time": "2023-05-02T11:03:40.213Z"
      },
      {
        "duration": 1348,
        "start_time": "2023-05-02T11:03:41.689Z"
      },
      {
        "duration": 48,
        "start_time": "2023-05-02T11:03:55.688Z"
      },
      {
        "duration": 30,
        "start_time": "2023-05-02T11:04:13.357Z"
      },
      {
        "duration": 1275,
        "start_time": "2023-05-02T11:04:20.780Z"
      },
      {
        "duration": 42,
        "start_time": "2023-05-02T11:04:36.586Z"
      },
      {
        "duration": 1313,
        "start_time": "2023-05-02T11:04:47.310Z"
      },
      {
        "duration": 1281,
        "start_time": "2023-05-02T11:05:12.221Z"
      },
      {
        "duration": 21,
        "start_time": "2023-05-02T11:06:06.619Z"
      },
      {
        "duration": 11,
        "start_time": "2023-05-02T11:06:22.880Z"
      },
      {
        "duration": 170,
        "start_time": "2023-05-02T11:06:36.312Z"
      },
      {
        "duration": 163,
        "start_time": "2023-05-02T11:06:53.985Z"
      },
      {
        "duration": 11,
        "start_time": "2023-05-02T11:07:13.721Z"
      },
      {
        "duration": 4,
        "start_time": "2023-05-02T11:07:32.715Z"
      },
      {
        "duration": 1362,
        "start_time": "2023-05-02T11:07:38.786Z"
      },
      {
        "duration": 288,
        "start_time": "2023-05-02T11:07:40.149Z"
      },
      {
        "duration": 172,
        "start_time": "2023-05-02T11:07:48.025Z"
      },
      {
        "duration": 13254,
        "start_time": "2023-05-02T11:08:19.240Z"
      },
      {
        "duration": 149,
        "start_time": "2023-05-02T11:08:32.496Z"
      },
      {
        "duration": 1287,
        "start_time": "2023-05-02T11:08:37.833Z"
      },
      {
        "duration": 181,
        "start_time": "2023-05-02T11:08:39.122Z"
      },
      {
        "duration": 237,
        "start_time": "2023-05-02T11:08:50.053Z"
      },
      {
        "duration": 1399,
        "start_time": "2023-05-02T11:17:39.874Z"
      },
      {
        "duration": 1317,
        "start_time": "2023-05-02T11:18:12.760Z"
      },
      {
        "duration": 120,
        "start_time": "2023-05-02T11:21:29.125Z"
      },
      {
        "duration": 16,
        "start_time": "2023-05-02T11:21:48.934Z"
      },
      {
        "duration": 171,
        "start_time": "2023-05-02T11:21:58.531Z"
      },
      {
        "duration": 296603,
        "start_time": "2023-05-02T11:22:06.257Z"
      },
      {
        "duration": 10806,
        "start_time": "2023-05-02T11:29:39.432Z"
      },
      {
        "duration": 261,
        "start_time": "2023-05-02T11:32:03.024Z"
      },
      {
        "duration": 21,
        "start_time": "2023-05-02T11:39:00.726Z"
      },
      {
        "duration": 1803,
        "start_time": "2023-05-02T11:39:07.243Z"
      },
      {
        "duration": 9,
        "start_time": "2023-05-02T12:15:22.887Z"
      },
      {
        "duration": 8208,
        "start_time": "2023-05-02T12:15:30.730Z"
      },
      {
        "duration": 8205,
        "start_time": "2023-05-02T12:16:23.815Z"
      },
      {
        "duration": 48,
        "start_time": "2023-05-02T12:17:19.086Z"
      },
      {
        "duration": 114,
        "start_time": "2023-05-02T12:21:14.314Z"
      },
      {
        "duration": 117,
        "start_time": "2023-05-02T12:21:22.718Z"
      },
      {
        "duration": 126,
        "start_time": "2023-05-02T12:21:44.354Z"
      },
      {
        "duration": 126,
        "start_time": "2023-05-02T12:22:32.217Z"
      },
      {
        "duration": 5,
        "start_time": "2023-05-02T12:22:35.981Z"
      },
      {
        "duration": 68,
        "start_time": "2023-05-02T12:28:10.421Z"
      },
      {
        "duration": 2,
        "start_time": "2023-05-02T12:28:25.525Z"
      },
      {
        "duration": 4,
        "start_time": "2023-05-02T12:29:44.991Z"
      },
      {
        "duration": 6,
        "start_time": "2023-05-02T12:30:16.951Z"
      },
      {
        "duration": 6,
        "start_time": "2023-05-02T12:31:27.822Z"
      },
      {
        "duration": 3,
        "start_time": "2023-05-02T12:36:15.034Z"
      },
      {
        "duration": 91,
        "start_time": "2023-05-02T12:36:15.040Z"
      },
      {
        "duration": 11,
        "start_time": "2023-05-02T12:36:15.133Z"
      },
      {
        "duration": 666,
        "start_time": "2023-05-02T12:36:15.146Z"
      },
      {
        "duration": 24,
        "start_time": "2023-05-02T12:36:15.814Z"
      },
      {
        "duration": 28,
        "start_time": "2023-05-02T12:36:15.840Z"
      },
      {
        "duration": 17,
        "start_time": "2023-05-02T12:36:15.869Z"
      },
      {
        "duration": 3,
        "start_time": "2023-05-02T12:36:15.888Z"
      },
      {
        "duration": 19,
        "start_time": "2023-05-02T12:36:15.893Z"
      },
      {
        "duration": 1173,
        "start_time": "2023-05-02T12:36:15.915Z"
      },
      {
        "duration": 17,
        "start_time": "2023-05-02T12:36:17.089Z"
      },
      {
        "duration": 0,
        "start_time": "2023-05-02T12:36:17.108Z"
      },
      {
        "duration": 0,
        "start_time": "2023-05-02T12:36:17.109Z"
      },
      {
        "duration": 0,
        "start_time": "2023-05-02T12:36:17.110Z"
      },
      {
        "duration": 0,
        "start_time": "2023-05-02T12:36:17.112Z"
      },
      {
        "duration": 0,
        "start_time": "2023-05-02T12:36:17.113Z"
      },
      {
        "duration": 0,
        "start_time": "2023-05-02T12:36:17.114Z"
      },
      {
        "duration": 0,
        "start_time": "2023-05-02T12:36:17.115Z"
      },
      {
        "duration": 0,
        "start_time": "2023-05-02T12:36:17.116Z"
      },
      {
        "duration": 0,
        "start_time": "2023-05-02T12:36:17.117Z"
      },
      {
        "duration": 17,
        "start_time": "2023-05-02T12:36:35.595Z"
      },
      {
        "duration": 4,
        "start_time": "2023-05-02T12:37:12.915Z"
      },
      {
        "duration": 58,
        "start_time": "2023-05-02T12:37:12.921Z"
      },
      {
        "duration": 11,
        "start_time": "2023-05-02T12:37:12.980Z"
      },
      {
        "duration": 701,
        "start_time": "2023-05-02T12:37:12.993Z"
      },
      {
        "duration": 24,
        "start_time": "2023-05-02T12:37:13.696Z"
      },
      {
        "duration": 9,
        "start_time": "2023-05-02T12:37:13.722Z"
      },
      {
        "duration": 33,
        "start_time": "2023-05-02T12:37:13.733Z"
      },
      {
        "duration": 6,
        "start_time": "2023-05-02T12:37:13.768Z"
      },
      {
        "duration": 12,
        "start_time": "2023-05-02T12:37:13.776Z"
      },
      {
        "duration": 1188,
        "start_time": "2023-05-02T12:37:13.791Z"
      },
      {
        "duration": 199,
        "start_time": "2023-05-02T12:37:14.981Z"
      },
      {
        "duration": 562,
        "start_time": "2023-05-02T12:37:15.182Z"
      },
      {
        "duration": 7981,
        "start_time": "2023-05-02T12:37:15.745Z"
      },
      {
        "duration": 247,
        "start_time": "2023-05-02T12:37:23.728Z"
      },
      {
        "duration": 38,
        "start_time": "2023-05-02T12:37:23.977Z"
      },
      {
        "duration": 0,
        "start_time": "2023-05-02T12:37:24.017Z"
      },
      {
        "duration": 0,
        "start_time": "2023-05-02T12:37:24.018Z"
      },
      {
        "duration": 0,
        "start_time": "2023-05-02T12:37:24.020Z"
      },
      {
        "duration": 0,
        "start_time": "2023-05-02T12:37:24.020Z"
      },
      {
        "duration": 0,
        "start_time": "2023-05-02T12:37:24.022Z"
      },
      {
        "duration": 1237,
        "start_time": "2023-05-02T12:40:42.382Z"
      },
      {
        "duration": 1320,
        "start_time": "2023-05-02T12:41:00.326Z"
      },
      {
        "duration": 1379,
        "start_time": "2023-05-02T12:41:22.534Z"
      },
      {
        "duration": 1421,
        "start_time": "2023-05-02T12:41:41.795Z"
      },
      {
        "duration": 3,
        "start_time": "2023-05-02T12:42:11.832Z"
      },
      {
        "duration": 173,
        "start_time": "2023-05-02T12:42:11.837Z"
      },
      {
        "duration": 14,
        "start_time": "2023-05-02T12:42:12.011Z"
      },
      {
        "duration": 680,
        "start_time": "2023-05-02T12:42:12.027Z"
      },
      {
        "duration": 25,
        "start_time": "2023-05-02T12:42:12.709Z"
      },
      {
        "duration": 47,
        "start_time": "2023-05-02T12:42:12.736Z"
      },
      {
        "duration": 16,
        "start_time": "2023-05-02T12:42:12.787Z"
      },
      {
        "duration": 4,
        "start_time": "2023-05-02T12:42:12.805Z"
      },
      {
        "duration": 5,
        "start_time": "2023-05-02T12:42:12.811Z"
      },
      {
        "duration": 1349,
        "start_time": "2023-05-02T12:42:12.818Z"
      },
      {
        "duration": 218,
        "start_time": "2023-05-02T12:42:14.169Z"
      },
      {
        "duration": 642,
        "start_time": "2023-05-02T12:42:14.389Z"
      },
      {
        "duration": 8171,
        "start_time": "2023-05-02T12:42:15.033Z"
      },
      {
        "duration": 246,
        "start_time": "2023-05-02T12:42:23.207Z"
      },
      {
        "duration": 1368,
        "start_time": "2023-05-02T12:42:23.458Z"
      },
      {
        "duration": 155,
        "start_time": "2023-05-02T12:42:24.828Z"
      },
      {
        "duration": 5,
        "start_time": "2023-05-02T12:42:24.986Z"
      },
      {
        "duration": 6,
        "start_time": "2023-05-02T12:42:24.993Z"
      },
      {
        "duration": 4,
        "start_time": "2023-05-02T12:42:25.001Z"
      },
      {
        "duration": 9,
        "start_time": "2023-05-02T12:42:25.006Z"
      }
    ],
    "kernelspec": {
      "display_name": "Python 3 (ipykernel)",
      "language": "python",
      "name": "python3"
    },
    "language_info": {
      "codemirror_mode": {
        "name": "ipython",
        "version": 3
      },
      "file_extension": ".py",
      "mimetype": "text/x-python",
      "name": "python",
      "nbconvert_exporter": "python",
      "pygments_lexer": "ipython3",
      "version": "3.11.2"
    },
    "toc": {
      "base_numbering": 1,
      "nav_menu": {},
      "number_sections": true,
      "sideBar": true,
      "skip_h1_title": true,
      "title_cell": "Table of Contents",
      "title_sidebar": "Contents",
      "toc_cell": false,
      "toc_position": {},
      "toc_section_display": true,
      "toc_window_display": false
    },
    "colab": {
      "provenance": []
    }
  },
  "nbformat": 4,
  "nbformat_minor": 0
}