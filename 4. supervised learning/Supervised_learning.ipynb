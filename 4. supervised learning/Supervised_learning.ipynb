{
  "cells": [
    {
      "cell_type": "markdown",
      "metadata": {
        "id": "JDKfhEdvKDy6"
      },
      "source": [
        "# Отток клиентов"
      ]
    },
    {
      "cell_type": "markdown",
      "metadata": {
        "id": "MXOLkp0AKDy6"
      },
      "source": [
        "Из «Бета-Банка» стали уходить клиенты. Каждый месяц. Немного, но заметно. Банковские маркетологи посчитали: сохранять текущих клиентов дешевле, чем привлекать новых.\n",
        "\n",
        "Нужно спрогнозировать, уйдёт клиент из банка в ближайшее время или нет. Вам предоставлены исторические данные о поведении клиентов и расторжении договоров с банком.\n",
        "\n",
        "Постройте модель с предельно большим значением *F1*-меры. Чтобы сдать проект успешно, нужно довести метрику до 0.59. Проверьте *F1*-меру на тестовой выборке самостоятельно.\n",
        "\n",
        "Дополнительно измеряйте *AUC-ROC*, сравнивайте её значение с *F1*-мерой.\n",
        "\n",
        "Источник данных: [https://www.kaggle.com/barelydedicated/bank-customer-churn-modeling](https://www.kaggle.com/barelydedicated/bank-customer-churn-modeling)"
      ]
    },
    {
      "cell_type": "code",
      "execution_count": 1,
      "metadata": {
        "colab": {
          "base_uri": "https://localhost:8080/"
        },
        "id": "4C3VhW-UKDy7",
        "outputId": "5ed28e93-0f6c-475b-bb2f-c75b0b1dc511"
      },
      "outputs": [
        {
          "output_type": "stream",
          "name": "stdout",
          "text": [
            "Collecting imblearn\n",
            "  Downloading imblearn-0.0-py2.py3-none-any.whl (1.9 kB)\n",
            "Requirement already satisfied: imbalanced-learn in /usr/local/lib/python3.10/dist-packages (from imblearn) (0.10.1)\n",
            "Requirement already satisfied: numpy>=1.17.3 in /usr/local/lib/python3.10/dist-packages (from imbalanced-learn->imblearn) (1.23.5)\n",
            "Requirement already satisfied: scipy>=1.3.2 in /usr/local/lib/python3.10/dist-packages (from imbalanced-learn->imblearn) (1.11.3)\n",
            "Requirement already satisfied: scikit-learn>=1.0.2 in /usr/local/lib/python3.10/dist-packages (from imbalanced-learn->imblearn) (1.2.2)\n",
            "Requirement already satisfied: joblib>=1.1.1 in /usr/local/lib/python3.10/dist-packages (from imbalanced-learn->imblearn) (1.3.2)\n",
            "Requirement already satisfied: threadpoolctl>=2.0.0 in /usr/local/lib/python3.10/dist-packages (from imbalanced-learn->imblearn) (3.2.0)\n",
            "Installing collected packages: imblearn\n",
            "Successfully installed imblearn-0.0\n"
          ]
        }
      ],
      "source": [
        "!pip install imblearn"
      ]
    },
    {
      "cell_type": "code",
      "execution_count": 2,
      "metadata": {
        "id": "JyfOyZ11KDy8"
      },
      "outputs": [],
      "source": [
        "import pandas as pd\n",
        "from tqdm import tqdm\n",
        "import matplotlib.pyplot as plt\n",
        "from sklearn.tree import DecisionTreeClassifier\n",
        "from sklearn.ensemble import RandomForestClassifier\n",
        "from sklearn.linear_model import LogisticRegression\n",
        "from sklearn.metrics import f1_score, roc_auc_score\n",
        "from sklearn.model_selection import train_test_split, cross_val_score, GridSearchCV\n",
        "from sklearn.utils import shuffle\n",
        "from sklearn.preprocessing import StandardScaler\n",
        "from imblearn.over_sampling import SMOTE"
      ]
    },
    {
      "cell_type": "markdown",
      "metadata": {
        "id": "2XupL5FxKDy8"
      },
      "source": [
        "## Подготовка данных"
      ]
    },
    {
      "cell_type": "code",
      "execution_count": 3,
      "metadata": {
        "scrolled": true,
        "colab": {
          "base_uri": "https://localhost:8080/",
          "height": 206
        },
        "id": "_EV70-0UKDy8",
        "outputId": "c91fe0f1-7bd6-40ba-89cd-5bfef45418fa"
      },
      "outputs": [
        {
          "output_type": "execute_result",
          "data": {
            "text/plain": [
              "   RowNumber  CustomerId   Surname  CreditScore Geography  Gender  Age  \\\n",
              "0          1    15634602  Hargrave          619    France  Female   42   \n",
              "1          2    15647311      Hill          608     Spain  Female   41   \n",
              "2          3    15619304      Onio          502    France  Female   42   \n",
              "3          4    15701354      Boni          699    France  Female   39   \n",
              "4          5    15737888  Mitchell          850     Spain  Female   43   \n",
              "\n",
              "   Tenure    Balance  NumOfProducts  HasCrCard  IsActiveMember  \\\n",
              "0     2.0       0.00              1          1               1   \n",
              "1     1.0   83807.86              1          0               1   \n",
              "2     8.0  159660.80              3          1               0   \n",
              "3     1.0       0.00              2          0               0   \n",
              "4     2.0  125510.82              1          1               1   \n",
              "\n",
              "   EstimatedSalary  Exited  \n",
              "0        101348.88       1  \n",
              "1        112542.58       0  \n",
              "2        113931.57       1  \n",
              "3         93826.63       0  \n",
              "4         79084.10       0  "
            ],
            "text/html": [
              "\n",
              "  <div id=\"df-bb20ed57-04cd-40d3-a1de-aa2d7c74f0b6\" class=\"colab-df-container\">\n",
              "    <div>\n",
              "<style scoped>\n",
              "    .dataframe tbody tr th:only-of-type {\n",
              "        vertical-align: middle;\n",
              "    }\n",
              "\n",
              "    .dataframe tbody tr th {\n",
              "        vertical-align: top;\n",
              "    }\n",
              "\n",
              "    .dataframe thead th {\n",
              "        text-align: right;\n",
              "    }\n",
              "</style>\n",
              "<table border=\"1\" class=\"dataframe\">\n",
              "  <thead>\n",
              "    <tr style=\"text-align: right;\">\n",
              "      <th></th>\n",
              "      <th>RowNumber</th>\n",
              "      <th>CustomerId</th>\n",
              "      <th>Surname</th>\n",
              "      <th>CreditScore</th>\n",
              "      <th>Geography</th>\n",
              "      <th>Gender</th>\n",
              "      <th>Age</th>\n",
              "      <th>Tenure</th>\n",
              "      <th>Balance</th>\n",
              "      <th>NumOfProducts</th>\n",
              "      <th>HasCrCard</th>\n",
              "      <th>IsActiveMember</th>\n",
              "      <th>EstimatedSalary</th>\n",
              "      <th>Exited</th>\n",
              "    </tr>\n",
              "  </thead>\n",
              "  <tbody>\n",
              "    <tr>\n",
              "      <th>0</th>\n",
              "      <td>1</td>\n",
              "      <td>15634602</td>\n",
              "      <td>Hargrave</td>\n",
              "      <td>619</td>\n",
              "      <td>France</td>\n",
              "      <td>Female</td>\n",
              "      <td>42</td>\n",
              "      <td>2.0</td>\n",
              "      <td>0.00</td>\n",
              "      <td>1</td>\n",
              "      <td>1</td>\n",
              "      <td>1</td>\n",
              "      <td>101348.88</td>\n",
              "      <td>1</td>\n",
              "    </tr>\n",
              "    <tr>\n",
              "      <th>1</th>\n",
              "      <td>2</td>\n",
              "      <td>15647311</td>\n",
              "      <td>Hill</td>\n",
              "      <td>608</td>\n",
              "      <td>Spain</td>\n",
              "      <td>Female</td>\n",
              "      <td>41</td>\n",
              "      <td>1.0</td>\n",
              "      <td>83807.86</td>\n",
              "      <td>1</td>\n",
              "      <td>0</td>\n",
              "      <td>1</td>\n",
              "      <td>112542.58</td>\n",
              "      <td>0</td>\n",
              "    </tr>\n",
              "    <tr>\n",
              "      <th>2</th>\n",
              "      <td>3</td>\n",
              "      <td>15619304</td>\n",
              "      <td>Onio</td>\n",
              "      <td>502</td>\n",
              "      <td>France</td>\n",
              "      <td>Female</td>\n",
              "      <td>42</td>\n",
              "      <td>8.0</td>\n",
              "      <td>159660.80</td>\n",
              "      <td>3</td>\n",
              "      <td>1</td>\n",
              "      <td>0</td>\n",
              "      <td>113931.57</td>\n",
              "      <td>1</td>\n",
              "    </tr>\n",
              "    <tr>\n",
              "      <th>3</th>\n",
              "      <td>4</td>\n",
              "      <td>15701354</td>\n",
              "      <td>Boni</td>\n",
              "      <td>699</td>\n",
              "      <td>France</td>\n",
              "      <td>Female</td>\n",
              "      <td>39</td>\n",
              "      <td>1.0</td>\n",
              "      <td>0.00</td>\n",
              "      <td>2</td>\n",
              "      <td>0</td>\n",
              "      <td>0</td>\n",
              "      <td>93826.63</td>\n",
              "      <td>0</td>\n",
              "    </tr>\n",
              "    <tr>\n",
              "      <th>4</th>\n",
              "      <td>5</td>\n",
              "      <td>15737888</td>\n",
              "      <td>Mitchell</td>\n",
              "      <td>850</td>\n",
              "      <td>Spain</td>\n",
              "      <td>Female</td>\n",
              "      <td>43</td>\n",
              "      <td>2.0</td>\n",
              "      <td>125510.82</td>\n",
              "      <td>1</td>\n",
              "      <td>1</td>\n",
              "      <td>1</td>\n",
              "      <td>79084.10</td>\n",
              "      <td>0</td>\n",
              "    </tr>\n",
              "  </tbody>\n",
              "</table>\n",
              "</div>\n",
              "    <div class=\"colab-df-buttons\">\n",
              "\n",
              "  <div class=\"colab-df-container\">\n",
              "    <button class=\"colab-df-convert\" onclick=\"convertToInteractive('df-bb20ed57-04cd-40d3-a1de-aa2d7c74f0b6')\"\n",
              "            title=\"Convert this dataframe to an interactive table.\"\n",
              "            style=\"display:none;\">\n",
              "\n",
              "  <svg xmlns=\"http://www.w3.org/2000/svg\" height=\"24px\" viewBox=\"0 -960 960 960\">\n",
              "    <path d=\"M120-120v-720h720v720H120Zm60-500h600v-160H180v160Zm220 220h160v-160H400v160Zm0 220h160v-160H400v160ZM180-400h160v-160H180v160Zm440 0h160v-160H620v160ZM180-180h160v-160H180v160Zm440 0h160v-160H620v160Z\"/>\n",
              "  </svg>\n",
              "    </button>\n",
              "\n",
              "  <style>\n",
              "    .colab-df-container {\n",
              "      display:flex;\n",
              "      gap: 12px;\n",
              "    }\n",
              "\n",
              "    .colab-df-convert {\n",
              "      background-color: #E8F0FE;\n",
              "      border: none;\n",
              "      border-radius: 50%;\n",
              "      cursor: pointer;\n",
              "      display: none;\n",
              "      fill: #1967D2;\n",
              "      height: 32px;\n",
              "      padding: 0 0 0 0;\n",
              "      width: 32px;\n",
              "    }\n",
              "\n",
              "    .colab-df-convert:hover {\n",
              "      background-color: #E2EBFA;\n",
              "      box-shadow: 0px 1px 2px rgba(60, 64, 67, 0.3), 0px 1px 3px 1px rgba(60, 64, 67, 0.15);\n",
              "      fill: #174EA6;\n",
              "    }\n",
              "\n",
              "    .colab-df-buttons div {\n",
              "      margin-bottom: 4px;\n",
              "    }\n",
              "\n",
              "    [theme=dark] .colab-df-convert {\n",
              "      background-color: #3B4455;\n",
              "      fill: #D2E3FC;\n",
              "    }\n",
              "\n",
              "    [theme=dark] .colab-df-convert:hover {\n",
              "      background-color: #434B5C;\n",
              "      box-shadow: 0px 1px 3px 1px rgba(0, 0, 0, 0.15);\n",
              "      filter: drop-shadow(0px 1px 2px rgba(0, 0, 0, 0.3));\n",
              "      fill: #FFFFFF;\n",
              "    }\n",
              "  </style>\n",
              "\n",
              "    <script>\n",
              "      const buttonEl =\n",
              "        document.querySelector('#df-bb20ed57-04cd-40d3-a1de-aa2d7c74f0b6 button.colab-df-convert');\n",
              "      buttonEl.style.display =\n",
              "        google.colab.kernel.accessAllowed ? 'block' : 'none';\n",
              "\n",
              "      async function convertToInteractive(key) {\n",
              "        const element = document.querySelector('#df-bb20ed57-04cd-40d3-a1de-aa2d7c74f0b6');\n",
              "        const dataTable =\n",
              "          await google.colab.kernel.invokeFunction('convertToInteractive',\n",
              "                                                    [key], {});\n",
              "        if (!dataTable) return;\n",
              "\n",
              "        const docLinkHtml = 'Like what you see? Visit the ' +\n",
              "          '<a target=\"_blank\" href=https://colab.research.google.com/notebooks/data_table.ipynb>data table notebook</a>'\n",
              "          + ' to learn more about interactive tables.';\n",
              "        element.innerHTML = '';\n",
              "        dataTable['output_type'] = 'display_data';\n",
              "        await google.colab.output.renderOutput(dataTable, element);\n",
              "        const docLink = document.createElement('div');\n",
              "        docLink.innerHTML = docLinkHtml;\n",
              "        element.appendChild(docLink);\n",
              "      }\n",
              "    </script>\n",
              "  </div>\n",
              "\n",
              "\n",
              "<div id=\"df-ceeba33a-e534-468b-88c1-bd2d1a4d0849\">\n",
              "  <button class=\"colab-df-quickchart\" onclick=\"quickchart('df-ceeba33a-e534-468b-88c1-bd2d1a4d0849')\"\n",
              "            title=\"Suggest charts.\"\n",
              "            style=\"display:none;\">\n",
              "\n",
              "<svg xmlns=\"http://www.w3.org/2000/svg\" height=\"24px\"viewBox=\"0 0 24 24\"\n",
              "     width=\"24px\">\n",
              "    <g>\n",
              "        <path d=\"M19 3H5c-1.1 0-2 .9-2 2v14c0 1.1.9 2 2 2h14c1.1 0 2-.9 2-2V5c0-1.1-.9-2-2-2zM9 17H7v-7h2v7zm4 0h-2V7h2v10zm4 0h-2v-4h2v4z\"/>\n",
              "    </g>\n",
              "</svg>\n",
              "  </button>\n",
              "\n",
              "<style>\n",
              "  .colab-df-quickchart {\n",
              "      --bg-color: #E8F0FE;\n",
              "      --fill-color: #1967D2;\n",
              "      --hover-bg-color: #E2EBFA;\n",
              "      --hover-fill-color: #174EA6;\n",
              "      --disabled-fill-color: #AAA;\n",
              "      --disabled-bg-color: #DDD;\n",
              "  }\n",
              "\n",
              "  [theme=dark] .colab-df-quickchart {\n",
              "      --bg-color: #3B4455;\n",
              "      --fill-color: #D2E3FC;\n",
              "      --hover-bg-color: #434B5C;\n",
              "      --hover-fill-color: #FFFFFF;\n",
              "      --disabled-bg-color: #3B4455;\n",
              "      --disabled-fill-color: #666;\n",
              "  }\n",
              "\n",
              "  .colab-df-quickchart {\n",
              "    background-color: var(--bg-color);\n",
              "    border: none;\n",
              "    border-radius: 50%;\n",
              "    cursor: pointer;\n",
              "    display: none;\n",
              "    fill: var(--fill-color);\n",
              "    height: 32px;\n",
              "    padding: 0;\n",
              "    width: 32px;\n",
              "  }\n",
              "\n",
              "  .colab-df-quickchart:hover {\n",
              "    background-color: var(--hover-bg-color);\n",
              "    box-shadow: 0 1px 2px rgba(60, 64, 67, 0.3), 0 1px 3px 1px rgba(60, 64, 67, 0.15);\n",
              "    fill: var(--button-hover-fill-color);\n",
              "  }\n",
              "\n",
              "  .colab-df-quickchart-complete:disabled,\n",
              "  .colab-df-quickchart-complete:disabled:hover {\n",
              "    background-color: var(--disabled-bg-color);\n",
              "    fill: var(--disabled-fill-color);\n",
              "    box-shadow: none;\n",
              "  }\n",
              "\n",
              "  .colab-df-spinner {\n",
              "    border: 2px solid var(--fill-color);\n",
              "    border-color: transparent;\n",
              "    border-bottom-color: var(--fill-color);\n",
              "    animation:\n",
              "      spin 1s steps(1) infinite;\n",
              "  }\n",
              "\n",
              "  @keyframes spin {\n",
              "    0% {\n",
              "      border-color: transparent;\n",
              "      border-bottom-color: var(--fill-color);\n",
              "      border-left-color: var(--fill-color);\n",
              "    }\n",
              "    20% {\n",
              "      border-color: transparent;\n",
              "      border-left-color: var(--fill-color);\n",
              "      border-top-color: var(--fill-color);\n",
              "    }\n",
              "    30% {\n",
              "      border-color: transparent;\n",
              "      border-left-color: var(--fill-color);\n",
              "      border-top-color: var(--fill-color);\n",
              "      border-right-color: var(--fill-color);\n",
              "    }\n",
              "    40% {\n",
              "      border-color: transparent;\n",
              "      border-right-color: var(--fill-color);\n",
              "      border-top-color: var(--fill-color);\n",
              "    }\n",
              "    60% {\n",
              "      border-color: transparent;\n",
              "      border-right-color: var(--fill-color);\n",
              "    }\n",
              "    80% {\n",
              "      border-color: transparent;\n",
              "      border-right-color: var(--fill-color);\n",
              "      border-bottom-color: var(--fill-color);\n",
              "    }\n",
              "    90% {\n",
              "      border-color: transparent;\n",
              "      border-bottom-color: var(--fill-color);\n",
              "    }\n",
              "  }\n",
              "</style>\n",
              "\n",
              "  <script>\n",
              "    async function quickchart(key) {\n",
              "      const quickchartButtonEl =\n",
              "        document.querySelector('#' + key + ' button');\n",
              "      quickchartButtonEl.disabled = true;  // To prevent multiple clicks.\n",
              "      quickchartButtonEl.classList.add('colab-df-spinner');\n",
              "      try {\n",
              "        const charts = await google.colab.kernel.invokeFunction(\n",
              "            'suggestCharts', [key], {});\n",
              "      } catch (error) {\n",
              "        console.error('Error during call to suggestCharts:', error);\n",
              "      }\n",
              "      quickchartButtonEl.classList.remove('colab-df-spinner');\n",
              "      quickchartButtonEl.classList.add('colab-df-quickchart-complete');\n",
              "    }\n",
              "    (() => {\n",
              "      let quickchartButtonEl =\n",
              "        document.querySelector('#df-ceeba33a-e534-468b-88c1-bd2d1a4d0849 button');\n",
              "      quickchartButtonEl.style.display =\n",
              "        google.colab.kernel.accessAllowed ? 'block' : 'none';\n",
              "    })();\n",
              "  </script>\n",
              "</div>\n",
              "    </div>\n",
              "  </div>\n"
            ]
          },
          "metadata": {},
          "execution_count": 3
        }
      ],
      "source": [
        "df = pd.read_csv('https://code.s3.yandex.net/datasets/Churn.csv')\n",
        "df.head()"
      ]
    },
    {
      "cell_type": "code",
      "execution_count": 4,
      "metadata": {
        "id": "sH_1KpJZKDy9"
      },
      "outputs": [],
      "source": [
        "df.columns = df.columns.str.lower()"
      ]
    },
    {
      "cell_type": "markdown",
      "metadata": {
        "id": "_V4t9ej9KDy9"
      },
      "source": [
        "Ознакомимся с данными"
      ]
    },
    {
      "cell_type": "code",
      "execution_count": 5,
      "metadata": {
        "scrolled": false,
        "colab": {
          "base_uri": "https://localhost:8080/"
        },
        "id": "oA5IlF1eKDy9",
        "outputId": "9f036cd6-f5ba-4d68-b867-88d5f633474f"
      },
      "outputs": [
        {
          "output_type": "stream",
          "name": "stdout",
          "text": [
            "<class 'pandas.core.frame.DataFrame'>\n",
            "RangeIndex: 10000 entries, 0 to 9999\n",
            "Data columns (total 14 columns):\n",
            " #   Column           Non-Null Count  Dtype  \n",
            "---  ------           --------------  -----  \n",
            " 0   rownumber        10000 non-null  int64  \n",
            " 1   customerid       10000 non-null  int64  \n",
            " 2   surname          10000 non-null  object \n",
            " 3   creditscore      10000 non-null  int64  \n",
            " 4   geography        10000 non-null  object \n",
            " 5   gender           10000 non-null  object \n",
            " 6   age              10000 non-null  int64  \n",
            " 7   tenure           9091 non-null   float64\n",
            " 8   balance          10000 non-null  float64\n",
            " 9   numofproducts    10000 non-null  int64  \n",
            " 10  hascrcard        10000 non-null  int64  \n",
            " 11  isactivemember   10000 non-null  int64  \n",
            " 12  estimatedsalary  10000 non-null  float64\n",
            " 13  exited           10000 non-null  int64  \n",
            "dtypes: float64(3), int64(8), object(3)\n",
            "memory usage: 1.1+ MB\n"
          ]
        }
      ],
      "source": [
        "df.info()"
      ]
    },
    {
      "cell_type": "code",
      "execution_count": 6,
      "metadata": {
        "colab": {
          "base_uri": "https://localhost:8080/",
          "height": 1000
        },
        "id": "BeKvQAGDKDy9",
        "outputId": "bfd02859-af9b-4f88-c8f3-858f049353e7"
      },
      "outputs": [
        {
          "output_type": "display_data",
          "data": {
            "text/plain": [
              "<Figure size 1600x1200 with 12 Axes>"
            ],
            "image/png": "[encoded data removed]"
          },
          "metadata": {}
        }
      ],
      "source": [
        "df.hist(figsize = (16, 12));"
      ]
    },
    {
      "cell_type": "markdown",
      "metadata": {
        "id": "3BFdYru9KDy9"
      },
      "source": [
        "В столбце `tenure` большое количество пропусков. Посмотрим на распределение параметров там, где они встречаются"
      ]
    },
    {
      "cell_type": "code",
      "execution_count": 7,
      "metadata": {
        "scrolled": false,
        "colab": {
          "base_uri": "https://localhost:8080/",
          "height": 1000
        },
        "id": "s1k9SBOyKDy-",
        "outputId": "ec7b4469-1fbf-488c-e022-040df4864650"
      },
      "outputs": [
        {
          "output_type": "display_data",
          "data": {
            "text/plain": [
              "<Figure size 1600x1200 with 12 Axes>"
            ],
            "image/png": "[encoded data removed]"
          },
          "metadata": {}
        }
      ],
      "source": [
        "df[df['tenure'].isna()].hist(figsize = (16, 12));"
      ]
    },
    {
      "cell_type": "markdown",
      "metadata": {
        "id": "4I5H6z1JKDy-"
      },
      "source": [
        "- На гистограммах не видно особых закономерностей в пропущенных данных, по которым их можно было бы восстановить.\n",
        "- Форма распределения всех признаков в экземплярах с пропусками и без них примерно одинакова.\n",
        "- Количество данных с пропусками составляет около 10% датасета.\n",
        "\n",
        "Удалим пропущенные данные."
      ]
    },
    {
      "cell_type": "code",
      "execution_count": 8,
      "metadata": {
        "id": "BTv81bcvKDy-"
      },
      "outputs": [],
      "source": [
        "df = df.dropna()"
      ]
    },
    {
      "cell_type": "markdown",
      "metadata": {
        "id": "dUePyIlQKDy_"
      },
      "source": [
        "Имена пользователей, их ID и порядковые номера для анализа не нужны и будут только ухудшать качество моделей, поэтому избавимся от них"
      ]
    },
    {
      "cell_type": "code",
      "execution_count": 9,
      "metadata": {
        "id": "tbOJBTYKKDy_"
      },
      "outputs": [],
      "source": [
        "df = df.loc[:, 'creditscore':]"
      ]
    },
    {
      "cell_type": "markdown",
      "metadata": {
        "id": "88BudkTWKDzA"
      },
      "source": [
        "Преобразуем категориальные признаки (страна, пол) методом OHE"
      ]
    },
    {
      "cell_type": "code",
      "execution_count": 10,
      "metadata": {
        "id": "GiYDL-q5KDzA"
      },
      "outputs": [],
      "source": [
        "df = pd.get_dummies(df, drop_first = True)"
      ]
    },
    {
      "cell_type": "markdown",
      "metadata": {
        "id": "Bu_P6dOeKDzA"
      },
      "source": [
        "## Исследование задачи"
      ]
    },
    {
      "cell_type": "markdown",
      "metadata": {
        "id": "xCrFBsf6KDzA"
      },
      "source": [
        "### Баланс классов"
      ]
    },
    {
      "cell_type": "markdown",
      "metadata": {
        "id": "Ldgc_fPhKDzB"
      },
      "source": [
        "Рассмотрим баланс классов"
      ]
    },
    {
      "cell_type": "code",
      "execution_count": 11,
      "metadata": {
        "colab": {
          "base_uri": "https://localhost:8080/"
        },
        "id": "_cUc75E_KDzB",
        "outputId": "e1e97353-83f1-440f-9b40-f58344509370"
      },
      "outputs": [
        {
          "output_type": "execute_result",
          "data": {
            "text/plain": [
              "0    0.796062\n",
              "1    0.203938\n",
              "Name: exited, dtype: float64"
            ]
          },
          "metadata": {},
          "execution_count": 11
        }
      ],
      "source": [
        "df['exited'].value_counts(normalize = True)"
      ]
    },
    {
      "cell_type": "markdown",
      "metadata": {
        "id": "hsPpMMGVKDzC"
      },
      "source": [
        "Дисбаланс классов в соотношении 4:1.\n",
        "\n",
        "### Разбиение выборки\n",
        "\n",
        "Выделим целевой признак `exited` разделим данные на стратифицированные обучающую и тестовую выборки и проверим что в получившихся выборках соотношение классов одинаковое."
      ]
    },
    {
      "cell_type": "code",
      "execution_count": 12,
      "metadata": {
        "colab": {
          "base_uri": "https://localhost:8080/"
        },
        "id": "ncCpFkT-KDzC",
        "outputId": "fd99862f-f2ba-425f-cba1-d5c4f89ebb7d"
      },
      "outputs": [
        {
          "output_type": "execute_result",
          "data": {
            "text/plain": [
              "(0    0.796067\n",
              " 1    0.203933\n",
              " Name: exited, dtype: float64,\n",
              " 0    0.796042\n",
              " 1    0.203958\n",
              " Name: exited, dtype: float64)"
            ]
          },
          "metadata": {},
          "execution_count": 12
        }
      ],
      "source": [
        "features = df.drop('exited', axis = 1)\n",
        "target = df['exited']\n",
        "x_train, x_test, y_train, y_test = train_test_split(features, target, test_size = 0.2, stratify = target, random_state = 42)\n",
        "y_train.value_counts(normalize = True), y_test.value_counts(normalize = True)"
      ]
    },
    {
      "cell_type": "markdown",
      "metadata": {
        "id": "wxf0H2bZKDzD"
      },
      "source": [
        "Для улучшения качества линейных моделей произведём масштабирование признаков"
      ]
    },
    {
      "cell_type": "code",
      "execution_count": 13,
      "metadata": {
        "colab": {
          "base_uri": "https://localhost:8080/",
          "height": 583
        },
        "id": "-BJ3s8mbKDzD",
        "outputId": "f1d28a67-fd6c-42ed-fc98-f69684bd7a0a"
      },
      "outputs": [
        {
          "output_type": "display_data",
          "data": {
            "text/plain": [
              "        creditscore           age        tenure       balance  numofproducts  \\\n",
              "count  7.272000e+03  7.272000e+03  7.272000e+03  7.272000e+03   7.272000e+03   \n",
              "mean  -5.481497e-16 -6.155692e-17  9.770940e-17 -6.693094e-17   8.403008e-17   \n",
              "std    1.000069e+00  1.000069e+00  1.000069e+00  1.000069e+00   1.000069e+00   \n",
              "min   -3.111186e+00 -1.983304e+00 -1.726848e+00 -1.234838e+00  -9.090866e-01   \n",
              "25%   -6.973763e-01 -6.588203e-01 -1.035691e+00 -1.234838e+00  -9.090866e-01   \n",
              "50%    1.744281e-02 -1.857904e-01  1.045480e-03  3.386257e-01  -9.090866e-01   \n",
              "75%    7.011829e-01  4.764514e-01  6.922030e-01  8.144834e-01   8.183442e-01   \n",
              "max    2.068663e+00  4.639115e+00  1.728939e+00  2.791103e+00   4.273206e+00   \n",
              "\n",
              "       estimatedsalary  \n",
              "count     7.272000e+03  \n",
              "mean     -1.304420e-16  \n",
              "std       1.000069e+00  \n",
              "min      -1.736629e+00  \n",
              "25%      -8.515604e-01  \n",
              "50%      -5.192677e-03  \n",
              "75%       8.564137e-01  \n",
              "max       1.741386e+00  "
            ],
            "text/html": [
              "\n",
              "  <div id=\"df-7c773318-f89b-402d-a288-d623d6a78257\" class=\"colab-df-container\">\n",
              "    <div>\n",
              "<style scoped>\n",
              "    .dataframe tbody tr th:only-of-type {\n",
              "        vertical-align: middle;\n",
              "    }\n",
              "\n",
              "    .dataframe tbody tr th {\n",
              "        vertical-align: top;\n",
              "    }\n",
              "\n",
              "    .dataframe thead th {\n",
              "        text-align: right;\n",
              "    }\n",
              "</style>\n",
              "<table border=\"1\" class=\"dataframe\">\n",
              "  <thead>\n",
              "    <tr style=\"text-align: right;\">\n",
              "      <th></th>\n",
              "      <th>creditscore</th>\n",
              "      <th>age</th>\n",
              "      <th>tenure</th>\n",
              "      <th>balance</th>\n",
              "      <th>numofproducts</th>\n",
              "      <th>estimatedsalary</th>\n",
              "    </tr>\n",
              "  </thead>\n",
              "  <tbody>\n",
              "    <tr>\n",
              "      <th>count</th>\n",
              "      <td>7.272000e+03</td>\n",
              "      <td>7.272000e+03</td>\n",
              "      <td>7.272000e+03</td>\n",
              "      <td>7.272000e+03</td>\n",
              "      <td>7.272000e+03</td>\n",
              "      <td>7.272000e+03</td>\n",
              "    </tr>\n",
              "    <tr>\n",
              "      <th>mean</th>\n",
              "      <td>-5.481497e-16</td>\n",
              "      <td>-6.155692e-17</td>\n",
              "      <td>9.770940e-17</td>\n",
              "      <td>-6.693094e-17</td>\n",
              "      <td>8.403008e-17</td>\n",
              "      <td>-1.304420e-16</td>\n",
              "    </tr>\n",
              "    <tr>\n",
              "      <th>std</th>\n",
              "      <td>1.000069e+00</td>\n",
              "      <td>1.000069e+00</td>\n",
              "      <td>1.000069e+00</td>\n",
              "      <td>1.000069e+00</td>\n",
              "      <td>1.000069e+00</td>\n",
              "      <td>1.000069e+00</td>\n",
              "    </tr>\n",
              "    <tr>\n",
              "      <th>min</th>\n",
              "      <td>-3.111186e+00</td>\n",
              "      <td>-1.983304e+00</td>\n",
              "      <td>-1.726848e+00</td>\n",
              "      <td>-1.234838e+00</td>\n",
              "      <td>-9.090866e-01</td>\n",
              "      <td>-1.736629e+00</td>\n",
              "    </tr>\n",
              "    <tr>\n",
              "      <th>25%</th>\n",
              "      <td>-6.973763e-01</td>\n",
              "      <td>-6.588203e-01</td>\n",
              "      <td>-1.035691e+00</td>\n",
              "      <td>-1.234838e+00</td>\n",
              "      <td>-9.090866e-01</td>\n",
              "      <td>-8.515604e-01</td>\n",
              "    </tr>\n",
              "    <tr>\n",
              "      <th>50%</th>\n",
              "      <td>1.744281e-02</td>\n",
              "      <td>-1.857904e-01</td>\n",
              "      <td>1.045480e-03</td>\n",
              "      <td>3.386257e-01</td>\n",
              "      <td>-9.090866e-01</td>\n",
              "      <td>-5.192677e-03</td>\n",
              "    </tr>\n",
              "    <tr>\n",
              "      <th>75%</th>\n",
              "      <td>7.011829e-01</td>\n",
              "      <td>4.764514e-01</td>\n",
              "      <td>6.922030e-01</td>\n",
              "      <td>8.144834e-01</td>\n",
              "      <td>8.183442e-01</td>\n",
              "      <td>8.564137e-01</td>\n",
              "    </tr>\n",
              "    <tr>\n",
              "      <th>max</th>\n",
              "      <td>2.068663e+00</td>\n",
              "      <td>4.639115e+00</td>\n",
              "      <td>1.728939e+00</td>\n",
              "      <td>2.791103e+00</td>\n",
              "      <td>4.273206e+00</td>\n",
              "      <td>1.741386e+00</td>\n",
              "    </tr>\n",
              "  </tbody>\n",
              "</table>\n",
              "</div>\n",
              "    <div class=\"colab-df-buttons\">\n",
              "\n",
              "  <div class=\"colab-df-container\">\n",
              "    <button class=\"colab-df-convert\" onclick=\"convertToInteractive('df-7c773318-f89b-402d-a288-d623d6a78257')\"\n",
              "            title=\"Convert this dataframe to an interactive table.\"\n",
              "            style=\"display:none;\">\n",
              "\n",
              "  <svg xmlns=\"http://www.w3.org/2000/svg\" height=\"24px\" viewBox=\"0 -960 960 960\">\n",
              "    <path d=\"M120-120v-720h720v720H120Zm60-500h600v-160H180v160Zm220 220h160v-160H400v160Zm0 220h160v-160H400v160ZM180-400h160v-160H180v160Zm440 0h160v-160H620v160ZM180-180h160v-160H180v160Zm440 0h160v-160H620v160Z\"/>\n",
              "  </svg>\n",
              "    </button>\n",
              "\n",
              "  <style>\n",
              "    .colab-df-container {\n",
              "      display:flex;\n",
              "      gap: 12px;\n",
              "    }\n",
              "\n",
              "    .colab-df-convert {\n",
              "      background-color: #E8F0FE;\n",
              "      border: none;\n",
              "      border-radius: 50%;\n",
              "      cursor: pointer;\n",
              "      display: none;\n",
              "      fill: #1967D2;\n",
              "      height: 32px;\n",
              "      padding: 0 0 0 0;\n",
              "      width: 32px;\n",
              "    }\n",
              "\n",
              "    .colab-df-convert:hover {\n",
              "      background-color: #E2EBFA;\n",
              "      box-shadow: 0px 1px 2px rgba(60, 64, 67, 0.3), 0px 1px 3px 1px rgba(60, 64, 67, 0.15);\n",
              "      fill: #174EA6;\n",
              "    }\n",
              "\n",
              "    .colab-df-buttons div {\n",
              "      margin-bottom: 4px;\n",
              "    }\n",
              "\n",
              "    [theme=dark] .colab-df-convert {\n",
              "      background-color: #3B4455;\n",
              "      fill: #D2E3FC;\n",
              "    }\n",
              "\n",
              "    [theme=dark] .colab-df-convert:hover {\n",
              "      background-color: #434B5C;\n",
              "      box-shadow: 0px 1px 3px 1px rgba(0, 0, 0, 0.15);\n",
              "      filter: drop-shadow(0px 1px 2px rgba(0, 0, 0, 0.3));\n",
              "      fill: #FFFFFF;\n",
              "    }\n",
              "  </style>\n",
              "\n",
              "    <script>\n",
              "      const buttonEl =\n",
              "        document.querySelector('#df-7c773318-f89b-402d-a288-d623d6a78257 button.colab-df-convert');\n",
              "      buttonEl.style.display =\n",
              "        google.colab.kernel.accessAllowed ? 'block' : 'none';\n",
              "\n",
              "      async function convertToInteractive(key) {\n",
              "        const element = document.querySelector('#df-7c773318-f89b-402d-a288-d623d6a78257');\n",
              "        const dataTable =\n",
              "          await google.colab.kernel.invokeFunction('convertToInteractive',\n",
              "                                                    [key], {});\n",
              "        if (!dataTable) return;\n",
              "\n",
              "        const docLinkHtml = 'Like what you see? Visit the ' +\n",
              "          '<a target=\"_blank\" href=https://colab.research.google.com/notebooks/data_table.ipynb>data table notebook</a>'\n",
              "          + ' to learn more about interactive tables.';\n",
              "        element.innerHTML = '';\n",
              "        dataTable['output_type'] = 'display_data';\n",
              "        await google.colab.output.renderOutput(dataTable, element);\n",
              "        const docLink = document.createElement('div');\n",
              "        docLink.innerHTML = docLinkHtml;\n",
              "        element.appendChild(docLink);\n",
              "      }\n",
              "    </script>\n",
              "  </div>\n",
              "\n",
              "\n",
              "<div id=\"df-86639fcc-983d-4a82-83ce-58981d5bb1cd\">\n",
              "  <button class=\"colab-df-quickchart\" onclick=\"quickchart('df-86639fcc-983d-4a82-83ce-58981d5bb1cd')\"\n",
              "            title=\"Suggest charts.\"\n",
              "            style=\"display:none;\">\n",
              "\n",
              "<svg xmlns=\"http://www.w3.org/2000/svg\" height=\"24px\"viewBox=\"0 0 24 24\"\n",
              "     width=\"24px\">\n",
              "    <g>\n",
              "        <path d=\"M19 3H5c-1.1 0-2 .9-2 2v14c0 1.1.9 2 2 2h14c1.1 0 2-.9 2-2V5c0-1.1-.9-2-2-2zM9 17H7v-7h2v7zm4 0h-2V7h2v10zm4 0h-2v-4h2v4z\"/>\n",
              "    </g>\n",
              "</svg>\n",
              "  </button>\n",
              "\n",
              "<style>\n",
              "  .colab-df-quickchart {\n",
              "      --bg-color: #E8F0FE;\n",
              "      --fill-color: #1967D2;\n",
              "      --hover-bg-color: #E2EBFA;\n",
              "      --hover-fill-color: #174EA6;\n",
              "      --disabled-fill-color: #AAA;\n",
              "      --disabled-bg-color: #DDD;\n",
              "  }\n",
              "\n",
              "  [theme=dark] .colab-df-quickchart {\n",
              "      --bg-color: #3B4455;\n",
              "      --fill-color: #D2E3FC;\n",
              "      --hover-bg-color: #434B5C;\n",
              "      --hover-fill-color: #FFFFFF;\n",
              "      --disabled-bg-color: #3B4455;\n",
              "      --disabled-fill-color: #666;\n",
              "  }\n",
              "\n",
              "  .colab-df-quickchart {\n",
              "    background-color: var(--bg-color);\n",
              "    border: none;\n",
              "    border-radius: 50%;\n",
              "    cursor: pointer;\n",
              "    display: none;\n",
              "    fill: var(--fill-color);\n",
              "    height: 32px;\n",
              "    padding: 0;\n",
              "    width: 32px;\n",
              "  }\n",
              "\n",
              "  .colab-df-quickchart:hover {\n",
              "    background-color: var(--hover-bg-color);\n",
              "    box-shadow: 0 1px 2px rgba(60, 64, 67, 0.3), 0 1px 3px 1px rgba(60, 64, 67, 0.15);\n",
              "    fill: var(--button-hover-fill-color);\n",
              "  }\n",
              "\n",
              "  .colab-df-quickchart-complete:disabled,\n",
              "  .colab-df-quickchart-complete:disabled:hover {\n",
              "    background-color: var(--disabled-bg-color);\n",
              "    fill: var(--disabled-fill-color);\n",
              "    box-shadow: none;\n",
              "  }\n",
              "\n",
              "  .colab-df-spinner {\n",
              "    border: 2px solid var(--fill-color);\n",
              "    border-color: transparent;\n",
              "    border-bottom-color: var(--fill-color);\n",
              "    animation:\n",
              "      spin 1s steps(1) infinite;\n",
              "  }\n",
              "\n",
              "  @keyframes spin {\n",
              "    0% {\n",
              "      border-color: transparent;\n",
              "      border-bottom-color: var(--fill-color);\n",
              "      border-left-color: var(--fill-color);\n",
              "    }\n",
              "    20% {\n",
              "      border-color: transparent;\n",
              "      border-left-color: var(--fill-color);\n",
              "      border-top-color: var(--fill-color);\n",
              "    }\n",
              "    30% {\n",
              "      border-color: transparent;\n",
              "      border-left-color: var(--fill-color);\n",
              "      border-top-color: var(--fill-color);\n",
              "      border-right-color: var(--fill-color);\n",
              "    }\n",
              "    40% {\n",
              "      border-color: transparent;\n",
              "      border-right-color: var(--fill-color);\n",
              "      border-top-color: var(--fill-color);\n",
              "    }\n",
              "    60% {\n",
              "      border-color: transparent;\n",
              "      border-right-color: var(--fill-color);\n",
              "    }\n",
              "    80% {\n",
              "      border-color: transparent;\n",
              "      border-right-color: var(--fill-color);\n",
              "      border-bottom-color: var(--fill-color);\n",
              "    }\n",
              "    90% {\n",
              "      border-color: transparent;\n",
              "      border-bottom-color: var(--fill-color);\n",
              "    }\n",
              "  }\n",
              "</style>\n",
              "\n",
              "  <script>\n",
              "    async function quickchart(key) {\n",
              "      const quickchartButtonEl =\n",
              "        document.querySelector('#' + key + ' button');\n",
              "      quickchartButtonEl.disabled = true;  // To prevent multiple clicks.\n",
              "      quickchartButtonEl.classList.add('colab-df-spinner');\n",
              "      try {\n",
              "        const charts = await google.colab.kernel.invokeFunction(\n",
              "            'suggestCharts', [key], {});\n",
              "      } catch (error) {\n",
              "        console.error('Error during call to suggestCharts:', error);\n",
              "      }\n",
              "      quickchartButtonEl.classList.remove('colab-df-spinner');\n",
              "      quickchartButtonEl.classList.add('colab-df-quickchart-complete');\n",
              "    }\n",
              "    (() => {\n",
              "      let quickchartButtonEl =\n",
              "        document.querySelector('#df-86639fcc-983d-4a82-83ce-58981d5bb1cd button');\n",
              "      quickchartButtonEl.style.display =\n",
              "        google.colab.kernel.accessAllowed ? 'block' : 'none';\n",
              "    })();\n",
              "  </script>\n",
              "</div>\n",
              "    </div>\n",
              "  </div>\n"
            ]
          },
          "metadata": {}
        },
        {
          "output_type": "execute_result",
          "data": {
            "text/plain": [
              "       creditscore          age       tenure      balance  numofproducts  \\\n",
              "count  1819.000000  1819.000000  1819.000000  1819.000000    1819.000000   \n",
              "mean      0.021760    -0.006928     0.001235    -0.034709       0.033925   \n",
              "std       0.993711     0.993067     1.001773     1.000254       1.017630   \n",
              "min      -3.111186    -1.983304    -1.726848    -1.234838      -0.909087   \n",
              "25%      -0.640398    -0.658820    -0.690112    -1.234838      -0.909087   \n",
              "50%       0.038162    -0.185790     0.001045     0.276129       0.818344   \n",
              "75%       0.690823     0.476451     1.037782     0.796712       0.818344   \n",
              "max       2.068663     5.017539     1.728939     2.319904       4.273206   \n",
              "\n",
              "       estimatedsalary  \n",
              "count      1819.000000  \n",
              "mean          0.027464  \n",
              "std           1.010626  \n",
              "min          -1.735263  \n",
              "25%          -0.830302  \n",
              "50%           0.041652  \n",
              "75%           0.889296  \n",
              "max           1.741008  "
            ],
            "text/html": [
              "\n",
              "  <div id=\"df-b0b99c45-2c92-482f-8b35-ed715906ec55\" class=\"colab-df-container\">\n",
              "    <div>\n",
              "<style scoped>\n",
              "    .dataframe tbody tr th:only-of-type {\n",
              "        vertical-align: middle;\n",
              "    }\n",
              "\n",
              "    .dataframe tbody tr th {\n",
              "        vertical-align: top;\n",
              "    }\n",
              "\n",
              "    .dataframe thead th {\n",
              "        text-align: right;\n",
              "    }\n",
              "</style>\n",
              "<table border=\"1\" class=\"dataframe\">\n",
              "  <thead>\n",
              "    <tr style=\"text-align: right;\">\n",
              "      <th></th>\n",
              "      <th>creditscore</th>\n",
              "      <th>age</th>\n",
              "      <th>tenure</th>\n",
              "      <th>balance</th>\n",
              "      <th>numofproducts</th>\n",
              "      <th>estimatedsalary</th>\n",
              "    </tr>\n",
              "  </thead>\n",
              "  <tbody>\n",
              "    <tr>\n",
              "      <th>count</th>\n",
              "      <td>1819.000000</td>\n",
              "      <td>1819.000000</td>\n",
              "      <td>1819.000000</td>\n",
              "      <td>1819.000000</td>\n",
              "      <td>1819.000000</td>\n",
              "      <td>1819.000000</td>\n",
              "    </tr>\n",
              "    <tr>\n",
              "      <th>mean</th>\n",
              "      <td>0.021760</td>\n",
              "      <td>-0.006928</td>\n",
              "      <td>0.001235</td>\n",
              "      <td>-0.034709</td>\n",
              "      <td>0.033925</td>\n",
              "      <td>0.027464</td>\n",
              "    </tr>\n",
              "    <tr>\n",
              "      <th>std</th>\n",
              "      <td>0.993711</td>\n",
              "      <td>0.993067</td>\n",
              "      <td>1.001773</td>\n",
              "      <td>1.000254</td>\n",
              "      <td>1.017630</td>\n",
              "      <td>1.010626</td>\n",
              "    </tr>\n",
              "    <tr>\n",
              "      <th>min</th>\n",
              "      <td>-3.111186</td>\n",
              "      <td>-1.983304</td>\n",
              "      <td>-1.726848</td>\n",
              "      <td>-1.234838</td>\n",
              "      <td>-0.909087</td>\n",
              "      <td>-1.735263</td>\n",
              "    </tr>\n",
              "    <tr>\n",
              "      <th>25%</th>\n",
              "      <td>-0.640398</td>\n",
              "      <td>-0.658820</td>\n",
              "      <td>-0.690112</td>\n",
              "      <td>-1.234838</td>\n",
              "      <td>-0.909087</td>\n",
              "      <td>-0.830302</td>\n",
              "    </tr>\n",
              "    <tr>\n",
              "      <th>50%</th>\n",
              "      <td>0.038162</td>\n",
              "      <td>-0.185790</td>\n",
              "      <td>0.001045</td>\n",
              "      <td>0.276129</td>\n",
              "      <td>0.818344</td>\n",
              "      <td>0.041652</td>\n",
              "    </tr>\n",
              "    <tr>\n",
              "      <th>75%</th>\n",
              "      <td>0.690823</td>\n",
              "      <td>0.476451</td>\n",
              "      <td>1.037782</td>\n",
              "      <td>0.796712</td>\n",
              "      <td>0.818344</td>\n",
              "      <td>0.889296</td>\n",
              "    </tr>\n",
              "    <tr>\n",
              "      <th>max</th>\n",
              "      <td>2.068663</td>\n",
              "      <td>5.017539</td>\n",
              "      <td>1.728939</td>\n",
              "      <td>2.319904</td>\n",
              "      <td>4.273206</td>\n",
              "      <td>1.741008</td>\n",
              "    </tr>\n",
              "  </tbody>\n",
              "</table>\n",
              "</div>\n",
              "    <div class=\"colab-df-buttons\">\n",
              "\n",
              "  <div class=\"colab-df-container\">\n",
              "    <button class=\"colab-df-convert\" onclick=\"convertToInteractive('df-b0b99c45-2c92-482f-8b35-ed715906ec55')\"\n",
              "            title=\"Convert this dataframe to an interactive table.\"\n",
              "            style=\"display:none;\">\n",
              "\n",
              "  <svg xmlns=\"http://www.w3.org/2000/svg\" height=\"24px\" viewBox=\"0 -960 960 960\">\n",
              "    <path d=\"M120-120v-720h720v720H120Zm60-500h600v-160H180v160Zm220 220h160v-160H400v160Zm0 220h160v-160H400v160ZM180-400h160v-160H180v160Zm440 0h160v-160H620v160ZM180-180h160v-160H180v160Zm440 0h160v-160H620v160Z\"/>\n",
              "  </svg>\n",
              "    </button>\n",
              "\n",
              "  <style>\n",
              "    .colab-df-container {\n",
              "      display:flex;\n",
              "      gap: 12px;\n",
              "    }\n",
              "\n",
              "    .colab-df-convert {\n",
              "      background-color: #E8F0FE;\n",
              "      border: none;\n",
              "      border-radius: 50%;\n",
              "      cursor: pointer;\n",
              "      display: none;\n",
              "      fill: #1967D2;\n",
              "      height: 32px;\n",
              "      padding: 0 0 0 0;\n",
              "      width: 32px;\n",
              "    }\n",
              "\n",
              "    .colab-df-convert:hover {\n",
              "      background-color: #E2EBFA;\n",
              "      box-shadow: 0px 1px 2px rgba(60, 64, 67, 0.3), 0px 1px 3px 1px rgba(60, 64, 67, 0.15);\n",
              "      fill: #174EA6;\n",
              "    }\n",
              "\n",
              "    .colab-df-buttons div {\n",
              "      margin-bottom: 4px;\n",
              "    }\n",
              "\n",
              "    [theme=dark] .colab-df-convert {\n",
              "      background-color: #3B4455;\n",
              "      fill: #D2E3FC;\n",
              "    }\n",
              "\n",
              "    [theme=dark] .colab-df-convert:hover {\n",
              "      background-color: #434B5C;\n",
              "      box-shadow: 0px 1px 3px 1px rgba(0, 0, 0, 0.15);\n",
              "      filter: drop-shadow(0px 1px 2px rgba(0, 0, 0, 0.3));\n",
              "      fill: #FFFFFF;\n",
              "    }\n",
              "  </style>\n",
              "\n",
              "    <script>\n",
              "      const buttonEl =\n",
              "        document.querySelector('#df-b0b99c45-2c92-482f-8b35-ed715906ec55 button.colab-df-convert');\n",
              "      buttonEl.style.display =\n",
              "        google.colab.kernel.accessAllowed ? 'block' : 'none';\n",
              "\n",
              "      async function convertToInteractive(key) {\n",
              "        const element = document.querySelector('#df-b0b99c45-2c92-482f-8b35-ed715906ec55');\n",
              "        const dataTable =\n",
              "          await google.colab.kernel.invokeFunction('convertToInteractive',\n",
              "                                                    [key], {});\n",
              "        if (!dataTable) return;\n",
              "\n",
              "        const docLinkHtml = 'Like what you see? Visit the ' +\n",
              "          '<a target=\"_blank\" href=https://colab.research.google.com/notebooks/data_table.ipynb>data table notebook</a>'\n",
              "          + ' to learn more about interactive tables.';\n",
              "        element.innerHTML = '';\n",
              "        dataTable['output_type'] = 'display_data';\n",
              "        await google.colab.output.renderOutput(dataTable, element);\n",
              "        const docLink = document.createElement('div');\n",
              "        docLink.innerHTML = docLinkHtml;\n",
              "        element.appendChild(docLink);\n",
              "      }\n",
              "    </script>\n",
              "  </div>\n",
              "\n",
              "\n",
              "<div id=\"df-a6dc6a1d-93ff-4c89-b5b3-ee08fb305d7c\">\n",
              "  <button class=\"colab-df-quickchart\" onclick=\"quickchart('df-a6dc6a1d-93ff-4c89-b5b3-ee08fb305d7c')\"\n",
              "            title=\"Suggest charts.\"\n",
              "            style=\"display:none;\">\n",
              "\n",
              "<svg xmlns=\"http://www.w3.org/2000/svg\" height=\"24px\"viewBox=\"0 0 24 24\"\n",
              "     width=\"24px\">\n",
              "    <g>\n",
              "        <path d=\"M19 3H5c-1.1 0-2 .9-2 2v14c0 1.1.9 2 2 2h14c1.1 0 2-.9 2-2V5c0-1.1-.9-2-2-2zM9 17H7v-7h2v7zm4 0h-2V7h2v10zm4 0h-2v-4h2v4z\"/>\n",
              "    </g>\n",
              "</svg>\n",
              "  </button>\n",
              "\n",
              "<style>\n",
              "  .colab-df-quickchart {\n",
              "      --bg-color: #E8F0FE;\n",
              "      --fill-color: #1967D2;\n",
              "      --hover-bg-color: #E2EBFA;\n",
              "      --hover-fill-color: #174EA6;\n",
              "      --disabled-fill-color: #AAA;\n",
              "      --disabled-bg-color: #DDD;\n",
              "  }\n",
              "\n",
              "  [theme=dark] .colab-df-quickchart {\n",
              "      --bg-color: #3B4455;\n",
              "      --fill-color: #D2E3FC;\n",
              "      --hover-bg-color: #434B5C;\n",
              "      --hover-fill-color: #FFFFFF;\n",
              "      --disabled-bg-color: #3B4455;\n",
              "      --disabled-fill-color: #666;\n",
              "  }\n",
              "\n",
              "  .colab-df-quickchart {\n",
              "    background-color: var(--bg-color);\n",
              "    border: none;\n",
              "    border-radius: 50%;\n",
              "    cursor: pointer;\n",
              "    display: none;\n",
              "    fill: var(--fill-color);\n",
              "    height: 32px;\n",
              "    padding: 0;\n",
              "    width: 32px;\n",
              "  }\n",
              "\n",
              "  .colab-df-quickchart:hover {\n",
              "    background-color: var(--hover-bg-color);\n",
              "    box-shadow: 0 1px 2px rgba(60, 64, 67, 0.3), 0 1px 3px 1px rgba(60, 64, 67, 0.15);\n",
              "    fill: var(--button-hover-fill-color);\n",
              "  }\n",
              "\n",
              "  .colab-df-quickchart-complete:disabled,\n",
              "  .colab-df-quickchart-complete:disabled:hover {\n",
              "    background-color: var(--disabled-bg-color);\n",
              "    fill: var(--disabled-fill-color);\n",
              "    box-shadow: none;\n",
              "  }\n",
              "\n",
              "  .colab-df-spinner {\n",
              "    border: 2px solid var(--fill-color);\n",
              "    border-color: transparent;\n",
              "    border-bottom-color: var(--fill-color);\n",
              "    animation:\n",
              "      spin 1s steps(1) infinite;\n",
              "  }\n",
              "\n",
              "  @keyframes spin {\n",
              "    0% {\n",
              "      border-color: transparent;\n",
              "      border-bottom-color: var(--fill-color);\n",
              "      border-left-color: var(--fill-color);\n",
              "    }\n",
              "    20% {\n",
              "      border-color: transparent;\n",
              "      border-left-color: var(--fill-color);\n",
              "      border-top-color: var(--fill-color);\n",
              "    }\n",
              "    30% {\n",
              "      border-color: transparent;\n",
              "      border-left-color: var(--fill-color);\n",
              "      border-top-color: var(--fill-color);\n",
              "      border-right-color: var(--fill-color);\n",
              "    }\n",
              "    40% {\n",
              "      border-color: transparent;\n",
              "      border-right-color: var(--fill-color);\n",
              "      border-top-color: var(--fill-color);\n",
              "    }\n",
              "    60% {\n",
              "      border-color: transparent;\n",
              "      border-right-color: var(--fill-color);\n",
              "    }\n",
              "    80% {\n",
              "      border-color: transparent;\n",
              "      border-right-color: var(--fill-color);\n",
              "      border-bottom-color: var(--fill-color);\n",
              "    }\n",
              "    90% {\n",
              "      border-color: transparent;\n",
              "      border-bottom-color: var(--fill-color);\n",
              "    }\n",
              "  }\n",
              "</style>\n",
              "\n",
              "  <script>\n",
              "    async function quickchart(key) {\n",
              "      const quickchartButtonEl =\n",
              "        document.querySelector('#' + key + ' button');\n",
              "      quickchartButtonEl.disabled = true;  // To prevent multiple clicks.\n",
              "      quickchartButtonEl.classList.add('colab-df-spinner');\n",
              "      try {\n",
              "        const charts = await google.colab.kernel.invokeFunction(\n",
              "            'suggestCharts', [key], {});\n",
              "      } catch (error) {\n",
              "        console.error('Error during call to suggestCharts:', error);\n",
              "      }\n",
              "      quickchartButtonEl.classList.remove('colab-df-spinner');\n",
              "      quickchartButtonEl.classList.add('colab-df-quickchart-complete');\n",
              "    }\n",
              "    (() => {\n",
              "      let quickchartButtonEl =\n",
              "        document.querySelector('#df-a6dc6a1d-93ff-4c89-b5b3-ee08fb305d7c button');\n",
              "      quickchartButtonEl.style.display =\n",
              "        google.colab.kernel.accessAllowed ? 'block' : 'none';\n",
              "    })();\n",
              "  </script>\n",
              "</div>\n",
              "    </div>\n",
              "  </div>\n"
            ]
          },
          "metadata": {},
          "execution_count": 13
        }
      ],
      "source": [
        "numeric = ['creditscore', 'age', 'tenure', 'balance', 'numofproducts', 'estimatedsalary']\n",
        "scaler = StandardScaler()\n",
        "scaler.fit(x_train[numeric])\n",
        "x_train[numeric] = scaler.transform(x_train[numeric])\n",
        "x_test[numeric] = scaler.transform(x_test[numeric])\n",
        "display(x_train[numeric].describe())\n",
        "x_test[numeric].describe()"
      ]
    },
    {
      "cell_type": "markdown",
      "metadata": {
        "id": "iNGyMbgHKDzE"
      },
      "source": [
        "### Логистическая регрессия"
      ]
    },
    {
      "cell_type": "markdown",
      "metadata": {
        "id": "yXbVDCzvKDzF"
      },
      "source": [
        "Рассмотрим модель логистичесной регрессии"
      ]
    },
    {
      "cell_type": "code",
      "execution_count": 14,
      "metadata": {
        "colab": {
          "base_uri": "https://localhost:8080/"
        },
        "id": "crrg5XyfKDzF",
        "outputId": "d18aeed5-0760-4b8e-9d76-5c863bf8325a"
      },
      "outputs": [
        {
          "output_type": "execute_result",
          "data": {
            "text/plain": [
              "(0.3221811076806378, 0.7678046042891962)"
            ]
          },
          "metadata": {},
          "execution_count": 14
        }
      ],
      "source": [
        "linear_model = LogisticRegression()\n",
        "linear_f1 = cross_val_score(linear_model, x_train, y_train, cv=5, scoring='f1')\n",
        "linear_roc_auc = cross_val_score(linear_model, x_train, y_train, cv=5, scoring='roc_auc')\n",
        "linear_f1.mean(), linear_roc_auc.mean()"
      ]
    },
    {
      "cell_type": "markdown",
      "metadata": {
        "id": "gSakpf2AKDzF"
      },
      "source": [
        "### Дерево решений"
      ]
    },
    {
      "cell_type": "markdown",
      "metadata": {
        "id": "YcEwg143KDzF"
      },
      "source": [
        "Для подбора параметров Decision Tree и Random Forest воспользуемся функцией `GridSearchCV`"
      ]
    },
    {
      "cell_type": "code",
      "execution_count": 15,
      "metadata": {
        "id": "JBeJBJCdKDzG"
      },
      "outputs": [],
      "source": [
        "scoring = {'f1' : 'f1', 'ROC-AUC' : 'roc_auc'}"
      ]
    },
    {
      "cell_type": "code",
      "execution_count": 16,
      "metadata": {
        "scrolled": true,
        "colab": {
          "base_uri": "https://localhost:8080/",
          "height": 152
        },
        "id": "1xNCN4ynKDzG",
        "outputId": "05481bd8-2313-4e33-cd33-90cebdbde50d"
      },
      "outputs": [
        {
          "output_type": "stream",
          "name": "stdout",
          "text": [
            "CPU times: user 13.1 s, sys: 53 ms, total: 13.2 s\n",
            "Wall time: 13.3 s\n"
          ]
        },
        {
          "output_type": "execute_result",
          "data": {
            "text/plain": [
              "GridSearchCV(cv=5, estimator=DecisionTreeClassifier(random_state=42),\n",
              "             param_grid={'max_depth': [1, 2, 3, 4, 5, 6, 7, 8, 9, 10, 11, 12,\n",
              "                                       13, 14, 15, 16, 17, 18, 19, 20, 21, 22,\n",
              "                                       23, 24, 25, 26, 27, 28, 29, 30, ...]},\n",
              "             refit='f1', return_train_score=True,\n",
              "             scoring={'ROC-AUC': 'roc_auc', 'f1': 'f1'})"
            ],
            "text/html": [
              "<style>#sk-container-id-1 {color: black;background-color: white;}#sk-container-id-1 pre{padding: 0;}#sk-container-id-1 div.sk-toggleable {background-color: white;}#sk-container-id-1 label.sk-toggleable__label {cursor: pointer;display: block;width: 100%;margin-bottom: 0;padding: 0.3em;box-sizing: border-box;text-align: center;}#sk-container-id-1 label.sk-toggleable__label-arrow:before {content: \"▸\";float: left;margin-right: 0.25em;color: #696969;}#sk-container-id-1 label.sk-toggleable__label-arrow:hover:before {color: black;}#sk-container-id-1 div.sk-estimator:hover label.sk-toggleable__label-arrow:before {color: black;}#sk-container-id-1 div.sk-toggleable__content {max-height: 0;max-width: 0;overflow: hidden;text-align: left;background-color: #f0f8ff;}#sk-container-id-1 div.sk-toggleable__content pre {margin: 0.2em;color: black;border-radius: 0.25em;background-color: #f0f8ff;}#sk-container-id-1 input.sk-toggleable__control:checked~div.sk-toggleable__content {max-height: 200px;max-width: 100%;overflow: auto;}#sk-container-id-1 input.sk-toggleable__control:checked~label.sk-toggleable__label-arrow:before {content: \"▾\";}#sk-container-id-1 div.sk-estimator input.sk-toggleable__control:checked~label.sk-toggleable__label {background-color: #d4ebff;}#sk-container-id-1 div.sk-label input.sk-toggleable__control:checked~label.sk-toggleable__label {background-color: #d4ebff;}#sk-container-id-1 input.sk-hidden--visually {border: 0;clip: rect(1px 1px 1px 1px);clip: rect(1px, 1px, 1px, 1px);height: 1px;margin: -1px;overflow: hidden;padding: 0;position: absolute;width: 1px;}#sk-container-id-1 div.sk-estimator {font-family: monospace;background-color: #f0f8ff;border: 1px dotted black;border-radius: 0.25em;box-sizing: border-box;margin-bottom: 0.5em;}#sk-container-id-1 div.sk-estimator:hover {background-color: #d4ebff;}#sk-container-id-1 div.sk-parallel-item::after {content: \"\";width: 100%;border-bottom: 1px solid gray;flex-grow: 1;}#sk-container-id-1 div.sk-label:hover label.sk-toggleable__label {background-color: #d4ebff;}#sk-container-id-1 div.sk-serial::before {content: \"\";position: absolute;border-left: 1px solid gray;box-sizing: border-box;top: 0;bottom: 0;left: 50%;z-index: 0;}#sk-container-id-1 div.sk-serial {display: flex;flex-direction: column;align-items: center;background-color: white;padding-right: 0.2em;padding-left: 0.2em;position: relative;}#sk-container-id-1 div.sk-item {position: relative;z-index: 1;}#sk-container-id-1 div.sk-parallel {display: flex;align-items: stretch;justify-content: center;background-color: white;position: relative;}#sk-container-id-1 div.sk-item::before, #sk-container-id-1 div.sk-parallel-item::before {content: \"\";position: absolute;border-left: 1px solid gray;box-sizing: border-box;top: 0;bottom: 0;left: 50%;z-index: -1;}#sk-container-id-1 div.sk-parallel-item {display: flex;flex-direction: column;z-index: 1;position: relative;background-color: white;}#sk-container-id-1 div.sk-parallel-item:first-child::after {align-self: flex-end;width: 50%;}#sk-container-id-1 div.sk-parallel-item:last-child::after {align-self: flex-start;width: 50%;}#sk-container-id-1 div.sk-parallel-item:only-child::after {width: 0;}#sk-container-id-1 div.sk-dashed-wrapped {border: 1px dashed gray;margin: 0 0.4em 0.5em 0.4em;box-sizing: border-box;padding-bottom: 0.4em;background-color: white;}#sk-container-id-1 div.sk-label label {font-family: monospace;font-weight: bold;display: inline-block;line-height: 1.2em;}#sk-container-id-1 div.sk-label-container {text-align: center;}#sk-container-id-1 div.sk-container {/* jupyter's `normalize.less` sets `[hidden] { display: none; }` but bootstrap.min.css set `[hidden] { display: none !important; }` so we also need the `!important` here to be able to override the default hidden behavior on the sphinx rendered scikit-learn.org. See: https://github.com/scikit-learn/scikit-learn/issues/21755 */display: inline-block !important;position: relative;}#sk-container-id-1 div.sk-text-repr-fallback {display: none;}</style><div id=\"sk-container-id-1\" class=\"sk-top-container\"><div class=\"sk-text-repr-fallback\"><pre>GridSearchCV(cv=5, estimator=DecisionTreeClassifier(random_state=42),\n",
              "             param_grid={&#x27;max_depth&#x27;: [1, 2, 3, 4, 5, 6, 7, 8, 9, 10, 11, 12,\n",
              "                                       13, 14, 15, 16, 17, 18, 19, 20, 21, 22,\n",
              "                                       23, 24, 25, 26, 27, 28, 29, 30, ...]},\n",
              "             refit=&#x27;f1&#x27;, return_train_score=True,\n",
              "             scoring={&#x27;ROC-AUC&#x27;: &#x27;roc_auc&#x27;, &#x27;f1&#x27;: &#x27;f1&#x27;})</pre><b>In a Jupyter environment, please rerun this cell to show the HTML representation or trust the notebook. <br />On GitHub, the HTML representation is unable to render, please try loading this page with nbviewer.org.</b></div><div class=\"sk-container\" hidden><div class=\"sk-item sk-dashed-wrapped\"><div class=\"sk-label-container\"><div class=\"sk-label sk-toggleable\"><input class=\"sk-toggleable__control sk-hidden--visually\" id=\"sk-estimator-id-1\" type=\"checkbox\" ><label for=\"sk-estimator-id-1\" class=\"sk-toggleable__label sk-toggleable__label-arrow\">GridSearchCV</label><div class=\"sk-toggleable__content\"><pre>GridSearchCV(cv=5, estimator=DecisionTreeClassifier(random_state=42),\n",
              "             param_grid={&#x27;max_depth&#x27;: [1, 2, 3, 4, 5, 6, 7, 8, 9, 10, 11, 12,\n",
              "                                       13, 14, 15, 16, 17, 18, 19, 20, 21, 22,\n",
              "                                       23, 24, 25, 26, 27, 28, 29, 30, ...]},\n",
              "             refit=&#x27;f1&#x27;, return_train_score=True,\n",
              "             scoring={&#x27;ROC-AUC&#x27;: &#x27;roc_auc&#x27;, &#x27;f1&#x27;: &#x27;f1&#x27;})</pre></div></div></div><div class=\"sk-parallel\"><div class=\"sk-parallel-item\"><div class=\"sk-item\"><div class=\"sk-label-container\"><div class=\"sk-label sk-toggleable\"><input class=\"sk-toggleable__control sk-hidden--visually\" id=\"sk-estimator-id-2\" type=\"checkbox\" ><label for=\"sk-estimator-id-2\" class=\"sk-toggleable__label sk-toggleable__label-arrow\">estimator: DecisionTreeClassifier</label><div class=\"sk-toggleable__content\"><pre>DecisionTreeClassifier(random_state=42)</pre></div></div></div><div class=\"sk-serial\"><div class=\"sk-item\"><div class=\"sk-estimator sk-toggleable\"><input class=\"sk-toggleable__control sk-hidden--visually\" id=\"sk-estimator-id-3\" type=\"checkbox\" ><label for=\"sk-estimator-id-3\" class=\"sk-toggleable__label sk-toggleable__label-arrow\">DecisionTreeClassifier</label><div class=\"sk-toggleable__content\"><pre>DecisionTreeClassifier(random_state=42)</pre></div></div></div></div></div></div></div></div></div></div>"
            ]
          },
          "metadata": {},
          "execution_count": 16
        }
      ],
      "source": [
        "%%time\n",
        "\n",
        "tree_hyperparams = {'max_depth' : [i for i in range(1, 50)]}\n",
        "\n",
        "tree_search = GridSearchCV(\n",
        "    estimator = DecisionTreeClassifier(random_state = 42),\n",
        "    param_grid = tree_hyperparams,\n",
        "    scoring = scoring,\n",
        "    cv = 5,\n",
        "    refit = 'f1',\n",
        "    return_train_score = True)\n",
        "\n",
        "tree_search.fit(x_train, y_train)"
      ]
    },
    {
      "cell_type": "code",
      "execution_count": 17,
      "metadata": {
        "colab": {
          "base_uri": "https://localhost:8080/",
          "height": 676
        },
        "id": "NB0xN5ppKDzG",
        "outputId": "89741159-28a8-4594-aca4-dca0ccf7acf8"
      },
      "outputs": [
        {
          "output_type": "display_data",
          "data": {
            "text/plain": [
              "<Figure size 1000x800 with 1 Axes>"
            ],
            "image/png": "[encoded data removed]"
          },
          "metadata": {}
        }
      ],
      "source": [
        "def learning_curve(grid_search, figsize = (10, 8)):\n",
        "    pd.DataFrame(\n",
        "        zip(grid_search.cv_results_['mean_train_f1'],\n",
        "            grid_search.cv_results_['mean_test_f1']),\n",
        "        columns = ['train', 'test']).plot(figsize = figsize)\n",
        "\n",
        "def get_final_scores(grid_search):\n",
        "    print ('Лучшая модель \\t', grid_search.best_estimator_)\n",
        "    print ('f1 \\t\\t', grid_search.best_score_)\n",
        "    print ('ROC-AUC \\t', grid_search.cv_results_['mean_test_ROC-AUC'][grid_search.best_index_])\n",
        "\n",
        "learning_curve(tree_search)"
      ]
    },
    {
      "cell_type": "markdown",
      "metadata": {
        "id": "vPWxeuYSKDzG"
      },
      "source": [
        "Выведем лучшую модель, её f1-меру и ROC-AUC"
      ]
    },
    {
      "cell_type": "code",
      "execution_count": 18,
      "metadata": {
        "scrolled": true,
        "colab": {
          "base_uri": "https://localhost:8080/"
        },
        "id": "CA332TWBKDzH",
        "outputId": "cbcfc25e-45ae-48c9-8a9b-d1d8343dd51c"
      },
      "outputs": [
        {
          "output_type": "stream",
          "name": "stdout",
          "text": [
            "Лучшая модель \t DecisionTreeClassifier(max_depth=7, random_state=42)\n",
            "f1 \t\t 0.5587542652349649\n",
            "ROC-AUC \t 0.8313767950054846\n"
          ]
        }
      ],
      "source": [
        "get_final_scores(tree_search)"
      ]
    },
    {
      "cell_type": "markdown",
      "metadata": {
        "id": "P7D6-p0nKDzH"
      },
      "source": [
        "### Случайный лес"
      ]
    },
    {
      "cell_type": "code",
      "execution_count": 19,
      "metadata": {
        "colab": {
          "base_uri": "https://localhost:8080/",
          "height": 152
        },
        "id": "p7R7HgC0KDzH",
        "outputId": "a7fa9c21-e085-432a-d7a7-c752537528df"
      },
      "outputs": [
        {
          "output_type": "stream",
          "name": "stdout",
          "text": [
            "CPU times: user 2min 19s, sys: 378 ms, total: 2min 20s\n",
            "Wall time: 2min 20s\n"
          ]
        },
        {
          "output_type": "execute_result",
          "data": {
            "text/plain": [
              "GridSearchCV(cv=5, estimator=RandomForestClassifier(random_state=42),\n",
              "             param_grid={'max_depth': [1, 2, 3, 4, 5, 6, 7, 8, 9, 10, 11, 12,\n",
              "                                       13, 14, 15, 16, 17, 18, 19],\n",
              "                         'n_estimators': [10, 20, 30, 40, 50]},\n",
              "             refit='f1', return_train_score=True,\n",
              "             scoring={'ROC-AUC': 'roc_auc', 'f1': 'f1'})"
            ],
            "text/html": [
              "<style>#sk-container-id-2 {color: black;background-color: white;}#sk-container-id-2 pre{padding: 0;}#sk-container-id-2 div.sk-toggleable {background-color: white;}#sk-container-id-2 label.sk-toggleable__label {cursor: pointer;display: block;width: 100%;margin-bottom: 0;padding: 0.3em;box-sizing: border-box;text-align: center;}#sk-container-id-2 label.sk-toggleable__label-arrow:before {content: \"▸\";float: left;margin-right: 0.25em;color: #696969;}#sk-container-id-2 label.sk-toggleable__label-arrow:hover:before {color: black;}#sk-container-id-2 div.sk-estimator:hover label.sk-toggleable__label-arrow:before {color: black;}#sk-container-id-2 div.sk-toggleable__content {max-height: 0;max-width: 0;overflow: hidden;text-align: left;background-color: #f0f8ff;}#sk-container-id-2 div.sk-toggleable__content pre {margin: 0.2em;color: black;border-radius: 0.25em;background-color: #f0f8ff;}#sk-container-id-2 input.sk-toggleable__control:checked~div.sk-toggleable__content {max-height: 200px;max-width: 100%;overflow: auto;}#sk-container-id-2 input.sk-toggleable__control:checked~label.sk-toggleable__label-arrow:before {content: \"▾\";}#sk-container-id-2 div.sk-estimator input.sk-toggleable__control:checked~label.sk-toggleable__label {background-color: #d4ebff;}#sk-container-id-2 div.sk-label input.sk-toggleable__control:checked~label.sk-toggleable__label {background-color: #d4ebff;}#sk-container-id-2 input.sk-hidden--visually {border: 0;clip: rect(1px 1px 1px 1px);clip: rect(1px, 1px, 1px, 1px);height: 1px;margin: -1px;overflow: hidden;padding: 0;position: absolute;width: 1px;}#sk-container-id-2 div.sk-estimator {font-family: monospace;background-color: #f0f8ff;border: 1px dotted black;border-radius: 0.25em;box-sizing: border-box;margin-bottom: 0.5em;}#sk-container-id-2 div.sk-estimator:hover {background-color: #d4ebff;}#sk-container-id-2 div.sk-parallel-item::after {content: \"\";width: 100%;border-bottom: 1px solid gray;flex-grow: 1;}#sk-container-id-2 div.sk-label:hover label.sk-toggleable__label {background-color: #d4ebff;}#sk-container-id-2 div.sk-serial::before {content: \"\";position: absolute;border-left: 1px solid gray;box-sizing: border-box;top: 0;bottom: 0;left: 50%;z-index: 0;}#sk-container-id-2 div.sk-serial {display: flex;flex-direction: column;align-items: center;background-color: white;padding-right: 0.2em;padding-left: 0.2em;position: relative;}#sk-container-id-2 div.sk-item {position: relative;z-index: 1;}#sk-container-id-2 div.sk-parallel {display: flex;align-items: stretch;justify-content: center;background-color: white;position: relative;}#sk-container-id-2 div.sk-item::before, #sk-container-id-2 div.sk-parallel-item::before {content: \"\";position: absolute;border-left: 1px solid gray;box-sizing: border-box;top: 0;bottom: 0;left: 50%;z-index: -1;}#sk-container-id-2 div.sk-parallel-item {display: flex;flex-direction: column;z-index: 1;position: relative;background-color: white;}#sk-container-id-2 div.sk-parallel-item:first-child::after {align-self: flex-end;width: 50%;}#sk-container-id-2 div.sk-parallel-item:last-child::after {align-self: flex-start;width: 50%;}#sk-container-id-2 div.sk-parallel-item:only-child::after {width: 0;}#sk-container-id-2 div.sk-dashed-wrapped {border: 1px dashed gray;margin: 0 0.4em 0.5em 0.4em;box-sizing: border-box;padding-bottom: 0.4em;background-color: white;}#sk-container-id-2 div.sk-label label {font-family: monospace;font-weight: bold;display: inline-block;line-height: 1.2em;}#sk-container-id-2 div.sk-label-container {text-align: center;}#sk-container-id-2 div.sk-container {/* jupyter's `normalize.less` sets `[hidden] { display: none; }` but bootstrap.min.css set `[hidden] { display: none !important; }` so we also need the `!important` here to be able to override the default hidden behavior on the sphinx rendered scikit-learn.org. See: https://github.com/scikit-learn/scikit-learn/issues/21755 */display: inline-block !important;position: relative;}#sk-container-id-2 div.sk-text-repr-fallback {display: none;}</style><div id=\"sk-container-id-2\" class=\"sk-top-container\"><div class=\"sk-text-repr-fallback\"><pre>GridSearchCV(cv=5, estimator=RandomForestClassifier(random_state=42),\n",
              "             param_grid={&#x27;max_depth&#x27;: [1, 2, 3, 4, 5, 6, 7, 8, 9, 10, 11, 12,\n",
              "                                       13, 14, 15, 16, 17, 18, 19],\n",
              "                         &#x27;n_estimators&#x27;: [10, 20, 30, 40, 50]},\n",
              "             refit=&#x27;f1&#x27;, return_train_score=True,\n",
              "             scoring={&#x27;ROC-AUC&#x27;: &#x27;roc_auc&#x27;, &#x27;f1&#x27;: &#x27;f1&#x27;})</pre><b>In a Jupyter environment, please rerun this cell to show the HTML representation or trust the notebook. <br />On GitHub, the HTML representation is unable to render, please try loading this page with nbviewer.org.</b></div><div class=\"sk-container\" hidden><div class=\"sk-item sk-dashed-wrapped\"><div class=\"sk-label-container\"><div class=\"sk-label sk-toggleable\"><input class=\"sk-toggleable__control sk-hidden--visually\" id=\"sk-estimator-id-4\" type=\"checkbox\" ><label for=\"sk-estimator-id-4\" class=\"sk-toggleable__label sk-toggleable__label-arrow\">GridSearchCV</label><div class=\"sk-toggleable__content\"><pre>GridSearchCV(cv=5, estimator=RandomForestClassifier(random_state=42),\n",
              "             param_grid={&#x27;max_depth&#x27;: [1, 2, 3, 4, 5, 6, 7, 8, 9, 10, 11, 12,\n",
              "                                       13, 14, 15, 16, 17, 18, 19],\n",
              "                         &#x27;n_estimators&#x27;: [10, 20, 30, 40, 50]},\n",
              "             refit=&#x27;f1&#x27;, return_train_score=True,\n",
              "             scoring={&#x27;ROC-AUC&#x27;: &#x27;roc_auc&#x27;, &#x27;f1&#x27;: &#x27;f1&#x27;})</pre></div></div></div><div class=\"sk-parallel\"><div class=\"sk-parallel-item\"><div class=\"sk-item\"><div class=\"sk-label-container\"><div class=\"sk-label sk-toggleable\"><input class=\"sk-toggleable__control sk-hidden--visually\" id=\"sk-estimator-id-5\" type=\"checkbox\" ><label for=\"sk-estimator-id-5\" class=\"sk-toggleable__label sk-toggleable__label-arrow\">estimator: RandomForestClassifier</label><div class=\"sk-toggleable__content\"><pre>RandomForestClassifier(random_state=42)</pre></div></div></div><div class=\"sk-serial\"><div class=\"sk-item\"><div class=\"sk-estimator sk-toggleable\"><input class=\"sk-toggleable__control sk-hidden--visually\" id=\"sk-estimator-id-6\" type=\"checkbox\" ><label for=\"sk-estimator-id-6\" class=\"sk-toggleable__label sk-toggleable__label-arrow\">RandomForestClassifier</label><div class=\"sk-toggleable__content\"><pre>RandomForestClassifier(random_state=42)</pre></div></div></div></div></div></div></div></div></div></div>"
            ]
          },
          "metadata": {},
          "execution_count": 19
        }
      ],
      "source": [
        "%%time\n",
        "\n",
        "forest_hyperparams = {'n_estimators' : [i for i in range(10, 51, 10)], 'max_depth' : [i for i in range(1, 20)]}\n",
        "\n",
        "forest_search = GridSearchCV(\n",
        "    estimator = RandomForestClassifier(random_state = 42),\n",
        "    param_grid = forest_hyperparams,\n",
        "    scoring = scoring,\n",
        "    cv = 5,\n",
        "    refit = 'f1',\n",
        "    return_train_score = True)\n",
        "\n",
        "forest_search.fit(x_train, y_train)"
      ]
    },
    {
      "cell_type": "code",
      "execution_count": 20,
      "metadata": {
        "scrolled": false,
        "colab": {
          "base_uri": "https://localhost:8080/",
          "height": 676
        },
        "id": "EArfDIfLKDzH",
        "outputId": "7d949bbf-02fe-4846-bb19-14b3292ab206"
      },
      "outputs": [
        {
          "output_type": "display_data",
          "data": {
            "text/plain": [
              "<Figure size 1000x800 with 1 Axes>"
            ],
            "image/png": "[encoded data removed]"
          },
          "metadata": {}
        }
      ],
      "source": [
        "learning_curve(forest_search)"
      ]
    },
    {
      "cell_type": "markdown",
      "metadata": {
        "id": "86j--TmgKDzH"
      },
      "source": [
        "Выведем лучшую модель, её f1-меру и ROC-AUC"
      ]
    },
    {
      "cell_type": "code",
      "execution_count": 21,
      "metadata": {
        "scrolled": true,
        "colab": {
          "base_uri": "https://localhost:8080/"
        },
        "id": "68jeiRoNKDzH",
        "outputId": "1aeede1c-17ce-4e34-d6f6-aba45e6e2804"
      },
      "outputs": [
        {
          "output_type": "stream",
          "name": "stdout",
          "text": [
            "Лучшая модель \t RandomForestClassifier(max_depth=18, n_estimators=50, random_state=42)\n",
            "f1 \t\t 0.5783642617163194\n",
            "ROC-AUC \t 0.8527933173576088\n"
          ]
        }
      ],
      "source": [
        "get_final_scores(forest_search)"
      ]
    },
    {
      "cell_type": "markdown",
      "metadata": {
        "id": "Z_UO0UxuKDzI"
      },
      "source": [
        "### Вывод\n",
        "\n",
        "Случайный лес показывает наиболее высокое значение f1-меры из всех изученных моделей (0.58). Дополнительно можно отметить, что дерево решений имеет более высокое значение ROC-AUC (0.83 против 0.82 у случайного леса)"
      ]
    },
    {
      "cell_type": "markdown",
      "metadata": {
        "id": "f1T900cLKDzI"
      },
      "source": [
        "## Борьба с дисбалансом"
      ]
    },
    {
      "cell_type": "markdown",
      "metadata": {
        "id": "z4XROTVkKDzI"
      },
      "source": [
        "Для борьбы с дисбалансом рассмотрим три метода:\n",
        "1. Взвешивание классов\n",
        "2. Upsampling\n",
        "3. Downsampling"
      ]
    },
    {
      "cell_type": "markdown",
      "metadata": {
        "id": "dQXCLK4PKDzI"
      },
      "source": [
        "### Взвешивание классов\n",
        "\n",
        "#### Логистическая регрессия"
      ]
    },
    {
      "cell_type": "code",
      "execution_count": 22,
      "metadata": {
        "colab": {
          "base_uri": "https://localhost:8080/"
        },
        "id": "Wa54__zDKDzJ",
        "outputId": "b8ad1d75-a3aa-4536-b925-83e350192ccd"
      },
      "outputs": [
        {
          "output_type": "execute_result",
          "data": {
            "text/plain": [
              "(0.49804379421437367, 0.7710370018301166)"
            ]
          },
          "metadata": {},
          "execution_count": 22
        }
      ],
      "source": [
        "balanced_linear_model = LogisticRegression(class_weight = 'balanced')\n",
        "balanced_linear_f1 = cross_val_score(balanced_linear_model, x_train, y_train, cv=5, scoring='f1')\n",
        "balanced_linear_roc_auc = cross_val_score(balanced_linear_model, x_train, y_train, cv=5, scoring='roc_auc')\n",
        "balanced_linear_f1.mean(), balanced_linear_roc_auc.mean()"
      ]
    },
    {
      "cell_type": "markdown",
      "metadata": {
        "id": "MUxFzlwrKDzJ"
      },
      "source": [
        "#### Дерево решений"
      ]
    },
    {
      "cell_type": "code",
      "execution_count": 23,
      "metadata": {
        "scrolled": true,
        "colab": {
          "base_uri": "https://localhost:8080/",
          "height": 152
        },
        "id": "E3i6kbatKDzJ",
        "outputId": "626c48ce-9ba4-44ed-fc3c-a613b3ca937c"
      },
      "outputs": [
        {
          "output_type": "stream",
          "name": "stdout",
          "text": [
            "CPU times: user 13.3 s, sys: 111 ms, total: 13.4 s\n",
            "Wall time: 13.4 s\n"
          ]
        },
        {
          "output_type": "execute_result",
          "data": {
            "text/plain": [
              "GridSearchCV(cv=5,\n",
              "             estimator=DecisionTreeClassifier(class_weight='balanced',\n",
              "                                              random_state=42),\n",
              "             param_grid={'max_depth': [1, 2, 3, 4, 5, 6, 7, 8, 9, 10, 11, 12,\n",
              "                                       13, 14, 15, 16, 17, 18, 19, 20, 21, 22,\n",
              "                                       23, 24, 25, 26, 27, 28, 29, 30, ...]},\n",
              "             refit='f1', return_train_score=True,\n",
              "             scoring={'ROC-AUC': 'roc_auc', 'f1': 'f1'})"
            ],
            "text/html": [
              "<style>#sk-container-id-3 {color: black;background-color: white;}#sk-container-id-3 pre{padding: 0;}#sk-container-id-3 div.sk-toggleable {background-color: white;}#sk-container-id-3 label.sk-toggleable__label {cursor: pointer;display: block;width: 100%;margin-bottom: 0;padding: 0.3em;box-sizing: border-box;text-align: center;}#sk-container-id-3 label.sk-toggleable__label-arrow:before {content: \"▸\";float: left;margin-right: 0.25em;color: #696969;}#sk-container-id-3 label.sk-toggleable__label-arrow:hover:before {color: black;}#sk-container-id-3 div.sk-estimator:hover label.sk-toggleable__label-arrow:before {color: black;}#sk-container-id-3 div.sk-toggleable__content {max-height: 0;max-width: 0;overflow: hidden;text-align: left;background-color: #f0f8ff;}#sk-container-id-3 div.sk-toggleable__content pre {margin: 0.2em;color: black;border-radius: 0.25em;background-color: #f0f8ff;}#sk-container-id-3 input.sk-toggleable__control:checked~div.sk-toggleable__content {max-height: 200px;max-width: 100%;overflow: auto;}#sk-container-id-3 input.sk-toggleable__control:checked~label.sk-toggleable__label-arrow:before {content: \"▾\";}#sk-container-id-3 div.sk-estimator input.sk-toggleable__control:checked~label.sk-toggleable__label {background-color: #d4ebff;}#sk-container-id-3 div.sk-label input.sk-toggleable__control:checked~label.sk-toggleable__label {background-color: #d4ebff;}#sk-container-id-3 input.sk-hidden--visually {border: 0;clip: rect(1px 1px 1px 1px);clip: rect(1px, 1px, 1px, 1px);height: 1px;margin: -1px;overflow: hidden;padding: 0;position: absolute;width: 1px;}#sk-container-id-3 div.sk-estimator {font-family: monospace;background-color: #f0f8ff;border: 1px dotted black;border-radius: 0.25em;box-sizing: border-box;margin-bottom: 0.5em;}#sk-container-id-3 div.sk-estimator:hover {background-color: #d4ebff;}#sk-container-id-3 div.sk-parallel-item::after {content: \"\";width: 100%;border-bottom: 1px solid gray;flex-grow: 1;}#sk-container-id-3 div.sk-label:hover label.sk-toggleable__label {background-color: #d4ebff;}#sk-container-id-3 div.sk-serial::before {content: \"\";position: absolute;border-left: 1px solid gray;box-sizing: border-box;top: 0;bottom: 0;left: 50%;z-index: 0;}#sk-container-id-3 div.sk-serial {display: flex;flex-direction: column;align-items: center;background-color: white;padding-right: 0.2em;padding-left: 0.2em;position: relative;}#sk-container-id-3 div.sk-item {position: relative;z-index: 1;}#sk-container-id-3 div.sk-parallel {display: flex;align-items: stretch;justify-content: center;background-color: white;position: relative;}#sk-container-id-3 div.sk-item::before, #sk-container-id-3 div.sk-parallel-item::before {content: \"\";position: absolute;border-left: 1px solid gray;box-sizing: border-box;top: 0;bottom: 0;left: 50%;z-index: -1;}#sk-container-id-3 div.sk-parallel-item {display: flex;flex-direction: column;z-index: 1;position: relative;background-color: white;}#sk-container-id-3 div.sk-parallel-item:first-child::after {align-self: flex-end;width: 50%;}#sk-container-id-3 div.sk-parallel-item:last-child::after {align-self: flex-start;width: 50%;}#sk-container-id-3 div.sk-parallel-item:only-child::after {width: 0;}#sk-container-id-3 div.sk-dashed-wrapped {border: 1px dashed gray;margin: 0 0.4em 0.5em 0.4em;box-sizing: border-box;padding-bottom: 0.4em;background-color: white;}#sk-container-id-3 div.sk-label label {font-family: monospace;font-weight: bold;display: inline-block;line-height: 1.2em;}#sk-container-id-3 div.sk-label-container {text-align: center;}#sk-container-id-3 div.sk-container {/* jupyter's `normalize.less` sets `[hidden] { display: none; }` but bootstrap.min.css set `[hidden] { display: none !important; }` so we also need the `!important` here to be able to override the default hidden behavior on the sphinx rendered scikit-learn.org. See: https://github.com/scikit-learn/scikit-learn/issues/21755 */display: inline-block !important;position: relative;}#sk-container-id-3 div.sk-text-repr-fallback {display: none;}</style><div id=\"sk-container-id-3\" class=\"sk-top-container\"><div class=\"sk-text-repr-fallback\"><pre>GridSearchCV(cv=5,\n",
              "             estimator=DecisionTreeClassifier(class_weight=&#x27;balanced&#x27;,\n",
              "                                              random_state=42),\n",
              "             param_grid={&#x27;max_depth&#x27;: [1, 2, 3, 4, 5, 6, 7, 8, 9, 10, 11, 12,\n",
              "                                       13, 14, 15, 16, 17, 18, 19, 20, 21, 22,\n",
              "                                       23, 24, 25, 26, 27, 28, 29, 30, ...]},\n",
              "             refit=&#x27;f1&#x27;, return_train_score=True,\n",
              "             scoring={&#x27;ROC-AUC&#x27;: &#x27;roc_auc&#x27;, &#x27;f1&#x27;: &#x27;f1&#x27;})</pre><b>In a Jupyter environment, please rerun this cell to show the HTML representation or trust the notebook. <br />On GitHub, the HTML representation is unable to render, please try loading this page with nbviewer.org.</b></div><div class=\"sk-container\" hidden><div class=\"sk-item sk-dashed-wrapped\"><div class=\"sk-label-container\"><div class=\"sk-label sk-toggleable\"><input class=\"sk-toggleable__control sk-hidden--visually\" id=\"sk-estimator-id-7\" type=\"checkbox\" ><label for=\"sk-estimator-id-7\" class=\"sk-toggleable__label sk-toggleable__label-arrow\">GridSearchCV</label><div class=\"sk-toggleable__content\"><pre>GridSearchCV(cv=5,\n",
              "             estimator=DecisionTreeClassifier(class_weight=&#x27;balanced&#x27;,\n",
              "                                              random_state=42),\n",
              "             param_grid={&#x27;max_depth&#x27;: [1, 2, 3, 4, 5, 6, 7, 8, 9, 10, 11, 12,\n",
              "                                       13, 14, 15, 16, 17, 18, 19, 20, 21, 22,\n",
              "                                       23, 24, 25, 26, 27, 28, 29, 30, ...]},\n",
              "             refit=&#x27;f1&#x27;, return_train_score=True,\n",
              "             scoring={&#x27;ROC-AUC&#x27;: &#x27;roc_auc&#x27;, &#x27;f1&#x27;: &#x27;f1&#x27;})</pre></div></div></div><div class=\"sk-parallel\"><div class=\"sk-parallel-item\"><div class=\"sk-item\"><div class=\"sk-label-container\"><div class=\"sk-label sk-toggleable\"><input class=\"sk-toggleable__control sk-hidden--visually\" id=\"sk-estimator-id-8\" type=\"checkbox\" ><label for=\"sk-estimator-id-8\" class=\"sk-toggleable__label sk-toggleable__label-arrow\">estimator: DecisionTreeClassifier</label><div class=\"sk-toggleable__content\"><pre>DecisionTreeClassifier(class_weight=&#x27;balanced&#x27;, random_state=42)</pre></div></div></div><div class=\"sk-serial\"><div class=\"sk-item\"><div class=\"sk-estimator sk-toggleable\"><input class=\"sk-toggleable__control sk-hidden--visually\" id=\"sk-estimator-id-9\" type=\"checkbox\" ><label for=\"sk-estimator-id-9\" class=\"sk-toggleable__label sk-toggleable__label-arrow\">DecisionTreeClassifier</label><div class=\"sk-toggleable__content\"><pre>DecisionTreeClassifier(class_weight=&#x27;balanced&#x27;, random_state=42)</pre></div></div></div></div></div></div></div></div></div></div>"
            ]
          },
          "metadata": {},
          "execution_count": 23
        }
      ],
      "source": [
        "%%time\n",
        "\n",
        "balanced_tree_search = GridSearchCV(\n",
        "    estimator = DecisionTreeClassifier(random_state = 42,\n",
        "                                      class_weight = 'balanced'),\n",
        "    param_grid = tree_hyperparams,\n",
        "    scoring = scoring,\n",
        "    cv = 5,\n",
        "    refit = 'f1',\n",
        "    return_train_score = True)\n",
        "\n",
        "balanced_tree_search.fit(x_train, y_train)"
      ]
    },
    {
      "cell_type": "code",
      "execution_count": 24,
      "metadata": {
        "scrolled": false,
        "colab": {
          "base_uri": "https://localhost:8080/",
          "height": 676
        },
        "id": "RPBRwa2CKDzJ",
        "outputId": "5ef964c2-6acf-4fab-97a9-2f522dd25155"
      },
      "outputs": [
        {
          "output_type": "display_data",
          "data": {
            "text/plain": [
              "<Figure size 1000x800 with 1 Axes>"
            ],
            "image/png": "[encoded data removed]"
          },
          "metadata": {}
        }
      ],
      "source": [
        "learning_curve(balanced_tree_search)"
      ]
    },
    {
      "cell_type": "code",
      "execution_count": 25,
      "metadata": {
        "scrolled": true,
        "colab": {
          "base_uri": "https://localhost:8080/"
        },
        "id": "E93f8Y5lKDzK",
        "outputId": "53c7bf5f-9766-47cf-e84a-65941352c319"
      },
      "outputs": [
        {
          "output_type": "stream",
          "name": "stdout",
          "text": [
            "Лучшая модель \t DecisionTreeClassifier(class_weight='balanced', max_depth=6, random_state=42)\n",
            "f1 \t\t 0.5682614096535205\n",
            "ROC-AUC \t 0.8319889262798629\n"
          ]
        }
      ],
      "source": [
        "get_final_scores(balanced_tree_search)"
      ]
    },
    {
      "cell_type": "markdown",
      "metadata": {
        "id": "eRZHUVi2KDzK"
      },
      "source": [
        "#### Случайный лес"
      ]
    },
    {
      "cell_type": "code",
      "execution_count": 26,
      "metadata": {
        "colab": {
          "base_uri": "https://localhost:8080/",
          "height": 118
        },
        "id": "kyh3rh5SKDzK",
        "outputId": "3198bfbb-e445-4146-f33e-e2d7c8f72db0"
      },
      "outputs": [
        {
          "output_type": "execute_result",
          "data": {
            "text/plain": [
              "GridSearchCV(cv=5,\n",
              "             estimator=RandomForestClassifier(class_weight='balanced',\n",
              "                                              random_state=42),\n",
              "             param_grid={'max_depth': [1, 2, 3, 4, 5, 6, 7, 8, 9, 10, 11, 12,\n",
              "                                       13, 14, 15, 16, 17, 18, 19],\n",
              "                         'n_estimators': [10, 20, 30, 40, 50]},\n",
              "             refit='f1', return_train_score=True,\n",
              "             scoring={'ROC-AUC': 'roc_auc', 'f1': 'f1'})"
            ],
            "text/html": [
              "<style>#sk-container-id-4 {color: black;background-color: white;}#sk-container-id-4 pre{padding: 0;}#sk-container-id-4 div.sk-toggleable {background-color: white;}#sk-container-id-4 label.sk-toggleable__label {cursor: pointer;display: block;width: 100%;margin-bottom: 0;padding: 0.3em;box-sizing: border-box;text-align: center;}#sk-container-id-4 label.sk-toggleable__label-arrow:before {content: \"▸\";float: left;margin-right: 0.25em;color: #696969;}#sk-container-id-4 label.sk-toggleable__label-arrow:hover:before {color: black;}#sk-container-id-4 div.sk-estimator:hover label.sk-toggleable__label-arrow:before {color: black;}#sk-container-id-4 div.sk-toggleable__content {max-height: 0;max-width: 0;overflow: hidden;text-align: left;background-color: #f0f8ff;}#sk-container-id-4 div.sk-toggleable__content pre {margin: 0.2em;color: black;border-radius: 0.25em;background-color: #f0f8ff;}#sk-container-id-4 input.sk-toggleable__control:checked~div.sk-toggleable__content {max-height: 200px;max-width: 100%;overflow: auto;}#sk-container-id-4 input.sk-toggleable__control:checked~label.sk-toggleable__label-arrow:before {content: \"▾\";}#sk-container-id-4 div.sk-estimator input.sk-toggleable__control:checked~label.sk-toggleable__label {background-color: #d4ebff;}#sk-container-id-4 div.sk-label input.sk-toggleable__control:checked~label.sk-toggleable__label {background-color: #d4ebff;}#sk-container-id-4 input.sk-hidden--visually {border: 0;clip: rect(1px 1px 1px 1px);clip: rect(1px, 1px, 1px, 1px);height: 1px;margin: -1px;overflow: hidden;padding: 0;position: absolute;width: 1px;}#sk-container-id-4 div.sk-estimator {font-family: monospace;background-color: #f0f8ff;border: 1px dotted black;border-radius: 0.25em;box-sizing: border-box;margin-bottom: 0.5em;}#sk-container-id-4 div.sk-estimator:hover {background-color: #d4ebff;}#sk-container-id-4 div.sk-parallel-item::after {content: \"\";width: 100%;border-bottom: 1px solid gray;flex-grow: 1;}#sk-container-id-4 div.sk-label:hover label.sk-toggleable__label {background-color: #d4ebff;}#sk-container-id-4 div.sk-serial::before {content: \"\";position: absolute;border-left: 1px solid gray;box-sizing: border-box;top: 0;bottom: 0;left: 50%;z-index: 0;}#sk-container-id-4 div.sk-serial {display: flex;flex-direction: column;align-items: center;background-color: white;padding-right: 0.2em;padding-left: 0.2em;position: relative;}#sk-container-id-4 div.sk-item {position: relative;z-index: 1;}#sk-container-id-4 div.sk-parallel {display: flex;align-items: stretch;justify-content: center;background-color: white;position: relative;}#sk-container-id-4 div.sk-item::before, #sk-container-id-4 div.sk-parallel-item::before {content: \"\";position: absolute;border-left: 1px solid gray;box-sizing: border-box;top: 0;bottom: 0;left: 50%;z-index: -1;}#sk-container-id-4 div.sk-parallel-item {display: flex;flex-direction: column;z-index: 1;position: relative;background-color: white;}#sk-container-id-4 div.sk-parallel-item:first-child::after {align-self: flex-end;width: 50%;}#sk-container-id-4 div.sk-parallel-item:last-child::after {align-self: flex-start;width: 50%;}#sk-container-id-4 div.sk-parallel-item:only-child::after {width: 0;}#sk-container-id-4 div.sk-dashed-wrapped {border: 1px dashed gray;margin: 0 0.4em 0.5em 0.4em;box-sizing: border-box;padding-bottom: 0.4em;background-color: white;}#sk-container-id-4 div.sk-label label {font-family: monospace;font-weight: bold;display: inline-block;line-height: 1.2em;}#sk-container-id-4 div.sk-label-container {text-align: center;}#sk-container-id-4 div.sk-container {/* jupyter's `normalize.less` sets `[hidden] { display: none; }` but bootstrap.min.css set `[hidden] { display: none !important; }` so we also need the `!important` here to be able to override the default hidden behavior on the sphinx rendered scikit-learn.org. See: https://github.com/scikit-learn/scikit-learn/issues/21755 */display: inline-block !important;position: relative;}#sk-container-id-4 div.sk-text-repr-fallback {display: none;}</style><div id=\"sk-container-id-4\" class=\"sk-top-container\"><div class=\"sk-text-repr-fallback\"><pre>GridSearchCV(cv=5,\n",
              "             estimator=RandomForestClassifier(class_weight=&#x27;balanced&#x27;,\n",
              "                                              random_state=42),\n",
              "             param_grid={&#x27;max_depth&#x27;: [1, 2, 3, 4, 5, 6, 7, 8, 9, 10, 11, 12,\n",
              "                                       13, 14, 15, 16, 17, 18, 19],\n",
              "                         &#x27;n_estimators&#x27;: [10, 20, 30, 40, 50]},\n",
              "             refit=&#x27;f1&#x27;, return_train_score=True,\n",
              "             scoring={&#x27;ROC-AUC&#x27;: &#x27;roc_auc&#x27;, &#x27;f1&#x27;: &#x27;f1&#x27;})</pre><b>In a Jupyter environment, please rerun this cell to show the HTML representation or trust the notebook. <br />On GitHub, the HTML representation is unable to render, please try loading this page with nbviewer.org.</b></div><div class=\"sk-container\" hidden><div class=\"sk-item sk-dashed-wrapped\"><div class=\"sk-label-container\"><div class=\"sk-label sk-toggleable\"><input class=\"sk-toggleable__control sk-hidden--visually\" id=\"sk-estimator-id-10\" type=\"checkbox\" ><label for=\"sk-estimator-id-10\" class=\"sk-toggleable__label sk-toggleable__label-arrow\">GridSearchCV</label><div class=\"sk-toggleable__content\"><pre>GridSearchCV(cv=5,\n",
              "             estimator=RandomForestClassifier(class_weight=&#x27;balanced&#x27;,\n",
              "                                              random_state=42),\n",
              "             param_grid={&#x27;max_depth&#x27;: [1, 2, 3, 4, 5, 6, 7, 8, 9, 10, 11, 12,\n",
              "                                       13, 14, 15, 16, 17, 18, 19],\n",
              "                         &#x27;n_estimators&#x27;: [10, 20, 30, 40, 50]},\n",
              "             refit=&#x27;f1&#x27;, return_train_score=True,\n",
              "             scoring={&#x27;ROC-AUC&#x27;: &#x27;roc_auc&#x27;, &#x27;f1&#x27;: &#x27;f1&#x27;})</pre></div></div></div><div class=\"sk-parallel\"><div class=\"sk-parallel-item\"><div class=\"sk-item\"><div class=\"sk-label-container\"><div class=\"sk-label sk-toggleable\"><input class=\"sk-toggleable__control sk-hidden--visually\" id=\"sk-estimator-id-11\" type=\"checkbox\" ><label for=\"sk-estimator-id-11\" class=\"sk-toggleable__label sk-toggleable__label-arrow\">estimator: RandomForestClassifier</label><div class=\"sk-toggleable__content\"><pre>RandomForestClassifier(class_weight=&#x27;balanced&#x27;, random_state=42)</pre></div></div></div><div class=\"sk-serial\"><div class=\"sk-item\"><div class=\"sk-estimator sk-toggleable\"><input class=\"sk-toggleable__control sk-hidden--visually\" id=\"sk-estimator-id-12\" type=\"checkbox\" ><label for=\"sk-estimator-id-12\" class=\"sk-toggleable__label sk-toggleable__label-arrow\">RandomForestClassifier</label><div class=\"sk-toggleable__content\"><pre>RandomForestClassifier(class_weight=&#x27;balanced&#x27;, random_state=42)</pre></div></div></div></div></div></div></div></div></div></div>"
            ]
          },
          "metadata": {},
          "execution_count": 26
        }
      ],
      "source": [
        "balanced_forest_search = GridSearchCV(\n",
        "    estimator = RandomForestClassifier(random_state = 42,\n",
        "                                      class_weight = 'balanced'),\n",
        "    param_grid = forest_hyperparams,\n",
        "    scoring = scoring,\n",
        "    cv = 5,\n",
        "    refit = 'f1',\n",
        "    return_train_score = True)\n",
        "\n",
        "balanced_forest_search.fit(x_train, y_train)"
      ]
    },
    {
      "cell_type": "code",
      "execution_count": 27,
      "metadata": {
        "scrolled": false,
        "colab": {
          "base_uri": "https://localhost:8080/",
          "height": 676
        },
        "id": "ZCrX5OlQKDzK",
        "outputId": "24e1d289-2135-41c5-e97c-ca4a4f2e9121"
      },
      "outputs": [
        {
          "output_type": "display_data",
          "data": {
            "text/plain": [
              "<Figure size 1000x800 with 1 Axes>"
            ],
            "image/png": "[encoded data removed]"
          },
          "metadata": {}
        }
      ],
      "source": [
        "learning_curve(balanced_forest_search)"
      ]
    },
    {
      "cell_type": "code",
      "execution_count": 28,
      "metadata": {
        "colab": {
          "base_uri": "https://localhost:8080/"
        },
        "id": "SKtV30tIKDzL",
        "outputId": "5cd4055e-1b14-4974-a493-01902ba4aa32"
      },
      "outputs": [
        {
          "output_type": "stream",
          "name": "stdout",
          "text": [
            "Лучшая модель \t RandomForestClassifier(class_weight='balanced', max_depth=9, n_estimators=40,\n",
            "                       random_state=42)\n",
            "f1 \t\t 0.6178274430188264\n",
            "ROC-AUC \t 0.8581534248000793\n"
          ]
        }
      ],
      "source": [
        "get_final_scores(balanced_forest_search)"
      ]
    },
    {
      "cell_type": "markdown",
      "metadata": {
        "id": "cHpAnDVsKDzL"
      },
      "source": [
        "### Upsampling"
      ]
    },
    {
      "cell_type": "markdown",
      "metadata": {
        "id": "Mjktr89bKDzL"
      },
      "source": [
        "Произведём upsampling - продублируем значения так, чтобы количество классов в обучающей выборке сравнялось"
      ]
    },
    {
      "cell_type": "code",
      "execution_count": 29,
      "metadata": {
        "colab": {
          "base_uri": "https://localhost:8080/"
        },
        "id": "3VILvgWiKDzL",
        "outputId": "6ce76408-6c3b-4f62-ae8b-fd7d1b470da4"
      },
      "outputs": [
        {
          "output_type": "execute_result",
          "data": {
            "text/plain": [
              "0    5789\n",
              "1    5789\n",
              "Name: exited, dtype: int64"
            ]
          },
          "metadata": {},
          "execution_count": 29
        }
      ],
      "source": [
        "def upsample(features, target, repeat, random_state = 42):\n",
        "    sm = SMOTE(sampling_strategy= 'minority', random_state = random_state)\n",
        "    x_res, y_res = sm.fit_resample(features, target)\n",
        "\n",
        "    return x_res, y_res\n",
        "\n",
        "x_upsampled, y_upsampled = upsample (x_train, y_train, 4)\n",
        "y_upsampled.value_counts()"
      ]
    },
    {
      "cell_type": "markdown",
      "metadata": {
        "id": "ZdMuuzqhKDzM"
      },
      "source": [
        "#### Логистическая регрессия"
      ]
    },
    {
      "cell_type": "code",
      "execution_count": 30,
      "metadata": {
        "colab": {
          "base_uri": "https://localhost:8080/"
        },
        "id": "g12mgKkIKDzM",
        "outputId": "9f40ccf5-86c4-4315-e4b9-4fe3ace738df"
      },
      "outputs": [
        {
          "output_type": "execute_result",
          "data": {
            "text/plain": [
              "(0.7363259685829069, 0.8071387271732897)"
            ]
          },
          "metadata": {},
          "execution_count": 30
        }
      ],
      "source": [
        "upsampled_linear_model = LogisticRegression()\n",
        "\n",
        "upsampled_linear_f1 = cross_val_score(upsampled_linear_model, x_upsampled, y_upsampled, cv=5, scoring='f1')\n",
        "upsampled_linear_roc_auc = cross_val_score(upsampled_linear_model, x_upsampled, y_upsampled, cv=5, scoring='roc_auc')\n",
        "\n",
        "upsampled_linear_f1.mean(), upsampled_linear_roc_auc.mean()"
      ]
    },
    {
      "cell_type": "markdown",
      "metadata": {
        "id": "KxyRj8ziKDzM"
      },
      "source": [
        "#### Дерево решений"
      ]
    },
    {
      "cell_type": "code",
      "execution_count": 31,
      "metadata": {
        "colab": {
          "base_uri": "https://localhost:8080/",
          "height": 152
        },
        "id": "e0mbmtNaKDzM",
        "outputId": "ca06d36c-7d87-400c-db3a-e88524644b7f"
      },
      "outputs": [
        {
          "output_type": "stream",
          "name": "stdout",
          "text": [
            "CPU times: user 19.9 s, sys: 110 ms, total: 20.1 s\n",
            "Wall time: 20 s\n"
          ]
        },
        {
          "output_type": "execute_result",
          "data": {
            "text/plain": [
              "GridSearchCV(cv=5, estimator=DecisionTreeClassifier(random_state=42),\n",
              "             param_grid={'max_depth': [1, 2, 3, 4, 5, 6, 7, 8, 9, 10, 11, 12,\n",
              "                                       13, 14, 15, 16, 17, 18, 19, 20, 21, 22,\n",
              "                                       23, 24, 25, 26, 27, 28, 29, 30, ...]},\n",
              "             refit='f1', return_train_score=True,\n",
              "             scoring={'ROC-AUC': 'roc_auc', 'f1': 'f1'})"
            ],
            "text/html": [
              "<style>#sk-container-id-5 {color: black;background-color: white;}#sk-container-id-5 pre{padding: 0;}#sk-container-id-5 div.sk-toggleable {background-color: white;}#sk-container-id-5 label.sk-toggleable__label {cursor: pointer;display: block;width: 100%;margin-bottom: 0;padding: 0.3em;box-sizing: border-box;text-align: center;}#sk-container-id-5 label.sk-toggleable__label-arrow:before {content: \"▸\";float: left;margin-right: 0.25em;color: #696969;}#sk-container-id-5 label.sk-toggleable__label-arrow:hover:before {color: black;}#sk-container-id-5 div.sk-estimator:hover label.sk-toggleable__label-arrow:before {color: black;}#sk-container-id-5 div.sk-toggleable__content {max-height: 0;max-width: 0;overflow: hidden;text-align: left;background-color: #f0f8ff;}#sk-container-id-5 div.sk-toggleable__content pre {margin: 0.2em;color: black;border-radius: 0.25em;background-color: #f0f8ff;}#sk-container-id-5 input.sk-toggleable__control:checked~div.sk-toggleable__content {max-height: 200px;max-width: 100%;overflow: auto;}#sk-container-id-5 input.sk-toggleable__control:checked~label.sk-toggleable__label-arrow:before {content: \"▾\";}#sk-container-id-5 div.sk-estimator input.sk-toggleable__control:checked~label.sk-toggleable__label {background-color: #d4ebff;}#sk-container-id-5 div.sk-label input.sk-toggleable__control:checked~label.sk-toggleable__label {background-color: #d4ebff;}#sk-container-id-5 input.sk-hidden--visually {border: 0;clip: rect(1px 1px 1px 1px);clip: rect(1px, 1px, 1px, 1px);height: 1px;margin: -1px;overflow: hidden;padding: 0;position: absolute;width: 1px;}#sk-container-id-5 div.sk-estimator {font-family: monospace;background-color: #f0f8ff;border: 1px dotted black;border-radius: 0.25em;box-sizing: border-box;margin-bottom: 0.5em;}#sk-container-id-5 div.sk-estimator:hover {background-color: #d4ebff;}#sk-container-id-5 div.sk-parallel-item::after {content: \"\";width: 100%;border-bottom: 1px solid gray;flex-grow: 1;}#sk-container-id-5 div.sk-label:hover label.sk-toggleable__label {background-color: #d4ebff;}#sk-container-id-5 div.sk-serial::before {content: \"\";position: absolute;border-left: 1px solid gray;box-sizing: border-box;top: 0;bottom: 0;left: 50%;z-index: 0;}#sk-container-id-5 div.sk-serial {display: flex;flex-direction: column;align-items: center;background-color: white;padding-right: 0.2em;padding-left: 0.2em;position: relative;}#sk-container-id-5 div.sk-item {position: relative;z-index: 1;}#sk-container-id-5 div.sk-parallel {display: flex;align-items: stretch;justify-content: center;background-color: white;position: relative;}#sk-container-id-5 div.sk-item::before, #sk-container-id-5 div.sk-parallel-item::before {content: \"\";position: absolute;border-left: 1px solid gray;box-sizing: border-box;top: 0;bottom: 0;left: 50%;z-index: -1;}#sk-container-id-5 div.sk-parallel-item {display: flex;flex-direction: column;z-index: 1;position: relative;background-color: white;}#sk-container-id-5 div.sk-parallel-item:first-child::after {align-self: flex-end;width: 50%;}#sk-container-id-5 div.sk-parallel-item:last-child::after {align-self: flex-start;width: 50%;}#sk-container-id-5 div.sk-parallel-item:only-child::after {width: 0;}#sk-container-id-5 div.sk-dashed-wrapped {border: 1px dashed gray;margin: 0 0.4em 0.5em 0.4em;box-sizing: border-box;padding-bottom: 0.4em;background-color: white;}#sk-container-id-5 div.sk-label label {font-family: monospace;font-weight: bold;display: inline-block;line-height: 1.2em;}#sk-container-id-5 div.sk-label-container {text-align: center;}#sk-container-id-5 div.sk-container {/* jupyter's `normalize.less` sets `[hidden] { display: none; }` but bootstrap.min.css set `[hidden] { display: none !important; }` so we also need the `!important` here to be able to override the default hidden behavior on the sphinx rendered scikit-learn.org. See: https://github.com/scikit-learn/scikit-learn/issues/21755 */display: inline-block !important;position: relative;}#sk-container-id-5 div.sk-text-repr-fallback {display: none;}</style><div id=\"sk-container-id-5\" class=\"sk-top-container\"><div class=\"sk-text-repr-fallback\"><pre>GridSearchCV(cv=5, estimator=DecisionTreeClassifier(random_state=42),\n",
              "             param_grid={&#x27;max_depth&#x27;: [1, 2, 3, 4, 5, 6, 7, 8, 9, 10, 11, 12,\n",
              "                                       13, 14, 15, 16, 17, 18, 19, 20, 21, 22,\n",
              "                                       23, 24, 25, 26, 27, 28, 29, 30, ...]},\n",
              "             refit=&#x27;f1&#x27;, return_train_score=True,\n",
              "             scoring={&#x27;ROC-AUC&#x27;: &#x27;roc_auc&#x27;, &#x27;f1&#x27;: &#x27;f1&#x27;})</pre><b>In a Jupyter environment, please rerun this cell to show the HTML representation or trust the notebook. <br />On GitHub, the HTML representation is unable to render, please try loading this page with nbviewer.org.</b></div><div class=\"sk-container\" hidden><div class=\"sk-item sk-dashed-wrapped\"><div class=\"sk-label-container\"><div class=\"sk-label sk-toggleable\"><input class=\"sk-toggleable__control sk-hidden--visually\" id=\"sk-estimator-id-13\" type=\"checkbox\" ><label for=\"sk-estimator-id-13\" class=\"sk-toggleable__label sk-toggleable__label-arrow\">GridSearchCV</label><div class=\"sk-toggleable__content\"><pre>GridSearchCV(cv=5, estimator=DecisionTreeClassifier(random_state=42),\n",
              "             param_grid={&#x27;max_depth&#x27;: [1, 2, 3, 4, 5, 6, 7, 8, 9, 10, 11, 12,\n",
              "                                       13, 14, 15, 16, 17, 18, 19, 20, 21, 22,\n",
              "                                       23, 24, 25, 26, 27, 28, 29, 30, ...]},\n",
              "             refit=&#x27;f1&#x27;, return_train_score=True,\n",
              "             scoring={&#x27;ROC-AUC&#x27;: &#x27;roc_auc&#x27;, &#x27;f1&#x27;: &#x27;f1&#x27;})</pre></div></div></div><div class=\"sk-parallel\"><div class=\"sk-parallel-item\"><div class=\"sk-item\"><div class=\"sk-label-container\"><div class=\"sk-label sk-toggleable\"><input class=\"sk-toggleable__control sk-hidden--visually\" id=\"sk-estimator-id-14\" type=\"checkbox\" ><label for=\"sk-estimator-id-14\" class=\"sk-toggleable__label sk-toggleable__label-arrow\">estimator: DecisionTreeClassifier</label><div class=\"sk-toggleable__content\"><pre>DecisionTreeClassifier(random_state=42)</pre></div></div></div><div class=\"sk-serial\"><div class=\"sk-item\"><div class=\"sk-estimator sk-toggleable\"><input class=\"sk-toggleable__control sk-hidden--visually\" id=\"sk-estimator-id-15\" type=\"checkbox\" ><label for=\"sk-estimator-id-15\" class=\"sk-toggleable__label sk-toggleable__label-arrow\">DecisionTreeClassifier</label><div class=\"sk-toggleable__content\"><pre>DecisionTreeClassifier(random_state=42)</pre></div></div></div></div></div></div></div></div></div></div>"
            ]
          },
          "metadata": {},
          "execution_count": 31
        }
      ],
      "source": [
        "%%time\n",
        "\n",
        "upsampled_tree_search = GridSearchCV(\n",
        "    estimator = DecisionTreeClassifier(random_state = 42),\n",
        "    param_grid = tree_hyperparams,\n",
        "    scoring = scoring,\n",
        "    cv = 5,\n",
        "    refit = 'f1',\n",
        "    return_train_score = True)\n",
        "\n",
        "upsampled_tree_search.fit(x_upsampled, y_upsampled)"
      ]
    },
    {
      "cell_type": "code",
      "execution_count": 32,
      "metadata": {
        "scrolled": false,
        "colab": {
          "base_uri": "https://localhost:8080/",
          "height": 676
        },
        "id": "MdjBhrSwKDzN",
        "outputId": "c49020cb-0966-4c0c-bfdc-cd4ca838abf3"
      },
      "outputs": [
        {
          "output_type": "display_data",
          "data": {
            "text/plain": [
              "<Figure size 1000x800 with 1 Axes>"
            ],
            "image/png": "[encoded data removed]"
          },
          "metadata": {}
        }
      ],
      "source": [
        "learning_curve(upsampled_tree_search)"
      ]
    },
    {
      "cell_type": "code",
      "execution_count": 33,
      "metadata": {
        "colab": {
          "base_uri": "https://localhost:8080/"
        },
        "id": "kDC0bdfJKDzN",
        "outputId": "ac22f008-8e98-43b9-f40f-fee140ecd957"
      },
      "outputs": [
        {
          "output_type": "stream",
          "name": "stdout",
          "text": [
            "Лучшая модель \t DecisionTreeClassifier(max_depth=21, random_state=42)\n",
            "f1 \t\t 0.8302243564872811\n",
            "ROC-AUC \t 0.8306649769600212\n"
          ]
        }
      ],
      "source": [
        "get_final_scores(upsampled_tree_search)"
      ]
    },
    {
      "cell_type": "markdown",
      "metadata": {
        "id": "-kyr8noSKDzN"
      },
      "source": [
        "#### Случайный лес"
      ]
    },
    {
      "cell_type": "code",
      "execution_count": 34,
      "metadata": {
        "colab": {
          "base_uri": "https://localhost:8080/",
          "height": 152
        },
        "id": "f6jyacQHKDzN",
        "outputId": "4c6b74cd-cc94-4c59-d904-2efb126e84cd"
      },
      "outputs": [
        {
          "output_type": "stream",
          "name": "stdout",
          "text": [
            "CPU times: user 3min 40s, sys: 467 ms, total: 3min 41s\n",
            "Wall time: 3min 41s\n"
          ]
        },
        {
          "output_type": "execute_result",
          "data": {
            "text/plain": [
              "GridSearchCV(cv=5, estimator=RandomForestClassifier(random_state=42),\n",
              "             param_grid={'max_depth': [1, 2, 3, 4, 5, 6, 7, 8, 9, 10, 11, 12,\n",
              "                                       13, 14, 15, 16, 17, 18, 19],\n",
              "                         'n_estimators': [10, 20, 30, 40, 50]},\n",
              "             refit='f1', return_train_score=True,\n",
              "             scoring={'ROC-AUC': 'roc_auc', 'f1': 'f1'})"
            ],
            "text/html": [
              "<style>#sk-container-id-6 {color: black;background-color: white;}#sk-container-id-6 pre{padding: 0;}#sk-container-id-6 div.sk-toggleable {background-color: white;}#sk-container-id-6 label.sk-toggleable__label {cursor: pointer;display: block;width: 100%;margin-bottom: 0;padding: 0.3em;box-sizing: border-box;text-align: center;}#sk-container-id-6 label.sk-toggleable__label-arrow:before {content: \"▸\";float: left;margin-right: 0.25em;color: #696969;}#sk-container-id-6 label.sk-toggleable__label-arrow:hover:before {color: black;}#sk-container-id-6 div.sk-estimator:hover label.sk-toggleable__label-arrow:before {color: black;}#sk-container-id-6 div.sk-toggleable__content {max-height: 0;max-width: 0;overflow: hidden;text-align: left;background-color: #f0f8ff;}#sk-container-id-6 div.sk-toggleable__content pre {margin: 0.2em;color: black;border-radius: 0.25em;background-color: #f0f8ff;}#sk-container-id-6 input.sk-toggleable__control:checked~div.sk-toggleable__content {max-height: 200px;max-width: 100%;overflow: auto;}#sk-container-id-6 input.sk-toggleable__control:checked~label.sk-toggleable__label-arrow:before {content: \"▾\";}#sk-container-id-6 div.sk-estimator input.sk-toggleable__control:checked~label.sk-toggleable__label {background-color: #d4ebff;}#sk-container-id-6 div.sk-label input.sk-toggleable__control:checked~label.sk-toggleable__label {background-color: #d4ebff;}#sk-container-id-6 input.sk-hidden--visually {border: 0;clip: rect(1px 1px 1px 1px);clip: rect(1px, 1px, 1px, 1px);height: 1px;margin: -1px;overflow: hidden;padding: 0;position: absolute;width: 1px;}#sk-container-id-6 div.sk-estimator {font-family: monospace;background-color: #f0f8ff;border: 1px dotted black;border-radius: 0.25em;box-sizing: border-box;margin-bottom: 0.5em;}#sk-container-id-6 div.sk-estimator:hover {background-color: #d4ebff;}#sk-container-id-6 div.sk-parallel-item::after {content: \"\";width: 100%;border-bottom: 1px solid gray;flex-grow: 1;}#sk-container-id-6 div.sk-label:hover label.sk-toggleable__label {background-color: #d4ebff;}#sk-container-id-6 div.sk-serial::before {content: \"\";position: absolute;border-left: 1px solid gray;box-sizing: border-box;top: 0;bottom: 0;left: 50%;z-index: 0;}#sk-container-id-6 div.sk-serial {display: flex;flex-direction: column;align-items: center;background-color: white;padding-right: 0.2em;padding-left: 0.2em;position: relative;}#sk-container-id-6 div.sk-item {position: relative;z-index: 1;}#sk-container-id-6 div.sk-parallel {display: flex;align-items: stretch;justify-content: center;background-color: white;position: relative;}#sk-container-id-6 div.sk-item::before, #sk-container-id-6 div.sk-parallel-item::before {content: \"\";position: absolute;border-left: 1px solid gray;box-sizing: border-box;top: 0;bottom: 0;left: 50%;z-index: -1;}#sk-container-id-6 div.sk-parallel-item {display: flex;flex-direction: column;z-index: 1;position: relative;background-color: white;}#sk-container-id-6 div.sk-parallel-item:first-child::after {align-self: flex-end;width: 50%;}#sk-container-id-6 div.sk-parallel-item:last-child::after {align-self: flex-start;width: 50%;}#sk-container-id-6 div.sk-parallel-item:only-child::after {width: 0;}#sk-container-id-6 div.sk-dashed-wrapped {border: 1px dashed gray;margin: 0 0.4em 0.5em 0.4em;box-sizing: border-box;padding-bottom: 0.4em;background-color: white;}#sk-container-id-6 div.sk-label label {font-family: monospace;font-weight: bold;display: inline-block;line-height: 1.2em;}#sk-container-id-6 div.sk-label-container {text-align: center;}#sk-container-id-6 div.sk-container {/* jupyter's `normalize.less` sets `[hidden] { display: none; }` but bootstrap.min.css set `[hidden] { display: none !important; }` so we also need the `!important` here to be able to override the default hidden behavior on the sphinx rendered scikit-learn.org. See: https://github.com/scikit-learn/scikit-learn/issues/21755 */display: inline-block !important;position: relative;}#sk-container-id-6 div.sk-text-repr-fallback {display: none;}</style><div id=\"sk-container-id-6\" class=\"sk-top-container\"><div class=\"sk-text-repr-fallback\"><pre>GridSearchCV(cv=5, estimator=RandomForestClassifier(random_state=42),\n",
              "             param_grid={&#x27;max_depth&#x27;: [1, 2, 3, 4, 5, 6, 7, 8, 9, 10, 11, 12,\n",
              "                                       13, 14, 15, 16, 17, 18, 19],\n",
              "                         &#x27;n_estimators&#x27;: [10, 20, 30, 40, 50]},\n",
              "             refit=&#x27;f1&#x27;, return_train_score=True,\n",
              "             scoring={&#x27;ROC-AUC&#x27;: &#x27;roc_auc&#x27;, &#x27;f1&#x27;: &#x27;f1&#x27;})</pre><b>In a Jupyter environment, please rerun this cell to show the HTML representation or trust the notebook. <br />On GitHub, the HTML representation is unable to render, please try loading this page with nbviewer.org.</b></div><div class=\"sk-container\" hidden><div class=\"sk-item sk-dashed-wrapped\"><div class=\"sk-label-container\"><div class=\"sk-label sk-toggleable\"><input class=\"sk-toggleable__control sk-hidden--visually\" id=\"sk-estimator-id-16\" type=\"checkbox\" ><label for=\"sk-estimator-id-16\" class=\"sk-toggleable__label sk-toggleable__label-arrow\">GridSearchCV</label><div class=\"sk-toggleable__content\"><pre>GridSearchCV(cv=5, estimator=RandomForestClassifier(random_state=42),\n",
              "             param_grid={&#x27;max_depth&#x27;: [1, 2, 3, 4, 5, 6, 7, 8, 9, 10, 11, 12,\n",
              "                                       13, 14, 15, 16, 17, 18, 19],\n",
              "                         &#x27;n_estimators&#x27;: [10, 20, 30, 40, 50]},\n",
              "             refit=&#x27;f1&#x27;, return_train_score=True,\n",
              "             scoring={&#x27;ROC-AUC&#x27;: &#x27;roc_auc&#x27;, &#x27;f1&#x27;: &#x27;f1&#x27;})</pre></div></div></div><div class=\"sk-parallel\"><div class=\"sk-parallel-item\"><div class=\"sk-item\"><div class=\"sk-label-container\"><div class=\"sk-label sk-toggleable\"><input class=\"sk-toggleable__control sk-hidden--visually\" id=\"sk-estimator-id-17\" type=\"checkbox\" ><label for=\"sk-estimator-id-17\" class=\"sk-toggleable__label sk-toggleable__label-arrow\">estimator: RandomForestClassifier</label><div class=\"sk-toggleable__content\"><pre>RandomForestClassifier(random_state=42)</pre></div></div></div><div class=\"sk-serial\"><div class=\"sk-item\"><div class=\"sk-estimator sk-toggleable\"><input class=\"sk-toggleable__control sk-hidden--visually\" id=\"sk-estimator-id-18\" type=\"checkbox\" ><label for=\"sk-estimator-id-18\" class=\"sk-toggleable__label sk-toggleable__label-arrow\">RandomForestClassifier</label><div class=\"sk-toggleable__content\"><pre>RandomForestClassifier(random_state=42)</pre></div></div></div></div></div></div></div></div></div></div>"
            ]
          },
          "metadata": {},
          "execution_count": 34
        }
      ],
      "source": [
        "%%time\n",
        "\n",
        "upsampled_forest_search = GridSearchCV(\n",
        "    estimator = RandomForestClassifier(random_state = 42),\n",
        "    param_grid = forest_hyperparams,\n",
        "    scoring = scoring,\n",
        "    cv = 5,\n",
        "    refit = 'f1',\n",
        "    return_train_score = True)\n",
        "\n",
        "upsampled_forest_search.fit(x_upsampled, y_upsampled)"
      ]
    },
    {
      "cell_type": "code",
      "execution_count": 35,
      "metadata": {
        "colab": {
          "base_uri": "https://localhost:8080/",
          "height": 676
        },
        "id": "aHAGMyeuKDzN",
        "outputId": "432954c6-2e11-4875-aba2-ac11c283e896"
      },
      "outputs": [
        {
          "output_type": "display_data",
          "data": {
            "text/plain": [
              "<Figure size 1000x800 with 1 Axes>"
            ],
            "image/png": "[encoded data removed]"
          },
          "metadata": {}
        }
      ],
      "source": [
        "learning_curve(upsampled_forest_search)"
      ]
    },
    {
      "cell_type": "code",
      "execution_count": 36,
      "metadata": {
        "scrolled": true,
        "colab": {
          "base_uri": "https://localhost:8080/"
        },
        "id": "WvrVJaB2KDzO",
        "outputId": "c0612a21-2824-4342-fc35-d674951b3e1f"
      },
      "outputs": [
        {
          "output_type": "stream",
          "name": "stdout",
          "text": [
            "Лучшая модель \t RandomForestClassifier(max_depth=18, n_estimators=50, random_state=42)\n",
            "f1 \t\t 0.8926882877458849\n",
            "ROC-AUC \t 0.959220413788827\n"
          ]
        }
      ],
      "source": [
        "get_final_scores(upsampled_forest_search)"
      ]
    },
    {
      "cell_type": "markdown",
      "metadata": {
        "id": "yNPAwU4wKDzO"
      },
      "source": [
        "### Downsampling"
      ]
    },
    {
      "cell_type": "code",
      "execution_count": 37,
      "metadata": {
        "colab": {
          "base_uri": "https://localhost:8080/"
        },
        "id": "f0nezhoyKDzO",
        "outputId": "c473d668-ebf7-4378-ae41-b9a0c1d844f9"
      },
      "outputs": [
        {
          "output_type": "execute_result",
          "data": {
            "text/plain": [
              "1    1483\n",
              "0    1447\n",
              "Name: exited, dtype: int64"
            ]
          },
          "metadata": {},
          "execution_count": 37
        }
      ],
      "source": [
        "def downsample(features, target, fraction):\n",
        "    features_zeros = features[target == 0]\n",
        "    features_ones = features[target == 1]\n",
        "    target_zeros = target[target == 0]\n",
        "    target_ones = target[target == 1]\n",
        "\n",
        "    features_downsampled = pd.concat([features_zeros.sample(frac=fraction, random_state=12345)] + [features_ones])\n",
        "    target_downsampled = pd.concat([target_zeros.sample(frac=fraction, random_state=12345)] + [target_ones])\n",
        "\n",
        "    features_downsampled, target_downsampled = shuffle(features_downsampled, target_downsampled, random_state=12345)\n",
        "\n",
        "    return features_downsampled, target_downsampled\n",
        "\n",
        "x_downsampled, y_downsampled = downsample(x_train, y_train, 0.25)\n",
        "y_downsampled.value_counts()"
      ]
    },
    {
      "cell_type": "markdown",
      "metadata": {
        "id": "UgoCOjDhKDzO"
      },
      "source": [
        "#### Логистическая регрессия"
      ]
    },
    {
      "cell_type": "code",
      "execution_count": 38,
      "metadata": {
        "colab": {
          "base_uri": "https://localhost:8080/"
        },
        "id": "59PNohiEKDzP",
        "outputId": "ebb283a6-be4a-4ad7-ab74-7f151c2f2d9d"
      },
      "outputs": [
        {
          "output_type": "execute_result",
          "data": {
            "text/plain": [
              "(0.7187486157111487, 0.7769041822516944)"
            ]
          },
          "metadata": {},
          "execution_count": 38
        }
      ],
      "source": [
        "downsampled_linear_model = LogisticRegression()\n",
        "\n",
        "downsampled_linear_f1 = cross_val_score(downsampled_linear_model, x_downsampled, y_downsampled, cv=5, scoring='f1')\n",
        "downsampled_linear_roc_auc = cross_val_score(downsampled_linear_model, x_downsampled, y_downsampled, cv=5, scoring='roc_auc')\n",
        "\n",
        "downsampled_linear_f1.mean(), downsampled_linear_roc_auc.mean()"
      ]
    },
    {
      "cell_type": "markdown",
      "metadata": {
        "id": "dBmK7WbqKDzP"
      },
      "source": [
        "#### Дерево решений"
      ]
    },
    {
      "cell_type": "code",
      "execution_count": 39,
      "metadata": {
        "colab": {
          "base_uri": "https://localhost:8080/",
          "height": 152
        },
        "id": "GDsVBS8mKDzP",
        "outputId": "ffc2f859-59d6-4a5a-b47c-6c7facb1d7d6"
      },
      "outputs": [
        {
          "output_type": "stream",
          "name": "stdout",
          "text": [
            "CPU times: user 7.14 s, sys: 96.9 ms, total: 7.24 s\n",
            "Wall time: 7.17 s\n"
          ]
        },
        {
          "output_type": "execute_result",
          "data": {
            "text/plain": [
              "GridSearchCV(cv=5, estimator=DecisionTreeClassifier(random_state=42),\n",
              "             param_grid={'max_depth': [1, 2, 3, 4, 5, 6, 7, 8, 9, 10, 11, 12,\n",
              "                                       13, 14, 15, 16, 17, 18, 19, 20, 21, 22,\n",
              "                                       23, 24, 25, 26, 27, 28, 29, 30, ...]},\n",
              "             refit='f1', return_train_score=True,\n",
              "             scoring={'ROC-AUC': 'roc_auc', 'f1': 'f1'})"
            ],
            "text/html": [
              "<style>#sk-container-id-7 {color: black;background-color: white;}#sk-container-id-7 pre{padding: 0;}#sk-container-id-7 div.sk-toggleable {background-color: white;}#sk-container-id-7 label.sk-toggleable__label {cursor: pointer;display: block;width: 100%;margin-bottom: 0;padding: 0.3em;box-sizing: border-box;text-align: center;}#sk-container-id-7 label.sk-toggleable__label-arrow:before {content: \"▸\";float: left;margin-right: 0.25em;color: #696969;}#sk-container-id-7 label.sk-toggleable__label-arrow:hover:before {color: black;}#sk-container-id-7 div.sk-estimator:hover label.sk-toggleable__label-arrow:before {color: black;}#sk-container-id-7 div.sk-toggleable__content {max-height: 0;max-width: 0;overflow: hidden;text-align: left;background-color: #f0f8ff;}#sk-container-id-7 div.sk-toggleable__content pre {margin: 0.2em;color: black;border-radius: 0.25em;background-color: #f0f8ff;}#sk-container-id-7 input.sk-toggleable__control:checked~div.sk-toggleable__content {max-height: 200px;max-width: 100%;overflow: auto;}#sk-container-id-7 input.sk-toggleable__control:checked~label.sk-toggleable__label-arrow:before {content: \"▾\";}#sk-container-id-7 div.sk-estimator input.sk-toggleable__control:checked~label.sk-toggleable__label {background-color: #d4ebff;}#sk-container-id-7 div.sk-label input.sk-toggleable__control:checked~label.sk-toggleable__label {background-color: #d4ebff;}#sk-container-id-7 input.sk-hidden--visually {border: 0;clip: rect(1px 1px 1px 1px);clip: rect(1px, 1px, 1px, 1px);height: 1px;margin: -1px;overflow: hidden;padding: 0;position: absolute;width: 1px;}#sk-container-id-7 div.sk-estimator {font-family: monospace;background-color: #f0f8ff;border: 1px dotted black;border-radius: 0.25em;box-sizing: border-box;margin-bottom: 0.5em;}#sk-container-id-7 div.sk-estimator:hover {background-color: #d4ebff;}#sk-container-id-7 div.sk-parallel-item::after {content: \"\";width: 100%;border-bottom: 1px solid gray;flex-grow: 1;}#sk-container-id-7 div.sk-label:hover label.sk-toggleable__label {background-color: #d4ebff;}#sk-container-id-7 div.sk-serial::before {content: \"\";position: absolute;border-left: 1px solid gray;box-sizing: border-box;top: 0;bottom: 0;left: 50%;z-index: 0;}#sk-container-id-7 div.sk-serial {display: flex;flex-direction: column;align-items: center;background-color: white;padding-right: 0.2em;padding-left: 0.2em;position: relative;}#sk-container-id-7 div.sk-item {position: relative;z-index: 1;}#sk-container-id-7 div.sk-parallel {display: flex;align-items: stretch;justify-content: center;background-color: white;position: relative;}#sk-container-id-7 div.sk-item::before, #sk-container-id-7 div.sk-parallel-item::before {content: \"\";position: absolute;border-left: 1px solid gray;box-sizing: border-box;top: 0;bottom: 0;left: 50%;z-index: -1;}#sk-container-id-7 div.sk-parallel-item {display: flex;flex-direction: column;z-index: 1;position: relative;background-color: white;}#sk-container-id-7 div.sk-parallel-item:first-child::after {align-self: flex-end;width: 50%;}#sk-container-id-7 div.sk-parallel-item:last-child::after {align-self: flex-start;width: 50%;}#sk-container-id-7 div.sk-parallel-item:only-child::after {width: 0;}#sk-container-id-7 div.sk-dashed-wrapped {border: 1px dashed gray;margin: 0 0.4em 0.5em 0.4em;box-sizing: border-box;padding-bottom: 0.4em;background-color: white;}#sk-container-id-7 div.sk-label label {font-family: monospace;font-weight: bold;display: inline-block;line-height: 1.2em;}#sk-container-id-7 div.sk-label-container {text-align: center;}#sk-container-id-7 div.sk-container {/* jupyter's `normalize.less` sets `[hidden] { display: none; }` but bootstrap.min.css set `[hidden] { display: none !important; }` so we also need the `!important` here to be able to override the default hidden behavior on the sphinx rendered scikit-learn.org. See: https://github.com/scikit-learn/scikit-learn/issues/21755 */display: inline-block !important;position: relative;}#sk-container-id-7 div.sk-text-repr-fallback {display: none;}</style><div id=\"sk-container-id-7\" class=\"sk-top-container\"><div class=\"sk-text-repr-fallback\"><pre>GridSearchCV(cv=5, estimator=DecisionTreeClassifier(random_state=42),\n",
              "             param_grid={&#x27;max_depth&#x27;: [1, 2, 3, 4, 5, 6, 7, 8, 9, 10, 11, 12,\n",
              "                                       13, 14, 15, 16, 17, 18, 19, 20, 21, 22,\n",
              "                                       23, 24, 25, 26, 27, 28, 29, 30, ...]},\n",
              "             refit=&#x27;f1&#x27;, return_train_score=True,\n",
              "             scoring={&#x27;ROC-AUC&#x27;: &#x27;roc_auc&#x27;, &#x27;f1&#x27;: &#x27;f1&#x27;})</pre><b>In a Jupyter environment, please rerun this cell to show the HTML representation or trust the notebook. <br />On GitHub, the HTML representation is unable to render, please try loading this page with nbviewer.org.</b></div><div class=\"sk-container\" hidden><div class=\"sk-item sk-dashed-wrapped\"><div class=\"sk-label-container\"><div class=\"sk-label sk-toggleable\"><input class=\"sk-toggleable__control sk-hidden--visually\" id=\"sk-estimator-id-19\" type=\"checkbox\" ><label for=\"sk-estimator-id-19\" class=\"sk-toggleable__label sk-toggleable__label-arrow\">GridSearchCV</label><div class=\"sk-toggleable__content\"><pre>GridSearchCV(cv=5, estimator=DecisionTreeClassifier(random_state=42),\n",
              "             param_grid={&#x27;max_depth&#x27;: [1, 2, 3, 4, 5, 6, 7, 8, 9, 10, 11, 12,\n",
              "                                       13, 14, 15, 16, 17, 18, 19, 20, 21, 22,\n",
              "                                       23, 24, 25, 26, 27, 28, 29, 30, ...]},\n",
              "             refit=&#x27;f1&#x27;, return_train_score=True,\n",
              "             scoring={&#x27;ROC-AUC&#x27;: &#x27;roc_auc&#x27;, &#x27;f1&#x27;: &#x27;f1&#x27;})</pre></div></div></div><div class=\"sk-parallel\"><div class=\"sk-parallel-item\"><div class=\"sk-item\"><div class=\"sk-label-container\"><div class=\"sk-label sk-toggleable\"><input class=\"sk-toggleable__control sk-hidden--visually\" id=\"sk-estimator-id-20\" type=\"checkbox\" ><label for=\"sk-estimator-id-20\" class=\"sk-toggleable__label sk-toggleable__label-arrow\">estimator: DecisionTreeClassifier</label><div class=\"sk-toggleable__content\"><pre>DecisionTreeClassifier(random_state=42)</pre></div></div></div><div class=\"sk-serial\"><div class=\"sk-item\"><div class=\"sk-estimator sk-toggleable\"><input class=\"sk-toggleable__control sk-hidden--visually\" id=\"sk-estimator-id-21\" type=\"checkbox\" ><label for=\"sk-estimator-id-21\" class=\"sk-toggleable__label sk-toggleable__label-arrow\">DecisionTreeClassifier</label><div class=\"sk-toggleable__content\"><pre>DecisionTreeClassifier(random_state=42)</pre></div></div></div></div></div></div></div></div></div></div>"
            ]
          },
          "metadata": {},
          "execution_count": 39
        }
      ],
      "source": [
        "%%time\n",
        "\n",
        "downsampled_tree_search = GridSearchCV(\n",
        "    estimator = DecisionTreeClassifier(random_state = 42),\n",
        "    param_grid = tree_hyperparams,\n",
        "    scoring = scoring,\n",
        "    cv = 5,\n",
        "    refit = 'f1',\n",
        "    return_train_score = True)\n",
        "\n",
        "downsampled_tree_search.fit(x_downsampled, y_downsampled)"
      ]
    },
    {
      "cell_type": "code",
      "execution_count": 40,
      "metadata": {
        "scrolled": false,
        "colab": {
          "base_uri": "https://localhost:8080/",
          "height": 676
        },
        "id": "KItkAQYEKDzP",
        "outputId": "1d98966b-0820-4aae-dfbe-b98b893d7284"
      },
      "outputs": [
        {
          "output_type": "display_data",
          "data": {
            "text/plain": [
              "<Figure size 1000x800 with 1 Axes>"
            ],
            "image/png": "[encoded data removed]"
          },
          "metadata": {}
        }
      ],
      "source": [
        "learning_curve(downsampled_tree_search)"
      ]
    },
    {
      "cell_type": "code",
      "execution_count": 41,
      "metadata": {
        "colab": {
          "base_uri": "https://localhost:8080/"
        },
        "id": "P-51O5XTKDzP",
        "outputId": "e49a1cbc-3184-4420-ef33-924633e5d663"
      },
      "outputs": [
        {
          "output_type": "stream",
          "name": "stdout",
          "text": [
            "Лучшая модель \t DecisionTreeClassifier(max_depth=5, random_state=42)\n",
            "f1 \t\t 0.7645044856011461\n",
            "ROC-AUC \t 0.8376389127491322\n"
          ]
        }
      ],
      "source": [
        "get_final_scores(downsampled_tree_search)"
      ]
    },
    {
      "cell_type": "markdown",
      "metadata": {
        "id": "P3lxuJ0tKDzP"
      },
      "source": [
        "#### Случайный лес"
      ]
    },
    {
      "cell_type": "code",
      "execution_count": 42,
      "metadata": {
        "colab": {
          "base_uri": "https://localhost:8080/",
          "height": 152
        },
        "id": "893s3TeQKDzP",
        "outputId": "7cefebee-cc5c-405c-ae13-d45495ee6fc5"
      },
      "outputs": [
        {
          "output_type": "stream",
          "name": "stdout",
          "text": [
            "CPU times: user 1min 19s, sys: 261 ms, total: 1min 20s\n",
            "Wall time: 1min 20s\n"
          ]
        },
        {
          "output_type": "execute_result",
          "data": {
            "text/plain": [
              "GridSearchCV(cv=5, estimator=RandomForestClassifier(random_state=42),\n",
              "             param_grid={'max_depth': [1, 2, 3, 4, 5, 6, 7, 8, 9, 10, 11, 12,\n",
              "                                       13, 14, 15, 16, 17, 18, 19],\n",
              "                         'n_estimators': [10, 20, 30, 40, 50]},\n",
              "             refit='f1', return_train_score=True,\n",
              "             scoring={'ROC-AUC': 'roc_auc', 'f1': 'f1'})"
            ],
            "text/html": [
              "<style>#sk-container-id-8 {color: black;background-color: white;}#sk-container-id-8 pre{padding: 0;}#sk-container-id-8 div.sk-toggleable {background-color: white;}#sk-container-id-8 label.sk-toggleable__label {cursor: pointer;display: block;width: 100%;margin-bottom: 0;padding: 0.3em;box-sizing: border-box;text-align: center;}#sk-container-id-8 label.sk-toggleable__label-arrow:before {content: \"▸\";float: left;margin-right: 0.25em;color: #696969;}#sk-container-id-8 label.sk-toggleable__label-arrow:hover:before {color: black;}#sk-container-id-8 div.sk-estimator:hover label.sk-toggleable__label-arrow:before {color: black;}#sk-container-id-8 div.sk-toggleable__content {max-height: 0;max-width: 0;overflow: hidden;text-align: left;background-color: #f0f8ff;}#sk-container-id-8 div.sk-toggleable__content pre {margin: 0.2em;color: black;border-radius: 0.25em;background-color: #f0f8ff;}#sk-container-id-8 input.sk-toggleable__control:checked~div.sk-toggleable__content {max-height: 200px;max-width: 100%;overflow: auto;}#sk-container-id-8 input.sk-toggleable__control:checked~label.sk-toggleable__label-arrow:before {content: \"▾\";}#sk-container-id-8 div.sk-estimator input.sk-toggleable__control:checked~label.sk-toggleable__label {background-color: #d4ebff;}#sk-container-id-8 div.sk-label input.sk-toggleable__control:checked~label.sk-toggleable__label {background-color: #d4ebff;}#sk-container-id-8 input.sk-hidden--visually {border: 0;clip: rect(1px 1px 1px 1px);clip: rect(1px, 1px, 1px, 1px);height: 1px;margin: -1px;overflow: hidden;padding: 0;position: absolute;width: 1px;}#sk-container-id-8 div.sk-estimator {font-family: monospace;background-color: #f0f8ff;border: 1px dotted black;border-radius: 0.25em;box-sizing: border-box;margin-bottom: 0.5em;}#sk-container-id-8 div.sk-estimator:hover {background-color: #d4ebff;}#sk-container-id-8 div.sk-parallel-item::after {content: \"\";width: 100%;border-bottom: 1px solid gray;flex-grow: 1;}#sk-container-id-8 div.sk-label:hover label.sk-toggleable__label {background-color: #d4ebff;}#sk-container-id-8 div.sk-serial::before {content: \"\";position: absolute;border-left: 1px solid gray;box-sizing: border-box;top: 0;bottom: 0;left: 50%;z-index: 0;}#sk-container-id-8 div.sk-serial {display: flex;flex-direction: column;align-items: center;background-color: white;padding-right: 0.2em;padding-left: 0.2em;position: relative;}#sk-container-id-8 div.sk-item {position: relative;z-index: 1;}#sk-container-id-8 div.sk-parallel {display: flex;align-items: stretch;justify-content: center;background-color: white;position: relative;}#sk-container-id-8 div.sk-item::before, #sk-container-id-8 div.sk-parallel-item::before {content: \"\";position: absolute;border-left: 1px solid gray;box-sizing: border-box;top: 0;bottom: 0;left: 50%;z-index: -1;}#sk-container-id-8 div.sk-parallel-item {display: flex;flex-direction: column;z-index: 1;position: relative;background-color: white;}#sk-container-id-8 div.sk-parallel-item:first-child::after {align-self: flex-end;width: 50%;}#sk-container-id-8 div.sk-parallel-item:last-child::after {align-self: flex-start;width: 50%;}#sk-container-id-8 div.sk-parallel-item:only-child::after {width: 0;}#sk-container-id-8 div.sk-dashed-wrapped {border: 1px dashed gray;margin: 0 0.4em 0.5em 0.4em;box-sizing: border-box;padding-bottom: 0.4em;background-color: white;}#sk-container-id-8 div.sk-label label {font-family: monospace;font-weight: bold;display: inline-block;line-height: 1.2em;}#sk-container-id-8 div.sk-label-container {text-align: center;}#sk-container-id-8 div.sk-container {/* jupyter's `normalize.less` sets `[hidden] { display: none; }` but bootstrap.min.css set `[hidden] { display: none !important; }` so we also need the `!important` here to be able to override the default hidden behavior on the sphinx rendered scikit-learn.org. See: https://github.com/scikit-learn/scikit-learn/issues/21755 */display: inline-block !important;position: relative;}#sk-container-id-8 div.sk-text-repr-fallback {display: none;}</style><div id=\"sk-container-id-8\" class=\"sk-top-container\"><div class=\"sk-text-repr-fallback\"><pre>GridSearchCV(cv=5, estimator=RandomForestClassifier(random_state=42),\n",
              "             param_grid={&#x27;max_depth&#x27;: [1, 2, 3, 4, 5, 6, 7, 8, 9, 10, 11, 12,\n",
              "                                       13, 14, 15, 16, 17, 18, 19],\n",
              "                         &#x27;n_estimators&#x27;: [10, 20, 30, 40, 50]},\n",
              "             refit=&#x27;f1&#x27;, return_train_score=True,\n",
              "             scoring={&#x27;ROC-AUC&#x27;: &#x27;roc_auc&#x27;, &#x27;f1&#x27;: &#x27;f1&#x27;})</pre><b>In a Jupyter environment, please rerun this cell to show the HTML representation or trust the notebook. <br />On GitHub, the HTML representation is unable to render, please try loading this page with nbviewer.org.</b></div><div class=\"sk-container\" hidden><div class=\"sk-item sk-dashed-wrapped\"><div class=\"sk-label-container\"><div class=\"sk-label sk-toggleable\"><input class=\"sk-toggleable__control sk-hidden--visually\" id=\"sk-estimator-id-22\" type=\"checkbox\" ><label for=\"sk-estimator-id-22\" class=\"sk-toggleable__label sk-toggleable__label-arrow\">GridSearchCV</label><div class=\"sk-toggleable__content\"><pre>GridSearchCV(cv=5, estimator=RandomForestClassifier(random_state=42),\n",
              "             param_grid={&#x27;max_depth&#x27;: [1, 2, 3, 4, 5, 6, 7, 8, 9, 10, 11, 12,\n",
              "                                       13, 14, 15, 16, 17, 18, 19],\n",
              "                         &#x27;n_estimators&#x27;: [10, 20, 30, 40, 50]},\n",
              "             refit=&#x27;f1&#x27;, return_train_score=True,\n",
              "             scoring={&#x27;ROC-AUC&#x27;: &#x27;roc_auc&#x27;, &#x27;f1&#x27;: &#x27;f1&#x27;})</pre></div></div></div><div class=\"sk-parallel\"><div class=\"sk-parallel-item\"><div class=\"sk-item\"><div class=\"sk-label-container\"><div class=\"sk-label sk-toggleable\"><input class=\"sk-toggleable__control sk-hidden--visually\" id=\"sk-estimator-id-23\" type=\"checkbox\" ><label for=\"sk-estimator-id-23\" class=\"sk-toggleable__label sk-toggleable__label-arrow\">estimator: RandomForestClassifier</label><div class=\"sk-toggleable__content\"><pre>RandomForestClassifier(random_state=42)</pre></div></div></div><div class=\"sk-serial\"><div class=\"sk-item\"><div class=\"sk-estimator sk-toggleable\"><input class=\"sk-toggleable__control sk-hidden--visually\" id=\"sk-estimator-id-24\" type=\"checkbox\" ><label for=\"sk-estimator-id-24\" class=\"sk-toggleable__label sk-toggleable__label-arrow\">RandomForestClassifier</label><div class=\"sk-toggleable__content\"><pre>RandomForestClassifier(random_state=42)</pre></div></div></div></div></div></div></div></div></div></div>"
            ]
          },
          "metadata": {},
          "execution_count": 42
        }
      ],
      "source": [
        "%%time\n",
        "\n",
        "downsampled_forest_search = GridSearchCV(\n",
        "    estimator = RandomForestClassifier(random_state = 42),\n",
        "    param_grid = forest_hyperparams,\n",
        "    scoring = scoring,\n",
        "    cv = 5,\n",
        "    refit = 'f1',\n",
        "    return_train_score = True)\n",
        "\n",
        "downsampled_forest_search.fit(x_downsampled, y_downsampled)"
      ]
    },
    {
      "cell_type": "code",
      "execution_count": 43,
      "metadata": {
        "colab": {
          "base_uri": "https://localhost:8080/",
          "height": 676
        },
        "id": "CmBz9HF1KDzQ",
        "outputId": "1e8b8d38-0ffd-4f4d-93a4-52d92299abc4"
      },
      "outputs": [
        {
          "output_type": "display_data",
          "data": {
            "text/plain": [
              "<Figure size 1000x800 with 1 Axes>"
            ],
            "image/png": "[encoded data removed]"
          },
          "metadata": {}
        }
      ],
      "source": [
        "learning_curve(downsampled_forest_search)"
      ]
    },
    {
      "cell_type": "code",
      "execution_count": 44,
      "metadata": {
        "scrolled": false,
        "colab": {
          "base_uri": "https://localhost:8080/"
        },
        "id": "1Tr4DD3HKDzQ",
        "outputId": "90802a95-c225-4dc1-aef8-94cea2f16fc8"
      },
      "outputs": [
        {
          "output_type": "stream",
          "name": "stdout",
          "text": [
            "Лучшая модель \t RandomForestClassifier(max_depth=8, n_estimators=40, random_state=42)\n",
            "f1 \t\t 0.785355735297881\n",
            "ROC-AUC \t 0.8635954207616301\n"
          ]
        }
      ],
      "source": [
        "get_final_scores(downsampled_forest_search)"
      ]
    },
    {
      "cell_type": "markdown",
      "metadata": {
        "id": "u2_S5KE_KDzQ"
      },
      "source": [
        "### Итоги"
      ]
    },
    {
      "cell_type": "code",
      "execution_count": 45,
      "metadata": {
        "colab": {
          "base_uri": "https://localhost:8080/",
          "height": 175
        },
        "id": "hNwllRFtKDzQ",
        "outputId": "7a199308-b4a3-4597-89d0-de821d9687aa"
      },
      "outputs": [
        {
          "output_type": "execute_result",
          "data": {
            "text/plain": [
              "             logistic regression  decision tree  random forest\n",
              "default                 0.322181       0.558754       0.578364\n",
              "balanced                0.498044       0.568261       0.617827\n",
              "upsampled               0.736326       0.830224       0.892688\n",
              "downsampled             0.718749       0.764504       0.785356"
            ],
            "text/html": [
              "\n",
              "  <div id=\"df-8ecaef7e-ebd5-4374-a8f6-0ef2c4ca3bbc\" class=\"colab-df-container\">\n",
              "    <div>\n",
              "<style scoped>\n",
              "    .dataframe tbody tr th:only-of-type {\n",
              "        vertical-align: middle;\n",
              "    }\n",
              "\n",
              "    .dataframe tbody tr th {\n",
              "        vertical-align: top;\n",
              "    }\n",
              "\n",
              "    .dataframe thead th {\n",
              "        text-align: right;\n",
              "    }\n",
              "</style>\n",
              "<table border=\"1\" class=\"dataframe\">\n",
              "  <thead>\n",
              "    <tr style=\"text-align: right;\">\n",
              "      <th></th>\n",
              "      <th>logistic regression</th>\n",
              "      <th>decision tree</th>\n",
              "      <th>random forest</th>\n",
              "    </tr>\n",
              "  </thead>\n",
              "  <tbody>\n",
              "    <tr>\n",
              "      <th>default</th>\n",
              "      <td>0.322181</td>\n",
              "      <td>0.558754</td>\n",
              "      <td>0.578364</td>\n",
              "    </tr>\n",
              "    <tr>\n",
              "      <th>balanced</th>\n",
              "      <td>0.498044</td>\n",
              "      <td>0.568261</td>\n",
              "      <td>0.617827</td>\n",
              "    </tr>\n",
              "    <tr>\n",
              "      <th>upsampled</th>\n",
              "      <td>0.736326</td>\n",
              "      <td>0.830224</td>\n",
              "      <td>0.892688</td>\n",
              "    </tr>\n",
              "    <tr>\n",
              "      <th>downsampled</th>\n",
              "      <td>0.718749</td>\n",
              "      <td>0.764504</td>\n",
              "      <td>0.785356</td>\n",
              "    </tr>\n",
              "  </tbody>\n",
              "</table>\n",
              "</div>\n",
              "    <div class=\"colab-df-buttons\">\n",
              "\n",
              "  <div class=\"colab-df-container\">\n",
              "    <button class=\"colab-df-convert\" onclick=\"convertToInteractive('df-8ecaef7e-ebd5-4374-a8f6-0ef2c4ca3bbc')\"\n",
              "            title=\"Convert this dataframe to an interactive table.\"\n",
              "            style=\"display:none;\">\n",
              "\n",
              "  <svg xmlns=\"http://www.w3.org/2000/svg\" height=\"24px\" viewBox=\"0 -960 960 960\">\n",
              "    <path d=\"M120-120v-720h720v720H120Zm60-500h600v-160H180v160Zm220 220h160v-160H400v160Zm0 220h160v-160H400v160ZM180-400h160v-160H180v160Zm440 0h160v-160H620v160ZM180-180h160v-160H180v160Zm440 0h160v-160H620v160Z\"/>\n",
              "  </svg>\n",
              "    </button>\n",
              "\n",
              "  <style>\n",
              "    .colab-df-container {\n",
              "      display:flex;\n",
              "      gap: 12px;\n",
              "    }\n",
              "\n",
              "    .colab-df-convert {\n",
              "      background-color: #E8F0FE;\n",
              "      border: none;\n",
              "      border-radius: 50%;\n",
              "      cursor: pointer;\n",
              "      display: none;\n",
              "      fill: #1967D2;\n",
              "      height: 32px;\n",
              "      padding: 0 0 0 0;\n",
              "      width: 32px;\n",
              "    }\n",
              "\n",
              "    .colab-df-convert:hover {\n",
              "      background-color: #E2EBFA;\n",
              "      box-shadow: 0px 1px 2px rgba(60, 64, 67, 0.3), 0px 1px 3px 1px rgba(60, 64, 67, 0.15);\n",
              "      fill: #174EA6;\n",
              "    }\n",
              "\n",
              "    .colab-df-buttons div {\n",
              "      margin-bottom: 4px;\n",
              "    }\n",
              "\n",
              "    [theme=dark] .colab-df-convert {\n",
              "      background-color: #3B4455;\n",
              "      fill: #D2E3FC;\n",
              "    }\n",
              "\n",
              "    [theme=dark] .colab-df-convert:hover {\n",
              "      background-color: #434B5C;\n",
              "      box-shadow: 0px 1px 3px 1px rgba(0, 0, 0, 0.15);\n",
              "      filter: drop-shadow(0px 1px 2px rgba(0, 0, 0, 0.3));\n",
              "      fill: #FFFFFF;\n",
              "    }\n",
              "  </style>\n",
              "\n",
              "    <script>\n",
              "      const buttonEl =\n",
              "        document.querySelector('#df-8ecaef7e-ebd5-4374-a8f6-0ef2c4ca3bbc button.colab-df-convert');\n",
              "      buttonEl.style.display =\n",
              "        google.colab.kernel.accessAllowed ? 'block' : 'none';\n",
              "\n",
              "      async function convertToInteractive(key) {\n",
              "        const element = document.querySelector('#df-8ecaef7e-ebd5-4374-a8f6-0ef2c4ca3bbc');\n",
              "        const dataTable =\n",
              "          await google.colab.kernel.invokeFunction('convertToInteractive',\n",
              "                                                    [key], {});\n",
              "        if (!dataTable) return;\n",
              "\n",
              "        const docLinkHtml = 'Like what you see? Visit the ' +\n",
              "          '<a target=\"_blank\" href=https://colab.research.google.com/notebooks/data_table.ipynb>data table notebook</a>'\n",
              "          + ' to learn more about interactive tables.';\n",
              "        element.innerHTML = '';\n",
              "        dataTable['output_type'] = 'display_data';\n",
              "        await google.colab.output.renderOutput(dataTable, element);\n",
              "        const docLink = document.createElement('div');\n",
              "        docLink.innerHTML = docLinkHtml;\n",
              "        element.appendChild(docLink);\n",
              "      }\n",
              "    </script>\n",
              "  </div>\n",
              "\n",
              "\n",
              "<div id=\"df-65144c00-938a-4601-bb95-2e4bc2595e30\">\n",
              "  <button class=\"colab-df-quickchart\" onclick=\"quickchart('df-65144c00-938a-4601-bb95-2e4bc2595e30')\"\n",
              "            title=\"Suggest charts.\"\n",
              "            style=\"display:none;\">\n",
              "\n",
              "<svg xmlns=\"http://www.w3.org/2000/svg\" height=\"24px\"viewBox=\"0 0 24 24\"\n",
              "     width=\"24px\">\n",
              "    <g>\n",
              "        <path d=\"M19 3H5c-1.1 0-2 .9-2 2v14c0 1.1.9 2 2 2h14c1.1 0 2-.9 2-2V5c0-1.1-.9-2-2-2zM9 17H7v-7h2v7zm4 0h-2V7h2v10zm4 0h-2v-4h2v4z\"/>\n",
              "    </g>\n",
              "</svg>\n",
              "  </button>\n",
              "\n",
              "<style>\n",
              "  .colab-df-quickchart {\n",
              "      --bg-color: #E8F0FE;\n",
              "      --fill-color: #1967D2;\n",
              "      --hover-bg-color: #E2EBFA;\n",
              "      --hover-fill-color: #174EA6;\n",
              "      --disabled-fill-color: #AAA;\n",
              "      --disabled-bg-color: #DDD;\n",
              "  }\n",
              "\n",
              "  [theme=dark] .colab-df-quickchart {\n",
              "      --bg-color: #3B4455;\n",
              "      --fill-color: #D2E3FC;\n",
              "      --hover-bg-color: #434B5C;\n",
              "      --hover-fill-color: #FFFFFF;\n",
              "      --disabled-bg-color: #3B4455;\n",
              "      --disabled-fill-color: #666;\n",
              "  }\n",
              "\n",
              "  .colab-df-quickchart {\n",
              "    background-color: var(--bg-color);\n",
              "    border: none;\n",
              "    border-radius: 50%;\n",
              "    cursor: pointer;\n",
              "    display: none;\n",
              "    fill: var(--fill-color);\n",
              "    height: 32px;\n",
              "    padding: 0;\n",
              "    width: 32px;\n",
              "  }\n",
              "\n",
              "  .colab-df-quickchart:hover {\n",
              "    background-color: var(--hover-bg-color);\n",
              "    box-shadow: 0 1px 2px rgba(60, 64, 67, 0.3), 0 1px 3px 1px rgba(60, 64, 67, 0.15);\n",
              "    fill: var(--button-hover-fill-color);\n",
              "  }\n",
              "\n",
              "  .colab-df-quickchart-complete:disabled,\n",
              "  .colab-df-quickchart-complete:disabled:hover {\n",
              "    background-color: var(--disabled-bg-color);\n",
              "    fill: var(--disabled-fill-color);\n",
              "    box-shadow: none;\n",
              "  }\n",
              "\n",
              "  .colab-df-spinner {\n",
              "    border: 2px solid var(--fill-color);\n",
              "    border-color: transparent;\n",
              "    border-bottom-color: var(--fill-color);\n",
              "    animation:\n",
              "      spin 1s steps(1) infinite;\n",
              "  }\n",
              "\n",
              "  @keyframes spin {\n",
              "    0% {\n",
              "      border-color: transparent;\n",
              "      border-bottom-color: var(--fill-color);\n",
              "      border-left-color: var(--fill-color);\n",
              "    }\n",
              "    20% {\n",
              "      border-color: transparent;\n",
              "      border-left-color: var(--fill-color);\n",
              "      border-top-color: var(--fill-color);\n",
              "    }\n",
              "    30% {\n",
              "      border-color: transparent;\n",
              "      border-left-color: var(--fill-color);\n",
              "      border-top-color: var(--fill-color);\n",
              "      border-right-color: var(--fill-color);\n",
              "    }\n",
              "    40% {\n",
              "      border-color: transparent;\n",
              "      border-right-color: var(--fill-color);\n",
              "      border-top-color: var(--fill-color);\n",
              "    }\n",
              "    60% {\n",
              "      border-color: transparent;\n",
              "      border-right-color: var(--fill-color);\n",
              "    }\n",
              "    80% {\n",
              "      border-color: transparent;\n",
              "      border-right-color: var(--fill-color);\n",
              "      border-bottom-color: var(--fill-color);\n",
              "    }\n",
              "    90% {\n",
              "      border-color: transparent;\n",
              "      border-bottom-color: var(--fill-color);\n",
              "    }\n",
              "  }\n",
              "</style>\n",
              "\n",
              "  <script>\n",
              "    async function quickchart(key) {\n",
              "      const quickchartButtonEl =\n",
              "        document.querySelector('#' + key + ' button');\n",
              "      quickchartButtonEl.disabled = true;  // To prevent multiple clicks.\n",
              "      quickchartButtonEl.classList.add('colab-df-spinner');\n",
              "      try {\n",
              "        const charts = await google.colab.kernel.invokeFunction(\n",
              "            'suggestCharts', [key], {});\n",
              "      } catch (error) {\n",
              "        console.error('Error during call to suggestCharts:', error);\n",
              "      }\n",
              "      quickchartButtonEl.classList.remove('colab-df-spinner');\n",
              "      quickchartButtonEl.classList.add('colab-df-quickchart-complete');\n",
              "    }\n",
              "    (() => {\n",
              "      let quickchartButtonEl =\n",
              "        document.querySelector('#df-65144c00-938a-4601-bb95-2e4bc2595e30 button');\n",
              "      quickchartButtonEl.style.display =\n",
              "        google.colab.kernel.accessAllowed ? 'block' : 'none';\n",
              "    })();\n",
              "  </script>\n",
              "</div>\n",
              "    </div>\n",
              "  </div>\n"
            ]
          },
          "metadata": {},
          "execution_count": 45
        }
      ],
      "source": [
        "default = [linear_f1.mean(), tree_search.best_score_, forest_search.best_score_]\n",
        "balanced = [balanced_linear_f1.mean(), balanced_tree_search.best_score_, balanced_forest_search.best_score_]\n",
        "upsampled = [upsampled_linear_f1.mean(), upsampled_tree_search.best_score_, upsampled_forest_search.best_score_]\n",
        "downsampled = [downsampled_linear_f1.mean(), downsampled_tree_search.best_score_, downsampled_forest_search.best_score_]\n",
        "results = pd.DataFrame(\n",
        "    [default, balanced, upsampled, downsampled],\n",
        "    index = ['default', 'balanced', 'upsampled', 'downsampled'],\n",
        "    columns = ['logistic regression', 'decision tree', 'random forest'])\n",
        "results"
      ]
    },
    {
      "cell_type": "markdown",
      "metadata": {
        "id": "beptOAJUKDzQ"
      },
      "source": [
        "Для устранения дисбаланса классов применены три техники - взвешивание классов, upsampling и  downsampling. Наилучшие результаты показывает модель случайного леса при применении техники upsampling."
      ]
    },
    {
      "cell_type": "code",
      "execution_count": 46,
      "metadata": {
        "colab": {
          "base_uri": "https://localhost:8080/",
          "height": 175
        },
        "id": "BsUEL8HVKDzQ",
        "outputId": "5f26c5b5-81ff-4507-8445-64cb1c91a5f4"
      },
      "outputs": [
        {
          "output_type": "execute_result",
          "data": {
            "text/plain": [
              "             logistic regression  decision tree  random forest\n",
              "default                 0.767805       0.831377       0.852793\n",
              "balanced                0.771037       0.831989       0.858153\n",
              "upsampled               0.807139       0.830665       0.959220\n",
              "downsampled             0.776904       0.837639       0.863595"
            ],
            "text/html": [
              "\n",
              "  <div id=\"df-93c194f1-d991-4d84-a183-d35831eb8f3d\" class=\"colab-df-container\">\n",
              "    <div>\n",
              "<style scoped>\n",
              "    .dataframe tbody tr th:only-of-type {\n",
              "        vertical-align: middle;\n",
              "    }\n",
              "\n",
              "    .dataframe tbody tr th {\n",
              "        vertical-align: top;\n",
              "    }\n",
              "\n",
              "    .dataframe thead th {\n",
              "        text-align: right;\n",
              "    }\n",
              "</style>\n",
              "<table border=\"1\" class=\"dataframe\">\n",
              "  <thead>\n",
              "    <tr style=\"text-align: right;\">\n",
              "      <th></th>\n",
              "      <th>logistic regression</th>\n",
              "      <th>decision tree</th>\n",
              "      <th>random forest</th>\n",
              "    </tr>\n",
              "  </thead>\n",
              "  <tbody>\n",
              "    <tr>\n",
              "      <th>default</th>\n",
              "      <td>0.767805</td>\n",
              "      <td>0.831377</td>\n",
              "      <td>0.852793</td>\n",
              "    </tr>\n",
              "    <tr>\n",
              "      <th>balanced</th>\n",
              "      <td>0.771037</td>\n",
              "      <td>0.831989</td>\n",
              "      <td>0.858153</td>\n",
              "    </tr>\n",
              "    <tr>\n",
              "      <th>upsampled</th>\n",
              "      <td>0.807139</td>\n",
              "      <td>0.830665</td>\n",
              "      <td>0.959220</td>\n",
              "    </tr>\n",
              "    <tr>\n",
              "      <th>downsampled</th>\n",
              "      <td>0.776904</td>\n",
              "      <td>0.837639</td>\n",
              "      <td>0.863595</td>\n",
              "    </tr>\n",
              "  </tbody>\n",
              "</table>\n",
              "</div>\n",
              "    <div class=\"colab-df-buttons\">\n",
              "\n",
              "  <div class=\"colab-df-container\">\n",
              "    <button class=\"colab-df-convert\" onclick=\"convertToInteractive('df-93c194f1-d991-4d84-a183-d35831eb8f3d')\"\n",
              "            title=\"Convert this dataframe to an interactive table.\"\n",
              "            style=\"display:none;\">\n",
              "\n",
              "  <svg xmlns=\"http://www.w3.org/2000/svg\" height=\"24px\" viewBox=\"0 -960 960 960\">\n",
              "    <path d=\"M120-120v-720h720v720H120Zm60-500h600v-160H180v160Zm220 220h160v-160H400v160Zm0 220h160v-160H400v160ZM180-400h160v-160H180v160Zm440 0h160v-160H620v160ZM180-180h160v-160H180v160Zm440 0h160v-160H620v160Z\"/>\n",
              "  </svg>\n",
              "    </button>\n",
              "\n",
              "  <style>\n",
              "    .colab-df-container {\n",
              "      display:flex;\n",
              "      gap: 12px;\n",
              "    }\n",
              "\n",
              "    .colab-df-convert {\n",
              "      background-color: #E8F0FE;\n",
              "      border: none;\n",
              "      border-radius: 50%;\n",
              "      cursor: pointer;\n",
              "      display: none;\n",
              "      fill: #1967D2;\n",
              "      height: 32px;\n",
              "      padding: 0 0 0 0;\n",
              "      width: 32px;\n",
              "    }\n",
              "\n",
              "    .colab-df-convert:hover {\n",
              "      background-color: #E2EBFA;\n",
              "      box-shadow: 0px 1px 2px rgba(60, 64, 67, 0.3), 0px 1px 3px 1px rgba(60, 64, 67, 0.15);\n",
              "      fill: #174EA6;\n",
              "    }\n",
              "\n",
              "    .colab-df-buttons div {\n",
              "      margin-bottom: 4px;\n",
              "    }\n",
              "\n",
              "    [theme=dark] .colab-df-convert {\n",
              "      background-color: #3B4455;\n",
              "      fill: #D2E3FC;\n",
              "    }\n",
              "\n",
              "    [theme=dark] .colab-df-convert:hover {\n",
              "      background-color: #434B5C;\n",
              "      box-shadow: 0px 1px 3px 1px rgba(0, 0, 0, 0.15);\n",
              "      filter: drop-shadow(0px 1px 2px rgba(0, 0, 0, 0.3));\n",
              "      fill: #FFFFFF;\n",
              "    }\n",
              "  </style>\n",
              "\n",
              "    <script>\n",
              "      const buttonEl =\n",
              "        document.querySelector('#df-93c194f1-d991-4d84-a183-d35831eb8f3d button.colab-df-convert');\n",
              "      buttonEl.style.display =\n",
              "        google.colab.kernel.accessAllowed ? 'block' : 'none';\n",
              "\n",
              "      async function convertToInteractive(key) {\n",
              "        const element = document.querySelector('#df-93c194f1-d991-4d84-a183-d35831eb8f3d');\n",
              "        const dataTable =\n",
              "          await google.colab.kernel.invokeFunction('convertToInteractive',\n",
              "                                                    [key], {});\n",
              "        if (!dataTable) return;\n",
              "\n",
              "        const docLinkHtml = 'Like what you see? Visit the ' +\n",
              "          '<a target=\"_blank\" href=https://colab.research.google.com/notebooks/data_table.ipynb>data table notebook</a>'\n",
              "          + ' to learn more about interactive tables.';\n",
              "        element.innerHTML = '';\n",
              "        dataTable['output_type'] = 'display_data';\n",
              "        await google.colab.output.renderOutput(dataTable, element);\n",
              "        const docLink = document.createElement('div');\n",
              "        docLink.innerHTML = docLinkHtml;\n",
              "        element.appendChild(docLink);\n",
              "      }\n",
              "    </script>\n",
              "  </div>\n",
              "\n",
              "\n",
              "<div id=\"df-6e55c09c-c487-4d84-bfa2-633fc662905e\">\n",
              "  <button class=\"colab-df-quickchart\" onclick=\"quickchart('df-6e55c09c-c487-4d84-bfa2-633fc662905e')\"\n",
              "            title=\"Suggest charts.\"\n",
              "            style=\"display:none;\">\n",
              "\n",
              "<svg xmlns=\"http://www.w3.org/2000/svg\" height=\"24px\"viewBox=\"0 0 24 24\"\n",
              "     width=\"24px\">\n",
              "    <g>\n",
              "        <path d=\"M19 3H5c-1.1 0-2 .9-2 2v14c0 1.1.9 2 2 2h14c1.1 0 2-.9 2-2V5c0-1.1-.9-2-2-2zM9 17H7v-7h2v7zm4 0h-2V7h2v10zm4 0h-2v-4h2v4z\"/>\n",
              "    </g>\n",
              "</svg>\n",
              "  </button>\n",
              "\n",
              "<style>\n",
              "  .colab-df-quickchart {\n",
              "      --bg-color: #E8F0FE;\n",
              "      --fill-color: #1967D2;\n",
              "      --hover-bg-color: #E2EBFA;\n",
              "      --hover-fill-color: #174EA6;\n",
              "      --disabled-fill-color: #AAA;\n",
              "      --disabled-bg-color: #DDD;\n",
              "  }\n",
              "\n",
              "  [theme=dark] .colab-df-quickchart {\n",
              "      --bg-color: #3B4455;\n",
              "      --fill-color: #D2E3FC;\n",
              "      --hover-bg-color: #434B5C;\n",
              "      --hover-fill-color: #FFFFFF;\n",
              "      --disabled-bg-color: #3B4455;\n",
              "      --disabled-fill-color: #666;\n",
              "  }\n",
              "\n",
              "  .colab-df-quickchart {\n",
              "    background-color: var(--bg-color);\n",
              "    border: none;\n",
              "    border-radius: 50%;\n",
              "    cursor: pointer;\n",
              "    display: none;\n",
              "    fill: var(--fill-color);\n",
              "    height: 32px;\n",
              "    padding: 0;\n",
              "    width: 32px;\n",
              "  }\n",
              "\n",
              "  .colab-df-quickchart:hover {\n",
              "    background-color: var(--hover-bg-color);\n",
              "    box-shadow: 0 1px 2px rgba(60, 64, 67, 0.3), 0 1px 3px 1px rgba(60, 64, 67, 0.15);\n",
              "    fill: var(--button-hover-fill-color);\n",
              "  }\n",
              "\n",
              "  .colab-df-quickchart-complete:disabled,\n",
              "  .colab-df-quickchart-complete:disabled:hover {\n",
              "    background-color: var(--disabled-bg-color);\n",
              "    fill: var(--disabled-fill-color);\n",
              "    box-shadow: none;\n",
              "  }\n",
              "\n",
              "  .colab-df-spinner {\n",
              "    border: 2px solid var(--fill-color);\n",
              "    border-color: transparent;\n",
              "    border-bottom-color: var(--fill-color);\n",
              "    animation:\n",
              "      spin 1s steps(1) infinite;\n",
              "  }\n",
              "\n",
              "  @keyframes spin {\n",
              "    0% {\n",
              "      border-color: transparent;\n",
              "      border-bottom-color: var(--fill-color);\n",
              "      border-left-color: var(--fill-color);\n",
              "    }\n",
              "    20% {\n",
              "      border-color: transparent;\n",
              "      border-left-color: var(--fill-color);\n",
              "      border-top-color: var(--fill-color);\n",
              "    }\n",
              "    30% {\n",
              "      border-color: transparent;\n",
              "      border-left-color: var(--fill-color);\n",
              "      border-top-color: var(--fill-color);\n",
              "      border-right-color: var(--fill-color);\n",
              "    }\n",
              "    40% {\n",
              "      border-color: transparent;\n",
              "      border-right-color: var(--fill-color);\n",
              "      border-top-color: var(--fill-color);\n",
              "    }\n",
              "    60% {\n",
              "      border-color: transparent;\n",
              "      border-right-color: var(--fill-color);\n",
              "    }\n",
              "    80% {\n",
              "      border-color: transparent;\n",
              "      border-right-color: var(--fill-color);\n",
              "      border-bottom-color: var(--fill-color);\n",
              "    }\n",
              "    90% {\n",
              "      border-color: transparent;\n",
              "      border-bottom-color: var(--fill-color);\n",
              "    }\n",
              "  }\n",
              "</style>\n",
              "\n",
              "  <script>\n",
              "    async function quickchart(key) {\n",
              "      const quickchartButtonEl =\n",
              "        document.querySelector('#' + key + ' button');\n",
              "      quickchartButtonEl.disabled = true;  // To prevent multiple clicks.\n",
              "      quickchartButtonEl.classList.add('colab-df-spinner');\n",
              "      try {\n",
              "        const charts = await google.colab.kernel.invokeFunction(\n",
              "            'suggestCharts', [key], {});\n",
              "      } catch (error) {\n",
              "        console.error('Error during call to suggestCharts:', error);\n",
              "      }\n",
              "      quickchartButtonEl.classList.remove('colab-df-spinner');\n",
              "      quickchartButtonEl.classList.add('colab-df-quickchart-complete');\n",
              "    }\n",
              "    (() => {\n",
              "      let quickchartButtonEl =\n",
              "        document.querySelector('#df-6e55c09c-c487-4d84-bfa2-633fc662905e button');\n",
              "      quickchartButtonEl.style.display =\n",
              "        google.colab.kernel.accessAllowed ? 'block' : 'none';\n",
              "    })();\n",
              "  </script>\n",
              "</div>\n",
              "    </div>\n",
              "  </div>\n"
            ]
          },
          "metadata": {},
          "execution_count": 46
        }
      ],
      "source": [
        "default = [linear_roc_auc.mean(), tree_search.cv_results_['mean_test_ROC-AUC'][tree_search.best_index_], forest_search.cv_results_['mean_test_ROC-AUC'][forest_search.best_index_]]\n",
        "balanced = [balanced_linear_roc_auc.mean(), balanced_tree_search.cv_results_['mean_test_ROC-AUC'][balanced_tree_search.best_index_], balanced_forest_search.cv_results_['mean_test_ROC-AUC'][balanced_forest_search.best_index_]]\n",
        "upsampled = [upsampled_linear_roc_auc.mean(), upsampled_tree_search.cv_results_['mean_test_ROC-AUC'][upsampled_tree_search.best_index_], upsampled_forest_search.cv_results_['mean_test_ROC-AUC'][upsampled_forest_search.best_index_]]\n",
        "downsampled = [downsampled_linear_roc_auc.mean(), downsampled_tree_search.cv_results_['mean_test_ROC-AUC'][downsampled_tree_search.best_index_], downsampled_forest_search.cv_results_['mean_test_ROC-AUC'][downsampled_forest_search.best_index_]]\n",
        "results = pd.DataFrame(\n",
        "    [default, balanced, upsampled, downsampled],\n",
        "    index = ['default', 'balanced', 'upsampled', 'downsampled'],\n",
        "    columns = ['logistic regression', 'decision tree', 'random forest'])\n",
        "results"
      ]
    },
    {
      "cell_type": "markdown",
      "metadata": {
        "id": "Pt0kbehjKDzQ"
      },
      "source": [
        "Наиболльшее значение AUC-ROC имеет модель случайного леса, обученная на апсемплированной выборке, однако это значение слишком близко к 1, что может свидетельствовать о переобучении модели. Дерево решений имеет примерно одинаковые значения метрики на всех техниках устранения дисбаланса и даже без них."
      ]
    },
    {
      "cell_type": "markdown",
      "metadata": {
        "id": "zlLtADs6KDzR"
      },
      "source": [
        "## Тестирование модели"
      ]
    },
    {
      "cell_type": "markdown",
      "metadata": {
        "id": "myygMS2JKDzR"
      },
      "source": [
        "Наилучшие результаты показала модель случайного леса, обученная на апсемплированной выборке. Проведём проверку на тестовой выборке"
      ]
    },
    {
      "cell_type": "code",
      "execution_count": 47,
      "metadata": {
        "colab": {
          "base_uri": "https://localhost:8080/"
        },
        "id": "eOZ-UZSGKDzR",
        "outputId": "ff0f1a26-2813-4309-d9d1-d1a529004a22"
      },
      "outputs": [
        {
          "output_type": "execute_result",
          "data": {
            "text/plain": [
              "0.578146611341632"
            ]
          },
          "metadata": {},
          "execution_count": 47
        }
      ],
      "source": [
        "f1_score(y_test, upsampled_forest_search.predict(x_test))"
      ]
    },
    {
      "cell_type": "markdown",
      "metadata": {
        "id": "LIa2bP6hKDzR"
      },
      "source": [
        "f1-мера ниже целевого значения.\n",
        "\n",
        "Проверим на тестовой выборке модель обученную на да даунсемплированной выборке."
      ]
    },
    {
      "cell_type": "code",
      "execution_count": 48,
      "metadata": {
        "colab": {
          "base_uri": "https://localhost:8080/"
        },
        "id": "SgVdpf-eKDzR",
        "outputId": "987c4c30-df0e-4422-9688-bd0a92da94e0"
      },
      "outputs": [
        {
          "output_type": "stream",
          "name": "stdout",
          "text": [
            "0.5921192758253461\n"
          ]
        }
      ],
      "source": [
        "f1_score(y_test, downsampled_forest_search.predict(x_test))"
      ]
    },
    {
      "cell_type": "markdown",
      "metadata": {
        "id": "sUtWuId8KDzS"
      },
      "source": [
        "f1-мера незначительно рпевышает целевое значение.\n",
        "\n",
        "Проверим модель, обученную со взвешиванием классов."
      ]
    },
    {
      "cell_type": "code",
      "execution_count": 49,
      "metadata": {
        "colab": {
          "base_uri": "https://localhost:8080/"
        },
        "id": "iTFrG4a7KDzS",
        "outputId": "edbf4f07-984d-4b30-9967-dcfc72815b72"
      },
      "outputs": [
        {
          "output_type": "stream",
          "name": "stdout",
          "text": [
            "0.6096938775510204\n"
          ]
        }
      ],
      "source": [
        "f1_score(y_test, balanced_forest_search.predict(x_test))"
      ]
    },
    {
      "cell_type": "markdown",
      "metadata": {
        "id": "vRVUtHGJKDzS"
      },
      "source": [
        "**На тестовой выборке наилучшие результаты показывает модель случайного леса со взвешенными классами, со следующими гиперпараметрами:**"
      ]
    },
    {
      "cell_type": "code",
      "execution_count": 50,
      "metadata": {
        "colab": {
          "base_uri": "https://localhost:8080/",
          "height": 92
        },
        "id": "Vnt-8omLKDzS",
        "outputId": "ee154a5d-7429-4dce-f20c-754c4d8fe3b7"
      },
      "outputs": [
        {
          "output_type": "execute_result",
          "data": {
            "text/plain": [
              "RandomForestClassifier(class_weight='balanced', max_depth=9, n_estimators=40,\n",
              "                       random_state=42)"
            ],
            "text/html": [
              "<style>#sk-container-id-9 {color: black;background-color: white;}#sk-container-id-9 pre{padding: 0;}#sk-container-id-9 div.sk-toggleable {background-color: white;}#sk-container-id-9 label.sk-toggleable__label {cursor: pointer;display: block;width: 100%;margin-bottom: 0;padding: 0.3em;box-sizing: border-box;text-align: center;}#sk-container-id-9 label.sk-toggleable__label-arrow:before {content: \"▸\";float: left;margin-right: 0.25em;color: #696969;}#sk-container-id-9 label.sk-toggleable__label-arrow:hover:before {color: black;}#sk-container-id-9 div.sk-estimator:hover label.sk-toggleable__label-arrow:before {color: black;}#sk-container-id-9 div.sk-toggleable__content {max-height: 0;max-width: 0;overflow: hidden;text-align: left;background-color: #f0f8ff;}#sk-container-id-9 div.sk-toggleable__content pre {margin: 0.2em;color: black;border-radius: 0.25em;background-color: #f0f8ff;}#sk-container-id-9 input.sk-toggleable__control:checked~div.sk-toggleable__content {max-height: 200px;max-width: 100%;overflow: auto;}#sk-container-id-9 input.sk-toggleable__control:checked~label.sk-toggleable__label-arrow:before {content: \"▾\";}#sk-container-id-9 div.sk-estimator input.sk-toggleable__control:checked~label.sk-toggleable__label {background-color: #d4ebff;}#sk-container-id-9 div.sk-label input.sk-toggleable__control:checked~label.sk-toggleable__label {background-color: #d4ebff;}#sk-container-id-9 input.sk-hidden--visually {border: 0;clip: rect(1px 1px 1px 1px);clip: rect(1px, 1px, 1px, 1px);height: 1px;margin: -1px;overflow: hidden;padding: 0;position: absolute;width: 1px;}#sk-container-id-9 div.sk-estimator {font-family: monospace;background-color: #f0f8ff;border: 1px dotted black;border-radius: 0.25em;box-sizing: border-box;margin-bottom: 0.5em;}#sk-container-id-9 div.sk-estimator:hover {background-color: #d4ebff;}#sk-container-id-9 div.sk-parallel-item::after {content: \"\";width: 100%;border-bottom: 1px solid gray;flex-grow: 1;}#sk-container-id-9 div.sk-label:hover label.sk-toggleable__label {background-color: #d4ebff;}#sk-container-id-9 div.sk-serial::before {content: \"\";position: absolute;border-left: 1px solid gray;box-sizing: border-box;top: 0;bottom: 0;left: 50%;z-index: 0;}#sk-container-id-9 div.sk-serial {display: flex;flex-direction: column;align-items: center;background-color: white;padding-right: 0.2em;padding-left: 0.2em;position: relative;}#sk-container-id-9 div.sk-item {position: relative;z-index: 1;}#sk-container-id-9 div.sk-parallel {display: flex;align-items: stretch;justify-content: center;background-color: white;position: relative;}#sk-container-id-9 div.sk-item::before, #sk-container-id-9 div.sk-parallel-item::before {content: \"\";position: absolute;border-left: 1px solid gray;box-sizing: border-box;top: 0;bottom: 0;left: 50%;z-index: -1;}#sk-container-id-9 div.sk-parallel-item {display: flex;flex-direction: column;z-index: 1;position: relative;background-color: white;}#sk-container-id-9 div.sk-parallel-item:first-child::after {align-self: flex-end;width: 50%;}#sk-container-id-9 div.sk-parallel-item:last-child::after {align-self: flex-start;width: 50%;}#sk-container-id-9 div.sk-parallel-item:only-child::after {width: 0;}#sk-container-id-9 div.sk-dashed-wrapped {border: 1px dashed gray;margin: 0 0.4em 0.5em 0.4em;box-sizing: border-box;padding-bottom: 0.4em;background-color: white;}#sk-container-id-9 div.sk-label label {font-family: monospace;font-weight: bold;display: inline-block;line-height: 1.2em;}#sk-container-id-9 div.sk-label-container {text-align: center;}#sk-container-id-9 div.sk-container {/* jupyter's `normalize.less` sets `[hidden] { display: none; }` but bootstrap.min.css set `[hidden] { display: none !important; }` so we also need the `!important` here to be able to override the default hidden behavior on the sphinx rendered scikit-learn.org. See: https://github.com/scikit-learn/scikit-learn/issues/21755 */display: inline-block !important;position: relative;}#sk-container-id-9 div.sk-text-repr-fallback {display: none;}</style><div id=\"sk-container-id-9\" class=\"sk-top-container\"><div class=\"sk-text-repr-fallback\"><pre>RandomForestClassifier(class_weight=&#x27;balanced&#x27;, max_depth=9, n_estimators=40,\n",
              "                       random_state=42)</pre><b>In a Jupyter environment, please rerun this cell to show the HTML representation or trust the notebook. <br />On GitHub, the HTML representation is unable to render, please try loading this page with nbviewer.org.</b></div><div class=\"sk-container\" hidden><div class=\"sk-item\"><div class=\"sk-estimator sk-toggleable\"><input class=\"sk-toggleable__control sk-hidden--visually\" id=\"sk-estimator-id-25\" type=\"checkbox\" checked><label for=\"sk-estimator-id-25\" class=\"sk-toggleable__label sk-toggleable__label-arrow\">RandomForestClassifier</label><div class=\"sk-toggleable__content\"><pre>RandomForestClassifier(class_weight=&#x27;balanced&#x27;, max_depth=9, n_estimators=40,\n",
              "                       random_state=42)</pre></div></div></div></div></div>"
            ]
          },
          "metadata": {},
          "execution_count": 50
        }
      ],
      "source": [
        "balanced_forest_search.best_estimator_"
      ]
    },
    {
      "cell_type": "markdown",
      "metadata": {
        "id": "no0yAkTlKDzT"
      },
      "source": [
        "## Вывод\n",
        "\n",
        "Изучены данные об оттоке клиентов.\n",
        "\n",
        "- Проведена предобработка данных\n",
        "    - Изучено распределение признаков\n",
        "    - Обнаружены пропуски в признаке `tenure`. Не выявлено закономерноестей, позвоволяющих заполнить пропуски на основании других признаков. Ввиду малого количества пропусков (<10%) пропуски были удалены\n",
        "    - Удалены данные, не относящиеся к исследованию (номера строк, имена, ID)\n",
        "- Изучен баланс классов. Дисбаланс составляет 4:1 в пользу отрицательных классов.\n",
        "- Проведено разбиение выборки на обучающую и тестовую в соотношеннии 4:1. Валидационная выборка не выделялась, т. к. было решено использовать кросс-валидацию\n",
        "- Проведено масштабирование количественных признаков для улучшения качества линейных моделей.\n",
        "- Проведено первичное обучение моделей и подбор гиперпараметров без учёта дисбаланса классов. Расчитаны значения целевой метрики f1 и дополнительной - AUC-ROC. Ни одна из моделей не достигла целевого значения метрики f1\n",
        "    - Логистическая регрессия: f1 = 0.32, AUC-ROC = 0.77\n",
        "    - Дерево решений (max_depth = 6): f1 = 0.56, AUC-ROC = 0.83\n",
        "    - Случайный лес (max_depth = 18, n_estimators = 50): f1 = 0.58, AUC-ROC = 0.85\n",
        "- Опробовано три способа борьбы с дисбалансом:\n",
        "    - взвешивание классов:\n",
        "        - Логистическая регрессия: f1 = 0.5, AUC-ROC = 0.77\n",
        "        - Дерево решений (class_weight = 'balanced', max_depth = 6): f1 = 0.57, AUC-ROC = 0.83\n",
        "        - Случайный лес (max_depth = 18, n_estimators = 50): f1 = 0.62, AUC-ROC = 0.86\n",
        "    - upsampling:\n",
        "        - Логистическая регрессия: f1 = 0.74, AUC-ROC = 0.81\n",
        "        - Дерево решений (max_depth = 6): f1 = 0.83, AUC-ROC = 0.83\n",
        "        - Случайный лес (class_weight = 'balanced', max_depth = 9, n_estimators = 40): f1 = 0.89, AUC-ROC = 0.96\n",
        "    - downsampling:\n",
        "        - Логистическая регрессия: f1 = 0.72, AUC-ROC = 0.81\n",
        "        - Дерево решений (max_depth = 5): f1 = 0.76, AUC-ROC = 0.84\n",
        "        - Случайный лес (max_depth = 8, n_estimators = 40): f1 = 0.79, AUC-ROC = 0.86\n",
        "- Наиболее высокие резульаты во всех случаях показывает модель случайного леса.\n",
        "- Проведена проверка моделей случайного леса на тестовой выборке\n",
        "    - модель, обученная на апсемплированной выборке, показавшая наилучный результат на кросс-валидации (f1 = 0.89) на тестовой выборке имеет f1 = 0.58, что ниже порогового значения\n",
        "    - модель, обученная на даунсемплированной выборке, на тестовой выборке имеет f1 = 0.59\n",
        "    - наилучший результат показывает модель со взвешенными классами - f1 = 0.61 на тестовой выборке."
      ]
    }
  ],
  "metadata": {
    "ExecuteTimeLog": [
      {
        "duration": 1396,
        "start_time": "2023-05-18T17:37:21.660Z"
      },
      {
        "duration": 78,
        "start_time": "2023-05-18T17:38:01.311Z"
      },
      {
        "duration": 12,
        "start_time": "2023-05-18T17:38:48.957Z"
      },
      {
        "duration": 37,
        "start_time": "2023-05-18T17:39:04.379Z"
      },
      {
        "duration": 1190,
        "start_time": "2023-05-18T17:39:14.719Z"
      },
      {
        "duration": 1184,
        "start_time": "2023-05-18T18:01:52.830Z"
      },
      {
        "duration": 1297,
        "start_time": "2023-05-18T18:01:58.613Z"
      },
      {
        "duration": 3,
        "start_time": "2023-05-18T18:02:44.539Z"
      },
      {
        "duration": 41,
        "start_time": "2023-05-18T18:03:51.828Z"
      },
      {
        "duration": 1235,
        "start_time": "2023-05-18T18:05:51.447Z"
      },
      {
        "duration": 1512,
        "start_time": "2023-05-19T09:01:16.623Z"
      },
      {
        "duration": 203,
        "start_time": "2023-05-19T09:01:18.138Z"
      },
      {
        "duration": 3,
        "start_time": "2023-05-19T09:01:18.343Z"
      },
      {
        "duration": 41,
        "start_time": "2023-05-19T09:01:18.348Z"
      },
      {
        "duration": 1250,
        "start_time": "2023-05-19T09:01:18.392Z"
      },
      {
        "duration": 1167,
        "start_time": "2023-05-19T09:01:19.643Z"
      },
      {
        "duration": 37,
        "start_time": "2023-05-19T09:02:51.734Z"
      },
      {
        "duration": 10,
        "start_time": "2023-05-19T09:03:06.298Z"
      },
      {
        "duration": 182,
        "start_time": "2023-05-19T09:03:53.455Z"
      },
      {
        "duration": 41,
        "start_time": "2023-05-19T09:04:04.506Z"
      },
      {
        "duration": 1316,
        "start_time": "2023-05-19T09:05:06.186Z"
      },
      {
        "duration": 1302,
        "start_time": "2023-05-19T09:05:09.998Z"
      },
      {
        "duration": 6,
        "start_time": "2023-05-19T09:10:30.268Z"
      },
      {
        "duration": 1220,
        "start_time": "2023-05-19T09:12:02.162Z"
      },
      {
        "duration": 1126,
        "start_time": "2023-05-19T09:12:22.337Z"
      },
      {
        "duration": 1292,
        "start_time": "2023-05-19T09:12:33.264Z"
      },
      {
        "duration": 1102,
        "start_time": "2023-05-19T09:12:43.248Z"
      },
      {
        "duration": 8,
        "start_time": "2023-05-19T09:20:27.155Z"
      },
      {
        "duration": 5,
        "start_time": "2023-05-19T09:22:23.415Z"
      },
      {
        "duration": 11,
        "start_time": "2023-05-19T09:23:19.832Z"
      },
      {
        "duration": 6,
        "start_time": "2023-05-19T09:26:01.630Z"
      },
      {
        "duration": 4,
        "start_time": "2023-05-19T09:27:47.571Z"
      },
      {
        "duration": 1122,
        "start_time": "2023-05-19T09:34:26.756Z"
      },
      {
        "duration": 15,
        "start_time": "2023-05-19T09:34:34.995Z"
      },
      {
        "duration": 38,
        "start_time": "2023-05-19T09:34:38.165Z"
      },
      {
        "duration": 177,
        "start_time": "2023-05-19T09:36:03.040Z"
      },
      {
        "duration": 8,
        "start_time": "2023-05-19T09:53:51.944Z"
      },
      {
        "duration": 12,
        "start_time": "2023-05-19T10:00:43.469Z"
      },
      {
        "duration": 17,
        "start_time": "2023-05-19T10:00:51.810Z"
      },
      {
        "duration": 19,
        "start_time": "2023-05-19T10:02:24.975Z"
      },
      {
        "duration": 5086,
        "start_time": "2023-05-19T10:04:07.849Z"
      },
      {
        "duration": 8879,
        "start_time": "2023-05-19T10:18:14.787Z"
      },
      {
        "duration": 136,
        "start_time": "2023-05-19T10:19:07.880Z"
      },
      {
        "duration": 145,
        "start_time": "2023-05-19T10:19:44.007Z"
      },
      {
        "duration": 160,
        "start_time": "2023-05-19T10:19:49.498Z"
      },
      {
        "duration": 186,
        "start_time": "2023-05-19T10:20:15.808Z"
      },
      {
        "duration": 5,
        "start_time": "2023-05-19T10:20:30.491Z"
      },
      {
        "duration": 201,
        "start_time": "2023-05-19T10:25:24.838Z"
      },
      {
        "duration": 9357,
        "start_time": "2023-05-19T10:25:59.970Z"
      },
      {
        "duration": 199,
        "start_time": "2023-05-19T10:26:14.944Z"
      },
      {
        "duration": 6,
        "start_time": "2023-05-19T10:26:18.259Z"
      },
      {
        "duration": 20,
        "start_time": "2023-05-19T10:26:33.276Z"
      },
      {
        "duration": 185,
        "start_time": "2023-05-19T10:26:44.795Z"
      },
      {
        "duration": 12,
        "start_time": "2023-05-19T10:26:47.058Z"
      },
      {
        "duration": 101029,
        "start_time": "2023-05-19T10:30:49.802Z"
      },
      {
        "duration": 188,
        "start_time": "2023-05-19T10:32:48.338Z"
      },
      {
        "duration": 26,
        "start_time": "2023-05-19T10:33:10.843Z"
      },
      {
        "duration": 12,
        "start_time": "2023-05-19T10:33:42.061Z"
      },
      {
        "duration": 70,
        "start_time": "2023-05-19T10:39:35.317Z"
      },
      {
        "duration": 177,
        "start_time": "2023-05-19T10:43:44.707Z"
      },
      {
        "duration": 16,
        "start_time": "2023-05-19T10:43:47.989Z"
      },
      {
        "duration": 151,
        "start_time": "2023-05-19T10:44:17.259Z"
      },
      {
        "duration": 150,
        "start_time": "2023-05-19T10:48:56.170Z"
      },
      {
        "duration": 15,
        "start_time": "2023-05-19T10:49:18.240Z"
      },
      {
        "duration": 5,
        "start_time": "2023-05-19T10:49:24.846Z"
      },
      {
        "duration": 165,
        "start_time": "2023-05-19T10:49:31.222Z"
      },
      {
        "duration": 131,
        "start_time": "2023-05-19T10:50:05.917Z"
      },
      {
        "duration": 129,
        "start_time": "2023-05-19T10:50:46.467Z"
      },
      {
        "duration": 21,
        "start_time": "2023-05-19T10:50:53.596Z"
      },
      {
        "duration": 57,
        "start_time": "2023-05-19T10:53:32.155Z"
      },
      {
        "duration": 8920,
        "start_time": "2023-05-19T10:54:00.293Z"
      },
      {
        "duration": 159,
        "start_time": "2023-05-19T10:54:46.609Z"
      },
      {
        "duration": 5,
        "start_time": "2023-05-19T10:54:47.783Z"
      },
      {
        "duration": 14,
        "start_time": "2023-05-19T10:54:48.717Z"
      },
      {
        "duration": 3,
        "start_time": "2023-05-19T11:02:21.143Z"
      },
      {
        "duration": 40,
        "start_time": "2023-05-19T11:02:42.177Z"
      },
      {
        "duration": 10286,
        "start_time": "2023-05-19T11:02:47.933Z"
      },
      {
        "duration": 20,
        "start_time": "2023-05-19T11:03:02.129Z"
      },
      {
        "duration": 19,
        "start_time": "2023-05-19T11:03:33.684Z"
      },
      {
        "duration": 142,
        "start_time": "2023-05-19T11:04:38.698Z"
      },
      {
        "duration": 5,
        "start_time": "2023-05-19T11:04:58.238Z"
      },
      {
        "duration": 8,
        "start_time": "2023-05-19T11:05:16.089Z"
      },
      {
        "duration": 19,
        "start_time": "2023-05-19T11:05:20.620Z"
      },
      {
        "duration": 5,
        "start_time": "2023-05-19T11:06:33.515Z"
      },
      {
        "duration": 5,
        "start_time": "2023-05-19T11:06:40.550Z"
      },
      {
        "duration": 8734,
        "start_time": "2023-05-19T11:07:38.210Z"
      },
      {
        "duration": 4,
        "start_time": "2023-05-19T11:07:51.129Z"
      },
      {
        "duration": 10706,
        "start_time": "2023-05-19T11:08:01.678Z"
      },
      {
        "duration": 9,
        "start_time": "2023-05-19T11:09:05.691Z"
      },
      {
        "duration": 5,
        "start_time": "2023-05-19T11:09:15.261Z"
      },
      {
        "duration": 4,
        "start_time": "2023-05-19T11:09:45.819Z"
      },
      {
        "duration": 11,
        "start_time": "2023-05-19T11:10:00.381Z"
      },
      {
        "duration": 5,
        "start_time": "2023-05-19T11:10:07.232Z"
      },
      {
        "duration": 163,
        "start_time": "2023-05-19T11:11:56.278Z"
      },
      {
        "duration": 4,
        "start_time": "2023-05-19T11:12:21.497Z"
      },
      {
        "duration": 149,
        "start_time": "2023-05-19T11:13:33.989Z"
      },
      {
        "duration": 4,
        "start_time": "2023-05-19T11:13:36.734Z"
      },
      {
        "duration": 146,
        "start_time": "2023-05-19T11:13:48.042Z"
      },
      {
        "duration": 4,
        "start_time": "2023-05-19T11:13:52.092Z"
      },
      {
        "duration": 56939,
        "start_time": "2023-05-19T11:14:58.484Z"
      },
      {
        "duration": 11717,
        "start_time": "2023-05-19T11:16:03.819Z"
      },
      {
        "duration": 7977,
        "start_time": "2023-05-19T11:16:18.935Z"
      },
      {
        "duration": 109931,
        "start_time": "2023-05-19T11:17:52.598Z"
      },
      {
        "duration": 4,
        "start_time": "2023-05-19T11:27:27.719Z"
      },
      {
        "duration": 13,
        "start_time": "2023-05-19T11:44:46.668Z"
      },
      {
        "duration": 17,
        "start_time": "2023-05-19T11:45:05.194Z"
      },
      {
        "duration": 4757,
        "start_time": "2023-05-19T11:47:26.865Z"
      },
      {
        "duration": 2070,
        "start_time": "2023-05-19T11:48:18.653Z"
      },
      {
        "duration": 2007,
        "start_time": "2023-05-19T11:48:42.314Z"
      },
      {
        "duration": 10412,
        "start_time": "2023-05-19T11:53:57.092Z"
      },
      {
        "duration": 148,
        "start_time": "2023-05-19T11:54:31.089Z"
      },
      {
        "duration": 4,
        "start_time": "2023-05-19T11:54:54.838Z"
      },
      {
        "duration": 110171,
        "start_time": "2023-05-19T11:55:53.479Z"
      },
      {
        "duration": 110492,
        "start_time": "2023-05-19T11:58:40.688Z"
      },
      {
        "duration": 155,
        "start_time": "2023-05-19T12:00:31.182Z"
      },
      {
        "duration": 4,
        "start_time": "2023-05-19T12:00:31.339Z"
      },
      {
        "duration": 6,
        "start_time": "2023-05-19T12:16:05.387Z"
      },
      {
        "duration": 18,
        "start_time": "2023-05-19T12:16:29.998Z"
      },
      {
        "duration": 18,
        "start_time": "2023-05-19T12:16:49.842Z"
      },
      {
        "duration": 10,
        "start_time": "2023-05-19T12:18:10.361Z"
      },
      {
        "duration": 18,
        "start_time": "2023-05-19T12:18:41.348Z"
      },
      {
        "duration": 16,
        "start_time": "2023-05-19T12:21:04.405Z"
      },
      {
        "duration": 27,
        "start_time": "2023-05-19T12:21:54.461Z"
      },
      {
        "duration": 882,
        "start_time": "2023-05-19T12:22:03.693Z"
      },
      {
        "duration": 57,
        "start_time": "2023-05-19T12:22:19.034Z"
      },
      {
        "duration": 984,
        "start_time": "2023-05-19T12:22:26.338Z"
      },
      {
        "duration": 2199,
        "start_time": "2023-05-19T12:24:29.635Z"
      },
      {
        "duration": 13502,
        "start_time": "2023-05-19T12:26:08.380Z"
      },
      {
        "duration": 14437,
        "start_time": "2023-05-19T12:28:55.335Z"
      },
      {
        "duration": 254,
        "start_time": "2023-05-19T12:29:49.339Z"
      },
      {
        "duration": 15,
        "start_time": "2023-05-19T12:30:16.739Z"
      },
      {
        "duration": 4,
        "start_time": "2023-05-19T12:30:23.602Z"
      },
      {
        "duration": 161681,
        "start_time": "2023-05-19T12:31:41.618Z"
      },
      {
        "duration": 188,
        "start_time": "2023-05-19T12:35:20.252Z"
      },
      {
        "duration": 5,
        "start_time": "2023-05-19T12:35:39.540Z"
      },
      {
        "duration": 16,
        "start_time": "2023-05-19T12:42:30.782Z"
      },
      {
        "duration": 17,
        "start_time": "2023-05-19T12:43:14.734Z"
      },
      {
        "duration": 15,
        "start_time": "2023-05-19T12:43:19.369Z"
      },
      {
        "duration": 15449,
        "start_time": "2023-05-19T12:43:21.681Z"
      },
      {
        "duration": 13975,
        "start_time": "2023-05-19T12:43:41.224Z"
      },
      {
        "duration": 167,
        "start_time": "2023-05-19T12:43:55.201Z"
      },
      {
        "duration": 4,
        "start_time": "2023-05-19T12:43:55.370Z"
      },
      {
        "duration": 166741,
        "start_time": "2023-05-19T12:43:55.376Z"
      },
      {
        "duration": 172,
        "start_time": "2023-05-19T12:46:42.119Z"
      },
      {
        "duration": 4,
        "start_time": "2023-05-19T12:46:42.292Z"
      },
      {
        "duration": 14,
        "start_time": "2023-05-19T12:50:38.872Z"
      },
      {
        "duration": 1075,
        "start_time": "2023-05-19T12:53:15.049Z"
      },
      {
        "duration": 5734,
        "start_time": "2023-05-19T12:53:59.114Z"
      },
      {
        "duration": 168,
        "start_time": "2023-05-19T12:54:04.851Z"
      },
      {
        "duration": 4,
        "start_time": "2023-05-19T12:54:11.912Z"
      },
      {
        "duration": 63557,
        "start_time": "2023-05-19T12:54:51.738Z"
      },
      {
        "duration": 166,
        "start_time": "2023-05-19T12:55:55.297Z"
      },
      {
        "duration": 5,
        "start_time": "2023-05-19T12:55:55.464Z"
      },
      {
        "duration": 3,
        "start_time": "2023-05-19T13:03:31.792Z"
      },
      {
        "duration": 5,
        "start_time": "2023-05-19T13:03:36.047Z"
      },
      {
        "duration": 7,
        "start_time": "2023-05-19T13:06:08.249Z"
      },
      {
        "duration": 9,
        "start_time": "2023-05-19T13:06:13.837Z"
      },
      {
        "duration": 12,
        "start_time": "2023-05-19T13:10:56.019Z"
      },
      {
        "duration": 5,
        "start_time": "2023-05-19T13:11:36.314Z"
      },
      {
        "duration": 244,
        "start_time": "2023-05-19T13:11:36.322Z"
      },
      {
        "duration": 3,
        "start_time": "2023-05-19T13:11:36.568Z"
      },
      {
        "duration": 20,
        "start_time": "2023-05-19T13:11:36.573Z"
      },
      {
        "duration": 1286,
        "start_time": "2023-05-19T13:11:36.596Z"
      },
      {
        "duration": 1209,
        "start_time": "2023-05-19T13:11:37.885Z"
      },
      {
        "duration": 9,
        "start_time": "2023-05-19T13:11:39.097Z"
      },
      {
        "duration": 4,
        "start_time": "2023-05-19T13:11:39.118Z"
      },
      {
        "duration": 26,
        "start_time": "2023-05-19T13:11:39.123Z"
      },
      {
        "duration": 5,
        "start_time": "2023-05-19T13:11:39.151Z"
      },
      {
        "duration": 26,
        "start_time": "2023-05-19T13:11:39.157Z"
      },
      {
        "duration": 46,
        "start_time": "2023-05-19T13:11:39.184Z"
      },
      {
        "duration": 6,
        "start_time": "2023-05-19T13:11:39.232Z"
      },
      {
        "duration": 18,
        "start_time": "2023-05-19T13:11:39.242Z"
      },
      {
        "duration": 1766,
        "start_time": "2023-05-19T13:11:39.262Z"
      },
      {
        "duration": 86,
        "start_time": "2023-05-19T13:11:41.030Z"
      },
      {
        "duration": 10467,
        "start_time": "2023-05-19T13:11:41.120Z"
      },
      {
        "duration": 187,
        "start_time": "2023-05-19T13:11:51.589Z"
      },
      {
        "duration": 6,
        "start_time": "2023-05-19T13:11:51.778Z"
      },
      {
        "duration": 112014,
        "start_time": "2023-05-19T13:11:51.786Z"
      },
      {
        "duration": 146,
        "start_time": "2023-05-19T13:13:43.802Z"
      },
      {
        "duration": 4,
        "start_time": "2023-05-19T13:13:43.949Z"
      },
      {
        "duration": 3163,
        "start_time": "2023-05-19T13:13:43.955Z"
      },
      {
        "duration": 10355,
        "start_time": "2023-05-19T13:13:47.120Z"
      },
      {
        "duration": 156,
        "start_time": "2023-05-19T13:13:57.477Z"
      },
      {
        "duration": 4,
        "start_time": "2023-05-19T13:13:57.635Z"
      },
      {
        "duration": 110959,
        "start_time": "2023-05-19T13:13:57.641Z"
      },
      {
        "duration": 153,
        "start_time": "2023-05-19T13:15:48.601Z"
      },
      {
        "duration": 5,
        "start_time": "2023-05-19T13:15:48.756Z"
      },
      {
        "duration": 24,
        "start_time": "2023-05-19T13:15:48.762Z"
      },
      {
        "duration": 2536,
        "start_time": "2023-05-19T13:15:48.788Z"
      },
      {
        "duration": 13762,
        "start_time": "2023-05-19T13:15:51.325Z"
      },
      {
        "duration": 190,
        "start_time": "2023-05-19T13:16:05.088Z"
      },
      {
        "duration": 3,
        "start_time": "2023-05-19T13:16:05.280Z"
      },
      {
        "duration": 159930,
        "start_time": "2023-05-19T13:16:05.285Z"
      },
      {
        "duration": 173,
        "start_time": "2023-05-19T13:18:45.217Z"
      },
      {
        "duration": 5,
        "start_time": "2023-05-19T13:18:45.392Z"
      },
      {
        "duration": 38,
        "start_time": "2023-05-19T13:18:45.399Z"
      },
      {
        "duration": 1984,
        "start_time": "2023-05-19T13:18:45.439Z"
      },
      {
        "duration": 5532,
        "start_time": "2023-05-19T13:18:47.516Z"
      },
      {
        "duration": 170,
        "start_time": "2023-05-19T13:18:53.054Z"
      },
      {
        "duration": 5,
        "start_time": "2023-05-19T13:18:53.225Z"
      },
      {
        "duration": 59462,
        "start_time": "2023-05-19T13:18:53.231Z"
      },
      {
        "duration": 152,
        "start_time": "2023-05-19T13:19:52.694Z"
      },
      {
        "duration": 4,
        "start_time": "2023-05-19T13:19:52.847Z"
      },
      {
        "duration": 16,
        "start_time": "2023-05-19T13:19:52.853Z"
      },
      {
        "duration": 11,
        "start_time": "2023-05-19T13:23:20.039Z"
      },
      {
        "duration": 39,
        "start_time": "2023-05-19T13:23:23.599Z"
      },
      {
        "duration": 80,
        "start_time": "2023-05-19T13:24:14.417Z"
      },
      {
        "duration": 59,
        "start_time": "2023-05-19T13:24:21.374Z"
      },
      {
        "duration": 107,
        "start_time": "2023-05-19T13:25:01.442Z"
      },
      {
        "duration": 89,
        "start_time": "2023-05-19T13:25:05.108Z"
      },
      {
        "duration": 26,
        "start_time": "2023-05-19T13:27:33.608Z"
      },
      {
        "duration": 27,
        "start_time": "2023-05-19T13:43:41.136Z"
      },
      {
        "duration": 9597,
        "start_time": "2023-05-19T13:44:31.043Z"
      },
      {
        "duration": 32,
        "start_time": "2023-05-19T13:44:45.978Z"
      },
      {
        "duration": 58,
        "start_time": "2023-05-19T13:45:08.947Z"
      },
      {
        "duration": 25,
        "start_time": "2023-05-19T13:45:13.711Z"
      },
      {
        "duration": 2864,
        "start_time": "2023-05-19T13:50:07.373Z"
      },
      {
        "duration": 2325,
        "start_time": "2023-05-19T13:50:10.240Z"
      },
      {
        "duration": 101,
        "start_time": "2023-05-19T13:50:12.566Z"
      },
      {
        "duration": 3,
        "start_time": "2023-05-19T13:50:12.669Z"
      },
      {
        "duration": 16,
        "start_time": "2023-05-19T13:50:12.674Z"
      },
      {
        "duration": 1303,
        "start_time": "2023-05-19T13:50:12.692Z"
      },
      {
        "duration": 1318,
        "start_time": "2023-05-19T13:50:13.997Z"
      },
      {
        "duration": 12,
        "start_time": "2023-05-19T13:50:15.316Z"
      },
      {
        "duration": 21,
        "start_time": "2023-05-19T13:50:15.329Z"
      },
      {
        "duration": 30,
        "start_time": "2023-05-19T13:50:15.352Z"
      },
      {
        "duration": 11,
        "start_time": "2023-05-19T13:50:15.385Z"
      },
      {
        "duration": 55,
        "start_time": "2023-05-19T13:50:15.399Z"
      },
      {
        "duration": 49,
        "start_time": "2023-05-19T13:50:15.456Z"
      },
      {
        "duration": 6,
        "start_time": "2023-05-19T13:50:15.508Z"
      },
      {
        "duration": 54,
        "start_time": "2023-05-19T13:50:15.517Z"
      },
      {
        "duration": 1398,
        "start_time": "2023-05-19T13:50:15.573Z"
      },
      {
        "duration": 0,
        "start_time": "2023-05-19T13:50:16.973Z"
      },
      {
        "duration": 0,
        "start_time": "2023-05-19T13:50:16.974Z"
      },
      {
        "duration": 0,
        "start_time": "2023-05-19T13:50:16.975Z"
      },
      {
        "duration": 0,
        "start_time": "2023-05-19T13:50:16.976Z"
      },
      {
        "duration": 0,
        "start_time": "2023-05-19T13:50:16.977Z"
      },
      {
        "duration": 0,
        "start_time": "2023-05-19T13:50:16.978Z"
      },
      {
        "duration": 0,
        "start_time": "2023-05-19T13:50:16.978Z"
      },
      {
        "duration": 0,
        "start_time": "2023-05-19T13:50:16.979Z"
      },
      {
        "duration": 0,
        "start_time": "2023-05-19T13:50:16.980Z"
      },
      {
        "duration": 0,
        "start_time": "2023-05-19T13:50:16.981Z"
      },
      {
        "duration": 0,
        "start_time": "2023-05-19T13:50:16.982Z"
      },
      {
        "duration": 0,
        "start_time": "2023-05-19T13:50:16.983Z"
      },
      {
        "duration": 0,
        "start_time": "2023-05-19T13:50:16.984Z"
      },
      {
        "duration": 0,
        "start_time": "2023-05-19T13:50:16.985Z"
      },
      {
        "duration": 0,
        "start_time": "2023-05-19T13:50:16.986Z"
      },
      {
        "duration": 0,
        "start_time": "2023-05-19T13:50:16.987Z"
      },
      {
        "duration": 0,
        "start_time": "2023-05-19T13:50:16.989Z"
      },
      {
        "duration": 0,
        "start_time": "2023-05-19T13:50:16.989Z"
      },
      {
        "duration": 0,
        "start_time": "2023-05-19T13:50:16.990Z"
      },
      {
        "duration": 0,
        "start_time": "2023-05-19T13:50:17.017Z"
      },
      {
        "duration": 0,
        "start_time": "2023-05-19T13:50:17.018Z"
      },
      {
        "duration": 0,
        "start_time": "2023-05-19T13:50:17.019Z"
      },
      {
        "duration": 0,
        "start_time": "2023-05-19T13:50:17.020Z"
      },
      {
        "duration": 0,
        "start_time": "2023-05-19T13:50:17.021Z"
      },
      {
        "duration": 0,
        "start_time": "2023-05-19T13:50:17.021Z"
      },
      {
        "duration": 0,
        "start_time": "2023-05-19T13:50:17.022Z"
      },
      {
        "duration": 0,
        "start_time": "2023-05-19T13:50:17.023Z"
      },
      {
        "duration": 0,
        "start_time": "2023-05-19T13:50:17.024Z"
      },
      {
        "duration": 0,
        "start_time": "2023-05-19T13:50:17.025Z"
      },
      {
        "duration": 0,
        "start_time": "2023-05-19T13:50:17.026Z"
      },
      {
        "duration": 0,
        "start_time": "2023-05-19T13:50:17.027Z"
      },
      {
        "duration": 0,
        "start_time": "2023-05-19T13:50:17.028Z"
      },
      {
        "duration": 0,
        "start_time": "2023-05-19T13:50:17.029Z"
      },
      {
        "duration": 7,
        "start_time": "2023-05-19T13:51:01.103Z"
      },
      {
        "duration": 76,
        "start_time": "2023-05-19T13:51:01.112Z"
      },
      {
        "duration": 2525,
        "start_time": "2023-05-19T13:51:01.191Z"
      },
      {
        "duration": 7,
        "start_time": "2023-05-19T13:51:03.727Z"
      },
      {
        "duration": 11752,
        "start_time": "2023-05-19T13:51:03.745Z"
      },
      {
        "duration": 161,
        "start_time": "2023-05-19T13:51:15.498Z"
      },
      {
        "duration": 4,
        "start_time": "2023-05-19T13:51:15.661Z"
      },
      {
        "duration": 119055,
        "start_time": "2023-05-19T13:51:15.666Z"
      },
      {
        "duration": 176,
        "start_time": "2023-05-19T13:53:14.723Z"
      },
      {
        "duration": 4,
        "start_time": "2023-05-19T13:53:14.903Z"
      },
      {
        "duration": 4901,
        "start_time": "2023-05-19T13:53:14.918Z"
      },
      {
        "duration": 6979,
        "start_time": "2023-05-19T13:53:19.821Z"
      },
      {
        "duration": 13,
        "start_time": "2023-05-19T13:53:26.802Z"
      },
      {
        "duration": 0,
        "start_time": "2023-05-19T13:53:26.818Z"
      },
      {
        "duration": 0,
        "start_time": "2023-05-19T13:53:26.820Z"
      },
      {
        "duration": 0,
        "start_time": "2023-05-19T13:53:26.821Z"
      },
      {
        "duration": 0,
        "start_time": "2023-05-19T13:53:26.822Z"
      },
      {
        "duration": 0,
        "start_time": "2023-05-19T13:53:26.823Z"
      },
      {
        "duration": 0,
        "start_time": "2023-05-19T13:53:26.824Z"
      },
      {
        "duration": 0,
        "start_time": "2023-05-19T13:53:26.826Z"
      },
      {
        "duration": 0,
        "start_time": "2023-05-19T13:53:26.829Z"
      },
      {
        "duration": 0,
        "start_time": "2023-05-19T13:53:26.830Z"
      },
      {
        "duration": 0,
        "start_time": "2023-05-19T13:53:26.831Z"
      },
      {
        "duration": 0,
        "start_time": "2023-05-19T13:53:26.832Z"
      },
      {
        "duration": 0,
        "start_time": "2023-05-19T13:53:26.834Z"
      },
      {
        "duration": 0,
        "start_time": "2023-05-19T13:53:26.835Z"
      },
      {
        "duration": 0,
        "start_time": "2023-05-19T13:53:26.836Z"
      },
      {
        "duration": 0,
        "start_time": "2023-05-19T13:53:26.838Z"
      },
      {
        "duration": 0,
        "start_time": "2023-05-19T13:53:26.839Z"
      },
      {
        "duration": 0,
        "start_time": "2023-05-19T13:53:26.840Z"
      },
      {
        "duration": 0,
        "start_time": "2023-05-19T13:53:26.841Z"
      },
      {
        "duration": 0,
        "start_time": "2023-05-19T13:53:26.842Z"
      },
      {
        "duration": 0,
        "start_time": "2023-05-19T13:53:26.844Z"
      },
      {
        "duration": 0,
        "start_time": "2023-05-19T13:53:26.845Z"
      },
      {
        "duration": 0,
        "start_time": "2023-05-19T13:53:26.847Z"
      },
      {
        "duration": 0,
        "start_time": "2023-05-19T13:53:26.848Z"
      },
      {
        "duration": 6874,
        "start_time": "2023-05-19T15:00:59.185Z"
      },
      {
        "duration": 1334,
        "start_time": "2023-05-19T15:01:06.062Z"
      },
      {
        "duration": 163,
        "start_time": "2023-05-19T15:01:07.398Z"
      },
      {
        "duration": 3,
        "start_time": "2023-05-19T15:01:07.563Z"
      },
      {
        "duration": 28,
        "start_time": "2023-05-19T15:01:07.567Z"
      },
      {
        "duration": 1153,
        "start_time": "2023-05-19T15:01:07.597Z"
      },
      {
        "duration": 1066,
        "start_time": "2023-05-19T15:01:08.751Z"
      },
      {
        "duration": 7,
        "start_time": "2023-05-19T15:01:09.819Z"
      },
      {
        "duration": 5,
        "start_time": "2023-05-19T15:01:09.827Z"
      },
      {
        "duration": 35,
        "start_time": "2023-05-19T15:01:09.835Z"
      },
      {
        "duration": 31,
        "start_time": "2023-05-19T15:01:09.871Z"
      },
      {
        "duration": 32,
        "start_time": "2023-05-19T15:01:09.904Z"
      },
      {
        "duration": 35,
        "start_time": "2023-05-19T15:01:09.938Z"
      },
      {
        "duration": 6,
        "start_time": "2023-05-19T15:01:09.975Z"
      },
      {
        "duration": 50,
        "start_time": "2023-05-19T15:01:09.983Z"
      },
      {
        "duration": 2552,
        "start_time": "2023-05-19T15:01:10.034Z"
      },
      {
        "duration": 5,
        "start_time": "2023-05-19T15:01:12.595Z"
      },
      {
        "duration": 10271,
        "start_time": "2023-05-19T15:01:12.609Z"
      },
      {
        "duration": 180,
        "start_time": "2023-05-19T15:01:22.882Z"
      },
      {
        "duration": 4,
        "start_time": "2023-05-19T15:01:23.065Z"
      },
      {
        "duration": 109660,
        "start_time": "2023-05-19T15:01:23.071Z"
      },
      {
        "duration": 145,
        "start_time": "2023-05-19T15:03:12.732Z"
      },
      {
        "duration": 12,
        "start_time": "2023-05-19T15:03:12.884Z"
      },
      {
        "duration": 4497,
        "start_time": "2023-05-19T15:03:12.899Z"
      },
      {
        "duration": 10907,
        "start_time": "2023-05-19T15:03:17.400Z"
      },
      {
        "duration": 171,
        "start_time": "2023-05-19T15:03:28.308Z"
      },
      {
        "duration": 17,
        "start_time": "2023-05-19T15:03:28.481Z"
      },
      {
        "duration": 106899,
        "start_time": "2023-05-19T15:03:28.505Z"
      },
      {
        "duration": 131,
        "start_time": "2023-05-19T15:05:15.405Z"
      },
      {
        "duration": 4,
        "start_time": "2023-05-19T15:05:15.537Z"
      },
      {
        "duration": 57,
        "start_time": "2023-05-19T15:05:26.259Z"
      },
      {
        "duration": 123,
        "start_time": "2023-05-19T15:05:33.343Z"
      },
      {
        "duration": 38,
        "start_time": "2023-05-19T15:05:38.796Z"
      },
      {
        "duration": 38,
        "start_time": "2023-05-19T15:06:13.603Z"
      },
      {
        "duration": 4379,
        "start_time": "2023-05-19T15:06:19.819Z"
      },
      {
        "duration": 15436,
        "start_time": "2023-05-19T15:06:27.322Z"
      },
      {
        "duration": 161,
        "start_time": "2023-05-19T15:06:42.759Z"
      },
      {
        "duration": 3,
        "start_time": "2023-05-19T15:06:42.922Z"
      },
      {
        "duration": 148430,
        "start_time": "2023-05-19T15:09:29.790Z"
      },
      {
        "duration": 11,
        "start_time": "2023-05-19T15:11:58.222Z"
      },
      {
        "duration": 0,
        "start_time": "2023-05-19T15:11:58.235Z"
      },
      {
        "duration": 0,
        "start_time": "2023-05-19T15:11:58.236Z"
      },
      {
        "duration": 0,
        "start_time": "2023-05-19T15:11:58.237Z"
      },
      {
        "duration": 0,
        "start_time": "2023-05-19T15:11:58.238Z"
      },
      {
        "duration": 1,
        "start_time": "2023-05-19T15:11:58.238Z"
      },
      {
        "duration": 0,
        "start_time": "2023-05-19T15:11:58.240Z"
      },
      {
        "duration": 0,
        "start_time": "2023-05-19T15:11:58.240Z"
      },
      {
        "duration": 0,
        "start_time": "2023-05-19T15:11:58.241Z"
      },
      {
        "duration": 0,
        "start_time": "2023-05-19T15:11:58.242Z"
      },
      {
        "duration": 0,
        "start_time": "2023-05-19T15:11:58.243Z"
      },
      {
        "duration": 0,
        "start_time": "2023-05-19T15:11:58.244Z"
      },
      {
        "duration": 0,
        "start_time": "2023-05-19T15:11:58.245Z"
      },
      {
        "duration": 172548,
        "start_time": "2023-05-19T15:12:03.550Z"
      },
      {
        "duration": 146,
        "start_time": "2023-05-19T15:15:04.213Z"
      },
      {
        "duration": 132,
        "start_time": "2023-05-19T15:15:07.243Z"
      },
      {
        "duration": 3,
        "start_time": "2023-05-19T15:15:07.377Z"
      },
      {
        "duration": 23,
        "start_time": "2023-05-19T15:15:07.384Z"
      },
      {
        "duration": 2199,
        "start_time": "2023-05-19T15:15:07.409Z"
      },
      {
        "duration": 5479,
        "start_time": "2023-05-19T15:15:09.610Z"
      },
      {
        "duration": 144,
        "start_time": "2023-05-19T15:15:15.091Z"
      },
      {
        "duration": 3,
        "start_time": "2023-05-19T15:15:15.236Z"
      },
      {
        "duration": 59088,
        "start_time": "2023-05-19T15:15:15.240Z"
      },
      {
        "duration": 200,
        "start_time": "2023-05-19T15:16:14.329Z"
      },
      {
        "duration": 3,
        "start_time": "2023-05-19T15:16:14.532Z"
      },
      {
        "duration": 16,
        "start_time": "2023-05-19T15:16:14.536Z"
      },
      {
        "duration": 121,
        "start_time": "2023-05-19T15:16:14.553Z"
      },
      {
        "duration": 26,
        "start_time": "2023-05-19T15:16:14.675Z"
      },
      {
        "duration": 89,
        "start_time": "2023-05-19T15:18:58.514Z"
      },
      {
        "duration": 10,
        "start_time": "2023-05-19T15:29:32.680Z"
      },
      {
        "duration": 502,
        "start_time": "2023-05-19T15:29:52.396Z"
      },
      {
        "duration": 142,
        "start_time": "2023-05-19T15:30:07.748Z"
      },
      {
        "duration": 175,
        "start_time": "2023-05-19T15:30:35.610Z"
      },
      {
        "duration": 40,
        "start_time": "2023-05-20T13:49:27.304Z"
      },
      {
        "duration": 6295,
        "start_time": "2023-05-20T13:49:38.630Z"
      },
      {
        "duration": 1346,
        "start_time": "2023-05-20T13:49:44.927Z"
      },
      {
        "duration": 192,
        "start_time": "2023-05-20T13:49:46.274Z"
      },
      {
        "duration": 3,
        "start_time": "2023-05-20T13:49:46.468Z"
      },
      {
        "duration": 26,
        "start_time": "2023-05-20T13:49:46.474Z"
      },
      {
        "duration": 1172,
        "start_time": "2023-05-20T13:49:46.503Z"
      },
      {
        "duration": 1060,
        "start_time": "2023-05-20T13:49:47.677Z"
      },
      {
        "duration": 7,
        "start_time": "2023-05-20T13:49:48.739Z"
      },
      {
        "duration": 4,
        "start_time": "2023-05-20T13:49:48.747Z"
      },
      {
        "duration": 9,
        "start_time": "2023-05-20T13:49:48.753Z"
      },
      {
        "duration": 3,
        "start_time": "2023-05-20T13:49:48.764Z"
      },
      {
        "duration": 58,
        "start_time": "2023-05-20T13:49:48.768Z"
      },
      {
        "duration": 37,
        "start_time": "2023-05-20T13:49:48.828Z"
      },
      {
        "duration": 6,
        "start_time": "2023-05-20T13:49:48.867Z"
      },
      {
        "duration": 39,
        "start_time": "2023-05-20T13:49:48.875Z"
      },
      {
        "duration": 1891,
        "start_time": "2023-05-20T13:49:48.916Z"
      },
      {
        "duration": 2,
        "start_time": "2023-05-20T13:49:50.809Z"
      },
      {
        "duration": 9294,
        "start_time": "2023-05-20T13:49:50.813Z"
      },
      {
        "duration": 142,
        "start_time": "2023-05-20T13:50:00.109Z"
      },
      {
        "duration": 4,
        "start_time": "2023-05-20T13:50:00.252Z"
      },
      {
        "duration": 99813,
        "start_time": "2023-05-20T13:50:00.257Z"
      },
      {
        "duration": 144,
        "start_time": "2023-05-20T13:51:40.071Z"
      },
      {
        "duration": 4,
        "start_time": "2023-05-20T13:51:40.216Z"
      },
      {
        "duration": 1895,
        "start_time": "2023-05-20T13:51:40.221Z"
      },
      {
        "duration": 9068,
        "start_time": "2023-05-20T13:51:42.209Z"
      },
      {
        "duration": 137,
        "start_time": "2023-05-20T13:51:51.278Z"
      },
      {
        "duration": 3,
        "start_time": "2023-05-20T13:51:51.417Z"
      },
      {
        "duration": 98009,
        "start_time": "2023-05-20T13:51:51.423Z"
      },
      {
        "duration": 171,
        "start_time": "2023-05-20T13:53:29.434Z"
      },
      {
        "duration": 5,
        "start_time": "2023-05-20T13:53:29.607Z"
      },
      {
        "duration": 46,
        "start_time": "2023-05-20T13:53:29.613Z"
      },
      {
        "duration": 3747,
        "start_time": "2023-05-20T13:53:29.661Z"
      },
      {
        "duration": 13540,
        "start_time": "2023-05-20T13:53:33.410Z"
      },
      {
        "duration": 137,
        "start_time": "2023-05-20T13:53:46.952Z"
      },
      {
        "duration": 4,
        "start_time": "2023-05-20T13:53:47.090Z"
      },
      {
        "duration": 151443,
        "start_time": "2023-05-20T13:53:47.096Z"
      },
      {
        "duration": 146,
        "start_time": "2023-05-20T13:56:18.541Z"
      },
      {
        "duration": 3,
        "start_time": "2023-05-20T13:56:18.689Z"
      },
      {
        "duration": 22,
        "start_time": "2023-05-20T13:56:18.693Z"
      },
      {
        "duration": 1091,
        "start_time": "2023-05-20T13:56:18.716Z"
      },
      {
        "duration": 5265,
        "start_time": "2023-05-20T13:56:19.809Z"
      },
      {
        "duration": 166,
        "start_time": "2023-05-20T13:56:25.075Z"
      },
      {
        "duration": 3,
        "start_time": "2023-05-20T13:56:25.243Z"
      },
      {
        "duration": 57309,
        "start_time": "2023-05-20T13:56:25.248Z"
      },
      {
        "duration": 159,
        "start_time": "2023-05-20T13:57:22.559Z"
      },
      {
        "duration": 3,
        "start_time": "2023-05-20T13:57:22.720Z"
      },
      {
        "duration": 14,
        "start_time": "2023-05-20T13:57:22.724Z"
      },
      {
        "duration": 40,
        "start_time": "2023-05-20T13:57:22.740Z"
      },
      {
        "duration": 63,
        "start_time": "2023-05-20T13:57:22.782Z"
      },
      {
        "duration": 29,
        "start_time": "2023-05-20T13:58:20.558Z"
      },
      {
        "duration": 17,
        "start_time": "2023-05-20T13:59:46.325Z"
      },
      {
        "duration": 19,
        "start_time": "2023-05-20T14:00:32.146Z"
      },
      {
        "duration": 79,
        "start_time": "2023-05-20T14:01:31.168Z"
      },
      {
        "duration": 26,
        "start_time": "2023-05-20T14:01:44.258Z"
      },
      {
        "duration": 156,
        "start_time": "2023-05-20T14:03:06.194Z"
      },
      {
        "duration": 72,
        "start_time": "2023-05-20T14:04:15.991Z"
      },
      {
        "duration": 8,
        "start_time": "2023-05-20T14:05:22.433Z"
      },
      {
        "duration": 10,
        "start_time": "2023-05-20T14:05:28.858Z"
      },
      {
        "duration": 10,
        "start_time": "2023-05-20T14:08:49.981Z"
      },
      {
        "duration": 10,
        "start_time": "2023-05-20T14:09:31.427Z"
      },
      {
        "duration": 5,
        "start_time": "2023-05-20T14:11:48.556Z"
      },
      {
        "duration": 4,
        "start_time": "2023-05-20T14:12:06.797Z"
      },
      {
        "duration": 1793,
        "start_time": "2023-05-20T14:14:55.657Z"
      },
      {
        "duration": 1098,
        "start_time": "2023-05-20T14:14:57.452Z"
      },
      {
        "duration": 92,
        "start_time": "2023-05-20T14:14:58.551Z"
      },
      {
        "duration": 3,
        "start_time": "2023-05-20T14:14:58.644Z"
      },
      {
        "duration": 13,
        "start_time": "2023-05-20T14:14:58.649Z"
      },
      {
        "duration": 1204,
        "start_time": "2023-05-20T14:14:58.664Z"
      },
      {
        "duration": 1111,
        "start_time": "2023-05-20T14:14:59.870Z"
      },
      {
        "duration": 7,
        "start_time": "2023-05-20T14:15:00.983Z"
      },
      {
        "duration": 37,
        "start_time": "2023-05-20T14:15:00.991Z"
      },
      {
        "duration": 30,
        "start_time": "2023-05-20T14:15:01.030Z"
      },
      {
        "duration": 36,
        "start_time": "2023-05-20T14:15:01.062Z"
      },
      {
        "duration": 72,
        "start_time": "2023-05-20T14:15:01.100Z"
      },
      {
        "duration": 82,
        "start_time": "2023-05-20T14:15:01.174Z"
      },
      {
        "duration": 19,
        "start_time": "2023-05-20T14:15:01.259Z"
      },
      {
        "duration": 82,
        "start_time": "2023-05-20T14:15:01.279Z"
      },
      {
        "duration": 1848,
        "start_time": "2023-05-20T14:15:01.363Z"
      },
      {
        "duration": 3,
        "start_time": "2023-05-20T14:15:03.213Z"
      },
      {
        "duration": 9022,
        "start_time": "2023-05-20T14:15:03.307Z"
      },
      {
        "duration": 175,
        "start_time": "2023-05-20T14:15:12.331Z"
      },
      {
        "duration": 4,
        "start_time": "2023-05-20T14:15:12.508Z"
      },
      {
        "duration": 99804,
        "start_time": "2023-05-20T14:15:12.514Z"
      },
      {
        "duration": 172,
        "start_time": "2023-05-20T14:16:52.319Z"
      },
      {
        "duration": 14,
        "start_time": "2023-05-20T14:16:52.493Z"
      },
      {
        "duration": 5902,
        "start_time": "2023-05-20T14:16:52.509Z"
      },
      {
        "duration": 9949,
        "start_time": "2023-05-20T14:16:58.413Z"
      },
      {
        "duration": 166,
        "start_time": "2023-05-20T14:17:08.364Z"
      },
      {
        "duration": 4,
        "start_time": "2023-05-20T14:17:08.532Z"
      },
      {
        "duration": 101120,
        "start_time": "2023-05-20T14:17:08.538Z"
      },
      {
        "duration": 138,
        "start_time": "2023-05-20T14:18:49.660Z"
      },
      {
        "duration": 7,
        "start_time": "2023-05-20T14:18:49.800Z"
      },
      {
        "duration": 39,
        "start_time": "2023-05-20T14:18:49.809Z"
      },
      {
        "duration": 2356,
        "start_time": "2023-05-20T14:18:49.850Z"
      },
      {
        "duration": 14228,
        "start_time": "2023-05-20T14:18:52.208Z"
      },
      {
        "duration": 149,
        "start_time": "2023-05-20T14:19:06.438Z"
      },
      {
        "duration": 4,
        "start_time": "2023-05-20T14:19:06.589Z"
      },
      {
        "duration": 159672,
        "start_time": "2023-05-20T14:19:06.594Z"
      },
      {
        "duration": 169,
        "start_time": "2023-05-20T14:21:46.267Z"
      },
      {
        "duration": 5,
        "start_time": "2023-05-20T14:21:46.439Z"
      },
      {
        "duration": 21,
        "start_time": "2023-05-20T14:21:46.445Z"
      },
      {
        "duration": 3556,
        "start_time": "2023-05-20T14:21:46.468Z"
      },
      {
        "duration": 6254,
        "start_time": "2023-05-20T14:21:50.106Z"
      },
      {
        "duration": 181,
        "start_time": "2023-05-20T14:21:56.362Z"
      },
      {
        "duration": 3,
        "start_time": "2023-05-20T14:21:56.545Z"
      },
      {
        "duration": 62824,
        "start_time": "2023-05-20T14:21:56.550Z"
      },
      {
        "duration": 158,
        "start_time": "2023-05-20T14:22:59.376Z"
      },
      {
        "duration": 5,
        "start_time": "2023-05-20T14:22:59.535Z"
      },
      {
        "duration": 19,
        "start_time": "2023-05-20T14:22:59.541Z"
      },
      {
        "duration": 24,
        "start_time": "2023-05-20T14:22:59.562Z"
      },
      {
        "duration": 39,
        "start_time": "2023-05-20T14:22:59.587Z"
      },
      {
        "duration": 19,
        "start_time": "2023-05-20T14:22:59.628Z"
      },
      {
        "duration": 19,
        "start_time": "2023-05-20T14:22:59.649Z"
      },
      {
        "duration": 5,
        "start_time": "2023-05-20T14:22:59.669Z"
      },
      {
        "duration": 7011,
        "start_time": "2023-05-20T17:03:18.293Z"
      },
      {
        "duration": 1378,
        "start_time": "2023-05-20T17:03:25.306Z"
      },
      {
        "duration": 265,
        "start_time": "2023-05-20T17:03:26.685Z"
      },
      {
        "duration": 3,
        "start_time": "2023-05-20T17:03:26.951Z"
      },
      {
        "duration": 28,
        "start_time": "2023-05-20T17:03:26.956Z"
      },
      {
        "duration": 1217,
        "start_time": "2023-05-20T17:03:26.985Z"
      },
      {
        "duration": 1123,
        "start_time": "2023-05-20T17:03:28.204Z"
      },
      {
        "duration": 7,
        "start_time": "2023-05-20T17:03:29.333Z"
      },
      {
        "duration": 7,
        "start_time": "2023-05-20T17:03:29.341Z"
      },
      {
        "duration": 12,
        "start_time": "2023-05-20T17:03:29.349Z"
      },
      {
        "duration": 3,
        "start_time": "2023-05-20T17:03:29.362Z"
      },
      {
        "duration": 25,
        "start_time": "2023-05-20T17:03:29.366Z"
      },
      {
        "duration": 46,
        "start_time": "2023-05-20T17:03:29.393Z"
      },
      {
        "duration": 5,
        "start_time": "2023-05-20T17:03:29.441Z"
      },
      {
        "duration": 13,
        "start_time": "2023-05-20T17:03:29.448Z"
      },
      {
        "duration": 4459,
        "start_time": "2023-05-20T17:03:29.462Z"
      },
      {
        "duration": 3,
        "start_time": "2023-05-20T17:03:33.922Z"
      },
      {
        "duration": 10937,
        "start_time": "2023-05-20T17:03:33.927Z"
      },
      {
        "duration": 157,
        "start_time": "2023-05-20T17:03:44.866Z"
      },
      {
        "duration": 6,
        "start_time": "2023-05-20T17:03:45.025Z"
      },
      {
        "duration": 117933,
        "start_time": "2023-05-20T17:03:45.033Z"
      },
      {
        "duration": 160,
        "start_time": "2023-05-20T17:05:42.967Z"
      },
      {
        "duration": 5,
        "start_time": "2023-05-20T17:05:43.129Z"
      },
      {
        "duration": 3895,
        "start_time": "2023-05-20T17:05:43.136Z"
      },
      {
        "duration": 11340,
        "start_time": "2023-05-20T17:05:47.033Z"
      },
      {
        "duration": 164,
        "start_time": "2023-05-20T17:05:58.375Z"
      },
      {
        "duration": 4,
        "start_time": "2023-05-20T17:05:58.541Z"
      },
      {
        "duration": 117594,
        "start_time": "2023-05-20T17:05:58.547Z"
      },
      {
        "duration": 155,
        "start_time": "2023-05-20T17:07:56.142Z"
      },
      {
        "duration": 4,
        "start_time": "2023-05-20T17:07:56.299Z"
      },
      {
        "duration": 69,
        "start_time": "2023-05-20T17:07:56.304Z"
      },
      {
        "duration": 8643,
        "start_time": "2023-05-20T17:07:56.374Z"
      },
      {
        "duration": 17139,
        "start_time": "2023-05-20T17:08:05.019Z"
      },
      {
        "duration": 173,
        "start_time": "2023-05-20T17:08:22.159Z"
      },
      {
        "duration": 11,
        "start_time": "2023-05-20T17:08:22.335Z"
      },
      {
        "duration": 185999,
        "start_time": "2023-05-20T17:08:22.347Z"
      },
      {
        "duration": 155,
        "start_time": "2023-05-20T17:11:28.348Z"
      },
      {
        "duration": 4,
        "start_time": "2023-05-20T17:11:28.505Z"
      },
      {
        "duration": 15,
        "start_time": "2023-05-20T17:11:28.523Z"
      },
      {
        "duration": 2692,
        "start_time": "2023-05-20T17:11:28.539Z"
      },
      {
        "duration": 6222,
        "start_time": "2023-05-20T17:11:31.240Z"
      },
      {
        "duration": 171,
        "start_time": "2023-05-20T17:11:37.463Z"
      },
      {
        "duration": 4,
        "start_time": "2023-05-20T17:11:37.636Z"
      },
      {
        "duration": 66839,
        "start_time": "2023-05-20T17:11:37.641Z"
      },
      {
        "duration": 174,
        "start_time": "2023-05-20T17:12:44.482Z"
      },
      {
        "duration": 5,
        "start_time": "2023-05-20T17:12:44.657Z"
      },
      {
        "duration": 15,
        "start_time": "2023-05-20T17:12:44.664Z"
      },
      {
        "duration": 18,
        "start_time": "2023-05-20T17:12:44.680Z"
      },
      {
        "duration": 45,
        "start_time": "2023-05-20T17:12:44.700Z"
      },
      {
        "duration": 25,
        "start_time": "2023-05-20T17:12:44.747Z"
      },
      {
        "duration": 21,
        "start_time": "2023-05-20T17:12:44.774Z"
      },
      {
        "duration": 5,
        "start_time": "2023-05-20T17:12:44.797Z"
      },
      {
        "duration": 53,
        "start_time": "2023-05-20T17:53:02.364Z"
      },
      {
        "duration": 55,
        "start_time": "2023-05-20T18:00:18.707Z"
      },
      {
        "duration": 8239,
        "start_time": "2023-05-20T18:00:23.869Z"
      },
      {
        "duration": 1528,
        "start_time": "2023-05-20T18:00:32.111Z"
      },
      {
        "duration": 94,
        "start_time": "2023-05-20T18:00:33.642Z"
      },
      {
        "duration": 4,
        "start_time": "2023-05-20T18:00:33.738Z"
      },
      {
        "duration": 43,
        "start_time": "2023-05-20T18:00:33.744Z"
      },
      {
        "duration": 1519,
        "start_time": "2023-05-20T18:00:33.789Z"
      },
      {
        "duration": 1270,
        "start_time": "2023-05-20T18:00:35.310Z"
      },
      {
        "duration": 8,
        "start_time": "2023-05-20T18:00:36.582Z"
      },
      {
        "duration": 3,
        "start_time": "2023-05-20T18:00:36.592Z"
      },
      {
        "duration": 28,
        "start_time": "2023-05-20T18:00:36.597Z"
      },
      {
        "duration": 7,
        "start_time": "2023-05-20T18:00:36.627Z"
      },
      {
        "duration": 36,
        "start_time": "2023-05-20T18:00:36.635Z"
      },
      {
        "duration": 131,
        "start_time": "2023-05-20T18:00:39.962Z"
      },
      {
        "duration": 16,
        "start_time": "2023-05-20T18:01:11.792Z"
      },
      {
        "duration": 16,
        "start_time": "2023-05-20T18:01:37.764Z"
      },
      {
        "duration": 16,
        "start_time": "2023-05-20T18:02:16.580Z"
      },
      {
        "duration": 21,
        "start_time": "2023-05-20T18:02:32.136Z"
      },
      {
        "duration": 3,
        "start_time": "2023-05-20T18:02:40.375Z"
      },
      {
        "duration": 20,
        "start_time": "2023-05-20T18:03:34.534Z"
      },
      {
        "duration": 23,
        "start_time": "2023-05-20T18:04:22.491Z"
      },
      {
        "duration": 2238,
        "start_time": "2023-05-20T18:04:32.278Z"
      },
      {
        "duration": 6,
        "start_time": "2023-05-20T18:04:34.519Z"
      },
      {
        "duration": 194,
        "start_time": "2023-05-20T18:04:34.527Z"
      },
      {
        "duration": 3,
        "start_time": "2023-05-20T18:04:34.723Z"
      },
      {
        "duration": 45,
        "start_time": "2023-05-20T18:04:34.728Z"
      },
      {
        "duration": 1402,
        "start_time": "2023-05-20T18:04:34.775Z"
      },
      {
        "duration": 1191,
        "start_time": "2023-05-20T18:04:36.180Z"
      },
      {
        "duration": 6,
        "start_time": "2023-05-20T18:04:37.373Z"
      },
      {
        "duration": 5,
        "start_time": "2023-05-20T18:04:37.381Z"
      },
      {
        "duration": 10,
        "start_time": "2023-05-20T18:04:37.388Z"
      },
      {
        "duration": 32,
        "start_time": "2023-05-20T18:04:37.399Z"
      },
      {
        "duration": 18,
        "start_time": "2023-05-20T18:04:37.432Z"
      },
      {
        "duration": 21,
        "start_time": "2023-05-20T18:04:46.556Z"
      },
      {
        "duration": 95,
        "start_time": "2023-05-20T18:05:14.760Z"
      },
      {
        "duration": 67,
        "start_time": "2023-05-20T18:05:30.901Z"
      },
      {
        "duration": 79,
        "start_time": "2023-05-20T18:05:49.679Z"
      },
      {
        "duration": 76,
        "start_time": "2023-05-20T18:05:54.568Z"
      },
      {
        "duration": 7473,
        "start_time": "2023-05-22T17:27:33.618Z"
      },
      {
        "duration": 1432,
        "start_time": "2023-05-22T17:27:41.093Z"
      },
      {
        "duration": 94,
        "start_time": "2023-05-22T17:27:42.527Z"
      },
      {
        "duration": 4,
        "start_time": "2023-05-22T17:27:42.624Z"
      },
      {
        "duration": 19,
        "start_time": "2023-05-22T17:27:42.630Z"
      },
      {
        "duration": 1379,
        "start_time": "2023-05-22T17:27:42.651Z"
      },
      {
        "duration": 1230,
        "start_time": "2023-05-22T17:27:44.032Z"
      },
      {
        "duration": 8,
        "start_time": "2023-05-22T17:27:45.264Z"
      },
      {
        "duration": 10,
        "start_time": "2023-05-22T17:27:45.274Z"
      },
      {
        "duration": 11,
        "start_time": "2023-05-22T17:27:45.287Z"
      },
      {
        "duration": 6,
        "start_time": "2023-05-22T17:27:45.300Z"
      },
      {
        "duration": 15,
        "start_time": "2023-05-22T17:27:45.325Z"
      },
      {
        "duration": 84,
        "start_time": "2023-05-22T17:27:45.342Z"
      },
      {
        "duration": 2398,
        "start_time": "2023-05-22T17:27:45.428Z"
      },
      {
        "duration": 4,
        "start_time": "2023-05-22T17:27:47.828Z"
      },
      {
        "duration": 10734,
        "start_time": "2023-05-22T17:27:47.835Z"
      },
      {
        "duration": 165,
        "start_time": "2023-05-22T17:27:58.571Z"
      },
      {
        "duration": 5,
        "start_time": "2023-05-22T17:27:58.738Z"
      },
      {
        "duration": 119759,
        "start_time": "2023-05-22T17:27:58.744Z"
      },
      {
        "duration": 163,
        "start_time": "2023-05-22T17:29:58.504Z"
      },
      {
        "duration": 4,
        "start_time": "2023-05-22T17:29:58.669Z"
      },
      {
        "duration": 3658,
        "start_time": "2023-05-22T17:29:58.675Z"
      },
      {
        "duration": 11067,
        "start_time": "2023-05-22T17:30:02.335Z"
      },
      {
        "duration": 159,
        "start_time": "2023-05-22T17:30:13.404Z"
      },
      {
        "duration": 4,
        "start_time": "2023-05-22T17:30:13.564Z"
      },
      {
        "duration": 119333,
        "start_time": "2023-05-22T17:30:13.570Z"
      },
      {
        "duration": 161,
        "start_time": "2023-05-22T17:32:12.905Z"
      },
      {
        "duration": 5,
        "start_time": "2023-05-22T17:32:13.070Z"
      },
      {
        "duration": 58,
        "start_time": "2023-05-22T17:32:13.077Z"
      },
      {
        "duration": 2995,
        "start_time": "2023-05-22T17:32:13.137Z"
      },
      {
        "duration": 16538,
        "start_time": "2023-05-22T17:32:16.134Z"
      },
      {
        "duration": 183,
        "start_time": "2023-05-22T17:32:32.674Z"
      },
      {
        "duration": 4,
        "start_time": "2023-05-22T17:32:32.859Z"
      }
    ],
    "kernelspec": {
      "display_name": "Python 3 (ipykernel)",
      "language": "python",
      "name": "python3"
    },
    "language_info": {
      "codemirror_mode": {
        "name": "ipython",
        "version": 3
      },
      "file_extension": ".py",
      "mimetype": "text/x-python",
      "name": "python",
      "nbconvert_exporter": "python",
      "pygments_lexer": "ipython3",
      "version": "3.11.2"
    },
    "toc": {
      "base_numbering": 1,
      "nav_menu": {},
      "number_sections": true,
      "sideBar": true,
      "skip_h1_title": true,
      "title_cell": "Содержание",
      "title_sidebar": "Contents",
      "toc_cell": true,
      "toc_position": {
        "height": "calc(100% - 180px)",
        "left": "10px",
        "top": "150px",
        "width": "282.344px"
      },
      "toc_section_display": true,
      "toc_window_display": true
    },
    "colab": {
      "provenance": []
    }
  },
  "nbformat": 4,
  "nbformat_minor": 0
}