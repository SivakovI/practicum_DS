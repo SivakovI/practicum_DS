{
  "cells": [
    {
      "cell_type": "code",
      "execution_count": 1,
      "metadata": {
        "id": "cz9G2IAJfo_m"
      },
      "outputs": [],
      "source": [
        "!pip install category_encoders -q"
      ]
    },
    {
      "cell_type": "code",
      "source": [
        "!pip install catboost -q"
      ],
      "metadata": {
        "colab": {
          "base_uri": "https://localhost:8080/"
        },
        "id": "rL5bL9x5f0KF",
        "outputId": "436961a8-188f-4b35-9ad3-47505eab6e85"
      },
      "execution_count": 2,
      "outputs": [
        {
          "output_type": "stream",
          "name": "stdout",
          "text": [
            "\u001b[2K     \u001b[90m━━━━━━━━━━━━━━━━━━━━━━━━━━━━━━━━━━━━━━━━\u001b[0m \u001b[32m98.7/98.7 MB\u001b[0m \u001b[31m9.1 MB/s\u001b[0m eta \u001b[36m0:00:00\u001b[0m\n",
            "\u001b[?25h"
          ]
        }
      ]
    },
    {
      "cell_type": "markdown",
      "metadata": {
        "id": "c36Jkdfcfo_o"
      },
      "source": [
        "# Определение стоимости автомобилей"
      ]
    },
    {
      "cell_type": "markdown",
      "metadata": {
        "id": "jPyQK_6cfo_o"
      },
      "source": [
        "Сервис по продаже автомобилей с пробегом «Не бит, не крашен» разрабатывает приложение для привлечения новых клиентов. В нём можно быстро узнать рыночную стоимость своего автомобиля. В вашем распоряжении исторические данные: технические характеристики, комплектации и цены автомобилей. Вам нужно построить модель для определения стоимости.\n",
        "\n",
        "Заказчику важны:\n",
        "\n",
        "- качество предсказания;\n",
        "- скорость предсказания;\n",
        "- время обучения."
      ]
    },
    {
      "cell_type": "code",
      "execution_count": 3,
      "metadata": {
        "id": "l4BM5m0Sfo_o"
      },
      "outputs": [],
      "source": [
        "#miscellaneous\n",
        "import pandas as pd\n",
        "import numpy as np\n",
        "import matplotlib.pyplot as plt\n",
        "\n",
        "#preprocessing\n",
        "from sklearn.preprocessing import OneHotEncoder, StandardScaler\n",
        "from category_encoders.m_estimate import MEstimateEncoder\n",
        "\n",
        "#models\n",
        "from sklearn.linear_model import LinearRegression\n",
        "from lightgbm import LGBMRegressor\n",
        "from catboost import CatBoostRegressor\n",
        "\n",
        "#metrics and evaluation\n",
        "from sklearn.metrics import make_scorer, mean_squared_error\n",
        "from sklearn.model_selection import train_test_split, cross_val_score, GridSearchCV\n",
        "from catboost import cv, Pool"
      ]
    },
    {
      "cell_type": "markdown",
      "metadata": {
        "id": "SDuS7mBcfo_p"
      },
      "source": [
        "## Подготовка данных"
      ]
    },
    {
      "cell_type": "code",
      "execution_count": 4,
      "metadata": {
        "id": "dnfmh91Cfo_p"
      },
      "outputs": [],
      "source": [
        "df = pd.read_csv('https://code.s3.yandex.net/datasets/autos.csv')"
      ]
    },
    {
      "cell_type": "code",
      "execution_count": 5,
      "metadata": {
        "colab": {
          "base_uri": "https://localhost:8080/",
          "height": 206
        },
        "id": "Km0ekBAIfo_p",
        "outputId": "efc3696a-e24f-407b-ab62-4a55bcd86ac1"
      },
      "outputs": [
        {
          "output_type": "execute_result",
          "data": {
            "text/plain": [
              "           DateCrawled  Price VehicleType  RegistrationYear Gearbox  Power  \\\n",
              "0  2016-03-24 11:52:17    480         NaN              1993  manual      0   \n",
              "1  2016-03-24 10:58:45  18300       coupe              2011  manual    190   \n",
              "2  2016-03-14 12:52:21   9800         suv              2004    auto    163   \n",
              "3  2016-03-17 16:54:04   1500       small              2001  manual     75   \n",
              "4  2016-03-31 17:25:20   3600       small              2008  manual     69   \n",
              "\n",
              "   Model  Kilometer  RegistrationMonth  FuelType       Brand Repaired  \\\n",
              "0   golf     150000                  0    petrol  volkswagen      NaN   \n",
              "1    NaN     125000                  5  gasoline        audi      yes   \n",
              "2  grand     125000                  8  gasoline        jeep      NaN   \n",
              "3   golf     150000                  6    petrol  volkswagen       no   \n",
              "4  fabia      90000                  7  gasoline       skoda       no   \n",
              "\n",
              "           DateCreated  NumberOfPictures  PostalCode             LastSeen  \n",
              "0  2016-03-24 00:00:00                 0       70435  2016-04-07 03:16:57  \n",
              "1  2016-03-24 00:00:00                 0       66954  2016-04-07 01:46:50  \n",
              "2  2016-03-14 00:00:00                 0       90480  2016-04-05 12:47:46  \n",
              "3  2016-03-17 00:00:00                 0       91074  2016-03-17 17:40:17  \n",
              "4  2016-03-31 00:00:00                 0       60437  2016-04-06 10:17:21  "
            ],
            "text/html": [
              "\n",
              "  <div id=\"df-f722874c-930b-409f-a5c2-4e5223cdd74a\" class=\"colab-df-container\">\n",
              "    <div>\n",
              "<style scoped>\n",
              "    .dataframe tbody tr th:only-of-type {\n",
              "        vertical-align: middle;\n",
              "    }\n",
              "\n",
              "    .dataframe tbody tr th {\n",
              "        vertical-align: top;\n",
              "    }\n",
              "\n",
              "    .dataframe thead th {\n",
              "        text-align: right;\n",
              "    }\n",
              "</style>\n",
              "<table border=\"1\" class=\"dataframe\">\n",
              "  <thead>\n",
              "    <tr style=\"text-align: right;\">\n",
              "      <th></th>\n",
              "      <th>DateCrawled</th>\n",
              "      <th>Price</th>\n",
              "      <th>VehicleType</th>\n",
              "      <th>RegistrationYear</th>\n",
              "      <th>Gearbox</th>\n",
              "      <th>Power</th>\n",
              "      <th>Model</th>\n",
              "      <th>Kilometer</th>\n",
              "      <th>RegistrationMonth</th>\n",
              "      <th>FuelType</th>\n",
              "      <th>Brand</th>\n",
              "      <th>Repaired</th>\n",
              "      <th>DateCreated</th>\n",
              "      <th>NumberOfPictures</th>\n",
              "      <th>PostalCode</th>\n",
              "      <th>LastSeen</th>\n",
              "    </tr>\n",
              "  </thead>\n",
              "  <tbody>\n",
              "    <tr>\n",
              "      <th>0</th>\n",
              "      <td>2016-03-24 11:52:17</td>\n",
              "      <td>480</td>\n",
              "      <td>NaN</td>\n",
              "      <td>1993</td>\n",
              "      <td>manual</td>\n",
              "      <td>0</td>\n",
              "      <td>golf</td>\n",
              "      <td>150000</td>\n",
              "      <td>0</td>\n",
              "      <td>petrol</td>\n",
              "      <td>volkswagen</td>\n",
              "      <td>NaN</td>\n",
              "      <td>2016-03-24 00:00:00</td>\n",
              "      <td>0</td>\n",
              "      <td>70435</td>\n",
              "      <td>2016-04-07 03:16:57</td>\n",
              "    </tr>\n",
              "    <tr>\n",
              "      <th>1</th>\n",
              "      <td>2016-03-24 10:58:45</td>\n",
              "      <td>18300</td>\n",
              "      <td>coupe</td>\n",
              "      <td>2011</td>\n",
              "      <td>manual</td>\n",
              "      <td>190</td>\n",
              "      <td>NaN</td>\n",
              "      <td>125000</td>\n",
              "      <td>5</td>\n",
              "      <td>gasoline</td>\n",
              "      <td>audi</td>\n",
              "      <td>yes</td>\n",
              "      <td>2016-03-24 00:00:00</td>\n",
              "      <td>0</td>\n",
              "      <td>66954</td>\n",
              "      <td>2016-04-07 01:46:50</td>\n",
              "    </tr>\n",
              "    <tr>\n",
              "      <th>2</th>\n",
              "      <td>2016-03-14 12:52:21</td>\n",
              "      <td>9800</td>\n",
              "      <td>suv</td>\n",
              "      <td>2004</td>\n",
              "      <td>auto</td>\n",
              "      <td>163</td>\n",
              "      <td>grand</td>\n",
              "      <td>125000</td>\n",
              "      <td>8</td>\n",
              "      <td>gasoline</td>\n",
              "      <td>jeep</td>\n",
              "      <td>NaN</td>\n",
              "      <td>2016-03-14 00:00:00</td>\n",
              "      <td>0</td>\n",
              "      <td>90480</td>\n",
              "      <td>2016-04-05 12:47:46</td>\n",
              "    </tr>\n",
              "    <tr>\n",
              "      <th>3</th>\n",
              "      <td>2016-03-17 16:54:04</td>\n",
              "      <td>1500</td>\n",
              "      <td>small</td>\n",
              "      <td>2001</td>\n",
              "      <td>manual</td>\n",
              "      <td>75</td>\n",
              "      <td>golf</td>\n",
              "      <td>150000</td>\n",
              "      <td>6</td>\n",
              "      <td>petrol</td>\n",
              "      <td>volkswagen</td>\n",
              "      <td>no</td>\n",
              "      <td>2016-03-17 00:00:00</td>\n",
              "      <td>0</td>\n",
              "      <td>91074</td>\n",
              "      <td>2016-03-17 17:40:17</td>\n",
              "    </tr>\n",
              "    <tr>\n",
              "      <th>4</th>\n",
              "      <td>2016-03-31 17:25:20</td>\n",
              "      <td>3600</td>\n",
              "      <td>small</td>\n",
              "      <td>2008</td>\n",
              "      <td>manual</td>\n",
              "      <td>69</td>\n",
              "      <td>fabia</td>\n",
              "      <td>90000</td>\n",
              "      <td>7</td>\n",
              "      <td>gasoline</td>\n",
              "      <td>skoda</td>\n",
              "      <td>no</td>\n",
              "      <td>2016-03-31 00:00:00</td>\n",
              "      <td>0</td>\n",
              "      <td>60437</td>\n",
              "      <td>2016-04-06 10:17:21</td>\n",
              "    </tr>\n",
              "  </tbody>\n",
              "</table>\n",
              "</div>\n",
              "    <div class=\"colab-df-buttons\">\n",
              "\n",
              "  <div class=\"colab-df-container\">\n",
              "    <button class=\"colab-df-convert\" onclick=\"convertToInteractive('df-f722874c-930b-409f-a5c2-4e5223cdd74a')\"\n",
              "            title=\"Convert this dataframe to an interactive table.\"\n",
              "            style=\"display:none;\">\n",
              "\n",
              "  <svg xmlns=\"http://www.w3.org/2000/svg\" height=\"24px\" viewBox=\"0 -960 960 960\">\n",
              "    <path d=\"M120-120v-720h720v720H120Zm60-500h600v-160H180v160Zm220 220h160v-160H400v160Zm0 220h160v-160H400v160ZM180-400h160v-160H180v160Zm440 0h160v-160H620v160ZM180-180h160v-160H180v160Zm440 0h160v-160H620v160Z\"/>\n",
              "  </svg>\n",
              "    </button>\n",
              "\n",
              "  <style>\n",
              "    .colab-df-container {\n",
              "      display:flex;\n",
              "      gap: 12px;\n",
              "    }\n",
              "\n",
              "    .colab-df-convert {\n",
              "      background-color: #E8F0FE;\n",
              "      border: none;\n",
              "      border-radius: 50%;\n",
              "      cursor: pointer;\n",
              "      display: none;\n",
              "      fill: #1967D2;\n",
              "      height: 32px;\n",
              "      padding: 0 0 0 0;\n",
              "      width: 32px;\n",
              "    }\n",
              "\n",
              "    .colab-df-convert:hover {\n",
              "      background-color: #E2EBFA;\n",
              "      box-shadow: 0px 1px 2px rgba(60, 64, 67, 0.3), 0px 1px 3px 1px rgba(60, 64, 67, 0.15);\n",
              "      fill: #174EA6;\n",
              "    }\n",
              "\n",
              "    .colab-df-buttons div {\n",
              "      margin-bottom: 4px;\n",
              "    }\n",
              "\n",
              "    [theme=dark] .colab-df-convert {\n",
              "      background-color: #3B4455;\n",
              "      fill: #D2E3FC;\n",
              "    }\n",
              "\n",
              "    [theme=dark] .colab-df-convert:hover {\n",
              "      background-color: #434B5C;\n",
              "      box-shadow: 0px 1px 3px 1px rgba(0, 0, 0, 0.15);\n",
              "      filter: drop-shadow(0px 1px 2px rgba(0, 0, 0, 0.3));\n",
              "      fill: #FFFFFF;\n",
              "    }\n",
              "  </style>\n",
              "\n",
              "    <script>\n",
              "      const buttonEl =\n",
              "        document.querySelector('#df-f722874c-930b-409f-a5c2-4e5223cdd74a button.colab-df-convert');\n",
              "      buttonEl.style.display =\n",
              "        google.colab.kernel.accessAllowed ? 'block' : 'none';\n",
              "\n",
              "      async function convertToInteractive(key) {\n",
              "        const element = document.querySelector('#df-f722874c-930b-409f-a5c2-4e5223cdd74a');\n",
              "        const dataTable =\n",
              "          await google.colab.kernel.invokeFunction('convertToInteractive',\n",
              "                                                    [key], {});\n",
              "        if (!dataTable) return;\n",
              "\n",
              "        const docLinkHtml = 'Like what you see? Visit the ' +\n",
              "          '<a target=\"_blank\" href=https://colab.research.google.com/notebooks/data_table.ipynb>data table notebook</a>'\n",
              "          + ' to learn more about interactive tables.';\n",
              "        element.innerHTML = '';\n",
              "        dataTable['output_type'] = 'display_data';\n",
              "        await google.colab.output.renderOutput(dataTable, element);\n",
              "        const docLink = document.createElement('div');\n",
              "        docLink.innerHTML = docLinkHtml;\n",
              "        element.appendChild(docLink);\n",
              "      }\n",
              "    </script>\n",
              "  </div>\n",
              "\n",
              "\n",
              "<div id=\"df-c4c4c63e-e26a-47ac-ad2f-922e83a2af75\">\n",
              "  <button class=\"colab-df-quickchart\" onclick=\"quickchart('df-c4c4c63e-e26a-47ac-ad2f-922e83a2af75')\"\n",
              "            title=\"Suggest charts\"\n",
              "            style=\"display:none;\">\n",
              "\n",
              "<svg xmlns=\"http://www.w3.org/2000/svg\" height=\"24px\"viewBox=\"0 0 24 24\"\n",
              "     width=\"24px\">\n",
              "    <g>\n",
              "        <path d=\"M19 3H5c-1.1 0-2 .9-2 2v14c0 1.1.9 2 2 2h14c1.1 0 2-.9 2-2V5c0-1.1-.9-2-2-2zM9 17H7v-7h2v7zm4 0h-2V7h2v10zm4 0h-2v-4h2v4z\"/>\n",
              "    </g>\n",
              "</svg>\n",
              "  </button>\n",
              "\n",
              "<style>\n",
              "  .colab-df-quickchart {\n",
              "      --bg-color: #E8F0FE;\n",
              "      --fill-color: #1967D2;\n",
              "      --hover-bg-color: #E2EBFA;\n",
              "      --hover-fill-color: #174EA6;\n",
              "      --disabled-fill-color: #AAA;\n",
              "      --disabled-bg-color: #DDD;\n",
              "  }\n",
              "\n",
              "  [theme=dark] .colab-df-quickchart {\n",
              "      --bg-color: #3B4455;\n",
              "      --fill-color: #D2E3FC;\n",
              "      --hover-bg-color: #434B5C;\n",
              "      --hover-fill-color: #FFFFFF;\n",
              "      --disabled-bg-color: #3B4455;\n",
              "      --disabled-fill-color: #666;\n",
              "  }\n",
              "\n",
              "  .colab-df-quickchart {\n",
              "    background-color: var(--bg-color);\n",
              "    border: none;\n",
              "    border-radius: 50%;\n",
              "    cursor: pointer;\n",
              "    display: none;\n",
              "    fill: var(--fill-color);\n",
              "    height: 32px;\n",
              "    padding: 0;\n",
              "    width: 32px;\n",
              "  }\n",
              "\n",
              "  .colab-df-quickchart:hover {\n",
              "    background-color: var(--hover-bg-color);\n",
              "    box-shadow: 0 1px 2px rgba(60, 64, 67, 0.3), 0 1px 3px 1px rgba(60, 64, 67, 0.15);\n",
              "    fill: var(--button-hover-fill-color);\n",
              "  }\n",
              "\n",
              "  .colab-df-quickchart-complete:disabled,\n",
              "  .colab-df-quickchart-complete:disabled:hover {\n",
              "    background-color: var(--disabled-bg-color);\n",
              "    fill: var(--disabled-fill-color);\n",
              "    box-shadow: none;\n",
              "  }\n",
              "\n",
              "  .colab-df-spinner {\n",
              "    border: 2px solid var(--fill-color);\n",
              "    border-color: transparent;\n",
              "    border-bottom-color: var(--fill-color);\n",
              "    animation:\n",
              "      spin 1s steps(1) infinite;\n",
              "  }\n",
              "\n",
              "  @keyframes spin {\n",
              "    0% {\n",
              "      border-color: transparent;\n",
              "      border-bottom-color: var(--fill-color);\n",
              "      border-left-color: var(--fill-color);\n",
              "    }\n",
              "    20% {\n",
              "      border-color: transparent;\n",
              "      border-left-color: var(--fill-color);\n",
              "      border-top-color: var(--fill-color);\n",
              "    }\n",
              "    30% {\n",
              "      border-color: transparent;\n",
              "      border-left-color: var(--fill-color);\n",
              "      border-top-color: var(--fill-color);\n",
              "      border-right-color: var(--fill-color);\n",
              "    }\n",
              "    40% {\n",
              "      border-color: transparent;\n",
              "      border-right-color: var(--fill-color);\n",
              "      border-top-color: var(--fill-color);\n",
              "    }\n",
              "    60% {\n",
              "      border-color: transparent;\n",
              "      border-right-color: var(--fill-color);\n",
              "    }\n",
              "    80% {\n",
              "      border-color: transparent;\n",
              "      border-right-color: var(--fill-color);\n",
              "      border-bottom-color: var(--fill-color);\n",
              "    }\n",
              "    90% {\n",
              "      border-color: transparent;\n",
              "      border-bottom-color: var(--fill-color);\n",
              "    }\n",
              "  }\n",
              "</style>\n",
              "\n",
              "  <script>\n",
              "    async function quickchart(key) {\n",
              "      const quickchartButtonEl =\n",
              "        document.querySelector('#' + key + ' button');\n",
              "      quickchartButtonEl.disabled = true;  // To prevent multiple clicks.\n",
              "      quickchartButtonEl.classList.add('colab-df-spinner');\n",
              "      try {\n",
              "        const charts = await google.colab.kernel.invokeFunction(\n",
              "            'suggestCharts', [key], {});\n",
              "      } catch (error) {\n",
              "        console.error('Error during call to suggestCharts:', error);\n",
              "      }\n",
              "      quickchartButtonEl.classList.remove('colab-df-spinner');\n",
              "      quickchartButtonEl.classList.add('colab-df-quickchart-complete');\n",
              "    }\n",
              "    (() => {\n",
              "      let quickchartButtonEl =\n",
              "        document.querySelector('#df-c4c4c63e-e26a-47ac-ad2f-922e83a2af75 button');\n",
              "      quickchartButtonEl.style.display =\n",
              "        google.colab.kernel.accessAllowed ? 'block' : 'none';\n",
              "    })();\n",
              "  </script>\n",
              "</div>\n",
              "    </div>\n",
              "  </div>\n"
            ]
          },
          "metadata": {},
          "execution_count": 5
        }
      ],
      "source": [
        "df.head()"
      ]
    },
    {
      "cell_type": "markdown",
      "metadata": {
        "id": "3WIZxCmhfo_p"
      },
      "source": [
        "Данные загружены без ошибок"
      ]
    },
    {
      "cell_type": "code",
      "execution_count": 6,
      "metadata": {
        "colab": {
          "base_uri": "https://localhost:8080/"
        },
        "id": "skd8rtmdfo_p",
        "outputId": "7371809d-078b-4354-caed-bb7f2efc047e"
      },
      "outputs": [
        {
          "output_type": "stream",
          "name": "stdout",
          "text": [
            "<class 'pandas.core.frame.DataFrame'>\n",
            "RangeIndex: 354369 entries, 0 to 354368\n",
            "Data columns (total 16 columns):\n",
            " #   Column             Non-Null Count   Dtype \n",
            "---  ------             --------------   ----- \n",
            " 0   DateCrawled        354369 non-null  object\n",
            " 1   Price              354369 non-null  int64 \n",
            " 2   VehicleType        316879 non-null  object\n",
            " 3   RegistrationYear   354369 non-null  int64 \n",
            " 4   Gearbox            334536 non-null  object\n",
            " 5   Power              354369 non-null  int64 \n",
            " 6   Model              334664 non-null  object\n",
            " 7   Kilometer          354369 non-null  int64 \n",
            " 8   RegistrationMonth  354369 non-null  int64 \n",
            " 9   FuelType           321474 non-null  object\n",
            " 10  Brand              354369 non-null  object\n",
            " 11  Repaired           283215 non-null  object\n",
            " 12  DateCreated        354369 non-null  object\n",
            " 13  NumberOfPictures   354369 non-null  int64 \n",
            " 14  PostalCode         354369 non-null  int64 \n",
            " 15  LastSeen           354369 non-null  object\n",
            "dtypes: int64(7), object(9)\n",
            "memory usage: 43.3+ MB\n"
          ]
        }
      ],
      "source": [
        "df.info()"
      ]
    },
    {
      "cell_type": "markdown",
      "metadata": {
        "id": "tF4tgZi9fo_q"
      },
      "source": [
        "Сохраним размеры исходного датасета перед предобработкой"
      ]
    },
    {
      "cell_type": "code",
      "execution_count": 7,
      "metadata": {
        "id": "A8AZwG4gfo_q"
      },
      "outputs": [],
      "source": [
        "original_shape = df.shape"
      ]
    },
    {
      "cell_type": "markdown",
      "metadata": {
        "id": "r6vBk0vqfo_q"
      },
      "source": [
        "### Преобразование типов\n",
        "\n",
        "Преобразуем даты в `datetime`"
      ]
    },
    {
      "cell_type": "code",
      "execution_count": 8,
      "metadata": {
        "id": "LnUctSenfo_q"
      },
      "outputs": [],
      "source": [
        "df['DateCrawled'] = pd.to_datetime(df['DateCrawled'], format = '%Y-%m-%d %H:%M:%S')\n",
        "df['DateCreated'] = pd.to_datetime(df['DateCreated'], format = '%Y-%m-%d %H:%M:%S')\n",
        "df['LastSeen'] = pd.to_datetime(df['LastSeen'], format = '%Y-%m-%d %H:%M:%S')"
      ]
    },
    {
      "cell_type": "markdown",
      "metadata": {
        "id": "rlbwLl-Sfo_q"
      },
      "source": [
        "<a id='dupes_check'></a>\n",
        "\n",
        "### Проверка на дубликаты"
      ]
    },
    {
      "cell_type": "markdown",
      "metadata": {
        "id": "R62tiD9efo_q"
      },
      "source": [
        "Выполним проверку на явные дубликаты"
      ]
    },
    {
      "cell_type": "code",
      "execution_count": 9,
      "metadata": {
        "colab": {
          "base_uri": "https://localhost:8080/"
        },
        "id": "pnScPVxzfo_q",
        "outputId": "b71b331c-6f91-4d7e-b96b-21b9a3092876"
      },
      "outputs": [
        {
          "output_type": "execute_result",
          "data": {
            "text/plain": [
              "4"
            ]
          },
          "metadata": {},
          "execution_count": 9
        }
      ],
      "source": [
        "df.duplicated().sum()"
      ]
    },
    {
      "cell_type": "code",
      "execution_count": 10,
      "metadata": {
        "id": "ubZ5kH2Hfo_q"
      },
      "outputs": [],
      "source": [
        "df = df.drop_duplicates()"
      ]
    },
    {
      "cell_type": "markdown",
      "metadata": {
        "id": "kb6DJF6afo_r"
      },
      "source": [
        "Выполним проверку на неявные дубликаты в категориальных признаках"
      ]
    },
    {
      "cell_type": "code",
      "execution_count": 11,
      "metadata": {
        "colab": {
          "base_uri": "https://localhost:8080/"
        },
        "id": "-pFFtwr4fo_r",
        "outputId": "b48330d3-65c4-4fee-9f08-25c4d41a7092"
      },
      "outputs": [
        {
          "output_type": "execute_result",
          "data": {
            "text/plain": [
              "array([nan, 'yes', 'no'], dtype=object)"
            ]
          },
          "metadata": {},
          "execution_count": 11
        }
      ],
      "source": [
        "df['Repaired'].unique()"
      ]
    },
    {
      "cell_type": "code",
      "execution_count": 12,
      "metadata": {
        "colab": {
          "base_uri": "https://localhost:8080/"
        },
        "id": "Z_hOIUFpfo_r",
        "outputId": "a1ba7acb-dfca-48e5-8dc2-a44fd002e4ca"
      },
      "outputs": [
        {
          "output_type": "execute_result",
          "data": {
            "text/plain": [
              "array([nan, 'coupe', 'suv', 'small', 'sedan', 'convertible', 'bus',\n",
              "       'wagon', 'other'], dtype=object)"
            ]
          },
          "metadata": {},
          "execution_count": 12
        }
      ],
      "source": [
        "df['VehicleType'].unique()"
      ]
    },
    {
      "cell_type": "code",
      "execution_count": 13,
      "metadata": {
        "colab": {
          "base_uri": "https://localhost:8080/"
        },
        "id": "D6oiSLaofo_r",
        "outputId": "c2e5d142-8e0e-4f75-cccf-59ffc45802ef"
      },
      "outputs": [
        {
          "output_type": "execute_result",
          "data": {
            "text/plain": [
              "array(['petrol', 'gasoline', nan, 'lpg', 'other', 'hybrid', 'cng',\n",
              "       'electric'], dtype=object)"
            ]
          },
          "metadata": {},
          "execution_count": 13
        }
      ],
      "source": [
        "df['FuelType'].unique()"
      ]
    },
    {
      "cell_type": "code",
      "execution_count": 14,
      "metadata": {
        "colab": {
          "base_uri": "https://localhost:8080/"
        },
        "id": "L0eIRW63fo_r",
        "outputId": "3b2e2c91-52db-4c71-dd91-f9813e5f6ea9"
      },
      "outputs": [
        {
          "output_type": "execute_result",
          "data": {
            "text/plain": [
              "array(['manual', 'auto', nan], dtype=object)"
            ]
          },
          "metadata": {},
          "execution_count": 14
        }
      ],
      "source": [
        "df['Gearbox'].unique()"
      ]
    },
    {
      "cell_type": "code",
      "execution_count": 15,
      "metadata": {
        "scrolled": true,
        "colab": {
          "base_uri": "https://localhost:8080/"
        },
        "id": "34jYTc9_fo_r",
        "outputId": "af32de33-dd58-4986-afb1-cf9347b43819"
      },
      "outputs": [
        {
          "output_type": "execute_result",
          "data": {
            "text/plain": [
              "array(['golf', nan, 'grand', 'fabia', '3er', '2_reihe', 'other', 'c_max',\n",
              "       '3_reihe', 'passat', 'navara', 'ka', 'polo', 'twingo', 'a_klasse',\n",
              "       'scirocco', '5er', 'meriva', 'arosa', 'c4', 'civic', 'transporter',\n",
              "       'punto', 'e_klasse', 'clio', 'kadett', 'kangoo', 'corsa', 'one',\n",
              "       'fortwo', '1er', 'b_klasse', 'signum', 'astra', 'a8', 'jetta',\n",
              "       'fiesta', 'c_klasse', 'micra', 'vito', 'sprinter', '156', 'escort',\n",
              "       'forester', 'xc_reihe', 'scenic', 'a4', 'a1', 'insignia', 'combo',\n",
              "       'focus', 'tt', 'a6', 'jazz', 'omega', 'slk', '7er', '80', '147',\n",
              "       '100', 'z_reihe', 'sportage', 'sorento', 'v40', 'ibiza', 'mustang',\n",
              "       'eos', 'touran', 'getz', 'a3', 'almera', 'megane', 'lupo', 'r19',\n",
              "       'zafira', 'caddy', 'mondeo', 'cordoba', 'colt', 'impreza',\n",
              "       'vectra', 'berlingo', 'tiguan', 'i_reihe', 'espace', 'sharan',\n",
              "       '6_reihe', 'panda', 'up', 'seicento', 'ceed', '5_reihe', 'yeti',\n",
              "       'octavia', 'mii', 'rx_reihe', '6er', 'modus', 'fox', 'matiz',\n",
              "       'beetle', 'c1', 'rio', 'touareg', 'logan', 'spider', 'cuore',\n",
              "       's_max', 'a2', 'galaxy', 'c3', 'viano', 's_klasse', '1_reihe',\n",
              "       'avensis', 'roomster', 'sl', 'kaefer', 'santa', 'cooper', 'leon',\n",
              "       '4_reihe', 'a5', '500', 'laguna', 'ptcruiser', 'clk', 'primera',\n",
              "       'x_reihe', 'exeo', '159', 'transit', 'juke', 'qashqai', 'carisma',\n",
              "       'accord', 'corolla', 'lanos', 'phaeton', 'verso', 'swift', 'rav',\n",
              "       'picanto', 'boxster', 'kalos', 'superb', 'stilo', 'alhambra',\n",
              "       'mx_reihe', 'roadster', 'ypsilon', 'cayenne', 'galant', 'justy',\n",
              "       '90', 'sirion', 'crossfire', 'agila', 'duster', 'cr_reihe', 'v50',\n",
              "       'c_reihe', 'v_klasse', 'm_klasse', 'yaris', 'c5', 'aygo', 'cc',\n",
              "       'carnival', 'fusion', '911', 'bora', 'forfour', 'm_reihe', 'cl',\n",
              "       'tigra', '300c', 'spark', 'v70', 'kuga', 'x_type', 'ducato',\n",
              "       's_type', 'x_trail', 'toledo', 'altea', 'voyager', 'calibra',\n",
              "       'bravo', 'antara', 'tucson', 'citigo', 'jimny', 'wrangler',\n",
              "       'lybra', 'q7', 'lancer', 'captiva', 'c2', 'discovery',\n",
              "       'freelander', 'sandero', 'note', '900', 'cherokee', 'clubman',\n",
              "       'samara', 'defender', '601', 'cx_reihe', 'legacy', 'pajero',\n",
              "       'auris', 'niva', 's60', 'nubira', 'vivaro', 'g_klasse', 'lodgy',\n",
              "       '850', 'range_rover', 'q3', 'serie_2', 'glk', 'charade', 'croma',\n",
              "       'outlander', 'doblo', 'musa', 'move', '9000', 'v60', '145', 'aveo',\n",
              "       '200', 'b_max', 'range_rover_sport', 'terios', 'rangerover', 'q5',\n",
              "       'range_rover_evoque', 'materia', 'delta', 'gl', 'kalina', 'amarok',\n",
              "       'elefantino', 'i3', 'kappa', 'serie_3', 'serie_1'], dtype=object)"
            ]
          },
          "metadata": {},
          "execution_count": 15
        }
      ],
      "source": [
        "df['Model'].unique()"
      ]
    },
    {
      "cell_type": "code",
      "execution_count": 16,
      "metadata": {
        "colab": {
          "base_uri": "https://localhost:8080/"
        },
        "id": "BZWhDDrJfo_r",
        "outputId": "7ef298e3-86b5-48e9-9434-37298774820f"
      },
      "outputs": [
        {
          "output_type": "execute_result",
          "data": {
            "text/plain": [
              "array(['volkswagen', 'audi', 'jeep', 'skoda', 'bmw', 'peugeot', 'ford',\n",
              "       'mazda', 'nissan', 'renault', 'mercedes_benz', 'opel', 'seat',\n",
              "       'citroen', 'honda', 'fiat', 'mini', 'smart', 'hyundai',\n",
              "       'sonstige_autos', 'alfa_romeo', 'subaru', 'volvo', 'mitsubishi',\n",
              "       'kia', 'suzuki', 'lancia', 'toyota', 'chevrolet', 'dacia',\n",
              "       'daihatsu', 'trabant', 'saab', 'chrysler', 'jaguar', 'daewoo',\n",
              "       'porsche', 'rover', 'land_rover', 'lada'], dtype=object)"
            ]
          },
          "metadata": {},
          "execution_count": 16
        }
      ],
      "source": [
        "df['Brand'].unique()"
      ]
    },
    {
      "cell_type": "markdown",
      "metadata": {
        "id": "sdoUxI5Vfo_s"
      },
      "source": [
        "Явные дубликаты удалены, неявных не обнаружено"
      ]
    },
    {
      "cell_type": "markdown",
      "metadata": {
        "id": "XMjw8EG6fo_s"
      },
      "source": [
        "### Удаление пропусков"
      ]
    },
    {
      "cell_type": "code",
      "execution_count": 17,
      "metadata": {
        "colab": {
          "base_uri": "https://localhost:8080/"
        },
        "id": "PLNjXOZhfo_s",
        "outputId": "4b1580be-7acb-4530-b0ee-d37ec45354f7"
      },
      "outputs": [
        {
          "output_type": "execute_result",
          "data": {
            "text/plain": [
              "Repaired             0.200793\n",
              "VehicleType          0.105795\n",
              "FuelType             0.092828\n",
              "Gearbox              0.055968\n",
              "Model                0.055607\n",
              "DateCrawled          0.000000\n",
              "Price                0.000000\n",
              "RegistrationYear     0.000000\n",
              "Power                0.000000\n",
              "Kilometer            0.000000\n",
              "RegistrationMonth    0.000000\n",
              "Brand                0.000000\n",
              "DateCreated          0.000000\n",
              "NumberOfPictures     0.000000\n",
              "PostalCode           0.000000\n",
              "LastSeen             0.000000\n",
              "dtype: float64"
            ]
          },
          "metadata": {},
          "execution_count": 17
        }
      ],
      "source": [
        "df.isna().mean().sort_values(ascending = False)"
      ]
    },
    {
      "cell_type": "markdown",
      "metadata": {
        "id": "hD768fZGfo_s"
      },
      "source": [
        "Пропуски имеются только в категориальных меременных. Почти все из них можно попытаться восстановить на основании модели автомобиля. Пропуски в самих моделях достаточно малочисленны (5.6%), их можно удалить. В столбце `Repaired` заполним пропуски заглушкой `unknown`"
      ]
    },
    {
      "cell_type": "code",
      "execution_count": 18,
      "metadata": {
        "id": "U0t6RkI7fo_s"
      },
      "outputs": [],
      "source": [
        "df = df.dropna(subset = ['Model'])"
      ]
    },
    {
      "cell_type": "code",
      "execution_count": 19,
      "metadata": {
        "id": "GG6rK0R-fo_s"
      },
      "outputs": [],
      "source": [
        "def fill_by_key(column, key):\n",
        "    for model, value in key.items():\n",
        "        if type(value) == np.ndarray:\n",
        "            df.loc[:, column][(df['Model'] == model) & (df[column].isna())] = value[0]\n",
        "        else:\n",
        "            df.loc[:, column][(df['Model'] == model) & (df[column].isna())] = value"
      ]
    },
    {
      "cell_type": "code",
      "execution_count": null,
      "metadata": {
        "id": "XRXcLa0ifo_t"
      },
      "outputs": [],
      "source": [
        "colums_to_fill = ['VehicleType', 'FuelType', 'Gearbox']\n",
        "\n",
        "for column in colums_to_fill:\n",
        "    key = df.groupby('Model')[column].agg(pd.Series.mode)\n",
        "    fill_by_key(column, key)"
      ]
    },
    {
      "cell_type": "code",
      "execution_count": 21,
      "metadata": {
        "id": "G2Oed8z8fo_t"
      },
      "outputs": [],
      "source": [
        "df['Repaired'] = df['Repaired'].fillna(value = 'unknown')"
      ]
    },
    {
      "cell_type": "code",
      "execution_count": 22,
      "metadata": {
        "colab": {
          "base_uri": "https://localhost:8080/"
        },
        "id": "svWOE74vfo_t",
        "outputId": "a8b93813-4a23-457e-e808-a55a4830d874"
      },
      "outputs": [
        {
          "output_type": "execute_result",
          "data": {
            "text/plain": [
              "DateCrawled          0.0\n",
              "Price                0.0\n",
              "VehicleType          0.0\n",
              "RegistrationYear     0.0\n",
              "Gearbox              0.0\n",
              "Power                0.0\n",
              "Model                0.0\n",
              "Kilometer            0.0\n",
              "RegistrationMonth    0.0\n",
              "FuelType             0.0\n",
              "Brand                0.0\n",
              "Repaired             0.0\n",
              "DateCreated          0.0\n",
              "NumberOfPictures     0.0\n",
              "PostalCode           0.0\n",
              "LastSeen             0.0\n",
              "dtype: float64"
            ]
          },
          "metadata": {},
          "execution_count": 22
        }
      ],
      "source": [
        "df.isna().mean().sort_values(ascending = False)"
      ]
    },
    {
      "cell_type": "markdown",
      "metadata": {
        "id": "cP8RpERzfo_t"
      },
      "source": [
        "### Очистка от выбросов"
      ]
    },
    {
      "cell_type": "markdown",
      "metadata": {
        "id": "E_2JZgJAfo_u"
      },
      "source": [
        "#### Цена"
      ]
    },
    {
      "cell_type": "code",
      "execution_count": 23,
      "metadata": {
        "colab": {
          "base_uri": "https://localhost:8080/",
          "height": 753
        },
        "id": "0GOHB_pkfo_u",
        "outputId": "62bfd45a-e008-482b-82a3-d35fbc262018"
      },
      "outputs": [
        {
          "output_type": "display_data",
          "data": {
            "text/plain": [
              "<Figure size 1600x900 with 1 Axes>"
            ],
            "image/png": "[encoded data removed]"
          },
          "metadata": {}
        }
      ],
      "source": [
        "df['Price'].hist(figsize = (16, 9));"
      ]
    },
    {
      "cell_type": "code",
      "execution_count": 24,
      "metadata": {
        "colab": {
          "base_uri": "https://localhost:8080/"
        },
        "id": "Sm2Emfsafo_u",
        "outputId": "965a6334-81ab-4274-d71e-c7be868eecfd"
      },
      "outputs": [
        {
          "output_type": "execute_result",
          "data": {
            "text/plain": [
              "count    334660.000000\n",
              "mean       4504.372249\n",
              "std        4531.457109\n",
              "min           0.000000\n",
              "25%        1150.000000\n",
              "50%        2800.000000\n",
              "75%        6500.000000\n",
              "max       20000.000000\n",
              "Name: Price, dtype: float64"
            ]
          },
          "metadata": {},
          "execution_count": 24
        }
      ],
      "source": [
        "df['Price'].describe()"
      ]
    },
    {
      "cell_type": "markdown",
      "metadata": {
        "id": "Eq2etqnufo_u"
      },
      "source": [
        "Имеются записи с неправдоподобно низкими ценами. Удалим их"
      ]
    },
    {
      "cell_type": "code",
      "execution_count": 25,
      "metadata": {
        "id": "IsoSNq9Xfo_u"
      },
      "outputs": [],
      "source": [
        "df = df[df['Price'] > 100]"
      ]
    },
    {
      "cell_type": "markdown",
      "metadata": {
        "id": "WJhNZBWifo_v"
      },
      "source": [
        "#### Год регистрации"
      ]
    },
    {
      "cell_type": "code",
      "execution_count": 26,
      "metadata": {
        "scrolled": false,
        "colab": {
          "base_uri": "https://localhost:8080/",
          "height": 753
        },
        "id": "LpyjntW-fo_v",
        "outputId": "bad61af6-ca5f-4d00-f173-0753507ca4a2"
      },
      "outputs": [
        {
          "output_type": "display_data",
          "data": {
            "text/plain": [
              "<Figure size 1600x900 with 1 Axes>"
            ],
            "image/png": "[encoded data removed]"
          },
          "metadata": {}
        }
      ],
      "source": [
        "df['RegistrationYear'].hist(figsize = (16, 9));"
      ]
    },
    {
      "cell_type": "code",
      "execution_count": 27,
      "metadata": {
        "colab": {
          "base_uri": "https://localhost:8080/"
        },
        "id": "Df_K1mI4fo_v",
        "outputId": "cb749134-dd2a-4ba8-8799-6a3bc76fd86b"
      },
      "outputs": [
        {
          "output_type": "execute_result",
          "data": {
            "text/plain": [
              "count    323131.000000\n",
              "mean       2003.803136\n",
              "std          55.796292\n",
              "min        1000.000000\n",
              "25%        1999.000000\n",
              "50%        2003.000000\n",
              "75%        2008.000000\n",
              "max        9999.000000\n",
              "Name: RegistrationYear, dtype: float64"
            ]
          },
          "metadata": {},
          "execution_count": 27
        }
      ],
      "source": [
        "df['RegistrationYear'].describe()"
      ]
    },
    {
      "cell_type": "markdown",
      "metadata": {
        "id": "CvtjN6jcfo_v"
      },
      "source": [
        "Имеются как неправдоподобно большие, так и малые значения. Удалим значения, в которых год больше, чем год создания записи, а также записи с годом регистрации меньшим, чем 1990"
      ]
    },
    {
      "cell_type": "code",
      "execution_count": 28,
      "metadata": {
        "colab": {
          "base_uri": "https://localhost:8080/"
        },
        "id": "ukM7vf_xfo_v",
        "outputId": "f8b9c748-3a52-4731-b6fe-78e560043ec8"
      },
      "outputs": [
        {
          "output_type": "execute_result",
          "data": {
            "text/plain": [
              "0"
            ]
          },
          "metadata": {},
          "execution_count": 28
        }
      ],
      "source": [
        "(df['DateCrawled'].dt.year < df['DateCreated'].dt.year).sum()"
      ]
    },
    {
      "cell_type": "code",
      "execution_count": 29,
      "metadata": {
        "id": "faFwfAAHfo_v"
      },
      "outputs": [],
      "source": [
        "df = df[(df['RegistrationYear'] <= df['DateCreated'].dt.year)]\n",
        "df = df[df['RegistrationYear'] >= 1990]"
      ]
    },
    {
      "cell_type": "markdown",
      "metadata": {
        "id": "bvIamVs2fo_w"
      },
      "source": [
        "#### Мощность"
      ]
    },
    {
      "cell_type": "code",
      "execution_count": 30,
      "metadata": {
        "colab": {
          "base_uri": "https://localhost:8080/",
          "height": 753
        },
        "id": "OPbyQ9myfo_w",
        "outputId": "f39b1f2e-aa39-4e0b-fdb5-aa447ed05a00"
      },
      "outputs": [
        {
          "output_type": "display_data",
          "data": {
            "text/plain": [
              "<Figure size 1600x900 with 1 Axes>"
            ],
            "image/png": "[encoded data removed]"
          },
          "metadata": {}
        }
      ],
      "source": [
        "df['Power'].hist(figsize = (16, 9));"
      ]
    },
    {
      "cell_type": "code",
      "execution_count": 31,
      "metadata": {
        "colab": {
          "base_uri": "https://localhost:8080/"
        },
        "id": "7El1WQaTfo_w",
        "outputId": "228d72f3-ddee-4d90-f7de-24a7231fdd6e"
      },
      "outputs": [
        {
          "output_type": "execute_result",
          "data": {
            "text/plain": [
              "count    303906.000000\n",
              "mean        113.959744\n",
              "std         178.735462\n",
              "min           0.000000\n",
              "25%          75.000000\n",
              "50%         105.000000\n",
              "75%         143.000000\n",
              "max       20000.000000\n",
              "Name: Power, dtype: float64"
            ]
          },
          "metadata": {},
          "execution_count": 31
        }
      ],
      "source": [
        "df['Power'].describe()"
      ]
    },
    {
      "cell_type": "markdown",
      "metadata": {
        "id": "IAiNv4VZfo_w"
      },
      "source": [
        "Мощность двигателя можно также попробовать восстановить по модели автомобиля"
      ]
    },
    {
      "cell_type": "code",
      "execution_count": null,
      "metadata": {
        "scrolled": true,
        "id": "qw-nW0I4fo_w"
      },
      "outputs": [],
      "source": [
        "low_threshold = 20\n",
        "high_threshold = 1000\n",
        "\n",
        "key = df.groupby('Model')['Power'].median()\n",
        "\n",
        "for model, value in key.items():\n",
        "    df.loc[:, 'Power'][(df['Model'] == model) & ( (df['Power'] < low_threshold) | (df['Power'] > high_threshold)  )] = value"
      ]
    },
    {
      "cell_type": "code",
      "execution_count": 33,
      "metadata": {
        "colab": {
          "base_uri": "https://localhost:8080/"
        },
        "id": "A1S-zgoefo_x",
        "outputId": "ca079802-a2fd-49ef-f221-456cd6331a69"
      },
      "outputs": [
        {
          "output_type": "execute_result",
          "data": {
            "text/plain": [
              "count    303906.000000\n",
              "mean        120.054632\n",
              "std          52.996733\n",
              "min           0.000000\n",
              "25%          77.000000\n",
              "50%         111.000000\n",
              "75%         147.000000\n",
              "max        1000.000000\n",
              "Name: Power, dtype: float64"
            ]
          },
          "metadata": {},
          "execution_count": 33
        }
      ],
      "source": [
        "df['Power'].describe()"
      ]
    },
    {
      "cell_type": "code",
      "execution_count": 34,
      "metadata": {
        "colab": {
          "base_uri": "https://localhost:8080/"
        },
        "id": "NX6x-_p0fo_x",
        "outputId": "deb658c2-2601-46ed-ce62-8abf7dbfcf83"
      },
      "outputs": [
        {
          "output_type": "execute_result",
          "data": {
            "text/plain": [
              "array(['601'], dtype=object)"
            ]
          },
          "metadata": {},
          "execution_count": 34
        }
      ],
      "source": [
        "df[df['Power'] == 0]['Model'].unique()"
      ]
    },
    {
      "cell_type": "markdown",
      "metadata": {
        "id": "oFCqzduRfo_x"
      },
      "source": [
        "Мощность двигателя Trabant 601 - 26 л.с ([avto.ru](https://avto-russia.ru/autos/trabant/trabant_601.html#:~:text=Trabant%20601%20оснащался%202-цилиндровым,км%2Fчас%20за%2022.5%20с.))"
      ]
    },
    {
      "cell_type": "code",
      "execution_count": 35,
      "metadata": {
        "id": "CluImXb9fo_x"
      },
      "outputs": [],
      "source": [
        "df.loc[:, 'Power'][(df['Model'] == '601')] = 26"
      ]
    },
    {
      "cell_type": "code",
      "execution_count": 36,
      "metadata": {
        "colab": {
          "base_uri": "https://localhost:8080/"
        },
        "id": "8RnHTH48fo_x",
        "outputId": "55d3fa4f-6ccc-4944-da5b-7a1bd576dffc"
      },
      "outputs": [
        {
          "output_type": "execute_result",
          "data": {
            "text/plain": [
              "count    303906.000000\n",
              "mean        120.057919\n",
              "std          52.990073\n",
              "min          20.000000\n",
              "25%          77.000000\n",
              "50%         111.000000\n",
              "75%         147.000000\n",
              "max        1000.000000\n",
              "Name: Power, dtype: float64"
            ]
          },
          "metadata": {},
          "execution_count": 36
        }
      ],
      "source": [
        "df['Power'].describe()"
      ]
    },
    {
      "cell_type": "markdown",
      "metadata": {
        "id": "oPCWOhiMfo_x"
      },
      "source": [
        "#### Пробег"
      ]
    },
    {
      "cell_type": "code",
      "execution_count": 37,
      "metadata": {
        "colab": {
          "base_uri": "https://localhost:8080/",
          "height": 753
        },
        "id": "r_bNeZiHfo_y",
        "outputId": "c30dbf61-2114-4b75-c45d-daf7992aaea3"
      },
      "outputs": [
        {
          "output_type": "display_data",
          "data": {
            "text/plain": [
              "<Figure size 1600x900 with 1 Axes>"
            ],
            "image/png": "[encoded data removed]"
          },
          "metadata": {}
        }
      ],
      "source": [
        "df['Kilometer'].hist(figsize = (16, 9));"
      ]
    },
    {
      "cell_type": "code",
      "execution_count": 38,
      "metadata": {
        "colab": {
          "base_uri": "https://localhost:8080/"
        },
        "id": "mAajtf5Ifo_y",
        "outputId": "2079f568-1d41-48e6-aba7-7303b86039a1"
      },
      "outputs": [
        {
          "output_type": "execute_result",
          "data": {
            "text/plain": [
              "count    303906.000000\n",
              "mean     128936.710693\n",
              "std       36399.985983\n",
              "min        5000.000000\n",
              "25%      125000.000000\n",
              "50%      150000.000000\n",
              "75%      150000.000000\n",
              "max      150000.000000\n",
              "Name: Kilometer, dtype: float64"
            ]
          },
          "metadata": {},
          "execution_count": 38
        }
      ],
      "source": [
        "df['Kilometer'].describe()"
      ]
    },
    {
      "cell_type": "code",
      "execution_count": 39,
      "metadata": {
        "colab": {
          "base_uri": "https://localhost:8080/"
        },
        "id": "C_BnxIdhfo_y",
        "outputId": "da1815ad-7898-4abf-cb00-69292ddfa096"
      },
      "outputs": [
        {
          "output_type": "execute_result",
          "data": {
            "text/plain": [
              "150000    204155\n",
              "125000     32357\n",
              "100000     12742\n",
              "90000      10337\n",
              "80000       8940\n",
              "70000       7659\n",
              "60000       6726\n",
              "50000       5554\n",
              "40000       4394\n",
              "30000       3843\n",
              "20000       3221\n",
              "5000        3121\n",
              "10000        857\n",
              "Name: Kilometer, dtype: int64"
            ]
          },
          "metadata": {},
          "execution_count": 39
        }
      ],
      "source": [
        "df['Kilometer'].value_counts()"
      ]
    },
    {
      "cell_type": "markdown",
      "metadata": {
        "id": "V9SERX4mfo_y"
      },
      "source": [
        "Пробег в источнике указан со значительными округлениями. По одним только значениям пробега не представляется возможным проверить данные на выбросы. Расчитаем среднегодовой пробег"
      ]
    },
    {
      "cell_type": "code",
      "execution_count": 40,
      "metadata": {
        "colab": {
          "base_uri": "https://localhost:8080/"
        },
        "id": "6_DrtiiVfo_y",
        "outputId": "73d90aee-31fe-4026-9196-9668328bd5d6"
      },
      "outputs": [
        {
          "output_type": "execute_result",
          "data": {
            "text/plain": [
              "count    303906.000000\n",
              "mean      13237.421498\n",
              "std       20612.658694\n",
              "min         185.185185\n",
              "25%        7500.000000\n",
              "50%        9375.000000\n",
              "75%       12500.000000\n",
              "max      150000.000000\n",
              "dtype: float64"
            ]
          },
          "metadata": {},
          "execution_count": 40
        }
      ],
      "source": [
        "(df['Kilometer'] / (2017 - df['RegistrationYear'])).describe()"
      ]
    },
    {
      "cell_type": "markdown",
      "metadata": {
        "id": "O40J0-7jfo_y"
      },
      "source": [
        "В 2022 году среднегодовой пробег автомобиля в РФ составлял 15 - 26 тыс. км / год ([interfax](https://www.interfax-russia.ru/far-east/news/srednegodovoy-probeg-avtomobiley-v-rossii-za-3-goda-vyros-na-2-7-tys-km-eksperty#:~:text=ИНТЕРФАКС%20-%20ДАЛЬНИЙ%20ВОСТОК%20-%20Средний%20пробег,служба%20специализированного%20автопортала%20\"Дром\".)). Выберем порог для удаления с некоторым запасом - 30 тыс. км / год"
      ]
    },
    {
      "cell_type": "code",
      "execution_count": 41,
      "metadata": {
        "id": "xQEDYbApfo_z"
      },
      "outputs": [],
      "source": [
        "df = df[((df['Kilometer'] / (2017 - df['RegistrationYear'])) <= 30000)]"
      ]
    },
    {
      "cell_type": "markdown",
      "metadata": {
        "id": "Lb6up24yfo_z"
      },
      "source": [
        "### Итог"
      ]
    },
    {
      "cell_type": "code",
      "execution_count": 42,
      "metadata": {
        "colab": {
          "base_uri": "https://localhost:8080/"
        },
        "id": "TPUVqw8gfo_0",
        "outputId": "af5f72d8-e431-489d-87d4-46e4bf764252"
      },
      "outputs": [
        {
          "output_type": "execute_result",
          "data": {
            "text/plain": [
              "0.8361538396417294"
            ]
          },
          "metadata": {},
          "execution_count": 42
        }
      ],
      "source": [
        "df.shape[0] / original_shape[0]"
      ]
    },
    {
      "cell_type": "code",
      "execution_count": 43,
      "metadata": {
        "colab": {
          "base_uri": "https://localhost:8080/"
        },
        "id": "a4hs2rCVfo_1",
        "outputId": "17f97dff-80c7-47fe-da74-039522bacd39"
      },
      "outputs": [
        {
          "output_type": "execute_result",
          "data": {
            "text/plain": [
              "296307"
            ]
          },
          "metadata": {},
          "execution_count": 43
        }
      ],
      "source": [
        "df.shape[0]"
      ]
    },
    {
      "cell_type": "markdown",
      "metadata": {
        "id": "Y0bdqLKLfo_1"
      },
      "source": [
        "Удалено довольно большое количество данных - около 12%. Однако, оставшийся датасет достаточно большой, чтобы продолжать с ним работать"
      ]
    },
    {
      "cell_type": "markdown",
      "metadata": {
        "id": "wn79uirBfo_2"
      },
      "source": [
        "## Обучение моделей\n",
        "### Подготовка данных"
      ]
    },
    {
      "cell_type": "markdown",
      "metadata": {
        "id": "TZYlejU9fo_2"
      },
      "source": [
        "Удвлим неинформативные признаки - даты создания и скачивания анкет, месяц регистрации, количество фото и почтовые индексы владельцев"
      ]
    },
    {
      "cell_type": "code",
      "execution_count": 44,
      "metadata": {
        "id": "P32-HqCzfo_2"
      },
      "outputs": [],
      "source": [
        "columns_to_drop = ['DateCrawled', 'RegistrationMonth', 'DateCreated', 'NumberOfPictures', 'PostalCode', 'LastSeen']\n",
        "df = df.drop(columns_to_drop, axis = 1)"
      ]
    },
    {
      "cell_type": "markdown",
      "metadata": {
        "id": "t01bvzB2fo_3"
      },
      "source": [
        "Выделим целевой признак"
      ]
    },
    {
      "cell_type": "code",
      "execution_count": 45,
      "metadata": {
        "id": "bofJIlv7fo_3"
      },
      "outputs": [],
      "source": [
        "target = 'Price'\n",
        "features = df.columns.drop(target)\n",
        "cat_features = ['VehicleType', 'Gearbox', 'Model', 'FuelType', 'Brand', 'Repaired']"
      ]
    },
    {
      "cell_type": "markdown",
      "metadata": {
        "id": "uA5XFZaJfo_3"
      },
      "source": [
        "Конвертируем категориальные признаки в тип данных `category` для LGBM"
      ]
    },
    {
      "cell_type": "code",
      "execution_count": 46,
      "metadata": {
        "id": "jF1Myk8Ffo_3"
      },
      "outputs": [],
      "source": [
        "for c in cat_features:\n",
        "    df[c] = df[c].astype('category')"
      ]
    },
    {
      "cell_type": "markdown",
      "metadata": {
        "id": "wyPQE8Pmfo_3"
      },
      "source": [
        "Разделим датасет на обучающую и тестовые выборки"
      ]
    },
    {
      "cell_type": "code",
      "execution_count": 47,
      "metadata": {
        "id": "R6xWdhtGfo_3"
      },
      "outputs": [],
      "source": [
        "train, test = train_test_split(df, test_size = 0.1, random_state = 42)"
      ]
    },
    {
      "cell_type": "markdown",
      "metadata": {
        "id": "C6VjdMiufo_4"
      },
      "source": [
        "Проверим распределения количетсвенных переменных"
      ]
    },
    {
      "cell_type": "code",
      "execution_count": 48,
      "metadata": {
        "colab": {
          "base_uri": "https://localhost:8080/",
          "height": 452
        },
        "id": "zP8PhMt0fo_4",
        "outputId": "878e97e5-d910-4beb-a122-a85002d3b464"
      },
      "outputs": [
        {
          "output_type": "display_data",
          "data": {
            "text/plain": [
              "<Figure size 640x480 with 4 Axes>"
            ],
            "image/png": "[encoded data removed]"
          },
          "metadata": {}
        }
      ],
      "source": [
        "train.hist();"
      ]
    },
    {
      "cell_type": "code",
      "execution_count": 49,
      "metadata": {
        "colab": {
          "base_uri": "https://localhost:8080/",
          "height": 452
        },
        "id": "CIGqxLcQfo_5",
        "outputId": "5afed525-a9e9-44d1-c829-3ecc09210707"
      },
      "outputs": [
        {
          "output_type": "display_data",
          "data": {
            "text/plain": [
              "<Figure size 640x480 with 4 Axes>"
            ],
            "image/png": "[encoded data removed]"
          },
          "metadata": {}
        }
      ],
      "source": [
        "test.hist();"
      ]
    },
    {
      "cell_type": "markdown",
      "metadata": {
        "id": "GRljHtwjfo_5"
      },
      "source": [
        "Формы распределений сходны. Проверим распределения категориальных переменных"
      ]
    },
    {
      "cell_type": "code",
      "execution_count": 50,
      "metadata": {
        "colab": {
          "base_uri": "https://localhost:8080/",
          "height": 1000
        },
        "id": "PqNGZ_hofo_5",
        "outputId": "a02de72f-1cfd-4bdc-aa52-e02ddbe7422c"
      },
      "outputs": [
        {
          "output_type": "display_data",
          "data": {
            "text/plain": [
              "<Figure size 1000x200 with 2 Axes>"
            ],
            "image/png": "[encoded data removed]"
          },
          "metadata": {}
        },
        {
          "output_type": "display_data",
          "data": {
            "text/plain": [
              "<Figure size 1000x200 with 2 Axes>"
            ],
            "image/png": "[encoded data removed]"
          },
          "metadata": {}
        },
        {
          "output_type": "display_data",
          "data": {
            "text/plain": [
              "<Figure size 1000x200 with 2 Axes>"
            ],
            "image/png": "[encoded data removed]"
          },
          "metadata": {}
        },
        {
          "output_type": "display_data",
          "data": {
            "text/plain": [
              "<Figure size 1000x200 with 2 Axes>"
            ],
            "image/png": "[encoded data removed]"
          },
          "metadata": {}
        },
        {
          "output_type": "display_data",
          "data": {
            "text/plain": [
              "<Figure size 1000x200 with 2 Axes>"
            ],
            "image/png": "[encoded data removed]"
          },
          "metadata": {}
        },
        {
          "output_type": "display_data",
          "data": {
            "text/plain": [
              "<Figure size 1000x200 with 2 Axes>"
            ],
            "image/png": "[encoded data removed]"
          },
          "metadata": {}
        }
      ],
      "source": [
        "for feature in cat_features:\n",
        "    fig, (ax1, ax2) = plt.subplots(1, 2, figsize=(10, 2))\n",
        "    ax1.bar(train[feature].value_counts(normalize = True).head(10).index, train[feature].value_counts(normalize = True).head(10).values)\n",
        "    ax2.bar(test[feature].value_counts(normalize = True).head(10).index, test[feature].value_counts(normalize = True).head(10).values)\n",
        "    plt.show()"
      ]
    },
    {
      "cell_type": "markdown",
      "metadata": {
        "id": "ahTH75WHfo_5"
      },
      "source": [
        "Распределения сходны\n",
        "\n",
        "### LGBM"
      ]
    },
    {
      "cell_type": "code",
      "execution_count": 51,
      "metadata": {
        "id": "4XF4MM8Xfo_5"
      },
      "outputs": [],
      "source": [
        "lgbr_params = {\n",
        "    'max_depth' : [1, 10, 15],\n",
        "    'n_estimators' : [10, 20]\n",
        "}"
      ]
    },
    {
      "cell_type": "code",
      "execution_count": 52,
      "metadata": {
        "id": "9z8NH93Cfo_5"
      },
      "outputs": [],
      "source": [
        "lgbr = GridSearchCV(LGBMRegressor(random_state = 42), lgbr_params, scoring = 'neg_root_mean_squared_error', cv = 3)"
      ]
    },
    {
      "cell_type": "code",
      "execution_count": null,
      "metadata": {
        "id": "B_4eHHVZfo_6"
      },
      "outputs": [],
      "source": [
        "%%time\n",
        "lgbr.fit(train[features], train[target])"
      ]
    },
    {
      "cell_type": "code",
      "execution_count": 54,
      "metadata": {
        "colab": {
          "base_uri": "https://localhost:8080/",
          "height": 206
        },
        "id": "qFNN5oyMfo_6",
        "outputId": "576a5141-0cbe-47c4-f9fd-f04cd68e4e24"
      },
      "outputs": [
        {
          "output_type": "execute_result",
          "data": {
            "text/plain": [
              "   mean_fit_time  std_fit_time  mean_score_time  std_score_time  \\\n",
              "3       0.568313      0.002709         0.126724        0.001737   \n",
              "5       0.566945      0.006567         0.128626        0.002521   \n",
              "2       0.399813      0.008076         0.062104        0.003833   \n",
              "4       0.401345      0.003715         0.060703        0.003064   \n",
              "1       0.335610      0.004627         0.036013        0.000462   \n",
              "\n",
              "  param_max_depth param_n_estimators                                 params  \\\n",
              "3              10                 20  {'max_depth': 10, 'n_estimators': 20}   \n",
              "5              15                 20  {'max_depth': 15, 'n_estimators': 20}   \n",
              "2              10                 10  {'max_depth': 10, 'n_estimators': 10}   \n",
              "4              15                 10  {'max_depth': 15, 'n_estimators': 10}   \n",
              "1               1                 20   {'max_depth': 1, 'n_estimators': 20}   \n",
              "\n",
              "   split0_test_score  split1_test_score  split2_test_score  mean_test_score  \\\n",
              "3       -1848.356235       -1853.328164       -1836.727738     -1846.137379   \n",
              "5       -1848.356235       -1853.328164       -1836.727738     -1846.137379   \n",
              "2       -2451.399400       -2457.061456       -2427.749249     -2445.403368   \n",
              "4       -2451.399400       -2457.061456       -2427.749249     -2445.403368   \n",
              "1       -2981.108583       -2991.358573       -2955.849317     -2976.105491   \n",
              "\n",
              "   std_test_score  rank_test_score  \n",
              "3        6.956341                1  \n",
              "5        6.956341                1  \n",
              "2       12.695555                3  \n",
              "4       12.695555                3  \n",
              "1       14.922020                5  "
            ],
            "text/html": [
              "\n",
              "  <div id=\"df-fc2f603f-783a-49e4-97cf-a3915b55db57\" class=\"colab-df-container\">\n",
              "    <div>\n",
              "<style scoped>\n",
              "    .dataframe tbody tr th:only-of-type {\n",
              "        vertical-align: middle;\n",
              "    }\n",
              "\n",
              "    .dataframe tbody tr th {\n",
              "        vertical-align: top;\n",
              "    }\n",
              "\n",
              "    .dataframe thead th {\n",
              "        text-align: right;\n",
              "    }\n",
              "</style>\n",
              "<table border=\"1\" class=\"dataframe\">\n",
              "  <thead>\n",
              "    <tr style=\"text-align: right;\">\n",
              "      <th></th>\n",
              "      <th>mean_fit_time</th>\n",
              "      <th>std_fit_time</th>\n",
              "      <th>mean_score_time</th>\n",
              "      <th>std_score_time</th>\n",
              "      <th>param_max_depth</th>\n",
              "      <th>param_n_estimators</th>\n",
              "      <th>params</th>\n",
              "      <th>split0_test_score</th>\n",
              "      <th>split1_test_score</th>\n",
              "      <th>split2_test_score</th>\n",
              "      <th>mean_test_score</th>\n",
              "      <th>std_test_score</th>\n",
              "      <th>rank_test_score</th>\n",
              "    </tr>\n",
              "  </thead>\n",
              "  <tbody>\n",
              "    <tr>\n",
              "      <th>3</th>\n",
              "      <td>0.568313</td>\n",
              "      <td>0.002709</td>\n",
              "      <td>0.126724</td>\n",
              "      <td>0.001737</td>\n",
              "      <td>10</td>\n",
              "      <td>20</td>\n",
              "      <td>{'max_depth': 10, 'n_estimators': 20}</td>\n",
              "      <td>-1848.356235</td>\n",
              "      <td>-1853.328164</td>\n",
              "      <td>-1836.727738</td>\n",
              "      <td>-1846.137379</td>\n",
              "      <td>6.956341</td>\n",
              "      <td>1</td>\n",
              "    </tr>\n",
              "    <tr>\n",
              "      <th>5</th>\n",
              "      <td>0.566945</td>\n",
              "      <td>0.006567</td>\n",
              "      <td>0.128626</td>\n",
              "      <td>0.002521</td>\n",
              "      <td>15</td>\n",
              "      <td>20</td>\n",
              "      <td>{'max_depth': 15, 'n_estimators': 20}</td>\n",
              "      <td>-1848.356235</td>\n",
              "      <td>-1853.328164</td>\n",
              "      <td>-1836.727738</td>\n",
              "      <td>-1846.137379</td>\n",
              "      <td>6.956341</td>\n",
              "      <td>1</td>\n",
              "    </tr>\n",
              "    <tr>\n",
              "      <th>2</th>\n",
              "      <td>0.399813</td>\n",
              "      <td>0.008076</td>\n",
              "      <td>0.062104</td>\n",
              "      <td>0.003833</td>\n",
              "      <td>10</td>\n",
              "      <td>10</td>\n",
              "      <td>{'max_depth': 10, 'n_estimators': 10}</td>\n",
              "      <td>-2451.399400</td>\n",
              "      <td>-2457.061456</td>\n",
              "      <td>-2427.749249</td>\n",
              "      <td>-2445.403368</td>\n",
              "      <td>12.695555</td>\n",
              "      <td>3</td>\n",
              "    </tr>\n",
              "    <tr>\n",
              "      <th>4</th>\n",
              "      <td>0.401345</td>\n",
              "      <td>0.003715</td>\n",
              "      <td>0.060703</td>\n",
              "      <td>0.003064</td>\n",
              "      <td>15</td>\n",
              "      <td>10</td>\n",
              "      <td>{'max_depth': 15, 'n_estimators': 10}</td>\n",
              "      <td>-2451.399400</td>\n",
              "      <td>-2457.061456</td>\n",
              "      <td>-2427.749249</td>\n",
              "      <td>-2445.403368</td>\n",
              "      <td>12.695555</td>\n",
              "      <td>3</td>\n",
              "    </tr>\n",
              "    <tr>\n",
              "      <th>1</th>\n",
              "      <td>0.335610</td>\n",
              "      <td>0.004627</td>\n",
              "      <td>0.036013</td>\n",
              "      <td>0.000462</td>\n",
              "      <td>1</td>\n",
              "      <td>20</td>\n",
              "      <td>{'max_depth': 1, 'n_estimators': 20}</td>\n",
              "      <td>-2981.108583</td>\n",
              "      <td>-2991.358573</td>\n",
              "      <td>-2955.849317</td>\n",
              "      <td>-2976.105491</td>\n",
              "      <td>14.922020</td>\n",
              "      <td>5</td>\n",
              "    </tr>\n",
              "  </tbody>\n",
              "</table>\n",
              "</div>\n",
              "    <div class=\"colab-df-buttons\">\n",
              "\n",
              "  <div class=\"colab-df-container\">\n",
              "    <button class=\"colab-df-convert\" onclick=\"convertToInteractive('df-fc2f603f-783a-49e4-97cf-a3915b55db57')\"\n",
              "            title=\"Convert this dataframe to an interactive table.\"\n",
              "            style=\"display:none;\">\n",
              "\n",
              "  <svg xmlns=\"http://www.w3.org/2000/svg\" height=\"24px\" viewBox=\"0 -960 960 960\">\n",
              "    <path d=\"M120-120v-720h720v720H120Zm60-500h600v-160H180v160Zm220 220h160v-160H400v160Zm0 220h160v-160H400v160ZM180-400h160v-160H180v160Zm440 0h160v-160H620v160ZM180-180h160v-160H180v160Zm440 0h160v-160H620v160Z\"/>\n",
              "  </svg>\n",
              "    </button>\n",
              "\n",
              "  <style>\n",
              "    .colab-df-container {\n",
              "      display:flex;\n",
              "      gap: 12px;\n",
              "    }\n",
              "\n",
              "    .colab-df-convert {\n",
              "      background-color: #E8F0FE;\n",
              "      border: none;\n",
              "      border-radius: 50%;\n",
              "      cursor: pointer;\n",
              "      display: none;\n",
              "      fill: #1967D2;\n",
              "      height: 32px;\n",
              "      padding: 0 0 0 0;\n",
              "      width: 32px;\n",
              "    }\n",
              "\n",
              "    .colab-df-convert:hover {\n",
              "      background-color: #E2EBFA;\n",
              "      box-shadow: 0px 1px 2px rgba(60, 64, 67, 0.3), 0px 1px 3px 1px rgba(60, 64, 67, 0.15);\n",
              "      fill: #174EA6;\n",
              "    }\n",
              "\n",
              "    .colab-df-buttons div {\n",
              "      margin-bottom: 4px;\n",
              "    }\n",
              "\n",
              "    [theme=dark] .colab-df-convert {\n",
              "      background-color: #3B4455;\n",
              "      fill: #D2E3FC;\n",
              "    }\n",
              "\n",
              "    [theme=dark] .colab-df-convert:hover {\n",
              "      background-color: #434B5C;\n",
              "      box-shadow: 0px 1px 3px 1px rgba(0, 0, 0, 0.15);\n",
              "      filter: drop-shadow(0px 1px 2px rgba(0, 0, 0, 0.3));\n",
              "      fill: #FFFFFF;\n",
              "    }\n",
              "  </style>\n",
              "\n",
              "    <script>\n",
              "      const buttonEl =\n",
              "        document.querySelector('#df-fc2f603f-783a-49e4-97cf-a3915b55db57 button.colab-df-convert');\n",
              "      buttonEl.style.display =\n",
              "        google.colab.kernel.accessAllowed ? 'block' : 'none';\n",
              "\n",
              "      async function convertToInteractive(key) {\n",
              "        const element = document.querySelector('#df-fc2f603f-783a-49e4-97cf-a3915b55db57');\n",
              "        const dataTable =\n",
              "          await google.colab.kernel.invokeFunction('convertToInteractive',\n",
              "                                                    [key], {});\n",
              "        if (!dataTable) return;\n",
              "\n",
              "        const docLinkHtml = 'Like what you see? Visit the ' +\n",
              "          '<a target=\"_blank\" href=https://colab.research.google.com/notebooks/data_table.ipynb>data table notebook</a>'\n",
              "          + ' to learn more about interactive tables.';\n",
              "        element.innerHTML = '';\n",
              "        dataTable['output_type'] = 'display_data';\n",
              "        await google.colab.output.renderOutput(dataTable, element);\n",
              "        const docLink = document.createElement('div');\n",
              "        docLink.innerHTML = docLinkHtml;\n",
              "        element.appendChild(docLink);\n",
              "      }\n",
              "    </script>\n",
              "  </div>\n",
              "\n",
              "\n",
              "<div id=\"df-5b82fd46-aef1-4b72-95a8-3de22ccb1ef8\">\n",
              "  <button class=\"colab-df-quickchart\" onclick=\"quickchart('df-5b82fd46-aef1-4b72-95a8-3de22ccb1ef8')\"\n",
              "            title=\"Suggest charts\"\n",
              "            style=\"display:none;\">\n",
              "\n",
              "<svg xmlns=\"http://www.w3.org/2000/svg\" height=\"24px\"viewBox=\"0 0 24 24\"\n",
              "     width=\"24px\">\n",
              "    <g>\n",
              "        <path d=\"M19 3H5c-1.1 0-2 .9-2 2v14c0 1.1.9 2 2 2h14c1.1 0 2-.9 2-2V5c0-1.1-.9-2-2-2zM9 17H7v-7h2v7zm4 0h-2V7h2v10zm4 0h-2v-4h2v4z\"/>\n",
              "    </g>\n",
              "</svg>\n",
              "  </button>\n",
              "\n",
              "<style>\n",
              "  .colab-df-quickchart {\n",
              "      --bg-color: #E8F0FE;\n",
              "      --fill-color: #1967D2;\n",
              "      --hover-bg-color: #E2EBFA;\n",
              "      --hover-fill-color: #174EA6;\n",
              "      --disabled-fill-color: #AAA;\n",
              "      --disabled-bg-color: #DDD;\n",
              "  }\n",
              "\n",
              "  [theme=dark] .colab-df-quickchart {\n",
              "      --bg-color: #3B4455;\n",
              "      --fill-color: #D2E3FC;\n",
              "      --hover-bg-color: #434B5C;\n",
              "      --hover-fill-color: #FFFFFF;\n",
              "      --disabled-bg-color: #3B4455;\n",
              "      --disabled-fill-color: #666;\n",
              "  }\n",
              "\n",
              "  .colab-df-quickchart {\n",
              "    background-color: var(--bg-color);\n",
              "    border: none;\n",
              "    border-radius: 50%;\n",
              "    cursor: pointer;\n",
              "    display: none;\n",
              "    fill: var(--fill-color);\n",
              "    height: 32px;\n",
              "    padding: 0;\n",
              "    width: 32px;\n",
              "  }\n",
              "\n",
              "  .colab-df-quickchart:hover {\n",
              "    background-color: var(--hover-bg-color);\n",
              "    box-shadow: 0 1px 2px rgba(60, 64, 67, 0.3), 0 1px 3px 1px rgba(60, 64, 67, 0.15);\n",
              "    fill: var(--button-hover-fill-color);\n",
              "  }\n",
              "\n",
              "  .colab-df-quickchart-complete:disabled,\n",
              "  .colab-df-quickchart-complete:disabled:hover {\n",
              "    background-color: var(--disabled-bg-color);\n",
              "    fill: var(--disabled-fill-color);\n",
              "    box-shadow: none;\n",
              "  }\n",
              "\n",
              "  .colab-df-spinner {\n",
              "    border: 2px solid var(--fill-color);\n",
              "    border-color: transparent;\n",
              "    border-bottom-color: var(--fill-color);\n",
              "    animation:\n",
              "      spin 1s steps(1) infinite;\n",
              "  }\n",
              "\n",
              "  @keyframes spin {\n",
              "    0% {\n",
              "      border-color: transparent;\n",
              "      border-bottom-color: var(--fill-color);\n",
              "      border-left-color: var(--fill-color);\n",
              "    }\n",
              "    20% {\n",
              "      border-color: transparent;\n",
              "      border-left-color: var(--fill-color);\n",
              "      border-top-color: var(--fill-color);\n",
              "    }\n",
              "    30% {\n",
              "      border-color: transparent;\n",
              "      border-left-color: var(--fill-color);\n",
              "      border-top-color: var(--fill-color);\n",
              "      border-right-color: var(--fill-color);\n",
              "    }\n",
              "    40% {\n",
              "      border-color: transparent;\n",
              "      border-right-color: var(--fill-color);\n",
              "      border-top-color: var(--fill-color);\n",
              "    }\n",
              "    60% {\n",
              "      border-color: transparent;\n",
              "      border-right-color: var(--fill-color);\n",
              "    }\n",
              "    80% {\n",
              "      border-color: transparent;\n",
              "      border-right-color: var(--fill-color);\n",
              "      border-bottom-color: var(--fill-color);\n",
              "    }\n",
              "    90% {\n",
              "      border-color: transparent;\n",
              "      border-bottom-color: var(--fill-color);\n",
              "    }\n",
              "  }\n",
              "</style>\n",
              "\n",
              "  <script>\n",
              "    async function quickchart(key) {\n",
              "      const quickchartButtonEl =\n",
              "        document.querySelector('#' + key + ' button');\n",
              "      quickchartButtonEl.disabled = true;  // To prevent multiple clicks.\n",
              "      quickchartButtonEl.classList.add('colab-df-spinner');\n",
              "      try {\n",
              "        const charts = await google.colab.kernel.invokeFunction(\n",
              "            'suggestCharts', [key], {});\n",
              "      } catch (error) {\n",
              "        console.error('Error during call to suggestCharts:', error);\n",
              "      }\n",
              "      quickchartButtonEl.classList.remove('colab-df-spinner');\n",
              "      quickchartButtonEl.classList.add('colab-df-quickchart-complete');\n",
              "    }\n",
              "    (() => {\n",
              "      let quickchartButtonEl =\n",
              "        document.querySelector('#df-5b82fd46-aef1-4b72-95a8-3de22ccb1ef8 button');\n",
              "      quickchartButtonEl.style.display =\n",
              "        google.colab.kernel.accessAllowed ? 'block' : 'none';\n",
              "    })();\n",
              "  </script>\n",
              "</div>\n",
              "    </div>\n",
              "  </div>\n"
            ]
          },
          "metadata": {},
          "execution_count": 54
        }
      ],
      "source": [
        "lgbr_scores = pd.DataFrame(lgbr.cv_results_).sort_values(by = 'rank_test_score')\n",
        "lgbr_scores.head(5)"
      ]
    },
    {
      "cell_type": "markdown",
      "metadata": {
        "id": "-5eQnUWUfo_6"
      },
      "source": [
        "Измерим время обучения на всех тестовых данных"
      ]
    },
    {
      "cell_type": "code",
      "execution_count": 55,
      "metadata": {
        "id": "dXpf4nfWfo_6"
      },
      "outputs": [],
      "source": [
        "lgbr = lgbr.best_estimator_"
      ]
    },
    {
      "cell_type": "code",
      "execution_count": null,
      "metadata": {
        "id": "mk_Om-L3fo_6"
      },
      "outputs": [],
      "source": [
        "%%time\n",
        "lgbr.fit(train[features], train[target])"
      ]
    },
    {
      "cell_type": "markdown",
      "metadata": {
        "id": "_JzxyAxZfo_6"
      },
      "source": [
        "Измерим время предсказания на тестовой выборке"
      ]
    },
    {
      "cell_type": "code",
      "execution_count": 57,
      "metadata": {
        "colab": {
          "base_uri": "https://localhost:8080/"
        },
        "id": "uRluiom-fo_6",
        "outputId": "e9e2871c-568e-4b54-99a2-e5ca913a2c59"
      },
      "outputs": [
        {
          "output_type": "stream",
          "name": "stdout",
          "text": [
            "[LightGBM] [Warning] Accuracy may be bad since you didn't explicitly set num_leaves OR 2^max_depth > num_leaves. (num_leaves=31).\n",
            "CPU times: user 64.1 ms, sys: 0 ns, total: 64.1 ms\n",
            "Wall time: 66.7 ms\n"
          ]
        },
        {
          "output_type": "execute_result",
          "data": {
            "text/plain": [
              "array([6227.09706914, 1603.83082476, 2252.71976791, ..., 1350.11552283,\n",
              "       3199.91508433, 5188.17636139])"
            ]
          },
          "metadata": {},
          "execution_count": 57
        }
      ],
      "source": [
        "%%time\n",
        "lgbr.predict(test[features])"
      ]
    },
    {
      "cell_type": "markdown",
      "metadata": {
        "id": "a24dR9NTfo_7"
      },
      "source": [
        "Расчитаем итоговое значение RMSE и соберём результаты в список"
      ]
    },
    {
      "cell_type": "code",
      "execution_count": 58,
      "metadata": {
        "colab": {
          "base_uri": "https://localhost:8080/"
        },
        "id": "X1NVPsPIfo_7",
        "outputId": "6589d2fb-f0bd-44c2-8c78-863f2f715c1f"
      },
      "outputs": [
        {
          "output_type": "stream",
          "name": "stdout",
          "text": [
            "[LightGBM] [Warning] Accuracy may be bad since you didn't explicitly set num_leaves OR 2^max_depth > num_leaves. (num_leaves=31).\n"
          ]
        },
        {
          "output_type": "execute_result",
          "data": {
            "text/plain": [
              "1821.8574208481984"
            ]
          },
          "metadata": {},
          "execution_count": 58
        }
      ],
      "source": [
        "lgbr_rmse = mean_squared_error(test[target], lgbr.predict(test[features]), squared = False)\n",
        "lgbr_rmse"
      ]
    },
    {
      "cell_type": "code",
      "execution_count": 59,
      "metadata": {
        "id": "RzRorU0Hfo_7"
      },
      "outputs": [],
      "source": [
        "lgbr_results = [lgbr_rmse, 63, 0.2]"
      ]
    },
    {
      "cell_type": "markdown",
      "metadata": {
        "id": "giIhnJbBfo_7"
      },
      "source": [
        "### CatBoost"
      ]
    },
    {
      "cell_type": "code",
      "execution_count": 60,
      "metadata": {
        "id": "DZ77-j9jfo_7"
      },
      "outputs": [],
      "source": [
        "cb_params = {\n",
        "             'loss_function': 'RMSE',\n",
        "             'learning_rate': 0.2,\n",
        "             'iterations' : 1000,\n",
        "             'random_seed': 42,\n",
        "             'verbose':100}\n",
        "\n",
        "train_data = Pool(data=train[features],\n",
        "                  label=train[target],\n",
        "                  cat_features = cat_features\n",
        "                 )\n",
        "\n",
        "test_data = Pool(data=test[features],\n",
        "                  label=test[target],\n",
        "                  cat_features = cat_features\n",
        "                 )\n"
      ]
    },
    {
      "cell_type": "code",
      "execution_count": 61,
      "metadata": {
        "scrolled": true,
        "colab": {
          "base_uri": "https://localhost:8080/"
        },
        "id": "O8Osa-nKfo_7",
        "outputId": "80838e1b-e62b-4804-a4d7-36cc532755bd"
      },
      "outputs": [
        {
          "output_type": "stream",
          "name": "stdout",
          "text": [
            "Training on fold [0/3]\n",
            "0:\tlearn: 5487.6605800\ttest: 5491.5638484\tbest: 5491.5638484 (0)\ttotal: 616ms\tremaining: 10m 15s\n",
            "200:\tlearn: 1519.5091667\ttest: 1564.8241031\tbest: 1564.8241031 (200)\ttotal: 41.3s\tremaining: 2m 44s\n",
            "400:\tlearn: 1462.4685447\ttest: 1530.3694888\tbest: 1530.3694888 (400)\ttotal: 1m 22s\tremaining: 2m 3s\n",
            "600:\tlearn: 1431.7229021\ttest: 1515.2666922\tbest: 1515.2666922 (600)\ttotal: 2m 3s\tremaining: 1m 21s\n",
            "800:\tlearn: 1405.6721579\ttest: 1505.8122770\tbest: 1505.8122770 (800)\ttotal: 2m 44s\tremaining: 40.8s\n",
            "999:\tlearn: 1386.5048486\ttest: 1498.6348904\tbest: 1498.6162263 (998)\ttotal: 3m 24s\tremaining: 0us\n",
            "\n",
            "bestTest = 1498.616226\n",
            "bestIteration = 998\n",
            "\n",
            "Training on fold [1/3]\n",
            "0:\tlearn: 5495.1254357\ttest: 5476.3215939\tbest: 5476.3215939 (0)\ttotal: 307ms\tremaining: 5m 6s\n",
            "200:\tlearn: 1519.5693878\ttest: 1548.8462930\tbest: 1548.8462930 (200)\ttotal: 41.4s\tremaining: 2m 44s\n",
            "400:\tlearn: 1461.9384080\ttest: 1512.6226834\tbest: 1512.5964792 (399)\ttotal: 1m 22s\tremaining: 2m 3s\n",
            "600:\tlearn: 1429.5330011\ttest: 1496.2184454\tbest: 1496.2184454 (600)\ttotal: 2m 3s\tremaining: 1m 22s\n",
            "800:\tlearn: 1407.0433559\ttest: 1487.7191220\tbest: 1487.6687541 (797)\ttotal: 2m 45s\tremaining: 41.1s\n",
            "999:\tlearn: 1389.1460814\ttest: 1480.9256580\tbest: 1480.8546122 (987)\ttotal: 3m 27s\tremaining: 0us\n",
            "\n",
            "bestTest = 1480.854612\n",
            "bestIteration = 987\n",
            "\n",
            "Training on fold [2/3]\n",
            "0:\tlearn: 5485.9598484\ttest: 5501.2523368\tbest: 5501.2523368 (0)\ttotal: 282ms\tremaining: 4m 41s\n",
            "200:\tlearn: 1523.3600786\ttest: 1550.3323344\tbest: 1550.3323344 (200)\ttotal: 41.3s\tremaining: 2m 44s\n",
            "400:\tlearn: 1467.1724853\ttest: 1517.6443866\tbest: 1517.6443866 (400)\ttotal: 1m 24s\tremaining: 2m 6s\n",
            "600:\tlearn: 1432.5216437\ttest: 1501.0404745\tbest: 1501.0404745 (600)\ttotal: 2m 5s\tremaining: 1m 23s\n",
            "800:\tlearn: 1409.5360202\ttest: 1491.6606476\tbest: 1491.6606476 (800)\ttotal: 2m 46s\tremaining: 41.4s\n",
            "999:\tlearn: 1391.0500854\ttest: 1485.7908978\tbest: 1485.7908978 (999)\ttotal: 3m 28s\tremaining: 0us\n",
            "\n",
            "bestTest = 1485.790898\n",
            "bestIteration = 999\n",
            "\n"
          ]
        }
      ],
      "source": [
        "cv_data = cv(\n",
        "    params = cb_params,\n",
        "    pool = train_data,\n",
        "    fold_count=3,\n",
        "    partition_random_seed=42,\n",
        "    verbose=200,\n",
        "    early_stopping_rounds=50\n",
        ")"
      ]
    },
    {
      "cell_type": "markdown",
      "metadata": {
        "id": "lbKN5TEvfo_8"
      },
      "source": [
        "Надём время обучения на всей обучающей выборке"
      ]
    },
    {
      "cell_type": "code",
      "execution_count": 62,
      "metadata": {
        "colab": {
          "base_uri": "https://localhost:8080/"
        },
        "id": "b_IyAqpQfo_8",
        "outputId": "b17457b2-3a78-44b1-bbd2-487527a99bcd"
      },
      "outputs": [
        {
          "output_type": "stream",
          "name": "stdout",
          "text": [
            "0:\tlearn: 3936.3794893\ttotal: 327ms\tremaining: 5m 26s\n",
            "100:\tlearn: 1580.3321266\ttotal: 25.6s\tremaining: 3m 47s\n",
            "200:\tlearn: 1519.7231047\ttotal: 51.1s\tremaining: 3m 23s\n",
            "300:\tlearn: 1487.2187684\ttotal: 1m 15s\tremaining: 2m 56s\n",
            "400:\tlearn: 1467.7335263\ttotal: 1m 41s\tremaining: 2m 31s\n",
            "500:\tlearn: 1450.7095518\ttotal: 2m 6s\tremaining: 2m 5s\n",
            "600:\tlearn: 1436.9645838\ttotal: 2m 30s\tremaining: 1m 40s\n",
            "700:\tlearn: 1425.1776564\ttotal: 2m 56s\tremaining: 1m 15s\n",
            "800:\tlearn: 1415.3969921\ttotal: 3m 20s\tremaining: 49.9s\n",
            "900:\tlearn: 1406.8339925\ttotal: 3m 45s\tremaining: 24.8s\n",
            "999:\tlearn: 1399.3539715\ttotal: 4m 10s\tremaining: 0us\n",
            "CPU times: user 7min 15s, sys: 3.28 s, total: 7min 18s\n",
            "Wall time: 4min 13s\n"
          ]
        },
        {
          "output_type": "execute_result",
          "data": {
            "text/plain": [
              "<catboost.core.CatBoostRegressor at 0x7a0ea00795d0>"
            ]
          },
          "metadata": {},
          "execution_count": 62
        }
      ],
      "source": [
        "%%time\n",
        "cat_reg = CatBoostRegressor(**cb_params)\n",
        "cat_reg.fit(train_data)"
      ]
    },
    {
      "cell_type": "markdown",
      "metadata": {
        "id": "fYDlzMfdfo_8"
      },
      "source": [
        "Найдём время предсказания на тестовой выборке"
      ]
    },
    {
      "cell_type": "code",
      "execution_count": 63,
      "metadata": {
        "colab": {
          "base_uri": "https://localhost:8080/"
        },
        "id": "XbwBrVMjfo_8",
        "outputId": "1f3e4576-a2ee-4aed-c060-a6161f47aeb2"
      },
      "outputs": [
        {
          "output_type": "stream",
          "name": "stdout",
          "text": [
            "CPU times: user 552 ms, sys: 101 ms, total: 652 ms\n",
            "Wall time: 531 ms\n"
          ]
        },
        {
          "output_type": "execute_result",
          "data": {
            "text/plain": [
              "array([7592.64993316,  517.01578577, 1884.57179342, ...,  290.30188183,\n",
              "       2608.34048582, 4554.28650679])"
            ]
          },
          "metadata": {},
          "execution_count": 63
        }
      ],
      "source": [
        "%%time\n",
        "cat_reg.predict(test[features])"
      ]
    },
    {
      "cell_type": "markdown",
      "metadata": {
        "id": "6ZPahLXHfo_8"
      },
      "source": [
        "Найдём RMSE"
      ]
    },
    {
      "cell_type": "code",
      "execution_count": 64,
      "metadata": {
        "colab": {
          "base_uri": "https://localhost:8080/"
        },
        "id": "vFTQwgJdfo_8",
        "outputId": "bc6af4a3-042e-42ac-8a6c-db6de1855000"
      },
      "outputs": [
        {
          "output_type": "execute_result",
          "data": {
            "text/plain": [
              "1465.2432171354997"
            ]
          },
          "metadata": {},
          "execution_count": 64
        }
      ],
      "source": [
        "cat_rmse = mean_squared_error(test[target], cat_reg.predict(test[features]), squared = False)\n",
        "cat_rmse"
      ]
    },
    {
      "cell_type": "code",
      "execution_count": 65,
      "metadata": {
        "id": "tb88Dh6Sfo_8"
      },
      "outputs": [],
      "source": [
        "cat_results = [cat_rmse, 220, 0.225]"
      ]
    },
    {
      "cell_type": "markdown",
      "metadata": {
        "id": "PVhR0U62fo_9"
      },
      "source": [
        "### Линейная регрессия"
      ]
    },
    {
      "cell_type": "markdown",
      "metadata": {
        "id": "wFIubxirfo_9"
      },
      "source": [
        "Для линейной регрессии придётся произвести преобразование категориальных признаков"
      ]
    },
    {
      "cell_type": "code",
      "execution_count": 66,
      "metadata": {
        "colab": {
          "base_uri": "https://localhost:8080/"
        },
        "id": "CKl6VD-bfo_9",
        "outputId": "253f019d-b7ec-46ba-d3ca-0e142218c4c1"
      },
      "outputs": [
        {
          "output_type": "execute_result",
          "data": {
            "text/plain": [
              "Index(['VehicleType', 'RegistrationYear', 'Gearbox', 'Power', 'Model',\n",
              "       'Kilometer', 'FuelType', 'Brand', 'Repaired'],\n",
              "      dtype='object')"
            ]
          },
          "metadata": {},
          "execution_count": 66
        }
      ],
      "source": [
        "features"
      ]
    },
    {
      "cell_type": "code",
      "execution_count": 69,
      "metadata": {
        "id": "yiFhvzpgfo_9"
      },
      "outputs": [],
      "source": [
        "cat_features_oh = ['VehicleType', 'Gearbox', 'FuelType', 'Repaired']\n",
        "cat_features_m = ['Model', 'Brand']"
      ]
    },
    {
      "cell_type": "code",
      "execution_count": 70,
      "metadata": {
        "colab": {
          "base_uri": "https://localhost:8080/"
        },
        "id": "k6eIMOgmfo_9",
        "outputId": "7d36ea75-9806-4180-b700-28bee72b12bd"
      },
      "outputs": [
        {
          "output_type": "stream",
          "name": "stderr",
          "text": [
            "/usr/local/lib/python3.10/dist-packages/sklearn/preprocessing/_encoders.py:868: FutureWarning: `sparse` was renamed to `sparse_output` in version 1.2 and will be removed in 1.4. `sparse_output` is ignored unless you leave `sparse` to its default value.\n",
            "  warnings.warn(\n"
          ]
        }
      ],
      "source": [
        "encoder = OneHotEncoder(sparse = False, drop = 'first', )\n",
        "\n",
        "train_encoded = pd.DataFrame(encoder.fit_transform(train[cat_features_oh]), columns = encoder.get_feature_names_out())\n",
        "train_encoded = train_encoded.set_index(train.index)\n",
        "train_encoded = pd.concat([train.drop(cat_features_oh, axis = 1), train_encoded], axis = 1)\n",
        "\n",
        "test_encoded = pd.DataFrame(encoder.transform(test[cat_features_oh]), columns = encoder.get_feature_names_out())\n",
        "test_encoded = test_encoded.set_index(test.index)\n",
        "test_encoded = pd.concat([test.drop(cat_features_oh, axis = 1), test_encoded], axis = 1)"
      ]
    },
    {
      "cell_type": "code",
      "execution_count": 71,
      "metadata": {
        "colab": {
          "base_uri": "https://localhost:8080/"
        },
        "id": "Hv6wrIwXfo_9",
        "outputId": "9b0c2618-5ccc-4a16-c908-0f17ef07831e"
      },
      "outputs": [
        {
          "output_type": "execute_result",
          "data": {
            "text/plain": [
              "Index(['Price', 'RegistrationYear', 'Power', 'Model', 'Kilometer', 'Brand',\n",
              "       'VehicleType_convertible', 'VehicleType_coupe', 'VehicleType_other',\n",
              "       'VehicleType_sedan', 'VehicleType_small', 'VehicleType_suv',\n",
              "       'VehicleType_wagon', 'Gearbox_manual', 'FuelType_electric',\n",
              "       'FuelType_gasoline', 'FuelType_hybrid', 'FuelType_lpg',\n",
              "       'FuelType_other', 'FuelType_petrol', 'Repaired_unknown',\n",
              "       'Repaired_yes'],\n",
              "      dtype='object')"
            ]
          },
          "metadata": {},
          "execution_count": 71
        }
      ],
      "source": [
        "train_encoded.columns"
      ]
    },
    {
      "cell_type": "code",
      "execution_count": 72,
      "metadata": {
        "id": "j81JhiZJfo_9"
      },
      "outputs": [],
      "source": [
        "m_encoder = MEstimateEncoder(cols = cat_features_m)\n",
        "train_encoded = m_encoder.fit_transform(train_encoded, train_encoded[target])\n",
        "test_encoded = m_encoder.transform(test_encoded)"
      ]
    },
    {
      "cell_type": "markdown",
      "metadata": {
        "id": "CPxDgsaqfo_9"
      },
      "source": [
        "<div class=\"alert alert-success\">\n",
        "<b>КОММЕНТАРИЙ V2</b>\n",
        "\n",
        "Отлично, твой вариант помогает победить \"проклятье размерности\".\n",
        "</div>"
      ]
    },
    {
      "cell_type": "code",
      "execution_count": 73,
      "metadata": {
        "colab": {
          "base_uri": "https://localhost:8080/",
          "height": 255
        },
        "id": "2oAlPUyffo_-",
        "outputId": "c0f82ce1-eacd-4982-e504-d473498cbe87"
      },
      "outputs": [
        {
          "output_type": "execute_result",
          "data": {
            "text/plain": [
              "        Price  RegistrationYear  Power        Model  Kilometer        Brand  \\\n",
              "238267   2500              2005  147.0  3802.606729     150000  2805.985459   \n",
              "250727   2000              1999  170.0  6669.808791     150000  6603.334884   \n",
              "262818  20000              2011  265.0  5654.853776      50000  6245.031019   \n",
              "250998   4490              2003   88.0  7102.065785     150000  4789.197821   \n",
              "70489    5000              1999  116.0  5317.508747     150000  4789.197821   \n",
              "\n",
              "        VehicleType_convertible  VehicleType_coupe  VehicleType_other  \\\n",
              "238267                      0.0                0.0                0.0   \n",
              "250727                      0.0                0.0                0.0   \n",
              "262818                      0.0                0.0                0.0   \n",
              "250998                      0.0                0.0                0.0   \n",
              "70489                       0.0                0.0                0.0   \n",
              "\n",
              "        VehicleType_sedan  ...  VehicleType_wagon  Gearbox_manual  \\\n",
              "238267                0.0  ...                1.0             1.0   \n",
              "250727                1.0  ...                0.0             0.0   \n",
              "262818                1.0  ...                0.0             0.0   \n",
              "250998                0.0  ...                0.0             1.0   \n",
              "70489                 0.0  ...                0.0             1.0   \n",
              "\n",
              "        FuelType_electric  FuelType_gasoline  FuelType_hybrid  FuelType_lpg  \\\n",
              "238267                0.0                0.0              0.0           0.0   \n",
              "250727                0.0                0.0              0.0           0.0   \n",
              "262818                0.0                1.0              0.0           0.0   \n",
              "250998                0.0                1.0              0.0           0.0   \n",
              "70489                 0.0                0.0              0.0           0.0   \n",
              "\n",
              "        FuelType_other  FuelType_petrol  Repaired_unknown  Repaired_yes  \n",
              "238267             0.0              1.0               0.0           1.0  \n",
              "250727             0.0              1.0               0.0           0.0  \n",
              "262818             0.0              0.0               0.0           0.0  \n",
              "250998             0.0              0.0               0.0           0.0  \n",
              "70489              0.0              1.0               0.0           0.0  \n",
              "\n",
              "[5 rows x 22 columns]"
            ],
            "text/html": [
              "\n",
              "  <div id=\"df-e67fa4ee-4f33-4a49-b936-08fc226da7ac\" class=\"colab-df-container\">\n",
              "    <div>\n",
              "<style scoped>\n",
              "    .dataframe tbody tr th:only-of-type {\n",
              "        vertical-align: middle;\n",
              "    }\n",
              "\n",
              "    .dataframe tbody tr th {\n",
              "        vertical-align: top;\n",
              "    }\n",
              "\n",
              "    .dataframe thead th {\n",
              "        text-align: right;\n",
              "    }\n",
              "</style>\n",
              "<table border=\"1\" class=\"dataframe\">\n",
              "  <thead>\n",
              "    <tr style=\"text-align: right;\">\n",
              "      <th></th>\n",
              "      <th>Price</th>\n",
              "      <th>RegistrationYear</th>\n",
              "      <th>Power</th>\n",
              "      <th>Model</th>\n",
              "      <th>Kilometer</th>\n",
              "      <th>Brand</th>\n",
              "      <th>VehicleType_convertible</th>\n",
              "      <th>VehicleType_coupe</th>\n",
              "      <th>VehicleType_other</th>\n",
              "      <th>VehicleType_sedan</th>\n",
              "      <th>...</th>\n",
              "      <th>VehicleType_wagon</th>\n",
              "      <th>Gearbox_manual</th>\n",
              "      <th>FuelType_electric</th>\n",
              "      <th>FuelType_gasoline</th>\n",
              "      <th>FuelType_hybrid</th>\n",
              "      <th>FuelType_lpg</th>\n",
              "      <th>FuelType_other</th>\n",
              "      <th>FuelType_petrol</th>\n",
              "      <th>Repaired_unknown</th>\n",
              "      <th>Repaired_yes</th>\n",
              "    </tr>\n",
              "  </thead>\n",
              "  <tbody>\n",
              "    <tr>\n",
              "      <th>238267</th>\n",
              "      <td>2500</td>\n",
              "      <td>2005</td>\n",
              "      <td>147.0</td>\n",
              "      <td>3802.606729</td>\n",
              "      <td>150000</td>\n",
              "      <td>2805.985459</td>\n",
              "      <td>0.0</td>\n",
              "      <td>0.0</td>\n",
              "      <td>0.0</td>\n",
              "      <td>0.0</td>\n",
              "      <td>...</td>\n",
              "      <td>1.0</td>\n",
              "      <td>1.0</td>\n",
              "      <td>0.0</td>\n",
              "      <td>0.0</td>\n",
              "      <td>0.0</td>\n",
              "      <td>0.0</td>\n",
              "      <td>0.0</td>\n",
              "      <td>1.0</td>\n",
              "      <td>0.0</td>\n",
              "      <td>1.0</td>\n",
              "    </tr>\n",
              "    <tr>\n",
              "      <th>250727</th>\n",
              "      <td>2000</td>\n",
              "      <td>1999</td>\n",
              "      <td>170.0</td>\n",
              "      <td>6669.808791</td>\n",
              "      <td>150000</td>\n",
              "      <td>6603.334884</td>\n",
              "      <td>0.0</td>\n",
              "      <td>0.0</td>\n",
              "      <td>0.0</td>\n",
              "      <td>1.0</td>\n",
              "      <td>...</td>\n",
              "      <td>0.0</td>\n",
              "      <td>0.0</td>\n",
              "      <td>0.0</td>\n",
              "      <td>0.0</td>\n",
              "      <td>0.0</td>\n",
              "      <td>0.0</td>\n",
              "      <td>0.0</td>\n",
              "      <td>1.0</td>\n",
              "      <td>0.0</td>\n",
              "      <td>0.0</td>\n",
              "    </tr>\n",
              "    <tr>\n",
              "      <th>262818</th>\n",
              "      <td>20000</td>\n",
              "      <td>2011</td>\n",
              "      <td>265.0</td>\n",
              "      <td>5654.853776</td>\n",
              "      <td>50000</td>\n",
              "      <td>6245.031019</td>\n",
              "      <td>0.0</td>\n",
              "      <td>0.0</td>\n",
              "      <td>0.0</td>\n",
              "      <td>1.0</td>\n",
              "      <td>...</td>\n",
              "      <td>0.0</td>\n",
              "      <td>0.0</td>\n",
              "      <td>0.0</td>\n",
              "      <td>1.0</td>\n",
              "      <td>0.0</td>\n",
              "      <td>0.0</td>\n",
              "      <td>0.0</td>\n",
              "      <td>0.0</td>\n",
              "      <td>0.0</td>\n",
              "      <td>0.0</td>\n",
              "    </tr>\n",
              "    <tr>\n",
              "      <th>250998</th>\n",
              "      <td>4490</td>\n",
              "      <td>2003</td>\n",
              "      <td>88.0</td>\n",
              "      <td>7102.065785</td>\n",
              "      <td>150000</td>\n",
              "      <td>4789.197821</td>\n",
              "      <td>0.0</td>\n",
              "      <td>0.0</td>\n",
              "      <td>0.0</td>\n",
              "      <td>0.0</td>\n",
              "      <td>...</td>\n",
              "      <td>0.0</td>\n",
              "      <td>1.0</td>\n",
              "      <td>0.0</td>\n",
              "      <td>1.0</td>\n",
              "      <td>0.0</td>\n",
              "      <td>0.0</td>\n",
              "      <td>0.0</td>\n",
              "      <td>0.0</td>\n",
              "      <td>0.0</td>\n",
              "      <td>0.0</td>\n",
              "    </tr>\n",
              "    <tr>\n",
              "      <th>70489</th>\n",
              "      <td>5000</td>\n",
              "      <td>1999</td>\n",
              "      <td>116.0</td>\n",
              "      <td>5317.508747</td>\n",
              "      <td>150000</td>\n",
              "      <td>4789.197821</td>\n",
              "      <td>0.0</td>\n",
              "      <td>0.0</td>\n",
              "      <td>0.0</td>\n",
              "      <td>0.0</td>\n",
              "      <td>...</td>\n",
              "      <td>0.0</td>\n",
              "      <td>1.0</td>\n",
              "      <td>0.0</td>\n",
              "      <td>0.0</td>\n",
              "      <td>0.0</td>\n",
              "      <td>0.0</td>\n",
              "      <td>0.0</td>\n",
              "      <td>1.0</td>\n",
              "      <td>0.0</td>\n",
              "      <td>0.0</td>\n",
              "    </tr>\n",
              "  </tbody>\n",
              "</table>\n",
              "<p>5 rows × 22 columns</p>\n",
              "</div>\n",
              "    <div class=\"colab-df-buttons\">\n",
              "\n",
              "  <div class=\"colab-df-container\">\n",
              "    <button class=\"colab-df-convert\" onclick=\"convertToInteractive('df-e67fa4ee-4f33-4a49-b936-08fc226da7ac')\"\n",
              "            title=\"Convert this dataframe to an interactive table.\"\n",
              "            style=\"display:none;\">\n",
              "\n",
              "  <svg xmlns=\"http://www.w3.org/2000/svg\" height=\"24px\" viewBox=\"0 -960 960 960\">\n",
              "    <path d=\"M120-120v-720h720v720H120Zm60-500h600v-160H180v160Zm220 220h160v-160H400v160Zm0 220h160v-160H400v160ZM180-400h160v-160H180v160Zm440 0h160v-160H620v160ZM180-180h160v-160H180v160Zm440 0h160v-160H620v160Z\"/>\n",
              "  </svg>\n",
              "    </button>\n",
              "\n",
              "  <style>\n",
              "    .colab-df-container {\n",
              "      display:flex;\n",
              "      gap: 12px;\n",
              "    }\n",
              "\n",
              "    .colab-df-convert {\n",
              "      background-color: #E8F0FE;\n",
              "      border: none;\n",
              "      border-radius: 50%;\n",
              "      cursor: pointer;\n",
              "      display: none;\n",
              "      fill: #1967D2;\n",
              "      height: 32px;\n",
              "      padding: 0 0 0 0;\n",
              "      width: 32px;\n",
              "    }\n",
              "\n",
              "    .colab-df-convert:hover {\n",
              "      background-color: #E2EBFA;\n",
              "      box-shadow: 0px 1px 2px rgba(60, 64, 67, 0.3), 0px 1px 3px 1px rgba(60, 64, 67, 0.15);\n",
              "      fill: #174EA6;\n",
              "    }\n",
              "\n",
              "    .colab-df-buttons div {\n",
              "      margin-bottom: 4px;\n",
              "    }\n",
              "\n",
              "    [theme=dark] .colab-df-convert {\n",
              "      background-color: #3B4455;\n",
              "      fill: #D2E3FC;\n",
              "    }\n",
              "\n",
              "    [theme=dark] .colab-df-convert:hover {\n",
              "      background-color: #434B5C;\n",
              "      box-shadow: 0px 1px 3px 1px rgba(0, 0, 0, 0.15);\n",
              "      filter: drop-shadow(0px 1px 2px rgba(0, 0, 0, 0.3));\n",
              "      fill: #FFFFFF;\n",
              "    }\n",
              "  </style>\n",
              "\n",
              "    <script>\n",
              "      const buttonEl =\n",
              "        document.querySelector('#df-e67fa4ee-4f33-4a49-b936-08fc226da7ac button.colab-df-convert');\n",
              "      buttonEl.style.display =\n",
              "        google.colab.kernel.accessAllowed ? 'block' : 'none';\n",
              "\n",
              "      async function convertToInteractive(key) {\n",
              "        const element = document.querySelector('#df-e67fa4ee-4f33-4a49-b936-08fc226da7ac');\n",
              "        const dataTable =\n",
              "          await google.colab.kernel.invokeFunction('convertToInteractive',\n",
              "                                                    [key], {});\n",
              "        if (!dataTable) return;\n",
              "\n",
              "        const docLinkHtml = 'Like what you see? Visit the ' +\n",
              "          '<a target=\"_blank\" href=https://colab.research.google.com/notebooks/data_table.ipynb>data table notebook</a>'\n",
              "          + ' to learn more about interactive tables.';\n",
              "        element.innerHTML = '';\n",
              "        dataTable['output_type'] = 'display_data';\n",
              "        await google.colab.output.renderOutput(dataTable, element);\n",
              "        const docLink = document.createElement('div');\n",
              "        docLink.innerHTML = docLinkHtml;\n",
              "        element.appendChild(docLink);\n",
              "      }\n",
              "    </script>\n",
              "  </div>\n",
              "\n",
              "\n",
              "<div id=\"df-b14d58d8-1227-4a14-9672-6f24d2cb878c\">\n",
              "  <button class=\"colab-df-quickchart\" onclick=\"quickchart('df-b14d58d8-1227-4a14-9672-6f24d2cb878c')\"\n",
              "            title=\"Suggest charts\"\n",
              "            style=\"display:none;\">\n",
              "\n",
              "<svg xmlns=\"http://www.w3.org/2000/svg\" height=\"24px\"viewBox=\"0 0 24 24\"\n",
              "     width=\"24px\">\n",
              "    <g>\n",
              "        <path d=\"M19 3H5c-1.1 0-2 .9-2 2v14c0 1.1.9 2 2 2h14c1.1 0 2-.9 2-2V5c0-1.1-.9-2-2-2zM9 17H7v-7h2v7zm4 0h-2V7h2v10zm4 0h-2v-4h2v4z\"/>\n",
              "    </g>\n",
              "</svg>\n",
              "  </button>\n",
              "\n",
              "<style>\n",
              "  .colab-df-quickchart {\n",
              "      --bg-color: #E8F0FE;\n",
              "      --fill-color: #1967D2;\n",
              "      --hover-bg-color: #E2EBFA;\n",
              "      --hover-fill-color: #174EA6;\n",
              "      --disabled-fill-color: #AAA;\n",
              "      --disabled-bg-color: #DDD;\n",
              "  }\n",
              "\n",
              "  [theme=dark] .colab-df-quickchart {\n",
              "      --bg-color: #3B4455;\n",
              "      --fill-color: #D2E3FC;\n",
              "      --hover-bg-color: #434B5C;\n",
              "      --hover-fill-color: #FFFFFF;\n",
              "      --disabled-bg-color: #3B4455;\n",
              "      --disabled-fill-color: #666;\n",
              "  }\n",
              "\n",
              "  .colab-df-quickchart {\n",
              "    background-color: var(--bg-color);\n",
              "    border: none;\n",
              "    border-radius: 50%;\n",
              "    cursor: pointer;\n",
              "    display: none;\n",
              "    fill: var(--fill-color);\n",
              "    height: 32px;\n",
              "    padding: 0;\n",
              "    width: 32px;\n",
              "  }\n",
              "\n",
              "  .colab-df-quickchart:hover {\n",
              "    background-color: var(--hover-bg-color);\n",
              "    box-shadow: 0 1px 2px rgba(60, 64, 67, 0.3), 0 1px 3px 1px rgba(60, 64, 67, 0.15);\n",
              "    fill: var(--button-hover-fill-color);\n",
              "  }\n",
              "\n",
              "  .colab-df-quickchart-complete:disabled,\n",
              "  .colab-df-quickchart-complete:disabled:hover {\n",
              "    background-color: var(--disabled-bg-color);\n",
              "    fill: var(--disabled-fill-color);\n",
              "    box-shadow: none;\n",
              "  }\n",
              "\n",
              "  .colab-df-spinner {\n",
              "    border: 2px solid var(--fill-color);\n",
              "    border-color: transparent;\n",
              "    border-bottom-color: var(--fill-color);\n",
              "    animation:\n",
              "      spin 1s steps(1) infinite;\n",
              "  }\n",
              "\n",
              "  @keyframes spin {\n",
              "    0% {\n",
              "      border-color: transparent;\n",
              "      border-bottom-color: var(--fill-color);\n",
              "      border-left-color: var(--fill-color);\n",
              "    }\n",
              "    20% {\n",
              "      border-color: transparent;\n",
              "      border-left-color: var(--fill-color);\n",
              "      border-top-color: var(--fill-color);\n",
              "    }\n",
              "    30% {\n",
              "      border-color: transparent;\n",
              "      border-left-color: var(--fill-color);\n",
              "      border-top-color: var(--fill-color);\n",
              "      border-right-color: var(--fill-color);\n",
              "    }\n",
              "    40% {\n",
              "      border-color: transparent;\n",
              "      border-right-color: var(--fill-color);\n",
              "      border-top-color: var(--fill-color);\n",
              "    }\n",
              "    60% {\n",
              "      border-color: transparent;\n",
              "      border-right-color: var(--fill-color);\n",
              "    }\n",
              "    80% {\n",
              "      border-color: transparent;\n",
              "      border-right-color: var(--fill-color);\n",
              "      border-bottom-color: var(--fill-color);\n",
              "    }\n",
              "    90% {\n",
              "      border-color: transparent;\n",
              "      border-bottom-color: var(--fill-color);\n",
              "    }\n",
              "  }\n",
              "</style>\n",
              "\n",
              "  <script>\n",
              "    async function quickchart(key) {\n",
              "      const quickchartButtonEl =\n",
              "        document.querySelector('#' + key + ' button');\n",
              "      quickchartButtonEl.disabled = true;  // To prevent multiple clicks.\n",
              "      quickchartButtonEl.classList.add('colab-df-spinner');\n",
              "      try {\n",
              "        const charts = await google.colab.kernel.invokeFunction(\n",
              "            'suggestCharts', [key], {});\n",
              "      } catch (error) {\n",
              "        console.error('Error during call to suggestCharts:', error);\n",
              "      }\n",
              "      quickchartButtonEl.classList.remove('colab-df-spinner');\n",
              "      quickchartButtonEl.classList.add('colab-df-quickchart-complete');\n",
              "    }\n",
              "    (() => {\n",
              "      let quickchartButtonEl =\n",
              "        document.querySelector('#df-b14d58d8-1227-4a14-9672-6f24d2cb878c button');\n",
              "      quickchartButtonEl.style.display =\n",
              "        google.colab.kernel.accessAllowed ? 'block' : 'none';\n",
              "    })();\n",
              "  </script>\n",
              "</div>\n",
              "    </div>\n",
              "  </div>\n"
            ]
          },
          "metadata": {},
          "execution_count": 73
        }
      ],
      "source": [
        "train_encoded.head()"
      ]
    },
    {
      "cell_type": "code",
      "execution_count": 74,
      "metadata": {
        "colab": {
          "base_uri": "https://localhost:8080/",
          "height": 255
        },
        "id": "Z_o-sALCfo_-",
        "outputId": "2101e596-04e3-4d48-f7f5-95907e86632a"
      },
      "outputs": [
        {
          "output_type": "execute_result",
          "data": {
            "text/plain": [
              "        Price  RegistrationYear  Power        Model  Kilometer        Brand  \\\n",
              "252972   5900              2005  204.0  5654.853776     150000  6245.031019   \n",
              "293817    850              1999  132.0  4447.617762     150000  3352.978331   \n",
              "92838    1499              2000  105.0  4515.122378     150000  4789.197821   \n",
              "317094   9900              2013   94.0  4196.224818      50000  4257.645954   \n",
              "317427    120              1993   90.0  2694.104424     100000  3389.201564   \n",
              "\n",
              "        VehicleType_convertible  VehicleType_coupe  VehicleType_other  \\\n",
              "252972                      0.0                0.0                0.0   \n",
              "293817                      0.0                0.0                0.0   \n",
              "92838                       0.0                0.0                0.0   \n",
              "317094                      0.0                0.0                0.0   \n",
              "317427                      0.0                0.0                0.0   \n",
              "\n",
              "        VehicleType_sedan  ...  VehicleType_wagon  Gearbox_manual  \\\n",
              "252972                1.0  ...                0.0             1.0   \n",
              "293817                0.0  ...                0.0             1.0   \n",
              "92838                 0.0  ...                1.0             1.0   \n",
              "317094                0.0  ...                0.0             0.0   \n",
              "317427                1.0  ...                0.0             1.0   \n",
              "\n",
              "        FuelType_electric  FuelType_gasoline  FuelType_hybrid  FuelType_lpg  \\\n",
              "252972                0.0                0.0              0.0           0.0   \n",
              "293817                0.0                0.0              0.0           0.0   \n",
              "92838                 0.0                0.0              0.0           0.0   \n",
              "317094                0.0                0.0              0.0           0.0   \n",
              "317427                0.0                0.0              0.0           0.0   \n",
              "\n",
              "        FuelType_other  FuelType_petrol  Repaired_unknown  Repaired_yes  \n",
              "252972             0.0              1.0               0.0           0.0  \n",
              "293817             0.0              1.0               0.0           1.0  \n",
              "92838              0.0              1.0               0.0           0.0  \n",
              "317094             0.0              1.0               0.0           0.0  \n",
              "317427             0.0              1.0               0.0           0.0  \n",
              "\n",
              "[5 rows x 22 columns]"
            ],
            "text/html": [
              "\n",
              "  <div id=\"df-b04ad5b9-bcb2-46ea-ac28-9099e1fb70c2\" class=\"colab-df-container\">\n",
              "    <div>\n",
              "<style scoped>\n",
              "    .dataframe tbody tr th:only-of-type {\n",
              "        vertical-align: middle;\n",
              "    }\n",
              "\n",
              "    .dataframe tbody tr th {\n",
              "        vertical-align: top;\n",
              "    }\n",
              "\n",
              "    .dataframe thead th {\n",
              "        text-align: right;\n",
              "    }\n",
              "</style>\n",
              "<table border=\"1\" class=\"dataframe\">\n",
              "  <thead>\n",
              "    <tr style=\"text-align: right;\">\n",
              "      <th></th>\n",
              "      <th>Price</th>\n",
              "      <th>RegistrationYear</th>\n",
              "      <th>Power</th>\n",
              "      <th>Model</th>\n",
              "      <th>Kilometer</th>\n",
              "      <th>Brand</th>\n",
              "      <th>VehicleType_convertible</th>\n",
              "      <th>VehicleType_coupe</th>\n",
              "      <th>VehicleType_other</th>\n",
              "      <th>VehicleType_sedan</th>\n",
              "      <th>...</th>\n",
              "      <th>VehicleType_wagon</th>\n",
              "      <th>Gearbox_manual</th>\n",
              "      <th>FuelType_electric</th>\n",
              "      <th>FuelType_gasoline</th>\n",
              "      <th>FuelType_hybrid</th>\n",
              "      <th>FuelType_lpg</th>\n",
              "      <th>FuelType_other</th>\n",
              "      <th>FuelType_petrol</th>\n",
              "      <th>Repaired_unknown</th>\n",
              "      <th>Repaired_yes</th>\n",
              "    </tr>\n",
              "  </thead>\n",
              "  <tbody>\n",
              "    <tr>\n",
              "      <th>252972</th>\n",
              "      <td>5900</td>\n",
              "      <td>2005</td>\n",
              "      <td>204.0</td>\n",
              "      <td>5654.853776</td>\n",
              "      <td>150000</td>\n",
              "      <td>6245.031019</td>\n",
              "      <td>0.0</td>\n",
              "      <td>0.0</td>\n",
              "      <td>0.0</td>\n",
              "      <td>1.0</td>\n",
              "      <td>...</td>\n",
              "      <td>0.0</td>\n",
              "      <td>1.0</td>\n",
              "      <td>0.0</td>\n",
              "      <td>0.0</td>\n",
              "      <td>0.0</td>\n",
              "      <td>0.0</td>\n",
              "      <td>0.0</td>\n",
              "      <td>1.0</td>\n",
              "      <td>0.0</td>\n",
              "      <td>0.0</td>\n",
              "    </tr>\n",
              "    <tr>\n",
              "      <th>293817</th>\n",
              "      <td>850</td>\n",
              "      <td>1999</td>\n",
              "      <td>132.0</td>\n",
              "      <td>4447.617762</td>\n",
              "      <td>150000</td>\n",
              "      <td>3352.978331</td>\n",
              "      <td>0.0</td>\n",
              "      <td>0.0</td>\n",
              "      <td>0.0</td>\n",
              "      <td>0.0</td>\n",
              "      <td>...</td>\n",
              "      <td>0.0</td>\n",
              "      <td>1.0</td>\n",
              "      <td>0.0</td>\n",
              "      <td>0.0</td>\n",
              "      <td>0.0</td>\n",
              "      <td>0.0</td>\n",
              "      <td>0.0</td>\n",
              "      <td>1.0</td>\n",
              "      <td>0.0</td>\n",
              "      <td>1.0</td>\n",
              "    </tr>\n",
              "    <tr>\n",
              "      <th>92838</th>\n",
              "      <td>1499</td>\n",
              "      <td>2000</td>\n",
              "      <td>105.0</td>\n",
              "      <td>4515.122378</td>\n",
              "      <td>150000</td>\n",
              "      <td>4789.197821</td>\n",
              "      <td>0.0</td>\n",
              "      <td>0.0</td>\n",
              "      <td>0.0</td>\n",
              "      <td>0.0</td>\n",
              "      <td>...</td>\n",
              "      <td>1.0</td>\n",
              "      <td>1.0</td>\n",
              "      <td>0.0</td>\n",
              "      <td>0.0</td>\n",
              "      <td>0.0</td>\n",
              "      <td>0.0</td>\n",
              "      <td>0.0</td>\n",
              "      <td>1.0</td>\n",
              "      <td>0.0</td>\n",
              "      <td>0.0</td>\n",
              "    </tr>\n",
              "    <tr>\n",
              "      <th>317094</th>\n",
              "      <td>9900</td>\n",
              "      <td>2013</td>\n",
              "      <td>94.0</td>\n",
              "      <td>4196.224818</td>\n",
              "      <td>50000</td>\n",
              "      <td>4257.645954</td>\n",
              "      <td>0.0</td>\n",
              "      <td>0.0</td>\n",
              "      <td>0.0</td>\n",
              "      <td>0.0</td>\n",
              "      <td>...</td>\n",
              "      <td>0.0</td>\n",
              "      <td>0.0</td>\n",
              "      <td>0.0</td>\n",
              "      <td>0.0</td>\n",
              "      <td>0.0</td>\n",
              "      <td>0.0</td>\n",
              "      <td>0.0</td>\n",
              "      <td>1.0</td>\n",
              "      <td>0.0</td>\n",
              "      <td>0.0</td>\n",
              "    </tr>\n",
              "    <tr>\n",
              "      <th>317427</th>\n",
              "      <td>120</td>\n",
              "      <td>1993</td>\n",
              "      <td>90.0</td>\n",
              "      <td>2694.104424</td>\n",
              "      <td>100000</td>\n",
              "      <td>3389.201564</td>\n",
              "      <td>0.0</td>\n",
              "      <td>0.0</td>\n",
              "      <td>0.0</td>\n",
              "      <td>1.0</td>\n",
              "      <td>...</td>\n",
              "      <td>0.0</td>\n",
              "      <td>1.0</td>\n",
              "      <td>0.0</td>\n",
              "      <td>0.0</td>\n",
              "      <td>0.0</td>\n",
              "      <td>0.0</td>\n",
              "      <td>0.0</td>\n",
              "      <td>1.0</td>\n",
              "      <td>0.0</td>\n",
              "      <td>0.0</td>\n",
              "    </tr>\n",
              "  </tbody>\n",
              "</table>\n",
              "<p>5 rows × 22 columns</p>\n",
              "</div>\n",
              "    <div class=\"colab-df-buttons\">\n",
              "\n",
              "  <div class=\"colab-df-container\">\n",
              "    <button class=\"colab-df-convert\" onclick=\"convertToInteractive('df-b04ad5b9-bcb2-46ea-ac28-9099e1fb70c2')\"\n",
              "            title=\"Convert this dataframe to an interactive table.\"\n",
              "            style=\"display:none;\">\n",
              "\n",
              "  <svg xmlns=\"http://www.w3.org/2000/svg\" height=\"24px\" viewBox=\"0 -960 960 960\">\n",
              "    <path d=\"M120-120v-720h720v720H120Zm60-500h600v-160H180v160Zm220 220h160v-160H400v160Zm0 220h160v-160H400v160ZM180-400h160v-160H180v160Zm440 0h160v-160H620v160ZM180-180h160v-160H180v160Zm440 0h160v-160H620v160Z\"/>\n",
              "  </svg>\n",
              "    </button>\n",
              "\n",
              "  <style>\n",
              "    .colab-df-container {\n",
              "      display:flex;\n",
              "      gap: 12px;\n",
              "    }\n",
              "\n",
              "    .colab-df-convert {\n",
              "      background-color: #E8F0FE;\n",
              "      border: none;\n",
              "      border-radius: 50%;\n",
              "      cursor: pointer;\n",
              "      display: none;\n",
              "      fill: #1967D2;\n",
              "      height: 32px;\n",
              "      padding: 0 0 0 0;\n",
              "      width: 32px;\n",
              "    }\n",
              "\n",
              "    .colab-df-convert:hover {\n",
              "      background-color: #E2EBFA;\n",
              "      box-shadow: 0px 1px 2px rgba(60, 64, 67, 0.3), 0px 1px 3px 1px rgba(60, 64, 67, 0.15);\n",
              "      fill: #174EA6;\n",
              "    }\n",
              "\n",
              "    .colab-df-buttons div {\n",
              "      margin-bottom: 4px;\n",
              "    }\n",
              "\n",
              "    [theme=dark] .colab-df-convert {\n",
              "      background-color: #3B4455;\n",
              "      fill: #D2E3FC;\n",
              "    }\n",
              "\n",
              "    [theme=dark] .colab-df-convert:hover {\n",
              "      background-color: #434B5C;\n",
              "      box-shadow: 0px 1px 3px 1px rgba(0, 0, 0, 0.15);\n",
              "      filter: drop-shadow(0px 1px 2px rgba(0, 0, 0, 0.3));\n",
              "      fill: #FFFFFF;\n",
              "    }\n",
              "  </style>\n",
              "\n",
              "    <script>\n",
              "      const buttonEl =\n",
              "        document.querySelector('#df-b04ad5b9-bcb2-46ea-ac28-9099e1fb70c2 button.colab-df-convert');\n",
              "      buttonEl.style.display =\n",
              "        google.colab.kernel.accessAllowed ? 'block' : 'none';\n",
              "\n",
              "      async function convertToInteractive(key) {\n",
              "        const element = document.querySelector('#df-b04ad5b9-bcb2-46ea-ac28-9099e1fb70c2');\n",
              "        const dataTable =\n",
              "          await google.colab.kernel.invokeFunction('convertToInteractive',\n",
              "                                                    [key], {});\n",
              "        if (!dataTable) return;\n",
              "\n",
              "        const docLinkHtml = 'Like what you see? Visit the ' +\n",
              "          '<a target=\"_blank\" href=https://colab.research.google.com/notebooks/data_table.ipynb>data table notebook</a>'\n",
              "          + ' to learn more about interactive tables.';\n",
              "        element.innerHTML = '';\n",
              "        dataTable['output_type'] = 'display_data';\n",
              "        await google.colab.output.renderOutput(dataTable, element);\n",
              "        const docLink = document.createElement('div');\n",
              "        docLink.innerHTML = docLinkHtml;\n",
              "        element.appendChild(docLink);\n",
              "      }\n",
              "    </script>\n",
              "  </div>\n",
              "\n",
              "\n",
              "<div id=\"df-d8aa1fe2-577a-4bf7-a858-6c4e1c77bcb8\">\n",
              "  <button class=\"colab-df-quickchart\" onclick=\"quickchart('df-d8aa1fe2-577a-4bf7-a858-6c4e1c77bcb8')\"\n",
              "            title=\"Suggest charts\"\n",
              "            style=\"display:none;\">\n",
              "\n",
              "<svg xmlns=\"http://www.w3.org/2000/svg\" height=\"24px\"viewBox=\"0 0 24 24\"\n",
              "     width=\"24px\">\n",
              "    <g>\n",
              "        <path d=\"M19 3H5c-1.1 0-2 .9-2 2v14c0 1.1.9 2 2 2h14c1.1 0 2-.9 2-2V5c0-1.1-.9-2-2-2zM9 17H7v-7h2v7zm4 0h-2V7h2v10zm4 0h-2v-4h2v4z\"/>\n",
              "    </g>\n",
              "</svg>\n",
              "  </button>\n",
              "\n",
              "<style>\n",
              "  .colab-df-quickchart {\n",
              "      --bg-color: #E8F0FE;\n",
              "      --fill-color: #1967D2;\n",
              "      --hover-bg-color: #E2EBFA;\n",
              "      --hover-fill-color: #174EA6;\n",
              "      --disabled-fill-color: #AAA;\n",
              "      --disabled-bg-color: #DDD;\n",
              "  }\n",
              "\n",
              "  [theme=dark] .colab-df-quickchart {\n",
              "      --bg-color: #3B4455;\n",
              "      --fill-color: #D2E3FC;\n",
              "      --hover-bg-color: #434B5C;\n",
              "      --hover-fill-color: #FFFFFF;\n",
              "      --disabled-bg-color: #3B4455;\n",
              "      --disabled-fill-color: #666;\n",
              "  }\n",
              "\n",
              "  .colab-df-quickchart {\n",
              "    background-color: var(--bg-color);\n",
              "    border: none;\n",
              "    border-radius: 50%;\n",
              "    cursor: pointer;\n",
              "    display: none;\n",
              "    fill: var(--fill-color);\n",
              "    height: 32px;\n",
              "    padding: 0;\n",
              "    width: 32px;\n",
              "  }\n",
              "\n",
              "  .colab-df-quickchart:hover {\n",
              "    background-color: var(--hover-bg-color);\n",
              "    box-shadow: 0 1px 2px rgba(60, 64, 67, 0.3), 0 1px 3px 1px rgba(60, 64, 67, 0.15);\n",
              "    fill: var(--button-hover-fill-color);\n",
              "  }\n",
              "\n",
              "  .colab-df-quickchart-complete:disabled,\n",
              "  .colab-df-quickchart-complete:disabled:hover {\n",
              "    background-color: var(--disabled-bg-color);\n",
              "    fill: var(--disabled-fill-color);\n",
              "    box-shadow: none;\n",
              "  }\n",
              "\n",
              "  .colab-df-spinner {\n",
              "    border: 2px solid var(--fill-color);\n",
              "    border-color: transparent;\n",
              "    border-bottom-color: var(--fill-color);\n",
              "    animation:\n",
              "      spin 1s steps(1) infinite;\n",
              "  }\n",
              "\n",
              "  @keyframes spin {\n",
              "    0% {\n",
              "      border-color: transparent;\n",
              "      border-bottom-color: var(--fill-color);\n",
              "      border-left-color: var(--fill-color);\n",
              "    }\n",
              "    20% {\n",
              "      border-color: transparent;\n",
              "      border-left-color: var(--fill-color);\n",
              "      border-top-color: var(--fill-color);\n",
              "    }\n",
              "    30% {\n",
              "      border-color: transparent;\n",
              "      border-left-color: var(--fill-color);\n",
              "      border-top-color: var(--fill-color);\n",
              "      border-right-color: var(--fill-color);\n",
              "    }\n",
              "    40% {\n",
              "      border-color: transparent;\n",
              "      border-right-color: var(--fill-color);\n",
              "      border-top-color: var(--fill-color);\n",
              "    }\n",
              "    60% {\n",
              "      border-color: transparent;\n",
              "      border-right-color: var(--fill-color);\n",
              "    }\n",
              "    80% {\n",
              "      border-color: transparent;\n",
              "      border-right-color: var(--fill-color);\n",
              "      border-bottom-color: var(--fill-color);\n",
              "    }\n",
              "    90% {\n",
              "      border-color: transparent;\n",
              "      border-bottom-color: var(--fill-color);\n",
              "    }\n",
              "  }\n",
              "</style>\n",
              "\n",
              "  <script>\n",
              "    async function quickchart(key) {\n",
              "      const quickchartButtonEl =\n",
              "        document.querySelector('#' + key + ' button');\n",
              "      quickchartButtonEl.disabled = true;  // To prevent multiple clicks.\n",
              "      quickchartButtonEl.classList.add('colab-df-spinner');\n",
              "      try {\n",
              "        const charts = await google.colab.kernel.invokeFunction(\n",
              "            'suggestCharts', [key], {});\n",
              "      } catch (error) {\n",
              "        console.error('Error during call to suggestCharts:', error);\n",
              "      }\n",
              "      quickchartButtonEl.classList.remove('colab-df-spinner');\n",
              "      quickchartButtonEl.classList.add('colab-df-quickchart-complete');\n",
              "    }\n",
              "    (() => {\n",
              "      let quickchartButtonEl =\n",
              "        document.querySelector('#df-d8aa1fe2-577a-4bf7-a858-6c4e1c77bcb8 button');\n",
              "      quickchartButtonEl.style.display =\n",
              "        google.colab.kernel.accessAllowed ? 'block' : 'none';\n",
              "    })();\n",
              "  </script>\n",
              "</div>\n",
              "    </div>\n",
              "  </div>\n"
            ]
          },
          "metadata": {},
          "execution_count": 74
        }
      ],
      "source": [
        "test_encoded.head()"
      ]
    },
    {
      "cell_type": "markdown",
      "metadata": {
        "id": "faTGLZnKfo__"
      },
      "source": [
        "Произведём масштабирование числовых признаков для линейной регрессии"
      ]
    },
    {
      "cell_type": "code",
      "execution_count": 75,
      "metadata": {
        "id": "NDdGjAFQfo__"
      },
      "outputs": [],
      "source": [
        "encoded_features = train_encoded.columns.drop(target)\n",
        "encoded_features_mumeric = ['RegistrationYear', 'Power', 'Model', 'Kilometer', 'Brand']"
      ]
    },
    {
      "cell_type": "code",
      "execution_count": 76,
      "metadata": {
        "id": "vixlrQ54fo__"
      },
      "outputs": [],
      "source": [
        "scaler = StandardScaler()\n",
        "train_encoded[encoded_features_mumeric] = scaler.fit_transform(train_encoded[encoded_features_mumeric])\n",
        "test_encoded[encoded_features_mumeric] = scaler.transform(test_encoded[encoded_features_mumeric])"
      ]
    },
    {
      "cell_type": "code",
      "execution_count": 77,
      "metadata": {
        "colab": {
          "base_uri": "https://localhost:8080/",
          "height": 255
        },
        "id": "IUPjKcb2fo__",
        "outputId": "251a6fac-ea89-408a-f402-b456fc109c7b"
      },
      "outputs": [
        {
          "output_type": "execute_result",
          "data": {
            "text/plain": [
              "        Price  RegistrationYear     Power     Model  Kilometer     Brand  \\\n",
              "238267   2500          0.384577  0.499296 -0.387691   0.583603 -1.264629   \n",
              "250727   2000         -0.763982  0.933092  0.769857   0.583603  1.187932   \n",
              "262818  20000          1.533137  2.724858  0.360099  -2.144491  0.956518   \n",
              "250998   4490          0.001724 -0.613485  0.944368   0.583603  0.016252   \n",
              "70489    5000         -0.763982 -0.085386  0.223906   0.583603  0.016252   \n",
              "\n",
              "        VehicleType_convertible  VehicleType_coupe  VehicleType_other  \\\n",
              "238267                      0.0                0.0                0.0   \n",
              "250727                      0.0                0.0                0.0   \n",
              "262818                      0.0                0.0                0.0   \n",
              "250998                      0.0                0.0                0.0   \n",
              "70489                       0.0                0.0                0.0   \n",
              "\n",
              "        VehicleType_sedan  ...  VehicleType_wagon  Gearbox_manual  \\\n",
              "238267                0.0  ...                1.0             1.0   \n",
              "250727                1.0  ...                0.0             0.0   \n",
              "262818                1.0  ...                0.0             0.0   \n",
              "250998                0.0  ...                0.0             1.0   \n",
              "70489                 0.0  ...                0.0             1.0   \n",
              "\n",
              "        FuelType_electric  FuelType_gasoline  FuelType_hybrid  FuelType_lpg  \\\n",
              "238267                0.0                0.0              0.0           0.0   \n",
              "250727                0.0                0.0              0.0           0.0   \n",
              "262818                0.0                1.0              0.0           0.0   \n",
              "250998                0.0                1.0              0.0           0.0   \n",
              "70489                 0.0                0.0              0.0           0.0   \n",
              "\n",
              "        FuelType_other  FuelType_petrol  Repaired_unknown  Repaired_yes  \n",
              "238267             0.0              1.0               0.0           1.0  \n",
              "250727             0.0              1.0               0.0           0.0  \n",
              "262818             0.0              0.0               0.0           0.0  \n",
              "250998             0.0              0.0               0.0           0.0  \n",
              "70489              0.0              1.0               0.0           0.0  \n",
              "\n",
              "[5 rows x 22 columns]"
            ],
            "text/html": [
              "\n",
              "  <div id=\"df-f73c7b80-02fe-4c4e-a106-746a5dfd67f8\" class=\"colab-df-container\">\n",
              "    <div>\n",
              "<style scoped>\n",
              "    .dataframe tbody tr th:only-of-type {\n",
              "        vertical-align: middle;\n",
              "    }\n",
              "\n",
              "    .dataframe tbody tr th {\n",
              "        vertical-align: top;\n",
              "    }\n",
              "\n",
              "    .dataframe thead th {\n",
              "        text-align: right;\n",
              "    }\n",
              "</style>\n",
              "<table border=\"1\" class=\"dataframe\">\n",
              "  <thead>\n",
              "    <tr style=\"text-align: right;\">\n",
              "      <th></th>\n",
              "      <th>Price</th>\n",
              "      <th>RegistrationYear</th>\n",
              "      <th>Power</th>\n",
              "      <th>Model</th>\n",
              "      <th>Kilometer</th>\n",
              "      <th>Brand</th>\n",
              "      <th>VehicleType_convertible</th>\n",
              "      <th>VehicleType_coupe</th>\n",
              "      <th>VehicleType_other</th>\n",
              "      <th>VehicleType_sedan</th>\n",
              "      <th>...</th>\n",
              "      <th>VehicleType_wagon</th>\n",
              "      <th>Gearbox_manual</th>\n",
              "      <th>FuelType_electric</th>\n",
              "      <th>FuelType_gasoline</th>\n",
              "      <th>FuelType_hybrid</th>\n",
              "      <th>FuelType_lpg</th>\n",
              "      <th>FuelType_other</th>\n",
              "      <th>FuelType_petrol</th>\n",
              "      <th>Repaired_unknown</th>\n",
              "      <th>Repaired_yes</th>\n",
              "    </tr>\n",
              "  </thead>\n",
              "  <tbody>\n",
              "    <tr>\n",
              "      <th>238267</th>\n",
              "      <td>2500</td>\n",
              "      <td>0.384577</td>\n",
              "      <td>0.499296</td>\n",
              "      <td>-0.387691</td>\n",
              "      <td>0.583603</td>\n",
              "      <td>-1.264629</td>\n",
              "      <td>0.0</td>\n",
              "      <td>0.0</td>\n",
              "      <td>0.0</td>\n",
              "      <td>0.0</td>\n",
              "      <td>...</td>\n",
              "      <td>1.0</td>\n",
              "      <td>1.0</td>\n",
              "      <td>0.0</td>\n",
              "      <td>0.0</td>\n",
              "      <td>0.0</td>\n",
              "      <td>0.0</td>\n",
              "      <td>0.0</td>\n",
              "      <td>1.0</td>\n",
              "      <td>0.0</td>\n",
              "      <td>1.0</td>\n",
              "    </tr>\n",
              "    <tr>\n",
              "      <th>250727</th>\n",
              "      <td>2000</td>\n",
              "      <td>-0.763982</td>\n",
              "      <td>0.933092</td>\n",
              "      <td>0.769857</td>\n",
              "      <td>0.583603</td>\n",
              "      <td>1.187932</td>\n",
              "      <td>0.0</td>\n",
              "      <td>0.0</td>\n",
              "      <td>0.0</td>\n",
              "      <td>1.0</td>\n",
              "      <td>...</td>\n",
              "      <td>0.0</td>\n",
              "      <td>0.0</td>\n",
              "      <td>0.0</td>\n",
              "      <td>0.0</td>\n",
              "      <td>0.0</td>\n",
              "      <td>0.0</td>\n",
              "      <td>0.0</td>\n",
              "      <td>1.0</td>\n",
              "      <td>0.0</td>\n",
              "      <td>0.0</td>\n",
              "    </tr>\n",
              "    <tr>\n",
              "      <th>262818</th>\n",
              "      <td>20000</td>\n",
              "      <td>1.533137</td>\n",
              "      <td>2.724858</td>\n",
              "      <td>0.360099</td>\n",
              "      <td>-2.144491</td>\n",
              "      <td>0.956518</td>\n",
              "      <td>0.0</td>\n",
              "      <td>0.0</td>\n",
              "      <td>0.0</td>\n",
              "      <td>1.0</td>\n",
              "      <td>...</td>\n",
              "      <td>0.0</td>\n",
              "      <td>0.0</td>\n",
              "      <td>0.0</td>\n",
              "      <td>1.0</td>\n",
              "      <td>0.0</td>\n",
              "      <td>0.0</td>\n",
              "      <td>0.0</td>\n",
              "      <td>0.0</td>\n",
              "      <td>0.0</td>\n",
              "      <td>0.0</td>\n",
              "    </tr>\n",
              "    <tr>\n",
              "      <th>250998</th>\n",
              "      <td>4490</td>\n",
              "      <td>0.001724</td>\n",
              "      <td>-0.613485</td>\n",
              "      <td>0.944368</td>\n",
              "      <td>0.583603</td>\n",
              "      <td>0.016252</td>\n",
              "      <td>0.0</td>\n",
              "      <td>0.0</td>\n",
              "      <td>0.0</td>\n",
              "      <td>0.0</td>\n",
              "      <td>...</td>\n",
              "      <td>0.0</td>\n",
              "      <td>1.0</td>\n",
              "      <td>0.0</td>\n",
              "      <td>1.0</td>\n",
              "      <td>0.0</td>\n",
              "      <td>0.0</td>\n",
              "      <td>0.0</td>\n",
              "      <td>0.0</td>\n",
              "      <td>0.0</td>\n",
              "      <td>0.0</td>\n",
              "    </tr>\n",
              "    <tr>\n",
              "      <th>70489</th>\n",
              "      <td>5000</td>\n",
              "      <td>-0.763982</td>\n",
              "      <td>-0.085386</td>\n",
              "      <td>0.223906</td>\n",
              "      <td>0.583603</td>\n",
              "      <td>0.016252</td>\n",
              "      <td>0.0</td>\n",
              "      <td>0.0</td>\n",
              "      <td>0.0</td>\n",
              "      <td>0.0</td>\n",
              "      <td>...</td>\n",
              "      <td>0.0</td>\n",
              "      <td>1.0</td>\n",
              "      <td>0.0</td>\n",
              "      <td>0.0</td>\n",
              "      <td>0.0</td>\n",
              "      <td>0.0</td>\n",
              "      <td>0.0</td>\n",
              "      <td>1.0</td>\n",
              "      <td>0.0</td>\n",
              "      <td>0.0</td>\n",
              "    </tr>\n",
              "  </tbody>\n",
              "</table>\n",
              "<p>5 rows × 22 columns</p>\n",
              "</div>\n",
              "    <div class=\"colab-df-buttons\">\n",
              "\n",
              "  <div class=\"colab-df-container\">\n",
              "    <button class=\"colab-df-convert\" onclick=\"convertToInteractive('df-f73c7b80-02fe-4c4e-a106-746a5dfd67f8')\"\n",
              "            title=\"Convert this dataframe to an interactive table.\"\n",
              "            style=\"display:none;\">\n",
              "\n",
              "  <svg xmlns=\"http://www.w3.org/2000/svg\" height=\"24px\" viewBox=\"0 -960 960 960\">\n",
              "    <path d=\"M120-120v-720h720v720H120Zm60-500h600v-160H180v160Zm220 220h160v-160H400v160Zm0 220h160v-160H400v160ZM180-400h160v-160H180v160Zm440 0h160v-160H620v160ZM180-180h160v-160H180v160Zm440 0h160v-160H620v160Z\"/>\n",
              "  </svg>\n",
              "    </button>\n",
              "\n",
              "  <style>\n",
              "    .colab-df-container {\n",
              "      display:flex;\n",
              "      gap: 12px;\n",
              "    }\n",
              "\n",
              "    .colab-df-convert {\n",
              "      background-color: #E8F0FE;\n",
              "      border: none;\n",
              "      border-radius: 50%;\n",
              "      cursor: pointer;\n",
              "      display: none;\n",
              "      fill: #1967D2;\n",
              "      height: 32px;\n",
              "      padding: 0 0 0 0;\n",
              "      width: 32px;\n",
              "    }\n",
              "\n",
              "    .colab-df-convert:hover {\n",
              "      background-color: #E2EBFA;\n",
              "      box-shadow: 0px 1px 2px rgba(60, 64, 67, 0.3), 0px 1px 3px 1px rgba(60, 64, 67, 0.15);\n",
              "      fill: #174EA6;\n",
              "    }\n",
              "\n",
              "    .colab-df-buttons div {\n",
              "      margin-bottom: 4px;\n",
              "    }\n",
              "\n",
              "    [theme=dark] .colab-df-convert {\n",
              "      background-color: #3B4455;\n",
              "      fill: #D2E3FC;\n",
              "    }\n",
              "\n",
              "    [theme=dark] .colab-df-convert:hover {\n",
              "      background-color: #434B5C;\n",
              "      box-shadow: 0px 1px 3px 1px rgba(0, 0, 0, 0.15);\n",
              "      filter: drop-shadow(0px 1px 2px rgba(0, 0, 0, 0.3));\n",
              "      fill: #FFFFFF;\n",
              "    }\n",
              "  </style>\n",
              "\n",
              "    <script>\n",
              "      const buttonEl =\n",
              "        document.querySelector('#df-f73c7b80-02fe-4c4e-a106-746a5dfd67f8 button.colab-df-convert');\n",
              "      buttonEl.style.display =\n",
              "        google.colab.kernel.accessAllowed ? 'block' : 'none';\n",
              "\n",
              "      async function convertToInteractive(key) {\n",
              "        const element = document.querySelector('#df-f73c7b80-02fe-4c4e-a106-746a5dfd67f8');\n",
              "        const dataTable =\n",
              "          await google.colab.kernel.invokeFunction('convertToInteractive',\n",
              "                                                    [key], {});\n",
              "        if (!dataTable) return;\n",
              "\n",
              "        const docLinkHtml = 'Like what you see? Visit the ' +\n",
              "          '<a target=\"_blank\" href=https://colab.research.google.com/notebooks/data_table.ipynb>data table notebook</a>'\n",
              "          + ' to learn more about interactive tables.';\n",
              "        element.innerHTML = '';\n",
              "        dataTable['output_type'] = 'display_data';\n",
              "        await google.colab.output.renderOutput(dataTable, element);\n",
              "        const docLink = document.createElement('div');\n",
              "        docLink.innerHTML = docLinkHtml;\n",
              "        element.appendChild(docLink);\n",
              "      }\n",
              "    </script>\n",
              "  </div>\n",
              "\n",
              "\n",
              "<div id=\"df-9bfea37a-4ec6-4512-8810-876c5ba04ee9\">\n",
              "  <button class=\"colab-df-quickchart\" onclick=\"quickchart('df-9bfea37a-4ec6-4512-8810-876c5ba04ee9')\"\n",
              "            title=\"Suggest charts\"\n",
              "            style=\"display:none;\">\n",
              "\n",
              "<svg xmlns=\"http://www.w3.org/2000/svg\" height=\"24px\"viewBox=\"0 0 24 24\"\n",
              "     width=\"24px\">\n",
              "    <g>\n",
              "        <path d=\"M19 3H5c-1.1 0-2 .9-2 2v14c0 1.1.9 2 2 2h14c1.1 0 2-.9 2-2V5c0-1.1-.9-2-2-2zM9 17H7v-7h2v7zm4 0h-2V7h2v10zm4 0h-2v-4h2v4z\"/>\n",
              "    </g>\n",
              "</svg>\n",
              "  </button>\n",
              "\n",
              "<style>\n",
              "  .colab-df-quickchart {\n",
              "      --bg-color: #E8F0FE;\n",
              "      --fill-color: #1967D2;\n",
              "      --hover-bg-color: #E2EBFA;\n",
              "      --hover-fill-color: #174EA6;\n",
              "      --disabled-fill-color: #AAA;\n",
              "      --disabled-bg-color: #DDD;\n",
              "  }\n",
              "\n",
              "  [theme=dark] .colab-df-quickchart {\n",
              "      --bg-color: #3B4455;\n",
              "      --fill-color: #D2E3FC;\n",
              "      --hover-bg-color: #434B5C;\n",
              "      --hover-fill-color: #FFFFFF;\n",
              "      --disabled-bg-color: #3B4455;\n",
              "      --disabled-fill-color: #666;\n",
              "  }\n",
              "\n",
              "  .colab-df-quickchart {\n",
              "    background-color: var(--bg-color);\n",
              "    border: none;\n",
              "    border-radius: 50%;\n",
              "    cursor: pointer;\n",
              "    display: none;\n",
              "    fill: var(--fill-color);\n",
              "    height: 32px;\n",
              "    padding: 0;\n",
              "    width: 32px;\n",
              "  }\n",
              "\n",
              "  .colab-df-quickchart:hover {\n",
              "    background-color: var(--hover-bg-color);\n",
              "    box-shadow: 0 1px 2px rgba(60, 64, 67, 0.3), 0 1px 3px 1px rgba(60, 64, 67, 0.15);\n",
              "    fill: var(--button-hover-fill-color);\n",
              "  }\n",
              "\n",
              "  .colab-df-quickchart-complete:disabled,\n",
              "  .colab-df-quickchart-complete:disabled:hover {\n",
              "    background-color: var(--disabled-bg-color);\n",
              "    fill: var(--disabled-fill-color);\n",
              "    box-shadow: none;\n",
              "  }\n",
              "\n",
              "  .colab-df-spinner {\n",
              "    border: 2px solid var(--fill-color);\n",
              "    border-color: transparent;\n",
              "    border-bottom-color: var(--fill-color);\n",
              "    animation:\n",
              "      spin 1s steps(1) infinite;\n",
              "  }\n",
              "\n",
              "  @keyframes spin {\n",
              "    0% {\n",
              "      border-color: transparent;\n",
              "      border-bottom-color: var(--fill-color);\n",
              "      border-left-color: var(--fill-color);\n",
              "    }\n",
              "    20% {\n",
              "      border-color: transparent;\n",
              "      border-left-color: var(--fill-color);\n",
              "      border-top-color: var(--fill-color);\n",
              "    }\n",
              "    30% {\n",
              "      border-color: transparent;\n",
              "      border-left-color: var(--fill-color);\n",
              "      border-top-color: var(--fill-color);\n",
              "      border-right-color: var(--fill-color);\n",
              "    }\n",
              "    40% {\n",
              "      border-color: transparent;\n",
              "      border-right-color: var(--fill-color);\n",
              "      border-top-color: var(--fill-color);\n",
              "    }\n",
              "    60% {\n",
              "      border-color: transparent;\n",
              "      border-right-color: var(--fill-color);\n",
              "    }\n",
              "    80% {\n",
              "      border-color: transparent;\n",
              "      border-right-color: var(--fill-color);\n",
              "      border-bottom-color: var(--fill-color);\n",
              "    }\n",
              "    90% {\n",
              "      border-color: transparent;\n",
              "      border-bottom-color: var(--fill-color);\n",
              "    }\n",
              "  }\n",
              "</style>\n",
              "\n",
              "  <script>\n",
              "    async function quickchart(key) {\n",
              "      const quickchartButtonEl =\n",
              "        document.querySelector('#' + key + ' button');\n",
              "      quickchartButtonEl.disabled = true;  // To prevent multiple clicks.\n",
              "      quickchartButtonEl.classList.add('colab-df-spinner');\n",
              "      try {\n",
              "        const charts = await google.colab.kernel.invokeFunction(\n",
              "            'suggestCharts', [key], {});\n",
              "      } catch (error) {\n",
              "        console.error('Error during call to suggestCharts:', error);\n",
              "      }\n",
              "      quickchartButtonEl.classList.remove('colab-df-spinner');\n",
              "      quickchartButtonEl.classList.add('colab-df-quickchart-complete');\n",
              "    }\n",
              "    (() => {\n",
              "      let quickchartButtonEl =\n",
              "        document.querySelector('#df-9bfea37a-4ec6-4512-8810-876c5ba04ee9 button');\n",
              "      quickchartButtonEl.style.display =\n",
              "        google.colab.kernel.accessAllowed ? 'block' : 'none';\n",
              "    })();\n",
              "  </script>\n",
              "</div>\n",
              "    </div>\n",
              "  </div>\n"
            ]
          },
          "metadata": {},
          "execution_count": 77
        }
      ],
      "source": [
        "train_encoded.head()"
      ]
    },
    {
      "cell_type": "code",
      "execution_count": 78,
      "metadata": {
        "id": "hdVuVpu0fo__"
      },
      "outputs": [],
      "source": [
        "linear_reg = LinearRegression()"
      ]
    },
    {
      "cell_type": "code",
      "execution_count": 79,
      "metadata": {
        "colab": {
          "base_uri": "https://localhost:8080/"
        },
        "id": "Hyzaqkr4fo__",
        "outputId": "8b84bd5c-adf5-4700-f4a9-39907fb8a8b9"
      },
      "outputs": [
        {
          "output_type": "stream",
          "name": "stdout",
          "text": [
            "CPU times: user 807 ms, sys: 530 ms, total: 1.34 s\n",
            "Wall time: 928 ms\n"
          ]
        },
        {
          "output_type": "execute_result",
          "data": {
            "text/plain": [
              "array([-2423.67844784, -2418.33348229, -2401.87859908])"
            ]
          },
          "metadata": {},
          "execution_count": 79
        }
      ],
      "source": [
        "%%time\n",
        "cross_val_score(\n",
        "    linear_reg,\n",
        "    train_encoded[encoded_features],\n",
        "    train_encoded[target],\n",
        "    scoring = 'neg_root_mean_squared_error',\n",
        "    cv = 3)"
      ]
    },
    {
      "cell_type": "code",
      "execution_count": 80,
      "metadata": {
        "colab": {
          "base_uri": "https://localhost:8080/",
          "height": 112
        },
        "id": "-rHCafGdfpAA",
        "outputId": "de4b5b02-82eb-475b-dbf7-980ebf2a1406"
      },
      "outputs": [
        {
          "output_type": "stream",
          "name": "stdout",
          "text": [
            "CPU times: user 375 ms, sys: 211 ms, total: 586 ms\n",
            "Wall time: 426 ms\n"
          ]
        },
        {
          "output_type": "execute_result",
          "data": {
            "text/plain": [
              "LinearRegression()"
            ],
            "text/html": [
              "<style>#sk-container-id-3 {color: black;background-color: white;}#sk-container-id-3 pre{padding: 0;}#sk-container-id-3 div.sk-toggleable {background-color: white;}#sk-container-id-3 label.sk-toggleable__label {cursor: pointer;display: block;width: 100%;margin-bottom: 0;padding: 0.3em;box-sizing: border-box;text-align: center;}#sk-container-id-3 label.sk-toggleable__label-arrow:before {content: \"▸\";float: left;margin-right: 0.25em;color: #696969;}#sk-container-id-3 label.sk-toggleable__label-arrow:hover:before {color: black;}#sk-container-id-3 div.sk-estimator:hover label.sk-toggleable__label-arrow:before {color: black;}#sk-container-id-3 div.sk-toggleable__content {max-height: 0;max-width: 0;overflow: hidden;text-align: left;background-color: #f0f8ff;}#sk-container-id-3 div.sk-toggleable__content pre {margin: 0.2em;color: black;border-radius: 0.25em;background-color: #f0f8ff;}#sk-container-id-3 input.sk-toggleable__control:checked~div.sk-toggleable__content {max-height: 200px;max-width: 100%;overflow: auto;}#sk-container-id-3 input.sk-toggleable__control:checked~label.sk-toggleable__label-arrow:before {content: \"▾\";}#sk-container-id-3 div.sk-estimator input.sk-toggleable__control:checked~label.sk-toggleable__label {background-color: #d4ebff;}#sk-container-id-3 div.sk-label input.sk-toggleable__control:checked~label.sk-toggleable__label {background-color: #d4ebff;}#sk-container-id-3 input.sk-hidden--visually {border: 0;clip: rect(1px 1px 1px 1px);clip: rect(1px, 1px, 1px, 1px);height: 1px;margin: -1px;overflow: hidden;padding: 0;position: absolute;width: 1px;}#sk-container-id-3 div.sk-estimator {font-family: monospace;background-color: #f0f8ff;border: 1px dotted black;border-radius: 0.25em;box-sizing: border-box;margin-bottom: 0.5em;}#sk-container-id-3 div.sk-estimator:hover {background-color: #d4ebff;}#sk-container-id-3 div.sk-parallel-item::after {content: \"\";width: 100%;border-bottom: 1px solid gray;flex-grow: 1;}#sk-container-id-3 div.sk-label:hover label.sk-toggleable__label {background-color: #d4ebff;}#sk-container-id-3 div.sk-serial::before {content: \"\";position: absolute;border-left: 1px solid gray;box-sizing: border-box;top: 0;bottom: 0;left: 50%;z-index: 0;}#sk-container-id-3 div.sk-serial {display: flex;flex-direction: column;align-items: center;background-color: white;padding-right: 0.2em;padding-left: 0.2em;position: relative;}#sk-container-id-3 div.sk-item {position: relative;z-index: 1;}#sk-container-id-3 div.sk-parallel {display: flex;align-items: stretch;justify-content: center;background-color: white;position: relative;}#sk-container-id-3 div.sk-item::before, #sk-container-id-3 div.sk-parallel-item::before {content: \"\";position: absolute;border-left: 1px solid gray;box-sizing: border-box;top: 0;bottom: 0;left: 50%;z-index: -1;}#sk-container-id-3 div.sk-parallel-item {display: flex;flex-direction: column;z-index: 1;position: relative;background-color: white;}#sk-container-id-3 div.sk-parallel-item:first-child::after {align-self: flex-end;width: 50%;}#sk-container-id-3 div.sk-parallel-item:last-child::after {align-self: flex-start;width: 50%;}#sk-container-id-3 div.sk-parallel-item:only-child::after {width: 0;}#sk-container-id-3 div.sk-dashed-wrapped {border: 1px dashed gray;margin: 0 0.4em 0.5em 0.4em;box-sizing: border-box;padding-bottom: 0.4em;background-color: white;}#sk-container-id-3 div.sk-label label {font-family: monospace;font-weight: bold;display: inline-block;line-height: 1.2em;}#sk-container-id-3 div.sk-label-container {text-align: center;}#sk-container-id-3 div.sk-container {/* jupyter's `normalize.less` sets `[hidden] { display: none; }` but bootstrap.min.css set `[hidden] { display: none !important; }` so we also need the `!important` here to be able to override the default hidden behavior on the sphinx rendered scikit-learn.org. See: https://github.com/scikit-learn/scikit-learn/issues/21755 */display: inline-block !important;position: relative;}#sk-container-id-3 div.sk-text-repr-fallback {display: none;}</style><div id=\"sk-container-id-3\" class=\"sk-top-container\"><div class=\"sk-text-repr-fallback\"><pre>LinearRegression()</pre><b>In a Jupyter environment, please rerun this cell to show the HTML representation or trust the notebook. <br />On GitHub, the HTML representation is unable to render, please try loading this page with nbviewer.org.</b></div><div class=\"sk-container\" hidden><div class=\"sk-item\"><div class=\"sk-estimator sk-toggleable\"><input class=\"sk-toggleable__control sk-hidden--visually\" id=\"sk-estimator-id-5\" type=\"checkbox\" checked><label for=\"sk-estimator-id-5\" class=\"sk-toggleable__label sk-toggleable__label-arrow\">LinearRegression</label><div class=\"sk-toggleable__content\"><pre>LinearRegression()</pre></div></div></div></div></div>"
            ]
          },
          "metadata": {},
          "execution_count": 80
        }
      ],
      "source": [
        "%%time\n",
        "linear_reg.fit(train_encoded[encoded_features], train_encoded[target])"
      ]
    },
    {
      "cell_type": "code",
      "execution_count": 81,
      "metadata": {
        "colab": {
          "base_uri": "https://localhost:8080/"
        },
        "id": "pbq-Q2ZlfpAA",
        "outputId": "ebba5c69-018e-442f-fe4e-cfcfb9ab6da5"
      },
      "outputs": [
        {
          "output_type": "stream",
          "name": "stdout",
          "text": [
            "CPU times: user 9.23 ms, sys: 12.8 ms, total: 22 ms\n",
            "Wall time: 12.8 ms\n"
          ]
        },
        {
          "output_type": "execute_result",
          "data": {
            "text/plain": [
              "array([ 7598.43848217,  1218.12211066,  2111.93697237, ...,\n",
              "       -4382.1920679 ,  3499.54223741,  5391.3402216 ])"
            ]
          },
          "metadata": {},
          "execution_count": 81
        }
      ],
      "source": [
        "%%time\n",
        "linear_reg.predict(test_encoded[encoded_features])"
      ]
    },
    {
      "cell_type": "code",
      "execution_count": 82,
      "metadata": {
        "colab": {
          "base_uri": "https://localhost:8080/"
        },
        "id": "8H7mOlXefpAA",
        "outputId": "d468e05b-e843-40d4-9bb2-ba5cc3e4185f"
      },
      "outputs": [
        {
          "output_type": "execute_result",
          "data": {
            "text/plain": [
              "2396.632828207559"
            ]
          },
          "metadata": {},
          "execution_count": 82
        }
      ],
      "source": [
        "linear_reg_rmse = mean_squared_error(test_encoded[target], linear_reg.predict(test_encoded[encoded_features]), squared = False)\n",
        "linear_reg_rmse"
      ]
    },
    {
      "cell_type": "code",
      "execution_count": 83,
      "metadata": {
        "id": "0fG56WCtfpAA"
      },
      "outputs": [],
      "source": [
        "lin_results = [linear_reg_rmse, 16.9, 0.132]"
      ]
    },
    {
      "cell_type": "markdown",
      "metadata": {
        "id": "rwaZey4PfpAB"
      },
      "source": [
        "Проведено обучение трёх моделей - LGBM, CatBoost и линейной регрессии, расчитаны значения целевой метрики - RMSE, для дальнейшего анализа сохранено время обучения/предсказания"
      ]
    },
    {
      "cell_type": "markdown",
      "metadata": {
        "id": "ujMvXNsgfpAB"
      },
      "source": [
        "## Анализ моделей"
      ]
    },
    {
      "cell_type": "code",
      "execution_count": 84,
      "metadata": {
        "id": "30AtF2aVfpAB"
      },
      "outputs": [],
      "source": [
        "scores = pd.DataFrame(\n",
        "    [lgbr_results, cat_results, lin_results],\n",
        "    index = ['LGBM', 'CatBoost', 'Linear regression'],\n",
        "    columns = ['test_RMSE', 'fit_time', 'predict_time']\n",
        ")"
      ]
    },
    {
      "cell_type": "code",
      "execution_count": 85,
      "metadata": {
        "colab": {
          "base_uri": "https://localhost:8080/",
          "height": 143
        },
        "id": "LUMakxBRfpAC",
        "outputId": "21253be9-cc6f-4af1-d448-c7df04b33eaf"
      },
      "outputs": [
        {
          "output_type": "execute_result",
          "data": {
            "text/plain": [
              "                     test_RMSE  fit_time  predict_time\n",
              "LGBM               1821.857421      63.0         0.200\n",
              "CatBoost           1465.243217     220.0         0.225\n",
              "Linear regression  2396.632828      16.9         0.132"
            ],
            "text/html": [
              "\n",
              "  <div id=\"df-a2519d9a-b5da-4136-a405-7afeea85933b\" class=\"colab-df-container\">\n",
              "    <div>\n",
              "<style scoped>\n",
              "    .dataframe tbody tr th:only-of-type {\n",
              "        vertical-align: middle;\n",
              "    }\n",
              "\n",
              "    .dataframe tbody tr th {\n",
              "        vertical-align: top;\n",
              "    }\n",
              "\n",
              "    .dataframe thead th {\n",
              "        text-align: right;\n",
              "    }\n",
              "</style>\n",
              "<table border=\"1\" class=\"dataframe\">\n",
              "  <thead>\n",
              "    <tr style=\"text-align: right;\">\n",
              "      <th></th>\n",
              "      <th>test_RMSE</th>\n",
              "      <th>fit_time</th>\n",
              "      <th>predict_time</th>\n",
              "    </tr>\n",
              "  </thead>\n",
              "  <tbody>\n",
              "    <tr>\n",
              "      <th>LGBM</th>\n",
              "      <td>1821.857421</td>\n",
              "      <td>63.0</td>\n",
              "      <td>0.200</td>\n",
              "    </tr>\n",
              "    <tr>\n",
              "      <th>CatBoost</th>\n",
              "      <td>1465.243217</td>\n",
              "      <td>220.0</td>\n",
              "      <td>0.225</td>\n",
              "    </tr>\n",
              "    <tr>\n",
              "      <th>Linear regression</th>\n",
              "      <td>2396.632828</td>\n",
              "      <td>16.9</td>\n",
              "      <td>0.132</td>\n",
              "    </tr>\n",
              "  </tbody>\n",
              "</table>\n",
              "</div>\n",
              "    <div class=\"colab-df-buttons\">\n",
              "\n",
              "  <div class=\"colab-df-container\">\n",
              "    <button class=\"colab-df-convert\" onclick=\"convertToInteractive('df-a2519d9a-b5da-4136-a405-7afeea85933b')\"\n",
              "            title=\"Convert this dataframe to an interactive table.\"\n",
              "            style=\"display:none;\">\n",
              "\n",
              "  <svg xmlns=\"http://www.w3.org/2000/svg\" height=\"24px\" viewBox=\"0 -960 960 960\">\n",
              "    <path d=\"M120-120v-720h720v720H120Zm60-500h600v-160H180v160Zm220 220h160v-160H400v160Zm0 220h160v-160H400v160ZM180-400h160v-160H180v160Zm440 0h160v-160H620v160ZM180-180h160v-160H180v160Zm440 0h160v-160H620v160Z\"/>\n",
              "  </svg>\n",
              "    </button>\n",
              "\n",
              "  <style>\n",
              "    .colab-df-container {\n",
              "      display:flex;\n",
              "      gap: 12px;\n",
              "    }\n",
              "\n",
              "    .colab-df-convert {\n",
              "      background-color: #E8F0FE;\n",
              "      border: none;\n",
              "      border-radius: 50%;\n",
              "      cursor: pointer;\n",
              "      display: none;\n",
              "      fill: #1967D2;\n",
              "      height: 32px;\n",
              "      padding: 0 0 0 0;\n",
              "      width: 32px;\n",
              "    }\n",
              "\n",
              "    .colab-df-convert:hover {\n",
              "      background-color: #E2EBFA;\n",
              "      box-shadow: 0px 1px 2px rgba(60, 64, 67, 0.3), 0px 1px 3px 1px rgba(60, 64, 67, 0.15);\n",
              "      fill: #174EA6;\n",
              "    }\n",
              "\n",
              "    .colab-df-buttons div {\n",
              "      margin-bottom: 4px;\n",
              "    }\n",
              "\n",
              "    [theme=dark] .colab-df-convert {\n",
              "      background-color: #3B4455;\n",
              "      fill: #D2E3FC;\n",
              "    }\n",
              "\n",
              "    [theme=dark] .colab-df-convert:hover {\n",
              "      background-color: #434B5C;\n",
              "      box-shadow: 0px 1px 3px 1px rgba(0, 0, 0, 0.15);\n",
              "      filter: drop-shadow(0px 1px 2px rgba(0, 0, 0, 0.3));\n",
              "      fill: #FFFFFF;\n",
              "    }\n",
              "  </style>\n",
              "\n",
              "    <script>\n",
              "      const buttonEl =\n",
              "        document.querySelector('#df-a2519d9a-b5da-4136-a405-7afeea85933b button.colab-df-convert');\n",
              "      buttonEl.style.display =\n",
              "        google.colab.kernel.accessAllowed ? 'block' : 'none';\n",
              "\n",
              "      async function convertToInteractive(key) {\n",
              "        const element = document.querySelector('#df-a2519d9a-b5da-4136-a405-7afeea85933b');\n",
              "        const dataTable =\n",
              "          await google.colab.kernel.invokeFunction('convertToInteractive',\n",
              "                                                    [key], {});\n",
              "        if (!dataTable) return;\n",
              "\n",
              "        const docLinkHtml = 'Like what you see? Visit the ' +\n",
              "          '<a target=\"_blank\" href=https://colab.research.google.com/notebooks/data_table.ipynb>data table notebook</a>'\n",
              "          + ' to learn more about interactive tables.';\n",
              "        element.innerHTML = '';\n",
              "        dataTable['output_type'] = 'display_data';\n",
              "        await google.colab.output.renderOutput(dataTable, element);\n",
              "        const docLink = document.createElement('div');\n",
              "        docLink.innerHTML = docLinkHtml;\n",
              "        element.appendChild(docLink);\n",
              "      }\n",
              "    </script>\n",
              "  </div>\n",
              "\n",
              "\n",
              "<div id=\"df-b976f6e3-6b2c-448b-b2d9-9e92bf8faa2e\">\n",
              "  <button class=\"colab-df-quickchart\" onclick=\"quickchart('df-b976f6e3-6b2c-448b-b2d9-9e92bf8faa2e')\"\n",
              "            title=\"Suggest charts\"\n",
              "            style=\"display:none;\">\n",
              "\n",
              "<svg xmlns=\"http://www.w3.org/2000/svg\" height=\"24px\"viewBox=\"0 0 24 24\"\n",
              "     width=\"24px\">\n",
              "    <g>\n",
              "        <path d=\"M19 3H5c-1.1 0-2 .9-2 2v14c0 1.1.9 2 2 2h14c1.1 0 2-.9 2-2V5c0-1.1-.9-2-2-2zM9 17H7v-7h2v7zm4 0h-2V7h2v10zm4 0h-2v-4h2v4z\"/>\n",
              "    </g>\n",
              "</svg>\n",
              "  </button>\n",
              "\n",
              "<style>\n",
              "  .colab-df-quickchart {\n",
              "      --bg-color: #E8F0FE;\n",
              "      --fill-color: #1967D2;\n",
              "      --hover-bg-color: #E2EBFA;\n",
              "      --hover-fill-color: #174EA6;\n",
              "      --disabled-fill-color: #AAA;\n",
              "      --disabled-bg-color: #DDD;\n",
              "  }\n",
              "\n",
              "  [theme=dark] .colab-df-quickchart {\n",
              "      --bg-color: #3B4455;\n",
              "      --fill-color: #D2E3FC;\n",
              "      --hover-bg-color: #434B5C;\n",
              "      --hover-fill-color: #FFFFFF;\n",
              "      --disabled-bg-color: #3B4455;\n",
              "      --disabled-fill-color: #666;\n",
              "  }\n",
              "\n",
              "  .colab-df-quickchart {\n",
              "    background-color: var(--bg-color);\n",
              "    border: none;\n",
              "    border-radius: 50%;\n",
              "    cursor: pointer;\n",
              "    display: none;\n",
              "    fill: var(--fill-color);\n",
              "    height: 32px;\n",
              "    padding: 0;\n",
              "    width: 32px;\n",
              "  }\n",
              "\n",
              "  .colab-df-quickchart:hover {\n",
              "    background-color: var(--hover-bg-color);\n",
              "    box-shadow: 0 1px 2px rgba(60, 64, 67, 0.3), 0 1px 3px 1px rgba(60, 64, 67, 0.15);\n",
              "    fill: var(--button-hover-fill-color);\n",
              "  }\n",
              "\n",
              "  .colab-df-quickchart-complete:disabled,\n",
              "  .colab-df-quickchart-complete:disabled:hover {\n",
              "    background-color: var(--disabled-bg-color);\n",
              "    fill: var(--disabled-fill-color);\n",
              "    box-shadow: none;\n",
              "  }\n",
              "\n",
              "  .colab-df-spinner {\n",
              "    border: 2px solid var(--fill-color);\n",
              "    border-color: transparent;\n",
              "    border-bottom-color: var(--fill-color);\n",
              "    animation:\n",
              "      spin 1s steps(1) infinite;\n",
              "  }\n",
              "\n",
              "  @keyframes spin {\n",
              "    0% {\n",
              "      border-color: transparent;\n",
              "      border-bottom-color: var(--fill-color);\n",
              "      border-left-color: var(--fill-color);\n",
              "    }\n",
              "    20% {\n",
              "      border-color: transparent;\n",
              "      border-left-color: var(--fill-color);\n",
              "      border-top-color: var(--fill-color);\n",
              "    }\n",
              "    30% {\n",
              "      border-color: transparent;\n",
              "      border-left-color: var(--fill-color);\n",
              "      border-top-color: var(--fill-color);\n",
              "      border-right-color: var(--fill-color);\n",
              "    }\n",
              "    40% {\n",
              "      border-color: transparent;\n",
              "      border-right-color: var(--fill-color);\n",
              "      border-top-color: var(--fill-color);\n",
              "    }\n",
              "    60% {\n",
              "      border-color: transparent;\n",
              "      border-right-color: var(--fill-color);\n",
              "    }\n",
              "    80% {\n",
              "      border-color: transparent;\n",
              "      border-right-color: var(--fill-color);\n",
              "      border-bottom-color: var(--fill-color);\n",
              "    }\n",
              "    90% {\n",
              "      border-color: transparent;\n",
              "      border-bottom-color: var(--fill-color);\n",
              "    }\n",
              "  }\n",
              "</style>\n",
              "\n",
              "  <script>\n",
              "    async function quickchart(key) {\n",
              "      const quickchartButtonEl =\n",
              "        document.querySelector('#' + key + ' button');\n",
              "      quickchartButtonEl.disabled = true;  // To prevent multiple clicks.\n",
              "      quickchartButtonEl.classList.add('colab-df-spinner');\n",
              "      try {\n",
              "        const charts = await google.colab.kernel.invokeFunction(\n",
              "            'suggestCharts', [key], {});\n",
              "      } catch (error) {\n",
              "        console.error('Error during call to suggestCharts:', error);\n",
              "      }\n",
              "      quickchartButtonEl.classList.remove('colab-df-spinner');\n",
              "      quickchartButtonEl.classList.add('colab-df-quickchart-complete');\n",
              "    }\n",
              "    (() => {\n",
              "      let quickchartButtonEl =\n",
              "        document.querySelector('#df-b976f6e3-6b2c-448b-b2d9-9e92bf8faa2e button');\n",
              "      quickchartButtonEl.style.display =\n",
              "        google.colab.kernel.accessAllowed ? 'block' : 'none';\n",
              "    })();\n",
              "  </script>\n",
              "</div>\n",
              "    </div>\n",
              "  </div>\n"
            ]
          },
          "metadata": {},
          "execution_count": 85
        }
      ],
      "source": [
        "scores"
      ]
    },
    {
      "cell_type": "markdown",
      "metadata": {
        "id": "Hs5vBi8ffpAC"
      },
      "source": [
        "Наиболее точные предсказания у модели CatBoost, время предсказания сходно с LGBM, однако время обучения значительно дольше. Модель базовой линейной регрессии показывает худшие результаты (которые, тем не менее, укладываются в заданный порог в 2500), но при этом обучается и формирует предсказания быстрее всего."
      ]
    },
    {
      "cell_type": "markdown",
      "metadata": {
        "id": "oTHqLRbafpAC"
      },
      "source": [
        "## Вывод"
      ]
    },
    {
      "cell_type": "markdown",
      "metadata": {
        "id": "B_muOTk3fpAC"
      },
      "source": [
        "Изучены данные о ценах на автомобили с пробегом.\n",
        "\n",
        "1. Проведена предобработка данных\n",
        "    - проведено преобразование данных с датами/временем к типу `datetime`\n",
        "    - удалены пропуски в признаке `model`\n",
        "    - пропуски в признаке `repaired` заменены заглушками\n",
        "    - пропуски в категориальных переменных заполнены модами по соответствующим моделям\n",
        "2. Проведена обработка выбросов\n",
        "    - удалены данные с неправдоподобными ценами и годами регистрации\n",
        "    - аномальные данные о мощности заполнены медианами по соответствующим моделям\n",
        "    - для оценки выбросов в данных о пробеге был расчитан среднегодовой пробег, удалены данные с аномально высоким среднегодовым пробегом\n",
        "    - итого удалено ~12% данных\n",
        "3. Проведено сравнение моделей машинного обучения - LGBM, CatBoost и линейной регрессии.\n",
        "    - наиболее высокую скорость обучения показывает линейная регрессия - обучение ~ в 3.3 раза быстрее LGBM и ~ в 11.5 раз быстрее CatBoost\n",
        "    - наименьшее время предсказаний также показывает линейная регрессия, однако разница между ней и наиболее медленным CatBoost меньше 100 мс\n",
        "    - все модели имеют тестовое значение RMSE ниже порогового (2500), наименьшее значение у CatBoost (1461)\n",
        "4. Поскольку чёткие критерии о важности точности и скорости в задании отсутствуют, то наилучшим вариантом будет LGBM с приемлемой скоростью работы и точностью предсказаний. Однако, если клиенту важна точность предсказаний, то можно рекомендовать CatBoost - обучается он гораздо медленнее, но скорость предсказаний сопоставима с LGBM при гораздо более высокой точности"
      ]
    }
  ],
  "metadata": {
    "ExecuteTimeLog": [
      {
        "duration": 1804,
        "start_time": "2023-07-12T16:34:15.095Z"
      },
      {
        "duration": 4,
        "start_time": "2023-07-12T16:36:02.166Z"
      },
      {
        "duration": 1753,
        "start_time": "2023-07-12T16:36:22.399Z"
      },
      {
        "duration": 18,
        "start_time": "2023-07-12T16:36:26.628Z"
      },
      {
        "duration": 149,
        "start_time": "2023-07-12T16:36:48.215Z"
      },
      {
        "duration": 114,
        "start_time": "2023-07-12T16:37:47.196Z"
      },
      {
        "duration": 276,
        "start_time": "2023-07-12T16:38:25.823Z"
      },
      {
        "duration": 76,
        "start_time": "2023-07-12T16:41:04.148Z"
      },
      {
        "duration": 4,
        "start_time": "2023-07-12T16:58:00.317Z"
      },
      {
        "duration": 110,
        "start_time": "2023-07-12T16:59:35.189Z"
      },
      {
        "duration": 23117,
        "start_time": "2023-07-12T16:59:44.589Z"
      },
      {
        "duration": 74,
        "start_time": "2023-07-12T17:00:18.801Z"
      },
      {
        "duration": 17,
        "start_time": "2023-07-12T17:00:57.098Z"
      },
      {
        "duration": 59,
        "start_time": "2023-07-12T17:01:10.321Z"
      },
      {
        "duration": 4,
        "start_time": "2023-07-12T17:01:13.455Z"
      },
      {
        "duration": 21237,
        "start_time": "2023-07-12T17:01:14.215Z"
      },
      {
        "duration": 78,
        "start_time": "2023-07-12T17:01:39.625Z"
      },
      {
        "duration": 4,
        "start_time": "2023-07-12T17:02:33.427Z"
      },
      {
        "duration": 1258,
        "start_time": "2023-07-12T17:02:33.433Z"
      },
      {
        "duration": 15,
        "start_time": "2023-07-12T17:02:34.692Z"
      },
      {
        "duration": 130,
        "start_time": "2023-07-12T17:02:34.708Z"
      },
      {
        "duration": 223,
        "start_time": "2023-07-12T17:02:34.841Z"
      },
      {
        "duration": 86,
        "start_time": "2023-07-12T17:02:35.066Z"
      },
      {
        "duration": 48,
        "start_time": "2023-07-12T17:02:35.153Z"
      },
      {
        "duration": 3,
        "start_time": "2023-07-12T17:02:35.203Z"
      },
      {
        "duration": 21388,
        "start_time": "2023-07-12T17:02:35.208Z"
      },
      {
        "duration": 19,
        "start_time": "2023-07-12T17:02:56.598Z"
      },
      {
        "duration": 79,
        "start_time": "2023-07-12T17:02:56.619Z"
      },
      {
        "duration": 1551,
        "start_time": "2023-07-12T17:05:23.760Z"
      },
      {
        "duration": 5,
        "start_time": "2023-07-12T17:06:10.699Z"
      },
      {
        "duration": 19,
        "start_time": "2023-07-12T17:06:17.738Z"
      },
      {
        "duration": 185,
        "start_time": "2023-07-12T17:06:40.713Z"
      },
      {
        "duration": 8,
        "start_time": "2023-07-12T17:07:46.651Z"
      },
      {
        "duration": 235,
        "start_time": "2023-07-12T17:07:56.409Z"
      },
      {
        "duration": 134,
        "start_time": "2023-07-12T17:08:23.731Z"
      },
      {
        "duration": 6,
        "start_time": "2023-07-12T17:09:29.763Z"
      },
      {
        "duration": 5,
        "start_time": "2023-07-12T17:10:08.543Z"
      },
      {
        "duration": 5,
        "start_time": "2023-07-12T17:10:26.591Z"
      },
      {
        "duration": 5,
        "start_time": "2023-07-12T17:10:36.290Z"
      },
      {
        "duration": 2,
        "start_time": "2023-07-12T17:11:47.198Z"
      },
      {
        "duration": 5,
        "start_time": "2023-07-12T17:12:32.100Z"
      },
      {
        "duration": 29,
        "start_time": "2023-07-12T17:14:26.070Z"
      },
      {
        "duration": 169,
        "start_time": "2023-07-12T17:15:06.431Z"
      },
      {
        "duration": 17,
        "start_time": "2023-07-12T17:15:48.910Z"
      },
      {
        "duration": 81,
        "start_time": "2023-07-12T17:18:54.130Z"
      },
      {
        "duration": 190,
        "start_time": "2023-07-12T17:19:34.795Z"
      },
      {
        "duration": 17,
        "start_time": "2023-07-12T17:20:08.862Z"
      },
      {
        "duration": 37,
        "start_time": "2023-07-12T17:25:39.606Z"
      },
      {
        "duration": 4317,
        "start_time": "2023-07-12T17:25:48.813Z"
      },
      {
        "duration": 178,
        "start_time": "2023-07-12T17:26:04.458Z"
      },
      {
        "duration": 23,
        "start_time": "2023-07-12T17:26:13.198Z"
      },
      {
        "duration": 46,
        "start_time": "2023-07-12T17:26:38.195Z"
      },
      {
        "duration": 36,
        "start_time": "2023-07-12T17:26:46.886Z"
      },
      {
        "duration": 27,
        "start_time": "2023-07-12T17:27:09.500Z"
      },
      {
        "duration": 2495,
        "start_time": "2023-07-12T17:28:52.168Z"
      },
      {
        "duration": 17,
        "start_time": "2023-07-12T17:29:08.334Z"
      },
      {
        "duration": 6,
        "start_time": "2023-07-12T17:29:22.902Z"
      },
      {
        "duration": 72,
        "start_time": "2023-07-12T17:34:28.554Z"
      },
      {
        "duration": 19,
        "start_time": "2023-07-12T17:34:36.404Z"
      },
      {
        "duration": 21,
        "start_time": "2023-07-12T17:34:45.414Z"
      },
      {
        "duration": 164,
        "start_time": "2023-07-12T17:35:38.805Z"
      },
      {
        "duration": 196,
        "start_time": "2023-07-12T17:35:49.368Z"
      },
      {
        "duration": 15,
        "start_time": "2023-07-12T17:36:17.172Z"
      },
      {
        "duration": 9,
        "start_time": "2023-07-12T17:36:52.605Z"
      },
      {
        "duration": 42,
        "start_time": "2023-07-12T17:37:07.530Z"
      },
      {
        "duration": 39,
        "start_time": "2023-07-12T17:37:20.699Z"
      },
      {
        "duration": 11,
        "start_time": "2023-07-12T17:37:39.411Z"
      },
      {
        "duration": 8,
        "start_time": "2023-07-12T17:37:49.294Z"
      },
      {
        "duration": 11,
        "start_time": "2023-07-12T17:39:05.027Z"
      },
      {
        "duration": 5,
        "start_time": "2023-07-12T17:39:07.954Z"
      },
      {
        "duration": 7,
        "start_time": "2023-07-12T17:40:15.248Z"
      },
      {
        "duration": 269,
        "start_time": "2023-07-12T17:41:16.757Z"
      },
      {
        "duration": 219,
        "start_time": "2023-07-12T17:41:54.422Z"
      },
      {
        "duration": 143,
        "start_time": "2023-07-12T17:42:04.935Z"
      },
      {
        "duration": 134,
        "start_time": "2023-07-12T17:42:14.503Z"
      },
      {
        "duration": 144,
        "start_time": "2023-07-12T17:42:23.136Z"
      },
      {
        "duration": 24,
        "start_time": "2023-07-12T17:42:39.643Z"
      },
      {
        "duration": 10,
        "start_time": "2023-07-12T17:46:36.251Z"
      },
      {
        "duration": 10,
        "start_time": "2023-07-12T17:47:22.976Z"
      },
      {
        "duration": 8,
        "start_time": "2023-07-12T17:47:30.957Z"
      },
      {
        "duration": 31,
        "start_time": "2023-07-12T17:47:50.487Z"
      },
      {
        "duration": 26,
        "start_time": "2023-07-12T17:47:53.908Z"
      },
      {
        "duration": 29,
        "start_time": "2023-07-12T17:48:16.837Z"
      },
      {
        "duration": 4,
        "start_time": "2023-07-12T17:49:15.991Z"
      },
      {
        "duration": 4,
        "start_time": "2023-07-12T17:49:36.641Z"
      },
      {
        "duration": 28,
        "start_time": "2023-07-12T17:52:29.127Z"
      },
      {
        "duration": 4,
        "start_time": "2023-07-12T17:53:04.295Z"
      },
      {
        "duration": 142,
        "start_time": "2023-07-12T17:53:38.987Z"
      },
      {
        "duration": 48,
        "start_time": "2023-07-12T17:54:19.940Z"
      },
      {
        "duration": 402,
        "start_time": "2023-07-12T17:54:56.368Z"
      },
      {
        "duration": 387,
        "start_time": "2023-07-12T17:55:04.507Z"
      },
      {
        "duration": 1286,
        "start_time": "2023-07-12T17:55:53.513Z"
      },
      {
        "duration": 4,
        "start_time": "2023-07-12T17:57:07.371Z"
      },
      {
        "duration": 4,
        "start_time": "2023-07-12T17:57:12.088Z"
      },
      {
        "duration": 1070023,
        "start_time": "2023-07-12T17:57:45.044Z"
      },
      {
        "duration": 3,
        "start_time": "2023-07-12T18:15:56.044Z"
      },
      {
        "duration": 3,
        "start_time": "2023-07-12T18:15:56.792Z"
      },
      {
        "duration": 12017,
        "start_time": "2023-07-12T18:15:57.505Z"
      },
      {
        "duration": 220447,
        "start_time": "2023-07-12T18:16:45.648Z"
      },
      {
        "duration": 150316,
        "start_time": "2023-07-12T18:20:36.889Z"
      },
      {
        "duration": 12994,
        "start_time": "2023-07-12T18:23:21.916Z"
      },
      {
        "duration": 1555,
        "start_time": "2023-07-12T18:23:53.533Z"
      },
      {
        "duration": 1568,
        "start_time": "2023-07-12T18:24:03.412Z"
      },
      {
        "duration": 11578,
        "start_time": "2023-07-12T18:24:31.400Z"
      },
      {
        "duration": 3,
        "start_time": "2023-07-12T18:25:00.693Z"
      },
      {
        "duration": 26671,
        "start_time": "2023-07-12T18:25:04.206Z"
      },
      {
        "duration": 167328,
        "start_time": "2023-07-12T18:25:48.833Z"
      },
      {
        "duration": 38562,
        "start_time": "2023-07-12T18:28:42.897Z"
      },
      {
        "duration": 3,
        "start_time": "2023-07-12T18:30:06.166Z"
      },
      {
        "duration": 3,
        "start_time": "2023-07-12T18:30:09.097Z"
      },
      {
        "duration": 797200,
        "start_time": "2023-07-12T18:30:19.594Z"
      },
      {
        "duration": 19,
        "start_time": "2023-07-12T18:44:45.612Z"
      },
      {
        "duration": 186,
        "start_time": "2023-07-12T18:47:01.867Z"
      },
      {
        "duration": 119,
        "start_time": "2023-07-12T18:47:45.685Z"
      },
      {
        "duration": 110,
        "start_time": "2023-07-12T18:48:34.578Z"
      },
      {
        "duration": 109,
        "start_time": "2023-07-12T18:50:07.564Z"
      },
      {
        "duration": 90,
        "start_time": "2023-07-12T18:50:54.103Z"
      },
      {
        "duration": 58,
        "start_time": "2023-07-12T18:51:39.521Z"
      },
      {
        "duration": 121,
        "start_time": "2023-07-12T18:51:49.547Z"
      },
      {
        "duration": 63,
        "start_time": "2023-07-12T18:53:05.626Z"
      },
      {
        "duration": 10,
        "start_time": "2023-07-12T18:53:46.837Z"
      },
      {
        "duration": 23,
        "start_time": "2023-07-12T18:55:02.673Z"
      },
      {
        "duration": 8,
        "start_time": "2023-07-12T18:55:32.605Z"
      },
      {
        "duration": 4,
        "start_time": "2023-07-12T18:56:41.310Z"
      },
      {
        "duration": 1877,
        "start_time": "2023-07-13T04:51:57.452Z"
      },
      {
        "duration": 1863,
        "start_time": "2023-07-13T04:51:59.331Z"
      },
      {
        "duration": 22,
        "start_time": "2023-07-13T04:52:01.196Z"
      },
      {
        "duration": 185,
        "start_time": "2023-07-13T04:52:01.220Z"
      },
      {
        "duration": 42,
        "start_time": "2023-07-13T04:52:01.411Z"
      },
      {
        "duration": 363,
        "start_time": "2023-07-13T04:52:01.455Z"
      },
      {
        "duration": 89,
        "start_time": "2023-07-13T04:52:01.821Z"
      },
      {
        "duration": 71,
        "start_time": "2023-07-13T04:52:01.912Z"
      },
      {
        "duration": 4,
        "start_time": "2023-07-13T04:52:01.985Z"
      },
      {
        "duration": 23195,
        "start_time": "2023-07-13T04:52:01.991Z"
      },
      {
        "duration": 23,
        "start_time": "2023-07-13T04:52:25.187Z"
      },
      {
        "duration": 128,
        "start_time": "2023-07-13T04:52:25.212Z"
      },
      {
        "duration": 237,
        "start_time": "2023-07-13T04:52:25.342Z"
      },
      {
        "duration": 31,
        "start_time": "2023-07-13T04:52:25.582Z"
      },
      {
        "duration": 36,
        "start_time": "2023-07-13T04:52:25.614Z"
      },
      {
        "duration": 225,
        "start_time": "2023-07-13T04:52:25.652Z"
      },
      {
        "duration": 30,
        "start_time": "2023-07-13T04:52:25.879Z"
      },
      {
        "duration": 107,
        "start_time": "2023-07-13T04:52:25.911Z"
      },
      {
        "duration": 199,
        "start_time": "2023-07-13T04:52:26.020Z"
      },
      {
        "duration": 18,
        "start_time": "2023-07-13T04:52:26.220Z"
      },
      {
        "duration": 4716,
        "start_time": "2023-07-13T04:52:26.240Z"
      },
      {
        "duration": 22,
        "start_time": "2023-07-13T04:52:30.958Z"
      },
      {
        "duration": 70,
        "start_time": "2023-07-13T04:52:30.982Z"
      },
      {
        "duration": 78,
        "start_time": "2023-07-13T04:52:31.054Z"
      },
      {
        "duration": 61,
        "start_time": "2023-07-13T04:52:31.135Z"
      },
      {
        "duration": 235,
        "start_time": "2023-07-13T04:52:31.197Z"
      },
      {
        "duration": 17,
        "start_time": "2023-07-13T04:52:31.434Z"
      },
      {
        "duration": 14,
        "start_time": "2023-07-13T04:52:31.453Z"
      },
      {
        "duration": 47,
        "start_time": "2023-07-13T04:52:31.469Z"
      },
      {
        "duration": 51,
        "start_time": "2023-07-13T04:52:31.518Z"
      },
      {
        "duration": 5,
        "start_time": "2023-07-13T04:52:31.571Z"
      },
      {
        "duration": 39,
        "start_time": "2023-07-13T04:52:31.578Z"
      },
      {
        "duration": 53,
        "start_time": "2023-07-13T04:52:31.619Z"
      },
      {
        "duration": 29,
        "start_time": "2023-07-13T04:52:31.674Z"
      },
      {
        "duration": 161,
        "start_time": "2023-07-13T04:52:31.705Z"
      },
      {
        "duration": 48,
        "start_time": "2023-07-13T04:52:31.868Z"
      },
      {
        "duration": 519,
        "start_time": "2023-07-13T04:52:31.918Z"
      },
      {
        "duration": 391,
        "start_time": "2023-07-13T04:52:32.439Z"
      },
      {
        "duration": 1160,
        "start_time": "2023-07-13T04:52:32.832Z"
      },
      {
        "duration": 3,
        "start_time": "2023-07-13T04:52:33.994Z"
      },
      {
        "duration": 4,
        "start_time": "2023-07-13T04:53:55.256Z"
      },
      {
        "duration": 3,
        "start_time": "2023-07-13T04:54:24.871Z"
      },
      {
        "duration": 570152,
        "start_time": "2023-07-13T04:54:30.426Z"
      },
      {
        "duration": 132,
        "start_time": "2023-07-13T05:05:19.625Z"
      },
      {
        "duration": 32965,
        "start_time": "2023-07-13T05:05:24.162Z"
      },
      {
        "duration": 619391,
        "start_time": "2023-07-13T05:06:01.595Z"
      },
      {
        "duration": 14,
        "start_time": "2023-07-13T05:17:10.763Z"
      },
      {
        "duration": 129,
        "start_time": "2023-07-13T05:24:14.004Z"
      },
      {
        "duration": 264721,
        "start_time": "2023-07-13T05:24:24.865Z"
      },
      {
        "duration": 142,
        "start_time": "2023-07-13T05:28:49.588Z"
      },
      {
        "duration": 327,
        "start_time": "2023-07-13T05:28:49.732Z"
      },
      {
        "duration": 323,
        "start_time": "2023-07-13T05:28:50.062Z"
      },
      {
        "duration": 3,
        "start_time": "2023-07-13T05:29:51.537Z"
      },
      {
        "duration": 16,
        "start_time": "2023-07-13T05:31:21.985Z"
      },
      {
        "duration": 1186,
        "start_time": "2023-07-13T05:31:30.619Z"
      },
      {
        "duration": 1237,
        "start_time": "2023-07-13T05:31:59.925Z"
      },
      {
        "duration": 12,
        "start_time": "2023-07-13T05:33:13.185Z"
      },
      {
        "duration": 52,
        "start_time": "2023-07-13T05:33:17.662Z"
      },
      {
        "duration": 4,
        "start_time": "2023-07-13T05:33:24.436Z"
      },
      {
        "duration": 11,
        "start_time": "2023-07-13T05:33:56.161Z"
      },
      {
        "duration": 12,
        "start_time": "2023-07-13T05:34:52.559Z"
      },
      {
        "duration": 12,
        "start_time": "2023-07-13T05:34:59.352Z"
      },
      {
        "duration": 10,
        "start_time": "2023-07-13T05:35:01.754Z"
      },
      {
        "duration": 10,
        "start_time": "2023-07-13T05:35:11.330Z"
      },
      {
        "duration": 5,
        "start_time": "2023-07-13T05:35:29.334Z"
      },
      {
        "duration": 16,
        "start_time": "2023-07-13T05:36:11.105Z"
      },
      {
        "duration": 4625,
        "start_time": "2023-07-13T05:36:16.064Z"
      },
      {
        "duration": 4,
        "start_time": "2023-07-13T05:36:32.276Z"
      },
      {
        "duration": 3,
        "start_time": "2023-07-13T05:36:41.084Z"
      },
      {
        "duration": 38134,
        "start_time": "2023-07-13T05:36:58.296Z"
      },
      {
        "duration": 161,
        "start_time": "2023-07-13T05:37:50.829Z"
      },
      {
        "duration": 1750,
        "start_time": "2023-07-13T05:38:05.019Z"
      },
      {
        "duration": 1691,
        "start_time": "2023-07-13T05:38:06.772Z"
      },
      {
        "duration": 18,
        "start_time": "2023-07-13T05:38:08.465Z"
      },
      {
        "duration": 142,
        "start_time": "2023-07-13T05:38:08.485Z"
      },
      {
        "duration": 3,
        "start_time": "2023-07-13T05:38:08.629Z"
      },
      {
        "duration": 326,
        "start_time": "2023-07-13T05:38:08.634Z"
      },
      {
        "duration": 85,
        "start_time": "2023-07-13T05:38:08.962Z"
      },
      {
        "duration": 81,
        "start_time": "2023-07-13T05:38:09.049Z"
      },
      {
        "duration": 4,
        "start_time": "2023-07-13T05:38:09.132Z"
      },
      {
        "duration": 22542,
        "start_time": "2023-07-13T05:38:09.138Z"
      },
      {
        "duration": 32,
        "start_time": "2023-07-13T05:38:31.682Z"
      },
      {
        "duration": 85,
        "start_time": "2023-07-13T05:38:31.716Z"
      },
      {
        "duration": 223,
        "start_time": "2023-07-13T05:38:31.803Z"
      },
      {
        "duration": 20,
        "start_time": "2023-07-13T05:38:32.029Z"
      },
      {
        "duration": 85,
        "start_time": "2023-07-13T05:38:32.050Z"
      },
      {
        "duration": 231,
        "start_time": "2023-07-13T05:38:32.137Z"
      },
      {
        "duration": 19,
        "start_time": "2023-07-13T05:38:32.372Z"
      },
      {
        "duration": 169,
        "start_time": "2023-07-13T05:38:32.393Z"
      },
      {
        "duration": 214,
        "start_time": "2023-07-13T05:38:32.564Z"
      },
      {
        "duration": 29,
        "start_time": "2023-07-13T05:38:32.780Z"
      },
      {
        "duration": 4671,
        "start_time": "2023-07-13T05:38:32.811Z"
      },
      {
        "duration": 35,
        "start_time": "2023-07-13T05:38:37.484Z"
      },
      {
        "duration": 12,
        "start_time": "2023-07-13T05:38:37.520Z"
      },
      {
        "duration": 42,
        "start_time": "2023-07-13T05:38:37.534Z"
      },
      {
        "duration": 56,
        "start_time": "2023-07-13T05:38:37.577Z"
      },
      {
        "duration": 213,
        "start_time": "2023-07-13T05:38:37.635Z"
      },
      {
        "duration": 22,
        "start_time": "2023-07-13T05:38:37.851Z"
      },
      {
        "duration": 17,
        "start_time": "2023-07-13T05:38:37.876Z"
      },
      {
        "duration": 36,
        "start_time": "2023-07-13T05:38:37.910Z"
      },
      {
        "duration": 44,
        "start_time": "2023-07-13T05:38:37.949Z"
      },
      {
        "duration": 5,
        "start_time": "2023-07-13T05:38:37.995Z"
      },
      {
        "duration": 57,
        "start_time": "2023-07-13T05:38:38.002Z"
      },
      {
        "duration": 127,
        "start_time": "2023-07-13T05:38:38.061Z"
      },
      {
        "duration": 5,
        "start_time": "2023-07-13T05:38:38.190Z"
      },
      {
        "duration": 163,
        "start_time": "2023-07-13T05:38:38.197Z"
      },
      {
        "duration": 38,
        "start_time": "2023-07-13T05:38:38.362Z"
      },
      {
        "duration": 521,
        "start_time": "2023-07-13T05:38:38.402Z"
      },
      {
        "duration": 390,
        "start_time": "2023-07-13T05:38:38.925Z"
      },
      {
        "duration": 1249,
        "start_time": "2023-07-13T05:38:39.317Z"
      },
      {
        "duration": 5307,
        "start_time": "2023-07-13T05:38:51.243Z"
      },
      {
        "duration": 4,
        "start_time": "2023-07-13T05:38:56.553Z"
      },
      {
        "duration": 22,
        "start_time": "2023-07-13T05:38:56.558Z"
      },
      {
        "duration": 61629,
        "start_time": "2023-07-13T05:38:56.582Z"
      },
      {
        "duration": 26748,
        "start_time": "2023-07-13T05:42:28.370Z"
      },
      {
        "duration": 169,
        "start_time": "2023-07-13T05:43:16.963Z"
      },
      {
        "duration": 111,
        "start_time": "2023-07-13T05:43:21.421Z"
      },
      {
        "duration": 145,
        "start_time": "2023-07-13T05:43:56.007Z"
      },
      {
        "duration": 5,
        "start_time": "2023-07-13T05:44:13.523Z"
      },
      {
        "duration": 46,
        "start_time": "2023-07-13T05:44:24.539Z"
      },
      {
        "duration": 128,
        "start_time": "2023-07-13T05:44:30.698Z"
      },
      {
        "duration": 44,
        "start_time": "2023-07-13T05:44:58.831Z"
      },
      {
        "duration": 5846,
        "start_time": "2023-07-13T05:45:09.900Z"
      },
      {
        "duration": 6,
        "start_time": "2023-07-13T05:45:20.964Z"
      },
      {
        "duration": 42,
        "start_time": "2023-07-13T05:45:26.471Z"
      },
      {
        "duration": 139,
        "start_time": "2023-07-13T05:45:55.307Z"
      },
      {
        "duration": 204,
        "start_time": "2023-07-13T05:46:01.098Z"
      },
      {
        "duration": 5576,
        "start_time": "2023-07-13T05:46:26.898Z"
      },
      {
        "duration": 155,
        "start_time": "2023-07-13T05:46:37.764Z"
      },
      {
        "duration": 83,
        "start_time": "2023-07-13T05:47:12.330Z"
      },
      {
        "duration": 13,
        "start_time": "2023-07-13T05:47:25.507Z"
      },
      {
        "duration": 97,
        "start_time": "2023-07-13T05:47:29.394Z"
      },
      {
        "duration": 107,
        "start_time": "2023-07-13T05:47:29.493Z"
      },
      {
        "duration": 12,
        "start_time": "2023-07-13T05:47:29.602Z"
      },
      {
        "duration": 3,
        "start_time": "2023-07-13T05:47:36.565Z"
      },
      {
        "duration": 26253,
        "start_time": "2023-07-13T05:47:38.566Z"
      },
      {
        "duration": 189,
        "start_time": "2023-07-13T05:48:04.822Z"
      },
      {
        "duration": 196,
        "start_time": "2023-07-13T05:48:05.014Z"
      },
      {
        "duration": 3,
        "start_time": "2023-07-13T05:48:55.939Z"
      },
      {
        "duration": 3,
        "start_time": "2023-07-13T05:49:05.753Z"
      },
      {
        "duration": 4,
        "start_time": "2023-07-13T05:49:06.618Z"
      },
      {
        "duration": 26086,
        "start_time": "2023-07-13T05:49:10.032Z"
      },
      {
        "duration": 20,
        "start_time": "2023-07-13T05:49:36.120Z"
      },
      {
        "duration": 2,
        "start_time": "2023-07-13T05:50:55.188Z"
      },
      {
        "duration": 252,
        "start_time": "2023-07-13T05:50:56.704Z"
      },
      {
        "duration": 163,
        "start_time": "2023-07-13T05:51:20.167Z"
      },
      {
        "duration": 5,
        "start_time": "2023-07-13T05:51:31.787Z"
      },
      {
        "duration": 306,
        "start_time": "2023-07-13T05:51:39.990Z"
      },
      {
        "duration": 1781,
        "start_time": "2023-07-13T05:51:49.139Z"
      },
      {
        "duration": 31,
        "start_time": "2023-07-13T05:52:02.913Z"
      },
      {
        "duration": 3,
        "start_time": "2023-07-13T05:52:17.559Z"
      },
      {
        "duration": 4,
        "start_time": "2023-07-13T05:52:18.304Z"
      },
      {
        "duration": 38175,
        "start_time": "2023-07-13T05:52:18.801Z"
      },
      {
        "duration": 3,
        "start_time": "2023-07-13T05:53:03.527Z"
      },
      {
        "duration": 3,
        "start_time": "2023-07-13T05:53:03.924Z"
      },
      {
        "duration": 24899,
        "start_time": "2023-07-13T05:53:04.319Z"
      },
      {
        "duration": 20,
        "start_time": "2023-07-13T05:53:29.220Z"
      },
      {
        "duration": 13,
        "start_time": "2023-07-13T05:54:35.260Z"
      },
      {
        "duration": 27,
        "start_time": "2023-07-13T05:54:38.567Z"
      },
      {
        "duration": 4,
        "start_time": "2023-07-13T05:54:39.491Z"
      },
      {
        "duration": 13,
        "start_time": "2023-07-13T05:56:42.900Z"
      },
      {
        "duration": 13,
        "start_time": "2023-07-13T05:56:49.132Z"
      },
      {
        "duration": 12,
        "start_time": "2023-07-13T05:56:57.328Z"
      },
      {
        "duration": 12,
        "start_time": "2023-07-13T05:57:04.027Z"
      },
      {
        "duration": 85,
        "start_time": "2023-07-13T05:57:08.396Z"
      },
      {
        "duration": 145,
        "start_time": "2023-07-13T05:57:13.312Z"
      },
      {
        "duration": 262373,
        "start_time": "2023-07-13T05:57:17.307Z"
      },
      {
        "duration": 299,
        "start_time": "2023-07-13T06:01:39.682Z"
      },
      {
        "duration": 312,
        "start_time": "2023-07-13T06:01:39.983Z"
      },
      {
        "duration": 3,
        "start_time": "2023-07-13T06:01:40.298Z"
      },
      {
        "duration": 47,
        "start_time": "2023-07-13T06:01:40.309Z"
      },
      {
        "duration": 0,
        "start_time": "2023-07-13T06:01:40.357Z"
      },
      {
        "duration": 4,
        "start_time": "2023-07-13T06:04:37.193Z"
      },
      {
        "duration": 10,
        "start_time": "2023-07-13T06:04:38.092Z"
      },
      {
        "duration": 1694,
        "start_time": "2023-07-13T15:45:28.291Z"
      },
      {
        "duration": 1317,
        "start_time": "2023-07-13T15:45:29.987Z"
      },
      {
        "duration": 15,
        "start_time": "2023-07-13T15:45:31.305Z"
      },
      {
        "duration": 123,
        "start_time": "2023-07-13T15:45:31.321Z"
      },
      {
        "duration": 2,
        "start_time": "2023-07-13T15:45:31.445Z"
      },
      {
        "duration": 298,
        "start_time": "2023-07-13T15:45:31.449Z"
      },
      {
        "duration": 74,
        "start_time": "2023-07-13T15:45:31.748Z"
      },
      {
        "duration": 75,
        "start_time": "2023-07-13T15:45:31.823Z"
      },
      {
        "duration": 4,
        "start_time": "2023-07-13T15:45:31.899Z"
      },
      {
        "duration": 19902,
        "start_time": "2023-07-13T15:45:31.904Z"
      },
      {
        "duration": 18,
        "start_time": "2023-07-13T15:45:51.808Z"
      },
      {
        "duration": 91,
        "start_time": "2023-07-13T15:45:51.828Z"
      },
      {
        "duration": 179,
        "start_time": "2023-07-13T15:45:51.920Z"
      },
      {
        "duration": 15,
        "start_time": "2023-07-13T15:45:52.102Z"
      },
      {
        "duration": 36,
        "start_time": "2023-07-13T15:45:52.118Z"
      },
      {
        "duration": 158,
        "start_time": "2023-07-13T15:45:52.155Z"
      },
      {
        "duration": 14,
        "start_time": "2023-07-13T15:45:52.315Z"
      },
      {
        "duration": 70,
        "start_time": "2023-07-13T15:45:52.330Z"
      },
      {
        "duration": 154,
        "start_time": "2023-07-13T15:45:52.402Z"
      },
      {
        "duration": 14,
        "start_time": "2023-07-13T15:45:52.557Z"
      },
      {
        "duration": 3763,
        "start_time": "2023-07-13T15:45:52.573Z"
      },
      {
        "duration": 17,
        "start_time": "2023-07-13T15:45:56.338Z"
      },
      {
        "duration": 4,
        "start_time": "2023-07-13T15:45:56.356Z"
      },
      {
        "duration": 17,
        "start_time": "2023-07-13T15:45:56.362Z"
      },
      {
        "duration": 32,
        "start_time": "2023-07-13T15:45:56.381Z"
      },
      {
        "duration": 170,
        "start_time": "2023-07-13T15:45:56.414Z"
      },
      {
        "duration": 19,
        "start_time": "2023-07-13T15:45:56.586Z"
      },
      {
        "duration": 7,
        "start_time": "2023-07-13T15:45:56.606Z"
      },
      {
        "duration": 26,
        "start_time": "2023-07-13T15:45:56.614Z"
      },
      {
        "duration": 23,
        "start_time": "2023-07-13T15:45:56.642Z"
      },
      {
        "duration": 3,
        "start_time": "2023-07-13T15:45:56.667Z"
      },
      {
        "duration": 30,
        "start_time": "2023-07-13T15:45:56.671Z"
      },
      {
        "duration": 22,
        "start_time": "2023-07-13T15:45:56.703Z"
      },
      {
        "duration": 3,
        "start_time": "2023-07-13T15:45:56.726Z"
      },
      {
        "duration": 128,
        "start_time": "2023-07-13T15:45:56.730Z"
      },
      {
        "duration": 26,
        "start_time": "2023-07-13T15:45:56.860Z"
      },
      {
        "duration": 388,
        "start_time": "2023-07-13T15:45:56.887Z"
      },
      {
        "duration": 299,
        "start_time": "2023-07-13T15:45:57.276Z"
      },
      {
        "duration": 984,
        "start_time": "2023-07-13T15:45:57.577Z"
      },
      {
        "duration": 3,
        "start_time": "2023-07-13T15:45:58.563Z"
      },
      {
        "duration": 13,
        "start_time": "2023-07-13T15:45:58.569Z"
      },
      {
        "duration": 631217,
        "start_time": "2023-07-13T15:45:58.584Z"
      },
      {
        "duration": 16,
        "start_time": "2023-07-13T15:56:29.802Z"
      },
      {
        "duration": 8,
        "start_time": "2023-07-13T15:56:29.820Z"
      },
      {
        "duration": 63283,
        "start_time": "2023-07-13T15:56:29.829Z"
      },
      {
        "duration": 202,
        "start_time": "2023-07-13T15:57:33.113Z"
      },
      {
        "duration": 202,
        "start_time": "2023-07-13T15:57:33.400Z"
      },
      {
        "duration": 3,
        "start_time": "2023-07-13T15:57:33.603Z"
      },
      {
        "duration": 170,
        "start_time": "2023-07-13T15:57:33.607Z"
      },
      {
        "duration": 526215,
        "start_time": "2023-07-13T15:57:33.779Z"
      },
      {
        "duration": 223185,
        "start_time": "2023-07-13T16:06:19.995Z"
      },
      {
        "duration": 235,
        "start_time": "2023-07-13T16:10:03.182Z"
      },
      {
        "duration": 221,
        "start_time": "2023-07-13T16:10:03.419Z"
      },
      {
        "duration": 3,
        "start_time": "2023-07-13T16:10:03.642Z"
      },
      {
        "duration": 2172,
        "start_time": "2023-07-13T16:10:03.646Z"
      },
      {
        "duration": 2,
        "start_time": "2023-07-13T16:10:05.820Z"
      },
      {
        "duration": 7,
        "start_time": "2023-07-13T16:10:05.824Z"
      },
      {
        "duration": 35369,
        "start_time": "2023-07-13T16:10:05.832Z"
      },
      {
        "duration": 17000,
        "start_time": "2023-07-13T16:10:41.202Z"
      },
      {
        "duration": 198,
        "start_time": "2023-07-13T16:10:58.203Z"
      },
      {
        "duration": 146,
        "start_time": "2023-07-13T16:10:58.403Z"
      },
      {
        "duration": 4,
        "start_time": "2023-07-13T16:10:58.601Z"
      },
      {
        "duration": 100,
        "start_time": "2023-07-13T16:10:58.607Z"
      },
      {
        "duration": 13,
        "start_time": "2023-07-13T16:10:58.709Z"
      },
      {
        "duration": 3,
        "start_time": "2023-07-13T16:13:15.494Z"
      },
      {
        "duration": 2,
        "start_time": "2023-07-13T16:13:54.811Z"
      },
      {
        "duration": 2,
        "start_time": "2023-07-13T16:14:19.717Z"
      },
      {
        "duration": 109,
        "start_time": "2023-07-13T16:14:23.001Z"
      },
      {
        "duration": 6,
        "start_time": "2023-07-13T16:14:23.155Z"
      },
      {
        "duration": 3,
        "start_time": "2023-07-13T16:14:34.701Z"
      },
      {
        "duration": 4,
        "start_time": "2023-07-13T16:14:36.725Z"
      },
      {
        "duration": 7,
        "start_time": "2023-07-13T16:14:38.305Z"
      },
      {
        "duration": 1702,
        "start_time": "2023-07-14T06:39:21.168Z"
      },
      {
        "duration": 1675,
        "start_time": "2023-07-14T06:39:22.873Z"
      },
      {
        "duration": 18,
        "start_time": "2023-07-14T06:39:24.550Z"
      },
      {
        "duration": 146,
        "start_time": "2023-07-14T06:39:24.570Z"
      },
      {
        "duration": 2,
        "start_time": "2023-07-14T06:39:24.718Z"
      },
      {
        "duration": 280,
        "start_time": "2023-07-14T06:39:24.722Z"
      },
      {
        "duration": 82,
        "start_time": "2023-07-14T06:39:25.004Z"
      },
      {
        "duration": 74,
        "start_time": "2023-07-14T06:39:25.087Z"
      },
      {
        "duration": 4,
        "start_time": "2023-07-14T06:39:25.163Z"
      },
      {
        "duration": 20891,
        "start_time": "2023-07-14T06:39:25.170Z"
      },
      {
        "duration": 23,
        "start_time": "2023-07-14T06:39:46.063Z"
      },
      {
        "duration": 90,
        "start_time": "2023-07-14T06:39:46.088Z"
      },
      {
        "duration": 225,
        "start_time": "2023-07-14T06:39:46.180Z"
      },
      {
        "duration": 19,
        "start_time": "2023-07-14T06:39:46.407Z"
      },
      {
        "duration": 52,
        "start_time": "2023-07-14T06:39:46.428Z"
      },
      {
        "duration": 181,
        "start_time": "2023-07-14T06:39:46.481Z"
      },
      {
        "duration": 16,
        "start_time": "2023-07-14T06:39:46.664Z"
      },
      {
        "duration": 98,
        "start_time": "2023-07-14T06:39:46.682Z"
      },
      {
        "duration": 4,
        "start_time": "2023-07-14T06:40:09.049Z"
      },
      {
        "duration": 3175,
        "start_time": "2023-07-14T06:40:09.054Z"
      },
      {
        "duration": 14,
        "start_time": "2023-07-14T06:40:12.230Z"
      },
      {
        "duration": 136,
        "start_time": "2023-07-14T06:40:12.246Z"
      },
      {
        "duration": 2,
        "start_time": "2023-07-14T06:40:12.384Z"
      },
      {
        "duration": 235,
        "start_time": "2023-07-14T06:40:12.388Z"
      },
      {
        "duration": 73,
        "start_time": "2023-07-14T06:40:12.624Z"
      },
      {
        "duration": 48,
        "start_time": "2023-07-14T06:40:12.699Z"
      },
      {
        "duration": 4,
        "start_time": "2023-07-14T06:40:12.758Z"
      },
      {
        "duration": 20933,
        "start_time": "2023-07-14T06:40:12.764Z"
      },
      {
        "duration": 17,
        "start_time": "2023-07-14T06:40:33.699Z"
      },
      {
        "duration": 78,
        "start_time": "2023-07-14T06:40:33.718Z"
      },
      {
        "duration": 193,
        "start_time": "2023-07-14T06:40:33.798Z"
      },
      {
        "duration": 18,
        "start_time": "2023-07-14T06:40:33.993Z"
      },
      {
        "duration": 28,
        "start_time": "2023-07-14T06:40:34.013Z"
      },
      {
        "duration": 229,
        "start_time": "2023-07-14T06:40:34.060Z"
      },
      {
        "duration": 19,
        "start_time": "2023-07-14T06:40:34.291Z"
      },
      {
        "duration": 29,
        "start_time": "2023-07-14T06:41:14.827Z"
      },
      {
        "duration": 33,
        "start_time": "2023-07-14T06:41:26.416Z"
      },
      {
        "duration": 32,
        "start_time": "2023-07-14T06:42:07.393Z"
      },
      {
        "duration": 61,
        "start_time": "2023-07-14T06:42:43.464Z"
      },
      {
        "duration": 56,
        "start_time": "2023-07-14T06:43:38.401Z"
      },
      {
        "duration": 55,
        "start_time": "2023-07-14T06:43:42.410Z"
      },
      {
        "duration": 26,
        "start_time": "2023-07-14T06:59:24.854Z"
      },
      {
        "duration": 235,
        "start_time": "2023-07-14T07:00:01.274Z"
      },
      {
        "duration": 201,
        "start_time": "2023-07-14T07:00:07.422Z"
      },
      {
        "duration": 4,
        "start_time": "2023-07-14T07:01:19.101Z"
      },
      {
        "duration": 1525,
        "start_time": "2023-07-14T07:01:19.107Z"
      },
      {
        "duration": 13,
        "start_time": "2023-07-14T07:01:20.634Z"
      },
      {
        "duration": 132,
        "start_time": "2023-07-14T07:01:20.659Z"
      },
      {
        "duration": 3,
        "start_time": "2023-07-14T07:01:20.793Z"
      },
      {
        "duration": 250,
        "start_time": "2023-07-14T07:01:20.798Z"
      },
      {
        "duration": 237,
        "start_time": "2023-07-14T07:01:28.617Z"
      },
      {
        "duration": 241,
        "start_time": "2023-07-14T07:01:33.126Z"
      },
      {
        "duration": 293,
        "start_time": "2023-07-14T07:02:23.441Z"
      },
      {
        "duration": 291,
        "start_time": "2023-07-14T07:02:32.833Z"
      },
      {
        "duration": 21,
        "start_time": "2023-07-14T07:04:03.000Z"
      },
      {
        "duration": 22,
        "start_time": "2023-07-14T07:04:16.498Z"
      },
      {
        "duration": 21,
        "start_time": "2023-07-14T07:04:32.436Z"
      },
      {
        "duration": 19,
        "start_time": "2023-07-14T07:04:47.692Z"
      },
      {
        "duration": 22,
        "start_time": "2023-07-14T07:04:59.322Z"
      },
      {
        "duration": 24,
        "start_time": "2023-07-14T07:05:58.991Z"
      },
      {
        "duration": 114,
        "start_time": "2023-07-14T07:06:38.561Z"
      },
      {
        "duration": 103,
        "start_time": "2023-07-14T07:06:44.457Z"
      },
      {
        "duration": 21,
        "start_time": "2023-07-14T07:07:00.625Z"
      },
      {
        "duration": 38,
        "start_time": "2023-07-14T07:34:08.477Z"
      },
      {
        "duration": 403,
        "start_time": "2023-07-14T07:34:39.499Z"
      },
      {
        "duration": 3063,
        "start_time": "2023-07-14T07:36:04.528Z"
      },
      {
        "duration": 81,
        "start_time": "2023-07-14T07:36:31.506Z"
      },
      {
        "duration": 20,
        "start_time": "2023-07-14T07:37:38.177Z"
      },
      {
        "duration": 2115,
        "start_time": "2023-07-14T07:37:50.941Z"
      },
      {
        "duration": 6,
        "start_time": "2023-07-14T07:37:53.059Z"
      },
      {
        "duration": 1529,
        "start_time": "2023-07-14T07:37:53.066Z"
      },
      {
        "duration": 15,
        "start_time": "2023-07-14T07:37:54.597Z"
      },
      {
        "duration": 133,
        "start_time": "2023-07-14T07:37:54.613Z"
      },
      {
        "duration": 2,
        "start_time": "2023-07-14T07:37:54.748Z"
      },
      {
        "duration": 219,
        "start_time": "2023-07-14T07:37:54.752Z"
      },
      {
        "duration": 251,
        "start_time": "2023-07-14T07:37:54.972Z"
      },
      {
        "duration": 302,
        "start_time": "2023-07-14T07:37:55.225Z"
      },
      {
        "duration": 19,
        "start_time": "2023-07-14T07:37:55.530Z"
      },
      {
        "duration": 48,
        "start_time": "2023-07-14T07:37:55.550Z"
      },
      {
        "duration": 33,
        "start_time": "2023-07-14T07:37:55.600Z"
      },
      {
        "duration": 46,
        "start_time": "2023-07-14T07:37:55.635Z"
      },
      {
        "duration": 37,
        "start_time": "2023-07-14T07:37:55.682Z"
      },
      {
        "duration": 46,
        "start_time": "2023-07-14T07:37:55.721Z"
      },
      {
        "duration": 75,
        "start_time": "2023-07-14T07:37:55.769Z"
      },
      {
        "duration": 52,
        "start_time": "2023-07-14T07:37:55.846Z"
      },
      {
        "duration": 11,
        "start_time": "2023-07-14T07:37:55.899Z"
      },
      {
        "duration": 21638,
        "start_time": "2023-07-14T07:37:55.911Z"
      },
      {
        "duration": 22,
        "start_time": "2023-07-14T07:38:17.551Z"
      },
      {
        "duration": 67,
        "start_time": "2023-07-14T07:38:17.575Z"
      },
      {
        "duration": 208,
        "start_time": "2023-07-14T07:38:17.643Z"
      },
      {
        "duration": 19,
        "start_time": "2023-07-14T07:38:17.858Z"
      },
      {
        "duration": 25,
        "start_time": "2023-07-14T07:38:17.878Z"
      },
      {
        "duration": 189,
        "start_time": "2023-07-14T07:38:17.905Z"
      },
      {
        "duration": 17,
        "start_time": "2023-07-14T07:38:18.096Z"
      },
      {
        "duration": 72,
        "start_time": "2023-07-14T07:38:18.115Z"
      },
      {
        "duration": 77,
        "start_time": "2023-07-14T07:38:18.192Z"
      },
      {
        "duration": 183,
        "start_time": "2023-07-14T07:38:18.270Z"
      },
      {
        "duration": 21,
        "start_time": "2023-07-14T07:38:18.455Z"
      },
      {
        "duration": 5042,
        "start_time": "2023-07-14T07:38:18.478Z"
      },
      {
        "duration": 19,
        "start_time": "2023-07-14T07:38:23.522Z"
      },
      {
        "duration": 17,
        "start_time": "2023-07-14T07:38:23.543Z"
      },
      {
        "duration": 18,
        "start_time": "2023-07-14T07:38:23.561Z"
      },
      {
        "duration": 28,
        "start_time": "2023-07-14T07:38:23.581Z"
      },
      {
        "duration": 194,
        "start_time": "2023-07-14T07:38:23.611Z"
      },
      {
        "duration": 14,
        "start_time": "2023-07-14T07:38:23.807Z"
      },
      {
        "duration": 6,
        "start_time": "2023-07-14T07:38:23.822Z"
      },
      {
        "duration": 41,
        "start_time": "2023-07-14T07:38:23.830Z"
      },
      {
        "duration": 27,
        "start_time": "2023-07-14T07:38:23.873Z"
      },
      {
        "duration": 5,
        "start_time": "2023-07-14T07:38:23.901Z"
      },
      {
        "duration": 13,
        "start_time": "2023-07-14T07:38:23.908Z"
      },
      {
        "duration": 36,
        "start_time": "2023-07-14T07:38:23.923Z"
      },
      {
        "duration": 3,
        "start_time": "2023-07-14T07:38:23.961Z"
      },
      {
        "duration": 157,
        "start_time": "2023-07-14T07:38:23.966Z"
      },
      {
        "duration": 49,
        "start_time": "2023-07-14T07:38:24.125Z"
      },
      {
        "duration": 404,
        "start_time": "2023-07-14T07:38:24.176Z"
      },
      {
        "duration": 357,
        "start_time": "2023-07-14T07:38:24.582Z"
      },
      {
        "duration": 1170,
        "start_time": "2023-07-14T07:38:24.941Z"
      },
      {
        "duration": 4,
        "start_time": "2023-07-14T07:38:46.396Z"
      },
      {
        "duration": 11,
        "start_time": "2023-07-14T07:39:13.537Z"
      },
      {
        "duration": 4,
        "start_time": "2023-07-14T07:40:32.066Z"
      },
      {
        "duration": 9,
        "start_time": "2023-07-14T07:40:44.556Z"
      },
      {
        "duration": 5,
        "start_time": "2023-07-14T07:42:01.407Z"
      },
      {
        "duration": 3,
        "start_time": "2023-07-14T07:44:05.006Z"
      },
      {
        "duration": 393,
        "start_time": "2023-07-14T07:44:08.495Z"
      },
      {
        "duration": 127,
        "start_time": "2023-07-14T07:44:15.333Z"
      },
      {
        "duration": 10,
        "start_time": "2023-07-14T07:45:13.905Z"
      },
      {
        "duration": 5,
        "start_time": "2023-07-14T07:45:20.656Z"
      },
      {
        "duration": 3,
        "start_time": "2023-07-14T07:46:08.374Z"
      },
      {
        "duration": 13,
        "start_time": "2023-07-14T07:46:26.216Z"
      },
      {
        "duration": 725,
        "start_time": "2023-07-14T07:47:50.378Z"
      },
      {
        "duration": 614,
        "start_time": "2023-07-14T07:48:37.301Z"
      },
      {
        "duration": 29,
        "start_time": "2023-07-14T07:48:43.813Z"
      },
      {
        "duration": 26,
        "start_time": "2023-07-14T07:48:51.745Z"
      },
      {
        "duration": 4,
        "start_time": "2023-07-14T07:49:43.860Z"
      },
      {
        "duration": 14,
        "start_time": "2023-07-14T07:57:53.858Z"
      },
      {
        "duration": 10,
        "start_time": "2023-07-14T07:58:36.217Z"
      },
      {
        "duration": 4,
        "start_time": "2023-07-14T07:58:48.272Z"
      },
      {
        "duration": 3,
        "start_time": "2023-07-14T07:59:08.244Z"
      },
      {
        "duration": 3,
        "start_time": "2023-07-14T07:59:27.342Z"
      },
      {
        "duration": 5,
        "start_time": "2023-07-14T07:59:32.822Z"
      },
      {
        "duration": 3,
        "start_time": "2023-07-14T08:00:12.037Z"
      },
      {
        "duration": 281,
        "start_time": "2023-07-14T08:00:20.463Z"
      },
      {
        "duration": 137,
        "start_time": "2023-07-14T08:00:26.625Z"
      },
      {
        "duration": 29,
        "start_time": "2023-07-14T08:00:30.457Z"
      },
      {
        "duration": 3,
        "start_time": "2023-07-14T08:00:41.476Z"
      },
      {
        "duration": 1506,
        "start_time": "2023-07-14T08:00:42.656Z"
      },
      {
        "duration": 419,
        "start_time": "2023-07-14T08:02:36.344Z"
      },
      {
        "duration": 12,
        "start_time": "2023-07-14T08:02:40.585Z"
      },
      {
        "duration": 10,
        "start_time": "2023-07-14T08:02:42.755Z"
      },
      {
        "duration": 2189,
        "start_time": "2023-07-14T09:18:27.390Z"
      },
      {
        "duration": 5,
        "start_time": "2023-07-14T09:18:29.581Z"
      },
      {
        "duration": 1723,
        "start_time": "2023-07-14T09:18:29.587Z"
      },
      {
        "duration": 15,
        "start_time": "2023-07-14T09:18:31.313Z"
      },
      {
        "duration": 162,
        "start_time": "2023-07-14T09:18:31.329Z"
      },
      {
        "duration": 13,
        "start_time": "2023-07-14T09:18:31.493Z"
      },
      {
        "duration": 242,
        "start_time": "2023-07-14T09:18:31.508Z"
      },
      {
        "duration": 313,
        "start_time": "2023-07-14T09:18:31.752Z"
      },
      {
        "duration": 304,
        "start_time": "2023-07-14T09:18:32.067Z"
      },
      {
        "duration": 20,
        "start_time": "2023-07-14T09:18:32.374Z"
      },
      {
        "duration": 69,
        "start_time": "2023-07-14T09:18:32.396Z"
      },
      {
        "duration": 50,
        "start_time": "2023-07-14T09:18:32.467Z"
      },
      {
        "duration": 39,
        "start_time": "2023-07-14T09:18:32.519Z"
      },
      {
        "duration": 34,
        "start_time": "2023-07-14T09:18:32.560Z"
      },
      {
        "duration": 43,
        "start_time": "2023-07-14T09:18:32.596Z"
      },
      {
        "duration": 95,
        "start_time": "2023-07-14T09:18:32.640Z"
      },
      {
        "duration": 51,
        "start_time": "2023-07-14T09:18:32.737Z"
      },
      {
        "duration": 38,
        "start_time": "2023-07-14T09:18:32.790Z"
      },
      {
        "duration": 2551,
        "start_time": "2023-07-14T09:18:32.829Z"
      },
      {
        "duration": 0,
        "start_time": "2023-07-14T09:18:35.383Z"
      },
      {
        "duration": 0,
        "start_time": "2023-07-14T09:18:35.385Z"
      },
      {
        "duration": 0,
        "start_time": "2023-07-14T09:18:35.386Z"
      },
      {
        "duration": 0,
        "start_time": "2023-07-14T09:18:35.387Z"
      },
      {
        "duration": 0,
        "start_time": "2023-07-14T09:18:35.388Z"
      },
      {
        "duration": 0,
        "start_time": "2023-07-14T09:18:35.389Z"
      },
      {
        "duration": 0,
        "start_time": "2023-07-14T09:18:35.390Z"
      },
      {
        "duration": 0,
        "start_time": "2023-07-14T09:18:35.391Z"
      },
      {
        "duration": 0,
        "start_time": "2023-07-14T09:18:35.392Z"
      },
      {
        "duration": 0,
        "start_time": "2023-07-14T09:18:35.393Z"
      },
      {
        "duration": 0,
        "start_time": "2023-07-14T09:18:35.394Z"
      },
      {
        "duration": 0,
        "start_time": "2023-07-14T09:18:35.396Z"
      },
      {
        "duration": 0,
        "start_time": "2023-07-14T09:18:35.396Z"
      },
      {
        "duration": 0,
        "start_time": "2023-07-14T09:18:35.397Z"
      },
      {
        "duration": 0,
        "start_time": "2023-07-14T09:18:35.398Z"
      },
      {
        "duration": 0,
        "start_time": "2023-07-14T09:18:35.399Z"
      },
      {
        "duration": 0,
        "start_time": "2023-07-14T09:18:35.401Z"
      },
      {
        "duration": 0,
        "start_time": "2023-07-14T09:18:35.402Z"
      },
      {
        "duration": 0,
        "start_time": "2023-07-14T09:18:35.403Z"
      },
      {
        "duration": 0,
        "start_time": "2023-07-14T09:18:35.404Z"
      },
      {
        "duration": 0,
        "start_time": "2023-07-14T09:18:35.405Z"
      },
      {
        "duration": 0,
        "start_time": "2023-07-14T09:18:35.406Z"
      },
      {
        "duration": 0,
        "start_time": "2023-07-14T09:18:35.407Z"
      },
      {
        "duration": 0,
        "start_time": "2023-07-14T09:18:35.408Z"
      },
      {
        "duration": 0,
        "start_time": "2023-07-14T09:18:35.409Z"
      },
      {
        "duration": 0,
        "start_time": "2023-07-14T09:18:35.410Z"
      },
      {
        "duration": 0,
        "start_time": "2023-07-14T09:18:35.411Z"
      },
      {
        "duration": 0,
        "start_time": "2023-07-14T09:18:35.412Z"
      },
      {
        "duration": 0,
        "start_time": "2023-07-14T09:18:35.459Z"
      },
      {
        "duration": 0,
        "start_time": "2023-07-14T09:18:35.460Z"
      },
      {
        "duration": 0,
        "start_time": "2023-07-14T09:18:35.461Z"
      },
      {
        "duration": 0,
        "start_time": "2023-07-14T09:18:35.462Z"
      },
      {
        "duration": 0,
        "start_time": "2023-07-14T09:18:35.463Z"
      },
      {
        "duration": 0,
        "start_time": "2023-07-14T09:18:35.464Z"
      },
      {
        "duration": 0,
        "start_time": "2023-07-14T09:18:35.466Z"
      },
      {
        "duration": 0,
        "start_time": "2023-07-14T09:18:35.466Z"
      },
      {
        "duration": 0,
        "start_time": "2023-07-14T09:18:35.467Z"
      },
      {
        "duration": 0,
        "start_time": "2023-07-14T09:18:35.468Z"
      },
      {
        "duration": 0,
        "start_time": "2023-07-14T09:18:35.469Z"
      },
      {
        "duration": 0,
        "start_time": "2023-07-14T09:18:35.470Z"
      },
      {
        "duration": 0,
        "start_time": "2023-07-14T09:18:35.471Z"
      },
      {
        "duration": 0,
        "start_time": "2023-07-14T09:18:35.472Z"
      },
      {
        "duration": 0,
        "start_time": "2023-07-14T09:18:35.473Z"
      },
      {
        "duration": 0,
        "start_time": "2023-07-14T09:18:35.474Z"
      },
      {
        "duration": 0,
        "start_time": "2023-07-14T09:18:35.475Z"
      },
      {
        "duration": 0,
        "start_time": "2023-07-14T09:18:35.476Z"
      },
      {
        "duration": 0,
        "start_time": "2023-07-14T09:18:35.477Z"
      },
      {
        "duration": 0,
        "start_time": "2023-07-14T09:18:35.478Z"
      },
      {
        "duration": 0,
        "start_time": "2023-07-14T09:18:35.479Z"
      },
      {
        "duration": 0,
        "start_time": "2023-07-14T09:18:35.480Z"
      },
      {
        "duration": 0,
        "start_time": "2023-07-14T09:18:35.481Z"
      },
      {
        "duration": 0,
        "start_time": "2023-07-14T09:18:35.482Z"
      },
      {
        "duration": 0,
        "start_time": "2023-07-14T09:18:35.483Z"
      },
      {
        "duration": 0,
        "start_time": "2023-07-14T09:18:35.484Z"
      },
      {
        "duration": 0,
        "start_time": "2023-07-14T09:18:35.485Z"
      },
      {
        "duration": 0,
        "start_time": "2023-07-14T09:18:35.486Z"
      },
      {
        "duration": 0,
        "start_time": "2023-07-14T09:18:35.487Z"
      },
      {
        "duration": 0,
        "start_time": "2023-07-14T09:18:35.488Z"
      },
      {
        "duration": 0,
        "start_time": "2023-07-14T09:18:35.489Z"
      },
      {
        "duration": 0,
        "start_time": "2023-07-14T09:18:35.490Z"
      },
      {
        "duration": 0,
        "start_time": "2023-07-14T09:18:35.491Z"
      },
      {
        "duration": 0,
        "start_time": "2023-07-14T09:18:35.492Z"
      },
      {
        "duration": 0,
        "start_time": "2023-07-14T09:18:35.493Z"
      },
      {
        "duration": 2170,
        "start_time": "2023-07-14T09:18:42.580Z"
      },
      {
        "duration": 1623,
        "start_time": "2023-07-14T09:18:44.753Z"
      },
      {
        "duration": 1506,
        "start_time": "2023-07-14T09:18:46.377Z"
      },
      {
        "duration": 17,
        "start_time": "2023-07-14T09:18:47.885Z"
      },
      {
        "duration": 137,
        "start_time": "2023-07-14T09:18:47.903Z"
      },
      {
        "duration": 3,
        "start_time": "2023-07-14T09:18:48.042Z"
      },
      {
        "duration": 307,
        "start_time": "2023-07-14T09:18:48.047Z"
      },
      {
        "duration": 299,
        "start_time": "2023-07-14T09:18:48.355Z"
      },
      {
        "duration": 362,
        "start_time": "2023-07-14T09:18:48.658Z"
      },
      {
        "duration": 19,
        "start_time": "2023-07-14T09:18:49.023Z"
      },
      {
        "duration": 32,
        "start_time": "2023-07-14T09:18:49.044Z"
      },
      {
        "duration": 25,
        "start_time": "2023-07-14T09:18:49.078Z"
      },
      {
        "duration": 38,
        "start_time": "2023-07-14T09:18:49.106Z"
      },
      {
        "duration": 32,
        "start_time": "2023-07-14T09:18:49.146Z"
      },
      {
        "duration": 32,
        "start_time": "2023-07-14T09:18:49.179Z"
      },
      {
        "duration": 90,
        "start_time": "2023-07-14T09:18:49.213Z"
      },
      {
        "duration": 67,
        "start_time": "2023-07-14T09:18:49.305Z"
      },
      {
        "duration": 4,
        "start_time": "2023-07-14T09:18:49.374Z"
      },
      {
        "duration": 21096,
        "start_time": "2023-07-14T09:18:49.379Z"
      },
      {
        "duration": 18,
        "start_time": "2023-07-14T09:19:10.477Z"
      },
      {
        "duration": 78,
        "start_time": "2023-07-14T09:19:10.497Z"
      },
      {
        "duration": 205,
        "start_time": "2023-07-14T09:19:10.577Z"
      },
      {
        "duration": 18,
        "start_time": "2023-07-14T09:19:10.784Z"
      },
      {
        "duration": 32,
        "start_time": "2023-07-14T09:19:10.803Z"
      },
      {
        "duration": 184,
        "start_time": "2023-07-14T09:19:10.838Z"
      },
      {
        "duration": 17,
        "start_time": "2023-07-14T09:19:11.024Z"
      },
      {
        "duration": 68,
        "start_time": "2023-07-14T09:19:11.042Z"
      },
      {
        "duration": 181,
        "start_time": "2023-07-14T09:19:11.114Z"
      },
      {
        "duration": 194,
        "start_time": "2023-07-14T09:19:11.297Z"
      },
      {
        "duration": 18,
        "start_time": "2023-07-14T09:19:11.492Z"
      },
      {
        "duration": 4240,
        "start_time": "2023-07-14T09:19:11.512Z"
      },
      {
        "duration": 22,
        "start_time": "2023-07-14T09:19:15.754Z"
      },
      {
        "duration": 6,
        "start_time": "2023-07-14T09:19:15.777Z"
      },
      {
        "duration": 29,
        "start_time": "2023-07-14T09:19:15.784Z"
      },
      {
        "duration": 21,
        "start_time": "2023-07-14T09:19:15.815Z"
      },
      {
        "duration": 213,
        "start_time": "2023-07-14T09:19:15.837Z"
      },
      {
        "duration": 18,
        "start_time": "2023-07-14T09:19:16.052Z"
      },
      {
        "duration": 12,
        "start_time": "2023-07-14T09:19:16.072Z"
      },
      {
        "duration": 23,
        "start_time": "2023-07-14T09:19:16.086Z"
      },
      {
        "duration": 62,
        "start_time": "2023-07-14T09:19:16.111Z"
      },
      {
        "duration": 5,
        "start_time": "2023-07-14T09:19:16.175Z"
      },
      {
        "duration": 11,
        "start_time": "2023-07-14T09:19:16.182Z"
      },
      {
        "duration": 24,
        "start_time": "2023-07-14T09:19:16.195Z"
      },
      {
        "duration": 3,
        "start_time": "2023-07-14T09:19:16.221Z"
      },
      {
        "duration": 173,
        "start_time": "2023-07-14T09:19:16.226Z"
      },
      {
        "duration": 34,
        "start_time": "2023-07-14T09:19:16.401Z"
      },
      {
        "duration": 389,
        "start_time": "2023-07-14T09:19:16.437Z"
      },
      {
        "duration": 366,
        "start_time": "2023-07-14T09:19:16.827Z"
      },
      {
        "duration": 1210,
        "start_time": "2023-07-14T09:19:17.195Z"
      },
      {
        "duration": 3,
        "start_time": "2023-07-14T09:19:18.407Z"
      },
      {
        "duration": 13,
        "start_time": "2023-07-14T09:19:18.412Z"
      },
      {
        "duration": 26648,
        "start_time": "2023-07-14T09:19:18.427Z"
      },
      {
        "duration": 95,
        "start_time": "2023-07-14T09:19:45.076Z"
      },
      {
        "duration": 16,
        "start_time": "2023-07-14T09:19:45.173Z"
      },
      {
        "duration": 2286,
        "start_time": "2023-07-14T09:19:45.191Z"
      },
      {
        "duration": 26,
        "start_time": "2023-07-14T09:19:47.560Z"
      },
      {
        "duration": 28,
        "start_time": "2023-07-14T09:19:47.659Z"
      },
      {
        "duration": 3,
        "start_time": "2023-07-14T09:19:47.759Z"
      },
      {
        "duration": 151,
        "start_time": "2023-07-14T09:19:47.763Z"
      },
      {
        "duration": 585532,
        "start_time": "2023-07-14T09:19:47.915Z"
      },
      {
        "duration": 247969,
        "start_time": "2023-07-14T09:29:33.449Z"
      },
      {
        "duration": 265,
        "start_time": "2023-07-14T09:33:41.420Z"
      },
      {
        "duration": 281,
        "start_time": "2023-07-14T09:33:41.687Z"
      },
      {
        "duration": 2,
        "start_time": "2023-07-14T09:33:41.970Z"
      },
      {
        "duration": 19,
        "start_time": "2023-07-14T09:33:41.974Z"
      },
      {
        "duration": 11,
        "start_time": "2023-07-14T09:33:41.995Z"
      },
      {
        "duration": 482,
        "start_time": "2023-07-14T09:33:42.008Z"
      },
      {
        "duration": 4,
        "start_time": "2023-07-14T09:33:42.492Z"
      },
      {
        "duration": 659,
        "start_time": "2023-07-14T09:33:42.497Z"
      },
      {
        "duration": 24,
        "start_time": "2023-07-14T09:33:43.158Z"
      },
      {
        "duration": 24,
        "start_time": "2023-07-14T09:33:43.183Z"
      },
      {
        "duration": 27,
        "start_time": "2023-07-14T09:33:43.209Z"
      },
      {
        "duration": 304,
        "start_time": "2023-07-14T09:33:43.238Z"
      },
      {
        "duration": 28,
        "start_time": "2023-07-14T09:33:43.544Z"
      },
      {
        "duration": 2,
        "start_time": "2023-07-14T09:33:43.574Z"
      },
      {
        "duration": 1385,
        "start_time": "2023-07-14T09:33:43.577Z"
      },
      {
        "duration": 512,
        "start_time": "2023-07-14T09:33:44.964Z"
      },
      {
        "duration": 85,
        "start_time": "2023-07-14T09:33:45.479Z"
      },
      {
        "duration": 99,
        "start_time": "2023-07-14T09:33:45.566Z"
      },
      {
        "duration": 93,
        "start_time": "2023-07-14T09:33:45.667Z"
      },
      {
        "duration": 5,
        "start_time": "2023-07-14T09:33:45.763Z"
      },
      {
        "duration": 9,
        "start_time": "2023-07-14T09:33:45.859Z"
      }
    ],
    "kernelspec": {
      "display_name": "Python 3 (ipykernel)",
      "language": "python",
      "name": "python3"
    },
    "language_info": {
      "codemirror_mode": {
        "name": "ipython",
        "version": 3
      },
      "file_extension": ".py",
      "mimetype": "text/x-python",
      "name": "python",
      "nbconvert_exporter": "python",
      "pygments_lexer": "ipython3",
      "version": "3.11.2"
    },
    "toc": {
      "base_numbering": 1,
      "nav_menu": {},
      "number_sections": true,
      "sideBar": true,
      "skip_h1_title": true,
      "title_cell": "Table of Contents",
      "title_sidebar": "Contents",
      "toc_cell": false,
      "toc_position": {},
      "toc_section_display": true,
      "toc_window_display": true
    },
    "colab": {
      "provenance": []
    }
  },
  "nbformat": 4,
  "nbformat_minor": 0
}